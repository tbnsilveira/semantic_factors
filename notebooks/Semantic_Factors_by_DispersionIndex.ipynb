{
 "cells": [
  {
   "cell_type": "markdown",
   "metadata": {
    "tags": []
   },
   "source": [
    "# Semantic Factors by Dispersion Index\n",
    "This notebook aims for an exploratory factor analysis of \"The Glasgow Norm\" -- a database with 5.553 English words classified into nine psycholinguistics dimensions.  \n",
    "\n",
    "This notebook makes use of the dataset prepared in previous analysis."
   ]
  },
  {
   "cell_type": "markdown",
   "metadata": {
    "tags": []
   },
   "source": [
    "## Introduction"
   ]
  },
  {
   "cell_type": "markdown",
   "metadata": {},
   "source": [
    "### Libraries"
   ]
  },
  {
   "cell_type": "code",
   "execution_count": 1,
   "metadata": {
    "ExecuteTime": {
     "end_time": "2022-11-12T22:37:14.251208Z",
     "start_time": "2022-11-12T22:37:14.073574Z"
    }
   },
   "outputs": [],
   "source": [
    "## Data analysis packages:\n",
    "import pandas as pd\n",
    "import numpy as np\n",
    "from math import isnan  #Verifies if a given valu e is numerical."
   ]
  },
  {
   "cell_type": "code",
   "execution_count": 2,
   "metadata": {
    "ExecuteTime": {
     "end_time": "2022-11-12T22:37:15.470110Z",
     "start_time": "2022-11-12T22:37:14.895488Z"
    }
   },
   "outputs": [],
   "source": [
    "## Visualization packages:\n",
    "import seaborn as sns\n",
    "import matplotlib.pyplot as plt\n",
    "%matplotlib inline"
   ]
  },
  {
   "cell_type": "code",
   "execution_count": 3,
   "metadata": {
    "ExecuteTime": {
     "end_time": "2022-11-12T22:37:16.581587Z",
     "start_time": "2022-11-12T22:37:16.459130Z"
    }
   },
   "outputs": [],
   "source": [
    "## Plotly Express\n",
    "import plotly.graph_objs as go\n",
    "import plotly"
   ]
  },
  {
   "cell_type": "markdown",
   "metadata": {},
   "source": [
    "### Definitions"
   ]
  },
  {
   "cell_type": "code",
   "execution_count": 4,
   "metadata": {
    "ExecuteTime": {
     "end_time": "2022-04-28T22:15:12.656866Z",
     "start_time": "2022-04-28T22:15:12.612272Z"
    }
   },
   "outputs": [],
   "source": [
    "## Forcing Pandas to display any number of elements\n",
    "pd.set_option('display.max_columns', None)\n",
    "pd.set_option('display.max_rows', 1000)\n",
    "pd.options.display.max_seq_items = 15000"
   ]
  },
  {
   "cell_type": "markdown",
   "metadata": {},
   "source": [
    "## DataPrep"
   ]
  },
  {
   "cell_type": "markdown",
   "metadata": {
    "tags": []
   },
   "source": [
    "### Importing \"The Glasgow Norms\" dataset\n",
    "Available at https://doi.org/10.3758/s13428-018-1099-3.  \n",
    "The Glasgow Norms are a set of normative ratings for 5,553 English words on nine psycholinguistic dimensions: arousal, valence, dominance, concreteness, imageability, familiarity, age of acquisition, semantic size, and gender association."
   ]
  },
  {
   "cell_type": "code",
   "execution_count": 5,
   "metadata": {
    "ExecuteTime": {
     "end_time": "2022-04-28T22:25:23.492830Z",
     "start_time": "2022-04-28T22:25:23.396543Z"
    }
   },
   "outputs": [],
   "source": [
    "## Reading the dataset file:\n",
    "## -> header=[0,1] parameters indicates that rows [0,1] must be considered as dataset header.\n",
    "glasgow = pd.read_csv('../data/GlasgowR_pandas_ready.csv')"
   ]
  },
  {
   "cell_type": "code",
   "execution_count": 7,
   "metadata": {
    "ExecuteTime": {
     "end_time": "2022-04-28T22:25:26.744807Z",
     "start_time": "2022-04-28T22:25:26.648652Z"
    }
   },
   "outputs": [
    {
     "data": {
      "text/html": [
       "<div>\n",
       "<style scoped>\n",
       "    .dataframe tbody tr th:only-of-type {\n",
       "        vertical-align: middle;\n",
       "    }\n",
       "\n",
       "    .dataframe tbody tr th {\n",
       "        vertical-align: top;\n",
       "    }\n",
       "\n",
       "    .dataframe thead th {\n",
       "        text-align: right;\n",
       "    }\n",
       "</style>\n",
       "<table border=\"1\" class=\"dataframe\">\n",
       "  <thead>\n",
       "    <tr style=\"text-align: right;\">\n",
       "      <th></th>\n",
       "      <th>words</th>\n",
       "      <th>length</th>\n",
       "      <th>AROU_M</th>\n",
       "      <th>AROU_SD</th>\n",
       "      <th>AROU_N</th>\n",
       "      <th>VAL_M</th>\n",
       "      <th>VAL_SD</th>\n",
       "      <th>VAL_N</th>\n",
       "      <th>DOM_M</th>\n",
       "      <th>DOM_SD</th>\n",
       "      <th>DOM_N</th>\n",
       "      <th>CNC_M</th>\n",
       "      <th>CNC_SD</th>\n",
       "      <th>CNC_N</th>\n",
       "      <th>IMAG_M</th>\n",
       "      <th>IMAG_SD</th>\n",
       "      <th>IMAG_N</th>\n",
       "      <th>FAM_M</th>\n",
       "      <th>FAM_SD</th>\n",
       "      <th>FAM_N</th>\n",
       "      <th>AOA_M</th>\n",
       "      <th>AOA_SD</th>\n",
       "      <th>AOA_N</th>\n",
       "      <th>SIZE_M</th>\n",
       "      <th>SIZE_SD</th>\n",
       "      <th>SIZE_N</th>\n",
       "      <th>GEND_M</th>\n",
       "      <th>GEND_SD</th>\n",
       "      <th>GEND_N</th>\n",
       "    </tr>\n",
       "  </thead>\n",
       "  <tbody>\n",
       "    <tr>\n",
       "      <th>0</th>\n",
       "      <td>abattoir</td>\n",
       "      <td>8</td>\n",
       "      <td>4.200</td>\n",
       "      <td>2.400</td>\n",
       "      <td>25</td>\n",
       "      <td>2.864</td>\n",
       "      <td>1.740</td>\n",
       "      <td>22</td>\n",
       "      <td>4.333</td>\n",
       "      <td>1.285</td>\n",
       "      <td>21</td>\n",
       "      <td>5.455</td>\n",
       "      <td>1.900</td>\n",
       "      <td>22</td>\n",
       "      <td>4.391</td>\n",
       "      <td>2.121</td>\n",
       "      <td>23</td>\n",
       "      <td>2.382</td>\n",
       "      <td>1.799</td>\n",
       "      <td>34</td>\n",
       "      <td>6.760</td>\n",
       "      <td>0.427</td>\n",
       "      <td>25</td>\n",
       "      <td>4.652</td>\n",
       "      <td>1.549</td>\n",
       "      <td>23</td>\n",
       "      <td>5.391</td>\n",
       "      <td>1.170</td>\n",
       "      <td>23</td>\n",
       "    </tr>\n",
       "    <tr>\n",
       "      <th>1</th>\n",
       "      <td>abbey</td>\n",
       "      <td>5</td>\n",
       "      <td>3.125</td>\n",
       "      <td>2.342</td>\n",
       "      <td>32</td>\n",
       "      <td>5.781</td>\n",
       "      <td>1.268</td>\n",
       "      <td>32</td>\n",
       "      <td>4.667</td>\n",
       "      <td>1.551</td>\n",
       "      <td>33</td>\n",
       "      <td>5.906</td>\n",
       "      <td>1.508</td>\n",
       "      <td>32</td>\n",
       "      <td>5.344</td>\n",
       "      <td>1.881</td>\n",
       "      <td>32</td>\n",
       "      <td>3.324</td>\n",
       "      <td>1.810</td>\n",
       "      <td>34</td>\n",
       "      <td>5.177</td>\n",
       "      <td>1.339</td>\n",
       "      <td>34</td>\n",
       "      <td>5.121</td>\n",
       "      <td>1.629</td>\n",
       "      <td>33</td>\n",
       "      <td>3.303</td>\n",
       "      <td>1.193</td>\n",
       "      <td>33</td>\n",
       "    </tr>\n",
       "    <tr>\n",
       "      <th>2</th>\n",
       "      <td>abbreviate</td>\n",
       "      <td>10</td>\n",
       "      <td>3.273</td>\n",
       "      <td>1.582</td>\n",
       "      <td>33</td>\n",
       "      <td>5.250</td>\n",
       "      <td>1.031</td>\n",
       "      <td>32</td>\n",
       "      <td>5.235</td>\n",
       "      <td>1.238</td>\n",
       "      <td>34</td>\n",
       "      <td>3.286</td>\n",
       "      <td>1.733</td>\n",
       "      <td>35</td>\n",
       "      <td>3.177</td>\n",
       "      <td>1.689</td>\n",
       "      <td>34</td>\n",
       "      <td>5.121</td>\n",
       "      <td>1.838</td>\n",
       "      <td>33</td>\n",
       "      <td>5.543</td>\n",
       "      <td>1.130</td>\n",
       "      <td>35</td>\n",
       "      <td>2.667</td>\n",
       "      <td>1.700</td>\n",
       "      <td>33</td>\n",
       "      <td>3.971</td>\n",
       "      <td>0.954</td>\n",
       "      <td>34</td>\n",
       "    </tr>\n",
       "    <tr>\n",
       "      <th>3</th>\n",
       "      <td>abdicate</td>\n",
       "      <td>8</td>\n",
       "      <td>4.194</td>\n",
       "      <td>1.941</td>\n",
       "      <td>31</td>\n",
       "      <td>3.767</td>\n",
       "      <td>1.383</td>\n",
       "      <td>30</td>\n",
       "      <td>4.419</td>\n",
       "      <td>2.182</td>\n",
       "      <td>31</td>\n",
       "      <td>3.367</td>\n",
       "      <td>1.853</td>\n",
       "      <td>30</td>\n",
       "      <td>2.516</td>\n",
       "      <td>1.521</td>\n",
       "      <td>31</td>\n",
       "      <td>3.971</td>\n",
       "      <td>2.077</td>\n",
       "      <td>35</td>\n",
       "      <td>6.233</td>\n",
       "      <td>0.844</td>\n",
       "      <td>30</td>\n",
       "      <td>4.679</td>\n",
       "      <td>1.441</td>\n",
       "      <td>28</td>\n",
       "      <td>5.167</td>\n",
       "      <td>1.186</td>\n",
       "      <td>30</td>\n",
       "    </tr>\n",
       "    <tr>\n",
       "      <th>4</th>\n",
       "      <td>abdication</td>\n",
       "      <td>10</td>\n",
       "      <td>3.846</td>\n",
       "      <td>2.282</td>\n",
       "      <td>26</td>\n",
       "      <td>3.880</td>\n",
       "      <td>1.608</td>\n",
       "      <td>25</td>\n",
       "      <td>4.800</td>\n",
       "      <td>1.960</td>\n",
       "      <td>25</td>\n",
       "      <td>3.292</td>\n",
       "      <td>1.620</td>\n",
       "      <td>24</td>\n",
       "      <td>2.571</td>\n",
       "      <td>1.294</td>\n",
       "      <td>28</td>\n",
       "      <td>3.097</td>\n",
       "      <td>2.022</td>\n",
       "      <td>31</td>\n",
       "      <td>6.407</td>\n",
       "      <td>0.913</td>\n",
       "      <td>27</td>\n",
       "      <td>5.083</td>\n",
       "      <td>1.351</td>\n",
       "      <td>24</td>\n",
       "      <td>4.571</td>\n",
       "      <td>1.015</td>\n",
       "      <td>28</td>\n",
       "    </tr>\n",
       "  </tbody>\n",
       "</table>\n",
       "</div>"
      ],
      "text/plain": [
       "        words  length  AROU_M  AROU_SD  AROU_N  VAL_M  VAL_SD  VAL_N  DOM_M  \\\n",
       "0    abattoir       8   4.200    2.400      25  2.864   1.740     22  4.333   \n",
       "1       abbey       5   3.125    2.342      32  5.781   1.268     32  4.667   \n",
       "2  abbreviate      10   3.273    1.582      33  5.250   1.031     32  5.235   \n",
       "3    abdicate       8   4.194    1.941      31  3.767   1.383     30  4.419   \n",
       "4  abdication      10   3.846    2.282      26  3.880   1.608     25  4.800   \n",
       "\n",
       "   DOM_SD  DOM_N  CNC_M  CNC_SD  CNC_N  IMAG_M  IMAG_SD  IMAG_N  FAM_M  \\\n",
       "0   1.285     21  5.455   1.900     22   4.391    2.121      23  2.382   \n",
       "1   1.551     33  5.906   1.508     32   5.344    1.881      32  3.324   \n",
       "2   1.238     34  3.286   1.733     35   3.177    1.689      34  5.121   \n",
       "3   2.182     31  3.367   1.853     30   2.516    1.521      31  3.971   \n",
       "4   1.960     25  3.292   1.620     24   2.571    1.294      28  3.097   \n",
       "\n",
       "   FAM_SD  FAM_N  AOA_M  AOA_SD  AOA_N  SIZE_M  SIZE_SD  SIZE_N  GEND_M  \\\n",
       "0   1.799     34  6.760   0.427     25   4.652    1.549      23   5.391   \n",
       "1   1.810     34  5.177   1.339     34   5.121    1.629      33   3.303   \n",
       "2   1.838     33  5.543   1.130     35   2.667    1.700      33   3.971   \n",
       "3   2.077     35  6.233   0.844     30   4.679    1.441      28   5.167   \n",
       "4   2.022     31  6.407   0.913     27   5.083    1.351      24   4.571   \n",
       "\n",
       "   GEND_SD  GEND_N  \n",
       "0    1.170      23  \n",
       "1    1.193      33  \n",
       "2    0.954      34  \n",
       "3    1.186      30  \n",
       "4    1.015      28  "
      ]
     },
     "execution_count": 7,
     "metadata": {},
     "output_type": "execute_result"
    }
   ],
   "source": [
    "glasgow.head()"
   ]
  },
  {
   "cell_type": "markdown",
   "metadata": {},
   "source": [
    "Setting the columns \"words\" as dataframe index:"
   ]
  },
  {
   "cell_type": "code",
   "execution_count": 8,
   "metadata": {},
   "outputs": [],
   "source": [
    "glasgow.set_index('words', inplace=True)"
   ]
  },
  {
   "cell_type": "markdown",
   "metadata": {},
   "source": [
    "----\n",
    "### Segmenting the database into variables of interest"
   ]
  },
  {
   "cell_type": "code",
   "execution_count": 9,
   "metadata": {},
   "outputs": [],
   "source": [
    "import re"
   ]
  },
  {
   "cell_type": "code",
   "execution_count": 10,
   "metadata": {
    "ExecuteTime": {
     "end_time": "2022-04-28T22:26:18.492577Z",
     "start_time": "2022-04-28T22:26:18.488063Z"
    },
    "scrolled": true
   },
   "outputs": [],
   "source": [
    "## Listing only columns related to _M (mean) and _SD (standard deviation)\n",
    "interest = ['AROU_M', 'AROU_SD',\n",
    "                   'VAL_M', 'VAL_SD',\n",
    "                   'DOM_M', 'DOM_SD',\n",
    "                   'CNC_M', 'CNC_SD',\n",
    "                   'IMAG_M', 'IMAG_SD',\n",
    "                   'FAM_M', 'FAM_SD',\n",
    "                   'AOA_M', 'AOA_SD',\n",
    "                   'SIZE_M', 'SIZE_SD',\n",
    "                   'GEND_M', 'GEND_SD']"
   ]
  },
  {
   "cell_type": "markdown",
   "metadata": {},
   "source": [
    "### Selecting only columns related to _M (mean)"
   ]
  },
  {
   "cell_type": "code",
   "execution_count": 11,
   "metadata": {},
   "outputs": [
    {
     "name": "stdout",
     "output_type": "stream",
     "text": [
      "['AROU_M', 'VAL_M', 'DOM_M', 'CNC_M', 'IMAG_M', 'FAM_M', 'AOA_M', 'SIZE_M', 'GEND_M']\n"
     ]
    }
   ],
   "source": [
    "tmp_pattern_M = re.compile(r'.*_M$')\n",
    "tmp_M_parameters = list(filter(tmp_pattern_M.match, interest))\n",
    "\n",
    "print(tmp_M_parameters)"
   ]
  },
  {
   "cell_type": "code",
   "execution_count": 12,
   "metadata": {},
   "outputs": [
    {
     "data": {
      "text/html": [
       "<div>\n",
       "<style scoped>\n",
       "    .dataframe tbody tr th:only-of-type {\n",
       "        vertical-align: middle;\n",
       "    }\n",
       "\n",
       "    .dataframe tbody tr th {\n",
       "        vertical-align: top;\n",
       "    }\n",
       "\n",
       "    .dataframe thead th {\n",
       "        text-align: right;\n",
       "    }\n",
       "</style>\n",
       "<table border=\"1\" class=\"dataframe\">\n",
       "  <thead>\n",
       "    <tr style=\"text-align: right;\">\n",
       "      <th></th>\n",
       "      <th>AROU_M</th>\n",
       "      <th>VAL_M</th>\n",
       "      <th>DOM_M</th>\n",
       "      <th>CNC_M</th>\n",
       "      <th>IMAG_M</th>\n",
       "      <th>FAM_M</th>\n",
       "      <th>AOA_M</th>\n",
       "      <th>SIZE_M</th>\n",
       "      <th>GEND_M</th>\n",
       "    </tr>\n",
       "    <tr>\n",
       "      <th>words</th>\n",
       "      <th></th>\n",
       "      <th></th>\n",
       "      <th></th>\n",
       "      <th></th>\n",
       "      <th></th>\n",
       "      <th></th>\n",
       "      <th></th>\n",
       "      <th></th>\n",
       "      <th></th>\n",
       "    </tr>\n",
       "  </thead>\n",
       "  <tbody>\n",
       "    <tr>\n",
       "      <th>abattoir</th>\n",
       "      <td>4.200</td>\n",
       "      <td>2.864</td>\n",
       "      <td>4.333</td>\n",
       "      <td>5.455</td>\n",
       "      <td>4.391</td>\n",
       "      <td>2.382</td>\n",
       "      <td>6.760</td>\n",
       "      <td>4.652</td>\n",
       "      <td>5.391</td>\n",
       "    </tr>\n",
       "    <tr>\n",
       "      <th>abbey</th>\n",
       "      <td>3.125</td>\n",
       "      <td>5.781</td>\n",
       "      <td>4.667</td>\n",
       "      <td>5.906</td>\n",
       "      <td>5.344</td>\n",
       "      <td>3.324</td>\n",
       "      <td>5.177</td>\n",
       "      <td>5.121</td>\n",
       "      <td>3.303</td>\n",
       "    </tr>\n",
       "    <tr>\n",
       "      <th>abbreviate</th>\n",
       "      <td>3.273</td>\n",
       "      <td>5.250</td>\n",
       "      <td>5.235</td>\n",
       "      <td>3.286</td>\n",
       "      <td>3.177</td>\n",
       "      <td>5.121</td>\n",
       "      <td>5.543</td>\n",
       "      <td>2.667</td>\n",
       "      <td>3.971</td>\n",
       "    </tr>\n",
       "    <tr>\n",
       "      <th>abdicate</th>\n",
       "      <td>4.194</td>\n",
       "      <td>3.767</td>\n",
       "      <td>4.419</td>\n",
       "      <td>3.367</td>\n",
       "      <td>2.516</td>\n",
       "      <td>3.971</td>\n",
       "      <td>6.233</td>\n",
       "      <td>4.679</td>\n",
       "      <td>5.167</td>\n",
       "    </tr>\n",
       "    <tr>\n",
       "      <th>abdication</th>\n",
       "      <td>3.846</td>\n",
       "      <td>3.880</td>\n",
       "      <td>4.800</td>\n",
       "      <td>3.292</td>\n",
       "      <td>2.571</td>\n",
       "      <td>3.097</td>\n",
       "      <td>6.407</td>\n",
       "      <td>5.083</td>\n",
       "      <td>4.571</td>\n",
       "    </tr>\n",
       "    <tr>\n",
       "      <th>...</th>\n",
       "      <td>...</td>\n",
       "      <td>...</td>\n",
       "      <td>...</td>\n",
       "      <td>...</td>\n",
       "      <td>...</td>\n",
       "      <td>...</td>\n",
       "      <td>...</td>\n",
       "      <td>...</td>\n",
       "      <td>...</td>\n",
       "    </tr>\n",
       "    <tr>\n",
       "      <th>zeppelin</th>\n",
       "      <td>6.185</td>\n",
       "      <td>5.000</td>\n",
       "      <td>5.333</td>\n",
       "      <td>6.286</td>\n",
       "      <td>6.185</td>\n",
       "      <td>3.167</td>\n",
       "      <td>6.036</td>\n",
       "      <td>5.464</td>\n",
       "      <td>5.269</td>\n",
       "    </tr>\n",
       "    <tr>\n",
       "      <th>zero</th>\n",
       "      <td>4.031</td>\n",
       "      <td>4.182</td>\n",
       "      <td>4.567</td>\n",
       "      <td>2.688</td>\n",
       "      <td>3.903</td>\n",
       "      <td>6.269</td>\n",
       "      <td>2.636</td>\n",
       "      <td>1.758</td>\n",
       "      <td>4.172</td>\n",
       "    </tr>\n",
       "    <tr>\n",
       "      <th>zest</th>\n",
       "      <td>5.969</td>\n",
       "      <td>6.818</td>\n",
       "      <td>6.121</td>\n",
       "      <td>4.438</td>\n",
       "      <td>4.033</td>\n",
       "      <td>4.000</td>\n",
       "      <td>5.364</td>\n",
       "      <td>2.636</td>\n",
       "      <td>3.452</td>\n",
       "    </tr>\n",
       "    <tr>\n",
       "      <th>zoo</th>\n",
       "      <td>5.909</td>\n",
       "      <td>6.235</td>\n",
       "      <td>5.485</td>\n",
       "      <td>6.118</td>\n",
       "      <td>6.441</td>\n",
       "      <td>5.655</td>\n",
       "      <td>2.324</td>\n",
       "      <td>4.844</td>\n",
       "      <td>4.059</td>\n",
       "    </tr>\n",
       "    <tr>\n",
       "      <th>zoology</th>\n",
       "      <td>4.571</td>\n",
       "      <td>5.765</td>\n",
       "      <td>5.114</td>\n",
       "      <td>4.429</td>\n",
       "      <td>3.914</td>\n",
       "      <td>4.382</td>\n",
       "      <td>5.824</td>\n",
       "      <td>4.571</td>\n",
       "      <td>3.657</td>\n",
       "    </tr>\n",
       "  </tbody>\n",
       "</table>\n",
       "<p>5553 rows × 9 columns</p>\n",
       "</div>"
      ],
      "text/plain": [
       "            AROU_M  VAL_M  DOM_M  CNC_M  IMAG_M  FAM_M  AOA_M  SIZE_M  GEND_M\n",
       "words                                                                        \n",
       "abattoir     4.200  2.864  4.333  5.455   4.391  2.382  6.760   4.652   5.391\n",
       "abbey        3.125  5.781  4.667  5.906   5.344  3.324  5.177   5.121   3.303\n",
       "abbreviate   3.273  5.250  5.235  3.286   3.177  5.121  5.543   2.667   3.971\n",
       "abdicate     4.194  3.767  4.419  3.367   2.516  3.971  6.233   4.679   5.167\n",
       "abdication   3.846  3.880  4.800  3.292   2.571  3.097  6.407   5.083   4.571\n",
       "...            ...    ...    ...    ...     ...    ...    ...     ...     ...\n",
       "zeppelin     6.185  5.000  5.333  6.286   6.185  3.167  6.036   5.464   5.269\n",
       "zero         4.031  4.182  4.567  2.688   3.903  6.269  2.636   1.758   4.172\n",
       "zest         5.969  6.818  6.121  4.438   4.033  4.000  5.364   2.636   3.452\n",
       "zoo          5.909  6.235  5.485  6.118   6.441  5.655  2.324   4.844   4.059\n",
       "zoology      4.571  5.765  5.114  4.429   3.914  4.382  5.824   4.571   3.657\n",
       "\n",
       "[5553 rows x 9 columns]"
      ]
     },
     "execution_count": 12,
     "metadata": {},
     "output_type": "execute_result"
    }
   ],
   "source": [
    "df_M = glasgow[tmp_M_parameters]\n",
    "df_M"
   ]
  },
  {
   "cell_type": "code",
   "execution_count": null,
   "metadata": {},
   "outputs": [],
   "source": []
  },
  {
   "cell_type": "markdown",
   "metadata": {},
   "source": [
    "----\n",
    "### Selecting only columns related to _SD (standard deviation)"
   ]
  },
  {
   "cell_type": "code",
   "execution_count": 13,
   "metadata": {},
   "outputs": [
    {
     "name": "stdout",
     "output_type": "stream",
     "text": [
      "['AROU_SD', 'VAL_SD', 'DOM_SD', 'CNC_SD', 'IMAG_SD', 'FAM_SD', 'AOA_SD', 'SIZE_SD', 'GEND_SD']\n"
     ]
    }
   ],
   "source": [
    "tmp_pattern_SD = re.compile(r'.*_SD$')\n",
    "tmp_SD_parameters = list(filter(tmp_pattern_SD.match, interest))\n",
    "\n",
    "print(tmp_SD_parameters)"
   ]
  },
  {
   "cell_type": "code",
   "execution_count": 14,
   "metadata": {},
   "outputs": [
    {
     "data": {
      "text/html": [
       "<div>\n",
       "<style scoped>\n",
       "    .dataframe tbody tr th:only-of-type {\n",
       "        vertical-align: middle;\n",
       "    }\n",
       "\n",
       "    .dataframe tbody tr th {\n",
       "        vertical-align: top;\n",
       "    }\n",
       "\n",
       "    .dataframe thead th {\n",
       "        text-align: right;\n",
       "    }\n",
       "</style>\n",
       "<table border=\"1\" class=\"dataframe\">\n",
       "  <thead>\n",
       "    <tr style=\"text-align: right;\">\n",
       "      <th></th>\n",
       "      <th>AROU_SD</th>\n",
       "      <th>VAL_SD</th>\n",
       "      <th>DOM_SD</th>\n",
       "      <th>CNC_SD</th>\n",
       "      <th>IMAG_SD</th>\n",
       "      <th>FAM_SD</th>\n",
       "      <th>AOA_SD</th>\n",
       "      <th>SIZE_SD</th>\n",
       "      <th>GEND_SD</th>\n",
       "    </tr>\n",
       "    <tr>\n",
       "      <th>words</th>\n",
       "      <th></th>\n",
       "      <th></th>\n",
       "      <th></th>\n",
       "      <th></th>\n",
       "      <th></th>\n",
       "      <th></th>\n",
       "      <th></th>\n",
       "      <th></th>\n",
       "      <th></th>\n",
       "    </tr>\n",
       "  </thead>\n",
       "  <tbody>\n",
       "    <tr>\n",
       "      <th>abattoir</th>\n",
       "      <td>2.400</td>\n",
       "      <td>1.740</td>\n",
       "      <td>1.285</td>\n",
       "      <td>1.900</td>\n",
       "      <td>2.121</td>\n",
       "      <td>1.799</td>\n",
       "      <td>0.427</td>\n",
       "      <td>1.549</td>\n",
       "      <td>1.170</td>\n",
       "    </tr>\n",
       "    <tr>\n",
       "      <th>abbey</th>\n",
       "      <td>2.342</td>\n",
       "      <td>1.268</td>\n",
       "      <td>1.551</td>\n",
       "      <td>1.508</td>\n",
       "      <td>1.881</td>\n",
       "      <td>1.810</td>\n",
       "      <td>1.339</td>\n",
       "      <td>1.629</td>\n",
       "      <td>1.193</td>\n",
       "    </tr>\n",
       "    <tr>\n",
       "      <th>abbreviate</th>\n",
       "      <td>1.582</td>\n",
       "      <td>1.031</td>\n",
       "      <td>1.238</td>\n",
       "      <td>1.733</td>\n",
       "      <td>1.689</td>\n",
       "      <td>1.838</td>\n",
       "      <td>1.130</td>\n",
       "      <td>1.700</td>\n",
       "      <td>0.954</td>\n",
       "    </tr>\n",
       "    <tr>\n",
       "      <th>abdicate</th>\n",
       "      <td>1.941</td>\n",
       "      <td>1.383</td>\n",
       "      <td>2.182</td>\n",
       "      <td>1.853</td>\n",
       "      <td>1.521</td>\n",
       "      <td>2.077</td>\n",
       "      <td>0.844</td>\n",
       "      <td>1.441</td>\n",
       "      <td>1.186</td>\n",
       "    </tr>\n",
       "    <tr>\n",
       "      <th>abdication</th>\n",
       "      <td>2.282</td>\n",
       "      <td>1.608</td>\n",
       "      <td>1.960</td>\n",
       "      <td>1.620</td>\n",
       "      <td>1.294</td>\n",
       "      <td>2.022</td>\n",
       "      <td>0.913</td>\n",
       "      <td>1.351</td>\n",
       "      <td>1.015</td>\n",
       "    </tr>\n",
       "    <tr>\n",
       "      <th>...</th>\n",
       "      <td>...</td>\n",
       "      <td>...</td>\n",
       "      <td>...</td>\n",
       "      <td>...</td>\n",
       "      <td>...</td>\n",
       "      <td>...</td>\n",
       "      <td>...</td>\n",
       "      <td>...</td>\n",
       "      <td>...</td>\n",
       "    </tr>\n",
       "    <tr>\n",
       "      <th>zeppelin</th>\n",
       "      <td>2.037</td>\n",
       "      <td>1.414</td>\n",
       "      <td>1.743</td>\n",
       "      <td>0.920</td>\n",
       "      <td>1.123</td>\n",
       "      <td>2.115</td>\n",
       "      <td>0.944</td>\n",
       "      <td>1.721</td>\n",
       "      <td>1.021</td>\n",
       "    </tr>\n",
       "    <tr>\n",
       "      <th>zero</th>\n",
       "      <td>2.023</td>\n",
       "      <td>1.585</td>\n",
       "      <td>2.124</td>\n",
       "      <td>1.895</td>\n",
       "      <td>2.347</td>\n",
       "      <td>1.195</td>\n",
       "      <td>1.123</td>\n",
       "      <td>1.393</td>\n",
       "      <td>0.647</td>\n",
       "    </tr>\n",
       "    <tr>\n",
       "      <th>zest</th>\n",
       "      <td>2.158</td>\n",
       "      <td>1.313</td>\n",
       "      <td>1.320</td>\n",
       "      <td>1.694</td>\n",
       "      <td>1.622</td>\n",
       "      <td>1.626</td>\n",
       "      <td>1.123</td>\n",
       "      <td>1.738</td>\n",
       "      <td>1.011</td>\n",
       "    </tr>\n",
       "    <tr>\n",
       "      <th>zoo</th>\n",
       "      <td>2.137</td>\n",
       "      <td>1.800</td>\n",
       "      <td>1.598</td>\n",
       "      <td>1.105</td>\n",
       "      <td>1.006</td>\n",
       "      <td>1.747</td>\n",
       "      <td>0.674</td>\n",
       "      <td>1.873</td>\n",
       "      <td>0.802</td>\n",
       "    </tr>\n",
       "    <tr>\n",
       "      <th>zoology</th>\n",
       "      <td>2.060</td>\n",
       "      <td>0.972</td>\n",
       "      <td>1.545</td>\n",
       "      <td>1.841</td>\n",
       "      <td>1.481</td>\n",
       "      <td>1.956</td>\n",
       "      <td>1.150</td>\n",
       "      <td>1.609</td>\n",
       "      <td>1.068</td>\n",
       "    </tr>\n",
       "  </tbody>\n",
       "</table>\n",
       "<p>5553 rows × 9 columns</p>\n",
       "</div>"
      ],
      "text/plain": [
       "            AROU_SD  VAL_SD  DOM_SD  CNC_SD  IMAG_SD  FAM_SD  AOA_SD  SIZE_SD  \\\n",
       "words                                                                           \n",
       "abattoir      2.400   1.740   1.285   1.900    2.121   1.799   0.427    1.549   \n",
       "abbey         2.342   1.268   1.551   1.508    1.881   1.810   1.339    1.629   \n",
       "abbreviate    1.582   1.031   1.238   1.733    1.689   1.838   1.130    1.700   \n",
       "abdicate      1.941   1.383   2.182   1.853    1.521   2.077   0.844    1.441   \n",
       "abdication    2.282   1.608   1.960   1.620    1.294   2.022   0.913    1.351   \n",
       "...             ...     ...     ...     ...      ...     ...     ...      ...   \n",
       "zeppelin      2.037   1.414   1.743   0.920    1.123   2.115   0.944    1.721   \n",
       "zero          2.023   1.585   2.124   1.895    2.347   1.195   1.123    1.393   \n",
       "zest          2.158   1.313   1.320   1.694    1.622   1.626   1.123    1.738   \n",
       "zoo           2.137   1.800   1.598   1.105    1.006   1.747   0.674    1.873   \n",
       "zoology       2.060   0.972   1.545   1.841    1.481   1.956   1.150    1.609   \n",
       "\n",
       "            GEND_SD  \n",
       "words                \n",
       "abattoir      1.170  \n",
       "abbey         1.193  \n",
       "abbreviate    0.954  \n",
       "abdicate      1.186  \n",
       "abdication    1.015  \n",
       "...             ...  \n",
       "zeppelin      1.021  \n",
       "zero          0.647  \n",
       "zest          1.011  \n",
       "zoo           0.802  \n",
       "zoology       1.068  \n",
       "\n",
       "[5553 rows x 9 columns]"
      ]
     },
     "execution_count": 14,
     "metadata": {},
     "output_type": "execute_result"
    }
   ],
   "source": [
    "## Selecting a dataframe with SD values:\n",
    "df_SD = glasgow[tmp_SD_parameters]\n",
    "df_SD"
   ]
  },
  {
   "cell_type": "markdown",
   "metadata": {},
   "source": [
    "----\n",
    "### Creating a dataframe with calculated variance (VAR)"
   ]
  },
  {
   "cell_type": "code",
   "execution_count": 15,
   "metadata": {},
   "outputs": [],
   "source": [
    "## Creating a dataframe with variance values (variance = SD^2)\n",
    "df_VAR = df_SD**2"
   ]
  },
  {
   "cell_type": "code",
   "execution_count": 16,
   "metadata": {},
   "outputs": [
    {
     "data": {
      "text/html": [
       "<div>\n",
       "<style scoped>\n",
       "    .dataframe tbody tr th:only-of-type {\n",
       "        vertical-align: middle;\n",
       "    }\n",
       "\n",
       "    .dataframe tbody tr th {\n",
       "        vertical-align: top;\n",
       "    }\n",
       "\n",
       "    .dataframe thead th {\n",
       "        text-align: right;\n",
       "    }\n",
       "</style>\n",
       "<table border=\"1\" class=\"dataframe\">\n",
       "  <thead>\n",
       "    <tr style=\"text-align: right;\">\n",
       "      <th></th>\n",
       "      <th>AROU_VAR</th>\n",
       "      <th>VAL_VAR</th>\n",
       "      <th>DOM_VAR</th>\n",
       "      <th>CNC_VAR</th>\n",
       "      <th>IMAG_VAR</th>\n",
       "      <th>FAM_VAR</th>\n",
       "      <th>AOA_VAR</th>\n",
       "      <th>SIZE_VAR</th>\n",
       "      <th>GEND_VAR</th>\n",
       "    </tr>\n",
       "    <tr>\n",
       "      <th>words</th>\n",
       "      <th></th>\n",
       "      <th></th>\n",
       "      <th></th>\n",
       "      <th></th>\n",
       "      <th></th>\n",
       "      <th></th>\n",
       "      <th></th>\n",
       "      <th></th>\n",
       "      <th></th>\n",
       "    </tr>\n",
       "  </thead>\n",
       "  <tbody>\n",
       "    <tr>\n",
       "      <th>abattoir</th>\n",
       "      <td>5.760000</td>\n",
       "      <td>3.027600</td>\n",
       "      <td>1.651225</td>\n",
       "      <td>3.610000</td>\n",
       "      <td>4.498641</td>\n",
       "      <td>3.236401</td>\n",
       "      <td>0.182329</td>\n",
       "      <td>2.399401</td>\n",
       "      <td>1.368900</td>\n",
       "    </tr>\n",
       "    <tr>\n",
       "      <th>abbey</th>\n",
       "      <td>5.484964</td>\n",
       "      <td>1.607824</td>\n",
       "      <td>2.405601</td>\n",
       "      <td>2.274064</td>\n",
       "      <td>3.538161</td>\n",
       "      <td>3.276100</td>\n",
       "      <td>1.792921</td>\n",
       "      <td>2.653641</td>\n",
       "      <td>1.423249</td>\n",
       "    </tr>\n",
       "    <tr>\n",
       "      <th>abbreviate</th>\n",
       "      <td>2.502724</td>\n",
       "      <td>1.062961</td>\n",
       "      <td>1.532644</td>\n",
       "      <td>3.003289</td>\n",
       "      <td>2.852721</td>\n",
       "      <td>3.378244</td>\n",
       "      <td>1.276900</td>\n",
       "      <td>2.890000</td>\n",
       "      <td>0.910116</td>\n",
       "    </tr>\n",
       "    <tr>\n",
       "      <th>abdicate</th>\n",
       "      <td>3.767481</td>\n",
       "      <td>1.912689</td>\n",
       "      <td>4.761124</td>\n",
       "      <td>3.433609</td>\n",
       "      <td>2.313441</td>\n",
       "      <td>4.313929</td>\n",
       "      <td>0.712336</td>\n",
       "      <td>2.076481</td>\n",
       "      <td>1.406596</td>\n",
       "    </tr>\n",
       "    <tr>\n",
       "      <th>abdication</th>\n",
       "      <td>5.207524</td>\n",
       "      <td>2.585664</td>\n",
       "      <td>3.841600</td>\n",
       "      <td>2.624400</td>\n",
       "      <td>1.674436</td>\n",
       "      <td>4.088484</td>\n",
       "      <td>0.833569</td>\n",
       "      <td>1.825201</td>\n",
       "      <td>1.030225</td>\n",
       "    </tr>\n",
       "    <tr>\n",
       "      <th>...</th>\n",
       "      <td>...</td>\n",
       "      <td>...</td>\n",
       "      <td>...</td>\n",
       "      <td>...</td>\n",
       "      <td>...</td>\n",
       "      <td>...</td>\n",
       "      <td>...</td>\n",
       "      <td>...</td>\n",
       "      <td>...</td>\n",
       "    </tr>\n",
       "    <tr>\n",
       "      <th>zeppelin</th>\n",
       "      <td>4.149369</td>\n",
       "      <td>1.999396</td>\n",
       "      <td>3.038049</td>\n",
       "      <td>0.846400</td>\n",
       "      <td>1.261129</td>\n",
       "      <td>4.473225</td>\n",
       "      <td>0.891136</td>\n",
       "      <td>2.961841</td>\n",
       "      <td>1.042441</td>\n",
       "    </tr>\n",
       "    <tr>\n",
       "      <th>zero</th>\n",
       "      <td>4.092529</td>\n",
       "      <td>2.512225</td>\n",
       "      <td>4.511376</td>\n",
       "      <td>3.591025</td>\n",
       "      <td>5.508409</td>\n",
       "      <td>1.428025</td>\n",
       "      <td>1.261129</td>\n",
       "      <td>1.940449</td>\n",
       "      <td>0.418609</td>\n",
       "    </tr>\n",
       "    <tr>\n",
       "      <th>zest</th>\n",
       "      <td>4.656964</td>\n",
       "      <td>1.723969</td>\n",
       "      <td>1.742400</td>\n",
       "      <td>2.869636</td>\n",
       "      <td>2.630884</td>\n",
       "      <td>2.643876</td>\n",
       "      <td>1.261129</td>\n",
       "      <td>3.020644</td>\n",
       "      <td>1.022121</td>\n",
       "    </tr>\n",
       "    <tr>\n",
       "      <th>zoo</th>\n",
       "      <td>4.566769</td>\n",
       "      <td>3.240000</td>\n",
       "      <td>2.553604</td>\n",
       "      <td>1.221025</td>\n",
       "      <td>1.012036</td>\n",
       "      <td>3.052009</td>\n",
       "      <td>0.454276</td>\n",
       "      <td>3.508129</td>\n",
       "      <td>0.643204</td>\n",
       "    </tr>\n",
       "    <tr>\n",
       "      <th>zoology</th>\n",
       "      <td>4.243600</td>\n",
       "      <td>0.944784</td>\n",
       "      <td>2.387025</td>\n",
       "      <td>3.389281</td>\n",
       "      <td>2.193361</td>\n",
       "      <td>3.825936</td>\n",
       "      <td>1.322500</td>\n",
       "      <td>2.588881</td>\n",
       "      <td>1.140624</td>\n",
       "    </tr>\n",
       "  </tbody>\n",
       "</table>\n",
       "<p>5553 rows × 9 columns</p>\n",
       "</div>"
      ],
      "text/plain": [
       "            AROU_VAR   VAL_VAR   DOM_VAR   CNC_VAR  IMAG_VAR   FAM_VAR  \\\n",
       "words                                                                    \n",
       "abattoir    5.760000  3.027600  1.651225  3.610000  4.498641  3.236401   \n",
       "abbey       5.484964  1.607824  2.405601  2.274064  3.538161  3.276100   \n",
       "abbreviate  2.502724  1.062961  1.532644  3.003289  2.852721  3.378244   \n",
       "abdicate    3.767481  1.912689  4.761124  3.433609  2.313441  4.313929   \n",
       "abdication  5.207524  2.585664  3.841600  2.624400  1.674436  4.088484   \n",
       "...              ...       ...       ...       ...       ...       ...   \n",
       "zeppelin    4.149369  1.999396  3.038049  0.846400  1.261129  4.473225   \n",
       "zero        4.092529  2.512225  4.511376  3.591025  5.508409  1.428025   \n",
       "zest        4.656964  1.723969  1.742400  2.869636  2.630884  2.643876   \n",
       "zoo         4.566769  3.240000  2.553604  1.221025  1.012036  3.052009   \n",
       "zoology     4.243600  0.944784  2.387025  3.389281  2.193361  3.825936   \n",
       "\n",
       "             AOA_VAR  SIZE_VAR  GEND_VAR  \n",
       "words                                     \n",
       "abattoir    0.182329  2.399401  1.368900  \n",
       "abbey       1.792921  2.653641  1.423249  \n",
       "abbreviate  1.276900  2.890000  0.910116  \n",
       "abdicate    0.712336  2.076481  1.406596  \n",
       "abdication  0.833569  1.825201  1.030225  \n",
       "...              ...       ...       ...  \n",
       "zeppelin    0.891136  2.961841  1.042441  \n",
       "zero        1.261129  1.940449  0.418609  \n",
       "zest        1.261129  3.020644  1.022121  \n",
       "zoo         0.454276  3.508129  0.643204  \n",
       "zoology     1.322500  2.588881  1.140624  \n",
       "\n",
       "[5553 rows x 9 columns]"
      ]
     },
     "execution_count": 16,
     "metadata": {},
     "output_type": "execute_result"
    }
   ],
   "source": [
    "## Using regular expression to replace the suffix in column names:\n",
    "tmp_VAR_columns = [re.sub(r'_SD$', '_VAR', item) for item in list(df_VAR.columns)]\n",
    "df_VAR.columns = tmp_VAR_columns\n",
    "df_VAR"
   ]
  },
  {
   "cell_type": "code",
   "execution_count": null,
   "metadata": {},
   "outputs": [],
   "source": []
  },
  {
   "cell_type": "markdown",
   "metadata": {},
   "source": [
    "----\n",
    "### Preparing a dataframe with means and variance of the nine psycholinguistic variables"
   ]
  },
  {
   "cell_type": "code",
   "execution_count": 17,
   "metadata": {},
   "outputs": [
    {
     "data": {
      "text/html": [
       "<div>\n",
       "<style scoped>\n",
       "    .dataframe tbody tr th:only-of-type {\n",
       "        vertical-align: middle;\n",
       "    }\n",
       "\n",
       "    .dataframe tbody tr th {\n",
       "        vertical-align: top;\n",
       "    }\n",
       "\n",
       "    .dataframe thead th {\n",
       "        text-align: right;\n",
       "    }\n",
       "</style>\n",
       "<table border=\"1\" class=\"dataframe\">\n",
       "  <thead>\n",
       "    <tr style=\"text-align: right;\">\n",
       "      <th></th>\n",
       "      <th>AROU_M</th>\n",
       "      <th>VAL_M</th>\n",
       "      <th>DOM_M</th>\n",
       "      <th>CNC_M</th>\n",
       "      <th>IMAG_M</th>\n",
       "      <th>FAM_M</th>\n",
       "      <th>AOA_M</th>\n",
       "      <th>SIZE_M</th>\n",
       "      <th>GEND_M</th>\n",
       "      <th>AROU_VAR</th>\n",
       "      <th>VAL_VAR</th>\n",
       "      <th>DOM_VAR</th>\n",
       "      <th>CNC_VAR</th>\n",
       "      <th>IMAG_VAR</th>\n",
       "      <th>FAM_VAR</th>\n",
       "      <th>AOA_VAR</th>\n",
       "      <th>SIZE_VAR</th>\n",
       "      <th>GEND_VAR</th>\n",
       "    </tr>\n",
       "    <tr>\n",
       "      <th>words</th>\n",
       "      <th></th>\n",
       "      <th></th>\n",
       "      <th></th>\n",
       "      <th></th>\n",
       "      <th></th>\n",
       "      <th></th>\n",
       "      <th></th>\n",
       "      <th></th>\n",
       "      <th></th>\n",
       "      <th></th>\n",
       "      <th></th>\n",
       "      <th></th>\n",
       "      <th></th>\n",
       "      <th></th>\n",
       "      <th></th>\n",
       "      <th></th>\n",
       "      <th></th>\n",
       "      <th></th>\n",
       "    </tr>\n",
       "  </thead>\n",
       "  <tbody>\n",
       "    <tr>\n",
       "      <th>abattoir</th>\n",
       "      <td>4.200</td>\n",
       "      <td>2.864</td>\n",
       "      <td>4.333</td>\n",
       "      <td>5.455</td>\n",
       "      <td>4.391</td>\n",
       "      <td>2.382</td>\n",
       "      <td>6.760</td>\n",
       "      <td>4.652</td>\n",
       "      <td>5.391</td>\n",
       "      <td>5.760000</td>\n",
       "      <td>3.027600</td>\n",
       "      <td>1.651225</td>\n",
       "      <td>3.610000</td>\n",
       "      <td>4.498641</td>\n",
       "      <td>3.236401</td>\n",
       "      <td>0.182329</td>\n",
       "      <td>2.399401</td>\n",
       "      <td>1.368900</td>\n",
       "    </tr>\n",
       "    <tr>\n",
       "      <th>abbey</th>\n",
       "      <td>3.125</td>\n",
       "      <td>5.781</td>\n",
       "      <td>4.667</td>\n",
       "      <td>5.906</td>\n",
       "      <td>5.344</td>\n",
       "      <td>3.324</td>\n",
       "      <td>5.177</td>\n",
       "      <td>5.121</td>\n",
       "      <td>3.303</td>\n",
       "      <td>5.484964</td>\n",
       "      <td>1.607824</td>\n",
       "      <td>2.405601</td>\n",
       "      <td>2.274064</td>\n",
       "      <td>3.538161</td>\n",
       "      <td>3.276100</td>\n",
       "      <td>1.792921</td>\n",
       "      <td>2.653641</td>\n",
       "      <td>1.423249</td>\n",
       "    </tr>\n",
       "    <tr>\n",
       "      <th>abbreviate</th>\n",
       "      <td>3.273</td>\n",
       "      <td>5.250</td>\n",
       "      <td>5.235</td>\n",
       "      <td>3.286</td>\n",
       "      <td>3.177</td>\n",
       "      <td>5.121</td>\n",
       "      <td>5.543</td>\n",
       "      <td>2.667</td>\n",
       "      <td>3.971</td>\n",
       "      <td>2.502724</td>\n",
       "      <td>1.062961</td>\n",
       "      <td>1.532644</td>\n",
       "      <td>3.003289</td>\n",
       "      <td>2.852721</td>\n",
       "      <td>3.378244</td>\n",
       "      <td>1.276900</td>\n",
       "      <td>2.890000</td>\n",
       "      <td>0.910116</td>\n",
       "    </tr>\n",
       "    <tr>\n",
       "      <th>abdicate</th>\n",
       "      <td>4.194</td>\n",
       "      <td>3.767</td>\n",
       "      <td>4.419</td>\n",
       "      <td>3.367</td>\n",
       "      <td>2.516</td>\n",
       "      <td>3.971</td>\n",
       "      <td>6.233</td>\n",
       "      <td>4.679</td>\n",
       "      <td>5.167</td>\n",
       "      <td>3.767481</td>\n",
       "      <td>1.912689</td>\n",
       "      <td>4.761124</td>\n",
       "      <td>3.433609</td>\n",
       "      <td>2.313441</td>\n",
       "      <td>4.313929</td>\n",
       "      <td>0.712336</td>\n",
       "      <td>2.076481</td>\n",
       "      <td>1.406596</td>\n",
       "    </tr>\n",
       "    <tr>\n",
       "      <th>abdication</th>\n",
       "      <td>3.846</td>\n",
       "      <td>3.880</td>\n",
       "      <td>4.800</td>\n",
       "      <td>3.292</td>\n",
       "      <td>2.571</td>\n",
       "      <td>3.097</td>\n",
       "      <td>6.407</td>\n",
       "      <td>5.083</td>\n",
       "      <td>4.571</td>\n",
       "      <td>5.207524</td>\n",
       "      <td>2.585664</td>\n",
       "      <td>3.841600</td>\n",
       "      <td>2.624400</td>\n",
       "      <td>1.674436</td>\n",
       "      <td>4.088484</td>\n",
       "      <td>0.833569</td>\n",
       "      <td>1.825201</td>\n",
       "      <td>1.030225</td>\n",
       "    </tr>\n",
       "    <tr>\n",
       "      <th>...</th>\n",
       "      <td>...</td>\n",
       "      <td>...</td>\n",
       "      <td>...</td>\n",
       "      <td>...</td>\n",
       "      <td>...</td>\n",
       "      <td>...</td>\n",
       "      <td>...</td>\n",
       "      <td>...</td>\n",
       "      <td>...</td>\n",
       "      <td>...</td>\n",
       "      <td>...</td>\n",
       "      <td>...</td>\n",
       "      <td>...</td>\n",
       "      <td>...</td>\n",
       "      <td>...</td>\n",
       "      <td>...</td>\n",
       "      <td>...</td>\n",
       "      <td>...</td>\n",
       "    </tr>\n",
       "    <tr>\n",
       "      <th>zeppelin</th>\n",
       "      <td>6.185</td>\n",
       "      <td>5.000</td>\n",
       "      <td>5.333</td>\n",
       "      <td>6.286</td>\n",
       "      <td>6.185</td>\n",
       "      <td>3.167</td>\n",
       "      <td>6.036</td>\n",
       "      <td>5.464</td>\n",
       "      <td>5.269</td>\n",
       "      <td>4.149369</td>\n",
       "      <td>1.999396</td>\n",
       "      <td>3.038049</td>\n",
       "      <td>0.846400</td>\n",
       "      <td>1.261129</td>\n",
       "      <td>4.473225</td>\n",
       "      <td>0.891136</td>\n",
       "      <td>2.961841</td>\n",
       "      <td>1.042441</td>\n",
       "    </tr>\n",
       "    <tr>\n",
       "      <th>zero</th>\n",
       "      <td>4.031</td>\n",
       "      <td>4.182</td>\n",
       "      <td>4.567</td>\n",
       "      <td>2.688</td>\n",
       "      <td>3.903</td>\n",
       "      <td>6.269</td>\n",
       "      <td>2.636</td>\n",
       "      <td>1.758</td>\n",
       "      <td>4.172</td>\n",
       "      <td>4.092529</td>\n",
       "      <td>2.512225</td>\n",
       "      <td>4.511376</td>\n",
       "      <td>3.591025</td>\n",
       "      <td>5.508409</td>\n",
       "      <td>1.428025</td>\n",
       "      <td>1.261129</td>\n",
       "      <td>1.940449</td>\n",
       "      <td>0.418609</td>\n",
       "    </tr>\n",
       "    <tr>\n",
       "      <th>zest</th>\n",
       "      <td>5.969</td>\n",
       "      <td>6.818</td>\n",
       "      <td>6.121</td>\n",
       "      <td>4.438</td>\n",
       "      <td>4.033</td>\n",
       "      <td>4.000</td>\n",
       "      <td>5.364</td>\n",
       "      <td>2.636</td>\n",
       "      <td>3.452</td>\n",
       "      <td>4.656964</td>\n",
       "      <td>1.723969</td>\n",
       "      <td>1.742400</td>\n",
       "      <td>2.869636</td>\n",
       "      <td>2.630884</td>\n",
       "      <td>2.643876</td>\n",
       "      <td>1.261129</td>\n",
       "      <td>3.020644</td>\n",
       "      <td>1.022121</td>\n",
       "    </tr>\n",
       "    <tr>\n",
       "      <th>zoo</th>\n",
       "      <td>5.909</td>\n",
       "      <td>6.235</td>\n",
       "      <td>5.485</td>\n",
       "      <td>6.118</td>\n",
       "      <td>6.441</td>\n",
       "      <td>5.655</td>\n",
       "      <td>2.324</td>\n",
       "      <td>4.844</td>\n",
       "      <td>4.059</td>\n",
       "      <td>4.566769</td>\n",
       "      <td>3.240000</td>\n",
       "      <td>2.553604</td>\n",
       "      <td>1.221025</td>\n",
       "      <td>1.012036</td>\n",
       "      <td>3.052009</td>\n",
       "      <td>0.454276</td>\n",
       "      <td>3.508129</td>\n",
       "      <td>0.643204</td>\n",
       "    </tr>\n",
       "    <tr>\n",
       "      <th>zoology</th>\n",
       "      <td>4.571</td>\n",
       "      <td>5.765</td>\n",
       "      <td>5.114</td>\n",
       "      <td>4.429</td>\n",
       "      <td>3.914</td>\n",
       "      <td>4.382</td>\n",
       "      <td>5.824</td>\n",
       "      <td>4.571</td>\n",
       "      <td>3.657</td>\n",
       "      <td>4.243600</td>\n",
       "      <td>0.944784</td>\n",
       "      <td>2.387025</td>\n",
       "      <td>3.389281</td>\n",
       "      <td>2.193361</td>\n",
       "      <td>3.825936</td>\n",
       "      <td>1.322500</td>\n",
       "      <td>2.588881</td>\n",
       "      <td>1.140624</td>\n",
       "    </tr>\n",
       "  </tbody>\n",
       "</table>\n",
       "<p>5553 rows × 18 columns</p>\n",
       "</div>"
      ],
      "text/plain": [
       "            AROU_M  VAL_M  DOM_M  CNC_M  IMAG_M  FAM_M  AOA_M  SIZE_M  GEND_M  \\\n",
       "words                                                                           \n",
       "abattoir     4.200  2.864  4.333  5.455   4.391  2.382  6.760   4.652   5.391   \n",
       "abbey        3.125  5.781  4.667  5.906   5.344  3.324  5.177   5.121   3.303   \n",
       "abbreviate   3.273  5.250  5.235  3.286   3.177  5.121  5.543   2.667   3.971   \n",
       "abdicate     4.194  3.767  4.419  3.367   2.516  3.971  6.233   4.679   5.167   \n",
       "abdication   3.846  3.880  4.800  3.292   2.571  3.097  6.407   5.083   4.571   \n",
       "...            ...    ...    ...    ...     ...    ...    ...     ...     ...   \n",
       "zeppelin     6.185  5.000  5.333  6.286   6.185  3.167  6.036   5.464   5.269   \n",
       "zero         4.031  4.182  4.567  2.688   3.903  6.269  2.636   1.758   4.172   \n",
       "zest         5.969  6.818  6.121  4.438   4.033  4.000  5.364   2.636   3.452   \n",
       "zoo          5.909  6.235  5.485  6.118   6.441  5.655  2.324   4.844   4.059   \n",
       "zoology      4.571  5.765  5.114  4.429   3.914  4.382  5.824   4.571   3.657   \n",
       "\n",
       "            AROU_VAR   VAL_VAR   DOM_VAR   CNC_VAR  IMAG_VAR   FAM_VAR  \\\n",
       "words                                                                    \n",
       "abattoir    5.760000  3.027600  1.651225  3.610000  4.498641  3.236401   \n",
       "abbey       5.484964  1.607824  2.405601  2.274064  3.538161  3.276100   \n",
       "abbreviate  2.502724  1.062961  1.532644  3.003289  2.852721  3.378244   \n",
       "abdicate    3.767481  1.912689  4.761124  3.433609  2.313441  4.313929   \n",
       "abdication  5.207524  2.585664  3.841600  2.624400  1.674436  4.088484   \n",
       "...              ...       ...       ...       ...       ...       ...   \n",
       "zeppelin    4.149369  1.999396  3.038049  0.846400  1.261129  4.473225   \n",
       "zero        4.092529  2.512225  4.511376  3.591025  5.508409  1.428025   \n",
       "zest        4.656964  1.723969  1.742400  2.869636  2.630884  2.643876   \n",
       "zoo         4.566769  3.240000  2.553604  1.221025  1.012036  3.052009   \n",
       "zoology     4.243600  0.944784  2.387025  3.389281  2.193361  3.825936   \n",
       "\n",
       "             AOA_VAR  SIZE_VAR  GEND_VAR  \n",
       "words                                     \n",
       "abattoir    0.182329  2.399401  1.368900  \n",
       "abbey       1.792921  2.653641  1.423249  \n",
       "abbreviate  1.276900  2.890000  0.910116  \n",
       "abdicate    0.712336  2.076481  1.406596  \n",
       "abdication  0.833569  1.825201  1.030225  \n",
       "...              ...       ...       ...  \n",
       "zeppelin    0.891136  2.961841  1.042441  \n",
       "zero        1.261129  1.940449  0.418609  \n",
       "zest        1.261129  3.020644  1.022121  \n",
       "zoo         0.454276  3.508129  0.643204  \n",
       "zoology     1.322500  2.588881  1.140624  \n",
       "\n",
       "[5553 rows x 18 columns]"
      ]
     },
     "execution_count": 17,
     "metadata": {},
     "output_type": "execute_result"
    }
   ],
   "source": [
    "## Combining df_M and df_VAR dataframes, i.e., means and variance.\n",
    "df_M_VAR = pd.concat([df_M, df_VAR], axis=1)\n",
    "df_M_VAR"
   ]
  },
  {
   "cell_type": "code",
   "execution_count": null,
   "metadata": {},
   "outputs": [],
   "source": []
  },
  {
   "cell_type": "markdown",
   "metadata": {},
   "source": [
    "### Preparing a dataframe with Mean, SD"
   ]
  },
  {
   "cell_type": "code",
   "execution_count": 18,
   "metadata": {},
   "outputs": [
    {
     "data": {
      "text/html": [
       "<div>\n",
       "<style scoped>\n",
       "    .dataframe tbody tr th:only-of-type {\n",
       "        vertical-align: middle;\n",
       "    }\n",
       "\n",
       "    .dataframe tbody tr th {\n",
       "        vertical-align: top;\n",
       "    }\n",
       "\n",
       "    .dataframe thead th {\n",
       "        text-align: right;\n",
       "    }\n",
       "</style>\n",
       "<table border=\"1\" class=\"dataframe\">\n",
       "  <thead>\n",
       "    <tr style=\"text-align: right;\">\n",
       "      <th></th>\n",
       "      <th>AROU_M</th>\n",
       "      <th>VAL_M</th>\n",
       "      <th>DOM_M</th>\n",
       "      <th>CNC_M</th>\n",
       "      <th>IMAG_M</th>\n",
       "      <th>FAM_M</th>\n",
       "      <th>AOA_M</th>\n",
       "      <th>SIZE_M</th>\n",
       "      <th>GEND_M</th>\n",
       "      <th>AROU_SD</th>\n",
       "      <th>VAL_SD</th>\n",
       "      <th>DOM_SD</th>\n",
       "      <th>CNC_SD</th>\n",
       "      <th>IMAG_SD</th>\n",
       "      <th>FAM_SD</th>\n",
       "      <th>AOA_SD</th>\n",
       "      <th>SIZE_SD</th>\n",
       "      <th>GEND_SD</th>\n",
       "    </tr>\n",
       "    <tr>\n",
       "      <th>words</th>\n",
       "      <th></th>\n",
       "      <th></th>\n",
       "      <th></th>\n",
       "      <th></th>\n",
       "      <th></th>\n",
       "      <th></th>\n",
       "      <th></th>\n",
       "      <th></th>\n",
       "      <th></th>\n",
       "      <th></th>\n",
       "      <th></th>\n",
       "      <th></th>\n",
       "      <th></th>\n",
       "      <th></th>\n",
       "      <th></th>\n",
       "      <th></th>\n",
       "      <th></th>\n",
       "      <th></th>\n",
       "    </tr>\n",
       "  </thead>\n",
       "  <tbody>\n",
       "    <tr>\n",
       "      <th>abattoir</th>\n",
       "      <td>4.200</td>\n",
       "      <td>2.864</td>\n",
       "      <td>4.333</td>\n",
       "      <td>5.455</td>\n",
       "      <td>4.391</td>\n",
       "      <td>2.382</td>\n",
       "      <td>6.760</td>\n",
       "      <td>4.652</td>\n",
       "      <td>5.391</td>\n",
       "      <td>2.400</td>\n",
       "      <td>1.740</td>\n",
       "      <td>1.285</td>\n",
       "      <td>1.900</td>\n",
       "      <td>2.121</td>\n",
       "      <td>1.799</td>\n",
       "      <td>0.427</td>\n",
       "      <td>1.549</td>\n",
       "      <td>1.170</td>\n",
       "    </tr>\n",
       "    <tr>\n",
       "      <th>abbey</th>\n",
       "      <td>3.125</td>\n",
       "      <td>5.781</td>\n",
       "      <td>4.667</td>\n",
       "      <td>5.906</td>\n",
       "      <td>5.344</td>\n",
       "      <td>3.324</td>\n",
       "      <td>5.177</td>\n",
       "      <td>5.121</td>\n",
       "      <td>3.303</td>\n",
       "      <td>2.342</td>\n",
       "      <td>1.268</td>\n",
       "      <td>1.551</td>\n",
       "      <td>1.508</td>\n",
       "      <td>1.881</td>\n",
       "      <td>1.810</td>\n",
       "      <td>1.339</td>\n",
       "      <td>1.629</td>\n",
       "      <td>1.193</td>\n",
       "    </tr>\n",
       "    <tr>\n",
       "      <th>abbreviate</th>\n",
       "      <td>3.273</td>\n",
       "      <td>5.250</td>\n",
       "      <td>5.235</td>\n",
       "      <td>3.286</td>\n",
       "      <td>3.177</td>\n",
       "      <td>5.121</td>\n",
       "      <td>5.543</td>\n",
       "      <td>2.667</td>\n",
       "      <td>3.971</td>\n",
       "      <td>1.582</td>\n",
       "      <td>1.031</td>\n",
       "      <td>1.238</td>\n",
       "      <td>1.733</td>\n",
       "      <td>1.689</td>\n",
       "      <td>1.838</td>\n",
       "      <td>1.130</td>\n",
       "      <td>1.700</td>\n",
       "      <td>0.954</td>\n",
       "    </tr>\n",
       "    <tr>\n",
       "      <th>abdicate</th>\n",
       "      <td>4.194</td>\n",
       "      <td>3.767</td>\n",
       "      <td>4.419</td>\n",
       "      <td>3.367</td>\n",
       "      <td>2.516</td>\n",
       "      <td>3.971</td>\n",
       "      <td>6.233</td>\n",
       "      <td>4.679</td>\n",
       "      <td>5.167</td>\n",
       "      <td>1.941</td>\n",
       "      <td>1.383</td>\n",
       "      <td>2.182</td>\n",
       "      <td>1.853</td>\n",
       "      <td>1.521</td>\n",
       "      <td>2.077</td>\n",
       "      <td>0.844</td>\n",
       "      <td>1.441</td>\n",
       "      <td>1.186</td>\n",
       "    </tr>\n",
       "    <tr>\n",
       "      <th>abdication</th>\n",
       "      <td>3.846</td>\n",
       "      <td>3.880</td>\n",
       "      <td>4.800</td>\n",
       "      <td>3.292</td>\n",
       "      <td>2.571</td>\n",
       "      <td>3.097</td>\n",
       "      <td>6.407</td>\n",
       "      <td>5.083</td>\n",
       "      <td>4.571</td>\n",
       "      <td>2.282</td>\n",
       "      <td>1.608</td>\n",
       "      <td>1.960</td>\n",
       "      <td>1.620</td>\n",
       "      <td>1.294</td>\n",
       "      <td>2.022</td>\n",
       "      <td>0.913</td>\n",
       "      <td>1.351</td>\n",
       "      <td>1.015</td>\n",
       "    </tr>\n",
       "    <tr>\n",
       "      <th>...</th>\n",
       "      <td>...</td>\n",
       "      <td>...</td>\n",
       "      <td>...</td>\n",
       "      <td>...</td>\n",
       "      <td>...</td>\n",
       "      <td>...</td>\n",
       "      <td>...</td>\n",
       "      <td>...</td>\n",
       "      <td>...</td>\n",
       "      <td>...</td>\n",
       "      <td>...</td>\n",
       "      <td>...</td>\n",
       "      <td>...</td>\n",
       "      <td>...</td>\n",
       "      <td>...</td>\n",
       "      <td>...</td>\n",
       "      <td>...</td>\n",
       "      <td>...</td>\n",
       "    </tr>\n",
       "    <tr>\n",
       "      <th>zeppelin</th>\n",
       "      <td>6.185</td>\n",
       "      <td>5.000</td>\n",
       "      <td>5.333</td>\n",
       "      <td>6.286</td>\n",
       "      <td>6.185</td>\n",
       "      <td>3.167</td>\n",
       "      <td>6.036</td>\n",
       "      <td>5.464</td>\n",
       "      <td>5.269</td>\n",
       "      <td>2.037</td>\n",
       "      <td>1.414</td>\n",
       "      <td>1.743</td>\n",
       "      <td>0.920</td>\n",
       "      <td>1.123</td>\n",
       "      <td>2.115</td>\n",
       "      <td>0.944</td>\n",
       "      <td>1.721</td>\n",
       "      <td>1.021</td>\n",
       "    </tr>\n",
       "    <tr>\n",
       "      <th>zero</th>\n",
       "      <td>4.031</td>\n",
       "      <td>4.182</td>\n",
       "      <td>4.567</td>\n",
       "      <td>2.688</td>\n",
       "      <td>3.903</td>\n",
       "      <td>6.269</td>\n",
       "      <td>2.636</td>\n",
       "      <td>1.758</td>\n",
       "      <td>4.172</td>\n",
       "      <td>2.023</td>\n",
       "      <td>1.585</td>\n",
       "      <td>2.124</td>\n",
       "      <td>1.895</td>\n",
       "      <td>2.347</td>\n",
       "      <td>1.195</td>\n",
       "      <td>1.123</td>\n",
       "      <td>1.393</td>\n",
       "      <td>0.647</td>\n",
       "    </tr>\n",
       "    <tr>\n",
       "      <th>zest</th>\n",
       "      <td>5.969</td>\n",
       "      <td>6.818</td>\n",
       "      <td>6.121</td>\n",
       "      <td>4.438</td>\n",
       "      <td>4.033</td>\n",
       "      <td>4.000</td>\n",
       "      <td>5.364</td>\n",
       "      <td>2.636</td>\n",
       "      <td>3.452</td>\n",
       "      <td>2.158</td>\n",
       "      <td>1.313</td>\n",
       "      <td>1.320</td>\n",
       "      <td>1.694</td>\n",
       "      <td>1.622</td>\n",
       "      <td>1.626</td>\n",
       "      <td>1.123</td>\n",
       "      <td>1.738</td>\n",
       "      <td>1.011</td>\n",
       "    </tr>\n",
       "    <tr>\n",
       "      <th>zoo</th>\n",
       "      <td>5.909</td>\n",
       "      <td>6.235</td>\n",
       "      <td>5.485</td>\n",
       "      <td>6.118</td>\n",
       "      <td>6.441</td>\n",
       "      <td>5.655</td>\n",
       "      <td>2.324</td>\n",
       "      <td>4.844</td>\n",
       "      <td>4.059</td>\n",
       "      <td>2.137</td>\n",
       "      <td>1.800</td>\n",
       "      <td>1.598</td>\n",
       "      <td>1.105</td>\n",
       "      <td>1.006</td>\n",
       "      <td>1.747</td>\n",
       "      <td>0.674</td>\n",
       "      <td>1.873</td>\n",
       "      <td>0.802</td>\n",
       "    </tr>\n",
       "    <tr>\n",
       "      <th>zoology</th>\n",
       "      <td>4.571</td>\n",
       "      <td>5.765</td>\n",
       "      <td>5.114</td>\n",
       "      <td>4.429</td>\n",
       "      <td>3.914</td>\n",
       "      <td>4.382</td>\n",
       "      <td>5.824</td>\n",
       "      <td>4.571</td>\n",
       "      <td>3.657</td>\n",
       "      <td>2.060</td>\n",
       "      <td>0.972</td>\n",
       "      <td>1.545</td>\n",
       "      <td>1.841</td>\n",
       "      <td>1.481</td>\n",
       "      <td>1.956</td>\n",
       "      <td>1.150</td>\n",
       "      <td>1.609</td>\n",
       "      <td>1.068</td>\n",
       "    </tr>\n",
       "  </tbody>\n",
       "</table>\n",
       "<p>5553 rows × 18 columns</p>\n",
       "</div>"
      ],
      "text/plain": [
       "            AROU_M  VAL_M  DOM_M  CNC_M  IMAG_M  FAM_M  AOA_M  SIZE_M  GEND_M  \\\n",
       "words                                                                           \n",
       "abattoir     4.200  2.864  4.333  5.455   4.391  2.382  6.760   4.652   5.391   \n",
       "abbey        3.125  5.781  4.667  5.906   5.344  3.324  5.177   5.121   3.303   \n",
       "abbreviate   3.273  5.250  5.235  3.286   3.177  5.121  5.543   2.667   3.971   \n",
       "abdicate     4.194  3.767  4.419  3.367   2.516  3.971  6.233   4.679   5.167   \n",
       "abdication   3.846  3.880  4.800  3.292   2.571  3.097  6.407   5.083   4.571   \n",
       "...            ...    ...    ...    ...     ...    ...    ...     ...     ...   \n",
       "zeppelin     6.185  5.000  5.333  6.286   6.185  3.167  6.036   5.464   5.269   \n",
       "zero         4.031  4.182  4.567  2.688   3.903  6.269  2.636   1.758   4.172   \n",
       "zest         5.969  6.818  6.121  4.438   4.033  4.000  5.364   2.636   3.452   \n",
       "zoo          5.909  6.235  5.485  6.118   6.441  5.655  2.324   4.844   4.059   \n",
       "zoology      4.571  5.765  5.114  4.429   3.914  4.382  5.824   4.571   3.657   \n",
       "\n",
       "            AROU_SD  VAL_SD  DOM_SD  CNC_SD  IMAG_SD  FAM_SD  AOA_SD  SIZE_SD  \\\n",
       "words                                                                           \n",
       "abattoir      2.400   1.740   1.285   1.900    2.121   1.799   0.427    1.549   \n",
       "abbey         2.342   1.268   1.551   1.508    1.881   1.810   1.339    1.629   \n",
       "abbreviate    1.582   1.031   1.238   1.733    1.689   1.838   1.130    1.700   \n",
       "abdicate      1.941   1.383   2.182   1.853    1.521   2.077   0.844    1.441   \n",
       "abdication    2.282   1.608   1.960   1.620    1.294   2.022   0.913    1.351   \n",
       "...             ...     ...     ...     ...      ...     ...     ...      ...   \n",
       "zeppelin      2.037   1.414   1.743   0.920    1.123   2.115   0.944    1.721   \n",
       "zero          2.023   1.585   2.124   1.895    2.347   1.195   1.123    1.393   \n",
       "zest          2.158   1.313   1.320   1.694    1.622   1.626   1.123    1.738   \n",
       "zoo           2.137   1.800   1.598   1.105    1.006   1.747   0.674    1.873   \n",
       "zoology       2.060   0.972   1.545   1.841    1.481   1.956   1.150    1.609   \n",
       "\n",
       "            GEND_SD  \n",
       "words                \n",
       "abattoir      1.170  \n",
       "abbey         1.193  \n",
       "abbreviate    0.954  \n",
       "abdicate      1.186  \n",
       "abdication    1.015  \n",
       "...             ...  \n",
       "zeppelin      1.021  \n",
       "zero          0.647  \n",
       "zest          1.011  \n",
       "zoo           0.802  \n",
       "zoology       1.068  \n",
       "\n",
       "[5553 rows x 18 columns]"
      ]
     },
     "execution_count": 18,
     "metadata": {},
     "output_type": "execute_result"
    }
   ],
   "source": [
    "## Combining mean, standard deviation, and variance:\n",
    "df_M_SD = pd.concat([df_M, df_SD], axis=1)\n",
    "df_M_SD"
   ]
  },
  {
   "cell_type": "code",
   "execution_count": null,
   "metadata": {},
   "outputs": [],
   "source": []
  },
  {
   "cell_type": "markdown",
   "metadata": {
    "tags": []
   },
   "source": [
    "----\n",
    "## Correlation Analysis of the mean of psycholinguistics dimensions"
   ]
  },
  {
   "cell_type": "code",
   "execution_count": 19,
   "metadata": {},
   "outputs": [
    {
     "data": {
      "text/plain": [
       "<Axes: >"
      ]
     },
     "execution_count": 19,
     "metadata": {},
     "output_type": "execute_result"
    },
    {
     "data": {
      "image/png": "[encoded data removed]",
      "text/plain": [
       "<Figure size 1200x600 with 2 Axes>"
      ]
     },
     "metadata": {},
     "output_type": "display_data"
    }
   ],
   "source": [
    "## Plotting the correlation map only for Mean values\n",
    "plt.figure(figsize=(12,6))\n",
    "c= df_M.corr()\n",
    "sns.heatmap(c)"
   ]
  },
  {
   "cell_type": "code",
   "execution_count": null,
   "metadata": {},
   "outputs": [],
   "source": []
  },
  {
   "cell_type": "markdown",
   "metadata": {
    "tags": []
   },
   "source": [
    "-----\n",
    "### Visualizing features with confidence interval:"
   ]
  },
  {
   "cell_type": "code",
   "execution_count": 20,
   "metadata": {},
   "outputs": [],
   "source": [
    "import plotly.graph_objects as go\n",
    "import plotly.colors as pc\n",
    "\n",
    "import cufflinks as cf\n",
    "\n",
    "\n",
    "def viz_GlasgowR(words=['dog', 'cat'], dataframe=None):\n",
    "    '''Visualiza as features psicolínguisticas de uma lista de palavras a partir \n",
    "    dos parâmetros dispostos no The Glasgow Norm, já carregados no dataframe \"words\". \n",
    "    Sintaxe: viz_GlasgowR(words, dataframe), onde:\n",
    "        words = lista de strings contidas no dicionário/base Glasgow Rate.\n",
    "        dataframe = DataFrame contendo os dados.\n",
    "        \n",
    "    Updated: 2023.08.26 - Adding alpha channel to plot standard deviation.\n",
    "    '''\n",
    "    if dataframe is None:\n",
    "        raise ValueError(\"You need to provide a DataFrame containing the data.\")\n",
    "\n",
    "    ## Eixo-x, numérico:\n",
    "    x = [1, 2, 3, 4, 5, 6, 7, 8, 9]\n",
    "    ## Rótulo do eixo-x:\n",
    "    xticks = ['AROU', 'VAL', 'DOM', 'CNC', 'IMAG', 'FAM', 'AOA', 'SIZE', 'GEND']\n",
    "    ## Labels a serem buscados no dicionário Glasgow:\n",
    "    label_M = ['AROU_M', 'VAL_M', 'DOM_M', 'CNC_M', 'IMAG_M', 'FAM_M', 'AOA_M', 'SIZE_M', 'GEND_M']\n",
    "    label_SD = ['AROU_SD', 'VAL_SD', 'DOM_SD', 'CNC_SD', 'IMAG_SD', 'FAM_SD', 'AOA_SD', 'SIZE_SD', 'GEND_M']\n",
    "    \n",
    "    # Generate a list of unique colors using Plotly's color scales\n",
    "    num_colors = len(words)\n",
    "    colors = pc.qualitative.Plotly[:num_colors]\n",
    "    \n",
    "    fig = go.Figure()\n",
    "\n",
    "    for word, color in zip(words, colors):\n",
    "        if word in dataframe.index:\n",
    "            feat_M = list(dataframe.loc[word][label_M])\n",
    "            feat_SD = list(dataframe.loc[word][label_SD])\n",
    "            y_upper = [a + b for a, b in zip(feat_M, feat_SD)]\n",
    "            y_lower = [a - b for a, b in zip(feat_M, feat_SD)]\n",
    "\n",
    "            fig.add_trace(go.Scatter(\n",
    "                x=x,\n",
    "                y=feat_M,\n",
    "                line=dict(color=color),  # Assign a unique color to each word\n",
    "                mode='lines',\n",
    "                name=word,\n",
    "                showlegend=True\n",
    "            ))\n",
    "\n",
    "            fig.add_trace(go.Scatter(\n",
    "                x=x + x[::-1],  # x, then x reversed\n",
    "                y=y_upper + y_lower[::-1],  # upper, then lower reversed\n",
    "                fill='toself',\n",
    "                # fillcolor='rgba(0,100,80,0.2)',\n",
    "                # HEX to RGBA (transparency)\n",
    "                fillcolor=cf.colors.to_rgba(color,.2),\n",
    "                line=dict(color='rgba(255,255,255,0)'),\n",
    "                hoverinfo=\"skip\",\n",
    "                showlegend=False\n",
    "            ))\n",
    "        \n",
    "    ## Atualizando o xtick label a partir do nome das colunas:\n",
    "    fig.update_layout(\n",
    "        xaxis=dict(\n",
    "            tickmode='array',\n",
    "            tickvals=[1, 2, 3, 4, 5, 6, 7, 8, 9],\n",
    "            ticktext=xticks\n",
    "        )\n",
    "    )\n",
    "    \n",
    "    return fig"
   ]
  },
  {
   "cell_type": "code",
   "execution_count": 21,
   "metadata": {},
   "outputs": [
    {
     "data": {
      "text/plain": [
       "length      3.000\n",
       "AROU_M      5.571\n",
       "AROU_SD     2.739\n",
       "AROU_N     35.000\n",
       "VAL_M       2.800\n",
       "VAL_SD      2.135\n",
       "VAL_N      35.000\n",
       "DOM_M       5.147\n",
       "DOM_SD      2.992\n",
       "DOM_N      34.000\n",
       "CNC_M       6.441\n",
       "CNC_SD      1.090\n",
       "CNC_N      34.000\n",
       "IMAG_M      6.686\n",
       "IMAG_SD     0.785\n",
       "IMAG_N     35.000\n",
       "FAM_M       6.429\n",
       "FAM_SD      0.871\n",
       "FAM_N      35.000\n",
       "AOA_M       2.857\n",
       "AOA_SD      1.199\n",
       "AOA_N      35.000\n",
       "SIZE_M      3.647\n",
       "SIZE_SD     1.998\n",
       "SIZE_N     34.000\n",
       "GEND_M      6.057\n",
       "GEND_SD     0.826\n",
       "GEND_N     35.000\n",
       "Name: gun, dtype: float64"
      ]
     },
     "execution_count": 21,
     "metadata": {},
     "output_type": "execute_result"
    }
   ],
   "source": [
    "glasgow.loc['gun']"
   ]
  },
  {
   "cell_type": "code",
   "execution_count": 22,
   "metadata": {},
   "outputs": [
    {
     "data": {
      "application/vnd.plotly.v1+json": {
       "config": {
        "plotlyServerURL": "https://plot.ly"
       },
       "data": [
        {
         "line": {
          "color": "#636EFA"
         },
         "mode": "lines",
         "name": "woman",
         "showlegend": true,
         "type": "scatter",
         "x": [
          1,
          2,
          3,
          4,
          5,
          6,
          7,
          8,
          9
         ],
         "y": [
          5.719,
          6.939,
          6.333,
          6.515,
          6.606,
          6.697,
          2,
          4.606,
          1.314
         ]
        },
        {
         "fill": "toself",
         "fillcolor": "rgba(99, 110, 250, 0.2)",
         "hoverinfo": "skip",
         "line": {
          "color": "rgba(255,255,255,0)"
         },
         "showlegend": false,
         "type": "scatter",
         "x": [
          1,
          2,
          3,
          4,
          5,
          6,
          7,
          8,
          9,
          9,
          8,
          7,
          6,
          5,
          4,
          3,
          2,
          1
         ],
         "y": [
          7.643000000000001,
          8.514,
          8.373000000000001,
          7.372,
          7.3,
          7.324,
          3.138,
          5.835,
          2.628,
          0,
          3.377,
          0.8620000000000001,
          6.07,
          5.912,
          5.6579999999999995,
          4.293,
          5.364,
          3.7950000000000004
         ]
        }
       ],
       "layout": {
        "template": {
         "data": {
          "bar": [
           {
            "error_x": {
             "color": "#2a3f5f"
            },
            "error_y": {
             "color": "#2a3f5f"
            },
            "marker": {
             "line": {
              "color": "#E5ECF6",
              "width": 0.5
             },
             "pattern": {
              "fillmode": "overlay",
              "size": 10,
              "solidity": 0.2
             }
            },
            "type": "bar"
           }
          ],
          "barpolar": [
           {
            "marker": {
             "line": {
              "color": "#E5ECF6",
              "width": 0.5
             },
             "pattern": {
              "fillmode": "overlay",
              "size": 10,
              "solidity": 0.2
             }
            },
            "type": "barpolar"
           }
          ],
          "carpet": [
           {
            "aaxis": {
             "endlinecolor": "#2a3f5f",
             "gridcolor": "white",
             "linecolor": "white",
             "minorgridcolor": "white",
             "startlinecolor": "#2a3f5f"
            },
            "baxis": {
             "endlinecolor": "#2a3f5f",
             "gridcolor": "white",
             "linecolor": "white",
             "minorgridcolor": "white",
             "startlinecolor": "#2a3f5f"
            },
            "type": "carpet"
           }
          ],
          "choropleth": [
           {
            "colorbar": {
             "outlinewidth": 0,
             "ticks": ""
            },
            "type": "choropleth"
           }
          ],
          "contour": [
           {
            "colorbar": {
             "outlinewidth": 0,
             "ticks": ""
            },
            "colorscale": [
             [
              0,
              "#0d0887"
             ],
             [
              0.1111111111111111,
              "#46039f"
             ],
             [
              0.2222222222222222,
              "#7201a8"
             ],
             [
              0.3333333333333333,
              "#9c179e"
             ],
             [
              0.4444444444444444,
              "#bd3786"
             ],
             [
              0.5555555555555556,
              "#d8576b"
             ],
             [
              0.6666666666666666,
              "#ed7953"
             ],
             [
              0.7777777777777778,
              "#fb9f3a"
             ],
             [
              0.8888888888888888,
              "#fdca26"
             ],
             [
              1,
              "#f0f921"
             ]
            ],
            "type": "contour"
           }
          ],
          "contourcarpet": [
           {
            "colorbar": {
             "outlinewidth": 0,
             "ticks": ""
            },
            "type": "contourcarpet"
           }
          ],
          "heatmap": [
           {
            "colorbar": {
             "outlinewidth": 0,
             "ticks": ""
            },
            "colorscale": [
             [
              0,
              "#0d0887"
             ],
             [
              0.1111111111111111,
              "#46039f"
             ],
             [
              0.2222222222222222,
              "#7201a8"
             ],
             [
              0.3333333333333333,
              "#9c179e"
             ],
             [
              0.4444444444444444,
              "#bd3786"
             ],
             [
              0.5555555555555556,
              "#d8576b"
             ],
             [
              0.6666666666666666,
              "#ed7953"
             ],
             [
              0.7777777777777778,
              "#fb9f3a"
             ],
             [
              0.8888888888888888,
              "#fdca26"
             ],
             [
              1,
              "#f0f921"
             ]
            ],
            "type": "heatmap"
           }
          ],
          "heatmapgl": [
           {
            "colorbar": {
             "outlinewidth": 0,
             "ticks": ""
            },
            "colorscale": [
             [
              0,
              "#0d0887"
             ],
             [
              0.1111111111111111,
              "#46039f"
             ],
             [
              0.2222222222222222,
              "#7201a8"
             ],
             [
              0.3333333333333333,
              "#9c179e"
             ],
             [
              0.4444444444444444,
              "#bd3786"
             ],
             [
              0.5555555555555556,
              "#d8576b"
             ],
             [
              0.6666666666666666,
              "#ed7953"
             ],
             [
              0.7777777777777778,
              "#fb9f3a"
             ],
             [
              0.8888888888888888,
              "#fdca26"
             ],
             [
              1,
              "#f0f921"
             ]
            ],
            "type": "heatmapgl"
           }
          ],
          "histogram": [
           {
            "marker": {
             "pattern": {
              "fillmode": "overlay",
              "size": 10,
              "solidity": 0.2
             }
            },
            "type": "histogram"
           }
          ],
          "histogram2d": [
           {
            "colorbar": {
             "outlinewidth": 0,
             "ticks": ""
            },
            "colorscale": [
             [
              0,
              "#0d0887"
             ],
             [
              0.1111111111111111,
              "#46039f"
             ],
             [
              0.2222222222222222,
              "#7201a8"
             ],
             [
              0.3333333333333333,
              "#9c179e"
             ],
             [
              0.4444444444444444,
              "#bd3786"
             ],
             [
              0.5555555555555556,
              "#d8576b"
             ],
             [
              0.6666666666666666,
              "#ed7953"
             ],
             [
              0.7777777777777778,
              "#fb9f3a"
             ],
             [
              0.8888888888888888,
              "#fdca26"
             ],
             [
              1,
              "#f0f921"
             ]
            ],
            "type": "histogram2d"
           }
          ],
          "histogram2dcontour": [
           {
            "colorbar": {
             "outlinewidth": 0,
             "ticks": ""
            },
            "colorscale": [
             [
              0,
              "#0d0887"
             ],
             [
              0.1111111111111111,
              "#46039f"
             ],
             [
              0.2222222222222222,
              "#7201a8"
             ],
             [
              0.3333333333333333,
              "#9c179e"
             ],
             [
              0.4444444444444444,
              "#bd3786"
             ],
             [
              0.5555555555555556,
              "#d8576b"
             ],
             [
              0.6666666666666666,
              "#ed7953"
             ],
             [
              0.7777777777777778,
              "#fb9f3a"
             ],
             [
              0.8888888888888888,
              "#fdca26"
             ],
             [
              1,
              "#f0f921"
             ]
            ],
            "type": "histogram2dcontour"
           }
          ],
          "mesh3d": [
           {
            "colorbar": {
             "outlinewidth": 0,
             "ticks": ""
            },
            "type": "mesh3d"
           }
          ],
          "parcoords": [
           {
            "line": {
             "colorbar": {
              "outlinewidth": 0,
              "ticks": ""
             }
            },
            "type": "parcoords"
           }
          ],
          "pie": [
           {
            "automargin": true,
            "type": "pie"
           }
          ],
          "scatter": [
           {
            "fillpattern": {
             "fillmode": "overlay",
             "size": 10,
             "solidity": 0.2
            },
            "type": "scatter"
           }
          ],
          "scatter3d": [
           {
            "line": {
             "colorbar": {
              "outlinewidth": 0,
              "ticks": ""
             }
            },
            "marker": {
             "colorbar": {
              "outlinewidth": 0,
              "ticks": ""
             }
            },
            "type": "scatter3d"
           }
          ],
          "scattercarpet": [
           {
            "marker": {
             "colorbar": {
              "outlinewidth": 0,
              "ticks": ""
             }
            },
            "type": "scattercarpet"
           }
          ],
          "scattergeo": [
           {
            "marker": {
             "colorbar": {
              "outlinewidth": 0,
              "ticks": ""
             }
            },
            "type": "scattergeo"
           }
          ],
          "scattergl": [
           {
            "marker": {
             "colorbar": {
              "outlinewidth": 0,
              "ticks": ""
             }
            },
            "type": "scattergl"
           }
          ],
          "scattermapbox": [
           {
            "marker": {
             "colorbar": {
              "outlinewidth": 0,
              "ticks": ""
             }
            },
            "type": "scattermapbox"
           }
          ],
          "scatterpolar": [
           {
            "marker": {
             "colorbar": {
              "outlinewidth": 0,
              "ticks": ""
             }
            },
            "type": "scatterpolar"
           }
          ],
          "scatterpolargl": [
           {
            "marker": {
             "colorbar": {
              "outlinewidth": 0,
              "ticks": ""
             }
            },
            "type": "scatterpolargl"
           }
          ],
          "scatterternary": [
           {
            "marker": {
             "colorbar": {
              "outlinewidth": 0,
              "ticks": ""
             }
            },
            "type": "scatterternary"
           }
          ],
          "surface": [
           {
            "colorbar": {
             "outlinewidth": 0,
             "ticks": ""
            },
            "colorscale": [
             [
              0,
              "#0d0887"
             ],
             [
              0.1111111111111111,
              "#46039f"
             ],
             [
              0.2222222222222222,
              "#7201a8"
             ],
             [
              0.3333333333333333,
              "#9c179e"
             ],
             [
              0.4444444444444444,
              "#bd3786"
             ],
             [
              0.5555555555555556,
              "#d8576b"
             ],
             [
              0.6666666666666666,
              "#ed7953"
             ],
             [
              0.7777777777777778,
              "#fb9f3a"
             ],
             [
              0.8888888888888888,
              "#fdca26"
             ],
             [
              1,
              "#f0f921"
             ]
            ],
            "type": "surface"
           }
          ],
          "table": [
           {
            "cells": {
             "fill": {
              "color": "#EBF0F8"
             },
             "line": {
              "color": "white"
             }
            },
            "header": {
             "fill": {
              "color": "#C8D4E3"
             },
             "line": {
              "color": "white"
             }
            },
            "type": "table"
           }
          ]
         },
         "layout": {
          "annotationdefaults": {
           "arrowcolor": "#2a3f5f",
           "arrowhead": 0,
           "arrowwidth": 1
          },
          "autotypenumbers": "strict",
          "coloraxis": {
           "colorbar": {
            "outlinewidth": 0,
            "ticks": ""
           }
          },
          "colorscale": {
           "diverging": [
            [
             0,
             "#8e0152"
            ],
            [
             0.1,
             "#c51b7d"
            ],
            [
             0.2,
             "#de77ae"
            ],
            [
             0.3,
             "#f1b6da"
            ],
            [
             0.4,
             "#fde0ef"
            ],
            [
             0.5,
             "#f7f7f7"
            ],
            [
             0.6,
             "#e6f5d0"
            ],
            [
             0.7,
             "#b8e186"
            ],
            [
             0.8,
             "#7fbc41"
            ],
            [
             0.9,
             "#4d9221"
            ],
            [
             1,
             "#276419"
            ]
           ],
           "sequential": [
            [
             0,
             "#0d0887"
            ],
            [
             0.1111111111111111,
             "#46039f"
            ],
            [
             0.2222222222222222,
             "#7201a8"
            ],
            [
             0.3333333333333333,
             "#9c179e"
            ],
            [
             0.4444444444444444,
             "#bd3786"
            ],
            [
             0.5555555555555556,
             "#d8576b"
            ],
            [
             0.6666666666666666,
             "#ed7953"
            ],
            [
             0.7777777777777778,
             "#fb9f3a"
            ],
            [
             0.8888888888888888,
             "#fdca26"
            ],
            [
             1,
             "#f0f921"
            ]
           ],
           "sequentialminus": [
            [
             0,
             "#0d0887"
            ],
            [
             0.1111111111111111,
             "#46039f"
            ],
            [
             0.2222222222222222,
             "#7201a8"
            ],
            [
             0.3333333333333333,
             "#9c179e"
            ],
            [
             0.4444444444444444,
             "#bd3786"
            ],
            [
             0.5555555555555556,
             "#d8576b"
            ],
            [
             0.6666666666666666,
             "#ed7953"
            ],
            [
             0.7777777777777778,
             "#fb9f3a"
            ],
            [
             0.8888888888888888,
             "#fdca26"
            ],
            [
             1,
             "#f0f921"
            ]
           ]
          },
          "colorway": [
           "#636efa",
           "#EF553B",
           "#00cc96",
           "#ab63fa",
           "#FFA15A",
           "#19d3f3",
           "#FF6692",
           "#B6E880",
           "#FF97FF",
           "#FECB52"
          ],
          "font": {
           "color": "#2a3f5f"
          },
          "geo": {
           "bgcolor": "white",
           "lakecolor": "white",
           "landcolor": "#E5ECF6",
           "showlakes": true,
           "showland": true,
           "subunitcolor": "white"
          },
          "hoverlabel": {
           "align": "left"
          },
          "hovermode": "closest",
          "mapbox": {
           "style": "light"
          },
          "paper_bgcolor": "white",
          "plot_bgcolor": "#E5ECF6",
          "polar": {
           "angularaxis": {
            "gridcolor": "white",
            "linecolor": "white",
            "ticks": ""
           },
           "bgcolor": "#E5ECF6",
           "radialaxis": {
            "gridcolor": "white",
            "linecolor": "white",
            "ticks": ""
           }
          },
          "scene": {
           "xaxis": {
            "backgroundcolor": "#E5ECF6",
            "gridcolor": "white",
            "gridwidth": 2,
            "linecolor": "white",
            "showbackground": true,
            "ticks": "",
            "zerolinecolor": "white"
           },
           "yaxis": {
            "backgroundcolor": "#E5ECF6",
            "gridcolor": "white",
            "gridwidth": 2,
            "linecolor": "white",
            "showbackground": true,
            "ticks": "",
            "zerolinecolor": "white"
           },
           "zaxis": {
            "backgroundcolor": "#E5ECF6",
            "gridcolor": "white",
            "gridwidth": 2,
            "linecolor": "white",
            "showbackground": true,
            "ticks": "",
            "zerolinecolor": "white"
           }
          },
          "shapedefaults": {
           "line": {
            "color": "#2a3f5f"
           }
          },
          "ternary": {
           "aaxis": {
            "gridcolor": "white",
            "linecolor": "white",
            "ticks": ""
           },
           "baxis": {
            "gridcolor": "white",
            "linecolor": "white",
            "ticks": ""
           },
           "bgcolor": "#E5ECF6",
           "caxis": {
            "gridcolor": "white",
            "linecolor": "white",
            "ticks": ""
           }
          },
          "title": {
           "x": 0.05
          },
          "xaxis": {
           "automargin": true,
           "gridcolor": "white",
           "linecolor": "white",
           "ticks": "",
           "title": {
            "standoff": 15
           },
           "zerolinecolor": "white",
           "zerolinewidth": 2
          },
          "yaxis": {
           "automargin": true,
           "gridcolor": "white",
           "linecolor": "white",
           "ticks": "",
           "title": {
            "standoff": 15
           },
           "zerolinecolor": "white",
           "zerolinewidth": 2
          }
         }
        },
        "xaxis": {
         "tickmode": "array",
         "ticktext": [
          "AROU",
          "VAL",
          "DOM",
          "CNC",
          "IMAG",
          "FAM",
          "AOA",
          "SIZE",
          "GEND"
         ],
         "tickvals": [
          1,
          2,
          3,
          4,
          5,
          6,
          7,
          8,
          9
         ]
        }
       }
      }
     },
     "metadata": {},
     "output_type": "display_data"
    }
   ],
   "source": [
    "viz_GlasgowR(words=['woman'], dataframe=glasgow)"
   ]
  },
  {
   "cell_type": "code",
   "execution_count": 29,
   "metadata": {},
   "outputs": [
    {
     "data": {
      "application/vnd.plotly.v1+json": {
       "config": {
        "plotlyServerURL": "https://plot.ly"
       },
       "data": [
        {
         "line": {
          "color": "#636EFA"
         },
         "mode": "lines",
         "name": "dog",
         "showlegend": true,
         "type": "scatter",
         "x": [
          1,
          2,
          3,
          4,
          5,
          6,
          7,
          8,
          9
         ],
         "y": [
          6.147,
          7.067,
          6.242,
          6.833,
          6.889,
          6.84,
          1.735,
          3.273,
          4.606
         ]
        },
        {
         "fill": "toself",
         "fillcolor": "rgba(99, 110, 250, 0.2)",
         "hoverinfo": "skip",
         "line": {
          "color": "rgba(255,255,255,0)"
         },
         "showlegend": false,
         "type": "scatter",
         "x": [
          1,
          2,
          3,
          4,
          5,
          6,
          7,
          8,
          9,
          9,
          8,
          7,
          6,
          5,
          4,
          3,
          2,
          1
         ],
         "y": [
          8.332,
          8.304,
          8.035,
          7.2860000000000005,
          7.203,
          7.303,
          2.391,
          4.511,
          9.212,
          0,
          2.035,
          1.0790000000000002,
          6.377,
          6.575,
          6.38,
          4.449,
          5.83,
          3.962
         ]
        },
        {
         "line": {
          "color": "#EF553B"
         },
         "mode": "lines",
         "name": "dream",
         "showlegend": true,
         "type": "scatter",
         "x": [
          1,
          2,
          3,
          4,
          5,
          6,
          7,
          8,
          9
         ],
         "y": [
          6.303,
          7.406,
          5.125,
          2.719,
          4.059,
          6.615,
          2.824,
          5.5,
          3.094
         ]
        },
        {
         "fill": "toself",
         "fillcolor": "rgba(239, 85, 59, 0.2)",
         "hoverinfo": "skip",
         "line": {
          "color": "rgba(255,255,255,0)"
         },
         "showlegend": false,
         "type": "scatter",
         "x": [
          1,
          2,
          3,
          4,
          5,
          6,
          7,
          8,
          9,
          9,
          8,
          7,
          6,
          5,
          4,
          3,
          2,
          1
         ],
         "y": [
          8.498,
          8.52,
          7.634,
          4.56,
          5.968,
          7.175000000000001,
          3.53,
          6.59,
          6.188,
          0,
          4.41,
          2.118,
          6.055,
          2.1500000000000004,
          0.8779999999999999,
          2.616,
          6.292,
          4.1080000000000005
         ]
        }
       ],
       "layout": {
        "template": {
         "data": {
          "bar": [
           {
            "error_x": {
             "color": "#2a3f5f"
            },
            "error_y": {
             "color": "#2a3f5f"
            },
            "marker": {
             "line": {
              "color": "#E5ECF6",
              "width": 0.5
             },
             "pattern": {
              "fillmode": "overlay",
              "size": 10,
              "solidity": 0.2
             }
            },
            "type": "bar"
           }
          ],
          "barpolar": [
           {
            "marker": {
             "line": {
              "color": "#E5ECF6",
              "width": 0.5
             },
             "pattern": {
              "fillmode": "overlay",
              "size": 10,
              "solidity": 0.2
             }
            },
            "type": "barpolar"
           }
          ],
          "carpet": [
           {
            "aaxis": {
             "endlinecolor": "#2a3f5f",
             "gridcolor": "white",
             "linecolor": "white",
             "minorgridcolor": "white",
             "startlinecolor": "#2a3f5f"
            },
            "baxis": {
             "endlinecolor": "#2a3f5f",
             "gridcolor": "white",
             "linecolor": "white",
             "minorgridcolor": "white",
             "startlinecolor": "#2a3f5f"
            },
            "type": "carpet"
           }
          ],
          "choropleth": [
           {
            "colorbar": {
             "outlinewidth": 0,
             "ticks": ""
            },
            "type": "choropleth"
           }
          ],
          "contour": [
           {
            "colorbar": {
             "outlinewidth": 0,
             "ticks": ""
            },
            "colorscale": [
             [
              0,
              "#0d0887"
             ],
             [
              0.1111111111111111,
              "#46039f"
             ],
             [
              0.2222222222222222,
              "#7201a8"
             ],
             [
              0.3333333333333333,
              "#9c179e"
             ],
             [
              0.4444444444444444,
              "#bd3786"
             ],
             [
              0.5555555555555556,
              "#d8576b"
             ],
             [
              0.6666666666666666,
              "#ed7953"
             ],
             [
              0.7777777777777778,
              "#fb9f3a"
             ],
             [
              0.8888888888888888,
              "#fdca26"
             ],
             [
              1,
              "#f0f921"
             ]
            ],
            "type": "contour"
           }
          ],
          "contourcarpet": [
           {
            "colorbar": {
             "outlinewidth": 0,
             "ticks": ""
            },
            "type": "contourcarpet"
           }
          ],
          "heatmap": [
           {
            "colorbar": {
             "outlinewidth": 0,
             "ticks": ""
            },
            "colorscale": [
             [
              0,
              "#0d0887"
             ],
             [
              0.1111111111111111,
              "#46039f"
             ],
             [
              0.2222222222222222,
              "#7201a8"
             ],
             [
              0.3333333333333333,
              "#9c179e"
             ],
             [
              0.4444444444444444,
              "#bd3786"
             ],
             [
              0.5555555555555556,
              "#d8576b"
             ],
             [
              0.6666666666666666,
              "#ed7953"
             ],
             [
              0.7777777777777778,
              "#fb9f3a"
             ],
             [
              0.8888888888888888,
              "#fdca26"
             ],
             [
              1,
              "#f0f921"
             ]
            ],
            "type": "heatmap"
           }
          ],
          "heatmapgl": [
           {
            "colorbar": {
             "outlinewidth": 0,
             "ticks": ""
            },
            "colorscale": [
             [
              0,
              "#0d0887"
             ],
             [
              0.1111111111111111,
              "#46039f"
             ],
             [
              0.2222222222222222,
              "#7201a8"
             ],
             [
              0.3333333333333333,
              "#9c179e"
             ],
             [
              0.4444444444444444,
              "#bd3786"
             ],
             [
              0.5555555555555556,
              "#d8576b"
             ],
             [
              0.6666666666666666,
              "#ed7953"
             ],
             [
              0.7777777777777778,
              "#fb9f3a"
             ],
             [
              0.8888888888888888,
              "#fdca26"
             ],
             [
              1,
              "#f0f921"
             ]
            ],
            "type": "heatmapgl"
           }
          ],
          "histogram": [
           {
            "marker": {
             "pattern": {
              "fillmode": "overlay",
              "size": 10,
              "solidity": 0.2
             }
            },
            "type": "histogram"
           }
          ],
          "histogram2d": [
           {
            "colorbar": {
             "outlinewidth": 0,
             "ticks": ""
            },
            "colorscale": [
             [
              0,
              "#0d0887"
             ],
             [
              0.1111111111111111,
              "#46039f"
             ],
             [
              0.2222222222222222,
              "#7201a8"
             ],
             [
              0.3333333333333333,
              "#9c179e"
             ],
             [
              0.4444444444444444,
              "#bd3786"
             ],
             [
              0.5555555555555556,
              "#d8576b"
             ],
             [
              0.6666666666666666,
              "#ed7953"
             ],
             [
              0.7777777777777778,
              "#fb9f3a"
             ],
             [
              0.8888888888888888,
              "#fdca26"
             ],
             [
              1,
              "#f0f921"
             ]
            ],
            "type": "histogram2d"
           }
          ],
          "histogram2dcontour": [
           {
            "colorbar": {
             "outlinewidth": 0,
             "ticks": ""
            },
            "colorscale": [
             [
              0,
              "#0d0887"
             ],
             [
              0.1111111111111111,
              "#46039f"
             ],
             [
              0.2222222222222222,
              "#7201a8"
             ],
             [
              0.3333333333333333,
              "#9c179e"
             ],
             [
              0.4444444444444444,
              "#bd3786"
             ],
             [
              0.5555555555555556,
              "#d8576b"
             ],
             [
              0.6666666666666666,
              "#ed7953"
             ],
             [
              0.7777777777777778,
              "#fb9f3a"
             ],
             [
              0.8888888888888888,
              "#fdca26"
             ],
             [
              1,
              "#f0f921"
             ]
            ],
            "type": "histogram2dcontour"
           }
          ],
          "mesh3d": [
           {
            "colorbar": {
             "outlinewidth": 0,
             "ticks": ""
            },
            "type": "mesh3d"
           }
          ],
          "parcoords": [
           {
            "line": {
             "colorbar": {
              "outlinewidth": 0,
              "ticks": ""
             }
            },
            "type": "parcoords"
           }
          ],
          "pie": [
           {
            "automargin": true,
            "type": "pie"
           }
          ],
          "scatter": [
           {
            "fillpattern": {
             "fillmode": "overlay",
             "size": 10,
             "solidity": 0.2
            },
            "type": "scatter"
           }
          ],
          "scatter3d": [
           {
            "line": {
             "colorbar": {
              "outlinewidth": 0,
              "ticks": ""
             }
            },
            "marker": {
             "colorbar": {
              "outlinewidth": 0,
              "ticks": ""
             }
            },
            "type": "scatter3d"
           }
          ],
          "scattercarpet": [
           {
            "marker": {
             "colorbar": {
              "outlinewidth": 0,
              "ticks": ""
             }
            },
            "type": "scattercarpet"
           }
          ],
          "scattergeo": [
           {
            "marker": {
             "colorbar": {
              "outlinewidth": 0,
              "ticks": ""
             }
            },
            "type": "scattergeo"
           }
          ],
          "scattergl": [
           {
            "marker": {
             "colorbar": {
              "outlinewidth": 0,
              "ticks": ""
             }
            },
            "type": "scattergl"
           }
          ],
          "scattermapbox": [
           {
            "marker": {
             "colorbar": {
              "outlinewidth": 0,
              "ticks": ""
             }
            },
            "type": "scattermapbox"
           }
          ],
          "scatterpolar": [
           {
            "marker": {
             "colorbar": {
              "outlinewidth": 0,
              "ticks": ""
             }
            },
            "type": "scatterpolar"
           }
          ],
          "scatterpolargl": [
           {
            "marker": {
             "colorbar": {
              "outlinewidth": 0,
              "ticks": ""
             }
            },
            "type": "scatterpolargl"
           }
          ],
          "scatterternary": [
           {
            "marker": {
             "colorbar": {
              "outlinewidth": 0,
              "ticks": ""
             }
            },
            "type": "scatterternary"
           }
          ],
          "surface": [
           {
            "colorbar": {
             "outlinewidth": 0,
             "ticks": ""
            },
            "colorscale": [
             [
              0,
              "#0d0887"
             ],
             [
              0.1111111111111111,
              "#46039f"
             ],
             [
              0.2222222222222222,
              "#7201a8"
             ],
             [
              0.3333333333333333,
              "#9c179e"
             ],
             [
              0.4444444444444444,
              "#bd3786"
             ],
             [
              0.5555555555555556,
              "#d8576b"
             ],
             [
              0.6666666666666666,
              "#ed7953"
             ],
             [
              0.7777777777777778,
              "#fb9f3a"
             ],
             [
              0.8888888888888888,
              "#fdca26"
             ],
             [
              1,
              "#f0f921"
             ]
            ],
            "type": "surface"
           }
          ],
          "table": [
           {
            "cells": {
             "fill": {
              "color": "#EBF0F8"
             },
             "line": {
              "color": "white"
             }
            },
            "header": {
             "fill": {
              "color": "#C8D4E3"
             },
             "line": {
              "color": "white"
             }
            },
            "type": "table"
           }
          ]
         },
         "layout": {
          "annotationdefaults": {
           "arrowcolor": "#2a3f5f",
           "arrowhead": 0,
           "arrowwidth": 1
          },
          "autotypenumbers": "strict",
          "coloraxis": {
           "colorbar": {
            "outlinewidth": 0,
            "ticks": ""
           }
          },
          "colorscale": {
           "diverging": [
            [
             0,
             "#8e0152"
            ],
            [
             0.1,
             "#c51b7d"
            ],
            [
             0.2,
             "#de77ae"
            ],
            [
             0.3,
             "#f1b6da"
            ],
            [
             0.4,
             "#fde0ef"
            ],
            [
             0.5,
             "#f7f7f7"
            ],
            [
             0.6,
             "#e6f5d0"
            ],
            [
             0.7,
             "#b8e186"
            ],
            [
             0.8,
             "#7fbc41"
            ],
            [
             0.9,
             "#4d9221"
            ],
            [
             1,
             "#276419"
            ]
           ],
           "sequential": [
            [
             0,
             "#0d0887"
            ],
            [
             0.1111111111111111,
             "#46039f"
            ],
            [
             0.2222222222222222,
             "#7201a8"
            ],
            [
             0.3333333333333333,
             "#9c179e"
            ],
            [
             0.4444444444444444,
             "#bd3786"
            ],
            [
             0.5555555555555556,
             "#d8576b"
            ],
            [
             0.6666666666666666,
             "#ed7953"
            ],
            [
             0.7777777777777778,
             "#fb9f3a"
            ],
            [
             0.8888888888888888,
             "#fdca26"
            ],
            [
             1,
             "#f0f921"
            ]
           ],
           "sequentialminus": [
            [
             0,
             "#0d0887"
            ],
            [
             0.1111111111111111,
             "#46039f"
            ],
            [
             0.2222222222222222,
             "#7201a8"
            ],
            [
             0.3333333333333333,
             "#9c179e"
            ],
            [
             0.4444444444444444,
             "#bd3786"
            ],
            [
             0.5555555555555556,
             "#d8576b"
            ],
            [
             0.6666666666666666,
             "#ed7953"
            ],
            [
             0.7777777777777778,
             "#fb9f3a"
            ],
            [
             0.8888888888888888,
             "#fdca26"
            ],
            [
             1,
             "#f0f921"
            ]
           ]
          },
          "colorway": [
           "#636efa",
           "#EF553B",
           "#00cc96",
           "#ab63fa",
           "#FFA15A",
           "#19d3f3",
           "#FF6692",
           "#B6E880",
           "#FF97FF",
           "#FECB52"
          ],
          "font": {
           "color": "#2a3f5f"
          },
          "geo": {
           "bgcolor": "white",
           "lakecolor": "white",
           "landcolor": "#E5ECF6",
           "showlakes": true,
           "showland": true,
           "subunitcolor": "white"
          },
          "hoverlabel": {
           "align": "left"
          },
          "hovermode": "closest",
          "mapbox": {
           "style": "light"
          },
          "paper_bgcolor": "white",
          "plot_bgcolor": "#E5ECF6",
          "polar": {
           "angularaxis": {
            "gridcolor": "white",
            "linecolor": "white",
            "ticks": ""
           },
           "bgcolor": "#E5ECF6",
           "radialaxis": {
            "gridcolor": "white",
            "linecolor": "white",
            "ticks": ""
           }
          },
          "scene": {
           "xaxis": {
            "backgroundcolor": "#E5ECF6",
            "gridcolor": "white",
            "gridwidth": 2,
            "linecolor": "white",
            "showbackground": true,
            "ticks": "",
            "zerolinecolor": "white"
           },
           "yaxis": {
            "backgroundcolor": "#E5ECF6",
            "gridcolor": "white",
            "gridwidth": 2,
            "linecolor": "white",
            "showbackground": true,
            "ticks": "",
            "zerolinecolor": "white"
           },
           "zaxis": {
            "backgroundcolor": "#E5ECF6",
            "gridcolor": "white",
            "gridwidth": 2,
            "linecolor": "white",
            "showbackground": true,
            "ticks": "",
            "zerolinecolor": "white"
           }
          },
          "shapedefaults": {
           "line": {
            "color": "#2a3f5f"
           }
          },
          "ternary": {
           "aaxis": {
            "gridcolor": "white",
            "linecolor": "white",
            "ticks": ""
           },
           "baxis": {
            "gridcolor": "white",
            "linecolor": "white",
            "ticks": ""
           },
           "bgcolor": "#E5ECF6",
           "caxis": {
            "gridcolor": "white",
            "linecolor": "white",
            "ticks": ""
           }
          },
          "title": {
           "x": 0.05
          },
          "xaxis": {
           "automargin": true,
           "gridcolor": "white",
           "linecolor": "white",
           "ticks": "",
           "title": {
            "standoff": 15
           },
           "zerolinecolor": "white",
           "zerolinewidth": 2
          },
          "yaxis": {
           "automargin": true,
           "gridcolor": "white",
           "linecolor": "white",
           "ticks": "",
           "title": {
            "standoff": 15
           },
           "zerolinecolor": "white",
           "zerolinewidth": 2
          }
         }
        },
        "xaxis": {
         "tickmode": "array",
         "ticktext": [
          "AROU",
          "VAL",
          "DOM",
          "CNC",
          "IMAG",
          "FAM",
          "AOA",
          "SIZE",
          "GEND"
         ],
         "tickvals": [
          1,
          2,
          3,
          4,
          5,
          6,
          7,
          8,
          9
         ]
        }
       }
      }
     },
     "metadata": {},
     "output_type": "display_data"
    }
   ],
   "source": [
    "viz_GlasgowR(words=['dog', 'dream'], dataframe=glasgow)"
   ]
  },
  {
   "cell_type": "markdown",
   "metadata": {},
   "source": [
    "> Experimenting some words visualization:"
   ]
  },
  {
   "cell_type": "code",
   "execution_count": 30,
   "metadata": {
    "ExecuteTime": {
     "end_time": "2022-04-28T23:16:20.025112Z",
     "start_time": "2022-04-28T23:16:19.959022Z"
    }
   },
   "outputs": [
    {
     "data": {
      "application/vnd.plotly.v1+json": {
       "config": {
        "plotlyServerURL": "https://plot.ly"
       },
       "data": [
        {
         "line": {
          "color": "#636EFA"
         },
         "mode": "lines",
         "name": "elephant",
         "showlegend": true,
         "type": "scatter",
         "x": [
          1,
          2,
          3,
          4,
          5,
          6,
          7,
          8,
          9
         ],
         "y": [
          4.864,
          5.938,
          5.364,
          6.891,
          6.857,
          5.9,
          2.224,
          5.692,
          4.516
         ]
        },
        {
         "fill": "toself",
         "fillcolor": "rgba(99, 110, 250, 0.2)",
         "hoverinfo": "skip",
         "line": {
          "color": "rgba(255,255,255,0)"
         },
         "showlegend": false,
         "type": "scatter",
         "x": [
          1,
          2,
          3,
          4,
          5,
          6,
          7,
          8,
          9,
          9,
          8,
          7,
          6,
          5,
          4,
          3,
          2,
          1
         ],
         "y": [
          7.0649999999999995,
          7.247999999999999,
          6.9559999999999995,
          7.203,
          7.324,
          7.346,
          3.0490000000000004,
          7.463,
          9.032,
          0,
          3.9210000000000003,
          1.3990000000000002,
          4.454000000000001,
          6.390000000000001,
          6.579,
          3.772,
          4.628,
          2.663
         ]
        },
        {
         "line": {
          "color": "#EF553B"
         },
         "mode": "lines",
         "name": "worm",
         "showlegend": true,
         "type": "scatter",
         "x": [
          1,
          2,
          3,
          4,
          5,
          6,
          7,
          8,
          9
         ],
         "y": [
          3.324,
          4.125,
          4.938,
          6.613,
          6.786,
          5.448,
          2.412,
          1.576,
          4.813
         ]
        },
        {
         "fill": "toself",
         "fillcolor": "rgba(239, 85, 59, 0.2)",
         "hoverinfo": "skip",
         "line": {
          "color": "rgba(255,255,255,0)"
         },
         "showlegend": false,
         "type": "scatter",
         "x": [
          1,
          2,
          3,
          4,
          5,
          6,
          7,
          8,
          9,
          9,
          8,
          7,
          6,
          5,
          4,
          3,
          2,
          1
         ],
         "y": [
          5.167,
          5.511,
          6.5569999999999995,
          7.361000000000001,
          7.343999999999999,
          6.876,
          2.961,
          2.498,
          9.626,
          0,
          0.654,
          1.863,
          4.0200000000000005,
          6.228,
          5.865,
          3.319,
          2.739,
          1.4809999999999999
         ]
        }
       ],
       "layout": {
        "template": {
         "data": {
          "bar": [
           {
            "error_x": {
             "color": "#2a3f5f"
            },
            "error_y": {
             "color": "#2a3f5f"
            },
            "marker": {
             "line": {
              "color": "#E5ECF6",
              "width": 0.5
             },
             "pattern": {
              "fillmode": "overlay",
              "size": 10,
              "solidity": 0.2
             }
            },
            "type": "bar"
           }
          ],
          "barpolar": [
           {
            "marker": {
             "line": {
              "color": "#E5ECF6",
              "width": 0.5
             },
             "pattern": {
              "fillmode": "overlay",
              "size": 10,
              "solidity": 0.2
             }
            },
            "type": "barpolar"
           }
          ],
          "carpet": [
           {
            "aaxis": {
             "endlinecolor": "#2a3f5f",
             "gridcolor": "white",
             "linecolor": "white",
             "minorgridcolor": "white",
             "startlinecolor": "#2a3f5f"
            },
            "baxis": {
             "endlinecolor": "#2a3f5f",
             "gridcolor": "white",
             "linecolor": "white",
             "minorgridcolor": "white",
             "startlinecolor": "#2a3f5f"
            },
            "type": "carpet"
           }
          ],
          "choropleth": [
           {
            "colorbar": {
             "outlinewidth": 0,
             "ticks": ""
            },
            "type": "choropleth"
           }
          ],
          "contour": [
           {
            "colorbar": {
             "outlinewidth": 0,
             "ticks": ""
            },
            "colorscale": [
             [
              0,
              "#0d0887"
             ],
             [
              0.1111111111111111,
              "#46039f"
             ],
             [
              0.2222222222222222,
              "#7201a8"
             ],
             [
              0.3333333333333333,
              "#9c179e"
             ],
             [
              0.4444444444444444,
              "#bd3786"
             ],
             [
              0.5555555555555556,
              "#d8576b"
             ],
             [
              0.6666666666666666,
              "#ed7953"
             ],
             [
              0.7777777777777778,
              "#fb9f3a"
             ],
             [
              0.8888888888888888,
              "#fdca26"
             ],
             [
              1,
              "#f0f921"
             ]
            ],
            "type": "contour"
           }
          ],
          "contourcarpet": [
           {
            "colorbar": {
             "outlinewidth": 0,
             "ticks": ""
            },
            "type": "contourcarpet"
           }
          ],
          "heatmap": [
           {
            "colorbar": {
             "outlinewidth": 0,
             "ticks": ""
            },
            "colorscale": [
             [
              0,
              "#0d0887"
             ],
             [
              0.1111111111111111,
              "#46039f"
             ],
             [
              0.2222222222222222,
              "#7201a8"
             ],
             [
              0.3333333333333333,
              "#9c179e"
             ],
             [
              0.4444444444444444,
              "#bd3786"
             ],
             [
              0.5555555555555556,
              "#d8576b"
             ],
             [
              0.6666666666666666,
              "#ed7953"
             ],
             [
              0.7777777777777778,
              "#fb9f3a"
             ],
             [
              0.8888888888888888,
              "#fdca26"
             ],
             [
              1,
              "#f0f921"
             ]
            ],
            "type": "heatmap"
           }
          ],
          "heatmapgl": [
           {
            "colorbar": {
             "outlinewidth": 0,
             "ticks": ""
            },
            "colorscale": [
             [
              0,
              "#0d0887"
             ],
             [
              0.1111111111111111,
              "#46039f"
             ],
             [
              0.2222222222222222,
              "#7201a8"
             ],
             [
              0.3333333333333333,
              "#9c179e"
             ],
             [
              0.4444444444444444,
              "#bd3786"
             ],
             [
              0.5555555555555556,
              "#d8576b"
             ],
             [
              0.6666666666666666,
              "#ed7953"
             ],
             [
              0.7777777777777778,
              "#fb9f3a"
             ],
             [
              0.8888888888888888,
              "#fdca26"
             ],
             [
              1,
              "#f0f921"
             ]
            ],
            "type": "heatmapgl"
           }
          ],
          "histogram": [
           {
            "marker": {
             "pattern": {
              "fillmode": "overlay",
              "size": 10,
              "solidity": 0.2
             }
            },
            "type": "histogram"
           }
          ],
          "histogram2d": [
           {
            "colorbar": {
             "outlinewidth": 0,
             "ticks": ""
            },
            "colorscale": [
             [
              0,
              "#0d0887"
             ],
             [
              0.1111111111111111,
              "#46039f"
             ],
             [
              0.2222222222222222,
              "#7201a8"
             ],
             [
              0.3333333333333333,
              "#9c179e"
             ],
             [
              0.4444444444444444,
              "#bd3786"
             ],
             [
              0.5555555555555556,
              "#d8576b"
             ],
             [
              0.6666666666666666,
              "#ed7953"
             ],
             [
              0.7777777777777778,
              "#fb9f3a"
             ],
             [
              0.8888888888888888,
              "#fdca26"
             ],
             [
              1,
              "#f0f921"
             ]
            ],
            "type": "histogram2d"
           }
          ],
          "histogram2dcontour": [
           {
            "colorbar": {
             "outlinewidth": 0,
             "ticks": ""
            },
            "colorscale": [
             [
              0,
              "#0d0887"
             ],
             [
              0.1111111111111111,
              "#46039f"
             ],
             [
              0.2222222222222222,
              "#7201a8"
             ],
             [
              0.3333333333333333,
              "#9c179e"
             ],
             [
              0.4444444444444444,
              "#bd3786"
             ],
             [
              0.5555555555555556,
              "#d8576b"
             ],
             [
              0.6666666666666666,
              "#ed7953"
             ],
             [
              0.7777777777777778,
              "#fb9f3a"
             ],
             [
              0.8888888888888888,
              "#fdca26"
             ],
             [
              1,
              "#f0f921"
             ]
            ],
            "type": "histogram2dcontour"
           }
          ],
          "mesh3d": [
           {
            "colorbar": {
             "outlinewidth": 0,
             "ticks": ""
            },
            "type": "mesh3d"
           }
          ],
          "parcoords": [
           {
            "line": {
             "colorbar": {
              "outlinewidth": 0,
              "ticks": ""
             }
            },
            "type": "parcoords"
           }
          ],
          "pie": [
           {
            "automargin": true,
            "type": "pie"
           }
          ],
          "scatter": [
           {
            "fillpattern": {
             "fillmode": "overlay",
             "size": 10,
             "solidity": 0.2
            },
            "type": "scatter"
           }
          ],
          "scatter3d": [
           {
            "line": {
             "colorbar": {
              "outlinewidth": 0,
              "ticks": ""
             }
            },
            "marker": {
             "colorbar": {
              "outlinewidth": 0,
              "ticks": ""
             }
            },
            "type": "scatter3d"
           }
          ],
          "scattercarpet": [
           {
            "marker": {
             "colorbar": {
              "outlinewidth": 0,
              "ticks": ""
             }
            },
            "type": "scattercarpet"
           }
          ],
          "scattergeo": [
           {
            "marker": {
             "colorbar": {
              "outlinewidth": 0,
              "ticks": ""
             }
            },
            "type": "scattergeo"
           }
          ],
          "scattergl": [
           {
            "marker": {
             "colorbar": {
              "outlinewidth": 0,
              "ticks": ""
             }
            },
            "type": "scattergl"
           }
          ],
          "scattermapbox": [
           {
            "marker": {
             "colorbar": {
              "outlinewidth": 0,
              "ticks": ""
             }
            },
            "type": "scattermapbox"
           }
          ],
          "scatterpolar": [
           {
            "marker": {
             "colorbar": {
              "outlinewidth": 0,
              "ticks": ""
             }
            },
            "type": "scatterpolar"
           }
          ],
          "scatterpolargl": [
           {
            "marker": {
             "colorbar": {
              "outlinewidth": 0,
              "ticks": ""
             }
            },
            "type": "scatterpolargl"
           }
          ],
          "scatterternary": [
           {
            "marker": {
             "colorbar": {
              "outlinewidth": 0,
              "ticks": ""
             }
            },
            "type": "scatterternary"
           }
          ],
          "surface": [
           {
            "colorbar": {
             "outlinewidth": 0,
             "ticks": ""
            },
            "colorscale": [
             [
              0,
              "#0d0887"
             ],
             [
              0.1111111111111111,
              "#46039f"
             ],
             [
              0.2222222222222222,
              "#7201a8"
             ],
             [
              0.3333333333333333,
              "#9c179e"
             ],
             [
              0.4444444444444444,
              "#bd3786"
             ],
             [
              0.5555555555555556,
              "#d8576b"
             ],
             [
              0.6666666666666666,
              "#ed7953"
             ],
             [
              0.7777777777777778,
              "#fb9f3a"
             ],
             [
              0.8888888888888888,
              "#fdca26"
             ],
             [
              1,
              "#f0f921"
             ]
            ],
            "type": "surface"
           }
          ],
          "table": [
           {
            "cells": {
             "fill": {
              "color": "#EBF0F8"
             },
             "line": {
              "color": "white"
             }
            },
            "header": {
             "fill": {
              "color": "#C8D4E3"
             },
             "line": {
              "color": "white"
             }
            },
            "type": "table"
           }
          ]
         },
         "layout": {
          "annotationdefaults": {
           "arrowcolor": "#2a3f5f",
           "arrowhead": 0,
           "arrowwidth": 1
          },
          "autotypenumbers": "strict",
          "coloraxis": {
           "colorbar": {
            "outlinewidth": 0,
            "ticks": ""
           }
          },
          "colorscale": {
           "diverging": [
            [
             0,
             "#8e0152"
            ],
            [
             0.1,
             "#c51b7d"
            ],
            [
             0.2,
             "#de77ae"
            ],
            [
             0.3,
             "#f1b6da"
            ],
            [
             0.4,
             "#fde0ef"
            ],
            [
             0.5,
             "#f7f7f7"
            ],
            [
             0.6,
             "#e6f5d0"
            ],
            [
             0.7,
             "#b8e186"
            ],
            [
             0.8,
             "#7fbc41"
            ],
            [
             0.9,
             "#4d9221"
            ],
            [
             1,
             "#276419"
            ]
           ],
           "sequential": [
            [
             0,
             "#0d0887"
            ],
            [
             0.1111111111111111,
             "#46039f"
            ],
            [
             0.2222222222222222,
             "#7201a8"
            ],
            [
             0.3333333333333333,
             "#9c179e"
            ],
            [
             0.4444444444444444,
             "#bd3786"
            ],
            [
             0.5555555555555556,
             "#d8576b"
            ],
            [
             0.6666666666666666,
             "#ed7953"
            ],
            [
             0.7777777777777778,
             "#fb9f3a"
            ],
            [
             0.8888888888888888,
             "#fdca26"
            ],
            [
             1,
             "#f0f921"
            ]
           ],
           "sequentialminus": [
            [
             0,
             "#0d0887"
            ],
            [
             0.1111111111111111,
             "#46039f"
            ],
            [
             0.2222222222222222,
             "#7201a8"
            ],
            [
             0.3333333333333333,
             "#9c179e"
            ],
            [
             0.4444444444444444,
             "#bd3786"
            ],
            [
             0.5555555555555556,
             "#d8576b"
            ],
            [
             0.6666666666666666,
             "#ed7953"
            ],
            [
             0.7777777777777778,
             "#fb9f3a"
            ],
            [
             0.8888888888888888,
             "#fdca26"
            ],
            [
             1,
             "#f0f921"
            ]
           ]
          },
          "colorway": [
           "#636efa",
           "#EF553B",
           "#00cc96",
           "#ab63fa",
           "#FFA15A",
           "#19d3f3",
           "#FF6692",
           "#B6E880",
           "#FF97FF",
           "#FECB52"
          ],
          "font": {
           "color": "#2a3f5f"
          },
          "geo": {
           "bgcolor": "white",
           "lakecolor": "white",
           "landcolor": "#E5ECF6",
           "showlakes": true,
           "showland": true,
           "subunitcolor": "white"
          },
          "hoverlabel": {
           "align": "left"
          },
          "hovermode": "closest",
          "mapbox": {
           "style": "light"
          },
          "paper_bgcolor": "white",
          "plot_bgcolor": "#E5ECF6",
          "polar": {
           "angularaxis": {
            "gridcolor": "white",
            "linecolor": "white",
            "ticks": ""
           },
           "bgcolor": "#E5ECF6",
           "radialaxis": {
            "gridcolor": "white",
            "linecolor": "white",
            "ticks": ""
           }
          },
          "scene": {
           "xaxis": {
            "backgroundcolor": "#E5ECF6",
            "gridcolor": "white",
            "gridwidth": 2,
            "linecolor": "white",
            "showbackground": true,
            "ticks": "",
            "zerolinecolor": "white"
           },
           "yaxis": {
            "backgroundcolor": "#E5ECF6",
            "gridcolor": "white",
            "gridwidth": 2,
            "linecolor": "white",
            "showbackground": true,
            "ticks": "",
            "zerolinecolor": "white"
           },
           "zaxis": {
            "backgroundcolor": "#E5ECF6",
            "gridcolor": "white",
            "gridwidth": 2,
            "linecolor": "white",
            "showbackground": true,
            "ticks": "",
            "zerolinecolor": "white"
           }
          },
          "shapedefaults": {
           "line": {
            "color": "#2a3f5f"
           }
          },
          "ternary": {
           "aaxis": {
            "gridcolor": "white",
            "linecolor": "white",
            "ticks": ""
           },
           "baxis": {
            "gridcolor": "white",
            "linecolor": "white",
            "ticks": ""
           },
           "bgcolor": "#E5ECF6",
           "caxis": {
            "gridcolor": "white",
            "linecolor": "white",
            "ticks": ""
           }
          },
          "title": {
           "x": 0.05
          },
          "xaxis": {
           "automargin": true,
           "gridcolor": "white",
           "linecolor": "white",
           "ticks": "",
           "title": {
            "standoff": 15
           },
           "zerolinecolor": "white",
           "zerolinewidth": 2
          },
          "yaxis": {
           "automargin": true,
           "gridcolor": "white",
           "linecolor": "white",
           "ticks": "",
           "title": {
            "standoff": 15
           },
           "zerolinecolor": "white",
           "zerolinewidth": 2
          }
         }
        },
        "xaxis": {
         "tickmode": "array",
         "ticktext": [
          "AROU",
          "VAL",
          "DOM",
          "CNC",
          "IMAG",
          "FAM",
          "AOA",
          "SIZE",
          "GEND"
         ],
         "tickvals": [
          1,
          2,
          3,
          4,
          5,
          6,
          7,
          8,
          9
         ]
        }
       }
      }
     },
     "metadata": {},
     "output_type": "display_data"
    }
   ],
   "source": [
    "fig_dog = viz_GlasgowR(['elephant','worm'], glasgow)\n",
    "fig_dog"
   ]
  },
  {
   "cell_type": "markdown",
   "metadata": {},
   "source": [
    "> EBNS suggested the words \"snake\" e \"dog\".  \n",
    "> How does it compare to known symbols, i.e., words whose relationships are already known?"
   ]
  },
  {
   "cell_type": "code",
   "execution_count": 31,
   "metadata": {},
   "outputs": [
    {
     "data": {
      "text/html": [
       "<div>\n",
       "<style scoped>\n",
       "    .dataframe tbody tr th:only-of-type {\n",
       "        vertical-align: middle;\n",
       "    }\n",
       "\n",
       "    .dataframe tbody tr th {\n",
       "        vertical-align: top;\n",
       "    }\n",
       "\n",
       "    .dataframe thead th {\n",
       "        text-align: right;\n",
       "    }\n",
       "</style>\n",
       "<table border=\"1\" class=\"dataframe\">\n",
       "  <thead>\n",
       "    <tr style=\"text-align: right;\">\n",
       "      <th></th>\n",
       "      <th>AROU_M</th>\n",
       "      <th>AROU_SD</th>\n",
       "      <th>VAL_M</th>\n",
       "      <th>VAL_SD</th>\n",
       "      <th>DOM_M</th>\n",
       "      <th>DOM_SD</th>\n",
       "      <th>CNC_M</th>\n",
       "      <th>CNC_SD</th>\n",
       "      <th>IMAG_M</th>\n",
       "      <th>IMAG_SD</th>\n",
       "      <th>FAM_M</th>\n",
       "      <th>FAM_SD</th>\n",
       "      <th>AOA_M</th>\n",
       "      <th>AOA_SD</th>\n",
       "      <th>SIZE_M</th>\n",
       "      <th>SIZE_SD</th>\n",
       "      <th>GEND_M</th>\n",
       "      <th>GEND_SD</th>\n",
       "    </tr>\n",
       "    <tr>\n",
       "      <th>words</th>\n",
       "      <th></th>\n",
       "      <th></th>\n",
       "      <th></th>\n",
       "      <th></th>\n",
       "      <th></th>\n",
       "      <th></th>\n",
       "      <th></th>\n",
       "      <th></th>\n",
       "      <th></th>\n",
       "      <th></th>\n",
       "      <th></th>\n",
       "      <th></th>\n",
       "      <th></th>\n",
       "      <th></th>\n",
       "      <th></th>\n",
       "      <th></th>\n",
       "      <th></th>\n",
       "      <th></th>\n",
       "    </tr>\n",
       "  </thead>\n",
       "  <tbody>\n",
       "    <tr>\n",
       "      <th>snake</th>\n",
       "      <td>4.909</td>\n",
       "      <td>2.366</td>\n",
       "      <td>3.657</td>\n",
       "      <td>1.620</td>\n",
       "      <td>5.257</td>\n",
       "      <td>2.047</td>\n",
       "      <td>6.714</td>\n",
       "      <td>0.700</td>\n",
       "      <td>6.657</td>\n",
       "      <td>0.630</td>\n",
       "      <td>5.647</td>\n",
       "      <td>1.473</td>\n",
       "      <td>2.529</td>\n",
       "      <td>0.947</td>\n",
       "      <td>3.091</td>\n",
       "      <td>1.621</td>\n",
       "      <td>5.200</td>\n",
       "      <td>1.064</td>\n",
       "    </tr>\n",
       "    <tr>\n",
       "      <th>dog</th>\n",
       "      <td>6.147</td>\n",
       "      <td>2.185</td>\n",
       "      <td>7.067</td>\n",
       "      <td>1.237</td>\n",
       "      <td>6.242</td>\n",
       "      <td>1.793</td>\n",
       "      <td>6.833</td>\n",
       "      <td>0.453</td>\n",
       "      <td>6.889</td>\n",
       "      <td>0.314</td>\n",
       "      <td>6.840</td>\n",
       "      <td>0.463</td>\n",
       "      <td>1.735</td>\n",
       "      <td>0.656</td>\n",
       "      <td>3.273</td>\n",
       "      <td>1.238</td>\n",
       "      <td>4.606</td>\n",
       "      <td>0.983</td>\n",
       "    </tr>\n",
       "  </tbody>\n",
       "</table>\n",
       "</div>"
      ],
      "text/plain": [
       "       AROU_M  AROU_SD  VAL_M  VAL_SD  DOM_M  DOM_SD  CNC_M  CNC_SD  IMAG_M  \\\n",
       "words                                                                         \n",
       "snake   4.909    2.366  3.657   1.620  5.257   2.047  6.714   0.700   6.657   \n",
       "dog     6.147    2.185  7.067   1.237  6.242   1.793  6.833   0.453   6.889   \n",
       "\n",
       "       IMAG_SD  FAM_M  FAM_SD  AOA_M  AOA_SD  SIZE_M  SIZE_SD  GEND_M  GEND_SD  \n",
       "words                                                                           \n",
       "snake    0.630  5.647   1.473  2.529   0.947   3.091    1.621   5.200    1.064  \n",
       "dog      0.314  6.840   0.463  1.735   0.656   3.273    1.238   4.606    0.983  "
      ]
     },
     "execution_count": 31,
     "metadata": {},
     "output_type": "execute_result"
    }
   ],
   "source": [
    "## Showing the interest attributes for the words SNAKE and DOG:\n",
    "glasgow.loc[['snake', 'dog'],interest]"
   ]
  },
  {
   "cell_type": "code",
   "execution_count": 33,
   "metadata": {},
   "outputs": [
    {
     "data": {
      "application/vnd.plotly.v1+json": {
       "config": {
        "plotlyServerURL": "https://plot.ly"
       },
       "data": [
        {
         "line": {
          "color": "#636EFA"
         },
         "mode": "lines",
         "name": "snake",
         "showlegend": true,
         "type": "scatter",
         "x": [
          1,
          2,
          3,
          4,
          5,
          6,
          7,
          8,
          9
         ],
         "y": [
          4.909,
          3.657,
          5.257,
          6.714,
          6.657,
          5.647,
          2.529,
          3.091,
          5.2
         ]
        },
        {
         "fill": "toself",
         "fillcolor": "rgba(99, 110, 250, 0.2)",
         "hoverinfo": "skip",
         "line": {
          "color": "rgba(255,255,255,0)"
         },
         "showlegend": false,
         "type": "scatter",
         "x": [
          1,
          2,
          3,
          4,
          5,
          6,
          7,
          8,
          9,
          9,
          8,
          7,
          6,
          5,
          4,
          3,
          2,
          1
         ],
         "y": [
          7.275,
          5.277,
          7.304,
          7.414000000000001,
          7.287,
          7.12,
          3.476,
          4.712,
          10.4,
          0,
          1.4700000000000002,
          1.5819999999999999,
          4.174,
          6.027,
          6.014,
          3.2099999999999995,
          2.037,
          2.5429999999999997
         ]
        },
        {
         "line": {
          "color": "#EF553B"
         },
         "mode": "lines",
         "name": "dog",
         "showlegend": true,
         "type": "scatter",
         "x": [
          1,
          2,
          3,
          4,
          5,
          6,
          7,
          8,
          9
         ],
         "y": [
          6.147,
          7.067,
          6.242,
          6.833,
          6.889,
          6.84,
          1.735,
          3.273,
          4.606
         ]
        },
        {
         "fill": "toself",
         "fillcolor": "rgba(239, 85, 59, 0.2)",
         "hoverinfo": "skip",
         "line": {
          "color": "rgba(255,255,255,0)"
         },
         "showlegend": false,
         "type": "scatter",
         "x": [
          1,
          2,
          3,
          4,
          5,
          6,
          7,
          8,
          9,
          9,
          8,
          7,
          6,
          5,
          4,
          3,
          2,
          1
         ],
         "y": [
          8.332,
          8.304,
          8.035,
          7.2860000000000005,
          7.203,
          7.303,
          2.391,
          4.511,
          9.212,
          0,
          2.035,
          1.0790000000000002,
          6.377,
          6.575,
          6.38,
          4.449,
          5.83,
          3.962
         ]
        }
       ],
       "layout": {
        "template": {
         "data": {
          "bar": [
           {
            "error_x": {
             "color": "#2a3f5f"
            },
            "error_y": {
             "color": "#2a3f5f"
            },
            "marker": {
             "line": {
              "color": "#E5ECF6",
              "width": 0.5
             },
             "pattern": {
              "fillmode": "overlay",
              "size": 10,
              "solidity": 0.2
             }
            },
            "type": "bar"
           }
          ],
          "barpolar": [
           {
            "marker": {
             "line": {
              "color": "#E5ECF6",
              "width": 0.5
             },
             "pattern": {
              "fillmode": "overlay",
              "size": 10,
              "solidity": 0.2
             }
            },
            "type": "barpolar"
           }
          ],
          "carpet": [
           {
            "aaxis": {
             "endlinecolor": "#2a3f5f",
             "gridcolor": "white",
             "linecolor": "white",
             "minorgridcolor": "white",
             "startlinecolor": "#2a3f5f"
            },
            "baxis": {
             "endlinecolor": "#2a3f5f",
             "gridcolor": "white",
             "linecolor": "white",
             "minorgridcolor": "white",
             "startlinecolor": "#2a3f5f"
            },
            "type": "carpet"
           }
          ],
          "choropleth": [
           {
            "colorbar": {
             "outlinewidth": 0,
             "ticks": ""
            },
            "type": "choropleth"
           }
          ],
          "contour": [
           {
            "colorbar": {
             "outlinewidth": 0,
             "ticks": ""
            },
            "colorscale": [
             [
              0,
              "#0d0887"
             ],
             [
              0.1111111111111111,
              "#46039f"
             ],
             [
              0.2222222222222222,
              "#7201a8"
             ],
             [
              0.3333333333333333,
              "#9c179e"
             ],
             [
              0.4444444444444444,
              "#bd3786"
             ],
             [
              0.5555555555555556,
              "#d8576b"
             ],
             [
              0.6666666666666666,
              "#ed7953"
             ],
             [
              0.7777777777777778,
              "#fb9f3a"
             ],
             [
              0.8888888888888888,
              "#fdca26"
             ],
             [
              1,
              "#f0f921"
             ]
            ],
            "type": "contour"
           }
          ],
          "contourcarpet": [
           {
            "colorbar": {
             "outlinewidth": 0,
             "ticks": ""
            },
            "type": "contourcarpet"
           }
          ],
          "heatmap": [
           {
            "colorbar": {
             "outlinewidth": 0,
             "ticks": ""
            },
            "colorscale": [
             [
              0,
              "#0d0887"
             ],
             [
              0.1111111111111111,
              "#46039f"
             ],
             [
              0.2222222222222222,
              "#7201a8"
             ],
             [
              0.3333333333333333,
              "#9c179e"
             ],
             [
              0.4444444444444444,
              "#bd3786"
             ],
             [
              0.5555555555555556,
              "#d8576b"
             ],
             [
              0.6666666666666666,
              "#ed7953"
             ],
             [
              0.7777777777777778,
              "#fb9f3a"
             ],
             [
              0.8888888888888888,
              "#fdca26"
             ],
             [
              1,
              "#f0f921"
             ]
            ],
            "type": "heatmap"
           }
          ],
          "heatmapgl": [
           {
            "colorbar": {
             "outlinewidth": 0,
             "ticks": ""
            },
            "colorscale": [
             [
              0,
              "#0d0887"
             ],
             [
              0.1111111111111111,
              "#46039f"
             ],
             [
              0.2222222222222222,
              "#7201a8"
             ],
             [
              0.3333333333333333,
              "#9c179e"
             ],
             [
              0.4444444444444444,
              "#bd3786"
             ],
             [
              0.5555555555555556,
              "#d8576b"
             ],
             [
              0.6666666666666666,
              "#ed7953"
             ],
             [
              0.7777777777777778,
              "#fb9f3a"
             ],
             [
              0.8888888888888888,
              "#fdca26"
             ],
             [
              1,
              "#f0f921"
             ]
            ],
            "type": "heatmapgl"
           }
          ],
          "histogram": [
           {
            "marker": {
             "pattern": {
              "fillmode": "overlay",
              "size": 10,
              "solidity": 0.2
             }
            },
            "type": "histogram"
           }
          ],
          "histogram2d": [
           {
            "colorbar": {
             "outlinewidth": 0,
             "ticks": ""
            },
            "colorscale": [
             [
              0,
              "#0d0887"
             ],
             [
              0.1111111111111111,
              "#46039f"
             ],
             [
              0.2222222222222222,
              "#7201a8"
             ],
             [
              0.3333333333333333,
              "#9c179e"
             ],
             [
              0.4444444444444444,
              "#bd3786"
             ],
             [
              0.5555555555555556,
              "#d8576b"
             ],
             [
              0.6666666666666666,
              "#ed7953"
             ],
             [
              0.7777777777777778,
              "#fb9f3a"
             ],
             [
              0.8888888888888888,
              "#fdca26"
             ],
             [
              1,
              "#f0f921"
             ]
            ],
            "type": "histogram2d"
           }
          ],
          "histogram2dcontour": [
           {
            "colorbar": {
             "outlinewidth": 0,
             "ticks": ""
            },
            "colorscale": [
             [
              0,
              "#0d0887"
             ],
             [
              0.1111111111111111,
              "#46039f"
             ],
             [
              0.2222222222222222,
              "#7201a8"
             ],
             [
              0.3333333333333333,
              "#9c179e"
             ],
             [
              0.4444444444444444,
              "#bd3786"
             ],
             [
              0.5555555555555556,
              "#d8576b"
             ],
             [
              0.6666666666666666,
              "#ed7953"
             ],
             [
              0.7777777777777778,
              "#fb9f3a"
             ],
             [
              0.8888888888888888,
              "#fdca26"
             ],
             [
              1,
              "#f0f921"
             ]
            ],
            "type": "histogram2dcontour"
           }
          ],
          "mesh3d": [
           {
            "colorbar": {
             "outlinewidth": 0,
             "ticks": ""
            },
            "type": "mesh3d"
           }
          ],
          "parcoords": [
           {
            "line": {
             "colorbar": {
              "outlinewidth": 0,
              "ticks": ""
             }
            },
            "type": "parcoords"
           }
          ],
          "pie": [
           {
            "automargin": true,
            "type": "pie"
           }
          ],
          "scatter": [
           {
            "fillpattern": {
             "fillmode": "overlay",
             "size": 10,
             "solidity": 0.2
            },
            "type": "scatter"
           }
          ],
          "scatter3d": [
           {
            "line": {
             "colorbar": {
              "outlinewidth": 0,
              "ticks": ""
             }
            },
            "marker": {
             "colorbar": {
              "outlinewidth": 0,
              "ticks": ""
             }
            },
            "type": "scatter3d"
           }
          ],
          "scattercarpet": [
           {
            "marker": {
             "colorbar": {
              "outlinewidth": 0,
              "ticks": ""
             }
            },
            "type": "scattercarpet"
           }
          ],
          "scattergeo": [
           {
            "marker": {
             "colorbar": {
              "outlinewidth": 0,
              "ticks": ""
             }
            },
            "type": "scattergeo"
           }
          ],
          "scattergl": [
           {
            "marker": {
             "colorbar": {
              "outlinewidth": 0,
              "ticks": ""
             }
            },
            "type": "scattergl"
           }
          ],
          "scattermapbox": [
           {
            "marker": {
             "colorbar": {
              "outlinewidth": 0,
              "ticks": ""
             }
            },
            "type": "scattermapbox"
           }
          ],
          "scatterpolar": [
           {
            "marker": {
             "colorbar": {
              "outlinewidth": 0,
              "ticks": ""
             }
            },
            "type": "scatterpolar"
           }
          ],
          "scatterpolargl": [
           {
            "marker": {
             "colorbar": {
              "outlinewidth": 0,
              "ticks": ""
             }
            },
            "type": "scatterpolargl"
           }
          ],
          "scatterternary": [
           {
            "marker": {
             "colorbar": {
              "outlinewidth": 0,
              "ticks": ""
             }
            },
            "type": "scatterternary"
           }
          ],
          "surface": [
           {
            "colorbar": {
             "outlinewidth": 0,
             "ticks": ""
            },
            "colorscale": [
             [
              0,
              "#0d0887"
             ],
             [
              0.1111111111111111,
              "#46039f"
             ],
             [
              0.2222222222222222,
              "#7201a8"
             ],
             [
              0.3333333333333333,
              "#9c179e"
             ],
             [
              0.4444444444444444,
              "#bd3786"
             ],
             [
              0.5555555555555556,
              "#d8576b"
             ],
             [
              0.6666666666666666,
              "#ed7953"
             ],
             [
              0.7777777777777778,
              "#fb9f3a"
             ],
             [
              0.8888888888888888,
              "#fdca26"
             ],
             [
              1,
              "#f0f921"
             ]
            ],
            "type": "surface"
           }
          ],
          "table": [
           {
            "cells": {
             "fill": {
              "color": "#EBF0F8"
             },
             "line": {
              "color": "white"
             }
            },
            "header": {
             "fill": {
              "color": "#C8D4E3"
             },
             "line": {
              "color": "white"
             }
            },
            "type": "table"
           }
          ]
         },
         "layout": {
          "annotationdefaults": {
           "arrowcolor": "#2a3f5f",
           "arrowhead": 0,
           "arrowwidth": 1
          },
          "autotypenumbers": "strict",
          "coloraxis": {
           "colorbar": {
            "outlinewidth": 0,
            "ticks": ""
           }
          },
          "colorscale": {
           "diverging": [
            [
             0,
             "#8e0152"
            ],
            [
             0.1,
             "#c51b7d"
            ],
            [
             0.2,
             "#de77ae"
            ],
            [
             0.3,
             "#f1b6da"
            ],
            [
             0.4,
             "#fde0ef"
            ],
            [
             0.5,
             "#f7f7f7"
            ],
            [
             0.6,
             "#e6f5d0"
            ],
            [
             0.7,
             "#b8e186"
            ],
            [
             0.8,
             "#7fbc41"
            ],
            [
             0.9,
             "#4d9221"
            ],
            [
             1,
             "#276419"
            ]
           ],
           "sequential": [
            [
             0,
             "#0d0887"
            ],
            [
             0.1111111111111111,
             "#46039f"
            ],
            [
             0.2222222222222222,
             "#7201a8"
            ],
            [
             0.3333333333333333,
             "#9c179e"
            ],
            [
             0.4444444444444444,
             "#bd3786"
            ],
            [
             0.5555555555555556,
             "#d8576b"
            ],
            [
             0.6666666666666666,
             "#ed7953"
            ],
            [
             0.7777777777777778,
             "#fb9f3a"
            ],
            [
             0.8888888888888888,
             "#fdca26"
            ],
            [
             1,
             "#f0f921"
            ]
           ],
           "sequentialminus": [
            [
             0,
             "#0d0887"
            ],
            [
             0.1111111111111111,
             "#46039f"
            ],
            [
             0.2222222222222222,
             "#7201a8"
            ],
            [
             0.3333333333333333,
             "#9c179e"
            ],
            [
             0.4444444444444444,
             "#bd3786"
            ],
            [
             0.5555555555555556,
             "#d8576b"
            ],
            [
             0.6666666666666666,
             "#ed7953"
            ],
            [
             0.7777777777777778,
             "#fb9f3a"
            ],
            [
             0.8888888888888888,
             "#fdca26"
            ],
            [
             1,
             "#f0f921"
            ]
           ]
          },
          "colorway": [
           "#636efa",
           "#EF553B",
           "#00cc96",
           "#ab63fa",
           "#FFA15A",
           "#19d3f3",
           "#FF6692",
           "#B6E880",
           "#FF97FF",
           "#FECB52"
          ],
          "font": {
           "color": "#2a3f5f"
          },
          "geo": {
           "bgcolor": "white",
           "lakecolor": "white",
           "landcolor": "#E5ECF6",
           "showlakes": true,
           "showland": true,
           "subunitcolor": "white"
          },
          "hoverlabel": {
           "align": "left"
          },
          "hovermode": "closest",
          "mapbox": {
           "style": "light"
          },
          "paper_bgcolor": "white",
          "plot_bgcolor": "#E5ECF6",
          "polar": {
           "angularaxis": {
            "gridcolor": "white",
            "linecolor": "white",
            "ticks": ""
           },
           "bgcolor": "#E5ECF6",
           "radialaxis": {
            "gridcolor": "white",
            "linecolor": "white",
            "ticks": ""
           }
          },
          "scene": {
           "xaxis": {
            "backgroundcolor": "#E5ECF6",
            "gridcolor": "white",
            "gridwidth": 2,
            "linecolor": "white",
            "showbackground": true,
            "ticks": "",
            "zerolinecolor": "white"
           },
           "yaxis": {
            "backgroundcolor": "#E5ECF6",
            "gridcolor": "white",
            "gridwidth": 2,
            "linecolor": "white",
            "showbackground": true,
            "ticks": "",
            "zerolinecolor": "white"
           },
           "zaxis": {
            "backgroundcolor": "#E5ECF6",
            "gridcolor": "white",
            "gridwidth": 2,
            "linecolor": "white",
            "showbackground": true,
            "ticks": "",
            "zerolinecolor": "white"
           }
          },
          "shapedefaults": {
           "line": {
            "color": "#2a3f5f"
           }
          },
          "ternary": {
           "aaxis": {
            "gridcolor": "white",
            "linecolor": "white",
            "ticks": ""
           },
           "baxis": {
            "gridcolor": "white",
            "linecolor": "white",
            "ticks": ""
           },
           "bgcolor": "#E5ECF6",
           "caxis": {
            "gridcolor": "white",
            "linecolor": "white",
            "ticks": ""
           }
          },
          "title": {
           "x": 0.05
          },
          "xaxis": {
           "automargin": true,
           "gridcolor": "white",
           "linecolor": "white",
           "ticks": "",
           "title": {
            "standoff": 15
           },
           "zerolinecolor": "white",
           "zerolinewidth": 2
          },
          "yaxis": {
           "automargin": true,
           "gridcolor": "white",
           "linecolor": "white",
           "ticks": "",
           "title": {
            "standoff": 15
           },
           "zerolinecolor": "white",
           "zerolinewidth": 2
          }
         }
        },
        "xaxis": {
         "tickmode": "array",
         "ticktext": [
          "AROU",
          "VAL",
          "DOM",
          "CNC",
          "IMAG",
          "FAM",
          "AOA",
          "SIZE",
          "GEND"
         ],
         "tickvals": [
          1,
          2,
          3,
          4,
          5,
          6,
          7,
          8,
          9
         ]
        }
       }
      }
     },
     "metadata": {},
     "output_type": "display_data"
    }
   ],
   "source": [
    "viz_GlasgowR(['snake','dog'], glasgow)"
   ]
  },
  {
   "cell_type": "code",
   "execution_count": null,
   "metadata": {},
   "outputs": [
    {
     "data": {
      "text/plain": [
       "length      6.000\n",
       "AROU_M      3.323\n",
       "AROU_SD     1.941\n",
       "AROU_N     31.000\n",
       "VAL_M       5.548\n",
       "VAL_SD      1.187\n",
       "VAL_N      31.000\n",
       "DOM_M       5.563\n",
       "DOM_SD      1.540\n",
       "DOM_N      32.000\n",
       "CNC_M       6.219\n",
       "CNC_SD      1.111\n",
       "CNC_N      32.000\n",
       "IMAG_M      6.438\n",
       "IMAG_SD     0.899\n",
       "IMAG_N     32.000\n",
       "FAM_M       5.710\n",
       "FAM_SD      1.689\n",
       "FAM_N      31.000\n",
       "AOA_M       2.576\n",
       "AOA_SD      1.393\n",
       "AOA_N      33.000\n",
       "SIZE_M      2.323\n",
       "SIZE_SD     1.254\n",
       "SIZE_N     31.000\n",
       "GEND_M      3.909\n",
       "GEND_SD     0.793\n",
       "GEND_N     33.000\n",
       "Name: jigsaw, dtype: float64"
      ]
     },
     "execution_count": 127,
     "metadata": {},
     "output_type": "execute_result"
    }
   ],
   "source": [
    "glasgow.loc['jigsaw']"
   ]
  },
  {
   "cell_type": "code",
   "execution_count": 128,
   "metadata": {},
   "outputs": [
    {
     "data": {
      "application/vnd.plotly.v1+json": {
       "config": {
        "plotlyServerURL": "https://plot.ly"
       },
       "data": [
        {
         "line": {
          "color": "#636EFA"
         },
         "mode": "lines",
         "name": "snake",
         "showlegend": true,
         "type": "scatter",
         "x": [
          1,
          2,
          3,
          4,
          5,
          6,
          7,
          8,
          9
         ],
         "y": [
          4.909,
          3.657,
          5.257,
          6.714,
          6.657,
          5.647,
          2.529,
          3.091,
          5.2
         ]
        },
        {
         "fill": "toself",
         "fillcolor": "rgba(99, 110, 250, 0.2)",
         "hoverinfo": "skip",
         "line": {
          "color": "rgba(255,255,255,0)"
         },
         "showlegend": false,
         "type": "scatter",
         "x": [
          1,
          2,
          3,
          4,
          5,
          6,
          7,
          8,
          9,
          9,
          8,
          7,
          6,
          5,
          4,
          3,
          2,
          1
         ],
         "y": [
          7.275,
          5.277,
          7.304,
          7.414000000000001,
          7.287,
          7.12,
          3.476,
          4.712,
          10.4,
          0,
          1.4700000000000002,
          1.5819999999999999,
          4.174,
          6.027,
          6.014,
          3.2099999999999995,
          2.037,
          2.5429999999999997
         ]
        },
        {
         "line": {
          "color": "#EF553B"
         },
         "mode": "lines",
         "name": "dog",
         "showlegend": true,
         "type": "scatter",
         "x": [
          1,
          2,
          3,
          4,
          5,
          6,
          7,
          8,
          9
         ],
         "y": [
          6.147,
          7.067,
          6.242,
          6.833,
          6.889,
          6.84,
          1.735,
          3.273,
          4.606
         ]
        },
        {
         "fill": "toself",
         "fillcolor": "rgba(239, 85, 59, 0.2)",
         "hoverinfo": "skip",
         "line": {
          "color": "rgba(255,255,255,0)"
         },
         "showlegend": false,
         "type": "scatter",
         "x": [
          1,
          2,
          3,
          4,
          5,
          6,
          7,
          8,
          9,
          9,
          8,
          7,
          6,
          5,
          4,
          3,
          2,
          1
         ],
         "y": [
          8.332,
          8.304,
          8.035,
          7.2860000000000005,
          7.203,
          7.303,
          2.391,
          4.511,
          9.212,
          0,
          2.035,
          1.0790000000000002,
          6.377,
          6.575,
          6.38,
          4.449,
          5.83,
          3.962
         ]
        },
        {
         "line": {
          "color": "#00CC96"
         },
         "mode": "lines",
         "name": "evil",
         "showlegend": true,
         "type": "scatter",
         "x": [
          1,
          2,
          3,
          4,
          5,
          6,
          7,
          8,
          9
         ],
         "y": [
          5.559,
          1.514,
          3.8,
          2.294,
          4.118,
          5.469,
          3.057,
          5.853,
          5.029
         ]
        },
        {
         "fill": "toself",
         "fillcolor": "rgba(0, 204, 150, 0.2)",
         "hoverinfo": "skip",
         "line": {
          "color": "rgba(255,255,255,0)"
         },
         "showlegend": false,
         "type": "scatter",
         "x": [
          1,
          2,
          3,
          4,
          5,
          6,
          7,
          8,
          9,
          9,
          8,
          7,
          6,
          5,
          4,
          3,
          2,
          1
         ],
         "y": [
          8.128,
          2.593,
          6.471,
          3.912,
          6.325,
          7.089,
          4.202,
          7.138999999999999,
          10.058,
          0,
          4.567,
          1.912,
          3.849,
          1.9110000000000005,
          0.6759999999999999,
          1.129,
          0.43500000000000005,
          2.99
         ]
        }
       ],
       "layout": {
        "template": {
         "data": {
          "bar": [
           {
            "error_x": {
             "color": "#2a3f5f"
            },
            "error_y": {
             "color": "#2a3f5f"
            },
            "marker": {
             "line": {
              "color": "#E5ECF6",
              "width": 0.5
             },
             "pattern": {
              "fillmode": "overlay",
              "size": 10,
              "solidity": 0.2
             }
            },
            "type": "bar"
           }
          ],
          "barpolar": [
           {
            "marker": {
             "line": {
              "color": "#E5ECF6",
              "width": 0.5
             },
             "pattern": {
              "fillmode": "overlay",
              "size": 10,
              "solidity": 0.2
             }
            },
            "type": "barpolar"
           }
          ],
          "carpet": [
           {
            "aaxis": {
             "endlinecolor": "#2a3f5f",
             "gridcolor": "white",
             "linecolor": "white",
             "minorgridcolor": "white",
             "startlinecolor": "#2a3f5f"
            },
            "baxis": {
             "endlinecolor": "#2a3f5f",
             "gridcolor": "white",
             "linecolor": "white",
             "minorgridcolor": "white",
             "startlinecolor": "#2a3f5f"
            },
            "type": "carpet"
           }
          ],
          "choropleth": [
           {
            "colorbar": {
             "outlinewidth": 0,
             "ticks": ""
            },
            "type": "choropleth"
           }
          ],
          "contour": [
           {
            "colorbar": {
             "outlinewidth": 0,
             "ticks": ""
            },
            "colorscale": [
             [
              0,
              "#0d0887"
             ],
             [
              0.1111111111111111,
              "#46039f"
             ],
             [
              0.2222222222222222,
              "#7201a8"
             ],
             [
              0.3333333333333333,
              "#9c179e"
             ],
             [
              0.4444444444444444,
              "#bd3786"
             ],
             [
              0.5555555555555556,
              "#d8576b"
             ],
             [
              0.6666666666666666,
              "#ed7953"
             ],
             [
              0.7777777777777778,
              "#fb9f3a"
             ],
             [
              0.8888888888888888,
              "#fdca26"
             ],
             [
              1,
              "#f0f921"
             ]
            ],
            "type": "contour"
           }
          ],
          "contourcarpet": [
           {
            "colorbar": {
             "outlinewidth": 0,
             "ticks": ""
            },
            "type": "contourcarpet"
           }
          ],
          "heatmap": [
           {
            "colorbar": {
             "outlinewidth": 0,
             "ticks": ""
            },
            "colorscale": [
             [
              0,
              "#0d0887"
             ],
             [
              0.1111111111111111,
              "#46039f"
             ],
             [
              0.2222222222222222,
              "#7201a8"
             ],
             [
              0.3333333333333333,
              "#9c179e"
             ],
             [
              0.4444444444444444,
              "#bd3786"
             ],
             [
              0.5555555555555556,
              "#d8576b"
             ],
             [
              0.6666666666666666,
              "#ed7953"
             ],
             [
              0.7777777777777778,
              "#fb9f3a"
             ],
             [
              0.8888888888888888,
              "#fdca26"
             ],
             [
              1,
              "#f0f921"
             ]
            ],
            "type": "heatmap"
           }
          ],
          "heatmapgl": [
           {
            "colorbar": {
             "outlinewidth": 0,
             "ticks": ""
            },
            "colorscale": [
             [
              0,
              "#0d0887"
             ],
             [
              0.1111111111111111,
              "#46039f"
             ],
             [
              0.2222222222222222,
              "#7201a8"
             ],
             [
              0.3333333333333333,
              "#9c179e"
             ],
             [
              0.4444444444444444,
              "#bd3786"
             ],
             [
              0.5555555555555556,
              "#d8576b"
             ],
             [
              0.6666666666666666,
              "#ed7953"
             ],
             [
              0.7777777777777778,
              "#fb9f3a"
             ],
             [
              0.8888888888888888,
              "#fdca26"
             ],
             [
              1,
              "#f0f921"
             ]
            ],
            "type": "heatmapgl"
           }
          ],
          "histogram": [
           {
            "marker": {
             "pattern": {
              "fillmode": "overlay",
              "size": 10,
              "solidity": 0.2
             }
            },
            "type": "histogram"
           }
          ],
          "histogram2d": [
           {
            "colorbar": {
             "outlinewidth": 0,
             "ticks": ""
            },
            "colorscale": [
             [
              0,
              "#0d0887"
             ],
             [
              0.1111111111111111,
              "#46039f"
             ],
             [
              0.2222222222222222,
              "#7201a8"
             ],
             [
              0.3333333333333333,
              "#9c179e"
             ],
             [
              0.4444444444444444,
              "#bd3786"
             ],
             [
              0.5555555555555556,
              "#d8576b"
             ],
             [
              0.6666666666666666,
              "#ed7953"
             ],
             [
              0.7777777777777778,
              "#fb9f3a"
             ],
             [
              0.8888888888888888,
              "#fdca26"
             ],
             [
              1,
              "#f0f921"
             ]
            ],
            "type": "histogram2d"
           }
          ],
          "histogram2dcontour": [
           {
            "colorbar": {
             "outlinewidth": 0,
             "ticks": ""
            },
            "colorscale": [
             [
              0,
              "#0d0887"
             ],
             [
              0.1111111111111111,
              "#46039f"
             ],
             [
              0.2222222222222222,
              "#7201a8"
             ],
             [
              0.3333333333333333,
              "#9c179e"
             ],
             [
              0.4444444444444444,
              "#bd3786"
             ],
             [
              0.5555555555555556,
              "#d8576b"
             ],
             [
              0.6666666666666666,
              "#ed7953"
             ],
             [
              0.7777777777777778,
              "#fb9f3a"
             ],
             [
              0.8888888888888888,
              "#fdca26"
             ],
             [
              1,
              "#f0f921"
             ]
            ],
            "type": "histogram2dcontour"
           }
          ],
          "mesh3d": [
           {
            "colorbar": {
             "outlinewidth": 0,
             "ticks": ""
            },
            "type": "mesh3d"
           }
          ],
          "parcoords": [
           {
            "line": {
             "colorbar": {
              "outlinewidth": 0,
              "ticks": ""
             }
            },
            "type": "parcoords"
           }
          ],
          "pie": [
           {
            "automargin": true,
            "type": "pie"
           }
          ],
          "scatter": [
           {
            "fillpattern": {
             "fillmode": "overlay",
             "size": 10,
             "solidity": 0.2
            },
            "type": "scatter"
           }
          ],
          "scatter3d": [
           {
            "line": {
             "colorbar": {
              "outlinewidth": 0,
              "ticks": ""
             }
            },
            "marker": {
             "colorbar": {
              "outlinewidth": 0,
              "ticks": ""
             }
            },
            "type": "scatter3d"
           }
          ],
          "scattercarpet": [
           {
            "marker": {
             "colorbar": {
              "outlinewidth": 0,
              "ticks": ""
             }
            },
            "type": "scattercarpet"
           }
          ],
          "scattergeo": [
           {
            "marker": {
             "colorbar": {
              "outlinewidth": 0,
              "ticks": ""
             }
            },
            "type": "scattergeo"
           }
          ],
          "scattergl": [
           {
            "marker": {
             "colorbar": {
              "outlinewidth": 0,
              "ticks": ""
             }
            },
            "type": "scattergl"
           }
          ],
          "scattermapbox": [
           {
            "marker": {
             "colorbar": {
              "outlinewidth": 0,
              "ticks": ""
             }
            },
            "type": "scattermapbox"
           }
          ],
          "scatterpolar": [
           {
            "marker": {
             "colorbar": {
              "outlinewidth": 0,
              "ticks": ""
             }
            },
            "type": "scatterpolar"
           }
          ],
          "scatterpolargl": [
           {
            "marker": {
             "colorbar": {
              "outlinewidth": 0,
              "ticks": ""
             }
            },
            "type": "scatterpolargl"
           }
          ],
          "scatterternary": [
           {
            "marker": {
             "colorbar": {
              "outlinewidth": 0,
              "ticks": ""
             }
            },
            "type": "scatterternary"
           }
          ],
          "surface": [
           {
            "colorbar": {
             "outlinewidth": 0,
             "ticks": ""
            },
            "colorscale": [
             [
              0,
              "#0d0887"
             ],
             [
              0.1111111111111111,
              "#46039f"
             ],
             [
              0.2222222222222222,
              "#7201a8"
             ],
             [
              0.3333333333333333,
              "#9c179e"
             ],
             [
              0.4444444444444444,
              "#bd3786"
             ],
             [
              0.5555555555555556,
              "#d8576b"
             ],
             [
              0.6666666666666666,
              "#ed7953"
             ],
             [
              0.7777777777777778,
              "#fb9f3a"
             ],
             [
              0.8888888888888888,
              "#fdca26"
             ],
             [
              1,
              "#f0f921"
             ]
            ],
            "type": "surface"
           }
          ],
          "table": [
           {
            "cells": {
             "fill": {
              "color": "#EBF0F8"
             },
             "line": {
              "color": "white"
             }
            },
            "header": {
             "fill": {
              "color": "#C8D4E3"
             },
             "line": {
              "color": "white"
             }
            },
            "type": "table"
           }
          ]
         },
         "layout": {
          "annotationdefaults": {
           "arrowcolor": "#2a3f5f",
           "arrowhead": 0,
           "arrowwidth": 1
          },
          "autotypenumbers": "strict",
          "coloraxis": {
           "colorbar": {
            "outlinewidth": 0,
            "ticks": ""
           }
          },
          "colorscale": {
           "diverging": [
            [
             0,
             "#8e0152"
            ],
            [
             0.1,
             "#c51b7d"
            ],
            [
             0.2,
             "#de77ae"
            ],
            [
             0.3,
             "#f1b6da"
            ],
            [
             0.4,
             "#fde0ef"
            ],
            [
             0.5,
             "#f7f7f7"
            ],
            [
             0.6,
             "#e6f5d0"
            ],
            [
             0.7,
             "#b8e186"
            ],
            [
             0.8,
             "#7fbc41"
            ],
            [
             0.9,
             "#4d9221"
            ],
            [
             1,
             "#276419"
            ]
           ],
           "sequential": [
            [
             0,
             "#0d0887"
            ],
            [
             0.1111111111111111,
             "#46039f"
            ],
            [
             0.2222222222222222,
             "#7201a8"
            ],
            [
             0.3333333333333333,
             "#9c179e"
            ],
            [
             0.4444444444444444,
             "#bd3786"
            ],
            [
             0.5555555555555556,
             "#d8576b"
            ],
            [
             0.6666666666666666,
             "#ed7953"
            ],
            [
             0.7777777777777778,
             "#fb9f3a"
            ],
            [
             0.8888888888888888,
             "#fdca26"
            ],
            [
             1,
             "#f0f921"
            ]
           ],
           "sequentialminus": [
            [
             0,
             "#0d0887"
            ],
            [
             0.1111111111111111,
             "#46039f"
            ],
            [
             0.2222222222222222,
             "#7201a8"
            ],
            [
             0.3333333333333333,
             "#9c179e"
            ],
            [
             0.4444444444444444,
             "#bd3786"
            ],
            [
             0.5555555555555556,
             "#d8576b"
            ],
            [
             0.6666666666666666,
             "#ed7953"
            ],
            [
             0.7777777777777778,
             "#fb9f3a"
            ],
            [
             0.8888888888888888,
             "#fdca26"
            ],
            [
             1,
             "#f0f921"
            ]
           ]
          },
          "colorway": [
           "#636efa",
           "#EF553B",
           "#00cc96",
           "#ab63fa",
           "#FFA15A",
           "#19d3f3",
           "#FF6692",
           "#B6E880",
           "#FF97FF",
           "#FECB52"
          ],
          "font": {
           "color": "#2a3f5f"
          },
          "geo": {
           "bgcolor": "white",
           "lakecolor": "white",
           "landcolor": "#E5ECF6",
           "showlakes": true,
           "showland": true,
           "subunitcolor": "white"
          },
          "hoverlabel": {
           "align": "left"
          },
          "hovermode": "closest",
          "mapbox": {
           "style": "light"
          },
          "paper_bgcolor": "white",
          "plot_bgcolor": "#E5ECF6",
          "polar": {
           "angularaxis": {
            "gridcolor": "white",
            "linecolor": "white",
            "ticks": ""
           },
           "bgcolor": "#E5ECF6",
           "radialaxis": {
            "gridcolor": "white",
            "linecolor": "white",
            "ticks": ""
           }
          },
          "scene": {
           "xaxis": {
            "backgroundcolor": "#E5ECF6",
            "gridcolor": "white",
            "gridwidth": 2,
            "linecolor": "white",
            "showbackground": true,
            "ticks": "",
            "zerolinecolor": "white"
           },
           "yaxis": {
            "backgroundcolor": "#E5ECF6",
            "gridcolor": "white",
            "gridwidth": 2,
            "linecolor": "white",
            "showbackground": true,
            "ticks": "",
            "zerolinecolor": "white"
           },
           "zaxis": {
            "backgroundcolor": "#E5ECF6",
            "gridcolor": "white",
            "gridwidth": 2,
            "linecolor": "white",
            "showbackground": true,
            "ticks": "",
            "zerolinecolor": "white"
           }
          },
          "shapedefaults": {
           "line": {
            "color": "#2a3f5f"
           }
          },
          "ternary": {
           "aaxis": {
            "gridcolor": "white",
            "linecolor": "white",
            "ticks": ""
           },
           "baxis": {
            "gridcolor": "white",
            "linecolor": "white",
            "ticks": ""
           },
           "bgcolor": "#E5ECF6",
           "caxis": {
            "gridcolor": "white",
            "linecolor": "white",
            "ticks": ""
           }
          },
          "title": {
           "x": 0.05
          },
          "xaxis": {
           "automargin": true,
           "gridcolor": "white",
           "linecolor": "white",
           "ticks": "",
           "title": {
            "standoff": 15
           },
           "zerolinecolor": "white",
           "zerolinewidth": 2
          },
          "yaxis": {
           "automargin": true,
           "gridcolor": "white",
           "linecolor": "white",
           "ticks": "",
           "title": {
            "standoff": 15
           },
           "zerolinecolor": "white",
           "zerolinewidth": 2
          }
         }
        },
        "xaxis": {
         "tickmode": "array",
         "ticktext": [
          "AROU",
          "VAL",
          "DOM",
          "CNC",
          "IMAG",
          "FAM",
          "AOA",
          "SIZE",
          "GEND"
         ],
         "tickvals": [
          1,
          2,
          3,
          4,
          5,
          6,
          7,
          8,
          9
         ]
        }
       }
      }
     },
     "metadata": {},
     "output_type": "display_data"
    }
   ],
   "source": [
    "viz_GlasgowR(['snake','dog','evil'], glasgow)"
   ]
  },
  {
   "cell_type": "code",
   "execution_count": null,
   "metadata": {},
   "outputs": [],
   "source": []
  },
  {
   "cell_type": "code",
   "execution_count": 34,
   "metadata": {},
   "outputs": [
    {
     "data": {
      "application/vnd.plotly.v1+json": {
       "config": {
        "plotlyServerURL": "https://plot.ly"
       },
       "data": [
        {
         "line": {
          "color": "#636EFA"
         },
         "mode": "lines",
         "name": "child",
         "showlegend": true,
         "type": "scatter",
         "x": [
          1,
          2,
          3,
          4,
          5,
          6,
          7,
          8,
          9
         ],
         "y": [
          4.226,
          6.194,
          3.677,
          6.167,
          6.621,
          6.519,
          2.484,
          2.375,
          3.032
         ]
        },
        {
         "fill": "toself",
         "fillcolor": "rgba(99, 110, 250, 0.2)",
         "hoverinfo": "skip",
         "line": {
          "color": "rgba(255,255,255,0)"
         },
         "showlegend": false,
         "type": "scatter",
         "x": [
          1,
          2,
          3,
          4,
          5,
          6,
          7,
          8,
          9,
          9,
          8,
          7,
          6,
          5,
          4,
          3,
          2,
          1
         ],
         "y": [
          6.316,
          7.7059999999999995,
          5.793,
          7.136,
          7.173,
          7.437,
          3.464,
          3.367,
          6.064,
          0,
          1.383,
          1.504,
          5.601,
          6.069000000000001,
          5.1979999999999995,
          1.561,
          4.682,
          2.136
         ]
        },
        {
         "line": {
          "color": "#EF553B"
         },
         "mode": "lines",
         "name": "baby",
         "showlegend": true,
         "type": "scatter",
         "x": [
          1,
          2,
          3,
          4,
          5,
          6,
          7,
          8,
          9
         ],
         "y": [
          4.29,
          6.594,
          4.313,
          6.607,
          6.593,
          5.929,
          1.844,
          2.546,
          2.688
         ]
        },
        {
         "fill": "toself",
         "fillcolor": "rgba(239, 85, 59, 0.2)",
         "hoverinfo": "skip",
         "line": {
          "color": "rgba(255,255,255,0)"
         },
         "showlegend": false,
         "type": "scatter",
         "x": [
          1,
          2,
          3,
          4,
          5,
          6,
          7,
          8,
          9,
          9,
          8,
          7,
          6,
          5,
          4,
          3,
          2,
          1
         ],
         "y": [
          6.883,
          8.684000000000001,
          6.928,
          7.28,
          7.155,
          6.996,
          2.816,
          4.234999999999999,
          5.376,
          0,
          0.8569999999999998,
          0.8720000000000001,
          4.862,
          6.031,
          5.934,
          1.6979999999999995,
          4.5040000000000004,
          1.697
         ]
        },
        {
         "line": {
          "color": "#00CC96"
         },
         "mode": "lines",
         "name": "human",
         "showlegend": true,
         "type": "scatter",
         "x": [
          1,
          2,
          3,
          4,
          5,
          6,
          7,
          8,
          9
         ],
         "y": [
          5.633,
          6.433,
          5.9,
          5.567,
          6.433,
          6.48,
          2.844,
          5.031,
          3.839
         ]
        },
        {
         "fill": "toself",
         "fillcolor": "rgba(0, 204, 150, 0.2)",
         "hoverinfo": "skip",
         "line": {
          "color": "rgba(255,255,255,0)"
         },
         "showlegend": false,
         "type": "scatter",
         "x": [
          1,
          2,
          3,
          4,
          5,
          6,
          7,
          8,
          9,
          9,
          8,
          7,
          6,
          5,
          4,
          3,
          2,
          1
         ],
         "y": [
          7.149,
          7.7669999999999995,
          7.275,
          7.293,
          7.316,
          7.3340000000000005,
          3.8469999999999995,
          6.162999999999999,
          7.678,
          0,
          3.899,
          1.841,
          5.626,
          5.55,
          3.841,
          4.525,
          5.099,
          4.117
         ]
        }
       ],
       "layout": {
        "template": {
         "data": {
          "bar": [
           {
            "error_x": {
             "color": "#2a3f5f"
            },
            "error_y": {
             "color": "#2a3f5f"
            },
            "marker": {
             "line": {
              "color": "#E5ECF6",
              "width": 0.5
             },
             "pattern": {
              "fillmode": "overlay",
              "size": 10,
              "solidity": 0.2
             }
            },
            "type": "bar"
           }
          ],
          "barpolar": [
           {
            "marker": {
             "line": {
              "color": "#E5ECF6",
              "width": 0.5
             },
             "pattern": {
              "fillmode": "overlay",
              "size": 10,
              "solidity": 0.2
             }
            },
            "type": "barpolar"
           }
          ],
          "carpet": [
           {
            "aaxis": {
             "endlinecolor": "#2a3f5f",
             "gridcolor": "white",
             "linecolor": "white",
             "minorgridcolor": "white",
             "startlinecolor": "#2a3f5f"
            },
            "baxis": {
             "endlinecolor": "#2a3f5f",
             "gridcolor": "white",
             "linecolor": "white",
             "minorgridcolor": "white",
             "startlinecolor": "#2a3f5f"
            },
            "type": "carpet"
           }
          ],
          "choropleth": [
           {
            "colorbar": {
             "outlinewidth": 0,
             "ticks": ""
            },
            "type": "choropleth"
           }
          ],
          "contour": [
           {
            "colorbar": {
             "outlinewidth": 0,
             "ticks": ""
            },
            "colorscale": [
             [
              0,
              "#0d0887"
             ],
             [
              0.1111111111111111,
              "#46039f"
             ],
             [
              0.2222222222222222,
              "#7201a8"
             ],
             [
              0.3333333333333333,
              "#9c179e"
             ],
             [
              0.4444444444444444,
              "#bd3786"
             ],
             [
              0.5555555555555556,
              "#d8576b"
             ],
             [
              0.6666666666666666,
              "#ed7953"
             ],
             [
              0.7777777777777778,
              "#fb9f3a"
             ],
             [
              0.8888888888888888,
              "#fdca26"
             ],
             [
              1,
              "#f0f921"
             ]
            ],
            "type": "contour"
           }
          ],
          "contourcarpet": [
           {
            "colorbar": {
             "outlinewidth": 0,
             "ticks": ""
            },
            "type": "contourcarpet"
           }
          ],
          "heatmap": [
           {
            "colorbar": {
             "outlinewidth": 0,
             "ticks": ""
            },
            "colorscale": [
             [
              0,
              "#0d0887"
             ],
             [
              0.1111111111111111,
              "#46039f"
             ],
             [
              0.2222222222222222,
              "#7201a8"
             ],
             [
              0.3333333333333333,
              "#9c179e"
             ],
             [
              0.4444444444444444,
              "#bd3786"
             ],
             [
              0.5555555555555556,
              "#d8576b"
             ],
             [
              0.6666666666666666,
              "#ed7953"
             ],
             [
              0.7777777777777778,
              "#fb9f3a"
             ],
             [
              0.8888888888888888,
              "#fdca26"
             ],
             [
              1,
              "#f0f921"
             ]
            ],
            "type": "heatmap"
           }
          ],
          "heatmapgl": [
           {
            "colorbar": {
             "outlinewidth": 0,
             "ticks": ""
            },
            "colorscale": [
             [
              0,
              "#0d0887"
             ],
             [
              0.1111111111111111,
              "#46039f"
             ],
             [
              0.2222222222222222,
              "#7201a8"
             ],
             [
              0.3333333333333333,
              "#9c179e"
             ],
             [
              0.4444444444444444,
              "#bd3786"
             ],
             [
              0.5555555555555556,
              "#d8576b"
             ],
             [
              0.6666666666666666,
              "#ed7953"
             ],
             [
              0.7777777777777778,
              "#fb9f3a"
             ],
             [
              0.8888888888888888,
              "#fdca26"
             ],
             [
              1,
              "#f0f921"
             ]
            ],
            "type": "heatmapgl"
           }
          ],
          "histogram": [
           {
            "marker": {
             "pattern": {
              "fillmode": "overlay",
              "size": 10,
              "solidity": 0.2
             }
            },
            "type": "histogram"
           }
          ],
          "histogram2d": [
           {
            "colorbar": {
             "outlinewidth": 0,
             "ticks": ""
            },
            "colorscale": [
             [
              0,
              "#0d0887"
             ],
             [
              0.1111111111111111,
              "#46039f"
             ],
             [
              0.2222222222222222,
              "#7201a8"
             ],
             [
              0.3333333333333333,
              "#9c179e"
             ],
             [
              0.4444444444444444,
              "#bd3786"
             ],
             [
              0.5555555555555556,
              "#d8576b"
             ],
             [
              0.6666666666666666,
              "#ed7953"
             ],
             [
              0.7777777777777778,
              "#fb9f3a"
             ],
             [
              0.8888888888888888,
              "#fdca26"
             ],
             [
              1,
              "#f0f921"
             ]
            ],
            "type": "histogram2d"
           }
          ],
          "histogram2dcontour": [
           {
            "colorbar": {
             "outlinewidth": 0,
             "ticks": ""
            },
            "colorscale": [
             [
              0,
              "#0d0887"
             ],
             [
              0.1111111111111111,
              "#46039f"
             ],
             [
              0.2222222222222222,
              "#7201a8"
             ],
             [
              0.3333333333333333,
              "#9c179e"
             ],
             [
              0.4444444444444444,
              "#bd3786"
             ],
             [
              0.5555555555555556,
              "#d8576b"
             ],
             [
              0.6666666666666666,
              "#ed7953"
             ],
             [
              0.7777777777777778,
              "#fb9f3a"
             ],
             [
              0.8888888888888888,
              "#fdca26"
             ],
             [
              1,
              "#f0f921"
             ]
            ],
            "type": "histogram2dcontour"
           }
          ],
          "mesh3d": [
           {
            "colorbar": {
             "outlinewidth": 0,
             "ticks": ""
            },
            "type": "mesh3d"
           }
          ],
          "parcoords": [
           {
            "line": {
             "colorbar": {
              "outlinewidth": 0,
              "ticks": ""
             }
            },
            "type": "parcoords"
           }
          ],
          "pie": [
           {
            "automargin": true,
            "type": "pie"
           }
          ],
          "scatter": [
           {
            "fillpattern": {
             "fillmode": "overlay",
             "size": 10,
             "solidity": 0.2
            },
            "type": "scatter"
           }
          ],
          "scatter3d": [
           {
            "line": {
             "colorbar": {
              "outlinewidth": 0,
              "ticks": ""
             }
            },
            "marker": {
             "colorbar": {
              "outlinewidth": 0,
              "ticks": ""
             }
            },
            "type": "scatter3d"
           }
          ],
          "scattercarpet": [
           {
            "marker": {
             "colorbar": {
              "outlinewidth": 0,
              "ticks": ""
             }
            },
            "type": "scattercarpet"
           }
          ],
          "scattergeo": [
           {
            "marker": {
             "colorbar": {
              "outlinewidth": 0,
              "ticks": ""
             }
            },
            "type": "scattergeo"
           }
          ],
          "scattergl": [
           {
            "marker": {
             "colorbar": {
              "outlinewidth": 0,
              "ticks": ""
             }
            },
            "type": "scattergl"
           }
          ],
          "scattermapbox": [
           {
            "marker": {
             "colorbar": {
              "outlinewidth": 0,
              "ticks": ""
             }
            },
            "type": "scattermapbox"
           }
          ],
          "scatterpolar": [
           {
            "marker": {
             "colorbar": {
              "outlinewidth": 0,
              "ticks": ""
             }
            },
            "type": "scatterpolar"
           }
          ],
          "scatterpolargl": [
           {
            "marker": {
             "colorbar": {
              "outlinewidth": 0,
              "ticks": ""
             }
            },
            "type": "scatterpolargl"
           }
          ],
          "scatterternary": [
           {
            "marker": {
             "colorbar": {
              "outlinewidth": 0,
              "ticks": ""
             }
            },
            "type": "scatterternary"
           }
          ],
          "surface": [
           {
            "colorbar": {
             "outlinewidth": 0,
             "ticks": ""
            },
            "colorscale": [
             [
              0,
              "#0d0887"
             ],
             [
              0.1111111111111111,
              "#46039f"
             ],
             [
              0.2222222222222222,
              "#7201a8"
             ],
             [
              0.3333333333333333,
              "#9c179e"
             ],
             [
              0.4444444444444444,
              "#bd3786"
             ],
             [
              0.5555555555555556,
              "#d8576b"
             ],
             [
              0.6666666666666666,
              "#ed7953"
             ],
             [
              0.7777777777777778,
              "#fb9f3a"
             ],
             [
              0.8888888888888888,
              "#fdca26"
             ],
             [
              1,
              "#f0f921"
             ]
            ],
            "type": "surface"
           }
          ],
          "table": [
           {
            "cells": {
             "fill": {
              "color": "#EBF0F8"
             },
             "line": {
              "color": "white"
             }
            },
            "header": {
             "fill": {
              "color": "#C8D4E3"
             },
             "line": {
              "color": "white"
             }
            },
            "type": "table"
           }
          ]
         },
         "layout": {
          "annotationdefaults": {
           "arrowcolor": "#2a3f5f",
           "arrowhead": 0,
           "arrowwidth": 1
          },
          "autotypenumbers": "strict",
          "coloraxis": {
           "colorbar": {
            "outlinewidth": 0,
            "ticks": ""
           }
          },
          "colorscale": {
           "diverging": [
            [
             0,
             "#8e0152"
            ],
            [
             0.1,
             "#c51b7d"
            ],
            [
             0.2,
             "#de77ae"
            ],
            [
             0.3,
             "#f1b6da"
            ],
            [
             0.4,
             "#fde0ef"
            ],
            [
             0.5,
             "#f7f7f7"
            ],
            [
             0.6,
             "#e6f5d0"
            ],
            [
             0.7,
             "#b8e186"
            ],
            [
             0.8,
             "#7fbc41"
            ],
            [
             0.9,
             "#4d9221"
            ],
            [
             1,
             "#276419"
            ]
           ],
           "sequential": [
            [
             0,
             "#0d0887"
            ],
            [
             0.1111111111111111,
             "#46039f"
            ],
            [
             0.2222222222222222,
             "#7201a8"
            ],
            [
             0.3333333333333333,
             "#9c179e"
            ],
            [
             0.4444444444444444,
             "#bd3786"
            ],
            [
             0.5555555555555556,
             "#d8576b"
            ],
            [
             0.6666666666666666,
             "#ed7953"
            ],
            [
             0.7777777777777778,
             "#fb9f3a"
            ],
            [
             0.8888888888888888,
             "#fdca26"
            ],
            [
             1,
             "#f0f921"
            ]
           ],
           "sequentialminus": [
            [
             0,
             "#0d0887"
            ],
            [
             0.1111111111111111,
             "#46039f"
            ],
            [
             0.2222222222222222,
             "#7201a8"
            ],
            [
             0.3333333333333333,
             "#9c179e"
            ],
            [
             0.4444444444444444,
             "#bd3786"
            ],
            [
             0.5555555555555556,
             "#d8576b"
            ],
            [
             0.6666666666666666,
             "#ed7953"
            ],
            [
             0.7777777777777778,
             "#fb9f3a"
            ],
            [
             0.8888888888888888,
             "#fdca26"
            ],
            [
             1,
             "#f0f921"
            ]
           ]
          },
          "colorway": [
           "#636efa",
           "#EF553B",
           "#00cc96",
           "#ab63fa",
           "#FFA15A",
           "#19d3f3",
           "#FF6692",
           "#B6E880",
           "#FF97FF",
           "#FECB52"
          ],
          "font": {
           "color": "#2a3f5f"
          },
          "geo": {
           "bgcolor": "white",
           "lakecolor": "white",
           "landcolor": "#E5ECF6",
           "showlakes": true,
           "showland": true,
           "subunitcolor": "white"
          },
          "hoverlabel": {
           "align": "left"
          },
          "hovermode": "closest",
          "mapbox": {
           "style": "light"
          },
          "paper_bgcolor": "white",
          "plot_bgcolor": "#E5ECF6",
          "polar": {
           "angularaxis": {
            "gridcolor": "white",
            "linecolor": "white",
            "ticks": ""
           },
           "bgcolor": "#E5ECF6",
           "radialaxis": {
            "gridcolor": "white",
            "linecolor": "white",
            "ticks": ""
           }
          },
          "scene": {
           "xaxis": {
            "backgroundcolor": "#E5ECF6",
            "gridcolor": "white",
            "gridwidth": 2,
            "linecolor": "white",
            "showbackground": true,
            "ticks": "",
            "zerolinecolor": "white"
           },
           "yaxis": {
            "backgroundcolor": "#E5ECF6",
            "gridcolor": "white",
            "gridwidth": 2,
            "linecolor": "white",
            "showbackground": true,
            "ticks": "",
            "zerolinecolor": "white"
           },
           "zaxis": {
            "backgroundcolor": "#E5ECF6",
            "gridcolor": "white",
            "gridwidth": 2,
            "linecolor": "white",
            "showbackground": true,
            "ticks": "",
            "zerolinecolor": "white"
           }
          },
          "shapedefaults": {
           "line": {
            "color": "#2a3f5f"
           }
          },
          "ternary": {
           "aaxis": {
            "gridcolor": "white",
            "linecolor": "white",
            "ticks": ""
           },
           "baxis": {
            "gridcolor": "white",
            "linecolor": "white",
            "ticks": ""
           },
           "bgcolor": "#E5ECF6",
           "caxis": {
            "gridcolor": "white",
            "linecolor": "white",
            "ticks": ""
           }
          },
          "title": {
           "x": 0.05
          },
          "xaxis": {
           "automargin": true,
           "gridcolor": "white",
           "linecolor": "white",
           "ticks": "",
           "title": {
            "standoff": 15
           },
           "zerolinecolor": "white",
           "zerolinewidth": 2
          },
          "yaxis": {
           "automargin": true,
           "gridcolor": "white",
           "linecolor": "white",
           "ticks": "",
           "title": {
            "standoff": 15
           },
           "zerolinecolor": "white",
           "zerolinewidth": 2
          }
         }
        },
        "xaxis": {
         "tickmode": "array",
         "ticktext": [
          "AROU",
          "VAL",
          "DOM",
          "CNC",
          "IMAG",
          "FAM",
          "AOA",
          "SIZE",
          "GEND"
         ],
         "tickvals": [
          1,
          2,
          3,
          4,
          5,
          6,
          7,
          8,
          9
         ]
        }
       }
      }
     },
     "metadata": {},
     "output_type": "display_data"
    }
   ],
   "source": [
    "viz_GlasgowR(['child','baby','human'], glasgow)"
   ]
  },
  {
   "cell_type": "code",
   "execution_count": null,
   "metadata": {},
   "outputs": [],
   "source": []
  },
  {
   "cell_type": "markdown",
   "metadata": {},
   "source": [
    "----\n",
    "# Index of Dispersion (or Variance-to-mean Ratio)\n",
    "As discussed with Dr. Miguel Ribeiro, it is not appropriate to use mean and variance as input variables of a factor analysis. However, considering the theoretical hypothesis of this work, variance does impact the interpretation and should be considered, i.e., CNC_M value indicates the average concreteness attributed to a word, but a lower variance may indicate it is more objective than subjective.  "
   ]
  },
  {
   "cell_type": "markdown",
   "metadata": {},
   "source": [
    "In this chapter, we will create a new indicator -- the variance coefficient -- as the ratio between standard deviation and mean:  \n",
    "${DI} = \\frac{\\sigma^2}{\\mu}*100$  \n",
    "\n",
    "> In fact, it is also called \"index of dispersion\", or Fano index: https://en.wikipedia.org/wiki/Index_of_dispersion "
   ]
  },
  {
   "cell_type": "code",
   "execution_count": 23,
   "metadata": {},
   "outputs": [
    {
     "data": {
      "text/html": [
       "<div>\n",
       "<style scoped>\n",
       "    .dataframe tbody tr th:only-of-type {\n",
       "        vertical-align: middle;\n",
       "    }\n",
       "\n",
       "    .dataframe tbody tr th {\n",
       "        vertical-align: top;\n",
       "    }\n",
       "\n",
       "    .dataframe thead th {\n",
       "        text-align: right;\n",
       "    }\n",
       "</style>\n",
       "<table border=\"1\" class=\"dataframe\">\n",
       "  <thead>\n",
       "    <tr style=\"text-align: right;\">\n",
       "      <th></th>\n",
       "      <th>AROU_M</th>\n",
       "      <th>VAL_M</th>\n",
       "      <th>DOM_M</th>\n",
       "      <th>CNC_M</th>\n",
       "      <th>IMAG_M</th>\n",
       "      <th>FAM_M</th>\n",
       "      <th>AOA_M</th>\n",
       "      <th>SIZE_M</th>\n",
       "      <th>GEND_M</th>\n",
       "    </tr>\n",
       "    <tr>\n",
       "      <th>words</th>\n",
       "      <th></th>\n",
       "      <th></th>\n",
       "      <th></th>\n",
       "      <th></th>\n",
       "      <th></th>\n",
       "      <th></th>\n",
       "      <th></th>\n",
       "      <th></th>\n",
       "      <th></th>\n",
       "    </tr>\n",
       "  </thead>\n",
       "  <tbody>\n",
       "    <tr>\n",
       "      <th>abattoir</th>\n",
       "      <td>4.200</td>\n",
       "      <td>2.864</td>\n",
       "      <td>4.333</td>\n",
       "      <td>5.455</td>\n",
       "      <td>4.391</td>\n",
       "      <td>2.382</td>\n",
       "      <td>6.760</td>\n",
       "      <td>4.652</td>\n",
       "      <td>5.391</td>\n",
       "    </tr>\n",
       "    <tr>\n",
       "      <th>abbey</th>\n",
       "      <td>3.125</td>\n",
       "      <td>5.781</td>\n",
       "      <td>4.667</td>\n",
       "      <td>5.906</td>\n",
       "      <td>5.344</td>\n",
       "      <td>3.324</td>\n",
       "      <td>5.177</td>\n",
       "      <td>5.121</td>\n",
       "      <td>3.303</td>\n",
       "    </tr>\n",
       "  </tbody>\n",
       "</table>\n",
       "</div>"
      ],
      "text/plain": [
       "          AROU_M  VAL_M  DOM_M  CNC_M  IMAG_M  FAM_M  AOA_M  SIZE_M  GEND_M\n",
       "words                                                                      \n",
       "abattoir   4.200  2.864  4.333  5.455   4.391  2.382  6.760   4.652   5.391\n",
       "abbey      3.125  5.781  4.667  5.906   5.344  3.324  5.177   5.121   3.303"
      ]
     },
     "execution_count": 23,
     "metadata": {},
     "output_type": "execute_result"
    }
   ],
   "source": [
    "df_M.head(2)"
   ]
  },
  {
   "cell_type": "code",
   "execution_count": 24,
   "metadata": {},
   "outputs": [
    {
     "data": {
      "text/html": [
       "<div>\n",
       "<style scoped>\n",
       "    .dataframe tbody tr th:only-of-type {\n",
       "        vertical-align: middle;\n",
       "    }\n",
       "\n",
       "    .dataframe tbody tr th {\n",
       "        vertical-align: top;\n",
       "    }\n",
       "\n",
       "    .dataframe thead th {\n",
       "        text-align: right;\n",
       "    }\n",
       "</style>\n",
       "<table border=\"1\" class=\"dataframe\">\n",
       "  <thead>\n",
       "    <tr style=\"text-align: right;\">\n",
       "      <th></th>\n",
       "      <th>AROU_SD</th>\n",
       "      <th>VAL_SD</th>\n",
       "      <th>DOM_SD</th>\n",
       "      <th>CNC_SD</th>\n",
       "      <th>IMAG_SD</th>\n",
       "      <th>FAM_SD</th>\n",
       "      <th>AOA_SD</th>\n",
       "      <th>SIZE_SD</th>\n",
       "      <th>GEND_SD</th>\n",
       "    </tr>\n",
       "    <tr>\n",
       "      <th>words</th>\n",
       "      <th></th>\n",
       "      <th></th>\n",
       "      <th></th>\n",
       "      <th></th>\n",
       "      <th></th>\n",
       "      <th></th>\n",
       "      <th></th>\n",
       "      <th></th>\n",
       "      <th></th>\n",
       "    </tr>\n",
       "  </thead>\n",
       "  <tbody>\n",
       "    <tr>\n",
       "      <th>abattoir</th>\n",
       "      <td>2.400</td>\n",
       "      <td>1.740</td>\n",
       "      <td>1.285</td>\n",
       "      <td>1.900</td>\n",
       "      <td>2.121</td>\n",
       "      <td>1.799</td>\n",
       "      <td>0.427</td>\n",
       "      <td>1.549</td>\n",
       "      <td>1.170</td>\n",
       "    </tr>\n",
       "    <tr>\n",
       "      <th>abbey</th>\n",
       "      <td>2.342</td>\n",
       "      <td>1.268</td>\n",
       "      <td>1.551</td>\n",
       "      <td>1.508</td>\n",
       "      <td>1.881</td>\n",
       "      <td>1.810</td>\n",
       "      <td>1.339</td>\n",
       "      <td>1.629</td>\n",
       "      <td>1.193</td>\n",
       "    </tr>\n",
       "  </tbody>\n",
       "</table>\n",
       "</div>"
      ],
      "text/plain": [
       "          AROU_SD  VAL_SD  DOM_SD  CNC_SD  IMAG_SD  FAM_SD  AOA_SD  SIZE_SD  \\\n",
       "words                                                                         \n",
       "abattoir    2.400   1.740   1.285   1.900    2.121   1.799   0.427    1.549   \n",
       "abbey       2.342   1.268   1.551   1.508    1.881   1.810   1.339    1.629   \n",
       "\n",
       "          GEND_SD  \n",
       "words              \n",
       "abattoir    1.170  \n",
       "abbey       1.193  "
      ]
     },
     "execution_count": 24,
     "metadata": {},
     "output_type": "execute_result"
    }
   ],
   "source": [
    "df_SD.head(2)"
   ]
  },
  {
   "cell_type": "code",
   "execution_count": 25,
   "metadata": {},
   "outputs": [
    {
     "name": "stdout",
     "output_type": "stream",
     "text": [
      "Indexes are equals in both dataframes: True\n"
     ]
    }
   ],
   "source": [
    "## Checking if indexes in both dataframes are identical:\n",
    "print(f'Indexes are equals in both dataframes: {df_M.index.equals(df_SD.index)}')"
   ]
  },
  {
   "cell_type": "code",
   "execution_count": 26,
   "metadata": {},
   "outputs": [
    {
     "name": "stdout",
     "output_type": "stream",
     "text": [
      "The stem of each column name is identical: True\n"
     ]
    }
   ],
   "source": [
    "## Checking if columns stem are equivalent in both dataframes:\n",
    "re_stem = r'(.+?)_'\n",
    "stems_df_M = [re.match(re_stem, col).group(1) for col in df_M.columns]\n",
    "stems_df_SD = [re.match(re_stem, col).group(1) for col in df_SD.columns]\n",
    "print(f'The stem of each column name is identical: {set(stems_df_M) == set(stems_df_SD)}')"
   ]
  },
  {
   "cell_type": "markdown",
   "metadata": {},
   "source": [
    "### Calculating the Dispersion Index:"
   ]
  },
  {
   "cell_type": "code",
   "execution_count": 27,
   "metadata": {},
   "outputs": [],
   "source": [
    "df_DI = (np.square(df_SD.values) / df_M.values)\n",
    "df_DI = pd.DataFrame(df_DI, columns=[dim + '_DI' for dim in stems_df_M], index=df_M.index)"
   ]
  },
  {
   "cell_type": "code",
   "execution_count": 28,
   "metadata": {},
   "outputs": [
    {
     "data": {
      "text/html": [
       "<div>\n",
       "<style scoped>\n",
       "    .dataframe tbody tr th:only-of-type {\n",
       "        vertical-align: middle;\n",
       "    }\n",
       "\n",
       "    .dataframe tbody tr th {\n",
       "        vertical-align: top;\n",
       "    }\n",
       "\n",
       "    .dataframe thead th {\n",
       "        text-align: right;\n",
       "    }\n",
       "</style>\n",
       "<table border=\"1\" class=\"dataframe\">\n",
       "  <thead>\n",
       "    <tr style=\"text-align: right;\">\n",
       "      <th></th>\n",
       "      <th>AROU_DI</th>\n",
       "      <th>VAL_DI</th>\n",
       "      <th>DOM_DI</th>\n",
       "      <th>CNC_DI</th>\n",
       "      <th>IMAG_DI</th>\n",
       "      <th>FAM_DI</th>\n",
       "      <th>AOA_DI</th>\n",
       "      <th>SIZE_DI</th>\n",
       "      <th>GEND_DI</th>\n",
       "    </tr>\n",
       "    <tr>\n",
       "      <th>words</th>\n",
       "      <th></th>\n",
       "      <th></th>\n",
       "      <th></th>\n",
       "      <th></th>\n",
       "      <th></th>\n",
       "      <th></th>\n",
       "      <th></th>\n",
       "      <th></th>\n",
       "      <th></th>\n",
       "    </tr>\n",
       "  </thead>\n",
       "  <tbody>\n",
       "    <tr>\n",
       "      <th>abattoir</th>\n",
       "      <td>1.371429</td>\n",
       "      <td>1.057123</td>\n",
       "      <td>0.381081</td>\n",
       "      <td>0.661778</td>\n",
       "      <td>1.024514</td>\n",
       "      <td>1.358691</td>\n",
       "      <td>0.026972</td>\n",
       "      <td>0.515778</td>\n",
       "      <td>0.253923</td>\n",
       "    </tr>\n",
       "    <tr>\n",
       "      <th>abbey</th>\n",
       "      <td>1.755188</td>\n",
       "      <td>0.278122</td>\n",
       "      <td>0.515449</td>\n",
       "      <td>0.385043</td>\n",
       "      <td>0.662081</td>\n",
       "      <td>0.985590</td>\n",
       "      <td>0.346324</td>\n",
       "      <td>0.518188</td>\n",
       "      <td>0.430896</td>\n",
       "    </tr>\n",
       "    <tr>\n",
       "      <th>abbreviate</th>\n",
       "      <td>0.764658</td>\n",
       "      <td>0.202469</td>\n",
       "      <td>0.292769</td>\n",
       "      <td>0.913965</td>\n",
       "      <td>0.897929</td>\n",
       "      <td>0.659684</td>\n",
       "      <td>0.230363</td>\n",
       "      <td>1.083615</td>\n",
       "      <td>0.229191</td>\n",
       "    </tr>\n",
       "    <tr>\n",
       "      <th>abdicate</th>\n",
       "      <td>0.898303</td>\n",
       "      <td>0.507749</td>\n",
       "      <td>1.077421</td>\n",
       "      <td>1.019783</td>\n",
       "      <td>0.919492</td>\n",
       "      <td>1.086358</td>\n",
       "      <td>0.114285</td>\n",
       "      <td>0.443787</td>\n",
       "      <td>0.272227</td>\n",
       "    </tr>\n",
       "    <tr>\n",
       "      <th>abdication</th>\n",
       "      <td>1.354010</td>\n",
       "      <td>0.666408</td>\n",
       "      <td>0.800333</td>\n",
       "      <td>0.797205</td>\n",
       "      <td>0.651278</td>\n",
       "      <td>1.320143</td>\n",
       "      <td>0.130103</td>\n",
       "      <td>0.359079</td>\n",
       "      <td>0.225383</td>\n",
       "    </tr>\n",
       "    <tr>\n",
       "      <th>...</th>\n",
       "      <td>...</td>\n",
       "      <td>...</td>\n",
       "      <td>...</td>\n",
       "      <td>...</td>\n",
       "      <td>...</td>\n",
       "      <td>...</td>\n",
       "      <td>...</td>\n",
       "      <td>...</td>\n",
       "      <td>...</td>\n",
       "    </tr>\n",
       "    <tr>\n",
       "      <th>zeppelin</th>\n",
       "      <td>0.670876</td>\n",
       "      <td>0.399879</td>\n",
       "      <td>0.569670</td>\n",
       "      <td>0.134648</td>\n",
       "      <td>0.203901</td>\n",
       "      <td>1.412449</td>\n",
       "      <td>0.147637</td>\n",
       "      <td>0.542065</td>\n",
       "      <td>0.197844</td>\n",
       "    </tr>\n",
       "    <tr>\n",
       "      <th>zero</th>\n",
       "      <td>1.015264</td>\n",
       "      <td>0.600723</td>\n",
       "      <td>0.987820</td>\n",
       "      <td>1.335947</td>\n",
       "      <td>1.411327</td>\n",
       "      <td>0.227792</td>\n",
       "      <td>0.478425</td>\n",
       "      <td>1.103782</td>\n",
       "      <td>0.100338</td>\n",
       "    </tr>\n",
       "    <tr>\n",
       "      <th>zest</th>\n",
       "      <td>0.780192</td>\n",
       "      <td>0.252856</td>\n",
       "      <td>0.284659</td>\n",
       "      <td>0.646606</td>\n",
       "      <td>0.652339</td>\n",
       "      <td>0.660969</td>\n",
       "      <td>0.235110</td>\n",
       "      <td>1.145920</td>\n",
       "      <td>0.296095</td>\n",
       "    </tr>\n",
       "    <tr>\n",
       "      <th>zoo</th>\n",
       "      <td>0.772850</td>\n",
       "      <td>0.519647</td>\n",
       "      <td>0.465561</td>\n",
       "      <td>0.199579</td>\n",
       "      <td>0.157124</td>\n",
       "      <td>0.539701</td>\n",
       "      <td>0.195472</td>\n",
       "      <td>0.724222</td>\n",
       "      <td>0.158464</td>\n",
       "    </tr>\n",
       "    <tr>\n",
       "      <th>zoology</th>\n",
       "      <td>0.928375</td>\n",
       "      <td>0.163883</td>\n",
       "      <td>0.466763</td>\n",
       "      <td>0.765247</td>\n",
       "      <td>0.560389</td>\n",
       "      <td>0.873103</td>\n",
       "      <td>0.227078</td>\n",
       "      <td>0.566371</td>\n",
       "      <td>0.311902</td>\n",
       "    </tr>\n",
       "  </tbody>\n",
       "</table>\n",
       "<p>5553 rows × 9 columns</p>\n",
       "</div>"
      ],
      "text/plain": [
       "             AROU_DI    VAL_DI    DOM_DI    CNC_DI   IMAG_DI    FAM_DI  \\\n",
       "words                                                                    \n",
       "abattoir    1.371429  1.057123  0.381081  0.661778  1.024514  1.358691   \n",
       "abbey       1.755188  0.278122  0.515449  0.385043  0.662081  0.985590   \n",
       "abbreviate  0.764658  0.202469  0.292769  0.913965  0.897929  0.659684   \n",
       "abdicate    0.898303  0.507749  1.077421  1.019783  0.919492  1.086358   \n",
       "abdication  1.354010  0.666408  0.800333  0.797205  0.651278  1.320143   \n",
       "...              ...       ...       ...       ...       ...       ...   \n",
       "zeppelin    0.670876  0.399879  0.569670  0.134648  0.203901  1.412449   \n",
       "zero        1.015264  0.600723  0.987820  1.335947  1.411327  0.227792   \n",
       "zest        0.780192  0.252856  0.284659  0.646606  0.652339  0.660969   \n",
       "zoo         0.772850  0.519647  0.465561  0.199579  0.157124  0.539701   \n",
       "zoology     0.928375  0.163883  0.466763  0.765247  0.560389  0.873103   \n",
       "\n",
       "              AOA_DI   SIZE_DI   GEND_DI  \n",
       "words                                     \n",
       "abattoir    0.026972  0.515778  0.253923  \n",
       "abbey       0.346324  0.518188  0.430896  \n",
       "abbreviate  0.230363  1.083615  0.229191  \n",
       "abdicate    0.114285  0.443787  0.272227  \n",
       "abdication  0.130103  0.359079  0.225383  \n",
       "...              ...       ...       ...  \n",
       "zeppelin    0.147637  0.542065  0.197844  \n",
       "zero        0.478425  1.103782  0.100338  \n",
       "zest        0.235110  1.145920  0.296095  \n",
       "zoo         0.195472  0.724222  0.158464  \n",
       "zoology     0.227078  0.566371  0.311902  \n",
       "\n",
       "[5553 rows x 9 columns]"
      ]
     },
     "execution_count": 28,
     "metadata": {},
     "output_type": "execute_result"
    }
   ],
   "source": [
    "df_DI"
   ]
  },
  {
   "cell_type": "markdown",
   "metadata": {},
   "source": [
    "### Calculating the Signal-to-Noise Rate:"
   ]
  },
  {
   "cell_type": "code",
   "execution_count": 55,
   "metadata": {},
   "outputs": [
    {
     "name": "stderr",
     "output_type": "stream",
     "text": [
      "C:\\Users\\tiago\\AppData\\Local\\Temp\\ipykernel_22680\\1839602371.py:1: RuntimeWarning:\n",
      "\n",
      "divide by zero encountered in divide\n",
      "\n"
     ]
    }
   ],
   "source": [
    "df_SNR = (df_M.values / df_SD.values)\n",
    "df_SNR = pd.DataFrame(df_SNR, columns=[dim + '_SNR' for dim in stems_df_M], index=df_M.index)"
   ]
  },
  {
   "cell_type": "code",
   "execution_count": 57,
   "metadata": {},
   "outputs": [
    {
     "data": {
      "text/html": [
       "<div>\n",
       "<style scoped>\n",
       "    .dataframe tbody tr th:only-of-type {\n",
       "        vertical-align: middle;\n",
       "    }\n",
       "\n",
       "    .dataframe tbody tr th {\n",
       "        vertical-align: top;\n",
       "    }\n",
       "\n",
       "    .dataframe thead th {\n",
       "        text-align: right;\n",
       "    }\n",
       "</style>\n",
       "<table border=\"1\" class=\"dataframe\">\n",
       "  <thead>\n",
       "    <tr style=\"text-align: right;\">\n",
       "      <th></th>\n",
       "      <th>AROU_SNR</th>\n",
       "      <th>VAL_SNR</th>\n",
       "      <th>DOM_SNR</th>\n",
       "      <th>CNC_SNR</th>\n",
       "      <th>IMAG_SNR</th>\n",
       "      <th>FAM_SNR</th>\n",
       "      <th>AOA_SNR</th>\n",
       "      <th>SIZE_SNR</th>\n",
       "      <th>GEND_SNR</th>\n",
       "    </tr>\n",
       "    <tr>\n",
       "      <th>words</th>\n",
       "      <th></th>\n",
       "      <th></th>\n",
       "      <th></th>\n",
       "      <th></th>\n",
       "      <th></th>\n",
       "      <th></th>\n",
       "      <th></th>\n",
       "      <th></th>\n",
       "      <th></th>\n",
       "    </tr>\n",
       "  </thead>\n",
       "  <tbody>\n",
       "    <tr>\n",
       "      <th>abattoir</th>\n",
       "      <td>1.750000</td>\n",
       "      <td>1.645977</td>\n",
       "      <td>3.371984</td>\n",
       "      <td>2.871053</td>\n",
       "      <td>2.070250</td>\n",
       "      <td>1.324069</td>\n",
       "      <td>15.831382</td>\n",
       "      <td>3.003228</td>\n",
       "      <td>4.607692</td>\n",
       "    </tr>\n",
       "    <tr>\n",
       "      <th>abbey</th>\n",
       "      <td>1.334330</td>\n",
       "      <td>4.559148</td>\n",
       "      <td>3.009026</td>\n",
       "      <td>3.916446</td>\n",
       "      <td>2.841042</td>\n",
       "      <td>1.836464</td>\n",
       "      <td>3.866318</td>\n",
       "      <td>3.143646</td>\n",
       "      <td>2.768650</td>\n",
       "    </tr>\n",
       "    <tr>\n",
       "      <th>abbreviate</th>\n",
       "      <td>2.068900</td>\n",
       "      <td>5.092144</td>\n",
       "      <td>4.228595</td>\n",
       "      <td>1.896134</td>\n",
       "      <td>1.880995</td>\n",
       "      <td>2.786181</td>\n",
       "      <td>4.905310</td>\n",
       "      <td>1.568824</td>\n",
       "      <td>4.162474</td>\n",
       "    </tr>\n",
       "    <tr>\n",
       "      <th>abdicate</th>\n",
       "      <td>2.160742</td>\n",
       "      <td>2.723789</td>\n",
       "      <td>2.025206</td>\n",
       "      <td>1.817053</td>\n",
       "      <td>1.654175</td>\n",
       "      <td>1.911892</td>\n",
       "      <td>7.385071</td>\n",
       "      <td>3.247051</td>\n",
       "      <td>4.356661</td>\n",
       "    </tr>\n",
       "    <tr>\n",
       "      <th>abdication</th>\n",
       "      <td>1.685364</td>\n",
       "      <td>2.412935</td>\n",
       "      <td>2.448980</td>\n",
       "      <td>2.032099</td>\n",
       "      <td>1.986862</td>\n",
       "      <td>1.531652</td>\n",
       "      <td>7.017525</td>\n",
       "      <td>3.762398</td>\n",
       "      <td>4.503448</td>\n",
       "    </tr>\n",
       "    <tr>\n",
       "      <th>...</th>\n",
       "      <td>...</td>\n",
       "      <td>...</td>\n",
       "      <td>...</td>\n",
       "      <td>...</td>\n",
       "      <td>...</td>\n",
       "      <td>...</td>\n",
       "      <td>...</td>\n",
       "      <td>...</td>\n",
       "      <td>...</td>\n",
       "    </tr>\n",
       "    <tr>\n",
       "      <th>zeppelin</th>\n",
       "      <td>3.036328</td>\n",
       "      <td>3.536068</td>\n",
       "      <td>3.059667</td>\n",
       "      <td>6.832609</td>\n",
       "      <td>5.507569</td>\n",
       "      <td>1.497400</td>\n",
       "      <td>6.394068</td>\n",
       "      <td>3.174898</td>\n",
       "      <td>5.160627</td>\n",
       "    </tr>\n",
       "    <tr>\n",
       "      <th>zero</th>\n",
       "      <td>1.992585</td>\n",
       "      <td>2.638486</td>\n",
       "      <td>2.150188</td>\n",
       "      <td>1.418470</td>\n",
       "      <td>1.662974</td>\n",
       "      <td>5.246025</td>\n",
       "      <td>2.347284</td>\n",
       "      <td>1.262024</td>\n",
       "      <td>6.448223</td>\n",
       "    </tr>\n",
       "    <tr>\n",
       "      <th>zest</th>\n",
       "      <td>2.765987</td>\n",
       "      <td>5.192688</td>\n",
       "      <td>4.637121</td>\n",
       "      <td>2.619835</td>\n",
       "      <td>2.486436</td>\n",
       "      <td>2.460025</td>\n",
       "      <td>4.776492</td>\n",
       "      <td>1.516686</td>\n",
       "      <td>3.414441</td>\n",
       "    </tr>\n",
       "    <tr>\n",
       "      <th>zoo</th>\n",
       "      <td>2.765091</td>\n",
       "      <td>3.463889</td>\n",
       "      <td>3.432416</td>\n",
       "      <td>5.536652</td>\n",
       "      <td>6.402584</td>\n",
       "      <td>3.236978</td>\n",
       "      <td>3.448071</td>\n",
       "      <td>2.586225</td>\n",
       "      <td>5.061097</td>\n",
       "    </tr>\n",
       "    <tr>\n",
       "      <th>zoology</th>\n",
       "      <td>2.218932</td>\n",
       "      <td>5.931070</td>\n",
       "      <td>3.310032</td>\n",
       "      <td>2.405758</td>\n",
       "      <td>2.642809</td>\n",
       "      <td>2.240286</td>\n",
       "      <td>5.064348</td>\n",
       "      <td>2.840895</td>\n",
       "      <td>3.424157</td>\n",
       "    </tr>\n",
       "  </tbody>\n",
       "</table>\n",
       "<p>5553 rows × 9 columns</p>\n",
       "</div>"
      ],
      "text/plain": [
       "            AROU_SNR   VAL_SNR   DOM_SNR   CNC_SNR  IMAG_SNR   FAM_SNR  \\\n",
       "words                                                                    \n",
       "abattoir    1.750000  1.645977  3.371984  2.871053  2.070250  1.324069   \n",
       "abbey       1.334330  4.559148  3.009026  3.916446  2.841042  1.836464   \n",
       "abbreviate  2.068900  5.092144  4.228595  1.896134  1.880995  2.786181   \n",
       "abdicate    2.160742  2.723789  2.025206  1.817053  1.654175  1.911892   \n",
       "abdication  1.685364  2.412935  2.448980  2.032099  1.986862  1.531652   \n",
       "...              ...       ...       ...       ...       ...       ...   \n",
       "zeppelin    3.036328  3.536068  3.059667  6.832609  5.507569  1.497400   \n",
       "zero        1.992585  2.638486  2.150188  1.418470  1.662974  5.246025   \n",
       "zest        2.765987  5.192688  4.637121  2.619835  2.486436  2.460025   \n",
       "zoo         2.765091  3.463889  3.432416  5.536652  6.402584  3.236978   \n",
       "zoology     2.218932  5.931070  3.310032  2.405758  2.642809  2.240286   \n",
       "\n",
       "              AOA_SNR  SIZE_SNR  GEND_SNR  \n",
       "words                                      \n",
       "abattoir    15.831382  3.003228  4.607692  \n",
       "abbey        3.866318  3.143646  2.768650  \n",
       "abbreviate   4.905310  1.568824  4.162474  \n",
       "abdicate     7.385071  3.247051  4.356661  \n",
       "abdication   7.017525  3.762398  4.503448  \n",
       "...               ...       ...       ...  \n",
       "zeppelin     6.394068  3.174898  5.160627  \n",
       "zero         2.347284  1.262024  6.448223  \n",
       "zest         4.776492  1.516686  3.414441  \n",
       "zoo          3.448071  2.586225  5.061097  \n",
       "zoology      5.064348  2.840895  3.424157  \n",
       "\n",
       "[5553 rows x 9 columns]"
      ]
     },
     "execution_count": 57,
     "metadata": {},
     "output_type": "execute_result"
    }
   ],
   "source": [
    "df_SNR"
   ]
  },
  {
   "cell_type": "markdown",
   "metadata": {},
   "source": [
    "### Preparing a full dataframe with Mean, SD, and DI"
   ]
  },
  {
   "cell_type": "code",
   "execution_count": 58,
   "metadata": {},
   "outputs": [
    {
     "data": {
      "text/html": [
       "<div>\n",
       "<style scoped>\n",
       "    .dataframe tbody tr th:only-of-type {\n",
       "        vertical-align: middle;\n",
       "    }\n",
       "\n",
       "    .dataframe tbody tr th {\n",
       "        vertical-align: top;\n",
       "    }\n",
       "\n",
       "    .dataframe thead th {\n",
       "        text-align: right;\n",
       "    }\n",
       "</style>\n",
       "<table border=\"1\" class=\"dataframe\">\n",
       "  <thead>\n",
       "    <tr style=\"text-align: right;\">\n",
       "      <th></th>\n",
       "      <th>AROU_M</th>\n",
       "      <th>VAL_M</th>\n",
       "      <th>DOM_M</th>\n",
       "      <th>CNC_M</th>\n",
       "      <th>IMAG_M</th>\n",
       "      <th>FAM_M</th>\n",
       "      <th>AOA_M</th>\n",
       "      <th>SIZE_M</th>\n",
       "      <th>GEND_M</th>\n",
       "      <th>AROU_SD</th>\n",
       "      <th>VAL_SD</th>\n",
       "      <th>DOM_SD</th>\n",
       "      <th>CNC_SD</th>\n",
       "      <th>IMAG_SD</th>\n",
       "      <th>FAM_SD</th>\n",
       "      <th>AOA_SD</th>\n",
       "      <th>SIZE_SD</th>\n",
       "      <th>GEND_SD</th>\n",
       "      <th>AROU_DI</th>\n",
       "      <th>VAL_DI</th>\n",
       "      <th>DOM_DI</th>\n",
       "      <th>CNC_DI</th>\n",
       "      <th>IMAG_DI</th>\n",
       "      <th>FAM_DI</th>\n",
       "      <th>AOA_DI</th>\n",
       "      <th>SIZE_DI</th>\n",
       "      <th>GEND_DI</th>\n",
       "      <th>AROU_SNR</th>\n",
       "      <th>VAL_SNR</th>\n",
       "      <th>DOM_SNR</th>\n",
       "      <th>CNC_SNR</th>\n",
       "      <th>IMAG_SNR</th>\n",
       "      <th>FAM_SNR</th>\n",
       "      <th>AOA_SNR</th>\n",
       "      <th>SIZE_SNR</th>\n",
       "      <th>GEND_SNR</th>\n",
       "    </tr>\n",
       "    <tr>\n",
       "      <th>words</th>\n",
       "      <th></th>\n",
       "      <th></th>\n",
       "      <th></th>\n",
       "      <th></th>\n",
       "      <th></th>\n",
       "      <th></th>\n",
       "      <th></th>\n",
       "      <th></th>\n",
       "      <th></th>\n",
       "      <th></th>\n",
       "      <th></th>\n",
       "      <th></th>\n",
       "      <th></th>\n",
       "      <th></th>\n",
       "      <th></th>\n",
       "      <th></th>\n",
       "      <th></th>\n",
       "      <th></th>\n",
       "      <th></th>\n",
       "      <th></th>\n",
       "      <th></th>\n",
       "      <th></th>\n",
       "      <th></th>\n",
       "      <th></th>\n",
       "      <th></th>\n",
       "      <th></th>\n",
       "      <th></th>\n",
       "      <th></th>\n",
       "      <th></th>\n",
       "      <th></th>\n",
       "      <th></th>\n",
       "      <th></th>\n",
       "      <th></th>\n",
       "      <th></th>\n",
       "      <th></th>\n",
       "      <th></th>\n",
       "    </tr>\n",
       "  </thead>\n",
       "  <tbody>\n",
       "    <tr>\n",
       "      <th>abattoir</th>\n",
       "      <td>4.200</td>\n",
       "      <td>2.864</td>\n",
       "      <td>4.333</td>\n",
       "      <td>5.455</td>\n",
       "      <td>4.391</td>\n",
       "      <td>2.382</td>\n",
       "      <td>6.760</td>\n",
       "      <td>4.652</td>\n",
       "      <td>5.391</td>\n",
       "      <td>2.400</td>\n",
       "      <td>1.740</td>\n",
       "      <td>1.285</td>\n",
       "      <td>1.900</td>\n",
       "      <td>2.121</td>\n",
       "      <td>1.799</td>\n",
       "      <td>0.427</td>\n",
       "      <td>1.549</td>\n",
       "      <td>1.170</td>\n",
       "      <td>1.371429</td>\n",
       "      <td>1.057123</td>\n",
       "      <td>0.381081</td>\n",
       "      <td>0.661778</td>\n",
       "      <td>1.024514</td>\n",
       "      <td>1.358691</td>\n",
       "      <td>0.026972</td>\n",
       "      <td>0.515778</td>\n",
       "      <td>0.253923</td>\n",
       "      <td>1.750000</td>\n",
       "      <td>1.645977</td>\n",
       "      <td>3.371984</td>\n",
       "      <td>2.871053</td>\n",
       "      <td>2.070250</td>\n",
       "      <td>1.324069</td>\n",
       "      <td>15.831382</td>\n",
       "      <td>3.003228</td>\n",
       "      <td>4.607692</td>\n",
       "    </tr>\n",
       "    <tr>\n",
       "      <th>abbey</th>\n",
       "      <td>3.125</td>\n",
       "      <td>5.781</td>\n",
       "      <td>4.667</td>\n",
       "      <td>5.906</td>\n",
       "      <td>5.344</td>\n",
       "      <td>3.324</td>\n",
       "      <td>5.177</td>\n",
       "      <td>5.121</td>\n",
       "      <td>3.303</td>\n",
       "      <td>2.342</td>\n",
       "      <td>1.268</td>\n",
       "      <td>1.551</td>\n",
       "      <td>1.508</td>\n",
       "      <td>1.881</td>\n",
       "      <td>1.810</td>\n",
       "      <td>1.339</td>\n",
       "      <td>1.629</td>\n",
       "      <td>1.193</td>\n",
       "      <td>1.755188</td>\n",
       "      <td>0.278122</td>\n",
       "      <td>0.515449</td>\n",
       "      <td>0.385043</td>\n",
       "      <td>0.662081</td>\n",
       "      <td>0.985590</td>\n",
       "      <td>0.346324</td>\n",
       "      <td>0.518188</td>\n",
       "      <td>0.430896</td>\n",
       "      <td>1.334330</td>\n",
       "      <td>4.559148</td>\n",
       "      <td>3.009026</td>\n",
       "      <td>3.916446</td>\n",
       "      <td>2.841042</td>\n",
       "      <td>1.836464</td>\n",
       "      <td>3.866318</td>\n",
       "      <td>3.143646</td>\n",
       "      <td>2.768650</td>\n",
       "    </tr>\n",
       "    <tr>\n",
       "      <th>abbreviate</th>\n",
       "      <td>3.273</td>\n",
       "      <td>5.250</td>\n",
       "      <td>5.235</td>\n",
       "      <td>3.286</td>\n",
       "      <td>3.177</td>\n",
       "      <td>5.121</td>\n",
       "      <td>5.543</td>\n",
       "      <td>2.667</td>\n",
       "      <td>3.971</td>\n",
       "      <td>1.582</td>\n",
       "      <td>1.031</td>\n",
       "      <td>1.238</td>\n",
       "      <td>1.733</td>\n",
       "      <td>1.689</td>\n",
       "      <td>1.838</td>\n",
       "      <td>1.130</td>\n",
       "      <td>1.700</td>\n",
       "      <td>0.954</td>\n",
       "      <td>0.764658</td>\n",
       "      <td>0.202469</td>\n",
       "      <td>0.292769</td>\n",
       "      <td>0.913965</td>\n",
       "      <td>0.897929</td>\n",
       "      <td>0.659684</td>\n",
       "      <td>0.230363</td>\n",
       "      <td>1.083615</td>\n",
       "      <td>0.229191</td>\n",
       "      <td>2.068900</td>\n",
       "      <td>5.092144</td>\n",
       "      <td>4.228595</td>\n",
       "      <td>1.896134</td>\n",
       "      <td>1.880995</td>\n",
       "      <td>2.786181</td>\n",
       "      <td>4.905310</td>\n",
       "      <td>1.568824</td>\n",
       "      <td>4.162474</td>\n",
       "    </tr>\n",
       "    <tr>\n",
       "      <th>abdicate</th>\n",
       "      <td>4.194</td>\n",
       "      <td>3.767</td>\n",
       "      <td>4.419</td>\n",
       "      <td>3.367</td>\n",
       "      <td>2.516</td>\n",
       "      <td>3.971</td>\n",
       "      <td>6.233</td>\n",
       "      <td>4.679</td>\n",
       "      <td>5.167</td>\n",
       "      <td>1.941</td>\n",
       "      <td>1.383</td>\n",
       "      <td>2.182</td>\n",
       "      <td>1.853</td>\n",
       "      <td>1.521</td>\n",
       "      <td>2.077</td>\n",
       "      <td>0.844</td>\n",
       "      <td>1.441</td>\n",
       "      <td>1.186</td>\n",
       "      <td>0.898303</td>\n",
       "      <td>0.507749</td>\n",
       "      <td>1.077421</td>\n",
       "      <td>1.019783</td>\n",
       "      <td>0.919492</td>\n",
       "      <td>1.086358</td>\n",
       "      <td>0.114285</td>\n",
       "      <td>0.443787</td>\n",
       "      <td>0.272227</td>\n",
       "      <td>2.160742</td>\n",
       "      <td>2.723789</td>\n",
       "      <td>2.025206</td>\n",
       "      <td>1.817053</td>\n",
       "      <td>1.654175</td>\n",
       "      <td>1.911892</td>\n",
       "      <td>7.385071</td>\n",
       "      <td>3.247051</td>\n",
       "      <td>4.356661</td>\n",
       "    </tr>\n",
       "    <tr>\n",
       "      <th>abdication</th>\n",
       "      <td>3.846</td>\n",
       "      <td>3.880</td>\n",
       "      <td>4.800</td>\n",
       "      <td>3.292</td>\n",
       "      <td>2.571</td>\n",
       "      <td>3.097</td>\n",
       "      <td>6.407</td>\n",
       "      <td>5.083</td>\n",
       "      <td>4.571</td>\n",
       "      <td>2.282</td>\n",
       "      <td>1.608</td>\n",
       "      <td>1.960</td>\n",
       "      <td>1.620</td>\n",
       "      <td>1.294</td>\n",
       "      <td>2.022</td>\n",
       "      <td>0.913</td>\n",
       "      <td>1.351</td>\n",
       "      <td>1.015</td>\n",
       "      <td>1.354010</td>\n",
       "      <td>0.666408</td>\n",
       "      <td>0.800333</td>\n",
       "      <td>0.797205</td>\n",
       "      <td>0.651278</td>\n",
       "      <td>1.320143</td>\n",
       "      <td>0.130103</td>\n",
       "      <td>0.359079</td>\n",
       "      <td>0.225383</td>\n",
       "      <td>1.685364</td>\n",
       "      <td>2.412935</td>\n",
       "      <td>2.448980</td>\n",
       "      <td>2.032099</td>\n",
       "      <td>1.986862</td>\n",
       "      <td>1.531652</td>\n",
       "      <td>7.017525</td>\n",
       "      <td>3.762398</td>\n",
       "      <td>4.503448</td>\n",
       "    </tr>\n",
       "    <tr>\n",
       "      <th>...</th>\n",
       "      <td>...</td>\n",
       "      <td>...</td>\n",
       "      <td>...</td>\n",
       "      <td>...</td>\n",
       "      <td>...</td>\n",
       "      <td>...</td>\n",
       "      <td>...</td>\n",
       "      <td>...</td>\n",
       "      <td>...</td>\n",
       "      <td>...</td>\n",
       "      <td>...</td>\n",
       "      <td>...</td>\n",
       "      <td>...</td>\n",
       "      <td>...</td>\n",
       "      <td>...</td>\n",
       "      <td>...</td>\n",
       "      <td>...</td>\n",
       "      <td>...</td>\n",
       "      <td>...</td>\n",
       "      <td>...</td>\n",
       "      <td>...</td>\n",
       "      <td>...</td>\n",
       "      <td>...</td>\n",
       "      <td>...</td>\n",
       "      <td>...</td>\n",
       "      <td>...</td>\n",
       "      <td>...</td>\n",
       "      <td>...</td>\n",
       "      <td>...</td>\n",
       "      <td>...</td>\n",
       "      <td>...</td>\n",
       "      <td>...</td>\n",
       "      <td>...</td>\n",
       "      <td>...</td>\n",
       "      <td>...</td>\n",
       "      <td>...</td>\n",
       "    </tr>\n",
       "    <tr>\n",
       "      <th>zeppelin</th>\n",
       "      <td>6.185</td>\n",
       "      <td>5.000</td>\n",
       "      <td>5.333</td>\n",
       "      <td>6.286</td>\n",
       "      <td>6.185</td>\n",
       "      <td>3.167</td>\n",
       "      <td>6.036</td>\n",
       "      <td>5.464</td>\n",
       "      <td>5.269</td>\n",
       "      <td>2.037</td>\n",
       "      <td>1.414</td>\n",
       "      <td>1.743</td>\n",
       "      <td>0.920</td>\n",
       "      <td>1.123</td>\n",
       "      <td>2.115</td>\n",
       "      <td>0.944</td>\n",
       "      <td>1.721</td>\n",
       "      <td>1.021</td>\n",
       "      <td>0.670876</td>\n",
       "      <td>0.399879</td>\n",
       "      <td>0.569670</td>\n",
       "      <td>0.134648</td>\n",
       "      <td>0.203901</td>\n",
       "      <td>1.412449</td>\n",
       "      <td>0.147637</td>\n",
       "      <td>0.542065</td>\n",
       "      <td>0.197844</td>\n",
       "      <td>3.036328</td>\n",
       "      <td>3.536068</td>\n",
       "      <td>3.059667</td>\n",
       "      <td>6.832609</td>\n",
       "      <td>5.507569</td>\n",
       "      <td>1.497400</td>\n",
       "      <td>6.394068</td>\n",
       "      <td>3.174898</td>\n",
       "      <td>5.160627</td>\n",
       "    </tr>\n",
       "    <tr>\n",
       "      <th>zero</th>\n",
       "      <td>4.031</td>\n",
       "      <td>4.182</td>\n",
       "      <td>4.567</td>\n",
       "      <td>2.688</td>\n",
       "      <td>3.903</td>\n",
       "      <td>6.269</td>\n",
       "      <td>2.636</td>\n",
       "      <td>1.758</td>\n",
       "      <td>4.172</td>\n",
       "      <td>2.023</td>\n",
       "      <td>1.585</td>\n",
       "      <td>2.124</td>\n",
       "      <td>1.895</td>\n",
       "      <td>2.347</td>\n",
       "      <td>1.195</td>\n",
       "      <td>1.123</td>\n",
       "      <td>1.393</td>\n",
       "      <td>0.647</td>\n",
       "      <td>1.015264</td>\n",
       "      <td>0.600723</td>\n",
       "      <td>0.987820</td>\n",
       "      <td>1.335947</td>\n",
       "      <td>1.411327</td>\n",
       "      <td>0.227792</td>\n",
       "      <td>0.478425</td>\n",
       "      <td>1.103782</td>\n",
       "      <td>0.100338</td>\n",
       "      <td>1.992585</td>\n",
       "      <td>2.638486</td>\n",
       "      <td>2.150188</td>\n",
       "      <td>1.418470</td>\n",
       "      <td>1.662974</td>\n",
       "      <td>5.246025</td>\n",
       "      <td>2.347284</td>\n",
       "      <td>1.262024</td>\n",
       "      <td>6.448223</td>\n",
       "    </tr>\n",
       "    <tr>\n",
       "      <th>zest</th>\n",
       "      <td>5.969</td>\n",
       "      <td>6.818</td>\n",
       "      <td>6.121</td>\n",
       "      <td>4.438</td>\n",
       "      <td>4.033</td>\n",
       "      <td>4.000</td>\n",
       "      <td>5.364</td>\n",
       "      <td>2.636</td>\n",
       "      <td>3.452</td>\n",
       "      <td>2.158</td>\n",
       "      <td>1.313</td>\n",
       "      <td>1.320</td>\n",
       "      <td>1.694</td>\n",
       "      <td>1.622</td>\n",
       "      <td>1.626</td>\n",
       "      <td>1.123</td>\n",
       "      <td>1.738</td>\n",
       "      <td>1.011</td>\n",
       "      <td>0.780192</td>\n",
       "      <td>0.252856</td>\n",
       "      <td>0.284659</td>\n",
       "      <td>0.646606</td>\n",
       "      <td>0.652339</td>\n",
       "      <td>0.660969</td>\n",
       "      <td>0.235110</td>\n",
       "      <td>1.145920</td>\n",
       "      <td>0.296095</td>\n",
       "      <td>2.765987</td>\n",
       "      <td>5.192688</td>\n",
       "      <td>4.637121</td>\n",
       "      <td>2.619835</td>\n",
       "      <td>2.486436</td>\n",
       "      <td>2.460025</td>\n",
       "      <td>4.776492</td>\n",
       "      <td>1.516686</td>\n",
       "      <td>3.414441</td>\n",
       "    </tr>\n",
       "    <tr>\n",
       "      <th>zoo</th>\n",
       "      <td>5.909</td>\n",
       "      <td>6.235</td>\n",
       "      <td>5.485</td>\n",
       "      <td>6.118</td>\n",
       "      <td>6.441</td>\n",
       "      <td>5.655</td>\n",
       "      <td>2.324</td>\n",
       "      <td>4.844</td>\n",
       "      <td>4.059</td>\n",
       "      <td>2.137</td>\n",
       "      <td>1.800</td>\n",
       "      <td>1.598</td>\n",
       "      <td>1.105</td>\n",
       "      <td>1.006</td>\n",
       "      <td>1.747</td>\n",
       "      <td>0.674</td>\n",
       "      <td>1.873</td>\n",
       "      <td>0.802</td>\n",
       "      <td>0.772850</td>\n",
       "      <td>0.519647</td>\n",
       "      <td>0.465561</td>\n",
       "      <td>0.199579</td>\n",
       "      <td>0.157124</td>\n",
       "      <td>0.539701</td>\n",
       "      <td>0.195472</td>\n",
       "      <td>0.724222</td>\n",
       "      <td>0.158464</td>\n",
       "      <td>2.765091</td>\n",
       "      <td>3.463889</td>\n",
       "      <td>3.432416</td>\n",
       "      <td>5.536652</td>\n",
       "      <td>6.402584</td>\n",
       "      <td>3.236978</td>\n",
       "      <td>3.448071</td>\n",
       "      <td>2.586225</td>\n",
       "      <td>5.061097</td>\n",
       "    </tr>\n",
       "    <tr>\n",
       "      <th>zoology</th>\n",
       "      <td>4.571</td>\n",
       "      <td>5.765</td>\n",
       "      <td>5.114</td>\n",
       "      <td>4.429</td>\n",
       "      <td>3.914</td>\n",
       "      <td>4.382</td>\n",
       "      <td>5.824</td>\n",
       "      <td>4.571</td>\n",
       "      <td>3.657</td>\n",
       "      <td>2.060</td>\n",
       "      <td>0.972</td>\n",
       "      <td>1.545</td>\n",
       "      <td>1.841</td>\n",
       "      <td>1.481</td>\n",
       "      <td>1.956</td>\n",
       "      <td>1.150</td>\n",
       "      <td>1.609</td>\n",
       "      <td>1.068</td>\n",
       "      <td>0.928375</td>\n",
       "      <td>0.163883</td>\n",
       "      <td>0.466763</td>\n",
       "      <td>0.765247</td>\n",
       "      <td>0.560389</td>\n",
       "      <td>0.873103</td>\n",
       "      <td>0.227078</td>\n",
       "      <td>0.566371</td>\n",
       "      <td>0.311902</td>\n",
       "      <td>2.218932</td>\n",
       "      <td>5.931070</td>\n",
       "      <td>3.310032</td>\n",
       "      <td>2.405758</td>\n",
       "      <td>2.642809</td>\n",
       "      <td>2.240286</td>\n",
       "      <td>5.064348</td>\n",
       "      <td>2.840895</td>\n",
       "      <td>3.424157</td>\n",
       "    </tr>\n",
       "  </tbody>\n",
       "</table>\n",
       "<p>5553 rows × 36 columns</p>\n",
       "</div>"
      ],
      "text/plain": [
       "            AROU_M  VAL_M  DOM_M  CNC_M  IMAG_M  FAM_M  AOA_M  SIZE_M  GEND_M  \\\n",
       "words                                                                           \n",
       "abattoir     4.200  2.864  4.333  5.455   4.391  2.382  6.760   4.652   5.391   \n",
       "abbey        3.125  5.781  4.667  5.906   5.344  3.324  5.177   5.121   3.303   \n",
       "abbreviate   3.273  5.250  5.235  3.286   3.177  5.121  5.543   2.667   3.971   \n",
       "abdicate     4.194  3.767  4.419  3.367   2.516  3.971  6.233   4.679   5.167   \n",
       "abdication   3.846  3.880  4.800  3.292   2.571  3.097  6.407   5.083   4.571   \n",
       "...            ...    ...    ...    ...     ...    ...    ...     ...     ...   \n",
       "zeppelin     6.185  5.000  5.333  6.286   6.185  3.167  6.036   5.464   5.269   \n",
       "zero         4.031  4.182  4.567  2.688   3.903  6.269  2.636   1.758   4.172   \n",
       "zest         5.969  6.818  6.121  4.438   4.033  4.000  5.364   2.636   3.452   \n",
       "zoo          5.909  6.235  5.485  6.118   6.441  5.655  2.324   4.844   4.059   \n",
       "zoology      4.571  5.765  5.114  4.429   3.914  4.382  5.824   4.571   3.657   \n",
       "\n",
       "            AROU_SD  VAL_SD  DOM_SD  CNC_SD  IMAG_SD  FAM_SD  AOA_SD  SIZE_SD  \\\n",
       "words                                                                           \n",
       "abattoir      2.400   1.740   1.285   1.900    2.121   1.799   0.427    1.549   \n",
       "abbey         2.342   1.268   1.551   1.508    1.881   1.810   1.339    1.629   \n",
       "abbreviate    1.582   1.031   1.238   1.733    1.689   1.838   1.130    1.700   \n",
       "abdicate      1.941   1.383   2.182   1.853    1.521   2.077   0.844    1.441   \n",
       "abdication    2.282   1.608   1.960   1.620    1.294   2.022   0.913    1.351   \n",
       "...             ...     ...     ...     ...      ...     ...     ...      ...   \n",
       "zeppelin      2.037   1.414   1.743   0.920    1.123   2.115   0.944    1.721   \n",
       "zero          2.023   1.585   2.124   1.895    2.347   1.195   1.123    1.393   \n",
       "zest          2.158   1.313   1.320   1.694    1.622   1.626   1.123    1.738   \n",
       "zoo           2.137   1.800   1.598   1.105    1.006   1.747   0.674    1.873   \n",
       "zoology       2.060   0.972   1.545   1.841    1.481   1.956   1.150    1.609   \n",
       "\n",
       "            GEND_SD   AROU_DI    VAL_DI    DOM_DI    CNC_DI   IMAG_DI  \\\n",
       "words                                                                   \n",
       "abattoir      1.170  1.371429  1.057123  0.381081  0.661778  1.024514   \n",
       "abbey         1.193  1.755188  0.278122  0.515449  0.385043  0.662081   \n",
       "abbreviate    0.954  0.764658  0.202469  0.292769  0.913965  0.897929   \n",
       "abdicate      1.186  0.898303  0.507749  1.077421  1.019783  0.919492   \n",
       "abdication    1.015  1.354010  0.666408  0.800333  0.797205  0.651278   \n",
       "...             ...       ...       ...       ...       ...       ...   \n",
       "zeppelin      1.021  0.670876  0.399879  0.569670  0.134648  0.203901   \n",
       "zero          0.647  1.015264  0.600723  0.987820  1.335947  1.411327   \n",
       "zest          1.011  0.780192  0.252856  0.284659  0.646606  0.652339   \n",
       "zoo           0.802  0.772850  0.519647  0.465561  0.199579  0.157124   \n",
       "zoology       1.068  0.928375  0.163883  0.466763  0.765247  0.560389   \n",
       "\n",
       "              FAM_DI    AOA_DI   SIZE_DI   GEND_DI  AROU_SNR   VAL_SNR  \\\n",
       "words                                                                    \n",
       "abattoir    1.358691  0.026972  0.515778  0.253923  1.750000  1.645977   \n",
       "abbey       0.985590  0.346324  0.518188  0.430896  1.334330  4.559148   \n",
       "abbreviate  0.659684  0.230363  1.083615  0.229191  2.068900  5.092144   \n",
       "abdicate    1.086358  0.114285  0.443787  0.272227  2.160742  2.723789   \n",
       "abdication  1.320143  0.130103  0.359079  0.225383  1.685364  2.412935   \n",
       "...              ...       ...       ...       ...       ...       ...   \n",
       "zeppelin    1.412449  0.147637  0.542065  0.197844  3.036328  3.536068   \n",
       "zero        0.227792  0.478425  1.103782  0.100338  1.992585  2.638486   \n",
       "zest        0.660969  0.235110  1.145920  0.296095  2.765987  5.192688   \n",
       "zoo         0.539701  0.195472  0.724222  0.158464  2.765091  3.463889   \n",
       "zoology     0.873103  0.227078  0.566371  0.311902  2.218932  5.931070   \n",
       "\n",
       "             DOM_SNR   CNC_SNR  IMAG_SNR   FAM_SNR    AOA_SNR  SIZE_SNR  \\\n",
       "words                                                                     \n",
       "abattoir    3.371984  2.871053  2.070250  1.324069  15.831382  3.003228   \n",
       "abbey       3.009026  3.916446  2.841042  1.836464   3.866318  3.143646   \n",
       "abbreviate  4.228595  1.896134  1.880995  2.786181   4.905310  1.568824   \n",
       "abdicate    2.025206  1.817053  1.654175  1.911892   7.385071  3.247051   \n",
       "abdication  2.448980  2.032099  1.986862  1.531652   7.017525  3.762398   \n",
       "...              ...       ...       ...       ...        ...       ...   \n",
       "zeppelin    3.059667  6.832609  5.507569  1.497400   6.394068  3.174898   \n",
       "zero        2.150188  1.418470  1.662974  5.246025   2.347284  1.262024   \n",
       "zest        4.637121  2.619835  2.486436  2.460025   4.776492  1.516686   \n",
       "zoo         3.432416  5.536652  6.402584  3.236978   3.448071  2.586225   \n",
       "zoology     3.310032  2.405758  2.642809  2.240286   5.064348  2.840895   \n",
       "\n",
       "            GEND_SNR  \n",
       "words                 \n",
       "abattoir    4.607692  \n",
       "abbey       2.768650  \n",
       "abbreviate  4.162474  \n",
       "abdicate    4.356661  \n",
       "abdication  4.503448  \n",
       "...              ...  \n",
       "zeppelin    5.160627  \n",
       "zero        6.448223  \n",
       "zest        3.414441  \n",
       "zoo         5.061097  \n",
       "zoology     3.424157  \n",
       "\n",
       "[5553 rows x 36 columns]"
      ]
     },
     "execution_count": 58,
     "metadata": {},
     "output_type": "execute_result"
    }
   ],
   "source": [
    "## Combining mean, standard deviation, and variance:\n",
    "df = pd.concat([df_M, df_SD, df_DI, df_SNR], axis=1)\n",
    "df"
   ]
  },
  {
   "cell_type": "markdown",
   "metadata": {},
   "source": [
    "## Visualizing Dispersion Index"
   ]
  },
  {
   "cell_type": "code",
   "execution_count": null,
   "metadata": {},
   "outputs": [],
   "source": [
    "import plotly.graph_objects as go\n",
    "import plotly.colors as pc\n",
    "\n",
    "import cufflinks as cf\n",
    "\n",
    "\n",
    "def viz_Glasgow_DI(words=['dog', 'cat'], dataframe=None):\n",
    "    '''Visualiza as features psicolínguisticas de uma lista de palavras a partir \n",
    "    dos parâmetros dispostos no The Glasgow Norm, já carregados no dataframe \"words\". \n",
    "    Sintaxe: viz_GlasgowR(words, dataframe), onde:\n",
    "        words = lista de strings contidas no dicionário/base Glasgow Rate.\n",
    "        dataframe = DataFrame contendo os dados.\n",
    "        \n",
    "    Updated: 2023.08.26 - Adding alpha channel to plot standard deviation.\n",
    "    '''\n",
    "    if dataframe is None:\n",
    "        raise ValueError(\"You need to provide a DataFrame containing the data.\")\n",
    "\n",
    "    ## Eixo-x, numérico:\n",
    "    x = [1, 2, 3, 4, 5, 6, 7, 8, 9]\n",
    "    ## Rótulo do eixo-x:\n",
    "    xticks = ['AROU', 'VAL', 'DOM', 'CNC', 'IMAG', 'FAM', 'AOA', 'SIZE', 'GEND']\n",
    "    ## Labels a serem buscados no dicionário Glasgow:\n",
    "    label_M = ['AROU_M', 'VAL_M', 'DOM_M', 'CNC_M', 'IMAG_M', 'FAM_M', 'AOA_M', 'SIZE_M', 'GEND_M']\n",
    "    label_SD = ['AROU_SD', 'VAL_SD', 'DOM_SD', 'CNC_SD', 'IMAG_SD', 'FAM_SD', 'AOA_SD', 'SIZE_SD', 'GEND_M']\n",
    "    label_DI = ['AROU_DI', 'VAL_DI', 'DOM_DI', 'CNC_DI', 'IMAG_DI', 'FAM_DI', 'AOA_DI', 'SIZE_DI', 'GEND_DI']\n",
    "    \n",
    "    \n",
    "    # Generate a list of unique colors using Plotly's color scales\n",
    "    num_colors = len(words)\n",
    "    colors = pc.qualitative.Plotly[:num_colors]\n",
    "    \n",
    "    fig = go.Figure()\n",
    "\n",
    "    for word, color in zip(words, colors):\n",
    "        if word in dataframe.index:\n",
    "            feat_M = list(dataframe.loc[word][label_M])\n",
    "            feat_SD = list(dataframe.loc[word][label_SD])\n",
    "            feat_DI = list(dataframe.loc[word][label_DI])\n",
    "            y_upper = [a + b for a, b in zip(feat_M, feat_SD)]\n",
    "            y_lower = [a - b for a, b in zip(feat_M, feat_SD)]\n",
    "            \n",
    "\n",
    "            fig.add_trace(go.Scatter(\n",
    "                x=x,\n",
    "                y=feat_M,\n",
    "                line=dict(color=color),  # Assign a unique color to each word\n",
    "                mode='lines',\n",
    "                name=word,\n",
    "                showlegend=True\n",
    "            ))\n",
    "\n",
    "            fig.add_trace(go.Scatter(\n",
    "                x=x + x[::-1],  # x, then x reversed\n",
    "                y=y_upper + y_lower[::-1],  # upper, then lower reversed\n",
    "                fill='toself',\n",
    "                # fillcolor='rgba(0,100,80,0.2)',\n",
    "                # HEX to RGBA (transparency)\n",
    "                fillcolor=cf.colors.to_rgba(color,.2),\n",
    "                line=dict(color='rgba(255,255,255,0)'),\n",
    "                hoverinfo=\"skip\",\n",
    "                showlegend=False\n",
    "            ))\n",
    "            \n",
    "            fig.add_trace(go.Scatter(\n",
    "                x=x,\n",
    "                y=feat_DI,\n",
    "                mode='markers',  # Adiciona bolinha com texto\n",
    "                # text=[f\"{feat_VC:.1f}\"],\n",
    "                textposition='top center',  # Posição do texto\n",
    "                marker=dict(\n",
    "                    color=color,  # Cor igual ao gráfico de linhas\n",
    "                    size=10  # Tamanho da bolinha\n",
    "                ),\n",
    "                name=f'{word} (DI)',\n",
    "                showlegend=True\n",
    "            ))\n",
    "        \n",
    "    ## Atualizando o xtick label a partir do nome das colunas:\n",
    "    fig.update_layout(\n",
    "        xaxis=dict(\n",
    "            tickmode='array',\n",
    "            tickvals=[1, 2, 3, 4, 5, 6, 7, 8, 9],\n",
    "            ticktext=xticks\n",
    "        )\n",
    "    )\n",
    "    \n",
    "    return fig"
   ]
  },
  {
   "cell_type": "code",
   "execution_count": null,
   "metadata": {},
   "outputs": [
    {
     "data": {
      "application/vnd.plotly.v1+json": {
       "config": {
        "plotlyServerURL": "https://plot.ly"
       },
       "data": [
        {
         "line": {
          "color": "#636EFA"
         },
         "mode": "lines",
         "name": "child",
         "showlegend": true,
         "type": "scatter",
         "x": [
          1,
          2,
          3,
          4,
          5,
          6,
          7,
          8,
          9
         ],
         "y": [
          4.226,
          6.194,
          3.677,
          6.167,
          6.621,
          6.519,
          2.484,
          2.375,
          3.032
         ]
        },
        {
         "fill": "toself",
         "fillcolor": "rgba(99, 110, 250, 0.2)",
         "hoverinfo": "skip",
         "line": {
          "color": "rgba(255,255,255,0)"
         },
         "showlegend": false,
         "type": "scatter",
         "x": [
          1,
          2,
          3,
          4,
          5,
          6,
          7,
          8,
          9,
          9,
          8,
          7,
          6,
          5,
          4,
          3,
          2,
          1
         ],
         "y": [
          6.316,
          7.7059999999999995,
          5.793,
          7.136,
          7.173,
          7.437,
          3.464,
          3.367,
          6.064,
          0,
          1.383,
          1.504,
          5.601,
          6.069000000000001,
          5.1979999999999995,
          1.561,
          4.682,
          2.136
         ]
        },
        {
         "marker": {
          "color": "#636EFA",
          "size": 10
         },
         "mode": "markers",
         "name": "child (DI)",
         "showlegend": true,
         "textposition": "top center",
         "type": "scatter",
         "x": [
          1,
          2,
          3,
          4,
          5,
          6,
          7,
          8,
          9
         ],
         "y": [
          1.0336251774727874,
          0.36909008718114306,
          1.2176926842534674,
          0.15225571590724826,
          0.046020842772995015,
          0.12927197422917625,
          0.386634460547504,
          0.41434273684210526,
          0.45690270448548814
         ]
        },
        {
         "line": {
          "color": "#EF553B"
         },
         "mode": "lines",
         "name": "sadness",
         "showlegend": true,
         "type": "scatter",
         "x": [
          1,
          2,
          3,
          4,
          5,
          6,
          7,
          8,
          9
         ],
         "y": [
          3.767,
          1.849,
          3,
          2.758,
          4.125,
          6.231,
          3.091,
          4.688,
          3.667
         ]
        },
        {
         "fill": "toself",
         "fillcolor": "rgba(239, 85, 59, 0.2)",
         "hoverinfo": "skip",
         "line": {
          "color": "rgba(255,255,255,0)"
         },
         "showlegend": false,
         "type": "scatter",
         "x": [
          1,
          2,
          3,
          4,
          5,
          6,
          7,
          8,
          9,
          9,
          8,
          7,
          6,
          5,
          4,
          3,
          2,
          1
         ],
         "y": [
          6.157,
          2.706,
          4.984,
          4.276,
          5.853,
          7.1209999999999996,
          4.174,
          6.3919999999999995,
          7.334,
          0,
          2.984,
          2.008,
          5.341,
          2.3970000000000002,
          1.24,
          1.016,
          0.992,
          1.3769999999999998
         ]
        },
        {
         "marker": {
          "color": "#EF553B",
          "size": 10
         },
         "mode": "markers",
         "name": "sadness (DI)",
         "showlegend": true,
         "textposition": "top center",
         "type": "scatter",
         "x": [
          1,
          2,
          3,
          4,
          5,
          6,
          7,
          8,
          9
         ],
         "y": [
          1.5163525351738785,
          0.3972141698215252,
          1.3120853333333333,
          0.835505438723713,
          0.723874909090909,
          0.12712245225485477,
          0.379452927855063,
          0.6193720136518772,
          0.18786473956913008
         ]
        }
       ],
       "layout": {
        "template": {
         "data": {
          "bar": [
           {
            "error_x": {
             "color": "#2a3f5f"
            },
            "error_y": {
             "color": "#2a3f5f"
            },
            "marker": {
             "line": {
              "color": "#E5ECF6",
              "width": 0.5
             },
             "pattern": {
              "fillmode": "overlay",
              "size": 10,
              "solidity": 0.2
             }
            },
            "type": "bar"
           }
          ],
          "barpolar": [
           {
            "marker": {
             "line": {
              "color": "#E5ECF6",
              "width": 0.5
             },
             "pattern": {
              "fillmode": "overlay",
              "size": 10,
              "solidity": 0.2
             }
            },
            "type": "barpolar"
           }
          ],
          "carpet": [
           {
            "aaxis": {
             "endlinecolor": "#2a3f5f",
             "gridcolor": "white",
             "linecolor": "white",
             "minorgridcolor": "white",
             "startlinecolor": "#2a3f5f"
            },
            "baxis": {
             "endlinecolor": "#2a3f5f",
             "gridcolor": "white",
             "linecolor": "white",
             "minorgridcolor": "white",
             "startlinecolor": "#2a3f5f"
            },
            "type": "carpet"
           }
          ],
          "choropleth": [
           {
            "colorbar": {
             "outlinewidth": 0,
             "ticks": ""
            },
            "type": "choropleth"
           }
          ],
          "contour": [
           {
            "colorbar": {
             "outlinewidth": 0,
             "ticks": ""
            },
            "colorscale": [
             [
              0,
              "#0d0887"
             ],
             [
              0.1111111111111111,
              "#46039f"
             ],
             [
              0.2222222222222222,
              "#7201a8"
             ],
             [
              0.3333333333333333,
              "#9c179e"
             ],
             [
              0.4444444444444444,
              "#bd3786"
             ],
             [
              0.5555555555555556,
              "#d8576b"
             ],
             [
              0.6666666666666666,
              "#ed7953"
             ],
             [
              0.7777777777777778,
              "#fb9f3a"
             ],
             [
              0.8888888888888888,
              "#fdca26"
             ],
             [
              1,
              "#f0f921"
             ]
            ],
            "type": "contour"
           }
          ],
          "contourcarpet": [
           {
            "colorbar": {
             "outlinewidth": 0,
             "ticks": ""
            },
            "type": "contourcarpet"
           }
          ],
          "heatmap": [
           {
            "colorbar": {
             "outlinewidth": 0,
             "ticks": ""
            },
            "colorscale": [
             [
              0,
              "#0d0887"
             ],
             [
              0.1111111111111111,
              "#46039f"
             ],
             [
              0.2222222222222222,
              "#7201a8"
             ],
             [
              0.3333333333333333,
              "#9c179e"
             ],
             [
              0.4444444444444444,
              "#bd3786"
             ],
             [
              0.5555555555555556,
              "#d8576b"
             ],
             [
              0.6666666666666666,
              "#ed7953"
             ],
             [
              0.7777777777777778,
              "#fb9f3a"
             ],
             [
              0.8888888888888888,
              "#fdca26"
             ],
             [
              1,
              "#f0f921"
             ]
            ],
            "type": "heatmap"
           }
          ],
          "heatmapgl": [
           {
            "colorbar": {
             "outlinewidth": 0,
             "ticks": ""
            },
            "colorscale": [
             [
              0,
              "#0d0887"
             ],
             [
              0.1111111111111111,
              "#46039f"
             ],
             [
              0.2222222222222222,
              "#7201a8"
             ],
             [
              0.3333333333333333,
              "#9c179e"
             ],
             [
              0.4444444444444444,
              "#bd3786"
             ],
             [
              0.5555555555555556,
              "#d8576b"
             ],
             [
              0.6666666666666666,
              "#ed7953"
             ],
             [
              0.7777777777777778,
              "#fb9f3a"
             ],
             [
              0.8888888888888888,
              "#fdca26"
             ],
             [
              1,
              "#f0f921"
             ]
            ],
            "type": "heatmapgl"
           }
          ],
          "histogram": [
           {
            "marker": {
             "pattern": {
              "fillmode": "overlay",
              "size": 10,
              "solidity": 0.2
             }
            },
            "type": "histogram"
           }
          ],
          "histogram2d": [
           {
            "colorbar": {
             "outlinewidth": 0,
             "ticks": ""
            },
            "colorscale": [
             [
              0,
              "#0d0887"
             ],
             [
              0.1111111111111111,
              "#46039f"
             ],
             [
              0.2222222222222222,
              "#7201a8"
             ],
             [
              0.3333333333333333,
              "#9c179e"
             ],
             [
              0.4444444444444444,
              "#bd3786"
             ],
             [
              0.5555555555555556,
              "#d8576b"
             ],
             [
              0.6666666666666666,
              "#ed7953"
             ],
             [
              0.7777777777777778,
              "#fb9f3a"
             ],
             [
              0.8888888888888888,
              "#fdca26"
             ],
             [
              1,
              "#f0f921"
             ]
            ],
            "type": "histogram2d"
           }
          ],
          "histogram2dcontour": [
           {
            "colorbar": {
             "outlinewidth": 0,
             "ticks": ""
            },
            "colorscale": [
             [
              0,
              "#0d0887"
             ],
             [
              0.1111111111111111,
              "#46039f"
             ],
             [
              0.2222222222222222,
              "#7201a8"
             ],
             [
              0.3333333333333333,
              "#9c179e"
             ],
             [
              0.4444444444444444,
              "#bd3786"
             ],
             [
              0.5555555555555556,
              "#d8576b"
             ],
             [
              0.6666666666666666,
              "#ed7953"
             ],
             [
              0.7777777777777778,
              "#fb9f3a"
             ],
             [
              0.8888888888888888,
              "#fdca26"
             ],
             [
              1,
              "#f0f921"
             ]
            ],
            "type": "histogram2dcontour"
           }
          ],
          "mesh3d": [
           {
            "colorbar": {
             "outlinewidth": 0,
             "ticks": ""
            },
            "type": "mesh3d"
           }
          ],
          "parcoords": [
           {
            "line": {
             "colorbar": {
              "outlinewidth": 0,
              "ticks": ""
             }
            },
            "type": "parcoords"
           }
          ],
          "pie": [
           {
            "automargin": true,
            "type": "pie"
           }
          ],
          "scatter": [
           {
            "fillpattern": {
             "fillmode": "overlay",
             "size": 10,
             "solidity": 0.2
            },
            "type": "scatter"
           }
          ],
          "scatter3d": [
           {
            "line": {
             "colorbar": {
              "outlinewidth": 0,
              "ticks": ""
             }
            },
            "marker": {
             "colorbar": {
              "outlinewidth": 0,
              "ticks": ""
             }
            },
            "type": "scatter3d"
           }
          ],
          "scattercarpet": [
           {
            "marker": {
             "colorbar": {
              "outlinewidth": 0,
              "ticks": ""
             }
            },
            "type": "scattercarpet"
           }
          ],
          "scattergeo": [
           {
            "marker": {
             "colorbar": {
              "outlinewidth": 0,
              "ticks": ""
             }
            },
            "type": "scattergeo"
           }
          ],
          "scattergl": [
           {
            "marker": {
             "colorbar": {
              "outlinewidth": 0,
              "ticks": ""
             }
            },
            "type": "scattergl"
           }
          ],
          "scattermapbox": [
           {
            "marker": {
             "colorbar": {
              "outlinewidth": 0,
              "ticks": ""
             }
            },
            "type": "scattermapbox"
           }
          ],
          "scatterpolar": [
           {
            "marker": {
             "colorbar": {
              "outlinewidth": 0,
              "ticks": ""
             }
            },
            "type": "scatterpolar"
           }
          ],
          "scatterpolargl": [
           {
            "marker": {
             "colorbar": {
              "outlinewidth": 0,
              "ticks": ""
             }
            },
            "type": "scatterpolargl"
           }
          ],
          "scatterternary": [
           {
            "marker": {
             "colorbar": {
              "outlinewidth": 0,
              "ticks": ""
             }
            },
            "type": "scatterternary"
           }
          ],
          "surface": [
           {
            "colorbar": {
             "outlinewidth": 0,
             "ticks": ""
            },
            "colorscale": [
             [
              0,
              "#0d0887"
             ],
             [
              0.1111111111111111,
              "#46039f"
             ],
             [
              0.2222222222222222,
              "#7201a8"
             ],
             [
              0.3333333333333333,
              "#9c179e"
             ],
             [
              0.4444444444444444,
              "#bd3786"
             ],
             [
              0.5555555555555556,
              "#d8576b"
             ],
             [
              0.6666666666666666,
              "#ed7953"
             ],
             [
              0.7777777777777778,
              "#fb9f3a"
             ],
             [
              0.8888888888888888,
              "#fdca26"
             ],
             [
              1,
              "#f0f921"
             ]
            ],
            "type": "surface"
           }
          ],
          "table": [
           {
            "cells": {
             "fill": {
              "color": "#EBF0F8"
             },
             "line": {
              "color": "white"
             }
            },
            "header": {
             "fill": {
              "color": "#C8D4E3"
             },
             "line": {
              "color": "white"
             }
            },
            "type": "table"
           }
          ]
         },
         "layout": {
          "annotationdefaults": {
           "arrowcolor": "#2a3f5f",
           "arrowhead": 0,
           "arrowwidth": 1
          },
          "autotypenumbers": "strict",
          "coloraxis": {
           "colorbar": {
            "outlinewidth": 0,
            "ticks": ""
           }
          },
          "colorscale": {
           "diverging": [
            [
             0,
             "#8e0152"
            ],
            [
             0.1,
             "#c51b7d"
            ],
            [
             0.2,
             "#de77ae"
            ],
            [
             0.3,
             "#f1b6da"
            ],
            [
             0.4,
             "#fde0ef"
            ],
            [
             0.5,
             "#f7f7f7"
            ],
            [
             0.6,
             "#e6f5d0"
            ],
            [
             0.7,
             "#b8e186"
            ],
            [
             0.8,
             "#7fbc41"
            ],
            [
             0.9,
             "#4d9221"
            ],
            [
             1,
             "#276419"
            ]
           ],
           "sequential": [
            [
             0,
             "#0d0887"
            ],
            [
             0.1111111111111111,
             "#46039f"
            ],
            [
             0.2222222222222222,
             "#7201a8"
            ],
            [
             0.3333333333333333,
             "#9c179e"
            ],
            [
             0.4444444444444444,
             "#bd3786"
            ],
            [
             0.5555555555555556,
             "#d8576b"
            ],
            [
             0.6666666666666666,
             "#ed7953"
            ],
            [
             0.7777777777777778,
             "#fb9f3a"
            ],
            [
             0.8888888888888888,
             "#fdca26"
            ],
            [
             1,
             "#f0f921"
            ]
           ],
           "sequentialminus": [
            [
             0,
             "#0d0887"
            ],
            [
             0.1111111111111111,
             "#46039f"
            ],
            [
             0.2222222222222222,
             "#7201a8"
            ],
            [
             0.3333333333333333,
             "#9c179e"
            ],
            [
             0.4444444444444444,
             "#bd3786"
            ],
            [
             0.5555555555555556,
             "#d8576b"
            ],
            [
             0.6666666666666666,
             "#ed7953"
            ],
            [
             0.7777777777777778,
             "#fb9f3a"
            ],
            [
             0.8888888888888888,
             "#fdca26"
            ],
            [
             1,
             "#f0f921"
            ]
           ]
          },
          "colorway": [
           "#636efa",
           "#EF553B",
           "#00cc96",
           "#ab63fa",
           "#FFA15A",
           "#19d3f3",
           "#FF6692",
           "#B6E880",
           "#FF97FF",
           "#FECB52"
          ],
          "font": {
           "color": "#2a3f5f"
          },
          "geo": {
           "bgcolor": "white",
           "lakecolor": "white",
           "landcolor": "#E5ECF6",
           "showlakes": true,
           "showland": true,
           "subunitcolor": "white"
          },
          "hoverlabel": {
           "align": "left"
          },
          "hovermode": "closest",
          "mapbox": {
           "style": "light"
          },
          "paper_bgcolor": "white",
          "plot_bgcolor": "#E5ECF6",
          "polar": {
           "angularaxis": {
            "gridcolor": "white",
            "linecolor": "white",
            "ticks": ""
           },
           "bgcolor": "#E5ECF6",
           "radialaxis": {
            "gridcolor": "white",
            "linecolor": "white",
            "ticks": ""
           }
          },
          "scene": {
           "xaxis": {
            "backgroundcolor": "#E5ECF6",
            "gridcolor": "white",
            "gridwidth": 2,
            "linecolor": "white",
            "showbackground": true,
            "ticks": "",
            "zerolinecolor": "white"
           },
           "yaxis": {
            "backgroundcolor": "#E5ECF6",
            "gridcolor": "white",
            "gridwidth": 2,
            "linecolor": "white",
            "showbackground": true,
            "ticks": "",
            "zerolinecolor": "white"
           },
           "zaxis": {
            "backgroundcolor": "#E5ECF6",
            "gridcolor": "white",
            "gridwidth": 2,
            "linecolor": "white",
            "showbackground": true,
            "ticks": "",
            "zerolinecolor": "white"
           }
          },
          "shapedefaults": {
           "line": {
            "color": "#2a3f5f"
           }
          },
          "ternary": {
           "aaxis": {
            "gridcolor": "white",
            "linecolor": "white",
            "ticks": ""
           },
           "baxis": {
            "gridcolor": "white",
            "linecolor": "white",
            "ticks": ""
           },
           "bgcolor": "#E5ECF6",
           "caxis": {
            "gridcolor": "white",
            "linecolor": "white",
            "ticks": ""
           }
          },
          "title": {
           "x": 0.05
          },
          "xaxis": {
           "automargin": true,
           "gridcolor": "white",
           "linecolor": "white",
           "ticks": "",
           "title": {
            "standoff": 15
           },
           "zerolinecolor": "white",
           "zerolinewidth": 2
          },
          "yaxis": {
           "automargin": true,
           "gridcolor": "white",
           "linecolor": "white",
           "ticks": "",
           "title": {
            "standoff": 15
           },
           "zerolinecolor": "white",
           "zerolinewidth": 2
          }
         }
        },
        "xaxis": {
         "tickmode": "array",
         "ticktext": [
          "AROU",
          "VAL",
          "DOM",
          "CNC",
          "IMAG",
          "FAM",
          "AOA",
          "SIZE",
          "GEND"
         ],
         "tickvals": [
          1,
          2,
          3,
          4,
          5,
          6,
          7,
          8,
          9
         ]
        }
       }
      }
     },
     "metadata": {},
     "output_type": "display_data"
    }
   ],
   "source": [
    "viz_Glasgow_DI(['child','sadness'], df)"
   ]
  },
  {
   "cell_type": "code",
   "execution_count": null,
   "metadata": {},
   "outputs": [],
   "source": []
  },
  {
   "cell_type": "markdown",
   "metadata": {},
   "source": [
    "----\n",
    "# Factor Analysis (based on the **DI** and **SNR**)\n",
    "Based on the https://towardsdatascience.com/factor-analysis-a-complete-tutorial-1b7621890e42.\n",
    "> It is not a detailed tutorial.    \n",
    "\n",
    "This tutorial brings more reference on factor analysis calculation: https://medium.com/@hongwy1128/intro-guide-to-factor-analysis-python-84dd0b0fd729"
   ]
  },
  {
   "cell_type": "code",
   "execution_count": null,
   "metadata": {},
   "outputs": [],
   "source": [
    "from factor_analyzer import FactorAnalyzer"
   ]
  },
  {
   "cell_type": "code",
   "execution_count": 64,
   "metadata": {},
   "outputs": [],
   "source": [
    "label_M = ['AROU_M', 'VAL_M', 'DOM_M', 'CNC_M', 'IMAG_M', 'FAM_M', 'AOA_M', 'SIZE_M', 'GEND_M']\n",
    "label_SD = ['AROU_SD', 'VAL_SD', 'DOM_SD', 'CNC_SD', 'IMAG_SD', 'FAM_SD', 'AOA_SD', 'SIZE_SD', 'GEND_M']\n",
    "label_DI = ['AROU_DI', 'VAL_DI', 'DOM_DI', 'CNC_DI', 'IMAG_DI', 'FAM_DI', 'AOA_DI', 'SIZE_DI', 'GEND_DI']\n",
    "label_SNR = ['AROU_SNR', 'VAL_SNR', 'DOM_SNR', 'CNC_SNR', 'IMAG_SNR', 'FAM_SNR', 'AOA_SNR', 'SIZE_SNR', 'GEND_SNR']"
   ]
  },
  {
   "cell_type": "code",
   "execution_count": 100,
   "metadata": {},
   "outputs": [],
   "source": [
    "data = df[label_M + label_DI]"
   ]
  },
  {
   "cell_type": "code",
   "execution_count": 102,
   "metadata": {},
   "outputs": [
    {
     "data": {
      "text/html": [
       "<div>\n",
       "<style scoped>\n",
       "    .dataframe tbody tr th:only-of-type {\n",
       "        vertical-align: middle;\n",
       "    }\n",
       "\n",
       "    .dataframe tbody tr th {\n",
       "        vertical-align: top;\n",
       "    }\n",
       "\n",
       "    .dataframe thead th {\n",
       "        text-align: right;\n",
       "    }\n",
       "</style>\n",
       "<table border=\"1\" class=\"dataframe\">\n",
       "  <thead>\n",
       "    <tr style=\"text-align: right;\">\n",
       "      <th></th>\n",
       "      <th>AROU_M</th>\n",
       "      <th>VAL_M</th>\n",
       "      <th>DOM_M</th>\n",
       "      <th>CNC_M</th>\n",
       "      <th>IMAG_M</th>\n",
       "      <th>FAM_M</th>\n",
       "      <th>AOA_M</th>\n",
       "      <th>SIZE_M</th>\n",
       "      <th>GEND_M</th>\n",
       "      <th>AROU_DI</th>\n",
       "      <th>VAL_DI</th>\n",
       "      <th>DOM_DI</th>\n",
       "      <th>CNC_DI</th>\n",
       "      <th>IMAG_DI</th>\n",
       "      <th>FAM_DI</th>\n",
       "      <th>AOA_DI</th>\n",
       "      <th>SIZE_DI</th>\n",
       "      <th>GEND_DI</th>\n",
       "    </tr>\n",
       "    <tr>\n",
       "      <th>words</th>\n",
       "      <th></th>\n",
       "      <th></th>\n",
       "      <th></th>\n",
       "      <th></th>\n",
       "      <th></th>\n",
       "      <th></th>\n",
       "      <th></th>\n",
       "      <th></th>\n",
       "      <th></th>\n",
       "      <th></th>\n",
       "      <th></th>\n",
       "      <th></th>\n",
       "      <th></th>\n",
       "      <th></th>\n",
       "      <th></th>\n",
       "      <th></th>\n",
       "      <th></th>\n",
       "      <th></th>\n",
       "    </tr>\n",
       "  </thead>\n",
       "  <tbody>\n",
       "    <tr>\n",
       "      <th>abattoir</th>\n",
       "      <td>4.200</td>\n",
       "      <td>2.864</td>\n",
       "      <td>4.333</td>\n",
       "      <td>5.455</td>\n",
       "      <td>4.391</td>\n",
       "      <td>2.382</td>\n",
       "      <td>6.760</td>\n",
       "      <td>4.652</td>\n",
       "      <td>5.391</td>\n",
       "      <td>1.371429</td>\n",
       "      <td>1.057123</td>\n",
       "      <td>0.381081</td>\n",
       "      <td>0.661778</td>\n",
       "      <td>1.024514</td>\n",
       "      <td>1.358691</td>\n",
       "      <td>0.026972</td>\n",
       "      <td>0.515778</td>\n",
       "      <td>0.253923</td>\n",
       "    </tr>\n",
       "    <tr>\n",
       "      <th>abbey</th>\n",
       "      <td>3.125</td>\n",
       "      <td>5.781</td>\n",
       "      <td>4.667</td>\n",
       "      <td>5.906</td>\n",
       "      <td>5.344</td>\n",
       "      <td>3.324</td>\n",
       "      <td>5.177</td>\n",
       "      <td>5.121</td>\n",
       "      <td>3.303</td>\n",
       "      <td>1.755188</td>\n",
       "      <td>0.278122</td>\n",
       "      <td>0.515449</td>\n",
       "      <td>0.385043</td>\n",
       "      <td>0.662081</td>\n",
       "      <td>0.985590</td>\n",
       "      <td>0.346324</td>\n",
       "      <td>0.518188</td>\n",
       "      <td>0.430896</td>\n",
       "    </tr>\n",
       "    <tr>\n",
       "      <th>abbreviate</th>\n",
       "      <td>3.273</td>\n",
       "      <td>5.250</td>\n",
       "      <td>5.235</td>\n",
       "      <td>3.286</td>\n",
       "      <td>3.177</td>\n",
       "      <td>5.121</td>\n",
       "      <td>5.543</td>\n",
       "      <td>2.667</td>\n",
       "      <td>3.971</td>\n",
       "      <td>0.764658</td>\n",
       "      <td>0.202469</td>\n",
       "      <td>0.292769</td>\n",
       "      <td>0.913965</td>\n",
       "      <td>0.897929</td>\n",
       "      <td>0.659684</td>\n",
       "      <td>0.230363</td>\n",
       "      <td>1.083615</td>\n",
       "      <td>0.229191</td>\n",
       "    </tr>\n",
       "    <tr>\n",
       "      <th>abdicate</th>\n",
       "      <td>4.194</td>\n",
       "      <td>3.767</td>\n",
       "      <td>4.419</td>\n",
       "      <td>3.367</td>\n",
       "      <td>2.516</td>\n",
       "      <td>3.971</td>\n",
       "      <td>6.233</td>\n",
       "      <td>4.679</td>\n",
       "      <td>5.167</td>\n",
       "      <td>0.898303</td>\n",
       "      <td>0.507749</td>\n",
       "      <td>1.077421</td>\n",
       "      <td>1.019783</td>\n",
       "      <td>0.919492</td>\n",
       "      <td>1.086358</td>\n",
       "      <td>0.114285</td>\n",
       "      <td>0.443787</td>\n",
       "      <td>0.272227</td>\n",
       "    </tr>\n",
       "    <tr>\n",
       "      <th>abdication</th>\n",
       "      <td>3.846</td>\n",
       "      <td>3.880</td>\n",
       "      <td>4.800</td>\n",
       "      <td>3.292</td>\n",
       "      <td>2.571</td>\n",
       "      <td>3.097</td>\n",
       "      <td>6.407</td>\n",
       "      <td>5.083</td>\n",
       "      <td>4.571</td>\n",
       "      <td>1.354010</td>\n",
       "      <td>0.666408</td>\n",
       "      <td>0.800333</td>\n",
       "      <td>0.797205</td>\n",
       "      <td>0.651278</td>\n",
       "      <td>1.320143</td>\n",
       "      <td>0.130103</td>\n",
       "      <td>0.359079</td>\n",
       "      <td>0.225383</td>\n",
       "    </tr>\n",
       "  </tbody>\n",
       "</table>\n",
       "</div>"
      ],
      "text/plain": [
       "            AROU_M  VAL_M  DOM_M  CNC_M  IMAG_M  FAM_M  AOA_M  SIZE_M  GEND_M  \\\n",
       "words                                                                           \n",
       "abattoir     4.200  2.864  4.333  5.455   4.391  2.382  6.760   4.652   5.391   \n",
       "abbey        3.125  5.781  4.667  5.906   5.344  3.324  5.177   5.121   3.303   \n",
       "abbreviate   3.273  5.250  5.235  3.286   3.177  5.121  5.543   2.667   3.971   \n",
       "abdicate     4.194  3.767  4.419  3.367   2.516  3.971  6.233   4.679   5.167   \n",
       "abdication   3.846  3.880  4.800  3.292   2.571  3.097  6.407   5.083   4.571   \n",
       "\n",
       "             AROU_DI    VAL_DI    DOM_DI    CNC_DI   IMAG_DI    FAM_DI  \\\n",
       "words                                                                    \n",
       "abattoir    1.371429  1.057123  0.381081  0.661778  1.024514  1.358691   \n",
       "abbey       1.755188  0.278122  0.515449  0.385043  0.662081  0.985590   \n",
       "abbreviate  0.764658  0.202469  0.292769  0.913965  0.897929  0.659684   \n",
       "abdicate    0.898303  0.507749  1.077421  1.019783  0.919492  1.086358   \n",
       "abdication  1.354010  0.666408  0.800333  0.797205  0.651278  1.320143   \n",
       "\n",
       "              AOA_DI   SIZE_DI   GEND_DI  \n",
       "words                                     \n",
       "abattoir    0.026972  0.515778  0.253923  \n",
       "abbey       0.346324  0.518188  0.430896  \n",
       "abbreviate  0.230363  1.083615  0.229191  \n",
       "abdicate    0.114285  0.443787  0.272227  \n",
       "abdication  0.130103  0.359079  0.225383  "
      ]
     },
     "execution_count": 102,
     "metadata": {},
     "output_type": "execute_result"
    }
   ],
   "source": [
    "data.head()"
   ]
  },
  {
   "cell_type": "code",
   "execution_count": null,
   "metadata": {},
   "outputs": [],
   "source": [
    "## Selecting a subset of the original dataframe with only the columns of interest:\n",
    "# x = glasgow[interest]"
   ]
  },
  {
   "cell_type": "code",
   "execution_count": 103,
   "metadata": {},
   "outputs": [
    {
     "data": {
      "text/html": [
       "<div>\n",
       "<style scoped>\n",
       "    .dataframe tbody tr th:only-of-type {\n",
       "        vertical-align: middle;\n",
       "    }\n",
       "\n",
       "    .dataframe tbody tr th {\n",
       "        vertical-align: top;\n",
       "    }\n",
       "\n",
       "    .dataframe thead th {\n",
       "        text-align: right;\n",
       "    }\n",
       "</style>\n",
       "<table border=\"1\" class=\"dataframe\">\n",
       "  <thead>\n",
       "    <tr style=\"text-align: right;\">\n",
       "      <th></th>\n",
       "      <th>AROU_M</th>\n",
       "      <th>VAL_M</th>\n",
       "      <th>DOM_M</th>\n",
       "      <th>CNC_M</th>\n",
       "      <th>IMAG_M</th>\n",
       "      <th>FAM_M</th>\n",
       "      <th>AOA_M</th>\n",
       "      <th>SIZE_M</th>\n",
       "      <th>GEND_M</th>\n",
       "      <th>AROU_DI</th>\n",
       "      <th>VAL_DI</th>\n",
       "      <th>DOM_DI</th>\n",
       "      <th>CNC_DI</th>\n",
       "      <th>IMAG_DI</th>\n",
       "      <th>FAM_DI</th>\n",
       "      <th>AOA_DI</th>\n",
       "      <th>SIZE_DI</th>\n",
       "      <th>GEND_DI</th>\n",
       "    </tr>\n",
       "  </thead>\n",
       "  <tbody>\n",
       "    <tr>\n",
       "      <th>count</th>\n",
       "      <td>5553.000000</td>\n",
       "      <td>5553.000000</td>\n",
       "      <td>5553.000000</td>\n",
       "      <td>5553.000000</td>\n",
       "      <td>5553.000000</td>\n",
       "      <td>5553.000000</td>\n",
       "      <td>5553.000000</td>\n",
       "      <td>5553.000000</td>\n",
       "      <td>5553.000000</td>\n",
       "      <td>5553.000000</td>\n",
       "      <td>5553.000000</td>\n",
       "      <td>5553.000000</td>\n",
       "      <td>5553.000000</td>\n",
       "      <td>5553.000000</td>\n",
       "      <td>5553.000000</td>\n",
       "      <td>5553.000000</td>\n",
       "      <td>5553.000000</td>\n",
       "      <td>5553.000000</td>\n",
       "    </tr>\n",
       "    <tr>\n",
       "      <th>mean</th>\n",
       "      <td>4.627180</td>\n",
       "      <td>5.095874</td>\n",
       "      <td>5.065290</td>\n",
       "      <td>4.642565</td>\n",
       "      <td>4.787397</td>\n",
       "      <td>5.256607</td>\n",
       "      <td>4.134724</td>\n",
       "      <td>4.087411</td>\n",
       "      <td>4.123718</td>\n",
       "      <td>0.942817</td>\n",
       "      <td>0.360926</td>\n",
       "      <td>0.667105</td>\n",
       "      <td>0.504907</td>\n",
       "      <td>0.545078</td>\n",
       "      <td>0.486588</td>\n",
       "      <td>0.357862</td>\n",
       "      <td>0.503028</td>\n",
       "      <td>0.287289</td>\n",
       "    </tr>\n",
       "    <tr>\n",
       "      <th>std</th>\n",
       "      <td>1.095891</td>\n",
       "      <td>1.545788</td>\n",
       "      <td>0.909191</td>\n",
       "      <td>1.416407</td>\n",
       "      <td>1.348282</td>\n",
       "      <td>0.926752</td>\n",
       "      <td>1.242402</td>\n",
       "      <td>1.021217</td>\n",
       "      <td>0.910877</td>\n",
       "      <td>0.292633</td>\n",
       "      <td>0.231014</td>\n",
       "      <td>0.362842</td>\n",
       "      <td>0.300892</td>\n",
       "      <td>0.335503</td>\n",
       "      <td>0.300902</td>\n",
       "      <td>0.145346</td>\n",
       "      <td>0.210806</td>\n",
       "      <td>0.151934</td>\n",
       "    </tr>\n",
       "    <tr>\n",
       "      <th>min</th>\n",
       "      <td>2.057000</td>\n",
       "      <td>1.030000</td>\n",
       "      <td>1.941000</td>\n",
       "      <td>1.636000</td>\n",
       "      <td>1.737000</td>\n",
       "      <td>1.647000</td>\n",
       "      <td>1.219000</td>\n",
       "      <td>1.364000</td>\n",
       "      <td>1.000000</td>\n",
       "      <td>0.104186</td>\n",
       "      <td>0.005610</td>\n",
       "      <td>0.041281</td>\n",
       "      <td>0.007752</td>\n",
       "      <td>0.007956</td>\n",
       "      <td>0.008232</td>\n",
       "      <td>0.004001</td>\n",
       "      <td>0.020129</td>\n",
       "      <td>0.000000</td>\n",
       "    </tr>\n",
       "    <tr>\n",
       "      <th>25%</th>\n",
       "      <td>3.774000</td>\n",
       "      <td>4.188000</td>\n",
       "      <td>4.576000</td>\n",
       "      <td>3.343000</td>\n",
       "      <td>3.606000</td>\n",
       "      <td>4.677000</td>\n",
       "      <td>3.118000</td>\n",
       "      <td>3.387000</td>\n",
       "      <td>3.625000</td>\n",
       "      <td>0.761031</td>\n",
       "      <td>0.201901</td>\n",
       "      <td>0.405194</td>\n",
       "      <td>0.245284</td>\n",
       "      <td>0.231887</td>\n",
       "      <td>0.249408</td>\n",
       "      <td>0.257357</td>\n",
       "      <td>0.354800</td>\n",
       "      <td>0.179526</td>\n",
       "    </tr>\n",
       "    <tr>\n",
       "      <th>50%</th>\n",
       "      <td>4.515000</td>\n",
       "      <td>5.286000</td>\n",
       "      <td>5.147000</td>\n",
       "      <td>4.636000</td>\n",
       "      <td>4.788000</td>\n",
       "      <td>5.406000</td>\n",
       "      <td>4.171000</td>\n",
       "      <td>4.125000</td>\n",
       "      <td>4.143000</td>\n",
       "      <td>0.933640</td>\n",
       "      <td>0.300834</td>\n",
       "      <td>0.577950</td>\n",
       "      <td>0.508445</td>\n",
       "      <td>0.567871</td>\n",
       "      <td>0.432352</td>\n",
       "      <td>0.340693</td>\n",
       "      <td>0.471643</td>\n",
       "      <td>0.252625</td>\n",
       "    </tr>\n",
       "    <tr>\n",
       "      <th>75%</th>\n",
       "      <td>5.364000</td>\n",
       "      <td>6.059000</td>\n",
       "      <td>5.606000</td>\n",
       "      <td>6.029000</td>\n",
       "      <td>6.091000</td>\n",
       "      <td>5.969000</td>\n",
       "      <td>5.133000</td>\n",
       "      <td>4.829000</td>\n",
       "      <td>4.686000</td>\n",
       "      <td>1.117232</td>\n",
       "      <td>0.462198</td>\n",
       "      <td>0.839808</td>\n",
       "      <td>0.718240</td>\n",
       "      <td>0.805400</td>\n",
       "      <td>0.667564</td>\n",
       "      <td>0.433016</td>\n",
       "      <td>0.616016</td>\n",
       "      <td>0.361241</td>\n",
       "    </tr>\n",
       "    <tr>\n",
       "      <th>max</th>\n",
       "      <td>8.177000</td>\n",
       "      <td>8.647000</td>\n",
       "      <td>8.371000</td>\n",
       "      <td>6.943000</td>\n",
       "      <td>6.941000</td>\n",
       "      <td>6.939000</td>\n",
       "      <td>6.971000</td>\n",
       "      <td>6.912000</td>\n",
       "      <td>6.971000</td>\n",
       "      <td>2.334472</td>\n",
       "      <td>1.906269</td>\n",
       "      <td>2.498373</td>\n",
       "      <td>1.663423</td>\n",
       "      <td>1.674243</td>\n",
       "      <td>1.704739</td>\n",
       "      <td>1.428653</td>\n",
       "      <td>2.037331</td>\n",
       "      <td>1.432162</td>\n",
       "    </tr>\n",
       "  </tbody>\n",
       "</table>\n",
       "</div>"
      ],
      "text/plain": [
       "            AROU_M        VAL_M        DOM_M        CNC_M       IMAG_M  \\\n",
       "count  5553.000000  5553.000000  5553.000000  5553.000000  5553.000000   \n",
       "mean      4.627180     5.095874     5.065290     4.642565     4.787397   \n",
       "std       1.095891     1.545788     0.909191     1.416407     1.348282   \n",
       "min       2.057000     1.030000     1.941000     1.636000     1.737000   \n",
       "25%       3.774000     4.188000     4.576000     3.343000     3.606000   \n",
       "50%       4.515000     5.286000     5.147000     4.636000     4.788000   \n",
       "75%       5.364000     6.059000     5.606000     6.029000     6.091000   \n",
       "max       8.177000     8.647000     8.371000     6.943000     6.941000   \n",
       "\n",
       "             FAM_M        AOA_M       SIZE_M       GEND_M      AROU_DI  \\\n",
       "count  5553.000000  5553.000000  5553.000000  5553.000000  5553.000000   \n",
       "mean      5.256607     4.134724     4.087411     4.123718     0.942817   \n",
       "std       0.926752     1.242402     1.021217     0.910877     0.292633   \n",
       "min       1.647000     1.219000     1.364000     1.000000     0.104186   \n",
       "25%       4.677000     3.118000     3.387000     3.625000     0.761031   \n",
       "50%       5.406000     4.171000     4.125000     4.143000     0.933640   \n",
       "75%       5.969000     5.133000     4.829000     4.686000     1.117232   \n",
       "max       6.939000     6.971000     6.912000     6.971000     2.334472   \n",
       "\n",
       "            VAL_DI       DOM_DI       CNC_DI      IMAG_DI       FAM_DI  \\\n",
       "count  5553.000000  5553.000000  5553.000000  5553.000000  5553.000000   \n",
       "mean      0.360926     0.667105     0.504907     0.545078     0.486588   \n",
       "std       0.231014     0.362842     0.300892     0.335503     0.300902   \n",
       "min       0.005610     0.041281     0.007752     0.007956     0.008232   \n",
       "25%       0.201901     0.405194     0.245284     0.231887     0.249408   \n",
       "50%       0.300834     0.577950     0.508445     0.567871     0.432352   \n",
       "75%       0.462198     0.839808     0.718240     0.805400     0.667564   \n",
       "max       1.906269     2.498373     1.663423     1.674243     1.704739   \n",
       "\n",
       "            AOA_DI      SIZE_DI      GEND_DI  \n",
       "count  5553.000000  5553.000000  5553.000000  \n",
       "mean      0.357862     0.503028     0.287289  \n",
       "std       0.145346     0.210806     0.151934  \n",
       "min       0.004001     0.020129     0.000000  \n",
       "25%       0.257357     0.354800     0.179526  \n",
       "50%       0.340693     0.471643     0.252625  \n",
       "75%       0.433016     0.616016     0.361241  \n",
       "max       1.428653     2.037331     1.432162  "
      ]
     },
     "execution_count": 103,
     "metadata": {},
     "output_type": "execute_result"
    }
   ],
   "source": [
    "data.describe()"
   ]
  },
  {
   "cell_type": "code",
   "execution_count": 87,
   "metadata": {},
   "outputs": [
    {
     "data": {
      "text/plain": [
       "words\n",
       "lady          inf\n",
       "man     41.742515\n",
       "Name: GEND_SNR, dtype: float64"
      ]
     },
     "execution_count": 87,
     "metadata": {},
     "output_type": "execute_result"
    }
   ],
   "source": [
    "## Finding the two largest values in 'GEND_SNR' column:\n",
    "data['GEND_SNR'].nlargest(2)"
   ]
  },
  {
   "cell_type": "code",
   "execution_count": 88,
   "metadata": {},
   "outputs": [
    {
     "name": "stderr",
     "output_type": "stream",
     "text": [
      "C:\\Users\\tiago\\AppData\\Local\\Temp\\ipykernel_22680\\1912353016.py:2: FutureWarning:\n",
      "\n",
      "Series.__getitem__ treating keys as positions is deprecated. In a future version, integer keys will always be treated as labels (consistent with DataFrame behavior). To access a value by position, use `ser.iloc[pos]`\n",
      "\n"
     ]
    }
   ],
   "source": [
    "## Replacing '+inf' to twice the second largest value:\n",
    "data.replace(np.inf, 2*data['GEND_SNR'].nlargest(2)[1], inplace=True)"
   ]
  },
  {
   "cell_type": "code",
   "execution_count": 90,
   "metadata": {},
   "outputs": [
    {
     "data": {
      "text/plain": [
       "words\n",
       "lady    83.485030\n",
       "man     41.742515\n",
       "Name: GEND_SNR, dtype: float64"
      ]
     },
     "execution_count": 90,
     "metadata": {},
     "output_type": "execute_result"
    }
   ],
   "source": [
    "## Checking if the previous step has worked:\n",
    "data['GEND_SNR'].nlargest(2)"
   ]
  },
  {
   "cell_type": "code",
   "execution_count": null,
   "metadata": {},
   "outputs": [],
   "source": []
  },
  {
   "cell_type": "code",
   "execution_count": 104,
   "metadata": {},
   "outputs": [
    {
     "data": {
      "text/html": [
       "<style>#sk-container-id-3 {color: black;}#sk-container-id-3 pre{padding: 0;}#sk-container-id-3 div.sk-toggleable {background-color: white;}#sk-container-id-3 label.sk-toggleable__label {cursor: pointer;display: block;width: 100%;margin-bottom: 0;padding: 0.3em;box-sizing: border-box;text-align: center;}#sk-container-id-3 label.sk-toggleable__label-arrow:before {content: \"▸\";float: left;margin-right: 0.25em;color: #696969;}#sk-container-id-3 label.sk-toggleable__label-arrow:hover:before {color: black;}#sk-container-id-3 div.sk-estimator:hover label.sk-toggleable__label-arrow:before {color: black;}#sk-container-id-3 div.sk-toggleable__content {max-height: 0;max-width: 0;overflow: hidden;text-align: left;background-color: #f0f8ff;}#sk-container-id-3 div.sk-toggleable__content pre {margin: 0.2em;color: black;border-radius: 0.25em;background-color: #f0f8ff;}#sk-container-id-3 input.sk-toggleable__control:checked~div.sk-toggleable__content {max-height: 200px;max-width: 100%;overflow: auto;}#sk-container-id-3 input.sk-toggleable__control:checked~label.sk-toggleable__label-arrow:before {content: \"▾\";}#sk-container-id-3 div.sk-estimator input.sk-toggleable__control:checked~label.sk-toggleable__label {background-color: #d4ebff;}#sk-container-id-3 div.sk-label input.sk-toggleable__control:checked~label.sk-toggleable__label {background-color: #d4ebff;}#sk-container-id-3 input.sk-hidden--visually {border: 0;clip: rect(1px 1px 1px 1px);clip: rect(1px, 1px, 1px, 1px);height: 1px;margin: -1px;overflow: hidden;padding: 0;position: absolute;width: 1px;}#sk-container-id-3 div.sk-estimator {font-family: monospace;background-color: #f0f8ff;border: 1px dotted black;border-radius: 0.25em;box-sizing: border-box;margin-bottom: 0.5em;}#sk-container-id-3 div.sk-estimator:hover {background-color: #d4ebff;}#sk-container-id-3 div.sk-parallel-item::after {content: \"\";width: 100%;border-bottom: 1px solid gray;flex-grow: 1;}#sk-container-id-3 div.sk-label:hover label.sk-toggleable__label {background-color: #d4ebff;}#sk-container-id-3 div.sk-serial::before {content: \"\";position: absolute;border-left: 1px solid gray;box-sizing: border-box;top: 0;bottom: 0;left: 50%;z-index: 0;}#sk-container-id-3 div.sk-serial {display: flex;flex-direction: column;align-items: center;background-color: white;padding-right: 0.2em;padding-left: 0.2em;position: relative;}#sk-container-id-3 div.sk-item {position: relative;z-index: 1;}#sk-container-id-3 div.sk-parallel {display: flex;align-items: stretch;justify-content: center;background-color: white;position: relative;}#sk-container-id-3 div.sk-item::before, #sk-container-id-3 div.sk-parallel-item::before {content: \"\";position: absolute;border-left: 1px solid gray;box-sizing: border-box;top: 0;bottom: 0;left: 50%;z-index: -1;}#sk-container-id-3 div.sk-parallel-item {display: flex;flex-direction: column;z-index: 1;position: relative;background-color: white;}#sk-container-id-3 div.sk-parallel-item:first-child::after {align-self: flex-end;width: 50%;}#sk-container-id-3 div.sk-parallel-item:last-child::after {align-self: flex-start;width: 50%;}#sk-container-id-3 div.sk-parallel-item:only-child::after {width: 0;}#sk-container-id-3 div.sk-dashed-wrapped {border: 1px dashed gray;margin: 0 0.4em 0.5em 0.4em;box-sizing: border-box;padding-bottom: 0.4em;background-color: white;}#sk-container-id-3 div.sk-label label {font-family: monospace;font-weight: bold;display: inline-block;line-height: 1.2em;}#sk-container-id-3 div.sk-label-container {text-align: center;}#sk-container-id-3 div.sk-container {/* jupyter's `normalize.less` sets `[hidden] { display: none; }` but bootstrap.min.css set `[hidden] { display: none !important; }` so we also need the `!important` here to be able to override the default hidden behavior on the sphinx rendered scikit-learn.org. See: https://github.com/scikit-learn/scikit-learn/issues/21755 */display: inline-block !important;position: relative;}#sk-container-id-3 div.sk-text-repr-fallback {display: none;}</style><div id=\"sk-container-id-3\" class=\"sk-top-container\"><div class=\"sk-text-repr-fallback\"><pre>FactorAnalyzer(rotation_kwargs={})</pre><b>In a Jupyter environment, please rerun this cell to show the HTML representation or trust the notebook. <br />On GitHub, the HTML representation is unable to render, please try loading this page with nbviewer.org.</b></div><div class=\"sk-container\" hidden><div class=\"sk-item\"><div class=\"sk-estimator sk-toggleable\"><input class=\"sk-toggleable__control sk-hidden--visually\" id=\"sk-estimator-id-3\" type=\"checkbox\" checked><label for=\"sk-estimator-id-3\" class=\"sk-toggleable__label sk-toggleable__label-arrow\">FactorAnalyzer</label><div class=\"sk-toggleable__content\"><pre>FactorAnalyzer(rotation_kwargs={})</pre></div></div></div></div></div>"
      ],
      "text/plain": [
       "FactorAnalyzer(rotation_kwargs={})"
      ]
     },
     "execution_count": 104,
     "metadata": {},
     "output_type": "execute_result"
    }
   ],
   "source": [
    "## Creating the estimator (Factor analyzer)\n",
    "fa = FactorAnalyzer()\n",
    "\n",
    "## fa.fit(df_M)\n",
    "fa.fit(data)\n"
   ]
  },
  {
   "cell_type": "code",
   "execution_count": 105,
   "metadata": {},
   "outputs": [
    {
     "data": {
      "text/plain": [
       "array([4.64162511, 3.50397917, 2.16054106, 1.5853128 , 1.42931767,\n",
       "       0.86708983, 0.77570398, 0.70450461, 0.46086334, 0.38012714,\n",
       "       0.3047882 , 0.27836968, 0.25445277, 0.22397941, 0.16360035,\n",
       "       0.15321798, 0.06469037, 0.04783654])"
      ]
     },
     "execution_count": 105,
     "metadata": {},
     "output_type": "execute_result"
    }
   ],
   "source": [
    "#Get Eigen values and plot them\n",
    "ev, v = fa.get_eigenvalues()\n",
    "ev"
   ]
  },
  {
   "cell_type": "code",
   "execution_count": 106,
   "metadata": {},
   "outputs": [
    {
     "data": {
      "text/plain": [
       "[<matplotlib.lines.Line2D at 0x186f19c7b10>]"
      ]
     },
     "execution_count": 106,
     "metadata": {},
     "output_type": "execute_result"
    },
    {
     "data": {
      "image/png": "[encoded data removed]",
      "text/plain": [
       "<Figure size 640x480 with 1 Axes>"
      ]
     },
     "metadata": {},
     "output_type": "display_data"
    }
   ],
   "source": [
    "plt.plot(range(1,data.shape[1]+1),ev)"
   ]
  },
  {
   "cell_type": "markdown",
   "metadata": {},
   "source": [
    "> Fatores com auto-valor <= 1 é um fator não mais informativo do que uma única variável. Traz igual ou menos informação do que uma variável sozinha."
   ]
  },
  {
   "cell_type": "markdown",
   "metadata": {},
   "source": [
    "### Choosing two factors and analyzing their structure:"
   ]
  },
  {
   "cell_type": "markdown",
   "metadata": {},
   "source": [
    "> Choosing 2 factors (> than 2).\n",
    ">> Although I would like to have just 2 -> objective and subjective."
   ]
  },
  {
   "cell_type": "code",
   "execution_count": 107,
   "metadata": {},
   "outputs": [
    {
     "name": "stdout",
     "output_type": "stream",
     "text": [
      "[[ 0.41789204 -0.28380761  0.23477126]\n",
      " [ 0.00851639 -0.89705744  0.1424577 ]\n",
      " [ 0.02014081 -0.7286361   0.09837659]\n",
      " [-0.91335495 -0.00430737  0.13287477]\n",
      " [-0.82720744 -0.02939518  0.28812831]\n",
      " [ 0.01297227 -0.1294697   0.94650549]\n",
      " [ 0.36108448  0.12250172 -0.70260131]\n",
      " [ 0.58571907  0.01600593  0.08735566]\n",
      " [-0.07155429  0.34294463 -0.1179528 ]\n",
      " [-0.21913178  0.53362992 -0.12730599]\n",
      " [ 0.21084554  0.60932729 -0.02834852]\n",
      " [ 0.33094486  0.61216525  0.12285438]\n",
      " [ 0.82403038  0.0292931  -0.07937584]\n",
      " [ 0.78274436  0.07547119 -0.2743785 ]\n",
      " [-0.09140876  0.16274001 -0.85794614]\n",
      " [-0.25337955 -0.02184388  0.28043685]\n",
      " [-0.46543783  0.12357526 -0.04334478]\n",
      " [ 0.15170195 -0.19673517  0.01153646]]\n"
     ]
    }
   ],
   "source": [
    "fa = FactorAnalyzer(3, rotation='varimax')\n",
    "fa.fit(data)\n",
    "loads = fa.loadings_\n",
    "print(loads)"
   ]
  },
  {
   "cell_type": "markdown",
   "metadata": {},
   "source": [
    "### Analyzing the factor structure:"
   ]
  },
  {
   "cell_type": "code",
   "execution_count": 108,
   "metadata": {},
   "outputs": [],
   "source": [
    "def highlight_high_values(val, th=0.5):\n",
    "    ''' Highlights values higher or lower than 0.5. Must be applied as a map in a Pandas.DataFrame style.\n",
    "    '''\n",
    "    # color = 'background-color: yellow' if ((val > th) or (val < -th)) else ''\n",
    "    if (val > th):\n",
    "        color = 'background-color: yellow' \n",
    "    elif (val < -th):\n",
    "        color = 'background-color: red'\n",
    "    else:\n",
    "        color = ''\n",
    "    return color"
   ]
  },
  {
   "cell_type": "code",
   "execution_count": 109,
   "metadata": {},
   "outputs": [],
   "source": [
    "## Creating a dataframe with the loading values and column names:\n",
    "factors = pd.DataFrame(fa.loadings_, columns=['Factor 1','Factor 2','Factor 3'], index=[data.columns])"
   ]
  },
  {
   "cell_type": "code",
   "execution_count": 110,
   "metadata": {},
   "outputs": [
    {
     "name": "stderr",
     "output_type": "stream",
     "text": [
      "C:\\Users\\tiago\\AppData\\Local\\Temp\\ipykernel_22680\\1062230875.py:1: FutureWarning:\n",
      "\n",
      "Styler.applymap has been deprecated. Use Styler.map instead.\n",
      "\n"
     ]
    },
    {
     "data": {
      "text/html": [
       "<style type=\"text/css\">\n",
       "#T_0b96a_row0_col0, #T_0b96a_row5_col2, #T_0b96a_row7_col0, #T_0b96a_row9_col1, #T_0b96a_row10_col1, #T_0b96a_row11_col1, #T_0b96a_row12_col0, #T_0b96a_row13_col0 {\n",
       "  background-color: yellow;\n",
       "}\n",
       "#T_0b96a_row1_col1, #T_0b96a_row2_col1, #T_0b96a_row3_col0, #T_0b96a_row4_col0, #T_0b96a_row6_col2, #T_0b96a_row14_col2, #T_0b96a_row16_col0 {\n",
       "  background-color: red;\n",
       "}\n",
       "</style>\n",
       "<table id=\"T_0b96a\">\n",
       "  <thead>\n",
       "    <tr>\n",
       "      <th class=\"blank level0\" >&nbsp;</th>\n",
       "      <th id=\"T_0b96a_level0_col0\" class=\"col_heading level0 col0\" >Factor 1</th>\n",
       "      <th id=\"T_0b96a_level0_col1\" class=\"col_heading level0 col1\" >Factor 2</th>\n",
       "      <th id=\"T_0b96a_level0_col2\" class=\"col_heading level0 col2\" >Factor 3</th>\n",
       "    </tr>\n",
       "  </thead>\n",
       "  <tbody>\n",
       "    <tr>\n",
       "      <th id=\"T_0b96a_level0_row0\" class=\"row_heading level0 row0\" >AROU_M</th>\n",
       "      <td id=\"T_0b96a_row0_col0\" class=\"data row0 col0\" >0.417892</td>\n",
       "      <td id=\"T_0b96a_row0_col1\" class=\"data row0 col1\" >-0.283808</td>\n",
       "      <td id=\"T_0b96a_row0_col2\" class=\"data row0 col2\" >0.234771</td>\n",
       "    </tr>\n",
       "    <tr>\n",
       "      <th id=\"T_0b96a_level0_row1\" class=\"row_heading level0 row1\" >VAL_M</th>\n",
       "      <td id=\"T_0b96a_row1_col0\" class=\"data row1 col0\" >0.008516</td>\n",
       "      <td id=\"T_0b96a_row1_col1\" class=\"data row1 col1\" >-0.897057</td>\n",
       "      <td id=\"T_0b96a_row1_col2\" class=\"data row1 col2\" >0.142458</td>\n",
       "    </tr>\n",
       "    <tr>\n",
       "      <th id=\"T_0b96a_level0_row2\" class=\"row_heading level0 row2\" >DOM_M</th>\n",
       "      <td id=\"T_0b96a_row2_col0\" class=\"data row2 col0\" >0.020141</td>\n",
       "      <td id=\"T_0b96a_row2_col1\" class=\"data row2 col1\" >-0.728636</td>\n",
       "      <td id=\"T_0b96a_row2_col2\" class=\"data row2 col2\" >0.098377</td>\n",
       "    </tr>\n",
       "    <tr>\n",
       "      <th id=\"T_0b96a_level0_row3\" class=\"row_heading level0 row3\" >CNC_M</th>\n",
       "      <td id=\"T_0b96a_row3_col0\" class=\"data row3 col0\" >-0.913355</td>\n",
       "      <td id=\"T_0b96a_row3_col1\" class=\"data row3 col1\" >-0.004307</td>\n",
       "      <td id=\"T_0b96a_row3_col2\" class=\"data row3 col2\" >0.132875</td>\n",
       "    </tr>\n",
       "    <tr>\n",
       "      <th id=\"T_0b96a_level0_row4\" class=\"row_heading level0 row4\" >IMAG_M</th>\n",
       "      <td id=\"T_0b96a_row4_col0\" class=\"data row4 col0\" >-0.827207</td>\n",
       "      <td id=\"T_0b96a_row4_col1\" class=\"data row4 col1\" >-0.029395</td>\n",
       "      <td id=\"T_0b96a_row4_col2\" class=\"data row4 col2\" >0.288128</td>\n",
       "    </tr>\n",
       "    <tr>\n",
       "      <th id=\"T_0b96a_level0_row5\" class=\"row_heading level0 row5\" >FAM_M</th>\n",
       "      <td id=\"T_0b96a_row5_col0\" class=\"data row5 col0\" >0.012972</td>\n",
       "      <td id=\"T_0b96a_row5_col1\" class=\"data row5 col1\" >-0.129470</td>\n",
       "      <td id=\"T_0b96a_row5_col2\" class=\"data row5 col2\" >0.946505</td>\n",
       "    </tr>\n",
       "    <tr>\n",
       "      <th id=\"T_0b96a_level0_row6\" class=\"row_heading level0 row6\" >AOA_M</th>\n",
       "      <td id=\"T_0b96a_row6_col0\" class=\"data row6 col0\" >0.361084</td>\n",
       "      <td id=\"T_0b96a_row6_col1\" class=\"data row6 col1\" >0.122502</td>\n",
       "      <td id=\"T_0b96a_row6_col2\" class=\"data row6 col2\" >-0.702601</td>\n",
       "    </tr>\n",
       "    <tr>\n",
       "      <th id=\"T_0b96a_level0_row7\" class=\"row_heading level0 row7\" >SIZE_M</th>\n",
       "      <td id=\"T_0b96a_row7_col0\" class=\"data row7 col0\" >0.585719</td>\n",
       "      <td id=\"T_0b96a_row7_col1\" class=\"data row7 col1\" >0.016006</td>\n",
       "      <td id=\"T_0b96a_row7_col2\" class=\"data row7 col2\" >0.087356</td>\n",
       "    </tr>\n",
       "    <tr>\n",
       "      <th id=\"T_0b96a_level0_row8\" class=\"row_heading level0 row8\" >GEND_M</th>\n",
       "      <td id=\"T_0b96a_row8_col0\" class=\"data row8 col0\" >-0.071554</td>\n",
       "      <td id=\"T_0b96a_row8_col1\" class=\"data row8 col1\" >0.342945</td>\n",
       "      <td id=\"T_0b96a_row8_col2\" class=\"data row8 col2\" >-0.117953</td>\n",
       "    </tr>\n",
       "    <tr>\n",
       "      <th id=\"T_0b96a_level0_row9\" class=\"row_heading level0 row9\" >AROU_DI</th>\n",
       "      <td id=\"T_0b96a_row9_col0\" class=\"data row9 col0\" >-0.219132</td>\n",
       "      <td id=\"T_0b96a_row9_col1\" class=\"data row9 col1\" >0.533630</td>\n",
       "      <td id=\"T_0b96a_row9_col2\" class=\"data row9 col2\" >-0.127306</td>\n",
       "    </tr>\n",
       "    <tr>\n",
       "      <th id=\"T_0b96a_level0_row10\" class=\"row_heading level0 row10\" >VAL_DI</th>\n",
       "      <td id=\"T_0b96a_row10_col0\" class=\"data row10 col0\" >0.210846</td>\n",
       "      <td id=\"T_0b96a_row10_col1\" class=\"data row10 col1\" >0.609327</td>\n",
       "      <td id=\"T_0b96a_row10_col2\" class=\"data row10 col2\" >-0.028349</td>\n",
       "    </tr>\n",
       "    <tr>\n",
       "      <th id=\"T_0b96a_level0_row11\" class=\"row_heading level0 row11\" >DOM_DI</th>\n",
       "      <td id=\"T_0b96a_row11_col0\" class=\"data row11 col0\" >0.330945</td>\n",
       "      <td id=\"T_0b96a_row11_col1\" class=\"data row11 col1\" >0.612165</td>\n",
       "      <td id=\"T_0b96a_row11_col2\" class=\"data row11 col2\" >0.122854</td>\n",
       "    </tr>\n",
       "    <tr>\n",
       "      <th id=\"T_0b96a_level0_row12\" class=\"row_heading level0 row12\" >CNC_DI</th>\n",
       "      <td id=\"T_0b96a_row12_col0\" class=\"data row12 col0\" >0.824030</td>\n",
       "      <td id=\"T_0b96a_row12_col1\" class=\"data row12 col1\" >0.029293</td>\n",
       "      <td id=\"T_0b96a_row12_col2\" class=\"data row12 col2\" >-0.079376</td>\n",
       "    </tr>\n",
       "    <tr>\n",
       "      <th id=\"T_0b96a_level0_row13\" class=\"row_heading level0 row13\" >IMAG_DI</th>\n",
       "      <td id=\"T_0b96a_row13_col0\" class=\"data row13 col0\" >0.782744</td>\n",
       "      <td id=\"T_0b96a_row13_col1\" class=\"data row13 col1\" >0.075471</td>\n",
       "      <td id=\"T_0b96a_row13_col2\" class=\"data row13 col2\" >-0.274379</td>\n",
       "    </tr>\n",
       "    <tr>\n",
       "      <th id=\"T_0b96a_level0_row14\" class=\"row_heading level0 row14\" >FAM_DI</th>\n",
       "      <td id=\"T_0b96a_row14_col0\" class=\"data row14 col0\" >-0.091409</td>\n",
       "      <td id=\"T_0b96a_row14_col1\" class=\"data row14 col1\" >0.162740</td>\n",
       "      <td id=\"T_0b96a_row14_col2\" class=\"data row14 col2\" >-0.857946</td>\n",
       "    </tr>\n",
       "    <tr>\n",
       "      <th id=\"T_0b96a_level0_row15\" class=\"row_heading level0 row15\" >AOA_DI</th>\n",
       "      <td id=\"T_0b96a_row15_col0\" class=\"data row15 col0\" >-0.253380</td>\n",
       "      <td id=\"T_0b96a_row15_col1\" class=\"data row15 col1\" >-0.021844</td>\n",
       "      <td id=\"T_0b96a_row15_col2\" class=\"data row15 col2\" >0.280437</td>\n",
       "    </tr>\n",
       "    <tr>\n",
       "      <th id=\"T_0b96a_level0_row16\" class=\"row_heading level0 row16\" >SIZE_DI</th>\n",
       "      <td id=\"T_0b96a_row16_col0\" class=\"data row16 col0\" >-0.465438</td>\n",
       "      <td id=\"T_0b96a_row16_col1\" class=\"data row16 col1\" >0.123575</td>\n",
       "      <td id=\"T_0b96a_row16_col2\" class=\"data row16 col2\" >-0.043345</td>\n",
       "    </tr>\n",
       "    <tr>\n",
       "      <th id=\"T_0b96a_level0_row17\" class=\"row_heading level0 row17\" >GEND_DI</th>\n",
       "      <td id=\"T_0b96a_row17_col0\" class=\"data row17 col0\" >0.151702</td>\n",
       "      <td id=\"T_0b96a_row17_col1\" class=\"data row17 col1\" >-0.196735</td>\n",
       "      <td id=\"T_0b96a_row17_col2\" class=\"data row17 col2\" >0.011536</td>\n",
       "    </tr>\n",
       "  </tbody>\n",
       "</table>\n"
      ],
      "text/plain": [
       "<pandas.io.formats.style.Styler at 0x186ef12ee10>"
      ]
     },
     "execution_count": 110,
     "metadata": {},
     "output_type": "execute_result"
    }
   ],
   "source": [
    "factors.style.applymap(highlight_high_values, th=0.4)"
   ]
  },
  {
   "cell_type": "code",
   "execution_count": null,
   "metadata": {},
   "outputs": [],
   "source": []
  },
  {
   "cell_type": "markdown",
   "metadata": {},
   "source": [
    "### Discussion regarding Factor Analysis:\n",
    "- As expected to, it seems **Factor 1** may relate to objectivity:  \n",
    "    > It is strongly related to concreteness; and  \n",
    "    > It is strongly related to imageability, i.e., how ones can easily imagine or picture a given concept.\n",
    "\n",
    "- **Factor 2**, on the other hand, seems to relate to subjectivity, strongly influenced by valence, dominance and partially related to arousal.  \n",
    "\n",
    "- A third factor emerges from these data, **Factor 3**, mostly related to familiarity. This factor can be theoretically associated to context."
   ]
  },
  {
   "cell_type": "code",
   "execution_count": null,
   "metadata": {},
   "outputs": [],
   "source": [
    "factors_name = ['F_Objectivity','F_Subjectivity','F_Context']"
   ]
  },
  {
   "cell_type": "code",
   "execution_count": null,
   "metadata": {},
   "outputs": [],
   "source": []
  },
  {
   "cell_type": "markdown",
   "metadata": {},
   "source": [
    "### Calculating Factor Variance:"
   ]
  },
  {
   "cell_type": "code",
   "execution_count": null,
   "metadata": {},
   "outputs": [
    {
     "name": "stdout",
     "output_type": "stream",
     "text": [
      "Sum of Squared Loadings por fator: [0.18781336 0.3461755  0.42429536]\n"
     ]
    }
   ],
   "source": [
    "variance_metrics = fa.get_factor_variance()\n",
    "\n",
    "# A Soma dos Quadrados dos Loadings estará na terceira coluna (índice 2)\n",
    "sum_squared_loadings = variance_metrics[2]\n",
    "\n",
    "print(\"Sum of Squared Loadings por fator:\", sum_squared_loadings)"
   ]
  },
  {
   "cell_type": "code",
   "execution_count": null,
   "metadata": {},
   "outputs": [
    {
     "data": {
      "text/html": [
       "<div>\n",
       "<style scoped>\n",
       "    .dataframe tbody tr th:only-of-type {\n",
       "        vertical-align: middle;\n",
       "    }\n",
       "\n",
       "    .dataframe tbody tr th {\n",
       "        vertical-align: top;\n",
       "    }\n",
       "\n",
       "    .dataframe thead th {\n",
       "        text-align: right;\n",
       "    }\n",
       "</style>\n",
       "<table border=\"1\" class=\"dataframe\">\n",
       "  <thead>\n",
       "    <tr style=\"text-align: right;\">\n",
       "      <th></th>\n",
       "      <th>F_Objectivity</th>\n",
       "      <th>F_Subjectivity</th>\n",
       "      <th>F_Context</th>\n",
       "    </tr>\n",
       "  </thead>\n",
       "  <tbody>\n",
       "    <tr>\n",
       "      <th>SumSquared Loadings</th>\n",
       "      <td>1.690320</td>\n",
       "      <td>1.425259</td>\n",
       "      <td>0.703079</td>\n",
       "    </tr>\n",
       "    <tr>\n",
       "      <th>Proportional Var</th>\n",
       "      <td>0.187813</td>\n",
       "      <td>0.158362</td>\n",
       "      <td>0.078120</td>\n",
       "    </tr>\n",
       "    <tr>\n",
       "      <th>Cumulative Var</th>\n",
       "      <td>0.187813</td>\n",
       "      <td>0.346175</td>\n",
       "      <td>0.424295</td>\n",
       "    </tr>\n",
       "  </tbody>\n",
       "</table>\n",
       "</div>"
      ],
      "text/plain": [
       "                     F_Objectivity  F_Subjectivity  F_Context\n",
       "SumSquared Loadings       1.690320        1.425259   0.703079\n",
       "Proportional Var          0.187813        0.158362   0.078120\n",
       "Cumulative Var            0.187813        0.346175   0.424295"
      ]
     },
     "metadata": {},
     "output_type": "display_data"
    }
   ],
   "source": [
    "pd.DataFrame(variance_metrics, columns=factors_name, index=['SumSquared Loadings','Proportional Var','Cumulative Var'])"
   ]
  },
  {
   "cell_type": "markdown",
   "metadata": {},
   "source": [
    "> The \"Cumulative Variance\" above indicates that 58% of the variance of the data is explained by these three factors."
   ]
  },
  {
   "cell_type": "code",
   "execution_count": null,
   "metadata": {},
   "outputs": [],
   "source": []
  },
  {
   "cell_type": "markdown",
   "metadata": {},
   "source": [
    "### Criação das variáveis latentes:"
   ]
  },
  {
   "cell_type": "code",
   "execution_count": null,
   "metadata": {},
   "outputs": [],
   "source": [
    "scores = pd.DataFrame(fa.transform(df_M), columns=factors_name, index=df_M.index)"
   ]
  },
  {
   "cell_type": "code",
   "execution_count": null,
   "metadata": {},
   "outputs": [
    {
     "data": {
      "text/html": [
       "<div>\n",
       "<style scoped>\n",
       "    .dataframe tbody tr th:only-of-type {\n",
       "        vertical-align: middle;\n",
       "    }\n",
       "\n",
       "    .dataframe tbody tr th {\n",
       "        vertical-align: top;\n",
       "    }\n",
       "\n",
       "    .dataframe thead th {\n",
       "        text-align: right;\n",
       "    }\n",
       "</style>\n",
       "<table border=\"1\" class=\"dataframe\">\n",
       "  <thead>\n",
       "    <tr style=\"text-align: right;\">\n",
       "      <th></th>\n",
       "      <th>F_Objectivity</th>\n",
       "      <th>F_Subjectivity</th>\n",
       "      <th>F_Context</th>\n",
       "    </tr>\n",
       "    <tr>\n",
       "      <th>words</th>\n",
       "      <th></th>\n",
       "      <th></th>\n",
       "      <th></th>\n",
       "    </tr>\n",
       "  </thead>\n",
       "  <tbody>\n",
       "    <tr>\n",
       "      <th>abattoir</th>\n",
       "      <td>0.932546</td>\n",
       "      <td>-1.094743</td>\n",
       "      <td>-2.723893</td>\n",
       "    </tr>\n",
       "    <tr>\n",
       "      <th>abbey</th>\n",
       "      <td>1.215183</td>\n",
       "      <td>0.128420</td>\n",
       "      <td>-1.653890</td>\n",
       "    </tr>\n",
       "    <tr>\n",
       "      <th>abbreviate</th>\n",
       "      <td>-0.875451</td>\n",
       "      <td>-0.025715</td>\n",
       "      <td>-0.619482</td>\n",
       "    </tr>\n",
       "    <tr>\n",
       "      <th>abdicate</th>\n",
       "      <td>-0.620040</td>\n",
       "      <td>-0.675388</td>\n",
       "      <td>-1.516463</td>\n",
       "    </tr>\n",
       "    <tr>\n",
       "      <th>abdication</th>\n",
       "      <td>-0.559100</td>\n",
       "      <td>-0.684211</td>\n",
       "      <td>-2.008800</td>\n",
       "    </tr>\n",
       "    <tr>\n",
       "      <th>...</th>\n",
       "      <td>...</td>\n",
       "      <td>...</td>\n",
       "      <td>...</td>\n",
       "    </tr>\n",
       "    <tr>\n",
       "      <th>zeppelin</th>\n",
       "      <td>1.091176</td>\n",
       "      <td>0.474037</td>\n",
       "      <td>-2.083340</td>\n",
       "    </tr>\n",
       "    <tr>\n",
       "      <th>zero</th>\n",
       "      <td>-1.588099</td>\n",
       "      <td>-0.736184</td>\n",
       "      <td>1.613288</td>\n",
       "    </tr>\n",
       "    <tr>\n",
       "      <th>zest</th>\n",
       "      <td>0.173272</td>\n",
       "      <td>1.201733</td>\n",
       "      <td>-1.378757</td>\n",
       "    </tr>\n",
       "    <tr>\n",
       "      <th>zoo</th>\n",
       "      <td>0.994645</td>\n",
       "      <td>0.745553</td>\n",
       "      <td>0.804080</td>\n",
       "    </tr>\n",
       "    <tr>\n",
       "      <th>zoology</th>\n",
       "      <td>0.064774</td>\n",
       "      <td>0.403951</td>\n",
       "      <td>-1.301749</td>\n",
       "    </tr>\n",
       "  </tbody>\n",
       "</table>\n",
       "<p>5553 rows × 3 columns</p>\n",
       "</div>"
      ],
      "text/plain": [
       "            F_Objectivity  F_Subjectivity  F_Context\n",
       "words                                               \n",
       "abattoir         0.932546       -1.094743  -2.723893\n",
       "abbey            1.215183        0.128420  -1.653890\n",
       "abbreviate      -0.875451       -0.025715  -0.619482\n",
       "abdicate        -0.620040       -0.675388  -1.516463\n",
       "abdication      -0.559100       -0.684211  -2.008800\n",
       "...                   ...             ...        ...\n",
       "zeppelin         1.091176        0.474037  -2.083340\n",
       "zero            -1.588099       -0.736184   1.613288\n",
       "zest             0.173272        1.201733  -1.378757\n",
       "zoo              0.994645        0.745553   0.804080\n",
       "zoology          0.064774        0.403951  -1.301749\n",
       "\n",
       "[5553 rows x 3 columns]"
      ]
     },
     "metadata": {},
     "output_type": "display_data"
    }
   ],
   "source": [
    "scores"
   ]
  },
  {
   "cell_type": "code",
   "execution_count": null,
   "metadata": {},
   "outputs": [
    {
     "data": {
      "text/plain": [
       "array([0.31634418, 0.86878409, 0.54837827, 0.99867841, 0.75162789,\n",
       "       0.68912676, 0.77227183, 0.24719008, 0.08931239])"
      ]
     },
     "metadata": {},
     "output_type": "display_data"
    }
   ],
   "source": [
    "fa.get_communalities()"
   ]
  },
  {
   "cell_type": "code",
   "execution_count": null,
   "metadata": {},
   "outputs": [
    {
     "data": {
      "text/html": [
       "<div>\n",
       "<style scoped>\n",
       "    .dataframe tbody tr th:only-of-type {\n",
       "        vertical-align: middle;\n",
       "    }\n",
       "\n",
       "    .dataframe tbody tr th {\n",
       "        vertical-align: top;\n",
       "    }\n",
       "\n",
       "    .dataframe thead th {\n",
       "        text-align: right;\n",
       "    }\n",
       "</style>\n",
       "<table border=\"1\" class=\"dataframe\">\n",
       "  <thead>\n",
       "    <tr style=\"text-align: right;\">\n",
       "      <th></th>\n",
       "      <th>F_Objectivity</th>\n",
       "      <th>F_Subjectivity</th>\n",
       "      <th>F_Context</th>\n",
       "    </tr>\n",
       "  </thead>\n",
       "  <tbody>\n",
       "    <tr>\n",
       "      <th>count</th>\n",
       "      <td>5.553000e+03</td>\n",
       "      <td>5.553000e+03</td>\n",
       "      <td>5.553000e+03</td>\n",
       "    </tr>\n",
       "    <tr>\n",
       "      <th>mean</th>\n",
       "      <td>-3.480418e-16</td>\n",
       "      <td>-1.036448e-16</td>\n",
       "      <td>2.111283e-16</td>\n",
       "    </tr>\n",
       "    <tr>\n",
       "      <th>std</th>\n",
       "      <td>1.020413e+00</td>\n",
       "      <td>9.506500e-01</td>\n",
       "      <td>9.100249e-01</td>\n",
       "    </tr>\n",
       "    <tr>\n",
       "      <th>min</th>\n",
       "      <td>-2.459348e+00</td>\n",
       "      <td>-2.408166e+00</td>\n",
       "      <td>-3.113331e+00</td>\n",
       "    </tr>\n",
       "    <tr>\n",
       "      <th>25%</th>\n",
       "      <td>-8.777826e-01</td>\n",
       "      <td>-5.680641e-01</td>\n",
       "      <td>-6.160451e-01</td>\n",
       "    </tr>\n",
       "    <tr>\n",
       "      <th>50%</th>\n",
       "      <td>8.048454e-03</td>\n",
       "      <td>3.275790e-02</td>\n",
       "      <td>5.091560e-02</td>\n",
       "    </tr>\n",
       "    <tr>\n",
       "      <th>75%</th>\n",
       "      <td>9.524171e-01</td>\n",
       "      <td>5.902665e-01</td>\n",
       "      <td>6.782075e-01</td>\n",
       "    </tr>\n",
       "    <tr>\n",
       "      <th>max</th>\n",
       "      <td>1.987073e+00</td>\n",
       "      <td>2.602231e+00</td>\n",
       "      <td>2.316282e+00</td>\n",
       "    </tr>\n",
       "  </tbody>\n",
       "</table>\n",
       "</div>"
      ],
      "text/plain": [
       "       F_Objectivity  F_Subjectivity     F_Context\n",
       "count   5.553000e+03    5.553000e+03  5.553000e+03\n",
       "mean   -3.480418e-16   -1.036448e-16  2.111283e-16\n",
       "std     1.020413e+00    9.506500e-01  9.100249e-01\n",
       "min    -2.459348e+00   -2.408166e+00 -3.113331e+00\n",
       "25%    -8.777826e-01   -5.680641e-01 -6.160451e-01\n",
       "50%     8.048454e-03    3.275790e-02  5.091560e-02\n",
       "75%     9.524171e-01    5.902665e-01  6.782075e-01\n",
       "max     1.987073e+00    2.602231e+00  2.316282e+00"
      ]
     },
     "metadata": {},
     "output_type": "display_data"
    }
   ],
   "source": [
    "scores.describe()"
   ]
  },
  {
   "cell_type": "code",
   "execution_count": null,
   "metadata": {},
   "outputs": [],
   "source": []
  },
  {
   "cell_type": "code",
   "execution_count": null,
   "metadata": {},
   "outputs": [
    {
     "data": {
      "text/plain": [
       "F_Objectivity     1.425720\n",
       "F_Subjectivity    1.348524\n",
       "F_Context         1.427143\n",
       "Name: dog, dtype: float64"
      ]
     },
     "metadata": {},
     "output_type": "display_data"
    }
   ],
   "source": [
    "## Exemplifying with a trial word:\n",
    "scores.loc['dog']"
   ]
  },
  {
   "cell_type": "code",
   "execution_count": null,
   "metadata": {},
   "outputs": [],
   "source": []
  },
  {
   "cell_type": "code",
   "execution_count": null,
   "metadata": {},
   "outputs": [],
   "source": []
  },
  {
   "cell_type": "markdown",
   "metadata": {},
   "source": [
    "----\n",
    "# Factor Analysis (based on the **dispersion index**)\n",
    "Based on the https://towardsdatascience.com/factor-analysis-a-complete-tutorial-1b7621890e42.\n",
    "> It is not a detailed tutorial.    \n",
    "\n",
    "This tutorial brings more reference on factor analysis calculation: https://medium.com/@hongwy1128/intro-guide-to-factor-analysis-python-84dd0b0fd729"
   ]
  },
  {
   "cell_type": "code",
   "execution_count": 33,
   "metadata": {},
   "outputs": [],
   "source": [
    "from factor_analyzer import FactorAnalyzer"
   ]
  },
  {
   "cell_type": "code",
   "execution_count": 35,
   "metadata": {},
   "outputs": [],
   "source": [
    "label_M = ['AROU_M', 'VAL_M', 'DOM_M', 'CNC_M', 'IMAG_M', 'FAM_M', 'AOA_M', 'SIZE_M', 'GEND_M']\n",
    "label_SD = ['AROU_SD', 'VAL_SD', 'DOM_SD', 'CNC_SD', 'IMAG_SD', 'FAM_SD', 'AOA_SD', 'SIZE_SD', 'GEND_M']\n",
    "label_DI = ['AROU_DI', 'VAL_DI', 'DOM_DI', 'CNC_DI', 'IMAG_DI', 'FAM_DI', 'AOA_DI', 'SIZE_DI', 'GEND_DI']"
   ]
  },
  {
   "cell_type": "code",
   "execution_count": 36,
   "metadata": {},
   "outputs": [
    {
     "data": {
      "text/html": [
       "<div>\n",
       "<style scoped>\n",
       "    .dataframe tbody tr th:only-of-type {\n",
       "        vertical-align: middle;\n",
       "    }\n",
       "\n",
       "    .dataframe tbody tr th {\n",
       "        vertical-align: top;\n",
       "    }\n",
       "\n",
       "    .dataframe thead th {\n",
       "        text-align: right;\n",
       "    }\n",
       "</style>\n",
       "<table border=\"1\" class=\"dataframe\">\n",
       "  <thead>\n",
       "    <tr style=\"text-align: right;\">\n",
       "      <th></th>\n",
       "      <th>AROU_DI</th>\n",
       "      <th>VAL_DI</th>\n",
       "      <th>DOM_DI</th>\n",
       "      <th>CNC_DI</th>\n",
       "      <th>IMAG_DI</th>\n",
       "      <th>FAM_DI</th>\n",
       "      <th>AOA_DI</th>\n",
       "      <th>SIZE_DI</th>\n",
       "      <th>GEND_DI</th>\n",
       "    </tr>\n",
       "    <tr>\n",
       "      <th>words</th>\n",
       "      <th></th>\n",
       "      <th></th>\n",
       "      <th></th>\n",
       "      <th></th>\n",
       "      <th></th>\n",
       "      <th></th>\n",
       "      <th></th>\n",
       "      <th></th>\n",
       "      <th></th>\n",
       "    </tr>\n",
       "  </thead>\n",
       "  <tbody>\n",
       "    <tr>\n",
       "      <th>abattoir</th>\n",
       "      <td>1.371429</td>\n",
       "      <td>1.057123</td>\n",
       "      <td>0.381081</td>\n",
       "      <td>0.661778</td>\n",
       "      <td>1.024514</td>\n",
       "      <td>1.358691</td>\n",
       "      <td>0.026972</td>\n",
       "      <td>0.515778</td>\n",
       "      <td>0.253923</td>\n",
       "    </tr>\n",
       "    <tr>\n",
       "      <th>abbey</th>\n",
       "      <td>1.755188</td>\n",
       "      <td>0.278122</td>\n",
       "      <td>0.515449</td>\n",
       "      <td>0.385043</td>\n",
       "      <td>0.662081</td>\n",
       "      <td>0.985590</td>\n",
       "      <td>0.346324</td>\n",
       "      <td>0.518188</td>\n",
       "      <td>0.430896</td>\n",
       "    </tr>\n",
       "    <tr>\n",
       "      <th>abbreviate</th>\n",
       "      <td>0.764658</td>\n",
       "      <td>0.202469</td>\n",
       "      <td>0.292769</td>\n",
       "      <td>0.913965</td>\n",
       "      <td>0.897929</td>\n",
       "      <td>0.659684</td>\n",
       "      <td>0.230363</td>\n",
       "      <td>1.083615</td>\n",
       "      <td>0.229191</td>\n",
       "    </tr>\n",
       "    <tr>\n",
       "      <th>abdicate</th>\n",
       "      <td>0.898303</td>\n",
       "      <td>0.507749</td>\n",
       "      <td>1.077421</td>\n",
       "      <td>1.019783</td>\n",
       "      <td>0.919492</td>\n",
       "      <td>1.086358</td>\n",
       "      <td>0.114285</td>\n",
       "      <td>0.443787</td>\n",
       "      <td>0.272227</td>\n",
       "    </tr>\n",
       "    <tr>\n",
       "      <th>abdication</th>\n",
       "      <td>1.354010</td>\n",
       "      <td>0.666408</td>\n",
       "      <td>0.800333</td>\n",
       "      <td>0.797205</td>\n",
       "      <td>0.651278</td>\n",
       "      <td>1.320143</td>\n",
       "      <td>0.130103</td>\n",
       "      <td>0.359079</td>\n",
       "      <td>0.225383</td>\n",
       "    </tr>\n",
       "    <tr>\n",
       "      <th>...</th>\n",
       "      <td>...</td>\n",
       "      <td>...</td>\n",
       "      <td>...</td>\n",
       "      <td>...</td>\n",
       "      <td>...</td>\n",
       "      <td>...</td>\n",
       "      <td>...</td>\n",
       "      <td>...</td>\n",
       "      <td>...</td>\n",
       "    </tr>\n",
       "    <tr>\n",
       "      <th>zeppelin</th>\n",
       "      <td>0.670876</td>\n",
       "      <td>0.399879</td>\n",
       "      <td>0.569670</td>\n",
       "      <td>0.134648</td>\n",
       "      <td>0.203901</td>\n",
       "      <td>1.412449</td>\n",
       "      <td>0.147637</td>\n",
       "      <td>0.542065</td>\n",
       "      <td>0.197844</td>\n",
       "    </tr>\n",
       "    <tr>\n",
       "      <th>zero</th>\n",
       "      <td>1.015264</td>\n",
       "      <td>0.600723</td>\n",
       "      <td>0.987820</td>\n",
       "      <td>1.335947</td>\n",
       "      <td>1.411327</td>\n",
       "      <td>0.227792</td>\n",
       "      <td>0.478425</td>\n",
       "      <td>1.103782</td>\n",
       "      <td>0.100338</td>\n",
       "    </tr>\n",
       "    <tr>\n",
       "      <th>zest</th>\n",
       "      <td>0.780192</td>\n",
       "      <td>0.252856</td>\n",
       "      <td>0.284659</td>\n",
       "      <td>0.646606</td>\n",
       "      <td>0.652339</td>\n",
       "      <td>0.660969</td>\n",
       "      <td>0.235110</td>\n",
       "      <td>1.145920</td>\n",
       "      <td>0.296095</td>\n",
       "    </tr>\n",
       "    <tr>\n",
       "      <th>zoo</th>\n",
       "      <td>0.772850</td>\n",
       "      <td>0.519647</td>\n",
       "      <td>0.465561</td>\n",
       "      <td>0.199579</td>\n",
       "      <td>0.157124</td>\n",
       "      <td>0.539701</td>\n",
       "      <td>0.195472</td>\n",
       "      <td>0.724222</td>\n",
       "      <td>0.158464</td>\n",
       "    </tr>\n",
       "    <tr>\n",
       "      <th>zoology</th>\n",
       "      <td>0.928375</td>\n",
       "      <td>0.163883</td>\n",
       "      <td>0.466763</td>\n",
       "      <td>0.765247</td>\n",
       "      <td>0.560389</td>\n",
       "      <td>0.873103</td>\n",
       "      <td>0.227078</td>\n",
       "      <td>0.566371</td>\n",
       "      <td>0.311902</td>\n",
       "    </tr>\n",
       "  </tbody>\n",
       "</table>\n",
       "<p>5553 rows × 9 columns</p>\n",
       "</div>"
      ],
      "text/plain": [
       "             AROU_DI    VAL_DI    DOM_DI    CNC_DI   IMAG_DI    FAM_DI  \\\n",
       "words                                                                    \n",
       "abattoir    1.371429  1.057123  0.381081  0.661778  1.024514  1.358691   \n",
       "abbey       1.755188  0.278122  0.515449  0.385043  0.662081  0.985590   \n",
       "abbreviate  0.764658  0.202469  0.292769  0.913965  0.897929  0.659684   \n",
       "abdicate    0.898303  0.507749  1.077421  1.019783  0.919492  1.086358   \n",
       "abdication  1.354010  0.666408  0.800333  0.797205  0.651278  1.320143   \n",
       "...              ...       ...       ...       ...       ...       ...   \n",
       "zeppelin    0.670876  0.399879  0.569670  0.134648  0.203901  1.412449   \n",
       "zero        1.015264  0.600723  0.987820  1.335947  1.411327  0.227792   \n",
       "zest        0.780192  0.252856  0.284659  0.646606  0.652339  0.660969   \n",
       "zoo         0.772850  0.519647  0.465561  0.199579  0.157124  0.539701   \n",
       "zoology     0.928375  0.163883  0.466763  0.765247  0.560389  0.873103   \n",
       "\n",
       "              AOA_DI   SIZE_DI   GEND_DI  \n",
       "words                                     \n",
       "abattoir    0.026972  0.515778  0.253923  \n",
       "abbey       0.346324  0.518188  0.430896  \n",
       "abbreviate  0.230363  1.083615  0.229191  \n",
       "abdicate    0.114285  0.443787  0.272227  \n",
       "abdication  0.130103  0.359079  0.225383  \n",
       "...              ...       ...       ...  \n",
       "zeppelin    0.147637  0.542065  0.197844  \n",
       "zero        0.478425  1.103782  0.100338  \n",
       "zest        0.235110  1.145920  0.296095  \n",
       "zoo         0.195472  0.724222  0.158464  \n",
       "zoology     0.227078  0.566371  0.311902  \n",
       "\n",
       "[5553 rows x 9 columns]"
      ]
     },
     "execution_count": 36,
     "metadata": {},
     "output_type": "execute_result"
    }
   ],
   "source": [
    "df_DI"
   ]
  },
  {
   "cell_type": "code",
   "execution_count": 46,
   "metadata": {},
   "outputs": [],
   "source": [
    "## Selecting a subset of the original dataframe with only the columns of interest:\n",
    "# x = glasgow[interest]"
   ]
  },
  {
   "cell_type": "code",
   "execution_count": 111,
   "metadata": {},
   "outputs": [
    {
     "data": {
      "text/html": [
       "<style>#sk-container-id-4 {color: black;}#sk-container-id-4 pre{padding: 0;}#sk-container-id-4 div.sk-toggleable {background-color: white;}#sk-container-id-4 label.sk-toggleable__label {cursor: pointer;display: block;width: 100%;margin-bottom: 0;padding: 0.3em;box-sizing: border-box;text-align: center;}#sk-container-id-4 label.sk-toggleable__label-arrow:before {content: \"▸\";float: left;margin-right: 0.25em;color: #696969;}#sk-container-id-4 label.sk-toggleable__label-arrow:hover:before {color: black;}#sk-container-id-4 div.sk-estimator:hover label.sk-toggleable__label-arrow:before {color: black;}#sk-container-id-4 div.sk-toggleable__content {max-height: 0;max-width: 0;overflow: hidden;text-align: left;background-color: #f0f8ff;}#sk-container-id-4 div.sk-toggleable__content pre {margin: 0.2em;color: black;border-radius: 0.25em;background-color: #f0f8ff;}#sk-container-id-4 input.sk-toggleable__control:checked~div.sk-toggleable__content {max-height: 200px;max-width: 100%;overflow: auto;}#sk-container-id-4 input.sk-toggleable__control:checked~label.sk-toggleable__label-arrow:before {content: \"▾\";}#sk-container-id-4 div.sk-estimator input.sk-toggleable__control:checked~label.sk-toggleable__label {background-color: #d4ebff;}#sk-container-id-4 div.sk-label input.sk-toggleable__control:checked~label.sk-toggleable__label {background-color: #d4ebff;}#sk-container-id-4 input.sk-hidden--visually {border: 0;clip: rect(1px 1px 1px 1px);clip: rect(1px, 1px, 1px, 1px);height: 1px;margin: -1px;overflow: hidden;padding: 0;position: absolute;width: 1px;}#sk-container-id-4 div.sk-estimator {font-family: monospace;background-color: #f0f8ff;border: 1px dotted black;border-radius: 0.25em;box-sizing: border-box;margin-bottom: 0.5em;}#sk-container-id-4 div.sk-estimator:hover {background-color: #d4ebff;}#sk-container-id-4 div.sk-parallel-item::after {content: \"\";width: 100%;border-bottom: 1px solid gray;flex-grow: 1;}#sk-container-id-4 div.sk-label:hover label.sk-toggleable__label {background-color: #d4ebff;}#sk-container-id-4 div.sk-serial::before {content: \"\";position: absolute;border-left: 1px solid gray;box-sizing: border-box;top: 0;bottom: 0;left: 50%;z-index: 0;}#sk-container-id-4 div.sk-serial {display: flex;flex-direction: column;align-items: center;background-color: white;padding-right: 0.2em;padding-left: 0.2em;position: relative;}#sk-container-id-4 div.sk-item {position: relative;z-index: 1;}#sk-container-id-4 div.sk-parallel {display: flex;align-items: stretch;justify-content: center;background-color: white;position: relative;}#sk-container-id-4 div.sk-item::before, #sk-container-id-4 div.sk-parallel-item::before {content: \"\";position: absolute;border-left: 1px solid gray;box-sizing: border-box;top: 0;bottom: 0;left: 50%;z-index: -1;}#sk-container-id-4 div.sk-parallel-item {display: flex;flex-direction: column;z-index: 1;position: relative;background-color: white;}#sk-container-id-4 div.sk-parallel-item:first-child::after {align-self: flex-end;width: 50%;}#sk-container-id-4 div.sk-parallel-item:last-child::after {align-self: flex-start;width: 50%;}#sk-container-id-4 div.sk-parallel-item:only-child::after {width: 0;}#sk-container-id-4 div.sk-dashed-wrapped {border: 1px dashed gray;margin: 0 0.4em 0.5em 0.4em;box-sizing: border-box;padding-bottom: 0.4em;background-color: white;}#sk-container-id-4 div.sk-label label {font-family: monospace;font-weight: bold;display: inline-block;line-height: 1.2em;}#sk-container-id-4 div.sk-label-container {text-align: center;}#sk-container-id-4 div.sk-container {/* jupyter's `normalize.less` sets `[hidden] { display: none; }` but bootstrap.min.css set `[hidden] { display: none !important; }` so we also need the `!important` here to be able to override the default hidden behavior on the sphinx rendered scikit-learn.org. See: https://github.com/scikit-learn/scikit-learn/issues/21755 */display: inline-block !important;position: relative;}#sk-container-id-4 div.sk-text-repr-fallback {display: none;}</style><div id=\"sk-container-id-4\" class=\"sk-top-container\"><div class=\"sk-text-repr-fallback\"><pre>FactorAnalyzer(rotation_kwargs={})</pre><b>In a Jupyter environment, please rerun this cell to show the HTML representation or trust the notebook. <br />On GitHub, the HTML representation is unable to render, please try loading this page with nbviewer.org.</b></div><div class=\"sk-container\" hidden><div class=\"sk-item\"><div class=\"sk-estimator sk-toggleable\"><input class=\"sk-toggleable__control sk-hidden--visually\" id=\"sk-estimator-id-4\" type=\"checkbox\" checked><label for=\"sk-estimator-id-4\" class=\"sk-toggleable__label sk-toggleable__label-arrow\">FactorAnalyzer</label><div class=\"sk-toggleable__content\"><pre>FactorAnalyzer(rotation_kwargs={})</pre></div></div></div></div></div>"
      ],
      "text/plain": [
       "FactorAnalyzer(rotation_kwargs={})"
      ]
     },
     "execution_count": 111,
     "metadata": {},
     "output_type": "execute_result"
    }
   ],
   "source": [
    "## Creating the estimator (Factor analyzer)\n",
    "fa = FactorAnalyzer()\n",
    "\n",
    "## fa.fit(df_M)\n",
    "fa.fit(df_DI)\n"
   ]
  },
  {
   "cell_type": "code",
   "execution_count": 112,
   "metadata": {},
   "outputs": [
    {
     "data": {
      "text/plain": [
       "array([2.28901233, 1.70737738, 1.1391583 , 0.99729371, 0.9043239 ,\n",
       "       0.7338093 , 0.62168185, 0.39378666, 0.21355657])"
      ]
     },
     "execution_count": 112,
     "metadata": {},
     "output_type": "execute_result"
    }
   ],
   "source": [
    "#Get Eigen values and plot them\n",
    "ev, v = fa.get_eigenvalues()\n",
    "ev"
   ]
  },
  {
   "cell_type": "code",
   "execution_count": 113,
   "metadata": {},
   "outputs": [
    {
     "data": {
      "text/plain": [
       "[<matplotlib.lines.Line2D at 0x186ebdc1dd0>]"
      ]
     },
     "execution_count": 113,
     "metadata": {},
     "output_type": "execute_result"
    },
    {
     "data": {
      "image/png": "[encoded data removed]",
      "text/plain": [
       "<Figure size 640x480 with 1 Axes>"
      ]
     },
     "metadata": {},
     "output_type": "display_data"
    }
   ],
   "source": [
    "plt.plot(range(1,df_DI.shape[1]+1),ev)"
   ]
  },
  {
   "cell_type": "markdown",
   "metadata": {},
   "source": [
    "> Fatores com auto-valor <= 1 é um fator não mais informativo do que uma única variável. Traz igual ou menos informação do que uma variável sozinha."
   ]
  },
  {
   "cell_type": "markdown",
   "metadata": {},
   "source": [
    "### Choosing two factors and analyzing their structure:"
   ]
  },
  {
   "cell_type": "markdown",
   "metadata": {},
   "source": [
    "> Choosing 2 factors (> than 2).\n",
    ">> Although I would like to have just 2 -> objective and subjective."
   ]
  },
  {
   "cell_type": "code",
   "execution_count": 114,
   "metadata": {},
   "outputs": [
    {
     "name": "stdout",
     "output_type": "stream",
     "text": [
      "[[-0.05181238  0.29849713  0.5603533 ]\n",
      " [ 0.13445567  0.5969895   0.19972643]\n",
      " [ 0.11110437  0.96800203 -0.08315334]\n",
      " [ 0.7871944   0.16018163 -0.22612954]\n",
      " [ 0.93106094  0.07728548 -0.00386391]\n",
      " [ 0.14794717  0.05896855  0.36384074]\n",
      " [-0.25736096 -0.03960362 -0.02208045]\n",
      " [-0.27921273 -0.03473647  0.37959307]\n",
      " [ 0.06768237  0.06964755 -0.11903684]]\n"
     ]
    }
   ],
   "source": [
    "fa = FactorAnalyzer(3, rotation='varimax')\n",
    "fa.fit(df_DI)\n",
    "loads = fa.loadings_\n",
    "print(loads)"
   ]
  },
  {
   "cell_type": "code",
   "execution_count": null,
   "metadata": {},
   "outputs": [],
   "source": []
  },
  {
   "cell_type": "markdown",
   "metadata": {},
   "source": [
    "### Analyzing the factor structure:"
   ]
  },
  {
   "cell_type": "code",
   "execution_count": 115,
   "metadata": {},
   "outputs": [],
   "source": [
    "def highlight_high_values(val, th=0.5):\n",
    "    ''' Highlights values higher or lower than 0.5. Must be applied as a map in a Pandas.DataFrame style.\n",
    "    '''\n",
    "    # color = 'background-color: yellow' if ((val > th) or (val < -th)) else ''\n",
    "    if (val > th):\n",
    "        color = 'background-color: yellow' \n",
    "    elif (val < -th):\n",
    "        color = 'background-color: red'\n",
    "    else:\n",
    "        color = ''\n",
    "    return color"
   ]
  },
  {
   "cell_type": "code",
   "execution_count": 116,
   "metadata": {},
   "outputs": [],
   "source": [
    "## Creating a dataframe with the loading values and column names:\n",
    "factors = pd.DataFrame(fa.loadings_, columns=['Factor 1','Factor 2','Factor 3'], index=[df_DI.columns])"
   ]
  },
  {
   "cell_type": "code",
   "execution_count": 117,
   "metadata": {},
   "outputs": [
    {
     "name": "stderr",
     "output_type": "stream",
     "text": [
      "C:\\Users\\tiago\\AppData\\Local\\Temp\\ipykernel_22680\\1062230875.py:1: FutureWarning:\n",
      "\n",
      "Styler.applymap has been deprecated. Use Styler.map instead.\n",
      "\n"
     ]
    },
    {
     "data": {
      "text/html": [
       "<style type=\"text/css\">\n",
       "#T_a23cb_row0_col2, #T_a23cb_row1_col1, #T_a23cb_row2_col1, #T_a23cb_row3_col0, #T_a23cb_row4_col0 {\n",
       "  background-color: yellow;\n",
       "}\n",
       "</style>\n",
       "<table id=\"T_a23cb\">\n",
       "  <thead>\n",
       "    <tr>\n",
       "      <th class=\"blank level0\" >&nbsp;</th>\n",
       "      <th id=\"T_a23cb_level0_col0\" class=\"col_heading level0 col0\" >Factor 1</th>\n",
       "      <th id=\"T_a23cb_level0_col1\" class=\"col_heading level0 col1\" >Factor 2</th>\n",
       "      <th id=\"T_a23cb_level0_col2\" class=\"col_heading level0 col2\" >Factor 3</th>\n",
       "    </tr>\n",
       "  </thead>\n",
       "  <tbody>\n",
       "    <tr>\n",
       "      <th id=\"T_a23cb_level0_row0\" class=\"row_heading level0 row0\" >AROU_DI</th>\n",
       "      <td id=\"T_a23cb_row0_col0\" class=\"data row0 col0\" >-0.051812</td>\n",
       "      <td id=\"T_a23cb_row0_col1\" class=\"data row0 col1\" >0.298497</td>\n",
       "      <td id=\"T_a23cb_row0_col2\" class=\"data row0 col2\" >0.560353</td>\n",
       "    </tr>\n",
       "    <tr>\n",
       "      <th id=\"T_a23cb_level0_row1\" class=\"row_heading level0 row1\" >VAL_DI</th>\n",
       "      <td id=\"T_a23cb_row1_col0\" class=\"data row1 col0\" >0.134456</td>\n",
       "      <td id=\"T_a23cb_row1_col1\" class=\"data row1 col1\" >0.596990</td>\n",
       "      <td id=\"T_a23cb_row1_col2\" class=\"data row1 col2\" >0.199726</td>\n",
       "    </tr>\n",
       "    <tr>\n",
       "      <th id=\"T_a23cb_level0_row2\" class=\"row_heading level0 row2\" >DOM_DI</th>\n",
       "      <td id=\"T_a23cb_row2_col0\" class=\"data row2 col0\" >0.111104</td>\n",
       "      <td id=\"T_a23cb_row2_col1\" class=\"data row2 col1\" >0.968002</td>\n",
       "      <td id=\"T_a23cb_row2_col2\" class=\"data row2 col2\" >-0.083153</td>\n",
       "    </tr>\n",
       "    <tr>\n",
       "      <th id=\"T_a23cb_level0_row3\" class=\"row_heading level0 row3\" >CNC_DI</th>\n",
       "      <td id=\"T_a23cb_row3_col0\" class=\"data row3 col0\" >0.787194</td>\n",
       "      <td id=\"T_a23cb_row3_col1\" class=\"data row3 col1\" >0.160182</td>\n",
       "      <td id=\"T_a23cb_row3_col2\" class=\"data row3 col2\" >-0.226130</td>\n",
       "    </tr>\n",
       "    <tr>\n",
       "      <th id=\"T_a23cb_level0_row4\" class=\"row_heading level0 row4\" >IMAG_DI</th>\n",
       "      <td id=\"T_a23cb_row4_col0\" class=\"data row4 col0\" >0.931061</td>\n",
       "      <td id=\"T_a23cb_row4_col1\" class=\"data row4 col1\" >0.077285</td>\n",
       "      <td id=\"T_a23cb_row4_col2\" class=\"data row4 col2\" >-0.003864</td>\n",
       "    </tr>\n",
       "    <tr>\n",
       "      <th id=\"T_a23cb_level0_row5\" class=\"row_heading level0 row5\" >FAM_DI</th>\n",
       "      <td id=\"T_a23cb_row5_col0\" class=\"data row5 col0\" >0.147947</td>\n",
       "      <td id=\"T_a23cb_row5_col1\" class=\"data row5 col1\" >0.058969</td>\n",
       "      <td id=\"T_a23cb_row5_col2\" class=\"data row5 col2\" >0.363841</td>\n",
       "    </tr>\n",
       "    <tr>\n",
       "      <th id=\"T_a23cb_level0_row6\" class=\"row_heading level0 row6\" >AOA_DI</th>\n",
       "      <td id=\"T_a23cb_row6_col0\" class=\"data row6 col0\" >-0.257361</td>\n",
       "      <td id=\"T_a23cb_row6_col1\" class=\"data row6 col1\" >-0.039604</td>\n",
       "      <td id=\"T_a23cb_row6_col2\" class=\"data row6 col2\" >-0.022080</td>\n",
       "    </tr>\n",
       "    <tr>\n",
       "      <th id=\"T_a23cb_level0_row7\" class=\"row_heading level0 row7\" >SIZE_DI</th>\n",
       "      <td id=\"T_a23cb_row7_col0\" class=\"data row7 col0\" >-0.279213</td>\n",
       "      <td id=\"T_a23cb_row7_col1\" class=\"data row7 col1\" >-0.034736</td>\n",
       "      <td id=\"T_a23cb_row7_col2\" class=\"data row7 col2\" >0.379593</td>\n",
       "    </tr>\n",
       "    <tr>\n",
       "      <th id=\"T_a23cb_level0_row8\" class=\"row_heading level0 row8\" >GEND_DI</th>\n",
       "      <td id=\"T_a23cb_row8_col0\" class=\"data row8 col0\" >0.067682</td>\n",
       "      <td id=\"T_a23cb_row8_col1\" class=\"data row8 col1\" >0.069648</td>\n",
       "      <td id=\"T_a23cb_row8_col2\" class=\"data row8 col2\" >-0.119037</td>\n",
       "    </tr>\n",
       "  </tbody>\n",
       "</table>\n"
      ],
      "text/plain": [
       "<pandas.io.formats.style.Styler at 0x186f1aa9f50>"
      ]
     },
     "execution_count": 117,
     "metadata": {},
     "output_type": "execute_result"
    }
   ],
   "source": [
    "factors.style.applymap(highlight_high_values, th=0.4)"
   ]
  },
  {
   "cell_type": "code",
   "execution_count": null,
   "metadata": {},
   "outputs": [],
   "source": []
  },
  {
   "cell_type": "markdown",
   "metadata": {},
   "source": [
    "### Discussion regarding Factor Analysis for DI, SNR and other metrics:\n",
    "- Using any other matrics than mean turns any interpretation really toughful. "
   ]
  }
 ],
 "metadata": {
  "hide_input": false,
  "kernelspec": {
   "display_name": ".venv",
   "language": "python",
   "name": "python3"
  },
  "language_info": {
   "codemirror_mode": {
    "name": "ipython",
    "version": 3
   },
   "file_extension": ".py",
   "mimetype": "text/x-python",
   "name": "python",
   "nbconvert_exporter": "python",
   "pygments_lexer": "ipython3",
   "version": "3.11.5"
  },
  "toc": {
   "base_numbering": 1,
   "nav_menu": {},
   "number_sections": true,
   "sideBar": true,
   "skip_h1_title": true,
   "title_cell": "Summary",
   "title_sidebar": "Contents",
   "toc_cell": true,
   "toc_position": {
    "height": "calc(100% - 180px)",
    "left": "10px",
    "top": "150px",
    "width": "300.15px"
   },
   "toc_section_display": true,
   "toc_window_display": false
  },
  "toc-autonumbering": false,
  "toc-showcode": false,
  "toc-showmarkdowntxt": false,
  "varInspector": {
   "cols": {
    "lenName": 16,
    "lenType": 16,
    "lenVar": 40
   },
   "kernels_config": {
    "python": {
     "delete_cmd_postfix": "",
     "delete_cmd_prefix": "del ",
     "library": "var_list.py",
     "varRefreshCmd": "print(var_dic_list())"
    },
    "r": {
     "delete_cmd_postfix": ") ",
     "delete_cmd_prefix": "rm(",
     "library": "var_list.r",
     "varRefreshCmd": "cat(var_dic_list()) "
    }
   },
   "position": {
    "height": "498.85px",
    "left": "651.8px",
    "right": "20px",
    "top": "56px",
    "width": "715px"
   },
   "types_to_exclude": [
    "module",
    "function",
    "builtin_function_or_method",
    "instance",
    "_Feature"
   ],
   "window_display": false
  }
 },
 "nbformat": 4,
 "nbformat_minor": 4
}
