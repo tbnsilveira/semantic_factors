{
 "cells": [
  {
   "cell_type": "markdown",
   "metadata": {
    "tags": []
   },
   "source": [
    "# Semantic Factors\n",
    "This notebook aims for an exploratory factor analysis of \"The Glasgow Norm\" -- a database with 5.553 English words classified into nine psycholinguistics dimensions. The objetive in doing such an analysis is to find out empirical support for the theoretical segmentation of the semantic content, which are believed to have an objective portion and a subjective portion."
   ]
  },
  {
   "cell_type": "markdown",
   "metadata": {
    "tags": []
   },
   "source": [
    "## Introduction"
   ]
  },
  {
   "cell_type": "markdown",
   "metadata": {},
   "source": [
    "### Libraries"
   ]
  },
  {
   "cell_type": "code",
   "execution_count": 2,
   "metadata": {
    "ExecuteTime": {
     "end_time": "2022-11-12T22:37:14.251208Z",
     "start_time": "2022-11-12T22:37:14.073574Z"
    }
   },
   "outputs": [],
   "source": [
    "## Data analysis packages:\n",
    "import pandas as pd\n",
    "import numpy as np\n",
    "from math import isnan  #Verifies if a given valu e is numerical."
   ]
  },
  {
   "cell_type": "code",
   "execution_count": 3,
   "metadata": {
    "ExecuteTime": {
     "end_time": "2022-11-12T22:37:15.470110Z",
     "start_time": "2022-11-12T22:37:14.895488Z"
    }
   },
   "outputs": [],
   "source": [
    "## Visualization packages:\n",
    "import seaborn as sns\n",
    "import matplotlib.pyplot as plt\n",
    "%matplotlib inline"
   ]
  },
  {
   "cell_type": "code",
   "execution_count": 4,
   "metadata": {
    "ExecuteTime": {
     "end_time": "2022-11-12T22:37:16.581587Z",
     "start_time": "2022-11-12T22:37:16.459130Z"
    }
   },
   "outputs": [],
   "source": [
    "## Plotly Express\n",
    "import plotly.graph_objs as go\n",
    "import plotly"
   ]
  },
  {
   "cell_type": "markdown",
   "metadata": {},
   "source": [
    "### Definitions"
   ]
  },
  {
   "cell_type": "code",
   "execution_count": 5,
   "metadata": {
    "ExecuteTime": {
     "end_time": "2022-04-28T22:15:12.656866Z",
     "start_time": "2022-04-28T22:15:12.612272Z"
    }
   },
   "outputs": [],
   "source": [
    "## Forcing Pandas to display any number of elements\n",
    "pd.set_option('display.max_columns', None)\n",
    "pd.set_option('display.max_rows', 1000)\n",
    "pd.options.display.max_seq_items = 15000"
   ]
  },
  {
   "cell_type": "markdown",
   "metadata": {},
   "source": [
    "## DataPrep"
   ]
  },
  {
   "cell_type": "markdown",
   "metadata": {
    "tags": []
   },
   "source": [
    "### Importing \"The Glasgow Norms\" dataset\n",
    "Available at https://doi.org/10.3758/s13428-018-1099-3.  \n",
    "The Glasgow Norms are a set of normative ratings for 5,553 English words on nine psycholinguistic dimensions: arousal, valence, dominance, concreteness, imageability, familiarity, age of acquisition, semantic size, and gender association."
   ]
  },
  {
   "cell_type": "code",
   "execution_count": 6,
   "metadata": {
    "ExecuteTime": {
     "end_time": "2022-04-28T22:25:23.492830Z",
     "start_time": "2022-04-28T22:25:23.396543Z"
    }
   },
   "outputs": [],
   "source": [
    "## Reading the dataset file:\n",
    "## -> header=[0,1] parameters indicates that rows [0,1] must be considered as dataset header.\n",
    "glasgow = pd.read_csv('./dataset_GlasgowR/(Glasgow Norms Ratings - Sup Material) 13428_2018_1099_MOESM2_ESM.csv',\n",
    "                     header=[0,1])"
   ]
  },
  {
   "cell_type": "code",
   "execution_count": 7,
   "metadata": {
    "ExecuteTime": {
     "end_time": "2022-04-28T22:25:24.138161Z",
     "start_time": "2022-04-28T22:25:23.991505Z"
    }
   },
   "outputs": [
    {
     "data": {
      "text/html": [
       "<div>\n",
       "<style scoped>\n",
       "    .dataframe tbody tr th:only-of-type {\n",
       "        vertical-align: middle;\n",
       "    }\n",
       "\n",
       "    .dataframe tbody tr th {\n",
       "        vertical-align: top;\n",
       "    }\n",
       "\n",
       "    .dataframe thead tr th {\n",
       "        text-align: left;\n",
       "    }\n",
       "</style>\n",
       "<table border=\"1\" class=\"dataframe\">\n",
       "  <thead>\n",
       "    <tr>\n",
       "      <th></th>\n",
       "      <th>Words</th>\n",
       "      <th>Length</th>\n",
       "      <th>AROU</th>\n",
       "      <th>Unnamed: 3_level_0</th>\n",
       "      <th>Unnamed: 4_level_0</th>\n",
       "      <th>VAL</th>\n",
       "      <th>Unnamed: 6_level_0</th>\n",
       "      <th>Unnamed: 7_level_0</th>\n",
       "      <th>DOM</th>\n",
       "      <th>Unnamed: 9_level_0</th>\n",
       "      <th>Unnamed: 10_level_0</th>\n",
       "      <th>CNC</th>\n",
       "      <th>Unnamed: 12_level_0</th>\n",
       "      <th>Unnamed: 13_level_0</th>\n",
       "      <th>IMAG</th>\n",
       "      <th>Unnamed: 15_level_0</th>\n",
       "      <th>Unnamed: 16_level_0</th>\n",
       "      <th>FAM</th>\n",
       "      <th>Unnamed: 18_level_0</th>\n",
       "      <th>Unnamed: 19_level_0</th>\n",
       "      <th>AOA</th>\n",
       "      <th>Unnamed: 21_level_0</th>\n",
       "      <th>Unnamed: 22_level_0</th>\n",
       "      <th>SIZE</th>\n",
       "      <th>Unnamed: 24_level_0</th>\n",
       "      <th>Unnamed: 25_level_0</th>\n",
       "      <th>GEND</th>\n",
       "      <th>Unnamed: 27_level_0</th>\n",
       "      <th>Unnamed: 28_level_0</th>\n",
       "    </tr>\n",
       "    <tr>\n",
       "      <th></th>\n",
       "      <th>Unnamed: 0_level_1</th>\n",
       "      <th>Unnamed: 1_level_1</th>\n",
       "      <th>M</th>\n",
       "      <th>SD</th>\n",
       "      <th>N</th>\n",
       "      <th>M</th>\n",
       "      <th>SD</th>\n",
       "      <th>N</th>\n",
       "      <th>M</th>\n",
       "      <th>SD</th>\n",
       "      <th>N</th>\n",
       "      <th>M</th>\n",
       "      <th>SD</th>\n",
       "      <th>N</th>\n",
       "      <th>M</th>\n",
       "      <th>SD</th>\n",
       "      <th>N</th>\n",
       "      <th>M</th>\n",
       "      <th>SD</th>\n",
       "      <th>N</th>\n",
       "      <th>M</th>\n",
       "      <th>SD</th>\n",
       "      <th>N</th>\n",
       "      <th>M</th>\n",
       "      <th>SD</th>\n",
       "      <th>N</th>\n",
       "      <th>M</th>\n",
       "      <th>SD</th>\n",
       "      <th>N</th>\n",
       "    </tr>\n",
       "  </thead>\n",
       "  <tbody>\n",
       "    <tr>\n",
       "      <th>0</th>\n",
       "      <td>abattoir</td>\n",
       "      <td>8</td>\n",
       "      <td>4.200</td>\n",
       "      <td>2.400</td>\n",
       "      <td>25</td>\n",
       "      <td>2.864</td>\n",
       "      <td>1.740</td>\n",
       "      <td>22</td>\n",
       "      <td>4.333</td>\n",
       "      <td>1.285</td>\n",
       "      <td>21</td>\n",
       "      <td>5.455</td>\n",
       "      <td>1.900</td>\n",
       "      <td>22</td>\n",
       "      <td>4.391</td>\n",
       "      <td>2.121</td>\n",
       "      <td>23</td>\n",
       "      <td>2.382</td>\n",
       "      <td>1.799</td>\n",
       "      <td>34</td>\n",
       "      <td>6.760</td>\n",
       "      <td>0.427</td>\n",
       "      <td>25</td>\n",
       "      <td>4.652</td>\n",
       "      <td>1.549</td>\n",
       "      <td>23</td>\n",
       "      <td>5.391</td>\n",
       "      <td>1.170</td>\n",
       "      <td>23</td>\n",
       "    </tr>\n",
       "    <tr>\n",
       "      <th>1</th>\n",
       "      <td>abbey</td>\n",
       "      <td>5</td>\n",
       "      <td>3.125</td>\n",
       "      <td>2.342</td>\n",
       "      <td>32</td>\n",
       "      <td>5.781</td>\n",
       "      <td>1.268</td>\n",
       "      <td>32</td>\n",
       "      <td>4.667</td>\n",
       "      <td>1.551</td>\n",
       "      <td>33</td>\n",
       "      <td>5.906</td>\n",
       "      <td>1.508</td>\n",
       "      <td>32</td>\n",
       "      <td>5.344</td>\n",
       "      <td>1.881</td>\n",
       "      <td>32</td>\n",
       "      <td>3.324</td>\n",
       "      <td>1.810</td>\n",
       "      <td>34</td>\n",
       "      <td>5.177</td>\n",
       "      <td>1.339</td>\n",
       "      <td>34</td>\n",
       "      <td>5.121</td>\n",
       "      <td>1.629</td>\n",
       "      <td>33</td>\n",
       "      <td>3.303</td>\n",
       "      <td>1.193</td>\n",
       "      <td>33</td>\n",
       "    </tr>\n",
       "  </tbody>\n",
       "</table>\n",
       "</div>"
      ],
      "text/plain": [
       "               Words             Length   AROU Unnamed: 3_level_0  \\\n",
       "  Unnamed: 0_level_1 Unnamed: 1_level_1      M                 SD   \n",
       "0           abattoir                  8  4.200              2.400   \n",
       "1              abbey                  5  3.125              2.342   \n",
       "\n",
       "  Unnamed: 4_level_0    VAL Unnamed: 6_level_0 Unnamed: 7_level_0    DOM  \\\n",
       "                   N      M                 SD                  N      M   \n",
       "0                 25  2.864              1.740                 22  4.333   \n",
       "1                 32  5.781              1.268                 32  4.667   \n",
       "\n",
       "  Unnamed: 9_level_0 Unnamed: 10_level_0    CNC Unnamed: 12_level_0  \\\n",
       "                  SD                   N      M                  SD   \n",
       "0              1.285                  21  5.455               1.900   \n",
       "1              1.551                  33  5.906               1.508   \n",
       "\n",
       "  Unnamed: 13_level_0   IMAG Unnamed: 15_level_0 Unnamed: 16_level_0    FAM  \\\n",
       "                    N      M                  SD                   N      M   \n",
       "0                  22  4.391               2.121                  23  2.382   \n",
       "1                  32  5.344               1.881                  32  3.324   \n",
       "\n",
       "  Unnamed: 18_level_0 Unnamed: 19_level_0    AOA Unnamed: 21_level_0  \\\n",
       "                   SD                   N      M                  SD   \n",
       "0               1.799                  34  6.760               0.427   \n",
       "1               1.810                  34  5.177               1.339   \n",
       "\n",
       "  Unnamed: 22_level_0   SIZE Unnamed: 24_level_0 Unnamed: 25_level_0   GEND  \\\n",
       "                    N      M                  SD                   N      M   \n",
       "0                  25  4.652               1.549                  23  5.391   \n",
       "1                  34  5.121               1.629                  33  3.303   \n",
       "\n",
       "  Unnamed: 27_level_0 Unnamed: 28_level_0  \n",
       "                   SD                   N  \n",
       "0               1.170                  23  \n",
       "1               1.193                  33  "
      ]
     },
     "execution_count": 7,
     "metadata": {},
     "output_type": "execute_result"
    }
   ],
   "source": [
    "glasgow.head(2)"
   ]
  },
  {
   "cell_type": "markdown",
   "metadata": {},
   "source": [
    "#### DataPrep: adjusting the column/feature label"
   ]
  },
  {
   "cell_type": "code",
   "execution_count": 8,
   "metadata": {
    "ExecuteTime": {
     "end_time": "2022-04-28T22:25:25.610577Z",
     "start_time": "2022-04-28T22:25:25.505273Z"
    }
   },
   "outputs": [],
   "source": [
    "## Reading the dataset file, but now discarding the first header row:\n",
    "glasgow = pd.read_csv('./dataset_GlasgowR/(Glasgow Norms Ratings - Sup Material) 13428_2018_1099_MOESM2_ESM.csv',\n",
    "                     header=[1])"
   ]
  },
  {
   "cell_type": "code",
   "execution_count": 9,
   "metadata": {
    "ExecuteTime": {
     "end_time": "2022-04-28T22:25:25.943161Z",
     "start_time": "2022-04-28T22:25:25.934610Z"
    }
   },
   "outputs": [
    {
     "data": {
      "text/plain": [
       "Index(['Unnamed: 0', 'Unnamed: 1', 'M', 'SD', 'N', 'M.1', 'SD.1', 'N.1', 'M.2',\n",
       "       'SD.2', 'N.2', 'M.3', 'SD.3', 'N.3', 'M.4', 'SD.4', 'N.4', 'M.5',\n",
       "       'SD.5', 'N.5', 'M.6', 'SD.6', 'N.6', 'M.7', 'SD.7', 'N.7', 'M.8',\n",
       "       'SD.8', 'N.8'],\n",
       "      dtype='object')"
      ]
     },
     "execution_count": 9,
     "metadata": {},
     "output_type": "execute_result"
    }
   ],
   "source": [
    "glasgow.columns"
   ]
  },
  {
   "cell_type": "code",
   "execution_count": 10,
   "metadata": {
    "ExecuteTime": {
     "end_time": "2022-04-28T22:25:26.184671Z",
     "start_time": "2022-04-28T22:25:26.174894Z"
    },
    "scrolled": true
   },
   "outputs": [],
   "source": [
    "glasgow.columns = ['words', 'length', \n",
    "                   'AROU_M', 'AROU_SD', 'AROU_N',\n",
    "                   'VAL_M', 'VAL_SD', 'VAL_N',\n",
    "                   'DOM_M', 'DOM_SD', 'DOM_N',\n",
    "                   'CNC_M', 'CNC_SD', 'CNC_N',\n",
    "                   'IMAG_M', 'IMAG_SD', 'IMAG_N',\n",
    "                   'FAM_M', 'FAM_SD', 'FAM_N',\n",
    "                   'AOA_M', 'AOA_SD', 'AOA_N',\n",
    "                   'SIZE_M', 'SIZE_SD', 'SIZE_N',\n",
    "                   'GEND_M', 'GEND_SD', 'GEND_N']"
   ]
  },
  {
   "cell_type": "code",
   "execution_count": 11,
   "metadata": {
    "ExecuteTime": {
     "end_time": "2022-04-28T22:25:26.744807Z",
     "start_time": "2022-04-28T22:25:26.648652Z"
    }
   },
   "outputs": [
    {
     "data": {
      "text/html": [
       "<div>\n",
       "<style scoped>\n",
       "    .dataframe tbody tr th:only-of-type {\n",
       "        vertical-align: middle;\n",
       "    }\n",
       "\n",
       "    .dataframe tbody tr th {\n",
       "        vertical-align: top;\n",
       "    }\n",
       "\n",
       "    .dataframe thead th {\n",
       "        text-align: right;\n",
       "    }\n",
       "</style>\n",
       "<table border=\"1\" class=\"dataframe\">\n",
       "  <thead>\n",
       "    <tr style=\"text-align: right;\">\n",
       "      <th></th>\n",
       "      <th>words</th>\n",
       "      <th>length</th>\n",
       "      <th>AROU_M</th>\n",
       "      <th>AROU_SD</th>\n",
       "      <th>AROU_N</th>\n",
       "      <th>VAL_M</th>\n",
       "      <th>VAL_SD</th>\n",
       "      <th>VAL_N</th>\n",
       "      <th>DOM_M</th>\n",
       "      <th>DOM_SD</th>\n",
       "      <th>DOM_N</th>\n",
       "      <th>CNC_M</th>\n",
       "      <th>CNC_SD</th>\n",
       "      <th>CNC_N</th>\n",
       "      <th>IMAG_M</th>\n",
       "      <th>IMAG_SD</th>\n",
       "      <th>IMAG_N</th>\n",
       "      <th>FAM_M</th>\n",
       "      <th>FAM_SD</th>\n",
       "      <th>FAM_N</th>\n",
       "      <th>AOA_M</th>\n",
       "      <th>AOA_SD</th>\n",
       "      <th>AOA_N</th>\n",
       "      <th>SIZE_M</th>\n",
       "      <th>SIZE_SD</th>\n",
       "      <th>SIZE_N</th>\n",
       "      <th>GEND_M</th>\n",
       "      <th>GEND_SD</th>\n",
       "      <th>GEND_N</th>\n",
       "    </tr>\n",
       "  </thead>\n",
       "  <tbody>\n",
       "    <tr>\n",
       "      <th>0</th>\n",
       "      <td>abattoir</td>\n",
       "      <td>8</td>\n",
       "      <td>4.200</td>\n",
       "      <td>2.400</td>\n",
       "      <td>25</td>\n",
       "      <td>2.864</td>\n",
       "      <td>1.740</td>\n",
       "      <td>22</td>\n",
       "      <td>4.333</td>\n",
       "      <td>1.285</td>\n",
       "      <td>21</td>\n",
       "      <td>5.455</td>\n",
       "      <td>1.900</td>\n",
       "      <td>22</td>\n",
       "      <td>4.391</td>\n",
       "      <td>2.121</td>\n",
       "      <td>23</td>\n",
       "      <td>2.382</td>\n",
       "      <td>1.799</td>\n",
       "      <td>34</td>\n",
       "      <td>6.760</td>\n",
       "      <td>0.427</td>\n",
       "      <td>25</td>\n",
       "      <td>4.652</td>\n",
       "      <td>1.549</td>\n",
       "      <td>23</td>\n",
       "      <td>5.391</td>\n",
       "      <td>1.170</td>\n",
       "      <td>23</td>\n",
       "    </tr>\n",
       "    <tr>\n",
       "      <th>1</th>\n",
       "      <td>abbey</td>\n",
       "      <td>5</td>\n",
       "      <td>3.125</td>\n",
       "      <td>2.342</td>\n",
       "      <td>32</td>\n",
       "      <td>5.781</td>\n",
       "      <td>1.268</td>\n",
       "      <td>32</td>\n",
       "      <td>4.667</td>\n",
       "      <td>1.551</td>\n",
       "      <td>33</td>\n",
       "      <td>5.906</td>\n",
       "      <td>1.508</td>\n",
       "      <td>32</td>\n",
       "      <td>5.344</td>\n",
       "      <td>1.881</td>\n",
       "      <td>32</td>\n",
       "      <td>3.324</td>\n",
       "      <td>1.810</td>\n",
       "      <td>34</td>\n",
       "      <td>5.177</td>\n",
       "      <td>1.339</td>\n",
       "      <td>34</td>\n",
       "      <td>5.121</td>\n",
       "      <td>1.629</td>\n",
       "      <td>33</td>\n",
       "      <td>3.303</td>\n",
       "      <td>1.193</td>\n",
       "      <td>33</td>\n",
       "    </tr>\n",
       "    <tr>\n",
       "      <th>2</th>\n",
       "      <td>abbreviate</td>\n",
       "      <td>10</td>\n",
       "      <td>3.273</td>\n",
       "      <td>1.582</td>\n",
       "      <td>33</td>\n",
       "      <td>5.250</td>\n",
       "      <td>1.031</td>\n",
       "      <td>32</td>\n",
       "      <td>5.235</td>\n",
       "      <td>1.238</td>\n",
       "      <td>34</td>\n",
       "      <td>3.286</td>\n",
       "      <td>1.733</td>\n",
       "      <td>35</td>\n",
       "      <td>3.177</td>\n",
       "      <td>1.689</td>\n",
       "      <td>34</td>\n",
       "      <td>5.121</td>\n",
       "      <td>1.838</td>\n",
       "      <td>33</td>\n",
       "      <td>5.543</td>\n",
       "      <td>1.130</td>\n",
       "      <td>35</td>\n",
       "      <td>2.667</td>\n",
       "      <td>1.700</td>\n",
       "      <td>33</td>\n",
       "      <td>3.971</td>\n",
       "      <td>0.954</td>\n",
       "      <td>34</td>\n",
       "    </tr>\n",
       "    <tr>\n",
       "      <th>3</th>\n",
       "      <td>abdicate</td>\n",
       "      <td>8</td>\n",
       "      <td>4.194</td>\n",
       "      <td>1.941</td>\n",
       "      <td>31</td>\n",
       "      <td>3.767</td>\n",
       "      <td>1.383</td>\n",
       "      <td>30</td>\n",
       "      <td>4.419</td>\n",
       "      <td>2.182</td>\n",
       "      <td>31</td>\n",
       "      <td>3.367</td>\n",
       "      <td>1.853</td>\n",
       "      <td>30</td>\n",
       "      <td>2.516</td>\n",
       "      <td>1.521</td>\n",
       "      <td>31</td>\n",
       "      <td>3.971</td>\n",
       "      <td>2.077</td>\n",
       "      <td>35</td>\n",
       "      <td>6.233</td>\n",
       "      <td>0.844</td>\n",
       "      <td>30</td>\n",
       "      <td>4.679</td>\n",
       "      <td>1.441</td>\n",
       "      <td>28</td>\n",
       "      <td>5.167</td>\n",
       "      <td>1.186</td>\n",
       "      <td>30</td>\n",
       "    </tr>\n",
       "    <tr>\n",
       "      <th>4</th>\n",
       "      <td>abdication</td>\n",
       "      <td>10</td>\n",
       "      <td>3.846</td>\n",
       "      <td>2.282</td>\n",
       "      <td>26</td>\n",
       "      <td>3.880</td>\n",
       "      <td>1.608</td>\n",
       "      <td>25</td>\n",
       "      <td>4.800</td>\n",
       "      <td>1.960</td>\n",
       "      <td>25</td>\n",
       "      <td>3.292</td>\n",
       "      <td>1.620</td>\n",
       "      <td>24</td>\n",
       "      <td>2.571</td>\n",
       "      <td>1.294</td>\n",
       "      <td>28</td>\n",
       "      <td>3.097</td>\n",
       "      <td>2.022</td>\n",
       "      <td>31</td>\n",
       "      <td>6.407</td>\n",
       "      <td>0.913</td>\n",
       "      <td>27</td>\n",
       "      <td>5.083</td>\n",
       "      <td>1.351</td>\n",
       "      <td>24</td>\n",
       "      <td>4.571</td>\n",
       "      <td>1.015</td>\n",
       "      <td>28</td>\n",
       "    </tr>\n",
       "  </tbody>\n",
       "</table>\n",
       "</div>"
      ],
      "text/plain": [
       "        words  length  AROU_M  AROU_SD  AROU_N  VAL_M  VAL_SD  VAL_N  DOM_M  \\\n",
       "0    abattoir       8   4.200    2.400      25  2.864   1.740     22  4.333   \n",
       "1       abbey       5   3.125    2.342      32  5.781   1.268     32  4.667   \n",
       "2  abbreviate      10   3.273    1.582      33  5.250   1.031     32  5.235   \n",
       "3    abdicate       8   4.194    1.941      31  3.767   1.383     30  4.419   \n",
       "4  abdication      10   3.846    2.282      26  3.880   1.608     25  4.800   \n",
       "\n",
       "   DOM_SD  DOM_N  CNC_M  CNC_SD  CNC_N  IMAG_M  IMAG_SD  IMAG_N  FAM_M  \\\n",
       "0   1.285     21  5.455   1.900     22   4.391    2.121      23  2.382   \n",
       "1   1.551     33  5.906   1.508     32   5.344    1.881      32  3.324   \n",
       "2   1.238     34  3.286   1.733     35   3.177    1.689      34  5.121   \n",
       "3   2.182     31  3.367   1.853     30   2.516    1.521      31  3.971   \n",
       "4   1.960     25  3.292   1.620     24   2.571    1.294      28  3.097   \n",
       "\n",
       "   FAM_SD  FAM_N  AOA_M  AOA_SD  AOA_N  SIZE_M  SIZE_SD  SIZE_N  GEND_M  \\\n",
       "0   1.799     34  6.760   0.427     25   4.652    1.549      23   5.391   \n",
       "1   1.810     34  5.177   1.339     34   5.121    1.629      33   3.303   \n",
       "2   1.838     33  5.543   1.130     35   2.667    1.700      33   3.971   \n",
       "3   2.077     35  6.233   0.844     30   4.679    1.441      28   5.167   \n",
       "4   2.022     31  6.407   0.913     27   5.083    1.351      24   4.571   \n",
       "\n",
       "   GEND_SD  GEND_N  \n",
       "0    1.170      23  \n",
       "1    1.193      33  \n",
       "2    0.954      34  \n",
       "3    1.186      30  \n",
       "4    1.015      28  "
      ]
     },
     "execution_count": 11,
     "metadata": {},
     "output_type": "execute_result"
    }
   ],
   "source": [
    "glasgow.head()"
   ]
  },
  {
   "cell_type": "code",
   "execution_count": 12,
   "metadata": {
    "ExecuteTime": {
     "end_time": "2022-04-28T22:25:27.434435Z",
     "start_time": "2022-04-28T22:25:27.155945Z"
    }
   },
   "outputs": [],
   "source": [
    "## Exportando o dataframe ajustado para um arquivo CSV:\n",
    "#glasgow.to_csv('./dataset_GlasgowR/GlasgowR_pandas_ready.csv')"
   ]
  },
  {
   "cell_type": "code",
   "execution_count": 13,
   "metadata": {
    "ExecuteTime": {
     "end_time": "2022-04-28T22:25:28.028879Z",
     "start_time": "2022-04-28T22:25:27.900986Z"
    }
   },
   "outputs": [
    {
     "data": {
      "text/html": [
       "<div>\n",
       "<style scoped>\n",
       "    .dataframe tbody tr th:only-of-type {\n",
       "        vertical-align: middle;\n",
       "    }\n",
       "\n",
       "    .dataframe tbody tr th {\n",
       "        vertical-align: top;\n",
       "    }\n",
       "\n",
       "    .dataframe thead th {\n",
       "        text-align: right;\n",
       "    }\n",
       "</style>\n",
       "<table border=\"1\" class=\"dataframe\">\n",
       "  <thead>\n",
       "    <tr style=\"text-align: right;\">\n",
       "      <th></th>\n",
       "      <th>words</th>\n",
       "      <th>length</th>\n",
       "      <th>AROU_M</th>\n",
       "      <th>AROU_SD</th>\n",
       "      <th>AROU_N</th>\n",
       "      <th>VAL_M</th>\n",
       "      <th>VAL_SD</th>\n",
       "      <th>VAL_N</th>\n",
       "      <th>DOM_M</th>\n",
       "      <th>DOM_SD</th>\n",
       "      <th>DOM_N</th>\n",
       "      <th>CNC_M</th>\n",
       "      <th>CNC_SD</th>\n",
       "      <th>CNC_N</th>\n",
       "      <th>IMAG_M</th>\n",
       "      <th>IMAG_SD</th>\n",
       "      <th>IMAG_N</th>\n",
       "      <th>FAM_M</th>\n",
       "      <th>FAM_SD</th>\n",
       "      <th>FAM_N</th>\n",
       "      <th>AOA_M</th>\n",
       "      <th>AOA_SD</th>\n",
       "      <th>AOA_N</th>\n",
       "      <th>SIZE_M</th>\n",
       "      <th>SIZE_SD</th>\n",
       "      <th>SIZE_N</th>\n",
       "      <th>GEND_M</th>\n",
       "      <th>GEND_SD</th>\n",
       "      <th>GEND_N</th>\n",
       "    </tr>\n",
       "  </thead>\n",
       "  <tbody>\n",
       "    <tr>\n",
       "      <th>0</th>\n",
       "      <td>abattoir</td>\n",
       "      <td>8</td>\n",
       "      <td>4.200</td>\n",
       "      <td>2.400</td>\n",
       "      <td>25</td>\n",
       "      <td>2.864</td>\n",
       "      <td>1.740</td>\n",
       "      <td>22</td>\n",
       "      <td>4.333</td>\n",
       "      <td>1.285</td>\n",
       "      <td>21</td>\n",
       "      <td>5.455</td>\n",
       "      <td>1.900</td>\n",
       "      <td>22</td>\n",
       "      <td>4.391</td>\n",
       "      <td>2.121</td>\n",
       "      <td>23</td>\n",
       "      <td>2.382</td>\n",
       "      <td>1.799</td>\n",
       "      <td>34</td>\n",
       "      <td>6.760</td>\n",
       "      <td>0.427</td>\n",
       "      <td>25</td>\n",
       "      <td>4.652</td>\n",
       "      <td>1.549</td>\n",
       "      <td>23</td>\n",
       "      <td>5.391</td>\n",
       "      <td>1.170</td>\n",
       "      <td>23</td>\n",
       "    </tr>\n",
       "    <tr>\n",
       "      <th>1</th>\n",
       "      <td>abbey</td>\n",
       "      <td>5</td>\n",
       "      <td>3.125</td>\n",
       "      <td>2.342</td>\n",
       "      <td>32</td>\n",
       "      <td>5.781</td>\n",
       "      <td>1.268</td>\n",
       "      <td>32</td>\n",
       "      <td>4.667</td>\n",
       "      <td>1.551</td>\n",
       "      <td>33</td>\n",
       "      <td>5.906</td>\n",
       "      <td>1.508</td>\n",
       "      <td>32</td>\n",
       "      <td>5.344</td>\n",
       "      <td>1.881</td>\n",
       "      <td>32</td>\n",
       "      <td>3.324</td>\n",
       "      <td>1.810</td>\n",
       "      <td>34</td>\n",
       "      <td>5.177</td>\n",
       "      <td>1.339</td>\n",
       "      <td>34</td>\n",
       "      <td>5.121</td>\n",
       "      <td>1.629</td>\n",
       "      <td>33</td>\n",
       "      <td>3.303</td>\n",
       "      <td>1.193</td>\n",
       "      <td>33</td>\n",
       "    </tr>\n",
       "    <tr>\n",
       "      <th>2</th>\n",
       "      <td>abbreviate</td>\n",
       "      <td>10</td>\n",
       "      <td>3.273</td>\n",
       "      <td>1.582</td>\n",
       "      <td>33</td>\n",
       "      <td>5.250</td>\n",
       "      <td>1.031</td>\n",
       "      <td>32</td>\n",
       "      <td>5.235</td>\n",
       "      <td>1.238</td>\n",
       "      <td>34</td>\n",
       "      <td>3.286</td>\n",
       "      <td>1.733</td>\n",
       "      <td>35</td>\n",
       "      <td>3.177</td>\n",
       "      <td>1.689</td>\n",
       "      <td>34</td>\n",
       "      <td>5.121</td>\n",
       "      <td>1.838</td>\n",
       "      <td>33</td>\n",
       "      <td>5.543</td>\n",
       "      <td>1.130</td>\n",
       "      <td>35</td>\n",
       "      <td>2.667</td>\n",
       "      <td>1.700</td>\n",
       "      <td>33</td>\n",
       "      <td>3.971</td>\n",
       "      <td>0.954</td>\n",
       "      <td>34</td>\n",
       "    </tr>\n",
       "    <tr>\n",
       "      <th>3</th>\n",
       "      <td>abdicate</td>\n",
       "      <td>8</td>\n",
       "      <td>4.194</td>\n",
       "      <td>1.941</td>\n",
       "      <td>31</td>\n",
       "      <td>3.767</td>\n",
       "      <td>1.383</td>\n",
       "      <td>30</td>\n",
       "      <td>4.419</td>\n",
       "      <td>2.182</td>\n",
       "      <td>31</td>\n",
       "      <td>3.367</td>\n",
       "      <td>1.853</td>\n",
       "      <td>30</td>\n",
       "      <td>2.516</td>\n",
       "      <td>1.521</td>\n",
       "      <td>31</td>\n",
       "      <td>3.971</td>\n",
       "      <td>2.077</td>\n",
       "      <td>35</td>\n",
       "      <td>6.233</td>\n",
       "      <td>0.844</td>\n",
       "      <td>30</td>\n",
       "      <td>4.679</td>\n",
       "      <td>1.441</td>\n",
       "      <td>28</td>\n",
       "      <td>5.167</td>\n",
       "      <td>1.186</td>\n",
       "      <td>30</td>\n",
       "    </tr>\n",
       "    <tr>\n",
       "      <th>4</th>\n",
       "      <td>abdication</td>\n",
       "      <td>10</td>\n",
       "      <td>3.846</td>\n",
       "      <td>2.282</td>\n",
       "      <td>26</td>\n",
       "      <td>3.880</td>\n",
       "      <td>1.608</td>\n",
       "      <td>25</td>\n",
       "      <td>4.800</td>\n",
       "      <td>1.960</td>\n",
       "      <td>25</td>\n",
       "      <td>3.292</td>\n",
       "      <td>1.620</td>\n",
       "      <td>24</td>\n",
       "      <td>2.571</td>\n",
       "      <td>1.294</td>\n",
       "      <td>28</td>\n",
       "      <td>3.097</td>\n",
       "      <td>2.022</td>\n",
       "      <td>31</td>\n",
       "      <td>6.407</td>\n",
       "      <td>0.913</td>\n",
       "      <td>27</td>\n",
       "      <td>5.083</td>\n",
       "      <td>1.351</td>\n",
       "      <td>24</td>\n",
       "      <td>4.571</td>\n",
       "      <td>1.015</td>\n",
       "      <td>28</td>\n",
       "    </tr>\n",
       "    <tr>\n",
       "      <th>...</th>\n",
       "      <td>...</td>\n",
       "      <td>...</td>\n",
       "      <td>...</td>\n",
       "      <td>...</td>\n",
       "      <td>...</td>\n",
       "      <td>...</td>\n",
       "      <td>...</td>\n",
       "      <td>...</td>\n",
       "      <td>...</td>\n",
       "      <td>...</td>\n",
       "      <td>...</td>\n",
       "      <td>...</td>\n",
       "      <td>...</td>\n",
       "      <td>...</td>\n",
       "      <td>...</td>\n",
       "      <td>...</td>\n",
       "      <td>...</td>\n",
       "      <td>...</td>\n",
       "      <td>...</td>\n",
       "      <td>...</td>\n",
       "      <td>...</td>\n",
       "      <td>...</td>\n",
       "      <td>...</td>\n",
       "      <td>...</td>\n",
       "      <td>...</td>\n",
       "      <td>...</td>\n",
       "      <td>...</td>\n",
       "      <td>...</td>\n",
       "      <td>...</td>\n",
       "    </tr>\n",
       "    <tr>\n",
       "      <th>5548</th>\n",
       "      <td>zeppelin</td>\n",
       "      <td>8</td>\n",
       "      <td>6.185</td>\n",
       "      <td>2.037</td>\n",
       "      <td>27</td>\n",
       "      <td>5.000</td>\n",
       "      <td>1.414</td>\n",
       "      <td>27</td>\n",
       "      <td>5.333</td>\n",
       "      <td>1.743</td>\n",
       "      <td>27</td>\n",
       "      <td>6.286</td>\n",
       "      <td>0.920</td>\n",
       "      <td>28</td>\n",
       "      <td>6.185</td>\n",
       "      <td>1.123</td>\n",
       "      <td>27</td>\n",
       "      <td>3.167</td>\n",
       "      <td>2.115</td>\n",
       "      <td>30</td>\n",
       "      <td>6.036</td>\n",
       "      <td>0.944</td>\n",
       "      <td>28</td>\n",
       "      <td>5.464</td>\n",
       "      <td>1.721</td>\n",
       "      <td>28</td>\n",
       "      <td>5.269</td>\n",
       "      <td>1.021</td>\n",
       "      <td>26</td>\n",
       "    </tr>\n",
       "    <tr>\n",
       "      <th>5549</th>\n",
       "      <td>zero</td>\n",
       "      <td>4</td>\n",
       "      <td>4.031</td>\n",
       "      <td>2.023</td>\n",
       "      <td>32</td>\n",
       "      <td>4.182</td>\n",
       "      <td>1.585</td>\n",
       "      <td>33</td>\n",
       "      <td>4.567</td>\n",
       "      <td>2.124</td>\n",
       "      <td>30</td>\n",
       "      <td>2.688</td>\n",
       "      <td>1.895</td>\n",
       "      <td>32</td>\n",
       "      <td>3.903</td>\n",
       "      <td>2.347</td>\n",
       "      <td>31</td>\n",
       "      <td>6.269</td>\n",
       "      <td>1.195</td>\n",
       "      <td>26</td>\n",
       "      <td>2.636</td>\n",
       "      <td>1.123</td>\n",
       "      <td>33</td>\n",
       "      <td>1.758</td>\n",
       "      <td>1.393</td>\n",
       "      <td>33</td>\n",
       "      <td>4.172</td>\n",
       "      <td>0.647</td>\n",
       "      <td>29</td>\n",
       "    </tr>\n",
       "    <tr>\n",
       "      <th>5550</th>\n",
       "      <td>zest</td>\n",
       "      <td>4</td>\n",
       "      <td>5.969</td>\n",
       "      <td>2.158</td>\n",
       "      <td>32</td>\n",
       "      <td>6.818</td>\n",
       "      <td>1.313</td>\n",
       "      <td>33</td>\n",
       "      <td>6.121</td>\n",
       "      <td>1.320</td>\n",
       "      <td>33</td>\n",
       "      <td>4.438</td>\n",
       "      <td>1.694</td>\n",
       "      <td>32</td>\n",
       "      <td>4.033</td>\n",
       "      <td>1.622</td>\n",
       "      <td>30</td>\n",
       "      <td>4.000</td>\n",
       "      <td>1.626</td>\n",
       "      <td>31</td>\n",
       "      <td>5.364</td>\n",
       "      <td>1.123</td>\n",
       "      <td>33</td>\n",
       "      <td>2.636</td>\n",
       "      <td>1.738</td>\n",
       "      <td>33</td>\n",
       "      <td>3.452</td>\n",
       "      <td>1.011</td>\n",
       "      <td>31</td>\n",
       "    </tr>\n",
       "    <tr>\n",
       "      <th>5551</th>\n",
       "      <td>zoo</td>\n",
       "      <td>3</td>\n",
       "      <td>5.909</td>\n",
       "      <td>2.137</td>\n",
       "      <td>33</td>\n",
       "      <td>6.235</td>\n",
       "      <td>1.800</td>\n",
       "      <td>34</td>\n",
       "      <td>5.485</td>\n",
       "      <td>1.598</td>\n",
       "      <td>33</td>\n",
       "      <td>6.118</td>\n",
       "      <td>1.105</td>\n",
       "      <td>34</td>\n",
       "      <td>6.441</td>\n",
       "      <td>1.006</td>\n",
       "      <td>34</td>\n",
       "      <td>5.655</td>\n",
       "      <td>1.747</td>\n",
       "      <td>29</td>\n",
       "      <td>2.324</td>\n",
       "      <td>0.674</td>\n",
       "      <td>34</td>\n",
       "      <td>4.844</td>\n",
       "      <td>1.873</td>\n",
       "      <td>32</td>\n",
       "      <td>4.059</td>\n",
       "      <td>0.802</td>\n",
       "      <td>34</td>\n",
       "    </tr>\n",
       "    <tr>\n",
       "      <th>5552</th>\n",
       "      <td>zoology</td>\n",
       "      <td>7</td>\n",
       "      <td>4.571</td>\n",
       "      <td>2.060</td>\n",
       "      <td>35</td>\n",
       "      <td>5.765</td>\n",
       "      <td>0.972</td>\n",
       "      <td>34</td>\n",
       "      <td>5.114</td>\n",
       "      <td>1.545</td>\n",
       "      <td>35</td>\n",
       "      <td>4.429</td>\n",
       "      <td>1.841</td>\n",
       "      <td>35</td>\n",
       "      <td>3.914</td>\n",
       "      <td>1.481</td>\n",
       "      <td>35</td>\n",
       "      <td>4.382</td>\n",
       "      <td>1.956</td>\n",
       "      <td>34</td>\n",
       "      <td>5.824</td>\n",
       "      <td>1.150</td>\n",
       "      <td>34</td>\n",
       "      <td>4.571</td>\n",
       "      <td>1.609</td>\n",
       "      <td>35</td>\n",
       "      <td>3.657</td>\n",
       "      <td>1.068</td>\n",
       "      <td>35</td>\n",
       "    </tr>\n",
       "  </tbody>\n",
       "</table>\n",
       "<p>5553 rows × 29 columns</p>\n",
       "</div>"
      ],
      "text/plain": [
       "           words  length  AROU_M  AROU_SD  AROU_N  VAL_M  VAL_SD  VAL_N  \\\n",
       "0       abattoir       8   4.200    2.400      25  2.864   1.740     22   \n",
       "1          abbey       5   3.125    2.342      32  5.781   1.268     32   \n",
       "2     abbreviate      10   3.273    1.582      33  5.250   1.031     32   \n",
       "3       abdicate       8   4.194    1.941      31  3.767   1.383     30   \n",
       "4     abdication      10   3.846    2.282      26  3.880   1.608     25   \n",
       "...          ...     ...     ...      ...     ...    ...     ...    ...   \n",
       "5548    zeppelin       8   6.185    2.037      27  5.000   1.414     27   \n",
       "5549        zero       4   4.031    2.023      32  4.182   1.585     33   \n",
       "5550        zest       4   5.969    2.158      32  6.818   1.313     33   \n",
       "5551         zoo       3   5.909    2.137      33  6.235   1.800     34   \n",
       "5552     zoology       7   4.571    2.060      35  5.765   0.972     34   \n",
       "\n",
       "      DOM_M  DOM_SD  DOM_N  CNC_M  CNC_SD  CNC_N  IMAG_M  IMAG_SD  IMAG_N  \\\n",
       "0     4.333   1.285     21  5.455   1.900     22   4.391    2.121      23   \n",
       "1     4.667   1.551     33  5.906   1.508     32   5.344    1.881      32   \n",
       "2     5.235   1.238     34  3.286   1.733     35   3.177    1.689      34   \n",
       "3     4.419   2.182     31  3.367   1.853     30   2.516    1.521      31   \n",
       "4     4.800   1.960     25  3.292   1.620     24   2.571    1.294      28   \n",
       "...     ...     ...    ...    ...     ...    ...     ...      ...     ...   \n",
       "5548  5.333   1.743     27  6.286   0.920     28   6.185    1.123      27   \n",
       "5549  4.567   2.124     30  2.688   1.895     32   3.903    2.347      31   \n",
       "5550  6.121   1.320     33  4.438   1.694     32   4.033    1.622      30   \n",
       "5551  5.485   1.598     33  6.118   1.105     34   6.441    1.006      34   \n",
       "5552  5.114   1.545     35  4.429   1.841     35   3.914    1.481      35   \n",
       "\n",
       "      FAM_M  FAM_SD  FAM_N  AOA_M  AOA_SD  AOA_N  SIZE_M  SIZE_SD  SIZE_N  \\\n",
       "0     2.382   1.799     34  6.760   0.427     25   4.652    1.549      23   \n",
       "1     3.324   1.810     34  5.177   1.339     34   5.121    1.629      33   \n",
       "2     5.121   1.838     33  5.543   1.130     35   2.667    1.700      33   \n",
       "3     3.971   2.077     35  6.233   0.844     30   4.679    1.441      28   \n",
       "4     3.097   2.022     31  6.407   0.913     27   5.083    1.351      24   \n",
       "...     ...     ...    ...    ...     ...    ...     ...      ...     ...   \n",
       "5548  3.167   2.115     30  6.036   0.944     28   5.464    1.721      28   \n",
       "5549  6.269   1.195     26  2.636   1.123     33   1.758    1.393      33   \n",
       "5550  4.000   1.626     31  5.364   1.123     33   2.636    1.738      33   \n",
       "5551  5.655   1.747     29  2.324   0.674     34   4.844    1.873      32   \n",
       "5552  4.382   1.956     34  5.824   1.150     34   4.571    1.609      35   \n",
       "\n",
       "      GEND_M  GEND_SD  GEND_N  \n",
       "0      5.391    1.170      23  \n",
       "1      3.303    1.193      33  \n",
       "2      3.971    0.954      34  \n",
       "3      5.167    1.186      30  \n",
       "4      4.571    1.015      28  \n",
       "...      ...      ...     ...  \n",
       "5548   5.269    1.021      26  \n",
       "5549   4.172    0.647      29  \n",
       "5550   3.452    1.011      31  \n",
       "5551   4.059    0.802      34  \n",
       "5552   3.657    1.068      35  \n",
       "\n",
       "[5553 rows x 29 columns]"
      ]
     },
     "execution_count": 13,
     "metadata": {},
     "output_type": "execute_result"
    }
   ],
   "source": [
    "glasgow"
   ]
  },
  {
   "cell_type": "markdown",
   "metadata": {},
   "source": [
    "### Setting the columns \"words\" as dataframe index:"
   ]
  },
  {
   "cell_type": "code",
   "execution_count": 14,
   "metadata": {},
   "outputs": [],
   "source": [
    "glasgow.set_index('words', inplace=True)"
   ]
  },
  {
   "cell_type": "markdown",
   "metadata": {},
   "source": [
    "----\n",
    "## Correlation Analysis of the mean of psycholinguistics dimensions"
   ]
  },
  {
   "cell_type": "markdown",
   "metadata": {},
   "source": [
    "### Selecting only columns related to _M (mean) for Correlation Analysis"
   ]
  },
  {
   "cell_type": "code",
   "execution_count": 24,
   "metadata": {},
   "outputs": [],
   "source": [
    "import re"
   ]
  },
  {
   "cell_type": "code",
   "execution_count": 25,
   "metadata": {
    "ExecuteTime": {
     "end_time": "2022-04-28T22:26:18.492577Z",
     "start_time": "2022-04-28T22:26:18.488063Z"
    },
    "scrolled": true
   },
   "outputs": [],
   "source": [
    "## Listing only columns related to _M (mean) and _SD (standard deviation)\n",
    "interest = ['AROU_M', 'AROU_SD',\n",
    "                   'VAL_M', 'VAL_SD',\n",
    "                   'DOM_M', 'DOM_SD',\n",
    "                   'CNC_M', 'CNC_SD',\n",
    "                   'IMAG_M', 'IMAG_SD',\n",
    "                   'FAM_M', 'FAM_SD',\n",
    "                   'AOA_M', 'AOA_SD',\n",
    "                   'SIZE_M', 'SIZE_SD',\n",
    "                   'GEND_M', 'GEND_SD']"
   ]
  },
  {
   "cell_type": "code",
   "execution_count": 26,
   "metadata": {},
   "outputs": [
    {
     "name": "stdout",
     "output_type": "stream",
     "text": [
      "['AROU_M', 'VAL_M', 'DOM_M', 'CNC_M', 'IMAG_M', 'FAM_M', 'AOA_M', 'SIZE_M', 'GEND_M']\n"
     ]
    }
   ],
   "source": [
    "tmp_pattern = re.compile(r'.*_M$')\n",
    "tmp_M_parameters = list(filter(tmp_pattern.match, interest))\n",
    "\n",
    "print(tmp_M_parameters)"
   ]
  },
  {
   "cell_type": "code",
   "execution_count": 27,
   "metadata": {},
   "outputs": [],
   "source": [
    "M_words = glasgow[tmp_M_parameters]"
   ]
  },
  {
   "cell_type": "code",
   "execution_count": 28,
   "metadata": {},
   "outputs": [
    {
     "data": {
      "text/html": [
       "<div>\n",
       "<style scoped>\n",
       "    .dataframe tbody tr th:only-of-type {\n",
       "        vertical-align: middle;\n",
       "    }\n",
       "\n",
       "    .dataframe tbody tr th {\n",
       "        vertical-align: top;\n",
       "    }\n",
       "\n",
       "    .dataframe thead th {\n",
       "        text-align: right;\n",
       "    }\n",
       "</style>\n",
       "<table border=\"1\" class=\"dataframe\">\n",
       "  <thead>\n",
       "    <tr style=\"text-align: right;\">\n",
       "      <th></th>\n",
       "      <th>AROU_M</th>\n",
       "      <th>VAL_M</th>\n",
       "      <th>DOM_M</th>\n",
       "      <th>CNC_M</th>\n",
       "      <th>IMAG_M</th>\n",
       "      <th>FAM_M</th>\n",
       "      <th>AOA_M</th>\n",
       "      <th>SIZE_M</th>\n",
       "      <th>GEND_M</th>\n",
       "    </tr>\n",
       "    <tr>\n",
       "      <th>words</th>\n",
       "      <th></th>\n",
       "      <th></th>\n",
       "      <th></th>\n",
       "      <th></th>\n",
       "      <th></th>\n",
       "      <th></th>\n",
       "      <th></th>\n",
       "      <th></th>\n",
       "      <th></th>\n",
       "    </tr>\n",
       "  </thead>\n",
       "  <tbody>\n",
       "    <tr>\n",
       "      <th>abattoir</th>\n",
       "      <td>4.200</td>\n",
       "      <td>2.864</td>\n",
       "      <td>4.333</td>\n",
       "      <td>5.455</td>\n",
       "      <td>4.391</td>\n",
       "      <td>2.382</td>\n",
       "      <td>6.760</td>\n",
       "      <td>4.652</td>\n",
       "      <td>5.391</td>\n",
       "    </tr>\n",
       "    <tr>\n",
       "      <th>abbey</th>\n",
       "      <td>3.125</td>\n",
       "      <td>5.781</td>\n",
       "      <td>4.667</td>\n",
       "      <td>5.906</td>\n",
       "      <td>5.344</td>\n",
       "      <td>3.324</td>\n",
       "      <td>5.177</td>\n",
       "      <td>5.121</td>\n",
       "      <td>3.303</td>\n",
       "    </tr>\n",
       "    <tr>\n",
       "      <th>abbreviate</th>\n",
       "      <td>3.273</td>\n",
       "      <td>5.250</td>\n",
       "      <td>5.235</td>\n",
       "      <td>3.286</td>\n",
       "      <td>3.177</td>\n",
       "      <td>5.121</td>\n",
       "      <td>5.543</td>\n",
       "      <td>2.667</td>\n",
       "      <td>3.971</td>\n",
       "    </tr>\n",
       "    <tr>\n",
       "      <th>abdicate</th>\n",
       "      <td>4.194</td>\n",
       "      <td>3.767</td>\n",
       "      <td>4.419</td>\n",
       "      <td>3.367</td>\n",
       "      <td>2.516</td>\n",
       "      <td>3.971</td>\n",
       "      <td>6.233</td>\n",
       "      <td>4.679</td>\n",
       "      <td>5.167</td>\n",
       "    </tr>\n",
       "    <tr>\n",
       "      <th>abdication</th>\n",
       "      <td>3.846</td>\n",
       "      <td>3.880</td>\n",
       "      <td>4.800</td>\n",
       "      <td>3.292</td>\n",
       "      <td>2.571</td>\n",
       "      <td>3.097</td>\n",
       "      <td>6.407</td>\n",
       "      <td>5.083</td>\n",
       "      <td>4.571</td>\n",
       "    </tr>\n",
       "    <tr>\n",
       "      <th>...</th>\n",
       "      <td>...</td>\n",
       "      <td>...</td>\n",
       "      <td>...</td>\n",
       "      <td>...</td>\n",
       "      <td>...</td>\n",
       "      <td>...</td>\n",
       "      <td>...</td>\n",
       "      <td>...</td>\n",
       "      <td>...</td>\n",
       "    </tr>\n",
       "    <tr>\n",
       "      <th>zeppelin</th>\n",
       "      <td>6.185</td>\n",
       "      <td>5.000</td>\n",
       "      <td>5.333</td>\n",
       "      <td>6.286</td>\n",
       "      <td>6.185</td>\n",
       "      <td>3.167</td>\n",
       "      <td>6.036</td>\n",
       "      <td>5.464</td>\n",
       "      <td>5.269</td>\n",
       "    </tr>\n",
       "    <tr>\n",
       "      <th>zero</th>\n",
       "      <td>4.031</td>\n",
       "      <td>4.182</td>\n",
       "      <td>4.567</td>\n",
       "      <td>2.688</td>\n",
       "      <td>3.903</td>\n",
       "      <td>6.269</td>\n",
       "      <td>2.636</td>\n",
       "      <td>1.758</td>\n",
       "      <td>4.172</td>\n",
       "    </tr>\n",
       "    <tr>\n",
       "      <th>zest</th>\n",
       "      <td>5.969</td>\n",
       "      <td>6.818</td>\n",
       "      <td>6.121</td>\n",
       "      <td>4.438</td>\n",
       "      <td>4.033</td>\n",
       "      <td>4.000</td>\n",
       "      <td>5.364</td>\n",
       "      <td>2.636</td>\n",
       "      <td>3.452</td>\n",
       "    </tr>\n",
       "    <tr>\n",
       "      <th>zoo</th>\n",
       "      <td>5.909</td>\n",
       "      <td>6.235</td>\n",
       "      <td>5.485</td>\n",
       "      <td>6.118</td>\n",
       "      <td>6.441</td>\n",
       "      <td>5.655</td>\n",
       "      <td>2.324</td>\n",
       "      <td>4.844</td>\n",
       "      <td>4.059</td>\n",
       "    </tr>\n",
       "    <tr>\n",
       "      <th>zoology</th>\n",
       "      <td>4.571</td>\n",
       "      <td>5.765</td>\n",
       "      <td>5.114</td>\n",
       "      <td>4.429</td>\n",
       "      <td>3.914</td>\n",
       "      <td>4.382</td>\n",
       "      <td>5.824</td>\n",
       "      <td>4.571</td>\n",
       "      <td>3.657</td>\n",
       "    </tr>\n",
       "  </tbody>\n",
       "</table>\n",
       "<p>5553 rows × 9 columns</p>\n",
       "</div>"
      ],
      "text/plain": [
       "            AROU_M  VAL_M  DOM_M  CNC_M  IMAG_M  FAM_M  AOA_M  SIZE_M  GEND_M\n",
       "words                                                                        \n",
       "abattoir     4.200  2.864  4.333  5.455   4.391  2.382  6.760   4.652   5.391\n",
       "abbey        3.125  5.781  4.667  5.906   5.344  3.324  5.177   5.121   3.303\n",
       "abbreviate   3.273  5.250  5.235  3.286   3.177  5.121  5.543   2.667   3.971\n",
       "abdicate     4.194  3.767  4.419  3.367   2.516  3.971  6.233   4.679   5.167\n",
       "abdication   3.846  3.880  4.800  3.292   2.571  3.097  6.407   5.083   4.571\n",
       "...            ...    ...    ...    ...     ...    ...    ...     ...     ...\n",
       "zeppelin     6.185  5.000  5.333  6.286   6.185  3.167  6.036   5.464   5.269\n",
       "zero         4.031  4.182  4.567  2.688   3.903  6.269  2.636   1.758   4.172\n",
       "zest         5.969  6.818  6.121  4.438   4.033  4.000  5.364   2.636   3.452\n",
       "zoo          5.909  6.235  5.485  6.118   6.441  5.655  2.324   4.844   4.059\n",
       "zoology      4.571  5.765  5.114  4.429   3.914  4.382  5.824   4.571   3.657\n",
       "\n",
       "[5553 rows x 9 columns]"
      ]
     },
     "execution_count": 28,
     "metadata": {},
     "output_type": "execute_result"
    }
   ],
   "source": [
    "M_words"
   ]
  },
  {
   "cell_type": "code",
   "execution_count": 29,
   "metadata": {},
   "outputs": [
    {
     "data": {
      "text/plain": [
       "<AxesSubplot: >"
      ]
     },
     "execution_count": 29,
     "metadata": {},
     "output_type": "execute_result"
    },
    {
     "data": {
      "image/png": "[encoded data removed]",
      "text/plain": [
       "<Figure size 2000x1000 with 2 Axes>"
      ]
     },
     "metadata": {},
     "output_type": "display_data"
    }
   ],
   "source": [
    "## Plotting the correlation map only for Mean values\n",
    "plt.figure(figsize=(20,10))\n",
    "c= M_words.corr()\n",
    "sns.heatmap(c)"
   ]
  },
  {
   "cell_type": "code",
   "execution_count": null,
   "metadata": {},
   "outputs": [],
   "source": []
  },
  {
   "cell_type": "markdown",
   "metadata": {
    "tags": []
   },
   "source": [
    "-----\n",
    "### Visualizing features with confidence interval:"
   ]
  },
  {
   "cell_type": "code",
   "execution_count": 56,
   "metadata": {},
   "outputs": [],
   "source": [
    "import plotly.graph_objects as go\n",
    "import plotly.colors as pc\n",
    "\n",
    "import cufflinks as cf\n",
    "\n",
    "\n",
    "def viz_GlasgowR(words=['dog', 'cat'], dataframe=None):\n",
    "    '''Visualiza as features psicolínguisticas de uma lista de palavras a partir \n",
    "    dos parâmetros dispostos no The Glasgow Norm, já carregados no dataframe \"words\". \n",
    "    Sintaxe: viz_GlasgowR(words, dataframe), onde:\n",
    "        words = lista de strings contidas no dicionário/base Glasgow Rate.\n",
    "        dataframe = DataFrame contendo os dados.\n",
    "        \n",
    "    Updated: 2023.08.26 - Adding alpha channel to plot standard deviation.\n",
    "    '''\n",
    "    if dataframe is None:\n",
    "        raise ValueError(\"You need to provide a DataFrame containing the data.\")\n",
    "\n",
    "    ## Eixo-x, numérico:\n",
    "    x = [1, 2, 3, 4, 5, 6, 7, 8, 9]\n",
    "    ## Rótulo do eixo-x:\n",
    "    xticks = ['AROU', 'VAL', 'DOM', 'CNC', 'IMAG', 'FAM', 'AOA', 'SIZE', 'GEND']\n",
    "    ## Labels a serem buscados no dicionário Glasgow:\n",
    "    label_M = ['AROU_M', 'VAL_M', 'DOM_M', 'CNC_M', 'IMAG_M', 'FAM_M', 'AOA_M', 'SIZE_M', 'GEND_M']\n",
    "    label_SD = ['AROU_SD', 'VAL_SD', 'DOM_SD', 'CNC_SD', 'IMAG_SD', 'FAM_SD', 'AOA_SD', 'SIZE_SD', 'GEND_M']\n",
    "    \n",
    "    # Generate a list of unique colors using Plotly's color scales\n",
    "    num_colors = len(words)\n",
    "    colors = pc.qualitative.Plotly[:num_colors]\n",
    "    \n",
    "    fig = go.Figure()\n",
    "\n",
    "    for word, color in zip(words, colors):\n",
    "        if word in dataframe.index:\n",
    "            feat_M = list(dataframe.loc[word][label_M])\n",
    "            feat_SD = list(dataframe.loc[word][label_SD])\n",
    "            y_upper = [a + b for a, b in zip(feat_M, feat_SD)]\n",
    "            y_lower = [a - b for a, b in zip(feat_M, feat_SD)]\n",
    "\n",
    "            fig.add_trace(go.Scatter(\n",
    "                x=x,\n",
    "                y=feat_M,\n",
    "                line=dict(color=color),  # Assign a unique color to each word\n",
    "                mode='lines',\n",
    "                name=word,\n",
    "                showlegend=True\n",
    "            ))\n",
    "\n",
    "            fig.add_trace(go.Scatter(\n",
    "                x=x + x[::-1],  # x, then x reversed\n",
    "                y=y_upper + y_lower[::-1],  # upper, then lower reversed\n",
    "                fill='toself',\n",
    "                # fillcolor='rgba(0,100,80,0.2)',\n",
    "                # HEX to RGBA (transparency)\n",
    "                fillcolor=cf.colors.to_rgba(color,.2),\n",
    "                line=dict(color='rgba(255,255,255,0)'),\n",
    "                hoverinfo=\"skip\",\n",
    "                showlegend=False\n",
    "            ))\n",
    "        \n",
    "    ## Atualizando o xtick label a partir do nome das colunas:\n",
    "    fig.update_layout(\n",
    "        xaxis=dict(\n",
    "            tickmode='array',\n",
    "            tickvals=[1, 2, 3, 4, 5, 6, 7, 8, 9],\n",
    "            ticktext=xticks\n",
    "        )\n",
    "    )\n",
    "    \n",
    "    return fig"
   ]
  },
  {
   "cell_type": "code",
   "execution_count": null,
   "metadata": {},
   "outputs": [],
   "source": []
  },
  {
   "cell_type": "code",
   "execution_count": 61,
   "metadata": {},
   "outputs": [
    {
     "data": {
      "application/vnd.plotly.v1+json": {
       "config": {
        "plotlyServerURL": "https://plot.ly"
       },
       "data": [
        {
         "line": {
          "color": "#636EFA"
         },
         "mode": "lines",
         "name": "dog",
         "showlegend": true,
         "type": "scatter",
         "x": [
          1,
          2,
          3,
          4,
          5,
          6,
          7,
          8,
          9
         ],
         "y": [
          6.147,
          7.067,
          6.242,
          6.833,
          6.889,
          6.84,
          1.735,
          3.273,
          4.606
         ]
        },
        {
         "fill": "toself",
         "fillcolor": "rgba(99, 110, 250, 0.2)",
         "hoverinfo": "skip",
         "line": {
          "color": "rgba(255,255,255,0)"
         },
         "showlegend": false,
         "type": "scatter",
         "x": [
          1,
          2,
          3,
          4,
          5,
          6,
          7,
          8,
          9,
          9,
          8,
          7,
          6,
          5,
          4,
          3,
          2,
          1
         ],
         "y": [
          8.332,
          8.304,
          8.035,
          7.2860000000000005,
          7.203,
          7.303,
          2.391,
          4.511,
          9.212,
          0,
          2.035,
          1.0790000000000002,
          6.377,
          6.575,
          6.38,
          4.449,
          5.83,
          3.962
         ]
        },
        {
         "line": {
          "color": "#EF553B"
         },
         "mode": "lines",
         "name": "cat",
         "showlegend": true,
         "type": "scatter",
         "x": [
          1,
          2,
          3,
          4,
          5,
          6,
          7,
          8,
          9
         ],
         "y": [
          3.97,
          5.939,
          5.091,
          6.548,
          6.774,
          6.375,
          1.743,
          2.546,
          2.727
         ]
        },
        {
         "fill": "toself",
         "fillcolor": "rgba(239, 85, 59, 0.2)",
         "hoverinfo": "skip",
         "line": {
          "color": "rgba(255,255,255,0)"
         },
         "showlegend": false,
         "type": "scatter",
         "x": [
          1,
          2,
          3,
          4,
          5,
          6,
          7,
          8,
          9,
          9,
          8,
          7,
          6,
          5,
          4,
          3,
          2,
          1
         ],
         "y": [
          6.616,
          7.571,
          6.6930000000000005,
          7.422,
          7.479,
          7.716,
          2.821,
          4.025,
          5.454,
          0,
          1.0669999999999997,
          0.665,
          5.034,
          6.069,
          5.674,
          3.489,
          4.307,
          1.3240000000000003
         ]
        }
       ],
       "layout": {
        "autosize": true,
        "template": {
         "data": {
          "bar": [
           {
            "error_x": {
             "color": "#2a3f5f"
            },
            "error_y": {
             "color": "#2a3f5f"
            },
            "marker": {
             "line": {
              "color": "#E5ECF6",
              "width": 0.5
             },
             "pattern": {
              "fillmode": "overlay",
              "size": 10,
              "solidity": 0.2
             }
            },
            "type": "bar"
           }
          ],
          "barpolar": [
           {
            "marker": {
             "line": {
              "color": "#E5ECF6",
              "width": 0.5
             },
             "pattern": {
              "fillmode": "overlay",
              "size": 10,
              "solidity": 0.2
             }
            },
            "type": "barpolar"
           }
          ],
          "carpet": [
           {
            "aaxis": {
             "endlinecolor": "#2a3f5f",
             "gridcolor": "white",
             "linecolor": "white",
             "minorgridcolor": "white",
             "startlinecolor": "#2a3f5f"
            },
            "baxis": {
             "endlinecolor": "#2a3f5f",
             "gridcolor": "white",
             "linecolor": "white",
             "minorgridcolor": "white",
             "startlinecolor": "#2a3f5f"
            },
            "type": "carpet"
           }
          ],
          "choropleth": [
           {
            "colorbar": {
             "outlinewidth": 0,
             "ticks": ""
            },
            "type": "choropleth"
           }
          ],
          "contour": [
           {
            "colorbar": {
             "outlinewidth": 0,
             "ticks": ""
            },
            "colorscale": [
             [
              0,
              "#0d0887"
             ],
             [
              0.1111111111111111,
              "#46039f"
             ],
             [
              0.2222222222222222,
              "#7201a8"
             ],
             [
              0.3333333333333333,
              "#9c179e"
             ],
             [
              0.4444444444444444,
              "#bd3786"
             ],
             [
              0.5555555555555556,
              "#d8576b"
             ],
             [
              0.6666666666666666,
              "#ed7953"
             ],
             [
              0.7777777777777778,
              "#fb9f3a"
             ],
             [
              0.8888888888888888,
              "#fdca26"
             ],
             [
              1,
              "#f0f921"
             ]
            ],
            "type": "contour"
           }
          ],
          "contourcarpet": [
           {
            "colorbar": {
             "outlinewidth": 0,
             "ticks": ""
            },
            "type": "contourcarpet"
           }
          ],
          "heatmap": [
           {
            "colorbar": {
             "outlinewidth": 0,
             "ticks": ""
            },
            "colorscale": [
             [
              0,
              "#0d0887"
             ],
             [
              0.1111111111111111,
              "#46039f"
             ],
             [
              0.2222222222222222,
              "#7201a8"
             ],
             [
              0.3333333333333333,
              "#9c179e"
             ],
             [
              0.4444444444444444,
              "#bd3786"
             ],
             [
              0.5555555555555556,
              "#d8576b"
             ],
             [
              0.6666666666666666,
              "#ed7953"
             ],
             [
              0.7777777777777778,
              "#fb9f3a"
             ],
             [
              0.8888888888888888,
              "#fdca26"
             ],
             [
              1,
              "#f0f921"
             ]
            ],
            "type": "heatmap"
           }
          ],
          "heatmapgl": [
           {
            "colorbar": {
             "outlinewidth": 0,
             "ticks": ""
            },
            "colorscale": [
             [
              0,
              "#0d0887"
             ],
             [
              0.1111111111111111,
              "#46039f"
             ],
             [
              0.2222222222222222,
              "#7201a8"
             ],
             [
              0.3333333333333333,
              "#9c179e"
             ],
             [
              0.4444444444444444,
              "#bd3786"
             ],
             [
              0.5555555555555556,
              "#d8576b"
             ],
             [
              0.6666666666666666,
              "#ed7953"
             ],
             [
              0.7777777777777778,
              "#fb9f3a"
             ],
             [
              0.8888888888888888,
              "#fdca26"
             ],
             [
              1,
              "#f0f921"
             ]
            ],
            "type": "heatmapgl"
           }
          ],
          "histogram": [
           {
            "marker": {
             "pattern": {
              "fillmode": "overlay",
              "size": 10,
              "solidity": 0.2
             }
            },
            "type": "histogram"
           }
          ],
          "histogram2d": [
           {
            "colorbar": {
             "outlinewidth": 0,
             "ticks": ""
            },
            "colorscale": [
             [
              0,
              "#0d0887"
             ],
             [
              0.1111111111111111,
              "#46039f"
             ],
             [
              0.2222222222222222,
              "#7201a8"
             ],
             [
              0.3333333333333333,
              "#9c179e"
             ],
             [
              0.4444444444444444,
              "#bd3786"
             ],
             [
              0.5555555555555556,
              "#d8576b"
             ],
             [
              0.6666666666666666,
              "#ed7953"
             ],
             [
              0.7777777777777778,
              "#fb9f3a"
             ],
             [
              0.8888888888888888,
              "#fdca26"
             ],
             [
              1,
              "#f0f921"
             ]
            ],
            "type": "histogram2d"
           }
          ],
          "histogram2dcontour": [
           {
            "colorbar": {
             "outlinewidth": 0,
             "ticks": ""
            },
            "colorscale": [
             [
              0,
              "#0d0887"
             ],
             [
              0.1111111111111111,
              "#46039f"
             ],
             [
              0.2222222222222222,
              "#7201a8"
             ],
             [
              0.3333333333333333,
              "#9c179e"
             ],
             [
              0.4444444444444444,
              "#bd3786"
             ],
             [
              0.5555555555555556,
              "#d8576b"
             ],
             [
              0.6666666666666666,
              "#ed7953"
             ],
             [
              0.7777777777777778,
              "#fb9f3a"
             ],
             [
              0.8888888888888888,
              "#fdca26"
             ],
             [
              1,
              "#f0f921"
             ]
            ],
            "type": "histogram2dcontour"
           }
          ],
          "mesh3d": [
           {
            "colorbar": {
             "outlinewidth": 0,
             "ticks": ""
            },
            "type": "mesh3d"
           }
          ],
          "parcoords": [
           {
            "line": {
             "colorbar": {
              "outlinewidth": 0,
              "ticks": ""
             }
            },
            "type": "parcoords"
           }
          ],
          "pie": [
           {
            "automargin": true,
            "type": "pie"
           }
          ],
          "scatter": [
           {
            "fillpattern": {
             "fillmode": "overlay",
             "size": 10,
             "solidity": 0.2
            },
            "type": "scatter"
           }
          ],
          "scatter3d": [
           {
            "line": {
             "colorbar": {
              "outlinewidth": 0,
              "ticks": ""
             }
            },
            "marker": {
             "colorbar": {
              "outlinewidth": 0,
              "ticks": ""
             }
            },
            "type": "scatter3d"
           }
          ],
          "scattercarpet": [
           {
            "marker": {
             "colorbar": {
              "outlinewidth": 0,
              "ticks": ""
             }
            },
            "type": "scattercarpet"
           }
          ],
          "scattergeo": [
           {
            "marker": {
             "colorbar": {
              "outlinewidth": 0,
              "ticks": ""
             }
            },
            "type": "scattergeo"
           }
          ],
          "scattergl": [
           {
            "marker": {
             "colorbar": {
              "outlinewidth": 0,
              "ticks": ""
             }
            },
            "type": "scattergl"
           }
          ],
          "scattermapbox": [
           {
            "marker": {
             "colorbar": {
              "outlinewidth": 0,
              "ticks": ""
             }
            },
            "type": "scattermapbox"
           }
          ],
          "scatterpolar": [
           {
            "marker": {
             "colorbar": {
              "outlinewidth": 0,
              "ticks": ""
             }
            },
            "type": "scatterpolar"
           }
          ],
          "scatterpolargl": [
           {
            "marker": {
             "colorbar": {
              "outlinewidth": 0,
              "ticks": ""
             }
            },
            "type": "scatterpolargl"
           }
          ],
          "scatterternary": [
           {
            "marker": {
             "colorbar": {
              "outlinewidth": 0,
              "ticks": ""
             }
            },
            "type": "scatterternary"
           }
          ],
          "surface": [
           {
            "colorbar": {
             "outlinewidth": 0,
             "ticks": ""
            },
            "colorscale": [
             [
              0,
              "#0d0887"
             ],
             [
              0.1111111111111111,
              "#46039f"
             ],
             [
              0.2222222222222222,
              "#7201a8"
             ],
             [
              0.3333333333333333,
              "#9c179e"
             ],
             [
              0.4444444444444444,
              "#bd3786"
             ],
             [
              0.5555555555555556,
              "#d8576b"
             ],
             [
              0.6666666666666666,
              "#ed7953"
             ],
             [
              0.7777777777777778,
              "#fb9f3a"
             ],
             [
              0.8888888888888888,
              "#fdca26"
             ],
             [
              1,
              "#f0f921"
             ]
            ],
            "type": "surface"
           }
          ],
          "table": [
           {
            "cells": {
             "fill": {
              "color": "#EBF0F8"
             },
             "line": {
              "color": "white"
             }
            },
            "header": {
             "fill": {
              "color": "#C8D4E3"
             },
             "line": {
              "color": "white"
             }
            },
            "type": "table"
           }
          ]
         },
         "layout": {
          "annotationdefaults": {
           "arrowcolor": "#2a3f5f",
           "arrowhead": 0,
           "arrowwidth": 1
          },
          "autotypenumbers": "strict",
          "coloraxis": {
           "colorbar": {
            "outlinewidth": 0,
            "ticks": ""
           }
          },
          "colorscale": {
           "diverging": [
            [
             0,
             "#8e0152"
            ],
            [
             0.1,
             "#c51b7d"
            ],
            [
             0.2,
             "#de77ae"
            ],
            [
             0.3,
             "#f1b6da"
            ],
            [
             0.4,
             "#fde0ef"
            ],
            [
             0.5,
             "#f7f7f7"
            ],
            [
             0.6,
             "#e6f5d0"
            ],
            [
             0.7,
             "#b8e186"
            ],
            [
             0.8,
             "#7fbc41"
            ],
            [
             0.9,
             "#4d9221"
            ],
            [
             1,
             "#276419"
            ]
           ],
           "sequential": [
            [
             0,
             "#0d0887"
            ],
            [
             0.1111111111111111,
             "#46039f"
            ],
            [
             0.2222222222222222,
             "#7201a8"
            ],
            [
             0.3333333333333333,
             "#9c179e"
            ],
            [
             0.4444444444444444,
             "#bd3786"
            ],
            [
             0.5555555555555556,
             "#d8576b"
            ],
            [
             0.6666666666666666,
             "#ed7953"
            ],
            [
             0.7777777777777778,
             "#fb9f3a"
            ],
            [
             0.8888888888888888,
             "#fdca26"
            ],
            [
             1,
             "#f0f921"
            ]
           ],
           "sequentialminus": [
            [
             0,
             "#0d0887"
            ],
            [
             0.1111111111111111,
             "#46039f"
            ],
            [
             0.2222222222222222,
             "#7201a8"
            ],
            [
             0.3333333333333333,
             "#9c179e"
            ],
            [
             0.4444444444444444,
             "#bd3786"
            ],
            [
             0.5555555555555556,
             "#d8576b"
            ],
            [
             0.6666666666666666,
             "#ed7953"
            ],
            [
             0.7777777777777778,
             "#fb9f3a"
            ],
            [
             0.8888888888888888,
             "#fdca26"
            ],
            [
             1,
             "#f0f921"
            ]
           ]
          },
          "colorway": [
           "#636efa",
           "#EF553B",
           "#00cc96",
           "#ab63fa",
           "#FFA15A",
           "#19d3f3",
           "#FF6692",
           "#B6E880",
           "#FF97FF",
           "#FECB52"
          ],
          "font": {
           "color": "#2a3f5f"
          },
          "geo": {
           "bgcolor": "white",
           "lakecolor": "white",
           "landcolor": "#E5ECF6",
           "showlakes": true,
           "showland": true,
           "subunitcolor": "white"
          },
          "hoverlabel": {
           "align": "left"
          },
          "hovermode": "closest",
          "mapbox": {
           "style": "light"
          },
          "paper_bgcolor": "white",
          "plot_bgcolor": "#E5ECF6",
          "polar": {
           "angularaxis": {
            "gridcolor": "white",
            "linecolor": "white",
            "ticks": ""
           },
           "bgcolor": "#E5ECF6",
           "radialaxis": {
            "gridcolor": "white",
            "linecolor": "white",
            "ticks": ""
           }
          },
          "scene": {
           "xaxis": {
            "backgroundcolor": "#E5ECF6",
            "gridcolor": "white",
            "gridwidth": 2,
            "linecolor": "white",
            "showbackground": true,
            "ticks": "",
            "zerolinecolor": "white"
           },
           "yaxis": {
            "backgroundcolor": "#E5ECF6",
            "gridcolor": "white",
            "gridwidth": 2,
            "linecolor": "white",
            "showbackground": true,
            "ticks": "",
            "zerolinecolor": "white"
           },
           "zaxis": {
            "backgroundcolor": "#E5ECF6",
            "gridcolor": "white",
            "gridwidth": 2,
            "linecolor": "white",
            "showbackground": true,
            "ticks": "",
            "zerolinecolor": "white"
           }
          },
          "shapedefaults": {
           "line": {
            "color": "#2a3f5f"
           }
          },
          "ternary": {
           "aaxis": {
            "gridcolor": "white",
            "linecolor": "white",
            "ticks": ""
           },
           "baxis": {
            "gridcolor": "white",
            "linecolor": "white",
            "ticks": ""
           },
           "bgcolor": "#E5ECF6",
           "caxis": {
            "gridcolor": "white",
            "linecolor": "white",
            "ticks": ""
           }
          },
          "title": {
           "x": 0.05
          },
          "xaxis": {
           "automargin": true,
           "gridcolor": "white",
           "linecolor": "white",
           "ticks": "",
           "title": {
            "standoff": 15
           },
           "zerolinecolor": "white",
           "zerolinewidth": 2
          },
          "yaxis": {
           "automargin": true,
           "gridcolor": "white",
           "linecolor": "white",
           "ticks": "",
           "title": {
            "standoff": 15
           },
           "zerolinecolor": "white",
           "zerolinewidth": 2
          }
         }
        },
        "xaxis": {
         "autorange": true,
         "range": [
          0.5284155674971502,
          9.47158443250285
         ],
         "tickmode": "array",
         "ticktext": [
          "AROU",
          "VAL",
          "DOM",
          "CNC",
          "IMAG",
          "FAM",
          "AOA",
          "SIZE",
          "GEND"
         ],
         "tickvals": [
          1,
          2,
          3,
          4,
          5,
          6,
          7,
          8,
          9
         ],
         "type": "linear"
        },
        "yaxis": {
         "autorange": true,
         "range": [
          -0.7602135922330098,
          9.97221359223301
         ],
         "type": "linear"
        }
       }
      },
      "image/png": "[encoded data removed]",
      "text/html": [
       "<div>                            <div id=\"3cc72aba-a82d-41d3-b60c-e67dd6d167ca\" class=\"plotly-graph-div\" style=\"height:525px; width:100%;\"></div>            <script type=\"text/javascript\">                require([\"plotly\"], function(Plotly) {                    window.PLOTLYENV=window.PLOTLYENV || {};                                    if (document.getElementById(\"3cc72aba-a82d-41d3-b60c-e67dd6d167ca\")) {                    Plotly.newPlot(                        \"3cc72aba-a82d-41d3-b60c-e67dd6d167ca\",                        [{\"line\":{\"color\":\"#636EFA\"},\"mode\":\"lines\",\"name\":\"dog\",\"showlegend\":true,\"x\":[1,2,3,4,5,6,7,8,9],\"y\":[6.147,7.067,6.242,6.833,6.889,6.84,1.735,3.273,4.606],\"type\":\"scatter\"},{\"fill\":\"toself\",\"fillcolor\":\"rgba(99, 110, 250, 0.2)\",\"hoverinfo\":\"skip\",\"line\":{\"color\":\"rgba(255,255,255,0)\"},\"showlegend\":false,\"x\":[1,2,3,4,5,6,7,8,9,9,8,7,6,5,4,3,2,1],\"y\":[8.332,8.304,8.035,7.2860000000000005,7.203,7.303,2.391,4.511,9.212,0.0,2.035,1.0790000000000002,6.377,6.575,6.38,4.449,5.83,3.962],\"type\":\"scatter\"},{\"line\":{\"color\":\"#EF553B\"},\"mode\":\"lines\",\"name\":\"cat\",\"showlegend\":true,\"x\":[1,2,3,4,5,6,7,8,9],\"y\":[3.97,5.939,5.091,6.548,6.774,6.375,1.743,2.546,2.727],\"type\":\"scatter\"},{\"fill\":\"toself\",\"fillcolor\":\"rgba(239, 85, 59, 0.2)\",\"hoverinfo\":\"skip\",\"line\":{\"color\":\"rgba(255,255,255,0)\"},\"showlegend\":false,\"x\":[1,2,3,4,5,6,7,8,9,9,8,7,6,5,4,3,2,1],\"y\":[6.616,7.571,6.6930000000000005,7.422,7.479,7.716,2.821,4.025,5.454,0.0,1.0669999999999997,0.665,5.034,6.069,5.674,3.489,4.307,1.3240000000000003],\"type\":\"scatter\"}],                        {\"template\":{\"data\":{\"histogram2dcontour\":[{\"type\":\"histogram2dcontour\",\"colorbar\":{\"outlinewidth\":0,\"ticks\":\"\"},\"colorscale\":[[0.0,\"#0d0887\"],[0.1111111111111111,\"#46039f\"],[0.2222222222222222,\"#7201a8\"],[0.3333333333333333,\"#9c179e\"],[0.4444444444444444,\"#bd3786\"],[0.5555555555555556,\"#d8576b\"],[0.6666666666666666,\"#ed7953\"],[0.7777777777777778,\"#fb9f3a\"],[0.8888888888888888,\"#fdca26\"],[1.0,\"#f0f921\"]]}],\"choropleth\":[{\"type\":\"choropleth\",\"colorbar\":{\"outlinewidth\":0,\"ticks\":\"\"}}],\"histogram2d\":[{\"type\":\"histogram2d\",\"colorbar\":{\"outlinewidth\":0,\"ticks\":\"\"},\"colorscale\":[[0.0,\"#0d0887\"],[0.1111111111111111,\"#46039f\"],[0.2222222222222222,\"#7201a8\"],[0.3333333333333333,\"#9c179e\"],[0.4444444444444444,\"#bd3786\"],[0.5555555555555556,\"#d8576b\"],[0.6666666666666666,\"#ed7953\"],[0.7777777777777778,\"#fb9f3a\"],[0.8888888888888888,\"#fdca26\"],[1.0,\"#f0f921\"]]}],\"heatmap\":[{\"type\":\"heatmap\",\"colorbar\":{\"outlinewidth\":0,\"ticks\":\"\"},\"colorscale\":[[0.0,\"#0d0887\"],[0.1111111111111111,\"#46039f\"],[0.2222222222222222,\"#7201a8\"],[0.3333333333333333,\"#9c179e\"],[0.4444444444444444,\"#bd3786\"],[0.5555555555555556,\"#d8576b\"],[0.6666666666666666,\"#ed7953\"],[0.7777777777777778,\"#fb9f3a\"],[0.8888888888888888,\"#fdca26\"],[1.0,\"#f0f921\"]]}],\"heatmapgl\":[{\"type\":\"heatmapgl\",\"colorbar\":{\"outlinewidth\":0,\"ticks\":\"\"},\"colorscale\":[[0.0,\"#0d0887\"],[0.1111111111111111,\"#46039f\"],[0.2222222222222222,\"#7201a8\"],[0.3333333333333333,\"#9c179e\"],[0.4444444444444444,\"#bd3786\"],[0.5555555555555556,\"#d8576b\"],[0.6666666666666666,\"#ed7953\"],[0.7777777777777778,\"#fb9f3a\"],[0.8888888888888888,\"#fdca26\"],[1.0,\"#f0f921\"]]}],\"contourcarpet\":[{\"type\":\"contourcarpet\",\"colorbar\":{\"outlinewidth\":0,\"ticks\":\"\"}}],\"contour\":[{\"type\":\"contour\",\"colorbar\":{\"outlinewidth\":0,\"ticks\":\"\"},\"colorscale\":[[0.0,\"#0d0887\"],[0.1111111111111111,\"#46039f\"],[0.2222222222222222,\"#7201a8\"],[0.3333333333333333,\"#9c179e\"],[0.4444444444444444,\"#bd3786\"],[0.5555555555555556,\"#d8576b\"],[0.6666666666666666,\"#ed7953\"],[0.7777777777777778,\"#fb9f3a\"],[0.8888888888888888,\"#fdca26\"],[1.0,\"#f0f921\"]]}],\"surface\":[{\"type\":\"surface\",\"colorbar\":{\"outlinewidth\":0,\"ticks\":\"\"},\"colorscale\":[[0.0,\"#0d0887\"],[0.1111111111111111,\"#46039f\"],[0.2222222222222222,\"#7201a8\"],[0.3333333333333333,\"#9c179e\"],[0.4444444444444444,\"#bd3786\"],[0.5555555555555556,\"#d8576b\"],[0.6666666666666666,\"#ed7953\"],[0.7777777777777778,\"#fb9f3a\"],[0.8888888888888888,\"#fdca26\"],[1.0,\"#f0f921\"]]}],\"mesh3d\":[{\"type\":\"mesh3d\",\"colorbar\":{\"outlinewidth\":0,\"ticks\":\"\"}}],\"scatter\":[{\"fillpattern\":{\"fillmode\":\"overlay\",\"size\":10,\"solidity\":0.2},\"type\":\"scatter\"}],\"parcoords\":[{\"type\":\"parcoords\",\"line\":{\"colorbar\":{\"outlinewidth\":0,\"ticks\":\"\"}}}],\"scatterpolargl\":[{\"type\":\"scatterpolargl\",\"marker\":{\"colorbar\":{\"outlinewidth\":0,\"ticks\":\"\"}}}],\"bar\":[{\"error_x\":{\"color\":\"#2a3f5f\"},\"error_y\":{\"color\":\"#2a3f5f\"},\"marker\":{\"line\":{\"color\":\"#E5ECF6\",\"width\":0.5},\"pattern\":{\"fillmode\":\"overlay\",\"size\":10,\"solidity\":0.2}},\"type\":\"bar\"}],\"scattergeo\":[{\"type\":\"scattergeo\",\"marker\":{\"colorbar\":{\"outlinewidth\":0,\"ticks\":\"\"}}}],\"scatterpolar\":[{\"type\":\"scatterpolar\",\"marker\":{\"colorbar\":{\"outlinewidth\":0,\"ticks\":\"\"}}}],\"histogram\":[{\"marker\":{\"pattern\":{\"fillmode\":\"overlay\",\"size\":10,\"solidity\":0.2}},\"type\":\"histogram\"}],\"scattergl\":[{\"type\":\"scattergl\",\"marker\":{\"colorbar\":{\"outlinewidth\":0,\"ticks\":\"\"}}}],\"scatter3d\":[{\"type\":\"scatter3d\",\"line\":{\"colorbar\":{\"outlinewidth\":0,\"ticks\":\"\"}},\"marker\":{\"colorbar\":{\"outlinewidth\":0,\"ticks\":\"\"}}}],\"scattermapbox\":[{\"type\":\"scattermapbox\",\"marker\":{\"colorbar\":{\"outlinewidth\":0,\"ticks\":\"\"}}}],\"scatterternary\":[{\"type\":\"scatterternary\",\"marker\":{\"colorbar\":{\"outlinewidth\":0,\"ticks\":\"\"}}}],\"scattercarpet\":[{\"type\":\"scattercarpet\",\"marker\":{\"colorbar\":{\"outlinewidth\":0,\"ticks\":\"\"}}}],\"carpet\":[{\"aaxis\":{\"endlinecolor\":\"#2a3f5f\",\"gridcolor\":\"white\",\"linecolor\":\"white\",\"minorgridcolor\":\"white\",\"startlinecolor\":\"#2a3f5f\"},\"baxis\":{\"endlinecolor\":\"#2a3f5f\",\"gridcolor\":\"white\",\"linecolor\":\"white\",\"minorgridcolor\":\"white\",\"startlinecolor\":\"#2a3f5f\"},\"type\":\"carpet\"}],\"table\":[{\"cells\":{\"fill\":{\"color\":\"#EBF0F8\"},\"line\":{\"color\":\"white\"}},\"header\":{\"fill\":{\"color\":\"#C8D4E3\"},\"line\":{\"color\":\"white\"}},\"type\":\"table\"}],\"barpolar\":[{\"marker\":{\"line\":{\"color\":\"#E5ECF6\",\"width\":0.5},\"pattern\":{\"fillmode\":\"overlay\",\"size\":10,\"solidity\":0.2}},\"type\":\"barpolar\"}],\"pie\":[{\"automargin\":true,\"type\":\"pie\"}]},\"layout\":{\"autotypenumbers\":\"strict\",\"colorway\":[\"#636efa\",\"#EF553B\",\"#00cc96\",\"#ab63fa\",\"#FFA15A\",\"#19d3f3\",\"#FF6692\",\"#B6E880\",\"#FF97FF\",\"#FECB52\"],\"font\":{\"color\":\"#2a3f5f\"},\"hovermode\":\"closest\",\"hoverlabel\":{\"align\":\"left\"},\"paper_bgcolor\":\"white\",\"plot_bgcolor\":\"#E5ECF6\",\"polar\":{\"bgcolor\":\"#E5ECF6\",\"angularaxis\":{\"gridcolor\":\"white\",\"linecolor\":\"white\",\"ticks\":\"\"},\"radialaxis\":{\"gridcolor\":\"white\",\"linecolor\":\"white\",\"ticks\":\"\"}},\"ternary\":{\"bgcolor\":\"#E5ECF6\",\"aaxis\":{\"gridcolor\":\"white\",\"linecolor\":\"white\",\"ticks\":\"\"},\"baxis\":{\"gridcolor\":\"white\",\"linecolor\":\"white\",\"ticks\":\"\"},\"caxis\":{\"gridcolor\":\"white\",\"linecolor\":\"white\",\"ticks\":\"\"}},\"coloraxis\":{\"colorbar\":{\"outlinewidth\":0,\"ticks\":\"\"}},\"colorscale\":{\"sequential\":[[0.0,\"#0d0887\"],[0.1111111111111111,\"#46039f\"],[0.2222222222222222,\"#7201a8\"],[0.3333333333333333,\"#9c179e\"],[0.4444444444444444,\"#bd3786\"],[0.5555555555555556,\"#d8576b\"],[0.6666666666666666,\"#ed7953\"],[0.7777777777777778,\"#fb9f3a\"],[0.8888888888888888,\"#fdca26\"],[1.0,\"#f0f921\"]],\"sequentialminus\":[[0.0,\"#0d0887\"],[0.1111111111111111,\"#46039f\"],[0.2222222222222222,\"#7201a8\"],[0.3333333333333333,\"#9c179e\"],[0.4444444444444444,\"#bd3786\"],[0.5555555555555556,\"#d8576b\"],[0.6666666666666666,\"#ed7953\"],[0.7777777777777778,\"#fb9f3a\"],[0.8888888888888888,\"#fdca26\"],[1.0,\"#f0f921\"]],\"diverging\":[[0,\"#8e0152\"],[0.1,\"#c51b7d\"],[0.2,\"#de77ae\"],[0.3,\"#f1b6da\"],[0.4,\"#fde0ef\"],[0.5,\"#f7f7f7\"],[0.6,\"#e6f5d0\"],[0.7,\"#b8e186\"],[0.8,\"#7fbc41\"],[0.9,\"#4d9221\"],[1,\"#276419\"]]},\"xaxis\":{\"gridcolor\":\"white\",\"linecolor\":\"white\",\"ticks\":\"\",\"title\":{\"standoff\":15},\"zerolinecolor\":\"white\",\"automargin\":true,\"zerolinewidth\":2},\"yaxis\":{\"gridcolor\":\"white\",\"linecolor\":\"white\",\"ticks\":\"\",\"title\":{\"standoff\":15},\"zerolinecolor\":\"white\",\"automargin\":true,\"zerolinewidth\":2},\"scene\":{\"xaxis\":{\"backgroundcolor\":\"#E5ECF6\",\"gridcolor\":\"white\",\"linecolor\":\"white\",\"showbackground\":true,\"ticks\":\"\",\"zerolinecolor\":\"white\",\"gridwidth\":2},\"yaxis\":{\"backgroundcolor\":\"#E5ECF6\",\"gridcolor\":\"white\",\"linecolor\":\"white\",\"showbackground\":true,\"ticks\":\"\",\"zerolinecolor\":\"white\",\"gridwidth\":2},\"zaxis\":{\"backgroundcolor\":\"#E5ECF6\",\"gridcolor\":\"white\",\"linecolor\":\"white\",\"showbackground\":true,\"ticks\":\"\",\"zerolinecolor\":\"white\",\"gridwidth\":2}},\"shapedefaults\":{\"line\":{\"color\":\"#2a3f5f\"}},\"annotationdefaults\":{\"arrowcolor\":\"#2a3f5f\",\"arrowhead\":0,\"arrowwidth\":1},\"geo\":{\"bgcolor\":\"white\",\"landcolor\":\"#E5ECF6\",\"subunitcolor\":\"white\",\"showland\":true,\"showlakes\":true,\"lakecolor\":\"white\"},\"title\":{\"x\":0.05},\"mapbox\":{\"style\":\"light\"}}},\"xaxis\":{\"tickmode\":\"array\",\"tickvals\":[1,2,3,4,5,6,7,8,9],\"ticktext\":[\"AROU\",\"VAL\",\"DOM\",\"CNC\",\"IMAG\",\"FAM\",\"AOA\",\"SIZE\",\"GEND\"]}},                        {\"responsive\": true}                    ).then(function(){\n",
       "                            \n",
       "var gd = document.getElementById('3cc72aba-a82d-41d3-b60c-e67dd6d167ca');\n",
       "var x = new MutationObserver(function (mutations, observer) {{\n",
       "        var display = window.getComputedStyle(gd).display;\n",
       "        if (!display || display === 'none') {{\n",
       "            console.log([gd, 'removed!']);\n",
       "            Plotly.purge(gd);\n",
       "            observer.disconnect();\n",
       "        }}\n",
       "}});\n",
       "\n",
       "// Listen for the removal of the full notebook cells\n",
       "var notebookContainer = gd.closest('#notebook-container');\n",
       "if (notebookContainer) {{\n",
       "    x.observe(notebookContainer, {childList: true});\n",
       "}}\n",
       "\n",
       "// Listen for the clearing of the current output cell\n",
       "var outputEl = gd.closest('.output');\n",
       "if (outputEl) {{\n",
       "    x.observe(outputEl, {childList: true});\n",
       "}}\n",
       "\n",
       "                        })                };                });            </script>        </div>"
      ]
     },
     "metadata": {},
     "output_type": "display_data"
    }
   ],
   "source": [
    "viz_GlasgowR(words=['dog', 'cat'], dataframe=glasgow)"
   ]
  },
  {
   "cell_type": "markdown",
   "metadata": {},
   "source": [
    "> Experimenting some words visualization:"
   ]
  },
  {
   "cell_type": "code",
   "execution_count": 62,
   "metadata": {
    "ExecuteTime": {
     "end_time": "2022-04-28T23:16:20.025112Z",
     "start_time": "2022-04-28T23:16:19.959022Z"
    }
   },
   "outputs": [
    {
     "data": {
      "application/vnd.plotly.v1+json": {
       "config": {
        "plotlyServerURL": "https://plot.ly"
       },
       "data": [
        {
         "line": {
          "color": "#636EFA"
         },
         "mode": "lines",
         "name": "dog",
         "showlegend": true,
         "type": "scatter",
         "x": [
          1,
          2,
          3,
          4,
          5,
          6,
          7,
          8,
          9
         ],
         "y": [
          6.147,
          7.067,
          6.242,
          6.833,
          6.889,
          6.84,
          1.735,
          3.273,
          4.606
         ]
        },
        {
         "fill": "toself",
         "fillcolor": "rgba(99, 110, 250, 0.2)",
         "hoverinfo": "skip",
         "line": {
          "color": "rgba(255,255,255,0)"
         },
         "showlegend": false,
         "type": "scatter",
         "x": [
          1,
          2,
          3,
          4,
          5,
          6,
          7,
          8,
          9,
          9,
          8,
          7,
          6,
          5,
          4,
          3,
          2,
          1
         ],
         "y": [
          8.332,
          8.304,
          8.035,
          7.2860000000000005,
          7.203,
          7.303,
          2.391,
          4.511,
          9.212,
          0,
          2.035,
          1.0790000000000002,
          6.377,
          6.575,
          6.38,
          4.449,
          5.83,
          3.962
         ]
        }
       ],
       "layout": {
        "autosize": true,
        "template": {
         "data": {
          "bar": [
           {
            "error_x": {
             "color": "#2a3f5f"
            },
            "error_y": {
             "color": "#2a3f5f"
            },
            "marker": {
             "line": {
              "color": "#E5ECF6",
              "width": 0.5
             },
             "pattern": {
              "fillmode": "overlay",
              "size": 10,
              "solidity": 0.2
             }
            },
            "type": "bar"
           }
          ],
          "barpolar": [
           {
            "marker": {
             "line": {
              "color": "#E5ECF6",
              "width": 0.5
             },
             "pattern": {
              "fillmode": "overlay",
              "size": 10,
              "solidity": 0.2
             }
            },
            "type": "barpolar"
           }
          ],
          "carpet": [
           {
            "aaxis": {
             "endlinecolor": "#2a3f5f",
             "gridcolor": "white",
             "linecolor": "white",
             "minorgridcolor": "white",
             "startlinecolor": "#2a3f5f"
            },
            "baxis": {
             "endlinecolor": "#2a3f5f",
             "gridcolor": "white",
             "linecolor": "white",
             "minorgridcolor": "white",
             "startlinecolor": "#2a3f5f"
            },
            "type": "carpet"
           }
          ],
          "choropleth": [
           {
            "colorbar": {
             "outlinewidth": 0,
             "ticks": ""
            },
            "type": "choropleth"
           }
          ],
          "contour": [
           {
            "colorbar": {
             "outlinewidth": 0,
             "ticks": ""
            },
            "colorscale": [
             [
              0,
              "#0d0887"
             ],
             [
              0.1111111111111111,
              "#46039f"
             ],
             [
              0.2222222222222222,
              "#7201a8"
             ],
             [
              0.3333333333333333,
              "#9c179e"
             ],
             [
              0.4444444444444444,
              "#bd3786"
             ],
             [
              0.5555555555555556,
              "#d8576b"
             ],
             [
              0.6666666666666666,
              "#ed7953"
             ],
             [
              0.7777777777777778,
              "#fb9f3a"
             ],
             [
              0.8888888888888888,
              "#fdca26"
             ],
             [
              1,
              "#f0f921"
             ]
            ],
            "type": "contour"
           }
          ],
          "contourcarpet": [
           {
            "colorbar": {
             "outlinewidth": 0,
             "ticks": ""
            },
            "type": "contourcarpet"
           }
          ],
          "heatmap": [
           {
            "colorbar": {
             "outlinewidth": 0,
             "ticks": ""
            },
            "colorscale": [
             [
              0,
              "#0d0887"
             ],
             [
              0.1111111111111111,
              "#46039f"
             ],
             [
              0.2222222222222222,
              "#7201a8"
             ],
             [
              0.3333333333333333,
              "#9c179e"
             ],
             [
              0.4444444444444444,
              "#bd3786"
             ],
             [
              0.5555555555555556,
              "#d8576b"
             ],
             [
              0.6666666666666666,
              "#ed7953"
             ],
             [
              0.7777777777777778,
              "#fb9f3a"
             ],
             [
              0.8888888888888888,
              "#fdca26"
             ],
             [
              1,
              "#f0f921"
             ]
            ],
            "type": "heatmap"
           }
          ],
          "heatmapgl": [
           {
            "colorbar": {
             "outlinewidth": 0,
             "ticks": ""
            },
            "colorscale": [
             [
              0,
              "#0d0887"
             ],
             [
              0.1111111111111111,
              "#46039f"
             ],
             [
              0.2222222222222222,
              "#7201a8"
             ],
             [
              0.3333333333333333,
              "#9c179e"
             ],
             [
              0.4444444444444444,
              "#bd3786"
             ],
             [
              0.5555555555555556,
              "#d8576b"
             ],
             [
              0.6666666666666666,
              "#ed7953"
             ],
             [
              0.7777777777777778,
              "#fb9f3a"
             ],
             [
              0.8888888888888888,
              "#fdca26"
             ],
             [
              1,
              "#f0f921"
             ]
            ],
            "type": "heatmapgl"
           }
          ],
          "histogram": [
           {
            "marker": {
             "pattern": {
              "fillmode": "overlay",
              "size": 10,
              "solidity": 0.2
             }
            },
            "type": "histogram"
           }
          ],
          "histogram2d": [
           {
            "colorbar": {
             "outlinewidth": 0,
             "ticks": ""
            },
            "colorscale": [
             [
              0,
              "#0d0887"
             ],
             [
              0.1111111111111111,
              "#46039f"
             ],
             [
              0.2222222222222222,
              "#7201a8"
             ],
             [
              0.3333333333333333,
              "#9c179e"
             ],
             [
              0.4444444444444444,
              "#bd3786"
             ],
             [
              0.5555555555555556,
              "#d8576b"
             ],
             [
              0.6666666666666666,
              "#ed7953"
             ],
             [
              0.7777777777777778,
              "#fb9f3a"
             ],
             [
              0.8888888888888888,
              "#fdca26"
             ],
             [
              1,
              "#f0f921"
             ]
            ],
            "type": "histogram2d"
           }
          ],
          "histogram2dcontour": [
           {
            "colorbar": {
             "outlinewidth": 0,
             "ticks": ""
            },
            "colorscale": [
             [
              0,
              "#0d0887"
             ],
             [
              0.1111111111111111,
              "#46039f"
             ],
             [
              0.2222222222222222,
              "#7201a8"
             ],
             [
              0.3333333333333333,
              "#9c179e"
             ],
             [
              0.4444444444444444,
              "#bd3786"
             ],
             [
              0.5555555555555556,
              "#d8576b"
             ],
             [
              0.6666666666666666,
              "#ed7953"
             ],
             [
              0.7777777777777778,
              "#fb9f3a"
             ],
             [
              0.8888888888888888,
              "#fdca26"
             ],
             [
              1,
              "#f0f921"
             ]
            ],
            "type": "histogram2dcontour"
           }
          ],
          "mesh3d": [
           {
            "colorbar": {
             "outlinewidth": 0,
             "ticks": ""
            },
            "type": "mesh3d"
           }
          ],
          "parcoords": [
           {
            "line": {
             "colorbar": {
              "outlinewidth": 0,
              "ticks": ""
             }
            },
            "type": "parcoords"
           }
          ],
          "pie": [
           {
            "automargin": true,
            "type": "pie"
           }
          ],
          "scatter": [
           {
            "fillpattern": {
             "fillmode": "overlay",
             "size": 10,
             "solidity": 0.2
            },
            "type": "scatter"
           }
          ],
          "scatter3d": [
           {
            "line": {
             "colorbar": {
              "outlinewidth": 0,
              "ticks": ""
             }
            },
            "marker": {
             "colorbar": {
              "outlinewidth": 0,
              "ticks": ""
             }
            },
            "type": "scatter3d"
           }
          ],
          "scattercarpet": [
           {
            "marker": {
             "colorbar": {
              "outlinewidth": 0,
              "ticks": ""
             }
            },
            "type": "scattercarpet"
           }
          ],
          "scattergeo": [
           {
            "marker": {
             "colorbar": {
              "outlinewidth": 0,
              "ticks": ""
             }
            },
            "type": "scattergeo"
           }
          ],
          "scattergl": [
           {
            "marker": {
             "colorbar": {
              "outlinewidth": 0,
              "ticks": ""
             }
            },
            "type": "scattergl"
           }
          ],
          "scattermapbox": [
           {
            "marker": {
             "colorbar": {
              "outlinewidth": 0,
              "ticks": ""
             }
            },
            "type": "scattermapbox"
           }
          ],
          "scatterpolar": [
           {
            "marker": {
             "colorbar": {
              "outlinewidth": 0,
              "ticks": ""
             }
            },
            "type": "scatterpolar"
           }
          ],
          "scatterpolargl": [
           {
            "marker": {
             "colorbar": {
              "outlinewidth": 0,
              "ticks": ""
             }
            },
            "type": "scatterpolargl"
           }
          ],
          "scatterternary": [
           {
            "marker": {
             "colorbar": {
              "outlinewidth": 0,
              "ticks": ""
             }
            },
            "type": "scatterternary"
           }
          ],
          "surface": [
           {
            "colorbar": {
             "outlinewidth": 0,
             "ticks": ""
            },
            "colorscale": [
             [
              0,
              "#0d0887"
             ],
             [
              0.1111111111111111,
              "#46039f"
             ],
             [
              0.2222222222222222,
              "#7201a8"
             ],
             [
              0.3333333333333333,
              "#9c179e"
             ],
             [
              0.4444444444444444,
              "#bd3786"
             ],
             [
              0.5555555555555556,
              "#d8576b"
             ],
             [
              0.6666666666666666,
              "#ed7953"
             ],
             [
              0.7777777777777778,
              "#fb9f3a"
             ],
             [
              0.8888888888888888,
              "#fdca26"
             ],
             [
              1,
              "#f0f921"
             ]
            ],
            "type": "surface"
           }
          ],
          "table": [
           {
            "cells": {
             "fill": {
              "color": "#EBF0F8"
             },
             "line": {
              "color": "white"
             }
            },
            "header": {
             "fill": {
              "color": "#C8D4E3"
             },
             "line": {
              "color": "white"
             }
            },
            "type": "table"
           }
          ]
         },
         "layout": {
          "annotationdefaults": {
           "arrowcolor": "#2a3f5f",
           "arrowhead": 0,
           "arrowwidth": 1
          },
          "autotypenumbers": "strict",
          "coloraxis": {
           "colorbar": {
            "outlinewidth": 0,
            "ticks": ""
           }
          },
          "colorscale": {
           "diverging": [
            [
             0,
             "#8e0152"
            ],
            [
             0.1,
             "#c51b7d"
            ],
            [
             0.2,
             "#de77ae"
            ],
            [
             0.3,
             "#f1b6da"
            ],
            [
             0.4,
             "#fde0ef"
            ],
            [
             0.5,
             "#f7f7f7"
            ],
            [
             0.6,
             "#e6f5d0"
            ],
            [
             0.7,
             "#b8e186"
            ],
            [
             0.8,
             "#7fbc41"
            ],
            [
             0.9,
             "#4d9221"
            ],
            [
             1,
             "#276419"
            ]
           ],
           "sequential": [
            [
             0,
             "#0d0887"
            ],
            [
             0.1111111111111111,
             "#46039f"
            ],
            [
             0.2222222222222222,
             "#7201a8"
            ],
            [
             0.3333333333333333,
             "#9c179e"
            ],
            [
             0.4444444444444444,
             "#bd3786"
            ],
            [
             0.5555555555555556,
             "#d8576b"
            ],
            [
             0.6666666666666666,
             "#ed7953"
            ],
            [
             0.7777777777777778,
             "#fb9f3a"
            ],
            [
             0.8888888888888888,
             "#fdca26"
            ],
            [
             1,
             "#f0f921"
            ]
           ],
           "sequentialminus": [
            [
             0,
             "#0d0887"
            ],
            [
             0.1111111111111111,
             "#46039f"
            ],
            [
             0.2222222222222222,
             "#7201a8"
            ],
            [
             0.3333333333333333,
             "#9c179e"
            ],
            [
             0.4444444444444444,
             "#bd3786"
            ],
            [
             0.5555555555555556,
             "#d8576b"
            ],
            [
             0.6666666666666666,
             "#ed7953"
            ],
            [
             0.7777777777777778,
             "#fb9f3a"
            ],
            [
             0.8888888888888888,
             "#fdca26"
            ],
            [
             1,
             "#f0f921"
            ]
           ]
          },
          "colorway": [
           "#636efa",
           "#EF553B",
           "#00cc96",
           "#ab63fa",
           "#FFA15A",
           "#19d3f3",
           "#FF6692",
           "#B6E880",
           "#FF97FF",
           "#FECB52"
          ],
          "font": {
           "color": "#2a3f5f"
          },
          "geo": {
           "bgcolor": "white",
           "lakecolor": "white",
           "landcolor": "#E5ECF6",
           "showlakes": true,
           "showland": true,
           "subunitcolor": "white"
          },
          "hoverlabel": {
           "align": "left"
          },
          "hovermode": "closest",
          "mapbox": {
           "style": "light"
          },
          "paper_bgcolor": "white",
          "plot_bgcolor": "#E5ECF6",
          "polar": {
           "angularaxis": {
            "gridcolor": "white",
            "linecolor": "white",
            "ticks": ""
           },
           "bgcolor": "#E5ECF6",
           "radialaxis": {
            "gridcolor": "white",
            "linecolor": "white",
            "ticks": ""
           }
          },
          "scene": {
           "xaxis": {
            "backgroundcolor": "#E5ECF6",
            "gridcolor": "white",
            "gridwidth": 2,
            "linecolor": "white",
            "showbackground": true,
            "ticks": "",
            "zerolinecolor": "white"
           },
           "yaxis": {
            "backgroundcolor": "#E5ECF6",
            "gridcolor": "white",
            "gridwidth": 2,
            "linecolor": "white",
            "showbackground": true,
            "ticks": "",
            "zerolinecolor": "white"
           },
           "zaxis": {
            "backgroundcolor": "#E5ECF6",
            "gridcolor": "white",
            "gridwidth": 2,
            "linecolor": "white",
            "showbackground": true,
            "ticks": "",
            "zerolinecolor": "white"
           }
          },
          "shapedefaults": {
           "line": {
            "color": "#2a3f5f"
           }
          },
          "ternary": {
           "aaxis": {
            "gridcolor": "white",
            "linecolor": "white",
            "ticks": ""
           },
           "baxis": {
            "gridcolor": "white",
            "linecolor": "white",
            "ticks": ""
           },
           "bgcolor": "#E5ECF6",
           "caxis": {
            "gridcolor": "white",
            "linecolor": "white",
            "ticks": ""
           }
          },
          "title": {
           "x": 0.05
          },
          "xaxis": {
           "automargin": true,
           "gridcolor": "white",
           "linecolor": "white",
           "ticks": "",
           "title": {
            "standoff": 15
           },
           "zerolinecolor": "white",
           "zerolinewidth": 2
          },
          "yaxis": {
           "automargin": true,
           "gridcolor": "white",
           "linecolor": "white",
           "ticks": "",
           "title": {
            "standoff": 15
           },
           "zerolinecolor": "white",
           "zerolinewidth": 2
          }
         }
        },
        "xaxis": {
         "autorange": true,
         "range": [
          0.5284155674971502,
          9.47158443250285
         ],
         "tickmode": "array",
         "ticktext": [
          "AROU",
          "VAL",
          "DOM",
          "CNC",
          "IMAG",
          "FAM",
          "AOA",
          "SIZE",
          "GEND"
         ],
         "tickvals": [
          1,
          2,
          3,
          4,
          5,
          6,
          7,
          8,
          9
         ],
         "type": "linear"
        },
        "yaxis": {
         "autorange": true,
         "range": [
          -0.7602135922330098,
          9.97221359223301
         ],
         "type": "linear"
        }
       }
      },
      "image/png": "[encoded data removed]",
      "text/html": [
       "<div>                            <div id=\"c52dcb4b-60bc-4915-88eb-9a4f15d9fda7\" class=\"plotly-graph-div\" style=\"height:525px; width:100%;\"></div>            <script type=\"text/javascript\">                require([\"plotly\"], function(Plotly) {                    window.PLOTLYENV=window.PLOTLYENV || {};                                    if (document.getElementById(\"c52dcb4b-60bc-4915-88eb-9a4f15d9fda7\")) {                    Plotly.newPlot(                        \"c52dcb4b-60bc-4915-88eb-9a4f15d9fda7\",                        [{\"line\":{\"color\":\"#636EFA\"},\"mode\":\"lines\",\"name\":\"dog\",\"showlegend\":true,\"x\":[1,2,3,4,5,6,7,8,9],\"y\":[6.147,7.067,6.242,6.833,6.889,6.84,1.735,3.273,4.606],\"type\":\"scatter\"},{\"fill\":\"toself\",\"fillcolor\":\"rgba(99, 110, 250, 0.2)\",\"hoverinfo\":\"skip\",\"line\":{\"color\":\"rgba(255,255,255,0)\"},\"showlegend\":false,\"x\":[1,2,3,4,5,6,7,8,9,9,8,7,6,5,4,3,2,1],\"y\":[8.332,8.304,8.035,7.2860000000000005,7.203,7.303,2.391,4.511,9.212,0.0,2.035,1.0790000000000002,6.377,6.575,6.38,4.449,5.83,3.962],\"type\":\"scatter\"}],                        {\"template\":{\"data\":{\"histogram2dcontour\":[{\"type\":\"histogram2dcontour\",\"colorbar\":{\"outlinewidth\":0,\"ticks\":\"\"},\"colorscale\":[[0.0,\"#0d0887\"],[0.1111111111111111,\"#46039f\"],[0.2222222222222222,\"#7201a8\"],[0.3333333333333333,\"#9c179e\"],[0.4444444444444444,\"#bd3786\"],[0.5555555555555556,\"#d8576b\"],[0.6666666666666666,\"#ed7953\"],[0.7777777777777778,\"#fb9f3a\"],[0.8888888888888888,\"#fdca26\"],[1.0,\"#f0f921\"]]}],\"choropleth\":[{\"type\":\"choropleth\",\"colorbar\":{\"outlinewidth\":0,\"ticks\":\"\"}}],\"histogram2d\":[{\"type\":\"histogram2d\",\"colorbar\":{\"outlinewidth\":0,\"ticks\":\"\"},\"colorscale\":[[0.0,\"#0d0887\"],[0.1111111111111111,\"#46039f\"],[0.2222222222222222,\"#7201a8\"],[0.3333333333333333,\"#9c179e\"],[0.4444444444444444,\"#bd3786\"],[0.5555555555555556,\"#d8576b\"],[0.6666666666666666,\"#ed7953\"],[0.7777777777777778,\"#fb9f3a\"],[0.8888888888888888,\"#fdca26\"],[1.0,\"#f0f921\"]]}],\"heatmap\":[{\"type\":\"heatmap\",\"colorbar\":{\"outlinewidth\":0,\"ticks\":\"\"},\"colorscale\":[[0.0,\"#0d0887\"],[0.1111111111111111,\"#46039f\"],[0.2222222222222222,\"#7201a8\"],[0.3333333333333333,\"#9c179e\"],[0.4444444444444444,\"#bd3786\"],[0.5555555555555556,\"#d8576b\"],[0.6666666666666666,\"#ed7953\"],[0.7777777777777778,\"#fb9f3a\"],[0.8888888888888888,\"#fdca26\"],[1.0,\"#f0f921\"]]}],\"heatmapgl\":[{\"type\":\"heatmapgl\",\"colorbar\":{\"outlinewidth\":0,\"ticks\":\"\"},\"colorscale\":[[0.0,\"#0d0887\"],[0.1111111111111111,\"#46039f\"],[0.2222222222222222,\"#7201a8\"],[0.3333333333333333,\"#9c179e\"],[0.4444444444444444,\"#bd3786\"],[0.5555555555555556,\"#d8576b\"],[0.6666666666666666,\"#ed7953\"],[0.7777777777777778,\"#fb9f3a\"],[0.8888888888888888,\"#fdca26\"],[1.0,\"#f0f921\"]]}],\"contourcarpet\":[{\"type\":\"contourcarpet\",\"colorbar\":{\"outlinewidth\":0,\"ticks\":\"\"}}],\"contour\":[{\"type\":\"contour\",\"colorbar\":{\"outlinewidth\":0,\"ticks\":\"\"},\"colorscale\":[[0.0,\"#0d0887\"],[0.1111111111111111,\"#46039f\"],[0.2222222222222222,\"#7201a8\"],[0.3333333333333333,\"#9c179e\"],[0.4444444444444444,\"#bd3786\"],[0.5555555555555556,\"#d8576b\"],[0.6666666666666666,\"#ed7953\"],[0.7777777777777778,\"#fb9f3a\"],[0.8888888888888888,\"#fdca26\"],[1.0,\"#f0f921\"]]}],\"surface\":[{\"type\":\"surface\",\"colorbar\":{\"outlinewidth\":0,\"ticks\":\"\"},\"colorscale\":[[0.0,\"#0d0887\"],[0.1111111111111111,\"#46039f\"],[0.2222222222222222,\"#7201a8\"],[0.3333333333333333,\"#9c179e\"],[0.4444444444444444,\"#bd3786\"],[0.5555555555555556,\"#d8576b\"],[0.6666666666666666,\"#ed7953\"],[0.7777777777777778,\"#fb9f3a\"],[0.8888888888888888,\"#fdca26\"],[1.0,\"#f0f921\"]]}],\"mesh3d\":[{\"type\":\"mesh3d\",\"colorbar\":{\"outlinewidth\":0,\"ticks\":\"\"}}],\"scatter\":[{\"fillpattern\":{\"fillmode\":\"overlay\",\"size\":10,\"solidity\":0.2},\"type\":\"scatter\"}],\"parcoords\":[{\"type\":\"parcoords\",\"line\":{\"colorbar\":{\"outlinewidth\":0,\"ticks\":\"\"}}}],\"scatterpolargl\":[{\"type\":\"scatterpolargl\",\"marker\":{\"colorbar\":{\"outlinewidth\":0,\"ticks\":\"\"}}}],\"bar\":[{\"error_x\":{\"color\":\"#2a3f5f\"},\"error_y\":{\"color\":\"#2a3f5f\"},\"marker\":{\"line\":{\"color\":\"#E5ECF6\",\"width\":0.5},\"pattern\":{\"fillmode\":\"overlay\",\"size\":10,\"solidity\":0.2}},\"type\":\"bar\"}],\"scattergeo\":[{\"type\":\"scattergeo\",\"marker\":{\"colorbar\":{\"outlinewidth\":0,\"ticks\":\"\"}}}],\"scatterpolar\":[{\"type\":\"scatterpolar\",\"marker\":{\"colorbar\":{\"outlinewidth\":0,\"ticks\":\"\"}}}],\"histogram\":[{\"marker\":{\"pattern\":{\"fillmode\":\"overlay\",\"size\":10,\"solidity\":0.2}},\"type\":\"histogram\"}],\"scattergl\":[{\"type\":\"scattergl\",\"marker\":{\"colorbar\":{\"outlinewidth\":0,\"ticks\":\"\"}}}],\"scatter3d\":[{\"type\":\"scatter3d\",\"line\":{\"colorbar\":{\"outlinewidth\":0,\"ticks\":\"\"}},\"marker\":{\"colorbar\":{\"outlinewidth\":0,\"ticks\":\"\"}}}],\"scattermapbox\":[{\"type\":\"scattermapbox\",\"marker\":{\"colorbar\":{\"outlinewidth\":0,\"ticks\":\"\"}}}],\"scatterternary\":[{\"type\":\"scatterternary\",\"marker\":{\"colorbar\":{\"outlinewidth\":0,\"ticks\":\"\"}}}],\"scattercarpet\":[{\"type\":\"scattercarpet\",\"marker\":{\"colorbar\":{\"outlinewidth\":0,\"ticks\":\"\"}}}],\"carpet\":[{\"aaxis\":{\"endlinecolor\":\"#2a3f5f\",\"gridcolor\":\"white\",\"linecolor\":\"white\",\"minorgridcolor\":\"white\",\"startlinecolor\":\"#2a3f5f\"},\"baxis\":{\"endlinecolor\":\"#2a3f5f\",\"gridcolor\":\"white\",\"linecolor\":\"white\",\"minorgridcolor\":\"white\",\"startlinecolor\":\"#2a3f5f\"},\"type\":\"carpet\"}],\"table\":[{\"cells\":{\"fill\":{\"color\":\"#EBF0F8\"},\"line\":{\"color\":\"white\"}},\"header\":{\"fill\":{\"color\":\"#C8D4E3\"},\"line\":{\"color\":\"white\"}},\"type\":\"table\"}],\"barpolar\":[{\"marker\":{\"line\":{\"color\":\"#E5ECF6\",\"width\":0.5},\"pattern\":{\"fillmode\":\"overlay\",\"size\":10,\"solidity\":0.2}},\"type\":\"barpolar\"}],\"pie\":[{\"automargin\":true,\"type\":\"pie\"}]},\"layout\":{\"autotypenumbers\":\"strict\",\"colorway\":[\"#636efa\",\"#EF553B\",\"#00cc96\",\"#ab63fa\",\"#FFA15A\",\"#19d3f3\",\"#FF6692\",\"#B6E880\",\"#FF97FF\",\"#FECB52\"],\"font\":{\"color\":\"#2a3f5f\"},\"hovermode\":\"closest\",\"hoverlabel\":{\"align\":\"left\"},\"paper_bgcolor\":\"white\",\"plot_bgcolor\":\"#E5ECF6\",\"polar\":{\"bgcolor\":\"#E5ECF6\",\"angularaxis\":{\"gridcolor\":\"white\",\"linecolor\":\"white\",\"ticks\":\"\"},\"radialaxis\":{\"gridcolor\":\"white\",\"linecolor\":\"white\",\"ticks\":\"\"}},\"ternary\":{\"bgcolor\":\"#E5ECF6\",\"aaxis\":{\"gridcolor\":\"white\",\"linecolor\":\"white\",\"ticks\":\"\"},\"baxis\":{\"gridcolor\":\"white\",\"linecolor\":\"white\",\"ticks\":\"\"},\"caxis\":{\"gridcolor\":\"white\",\"linecolor\":\"white\",\"ticks\":\"\"}},\"coloraxis\":{\"colorbar\":{\"outlinewidth\":0,\"ticks\":\"\"}},\"colorscale\":{\"sequential\":[[0.0,\"#0d0887\"],[0.1111111111111111,\"#46039f\"],[0.2222222222222222,\"#7201a8\"],[0.3333333333333333,\"#9c179e\"],[0.4444444444444444,\"#bd3786\"],[0.5555555555555556,\"#d8576b\"],[0.6666666666666666,\"#ed7953\"],[0.7777777777777778,\"#fb9f3a\"],[0.8888888888888888,\"#fdca26\"],[1.0,\"#f0f921\"]],\"sequentialminus\":[[0.0,\"#0d0887\"],[0.1111111111111111,\"#46039f\"],[0.2222222222222222,\"#7201a8\"],[0.3333333333333333,\"#9c179e\"],[0.4444444444444444,\"#bd3786\"],[0.5555555555555556,\"#d8576b\"],[0.6666666666666666,\"#ed7953\"],[0.7777777777777778,\"#fb9f3a\"],[0.8888888888888888,\"#fdca26\"],[1.0,\"#f0f921\"]],\"diverging\":[[0,\"#8e0152\"],[0.1,\"#c51b7d\"],[0.2,\"#de77ae\"],[0.3,\"#f1b6da\"],[0.4,\"#fde0ef\"],[0.5,\"#f7f7f7\"],[0.6,\"#e6f5d0\"],[0.7,\"#b8e186\"],[0.8,\"#7fbc41\"],[0.9,\"#4d9221\"],[1,\"#276419\"]]},\"xaxis\":{\"gridcolor\":\"white\",\"linecolor\":\"white\",\"ticks\":\"\",\"title\":{\"standoff\":15},\"zerolinecolor\":\"white\",\"automargin\":true,\"zerolinewidth\":2},\"yaxis\":{\"gridcolor\":\"white\",\"linecolor\":\"white\",\"ticks\":\"\",\"title\":{\"standoff\":15},\"zerolinecolor\":\"white\",\"automargin\":true,\"zerolinewidth\":2},\"scene\":{\"xaxis\":{\"backgroundcolor\":\"#E5ECF6\",\"gridcolor\":\"white\",\"linecolor\":\"white\",\"showbackground\":true,\"ticks\":\"\",\"zerolinecolor\":\"white\",\"gridwidth\":2},\"yaxis\":{\"backgroundcolor\":\"#E5ECF6\",\"gridcolor\":\"white\",\"linecolor\":\"white\",\"showbackground\":true,\"ticks\":\"\",\"zerolinecolor\":\"white\",\"gridwidth\":2},\"zaxis\":{\"backgroundcolor\":\"#E5ECF6\",\"gridcolor\":\"white\",\"linecolor\":\"white\",\"showbackground\":true,\"ticks\":\"\",\"zerolinecolor\":\"white\",\"gridwidth\":2}},\"shapedefaults\":{\"line\":{\"color\":\"#2a3f5f\"}},\"annotationdefaults\":{\"arrowcolor\":\"#2a3f5f\",\"arrowhead\":0,\"arrowwidth\":1},\"geo\":{\"bgcolor\":\"white\",\"landcolor\":\"#E5ECF6\",\"subunitcolor\":\"white\",\"showland\":true,\"showlakes\":true,\"lakecolor\":\"white\"},\"title\":{\"x\":0.05},\"mapbox\":{\"style\":\"light\"}}},\"xaxis\":{\"tickmode\":\"array\",\"tickvals\":[1,2,3,4,5,6,7,8,9],\"ticktext\":[\"AROU\",\"VAL\",\"DOM\",\"CNC\",\"IMAG\",\"FAM\",\"AOA\",\"SIZE\",\"GEND\"]}},                        {\"responsive\": true}                    ).then(function(){\n",
       "                            \n",
       "var gd = document.getElementById('c52dcb4b-60bc-4915-88eb-9a4f15d9fda7');\n",
       "var x = new MutationObserver(function (mutations, observer) {{\n",
       "        var display = window.getComputedStyle(gd).display;\n",
       "        if (!display || display === 'none') {{\n",
       "            console.log([gd, 'removed!']);\n",
       "            Plotly.purge(gd);\n",
       "            observer.disconnect();\n",
       "        }}\n",
       "}});\n",
       "\n",
       "// Listen for the removal of the full notebook cells\n",
       "var notebookContainer = gd.closest('#notebook-container');\n",
       "if (notebookContainer) {{\n",
       "    x.observe(notebookContainer, {childList: true});\n",
       "}}\n",
       "\n",
       "// Listen for the clearing of the current output cell\n",
       "var outputEl = gd.closest('.output');\n",
       "if (outputEl) {{\n",
       "    x.observe(outputEl, {childList: true});\n",
       "}}\n",
       "\n",
       "                        })                };                });            </script>        </div>"
      ]
     },
     "metadata": {},
     "output_type": "display_data"
    }
   ],
   "source": [
    "fig_dog = viz_GlasgowR(['dog'], glasgow)\n",
    "fig_dog"
   ]
  },
  {
   "cell_type": "markdown",
   "metadata": {},
   "source": [
    "> Eduardo B.Nion sugeriu as palavras \"snake\" e \"dog\".  \n",
    "> Considerar determinados símbolos, ou palavras que já têm reações conhecidas."
   ]
  },
  {
   "cell_type": "code",
   "execution_count": 70,
   "metadata": {},
   "outputs": [
    {
     "data": {
      "text/html": [
       "<div>\n",
       "<style scoped>\n",
       "    .dataframe tbody tr th:only-of-type {\n",
       "        vertical-align: middle;\n",
       "    }\n",
       "\n",
       "    .dataframe tbody tr th {\n",
       "        vertical-align: top;\n",
       "    }\n",
       "\n",
       "    .dataframe thead th {\n",
       "        text-align: right;\n",
       "    }\n",
       "</style>\n",
       "<table border=\"1\" class=\"dataframe\">\n",
       "  <thead>\n",
       "    <tr style=\"text-align: right;\">\n",
       "      <th></th>\n",
       "      <th>AROU_M</th>\n",
       "      <th>AROU_SD</th>\n",
       "      <th>VAL_M</th>\n",
       "      <th>VAL_SD</th>\n",
       "      <th>DOM_M</th>\n",
       "      <th>DOM_SD</th>\n",
       "      <th>CNC_M</th>\n",
       "      <th>CNC_SD</th>\n",
       "      <th>IMAG_M</th>\n",
       "      <th>IMAG_SD</th>\n",
       "      <th>FAM_M</th>\n",
       "      <th>FAM_SD</th>\n",
       "      <th>AOA_M</th>\n",
       "      <th>AOA_SD</th>\n",
       "      <th>SIZE_M</th>\n",
       "      <th>SIZE_SD</th>\n",
       "      <th>GEND_M</th>\n",
       "      <th>GEND_SD</th>\n",
       "    </tr>\n",
       "    <tr>\n",
       "      <th>words</th>\n",
       "      <th></th>\n",
       "      <th></th>\n",
       "      <th></th>\n",
       "      <th></th>\n",
       "      <th></th>\n",
       "      <th></th>\n",
       "      <th></th>\n",
       "      <th></th>\n",
       "      <th></th>\n",
       "      <th></th>\n",
       "      <th></th>\n",
       "      <th></th>\n",
       "      <th></th>\n",
       "      <th></th>\n",
       "      <th></th>\n",
       "      <th></th>\n",
       "      <th></th>\n",
       "      <th></th>\n",
       "    </tr>\n",
       "  </thead>\n",
       "  <tbody>\n",
       "    <tr>\n",
       "      <th>snake</th>\n",
       "      <td>4.909</td>\n",
       "      <td>2.366</td>\n",
       "      <td>3.657</td>\n",
       "      <td>1.620</td>\n",
       "      <td>5.257</td>\n",
       "      <td>2.047</td>\n",
       "      <td>6.714</td>\n",
       "      <td>0.700</td>\n",
       "      <td>6.657</td>\n",
       "      <td>0.630</td>\n",
       "      <td>5.647</td>\n",
       "      <td>1.473</td>\n",
       "      <td>2.529</td>\n",
       "      <td>0.947</td>\n",
       "      <td>3.091</td>\n",
       "      <td>1.621</td>\n",
       "      <td>5.200</td>\n",
       "      <td>1.064</td>\n",
       "    </tr>\n",
       "    <tr>\n",
       "      <th>dog</th>\n",
       "      <td>6.147</td>\n",
       "      <td>2.185</td>\n",
       "      <td>7.067</td>\n",
       "      <td>1.237</td>\n",
       "      <td>6.242</td>\n",
       "      <td>1.793</td>\n",
       "      <td>6.833</td>\n",
       "      <td>0.453</td>\n",
       "      <td>6.889</td>\n",
       "      <td>0.314</td>\n",
       "      <td>6.840</td>\n",
       "      <td>0.463</td>\n",
       "      <td>1.735</td>\n",
       "      <td>0.656</td>\n",
       "      <td>3.273</td>\n",
       "      <td>1.238</td>\n",
       "      <td>4.606</td>\n",
       "      <td>0.983</td>\n",
       "    </tr>\n",
       "  </tbody>\n",
       "</table>\n",
       "</div>"
      ],
      "text/plain": [
       "       AROU_M  AROU_SD  VAL_M  VAL_SD  DOM_M  DOM_SD  CNC_M  CNC_SD  IMAG_M  \\\n",
       "words                                                                         \n",
       "snake   4.909    2.366  3.657   1.620  5.257   2.047  6.714   0.700   6.657   \n",
       "dog     6.147    2.185  7.067   1.237  6.242   1.793  6.833   0.453   6.889   \n",
       "\n",
       "       IMAG_SD  FAM_M  FAM_SD  AOA_M  AOA_SD  SIZE_M  SIZE_SD  GEND_M  GEND_SD  \n",
       "words                                                                           \n",
       "snake    0.630  5.647   1.473  2.529   0.947   3.091    1.621   5.200    1.064  \n",
       "dog      0.314  6.840   0.463  1.735   0.656   3.273    1.238   4.606    0.983  "
      ]
     },
     "execution_count": 70,
     "metadata": {},
     "output_type": "execute_result"
    }
   ],
   "source": [
    "## Showing the interest attributes for the words SNAKE and DOG:\n",
    "glasgow.loc[['snake', 'dog'],interest]"
   ]
  },
  {
   "cell_type": "code",
   "execution_count": 71,
   "metadata": {},
   "outputs": [
    {
     "data": {
      "application/vnd.plotly.v1+json": {
       "config": {
        "plotlyServerURL": "https://plot.ly"
       },
       "data": [
        {
         "line": {
          "color": "#636EFA"
         },
         "mode": "lines",
         "name": "snake",
         "showlegend": true,
         "type": "scatter",
         "x": [
          1,
          2,
          3,
          4,
          5,
          6,
          7,
          8,
          9
         ],
         "y": [
          4.909,
          3.657,
          5.257,
          6.714,
          6.657,
          5.647,
          2.529,
          3.091,
          5.2
         ]
        },
        {
         "fill": "toself",
         "fillcolor": "rgba(99, 110, 250, 0.2)",
         "hoverinfo": "skip",
         "line": {
          "color": "rgba(255,255,255,0)"
         },
         "showlegend": false,
         "type": "scatter",
         "x": [
          1,
          2,
          3,
          4,
          5,
          6,
          7,
          8,
          9,
          9,
          8,
          7,
          6,
          5,
          4,
          3,
          2,
          1
         ],
         "y": [
          7.275,
          5.277,
          7.304,
          7.414000000000001,
          7.287,
          7.12,
          3.476,
          4.712,
          10.4,
          0,
          1.4700000000000002,
          1.5819999999999999,
          4.174,
          6.027,
          6.014,
          3.2099999999999995,
          2.037,
          2.5429999999999997
         ]
        },
        {
         "line": {
          "color": "#EF553B"
         },
         "mode": "lines",
         "name": "dog",
         "showlegend": true,
         "type": "scatter",
         "x": [
          1,
          2,
          3,
          4,
          5,
          6,
          7,
          8,
          9
         ],
         "y": [
          6.147,
          7.067,
          6.242,
          6.833,
          6.889,
          6.84,
          1.735,
          3.273,
          4.606
         ]
        },
        {
         "fill": "toself",
         "fillcolor": "rgba(239, 85, 59, 0.2)",
         "hoverinfo": "skip",
         "line": {
          "color": "rgba(255,255,255,0)"
         },
         "showlegend": false,
         "type": "scatter",
         "x": [
          1,
          2,
          3,
          4,
          5,
          6,
          7,
          8,
          9,
          9,
          8,
          7,
          6,
          5,
          4,
          3,
          2,
          1
         ],
         "y": [
          8.332,
          8.304,
          8.035,
          7.2860000000000005,
          7.203,
          7.303,
          2.391,
          4.511,
          9.212,
          0,
          2.035,
          1.0790000000000002,
          6.377,
          6.575,
          6.38,
          4.449,
          5.83,
          3.962
         ]
        }
       ],
       "layout": {
        "autosize": true,
        "template": {
         "data": {
          "bar": [
           {
            "error_x": {
             "color": "#2a3f5f"
            },
            "error_y": {
             "color": "#2a3f5f"
            },
            "marker": {
             "line": {
              "color": "#E5ECF6",
              "width": 0.5
             },
             "pattern": {
              "fillmode": "overlay",
              "size": 10,
              "solidity": 0.2
             }
            },
            "type": "bar"
           }
          ],
          "barpolar": [
           {
            "marker": {
             "line": {
              "color": "#E5ECF6",
              "width": 0.5
             },
             "pattern": {
              "fillmode": "overlay",
              "size": 10,
              "solidity": 0.2
             }
            },
            "type": "barpolar"
           }
          ],
          "carpet": [
           {
            "aaxis": {
             "endlinecolor": "#2a3f5f",
             "gridcolor": "white",
             "linecolor": "white",
             "minorgridcolor": "white",
             "startlinecolor": "#2a3f5f"
            },
            "baxis": {
             "endlinecolor": "#2a3f5f",
             "gridcolor": "white",
             "linecolor": "white",
             "minorgridcolor": "white",
             "startlinecolor": "#2a3f5f"
            },
            "type": "carpet"
           }
          ],
          "choropleth": [
           {
            "colorbar": {
             "outlinewidth": 0,
             "ticks": ""
            },
            "type": "choropleth"
           }
          ],
          "contour": [
           {
            "colorbar": {
             "outlinewidth": 0,
             "ticks": ""
            },
            "colorscale": [
             [
              0,
              "#0d0887"
             ],
             [
              0.1111111111111111,
              "#46039f"
             ],
             [
              0.2222222222222222,
              "#7201a8"
             ],
             [
              0.3333333333333333,
              "#9c179e"
             ],
             [
              0.4444444444444444,
              "#bd3786"
             ],
             [
              0.5555555555555556,
              "#d8576b"
             ],
             [
              0.6666666666666666,
              "#ed7953"
             ],
             [
              0.7777777777777778,
              "#fb9f3a"
             ],
             [
              0.8888888888888888,
              "#fdca26"
             ],
             [
              1,
              "#f0f921"
             ]
            ],
            "type": "contour"
           }
          ],
          "contourcarpet": [
           {
            "colorbar": {
             "outlinewidth": 0,
             "ticks": ""
            },
            "type": "contourcarpet"
           }
          ],
          "heatmap": [
           {
            "colorbar": {
             "outlinewidth": 0,
             "ticks": ""
            },
            "colorscale": [
             [
              0,
              "#0d0887"
             ],
             [
              0.1111111111111111,
              "#46039f"
             ],
             [
              0.2222222222222222,
              "#7201a8"
             ],
             [
              0.3333333333333333,
              "#9c179e"
             ],
             [
              0.4444444444444444,
              "#bd3786"
             ],
             [
              0.5555555555555556,
              "#d8576b"
             ],
             [
              0.6666666666666666,
              "#ed7953"
             ],
             [
              0.7777777777777778,
              "#fb9f3a"
             ],
             [
              0.8888888888888888,
              "#fdca26"
             ],
             [
              1,
              "#f0f921"
             ]
            ],
            "type": "heatmap"
           }
          ],
          "heatmapgl": [
           {
            "colorbar": {
             "outlinewidth": 0,
             "ticks": ""
            },
            "colorscale": [
             [
              0,
              "#0d0887"
             ],
             [
              0.1111111111111111,
              "#46039f"
             ],
             [
              0.2222222222222222,
              "#7201a8"
             ],
             [
              0.3333333333333333,
              "#9c179e"
             ],
             [
              0.4444444444444444,
              "#bd3786"
             ],
             [
              0.5555555555555556,
              "#d8576b"
             ],
             [
              0.6666666666666666,
              "#ed7953"
             ],
             [
              0.7777777777777778,
              "#fb9f3a"
             ],
             [
              0.8888888888888888,
              "#fdca26"
             ],
             [
              1,
              "#f0f921"
             ]
            ],
            "type": "heatmapgl"
           }
          ],
          "histogram": [
           {
            "marker": {
             "pattern": {
              "fillmode": "overlay",
              "size": 10,
              "solidity": 0.2
             }
            },
            "type": "histogram"
           }
          ],
          "histogram2d": [
           {
            "colorbar": {
             "outlinewidth": 0,
             "ticks": ""
            },
            "colorscale": [
             [
              0,
              "#0d0887"
             ],
             [
              0.1111111111111111,
              "#46039f"
             ],
             [
              0.2222222222222222,
              "#7201a8"
             ],
             [
              0.3333333333333333,
              "#9c179e"
             ],
             [
              0.4444444444444444,
              "#bd3786"
             ],
             [
              0.5555555555555556,
              "#d8576b"
             ],
             [
              0.6666666666666666,
              "#ed7953"
             ],
             [
              0.7777777777777778,
              "#fb9f3a"
             ],
             [
              0.8888888888888888,
              "#fdca26"
             ],
             [
              1,
              "#f0f921"
             ]
            ],
            "type": "histogram2d"
           }
          ],
          "histogram2dcontour": [
           {
            "colorbar": {
             "outlinewidth": 0,
             "ticks": ""
            },
            "colorscale": [
             [
              0,
              "#0d0887"
             ],
             [
              0.1111111111111111,
              "#46039f"
             ],
             [
              0.2222222222222222,
              "#7201a8"
             ],
             [
              0.3333333333333333,
              "#9c179e"
             ],
             [
              0.4444444444444444,
              "#bd3786"
             ],
             [
              0.5555555555555556,
              "#d8576b"
             ],
             [
              0.6666666666666666,
              "#ed7953"
             ],
             [
              0.7777777777777778,
              "#fb9f3a"
             ],
             [
              0.8888888888888888,
              "#fdca26"
             ],
             [
              1,
              "#f0f921"
             ]
            ],
            "type": "histogram2dcontour"
           }
          ],
          "mesh3d": [
           {
            "colorbar": {
             "outlinewidth": 0,
             "ticks": ""
            },
            "type": "mesh3d"
           }
          ],
          "parcoords": [
           {
            "line": {
             "colorbar": {
              "outlinewidth": 0,
              "ticks": ""
             }
            },
            "type": "parcoords"
           }
          ],
          "pie": [
           {
            "automargin": true,
            "type": "pie"
           }
          ],
          "scatter": [
           {
            "fillpattern": {
             "fillmode": "overlay",
             "size": 10,
             "solidity": 0.2
            },
            "type": "scatter"
           }
          ],
          "scatter3d": [
           {
            "line": {
             "colorbar": {
              "outlinewidth": 0,
              "ticks": ""
             }
            },
            "marker": {
             "colorbar": {
              "outlinewidth": 0,
              "ticks": ""
             }
            },
            "type": "scatter3d"
           }
          ],
          "scattercarpet": [
           {
            "marker": {
             "colorbar": {
              "outlinewidth": 0,
              "ticks": ""
             }
            },
            "type": "scattercarpet"
           }
          ],
          "scattergeo": [
           {
            "marker": {
             "colorbar": {
              "outlinewidth": 0,
              "ticks": ""
             }
            },
            "type": "scattergeo"
           }
          ],
          "scattergl": [
           {
            "marker": {
             "colorbar": {
              "outlinewidth": 0,
              "ticks": ""
             }
            },
            "type": "scattergl"
           }
          ],
          "scattermapbox": [
           {
            "marker": {
             "colorbar": {
              "outlinewidth": 0,
              "ticks": ""
             }
            },
            "type": "scattermapbox"
           }
          ],
          "scatterpolar": [
           {
            "marker": {
             "colorbar": {
              "outlinewidth": 0,
              "ticks": ""
             }
            },
            "type": "scatterpolar"
           }
          ],
          "scatterpolargl": [
           {
            "marker": {
             "colorbar": {
              "outlinewidth": 0,
              "ticks": ""
             }
            },
            "type": "scatterpolargl"
           }
          ],
          "scatterternary": [
           {
            "marker": {
             "colorbar": {
              "outlinewidth": 0,
              "ticks": ""
             }
            },
            "type": "scatterternary"
           }
          ],
          "surface": [
           {
            "colorbar": {
             "outlinewidth": 0,
             "ticks": ""
            },
            "colorscale": [
             [
              0,
              "#0d0887"
             ],
             [
              0.1111111111111111,
              "#46039f"
             ],
             [
              0.2222222222222222,
              "#7201a8"
             ],
             [
              0.3333333333333333,
              "#9c179e"
             ],
             [
              0.4444444444444444,
              "#bd3786"
             ],
             [
              0.5555555555555556,
              "#d8576b"
             ],
             [
              0.6666666666666666,
              "#ed7953"
             ],
             [
              0.7777777777777778,
              "#fb9f3a"
             ],
             [
              0.8888888888888888,
              "#fdca26"
             ],
             [
              1,
              "#f0f921"
             ]
            ],
            "type": "surface"
           }
          ],
          "table": [
           {
            "cells": {
             "fill": {
              "color": "#EBF0F8"
             },
             "line": {
              "color": "white"
             }
            },
            "header": {
             "fill": {
              "color": "#C8D4E3"
             },
             "line": {
              "color": "white"
             }
            },
            "type": "table"
           }
          ]
         },
         "layout": {
          "annotationdefaults": {
           "arrowcolor": "#2a3f5f",
           "arrowhead": 0,
           "arrowwidth": 1
          },
          "autotypenumbers": "strict",
          "coloraxis": {
           "colorbar": {
            "outlinewidth": 0,
            "ticks": ""
           }
          },
          "colorscale": {
           "diverging": [
            [
             0,
             "#8e0152"
            ],
            [
             0.1,
             "#c51b7d"
            ],
            [
             0.2,
             "#de77ae"
            ],
            [
             0.3,
             "#f1b6da"
            ],
            [
             0.4,
             "#fde0ef"
            ],
            [
             0.5,
             "#f7f7f7"
            ],
            [
             0.6,
             "#e6f5d0"
            ],
            [
             0.7,
             "#b8e186"
            ],
            [
             0.8,
             "#7fbc41"
            ],
            [
             0.9,
             "#4d9221"
            ],
            [
             1,
             "#276419"
            ]
           ],
           "sequential": [
            [
             0,
             "#0d0887"
            ],
            [
             0.1111111111111111,
             "#46039f"
            ],
            [
             0.2222222222222222,
             "#7201a8"
            ],
            [
             0.3333333333333333,
             "#9c179e"
            ],
            [
             0.4444444444444444,
             "#bd3786"
            ],
            [
             0.5555555555555556,
             "#d8576b"
            ],
            [
             0.6666666666666666,
             "#ed7953"
            ],
            [
             0.7777777777777778,
             "#fb9f3a"
            ],
            [
             0.8888888888888888,
             "#fdca26"
            ],
            [
             1,
             "#f0f921"
            ]
           ],
           "sequentialminus": [
            [
             0,
             "#0d0887"
            ],
            [
             0.1111111111111111,
             "#46039f"
            ],
            [
             0.2222222222222222,
             "#7201a8"
            ],
            [
             0.3333333333333333,
             "#9c179e"
            ],
            [
             0.4444444444444444,
             "#bd3786"
            ],
            [
             0.5555555555555556,
             "#d8576b"
            ],
            [
             0.6666666666666666,
             "#ed7953"
            ],
            [
             0.7777777777777778,
             "#fb9f3a"
            ],
            [
             0.8888888888888888,
             "#fdca26"
            ],
            [
             1,
             "#f0f921"
            ]
           ]
          },
          "colorway": [
           "#636efa",
           "#EF553B",
           "#00cc96",
           "#ab63fa",
           "#FFA15A",
           "#19d3f3",
           "#FF6692",
           "#B6E880",
           "#FF97FF",
           "#FECB52"
          ],
          "font": {
           "color": "#2a3f5f"
          },
          "geo": {
           "bgcolor": "white",
           "lakecolor": "white",
           "landcolor": "#E5ECF6",
           "showlakes": true,
           "showland": true,
           "subunitcolor": "white"
          },
          "hoverlabel": {
           "align": "left"
          },
          "hovermode": "closest",
          "mapbox": {
           "style": "light"
          },
          "paper_bgcolor": "white",
          "plot_bgcolor": "#E5ECF6",
          "polar": {
           "angularaxis": {
            "gridcolor": "white",
            "linecolor": "white",
            "ticks": ""
           },
           "bgcolor": "#E5ECF6",
           "radialaxis": {
            "gridcolor": "white",
            "linecolor": "white",
            "ticks": ""
           }
          },
          "scene": {
           "xaxis": {
            "backgroundcolor": "#E5ECF6",
            "gridcolor": "white",
            "gridwidth": 2,
            "linecolor": "white",
            "showbackground": true,
            "ticks": "",
            "zerolinecolor": "white"
           },
           "yaxis": {
            "backgroundcolor": "#E5ECF6",
            "gridcolor": "white",
            "gridwidth": 2,
            "linecolor": "white",
            "showbackground": true,
            "ticks": "",
            "zerolinecolor": "white"
           },
           "zaxis": {
            "backgroundcolor": "#E5ECF6",
            "gridcolor": "white",
            "gridwidth": 2,
            "linecolor": "white",
            "showbackground": true,
            "ticks": "",
            "zerolinecolor": "white"
           }
          },
          "shapedefaults": {
           "line": {
            "color": "#2a3f5f"
           }
          },
          "ternary": {
           "aaxis": {
            "gridcolor": "white",
            "linecolor": "white",
            "ticks": ""
           },
           "baxis": {
            "gridcolor": "white",
            "linecolor": "white",
            "ticks": ""
           },
           "bgcolor": "#E5ECF6",
           "caxis": {
            "gridcolor": "white",
            "linecolor": "white",
            "ticks": ""
           }
          },
          "title": {
           "x": 0.05
          },
          "xaxis": {
           "automargin": true,
           "gridcolor": "white",
           "linecolor": "white",
           "ticks": "",
           "title": {
            "standoff": 15
           },
           "zerolinecolor": "white",
           "zerolinewidth": 2
          },
          "yaxis": {
           "automargin": true,
           "gridcolor": "white",
           "linecolor": "white",
           "ticks": "",
           "title": {
            "standoff": 15
           },
           "zerolinecolor": "white",
           "zerolinewidth": 2
          }
         }
        },
        "xaxis": {
         "autorange": true,
         "range": [
          0.5281950258557006,
          9.4718049741443
         ],
         "tickmode": "array",
         "ticktext": [
          "AROU",
          "VAL",
          "DOM",
          "CNC",
          "IMAG",
          "FAM",
          "AOA",
          "SIZE",
          "GEND"
         ],
         "tickvals": [
          1,
          2,
          3,
          4,
          5,
          6,
          7,
          8,
          9
         ],
         "type": "linear"
        },
        "yaxis": {
         "autorange": true,
         "range": [
          -0.858252427184466,
          11.258252427184466
         ],
         "type": "linear"
        }
       }
      },
      "image/png": "[encoded data removed]",
      "text/html": [
       "<div>                            <div id=\"37c37f0b-fd4f-4b90-982e-6774595a79bf\" class=\"plotly-graph-div\" style=\"height:525px; width:100%;\"></div>            <script type=\"text/javascript\">                require([\"plotly\"], function(Plotly) {                    window.PLOTLYENV=window.PLOTLYENV || {};                                    if (document.getElementById(\"37c37f0b-fd4f-4b90-982e-6774595a79bf\")) {                    Plotly.newPlot(                        \"37c37f0b-fd4f-4b90-982e-6774595a79bf\",                        [{\"line\":{\"color\":\"#636EFA\"},\"mode\":\"lines\",\"name\":\"snake\",\"showlegend\":true,\"x\":[1,2,3,4,5,6,7,8,9],\"y\":[4.909,3.657,5.257,6.714,6.657,5.647,2.529,3.091,5.2],\"type\":\"scatter\"},{\"fill\":\"toself\",\"fillcolor\":\"rgba(99, 110, 250, 0.2)\",\"hoverinfo\":\"skip\",\"line\":{\"color\":\"rgba(255,255,255,0)\"},\"showlegend\":false,\"x\":[1,2,3,4,5,6,7,8,9,9,8,7,6,5,4,3,2,1],\"y\":[7.275,5.277,7.304,7.414000000000001,7.287,7.12,3.476,4.712,10.4,0.0,1.4700000000000002,1.5819999999999999,4.174,6.027,6.014,3.2099999999999995,2.037,2.5429999999999997],\"type\":\"scatter\"},{\"line\":{\"color\":\"#EF553B\"},\"mode\":\"lines\",\"name\":\"dog\",\"showlegend\":true,\"x\":[1,2,3,4,5,6,7,8,9],\"y\":[6.147,7.067,6.242,6.833,6.889,6.84,1.735,3.273,4.606],\"type\":\"scatter\"},{\"fill\":\"toself\",\"fillcolor\":\"rgba(239, 85, 59, 0.2)\",\"hoverinfo\":\"skip\",\"line\":{\"color\":\"rgba(255,255,255,0)\"},\"showlegend\":false,\"x\":[1,2,3,4,5,6,7,8,9,9,8,7,6,5,4,3,2,1],\"y\":[8.332,8.304,8.035,7.2860000000000005,7.203,7.303,2.391,4.511,9.212,0.0,2.035,1.0790000000000002,6.377,6.575,6.38,4.449,5.83,3.962],\"type\":\"scatter\"}],                        {\"template\":{\"data\":{\"histogram2dcontour\":[{\"type\":\"histogram2dcontour\",\"colorbar\":{\"outlinewidth\":0,\"ticks\":\"\"},\"colorscale\":[[0.0,\"#0d0887\"],[0.1111111111111111,\"#46039f\"],[0.2222222222222222,\"#7201a8\"],[0.3333333333333333,\"#9c179e\"],[0.4444444444444444,\"#bd3786\"],[0.5555555555555556,\"#d8576b\"],[0.6666666666666666,\"#ed7953\"],[0.7777777777777778,\"#fb9f3a\"],[0.8888888888888888,\"#fdca26\"],[1.0,\"#f0f921\"]]}],\"choropleth\":[{\"type\":\"choropleth\",\"colorbar\":{\"outlinewidth\":0,\"ticks\":\"\"}}],\"histogram2d\":[{\"type\":\"histogram2d\",\"colorbar\":{\"outlinewidth\":0,\"ticks\":\"\"},\"colorscale\":[[0.0,\"#0d0887\"],[0.1111111111111111,\"#46039f\"],[0.2222222222222222,\"#7201a8\"],[0.3333333333333333,\"#9c179e\"],[0.4444444444444444,\"#bd3786\"],[0.5555555555555556,\"#d8576b\"],[0.6666666666666666,\"#ed7953\"],[0.7777777777777778,\"#fb9f3a\"],[0.8888888888888888,\"#fdca26\"],[1.0,\"#f0f921\"]]}],\"heatmap\":[{\"type\":\"heatmap\",\"colorbar\":{\"outlinewidth\":0,\"ticks\":\"\"},\"colorscale\":[[0.0,\"#0d0887\"],[0.1111111111111111,\"#46039f\"],[0.2222222222222222,\"#7201a8\"],[0.3333333333333333,\"#9c179e\"],[0.4444444444444444,\"#bd3786\"],[0.5555555555555556,\"#d8576b\"],[0.6666666666666666,\"#ed7953\"],[0.7777777777777778,\"#fb9f3a\"],[0.8888888888888888,\"#fdca26\"],[1.0,\"#f0f921\"]]}],\"heatmapgl\":[{\"type\":\"heatmapgl\",\"colorbar\":{\"outlinewidth\":0,\"ticks\":\"\"},\"colorscale\":[[0.0,\"#0d0887\"],[0.1111111111111111,\"#46039f\"],[0.2222222222222222,\"#7201a8\"],[0.3333333333333333,\"#9c179e\"],[0.4444444444444444,\"#bd3786\"],[0.5555555555555556,\"#d8576b\"],[0.6666666666666666,\"#ed7953\"],[0.7777777777777778,\"#fb9f3a\"],[0.8888888888888888,\"#fdca26\"],[1.0,\"#f0f921\"]]}],\"contourcarpet\":[{\"type\":\"contourcarpet\",\"colorbar\":{\"outlinewidth\":0,\"ticks\":\"\"}}],\"contour\":[{\"type\":\"contour\",\"colorbar\":{\"outlinewidth\":0,\"ticks\":\"\"},\"colorscale\":[[0.0,\"#0d0887\"],[0.1111111111111111,\"#46039f\"],[0.2222222222222222,\"#7201a8\"],[0.3333333333333333,\"#9c179e\"],[0.4444444444444444,\"#bd3786\"],[0.5555555555555556,\"#d8576b\"],[0.6666666666666666,\"#ed7953\"],[0.7777777777777778,\"#fb9f3a\"],[0.8888888888888888,\"#fdca26\"],[1.0,\"#f0f921\"]]}],\"surface\":[{\"type\":\"surface\",\"colorbar\":{\"outlinewidth\":0,\"ticks\":\"\"},\"colorscale\":[[0.0,\"#0d0887\"],[0.1111111111111111,\"#46039f\"],[0.2222222222222222,\"#7201a8\"],[0.3333333333333333,\"#9c179e\"],[0.4444444444444444,\"#bd3786\"],[0.5555555555555556,\"#d8576b\"],[0.6666666666666666,\"#ed7953\"],[0.7777777777777778,\"#fb9f3a\"],[0.8888888888888888,\"#fdca26\"],[1.0,\"#f0f921\"]]}],\"mesh3d\":[{\"type\":\"mesh3d\",\"colorbar\":{\"outlinewidth\":0,\"ticks\":\"\"}}],\"scatter\":[{\"fillpattern\":{\"fillmode\":\"overlay\",\"size\":10,\"solidity\":0.2},\"type\":\"scatter\"}],\"parcoords\":[{\"type\":\"parcoords\",\"line\":{\"colorbar\":{\"outlinewidth\":0,\"ticks\":\"\"}}}],\"scatterpolargl\":[{\"type\":\"scatterpolargl\",\"marker\":{\"colorbar\":{\"outlinewidth\":0,\"ticks\":\"\"}}}],\"bar\":[{\"error_x\":{\"color\":\"#2a3f5f\"},\"error_y\":{\"color\":\"#2a3f5f\"},\"marker\":{\"line\":{\"color\":\"#E5ECF6\",\"width\":0.5},\"pattern\":{\"fillmode\":\"overlay\",\"size\":10,\"solidity\":0.2}},\"type\":\"bar\"}],\"scattergeo\":[{\"type\":\"scattergeo\",\"marker\":{\"colorbar\":{\"outlinewidth\":0,\"ticks\":\"\"}}}],\"scatterpolar\":[{\"type\":\"scatterpolar\",\"marker\":{\"colorbar\":{\"outlinewidth\":0,\"ticks\":\"\"}}}],\"histogram\":[{\"marker\":{\"pattern\":{\"fillmode\":\"overlay\",\"size\":10,\"solidity\":0.2}},\"type\":\"histogram\"}],\"scattergl\":[{\"type\":\"scattergl\",\"marker\":{\"colorbar\":{\"outlinewidth\":0,\"ticks\":\"\"}}}],\"scatter3d\":[{\"type\":\"scatter3d\",\"line\":{\"colorbar\":{\"outlinewidth\":0,\"ticks\":\"\"}},\"marker\":{\"colorbar\":{\"outlinewidth\":0,\"ticks\":\"\"}}}],\"scattermapbox\":[{\"type\":\"scattermapbox\",\"marker\":{\"colorbar\":{\"outlinewidth\":0,\"ticks\":\"\"}}}],\"scatterternary\":[{\"type\":\"scatterternary\",\"marker\":{\"colorbar\":{\"outlinewidth\":0,\"ticks\":\"\"}}}],\"scattercarpet\":[{\"type\":\"scattercarpet\",\"marker\":{\"colorbar\":{\"outlinewidth\":0,\"ticks\":\"\"}}}],\"carpet\":[{\"aaxis\":{\"endlinecolor\":\"#2a3f5f\",\"gridcolor\":\"white\",\"linecolor\":\"white\",\"minorgridcolor\":\"white\",\"startlinecolor\":\"#2a3f5f\"},\"baxis\":{\"endlinecolor\":\"#2a3f5f\",\"gridcolor\":\"white\",\"linecolor\":\"white\",\"minorgridcolor\":\"white\",\"startlinecolor\":\"#2a3f5f\"},\"type\":\"carpet\"}],\"table\":[{\"cells\":{\"fill\":{\"color\":\"#EBF0F8\"},\"line\":{\"color\":\"white\"}},\"header\":{\"fill\":{\"color\":\"#C8D4E3\"},\"line\":{\"color\":\"white\"}},\"type\":\"table\"}],\"barpolar\":[{\"marker\":{\"line\":{\"color\":\"#E5ECF6\",\"width\":0.5},\"pattern\":{\"fillmode\":\"overlay\",\"size\":10,\"solidity\":0.2}},\"type\":\"barpolar\"}],\"pie\":[{\"automargin\":true,\"type\":\"pie\"}]},\"layout\":{\"autotypenumbers\":\"strict\",\"colorway\":[\"#636efa\",\"#EF553B\",\"#00cc96\",\"#ab63fa\",\"#FFA15A\",\"#19d3f3\",\"#FF6692\",\"#B6E880\",\"#FF97FF\",\"#FECB52\"],\"font\":{\"color\":\"#2a3f5f\"},\"hovermode\":\"closest\",\"hoverlabel\":{\"align\":\"left\"},\"paper_bgcolor\":\"white\",\"plot_bgcolor\":\"#E5ECF6\",\"polar\":{\"bgcolor\":\"#E5ECF6\",\"angularaxis\":{\"gridcolor\":\"white\",\"linecolor\":\"white\",\"ticks\":\"\"},\"radialaxis\":{\"gridcolor\":\"white\",\"linecolor\":\"white\",\"ticks\":\"\"}},\"ternary\":{\"bgcolor\":\"#E5ECF6\",\"aaxis\":{\"gridcolor\":\"white\",\"linecolor\":\"white\",\"ticks\":\"\"},\"baxis\":{\"gridcolor\":\"white\",\"linecolor\":\"white\",\"ticks\":\"\"},\"caxis\":{\"gridcolor\":\"white\",\"linecolor\":\"white\",\"ticks\":\"\"}},\"coloraxis\":{\"colorbar\":{\"outlinewidth\":0,\"ticks\":\"\"}},\"colorscale\":{\"sequential\":[[0.0,\"#0d0887\"],[0.1111111111111111,\"#46039f\"],[0.2222222222222222,\"#7201a8\"],[0.3333333333333333,\"#9c179e\"],[0.4444444444444444,\"#bd3786\"],[0.5555555555555556,\"#d8576b\"],[0.6666666666666666,\"#ed7953\"],[0.7777777777777778,\"#fb9f3a\"],[0.8888888888888888,\"#fdca26\"],[1.0,\"#f0f921\"]],\"sequentialminus\":[[0.0,\"#0d0887\"],[0.1111111111111111,\"#46039f\"],[0.2222222222222222,\"#7201a8\"],[0.3333333333333333,\"#9c179e\"],[0.4444444444444444,\"#bd3786\"],[0.5555555555555556,\"#d8576b\"],[0.6666666666666666,\"#ed7953\"],[0.7777777777777778,\"#fb9f3a\"],[0.8888888888888888,\"#fdca26\"],[1.0,\"#f0f921\"]],\"diverging\":[[0,\"#8e0152\"],[0.1,\"#c51b7d\"],[0.2,\"#de77ae\"],[0.3,\"#f1b6da\"],[0.4,\"#fde0ef\"],[0.5,\"#f7f7f7\"],[0.6,\"#e6f5d0\"],[0.7,\"#b8e186\"],[0.8,\"#7fbc41\"],[0.9,\"#4d9221\"],[1,\"#276419\"]]},\"xaxis\":{\"gridcolor\":\"white\",\"linecolor\":\"white\",\"ticks\":\"\",\"title\":{\"standoff\":15},\"zerolinecolor\":\"white\",\"automargin\":true,\"zerolinewidth\":2},\"yaxis\":{\"gridcolor\":\"white\",\"linecolor\":\"white\",\"ticks\":\"\",\"title\":{\"standoff\":15},\"zerolinecolor\":\"white\",\"automargin\":true,\"zerolinewidth\":2},\"scene\":{\"xaxis\":{\"backgroundcolor\":\"#E5ECF6\",\"gridcolor\":\"white\",\"linecolor\":\"white\",\"showbackground\":true,\"ticks\":\"\",\"zerolinecolor\":\"white\",\"gridwidth\":2},\"yaxis\":{\"backgroundcolor\":\"#E5ECF6\",\"gridcolor\":\"white\",\"linecolor\":\"white\",\"showbackground\":true,\"ticks\":\"\",\"zerolinecolor\":\"white\",\"gridwidth\":2},\"zaxis\":{\"backgroundcolor\":\"#E5ECF6\",\"gridcolor\":\"white\",\"linecolor\":\"white\",\"showbackground\":true,\"ticks\":\"\",\"zerolinecolor\":\"white\",\"gridwidth\":2}},\"shapedefaults\":{\"line\":{\"color\":\"#2a3f5f\"}},\"annotationdefaults\":{\"arrowcolor\":\"#2a3f5f\",\"arrowhead\":0,\"arrowwidth\":1},\"geo\":{\"bgcolor\":\"white\",\"landcolor\":\"#E5ECF6\",\"subunitcolor\":\"white\",\"showland\":true,\"showlakes\":true,\"lakecolor\":\"white\"},\"title\":{\"x\":0.05},\"mapbox\":{\"style\":\"light\"}}},\"xaxis\":{\"tickmode\":\"array\",\"tickvals\":[1,2,3,4,5,6,7,8,9],\"ticktext\":[\"AROU\",\"VAL\",\"DOM\",\"CNC\",\"IMAG\",\"FAM\",\"AOA\",\"SIZE\",\"GEND\"]}},                        {\"responsive\": true}                    ).then(function(){\n",
       "                            \n",
       "var gd = document.getElementById('37c37f0b-fd4f-4b90-982e-6774595a79bf');\n",
       "var x = new MutationObserver(function (mutations, observer) {{\n",
       "        var display = window.getComputedStyle(gd).display;\n",
       "        if (!display || display === 'none') {{\n",
       "            console.log([gd, 'removed!']);\n",
       "            Plotly.purge(gd);\n",
       "            observer.disconnect();\n",
       "        }}\n",
       "}});\n",
       "\n",
       "// Listen for the removal of the full notebook cells\n",
       "var notebookContainer = gd.closest('#notebook-container');\n",
       "if (notebookContainer) {{\n",
       "    x.observe(notebookContainer, {childList: true});\n",
       "}}\n",
       "\n",
       "// Listen for the clearing of the current output cell\n",
       "var outputEl = gd.closest('.output');\n",
       "if (outputEl) {{\n",
       "    x.observe(outputEl, {childList: true});\n",
       "}}\n",
       "\n",
       "                        })                };                });            </script>        </div>"
      ]
     },
     "metadata": {},
     "output_type": "display_data"
    }
   ],
   "source": [
    "viz_GlasgowR(['snake','dog'], glasgow)"
   ]
  },
  {
   "cell_type": "code",
   "execution_count": 72,
   "metadata": {},
   "outputs": [
    {
     "data": {
      "application/vnd.plotly.v1+json": {
       "config": {
        "plotlyServerURL": "https://plot.ly"
       },
       "data": [
        {
         "line": {
          "color": "#636EFA"
         },
         "mode": "lines",
         "name": "snake",
         "showlegend": true,
         "type": "scatter",
         "x": [
          1,
          2,
          3,
          4,
          5,
          6,
          7,
          8,
          9
         ],
         "y": [
          4.909,
          3.657,
          5.257,
          6.714,
          6.657,
          5.647,
          2.529,
          3.091,
          5.2
         ]
        },
        {
         "fill": "toself",
         "fillcolor": "rgba(99, 110, 250, 0.2)",
         "hoverinfo": "skip",
         "line": {
          "color": "rgba(255,255,255,0)"
         },
         "showlegend": false,
         "type": "scatter",
         "x": [
          1,
          2,
          3,
          4,
          5,
          6,
          7,
          8,
          9,
          9,
          8,
          7,
          6,
          5,
          4,
          3,
          2,
          1
         ],
         "y": [
          7.275,
          5.277,
          7.304,
          7.414000000000001,
          7.287,
          7.12,
          3.476,
          4.712,
          10.4,
          0,
          1.4700000000000002,
          1.5819999999999999,
          4.174,
          6.027,
          6.014,
          3.2099999999999995,
          2.037,
          2.5429999999999997
         ]
        },
        {
         "line": {
          "color": "#EF553B"
         },
         "mode": "lines",
         "name": "dog",
         "showlegend": true,
         "type": "scatter",
         "x": [
          1,
          2,
          3,
          4,
          5,
          6,
          7,
          8,
          9
         ],
         "y": [
          6.147,
          7.067,
          6.242,
          6.833,
          6.889,
          6.84,
          1.735,
          3.273,
          4.606
         ]
        },
        {
         "fill": "toself",
         "fillcolor": "rgba(239, 85, 59, 0.2)",
         "hoverinfo": "skip",
         "line": {
          "color": "rgba(255,255,255,0)"
         },
         "showlegend": false,
         "type": "scatter",
         "x": [
          1,
          2,
          3,
          4,
          5,
          6,
          7,
          8,
          9,
          9,
          8,
          7,
          6,
          5,
          4,
          3,
          2,
          1
         ],
         "y": [
          8.332,
          8.304,
          8.035,
          7.2860000000000005,
          7.203,
          7.303,
          2.391,
          4.511,
          9.212,
          0,
          2.035,
          1.0790000000000002,
          6.377,
          6.575,
          6.38,
          4.449,
          5.83,
          3.962
         ]
        },
        {
         "line": {
          "color": "#00CC96"
         },
         "mode": "lines",
         "name": "evil",
         "showlegend": true,
         "type": "scatter",
         "x": [
          1,
          2,
          3,
          4,
          5,
          6,
          7,
          8,
          9
         ],
         "y": [
          5.559,
          1.514,
          3.8,
          2.294,
          4.118,
          5.469,
          3.057,
          5.853,
          5.029
         ]
        },
        {
         "fill": "toself",
         "fillcolor": "rgba(0, 204, 150, 0.2)",
         "hoverinfo": "skip",
         "line": {
          "color": "rgba(255,255,255,0)"
         },
         "showlegend": false,
         "type": "scatter",
         "x": [
          1,
          2,
          3,
          4,
          5,
          6,
          7,
          8,
          9,
          9,
          8,
          7,
          6,
          5,
          4,
          3,
          2,
          1
         ],
         "y": [
          8.128,
          2.593,
          6.471,
          3.912,
          6.325,
          7.089,
          4.202,
          7.138999999999999,
          10.058,
          0,
          4.567,
          1.912,
          3.849,
          1.9110000000000005,
          0.6759999999999999,
          1.129,
          0.43500000000000005,
          2.99
         ]
        }
       ],
       "layout": {
        "autosize": true,
        "template": {
         "data": {
          "bar": [
           {
            "error_x": {
             "color": "#2a3f5f"
            },
            "error_y": {
             "color": "#2a3f5f"
            },
            "marker": {
             "line": {
              "color": "#E5ECF6",
              "width": 0.5
             },
             "pattern": {
              "fillmode": "overlay",
              "size": 10,
              "solidity": 0.2
             }
            },
            "type": "bar"
           }
          ],
          "barpolar": [
           {
            "marker": {
             "line": {
              "color": "#E5ECF6",
              "width": 0.5
             },
             "pattern": {
              "fillmode": "overlay",
              "size": 10,
              "solidity": 0.2
             }
            },
            "type": "barpolar"
           }
          ],
          "carpet": [
           {
            "aaxis": {
             "endlinecolor": "#2a3f5f",
             "gridcolor": "white",
             "linecolor": "white",
             "minorgridcolor": "white",
             "startlinecolor": "#2a3f5f"
            },
            "baxis": {
             "endlinecolor": "#2a3f5f",
             "gridcolor": "white",
             "linecolor": "white",
             "minorgridcolor": "white",
             "startlinecolor": "#2a3f5f"
            },
            "type": "carpet"
           }
          ],
          "choropleth": [
           {
            "colorbar": {
             "outlinewidth": 0,
             "ticks": ""
            },
            "type": "choropleth"
           }
          ],
          "contour": [
           {
            "colorbar": {
             "outlinewidth": 0,
             "ticks": ""
            },
            "colorscale": [
             [
              0,
              "#0d0887"
             ],
             [
              0.1111111111111111,
              "#46039f"
             ],
             [
              0.2222222222222222,
              "#7201a8"
             ],
             [
              0.3333333333333333,
              "#9c179e"
             ],
             [
              0.4444444444444444,
              "#bd3786"
             ],
             [
              0.5555555555555556,
              "#d8576b"
             ],
             [
              0.6666666666666666,
              "#ed7953"
             ],
             [
              0.7777777777777778,
              "#fb9f3a"
             ],
             [
              0.8888888888888888,
              "#fdca26"
             ],
             [
              1,
              "#f0f921"
             ]
            ],
            "type": "contour"
           }
          ],
          "contourcarpet": [
           {
            "colorbar": {
             "outlinewidth": 0,
             "ticks": ""
            },
            "type": "contourcarpet"
           }
          ],
          "heatmap": [
           {
            "colorbar": {
             "outlinewidth": 0,
             "ticks": ""
            },
            "colorscale": [
             [
              0,
              "#0d0887"
             ],
             [
              0.1111111111111111,
              "#46039f"
             ],
             [
              0.2222222222222222,
              "#7201a8"
             ],
             [
              0.3333333333333333,
              "#9c179e"
             ],
             [
              0.4444444444444444,
              "#bd3786"
             ],
             [
              0.5555555555555556,
              "#d8576b"
             ],
             [
              0.6666666666666666,
              "#ed7953"
             ],
             [
              0.7777777777777778,
              "#fb9f3a"
             ],
             [
              0.8888888888888888,
              "#fdca26"
             ],
             [
              1,
              "#f0f921"
             ]
            ],
            "type": "heatmap"
           }
          ],
          "heatmapgl": [
           {
            "colorbar": {
             "outlinewidth": 0,
             "ticks": ""
            },
            "colorscale": [
             [
              0,
              "#0d0887"
             ],
             [
              0.1111111111111111,
              "#46039f"
             ],
             [
              0.2222222222222222,
              "#7201a8"
             ],
             [
              0.3333333333333333,
              "#9c179e"
             ],
             [
              0.4444444444444444,
              "#bd3786"
             ],
             [
              0.5555555555555556,
              "#d8576b"
             ],
             [
              0.6666666666666666,
              "#ed7953"
             ],
             [
              0.7777777777777778,
              "#fb9f3a"
             ],
             [
              0.8888888888888888,
              "#fdca26"
             ],
             [
              1,
              "#f0f921"
             ]
            ],
            "type": "heatmapgl"
           }
          ],
          "histogram": [
           {
            "marker": {
             "pattern": {
              "fillmode": "overlay",
              "size": 10,
              "solidity": 0.2
             }
            },
            "type": "histogram"
           }
          ],
          "histogram2d": [
           {
            "colorbar": {
             "outlinewidth": 0,
             "ticks": ""
            },
            "colorscale": [
             [
              0,
              "#0d0887"
             ],
             [
              0.1111111111111111,
              "#46039f"
             ],
             [
              0.2222222222222222,
              "#7201a8"
             ],
             [
              0.3333333333333333,
              "#9c179e"
             ],
             [
              0.4444444444444444,
              "#bd3786"
             ],
             [
              0.5555555555555556,
              "#d8576b"
             ],
             [
              0.6666666666666666,
              "#ed7953"
             ],
             [
              0.7777777777777778,
              "#fb9f3a"
             ],
             [
              0.8888888888888888,
              "#fdca26"
             ],
             [
              1,
              "#f0f921"
             ]
            ],
            "type": "histogram2d"
           }
          ],
          "histogram2dcontour": [
           {
            "colorbar": {
             "outlinewidth": 0,
             "ticks": ""
            },
            "colorscale": [
             [
              0,
              "#0d0887"
             ],
             [
              0.1111111111111111,
              "#46039f"
             ],
             [
              0.2222222222222222,
              "#7201a8"
             ],
             [
              0.3333333333333333,
              "#9c179e"
             ],
             [
              0.4444444444444444,
              "#bd3786"
             ],
             [
              0.5555555555555556,
              "#d8576b"
             ],
             [
              0.6666666666666666,
              "#ed7953"
             ],
             [
              0.7777777777777778,
              "#fb9f3a"
             ],
             [
              0.8888888888888888,
              "#fdca26"
             ],
             [
              1,
              "#f0f921"
             ]
            ],
            "type": "histogram2dcontour"
           }
          ],
          "mesh3d": [
           {
            "colorbar": {
             "outlinewidth": 0,
             "ticks": ""
            },
            "type": "mesh3d"
           }
          ],
          "parcoords": [
           {
            "line": {
             "colorbar": {
              "outlinewidth": 0,
              "ticks": ""
             }
            },
            "type": "parcoords"
           }
          ],
          "pie": [
           {
            "automargin": true,
            "type": "pie"
           }
          ],
          "scatter": [
           {
            "fillpattern": {
             "fillmode": "overlay",
             "size": 10,
             "solidity": 0.2
            },
            "type": "scatter"
           }
          ],
          "scatter3d": [
           {
            "line": {
             "colorbar": {
              "outlinewidth": 0,
              "ticks": ""
             }
            },
            "marker": {
             "colorbar": {
              "outlinewidth": 0,
              "ticks": ""
             }
            },
            "type": "scatter3d"
           }
          ],
          "scattercarpet": [
           {
            "marker": {
             "colorbar": {
              "outlinewidth": 0,
              "ticks": ""
             }
            },
            "type": "scattercarpet"
           }
          ],
          "scattergeo": [
           {
            "marker": {
             "colorbar": {
              "outlinewidth": 0,
              "ticks": ""
             }
            },
            "type": "scattergeo"
           }
          ],
          "scattergl": [
           {
            "marker": {
             "colorbar": {
              "outlinewidth": 0,
              "ticks": ""
             }
            },
            "type": "scattergl"
           }
          ],
          "scattermapbox": [
           {
            "marker": {
             "colorbar": {
              "outlinewidth": 0,
              "ticks": ""
             }
            },
            "type": "scattermapbox"
           }
          ],
          "scatterpolar": [
           {
            "marker": {
             "colorbar": {
              "outlinewidth": 0,
              "ticks": ""
             }
            },
            "type": "scatterpolar"
           }
          ],
          "scatterpolargl": [
           {
            "marker": {
             "colorbar": {
              "outlinewidth": 0,
              "ticks": ""
             }
            },
            "type": "scatterpolargl"
           }
          ],
          "scatterternary": [
           {
            "marker": {
             "colorbar": {
              "outlinewidth": 0,
              "ticks": ""
             }
            },
            "type": "scatterternary"
           }
          ],
          "surface": [
           {
            "colorbar": {
             "outlinewidth": 0,
             "ticks": ""
            },
            "colorscale": [
             [
              0,
              "#0d0887"
             ],
             [
              0.1111111111111111,
              "#46039f"
             ],
             [
              0.2222222222222222,
              "#7201a8"
             ],
             [
              0.3333333333333333,
              "#9c179e"
             ],
             [
              0.4444444444444444,
              "#bd3786"
             ],
             [
              0.5555555555555556,
              "#d8576b"
             ],
             [
              0.6666666666666666,
              "#ed7953"
             ],
             [
              0.7777777777777778,
              "#fb9f3a"
             ],
             [
              0.8888888888888888,
              "#fdca26"
             ],
             [
              1,
              "#f0f921"
             ]
            ],
            "type": "surface"
           }
          ],
          "table": [
           {
            "cells": {
             "fill": {
              "color": "#EBF0F8"
             },
             "line": {
              "color": "white"
             }
            },
            "header": {
             "fill": {
              "color": "#C8D4E3"
             },
             "line": {
              "color": "white"
             }
            },
            "type": "table"
           }
          ]
         },
         "layout": {
          "annotationdefaults": {
           "arrowcolor": "#2a3f5f",
           "arrowhead": 0,
           "arrowwidth": 1
          },
          "autotypenumbers": "strict",
          "coloraxis": {
           "colorbar": {
            "outlinewidth": 0,
            "ticks": ""
           }
          },
          "colorscale": {
           "diverging": [
            [
             0,
             "#8e0152"
            ],
            [
             0.1,
             "#c51b7d"
            ],
            [
             0.2,
             "#de77ae"
            ],
            [
             0.3,
             "#f1b6da"
            ],
            [
             0.4,
             "#fde0ef"
            ],
            [
             0.5,
             "#f7f7f7"
            ],
            [
             0.6,
             "#e6f5d0"
            ],
            [
             0.7,
             "#b8e186"
            ],
            [
             0.8,
             "#7fbc41"
            ],
            [
             0.9,
             "#4d9221"
            ],
            [
             1,
             "#276419"
            ]
           ],
           "sequential": [
            [
             0,
             "#0d0887"
            ],
            [
             0.1111111111111111,
             "#46039f"
            ],
            [
             0.2222222222222222,
             "#7201a8"
            ],
            [
             0.3333333333333333,
             "#9c179e"
            ],
            [
             0.4444444444444444,
             "#bd3786"
            ],
            [
             0.5555555555555556,
             "#d8576b"
            ],
            [
             0.6666666666666666,
             "#ed7953"
            ],
            [
             0.7777777777777778,
             "#fb9f3a"
            ],
            [
             0.8888888888888888,
             "#fdca26"
            ],
            [
             1,
             "#f0f921"
            ]
           ],
           "sequentialminus": [
            [
             0,
             "#0d0887"
            ],
            [
             0.1111111111111111,
             "#46039f"
            ],
            [
             0.2222222222222222,
             "#7201a8"
            ],
            [
             0.3333333333333333,
             "#9c179e"
            ],
            [
             0.4444444444444444,
             "#bd3786"
            ],
            [
             0.5555555555555556,
             "#d8576b"
            ],
            [
             0.6666666666666666,
             "#ed7953"
            ],
            [
             0.7777777777777778,
             "#fb9f3a"
            ],
            [
             0.8888888888888888,
             "#fdca26"
            ],
            [
             1,
             "#f0f921"
            ]
           ]
          },
          "colorway": [
           "#636efa",
           "#EF553B",
           "#00cc96",
           "#ab63fa",
           "#FFA15A",
           "#19d3f3",
           "#FF6692",
           "#B6E880",
           "#FF97FF",
           "#FECB52"
          ],
          "font": {
           "color": "#2a3f5f"
          },
          "geo": {
           "bgcolor": "white",
           "lakecolor": "white",
           "landcolor": "#E5ECF6",
           "showlakes": true,
           "showland": true,
           "subunitcolor": "white"
          },
          "hoverlabel": {
           "align": "left"
          },
          "hovermode": "closest",
          "mapbox": {
           "style": "light"
          },
          "paper_bgcolor": "white",
          "plot_bgcolor": "#E5ECF6",
          "polar": {
           "angularaxis": {
            "gridcolor": "white",
            "linecolor": "white",
            "ticks": ""
           },
           "bgcolor": "#E5ECF6",
           "radialaxis": {
            "gridcolor": "white",
            "linecolor": "white",
            "ticks": ""
           }
          },
          "scene": {
           "xaxis": {
            "backgroundcolor": "#E5ECF6",
            "gridcolor": "white",
            "gridwidth": 2,
            "linecolor": "white",
            "showbackground": true,
            "ticks": "",
            "zerolinecolor": "white"
           },
           "yaxis": {
            "backgroundcolor": "#E5ECF6",
            "gridcolor": "white",
            "gridwidth": 2,
            "linecolor": "white",
            "showbackground": true,
            "ticks": "",
            "zerolinecolor": "white"
           },
           "zaxis": {
            "backgroundcolor": "#E5ECF6",
            "gridcolor": "white",
            "gridwidth": 2,
            "linecolor": "white",
            "showbackground": true,
            "ticks": "",
            "zerolinecolor": "white"
           }
          },
          "shapedefaults": {
           "line": {
            "color": "#2a3f5f"
           }
          },
          "ternary": {
           "aaxis": {
            "gridcolor": "white",
            "linecolor": "white",
            "ticks": ""
           },
           "baxis": {
            "gridcolor": "white",
            "linecolor": "white",
            "ticks": ""
           },
           "bgcolor": "#E5ECF6",
           "caxis": {
            "gridcolor": "white",
            "linecolor": "white",
            "ticks": ""
           }
          },
          "title": {
           "x": 0.05
          },
          "xaxis": {
           "automargin": true,
           "gridcolor": "white",
           "linecolor": "white",
           "ticks": "",
           "title": {
            "standoff": 15
           },
           "zerolinecolor": "white",
           "zerolinewidth": 2
          },
          "yaxis": {
           "automargin": true,
           "gridcolor": "white",
           "linecolor": "white",
           "ticks": "",
           "title": {
            "standoff": 15
           },
           "zerolinecolor": "white",
           "zerolinewidth": 2
          }
         }
        },
        "xaxis": {
         "autorange": true,
         "range": [
          0.5281950258557006,
          9.4718049741443
         ],
         "tickmode": "array",
         "ticktext": [
          "AROU",
          "VAL",
          "DOM",
          "CNC",
          "IMAG",
          "FAM",
          "AOA",
          "SIZE",
          "GEND"
         ],
         "tickvals": [
          1,
          2,
          3,
          4,
          5,
          6,
          7,
          8,
          9
         ],
         "type": "linear"
        },
        "yaxis": {
         "autorange": true,
         "range": [
          -0.858252427184466,
          11.258252427184466
         ],
         "type": "linear"
        }
       }
      },
      "image/png": "[encoded data removed]",
      "text/html": [
       "<div>                            <div id=\"daa43c70-5f18-4841-978a-030f6e0a013d\" class=\"plotly-graph-div\" style=\"height:525px; width:100%;\"></div>            <script type=\"text/javascript\">                require([\"plotly\"], function(Plotly) {                    window.PLOTLYENV=window.PLOTLYENV || {};                                    if (document.getElementById(\"daa43c70-5f18-4841-978a-030f6e0a013d\")) {                    Plotly.newPlot(                        \"daa43c70-5f18-4841-978a-030f6e0a013d\",                        [{\"line\":{\"color\":\"#636EFA\"},\"mode\":\"lines\",\"name\":\"snake\",\"showlegend\":true,\"x\":[1,2,3,4,5,6,7,8,9],\"y\":[4.909,3.657,5.257,6.714,6.657,5.647,2.529,3.091,5.2],\"type\":\"scatter\"},{\"fill\":\"toself\",\"fillcolor\":\"rgba(99, 110, 250, 0.2)\",\"hoverinfo\":\"skip\",\"line\":{\"color\":\"rgba(255,255,255,0)\"},\"showlegend\":false,\"x\":[1,2,3,4,5,6,7,8,9,9,8,7,6,5,4,3,2,1],\"y\":[7.275,5.277,7.304,7.414000000000001,7.287,7.12,3.476,4.712,10.4,0.0,1.4700000000000002,1.5819999999999999,4.174,6.027,6.014,3.2099999999999995,2.037,2.5429999999999997],\"type\":\"scatter\"},{\"line\":{\"color\":\"#EF553B\"},\"mode\":\"lines\",\"name\":\"dog\",\"showlegend\":true,\"x\":[1,2,3,4,5,6,7,8,9],\"y\":[6.147,7.067,6.242,6.833,6.889,6.84,1.735,3.273,4.606],\"type\":\"scatter\"},{\"fill\":\"toself\",\"fillcolor\":\"rgba(239, 85, 59, 0.2)\",\"hoverinfo\":\"skip\",\"line\":{\"color\":\"rgba(255,255,255,0)\"},\"showlegend\":false,\"x\":[1,2,3,4,5,6,7,8,9,9,8,7,6,5,4,3,2,1],\"y\":[8.332,8.304,8.035,7.2860000000000005,7.203,7.303,2.391,4.511,9.212,0.0,2.035,1.0790000000000002,6.377,6.575,6.38,4.449,5.83,3.962],\"type\":\"scatter\"},{\"line\":{\"color\":\"#00CC96\"},\"mode\":\"lines\",\"name\":\"evil\",\"showlegend\":true,\"x\":[1,2,3,4,5,6,7,8,9],\"y\":[5.559,1.514,3.8,2.294,4.118,5.469,3.057,5.853,5.029],\"type\":\"scatter\"},{\"fill\":\"toself\",\"fillcolor\":\"rgba(0, 204, 150, 0.2)\",\"hoverinfo\":\"skip\",\"line\":{\"color\":\"rgba(255,255,255,0)\"},\"showlegend\":false,\"x\":[1,2,3,4,5,6,7,8,9,9,8,7,6,5,4,3,2,1],\"y\":[8.128,2.593,6.471,3.912,6.325,7.089,4.202,7.138999999999999,10.058,0.0,4.567,1.912,3.849,1.9110000000000005,0.6759999999999999,1.129,0.43500000000000005,2.99],\"type\":\"scatter\"}],                        {\"template\":{\"data\":{\"histogram2dcontour\":[{\"type\":\"histogram2dcontour\",\"colorbar\":{\"outlinewidth\":0,\"ticks\":\"\"},\"colorscale\":[[0.0,\"#0d0887\"],[0.1111111111111111,\"#46039f\"],[0.2222222222222222,\"#7201a8\"],[0.3333333333333333,\"#9c179e\"],[0.4444444444444444,\"#bd3786\"],[0.5555555555555556,\"#d8576b\"],[0.6666666666666666,\"#ed7953\"],[0.7777777777777778,\"#fb9f3a\"],[0.8888888888888888,\"#fdca26\"],[1.0,\"#f0f921\"]]}],\"choropleth\":[{\"type\":\"choropleth\",\"colorbar\":{\"outlinewidth\":0,\"ticks\":\"\"}}],\"histogram2d\":[{\"type\":\"histogram2d\",\"colorbar\":{\"outlinewidth\":0,\"ticks\":\"\"},\"colorscale\":[[0.0,\"#0d0887\"],[0.1111111111111111,\"#46039f\"],[0.2222222222222222,\"#7201a8\"],[0.3333333333333333,\"#9c179e\"],[0.4444444444444444,\"#bd3786\"],[0.5555555555555556,\"#d8576b\"],[0.6666666666666666,\"#ed7953\"],[0.7777777777777778,\"#fb9f3a\"],[0.8888888888888888,\"#fdca26\"],[1.0,\"#f0f921\"]]}],\"heatmap\":[{\"type\":\"heatmap\",\"colorbar\":{\"outlinewidth\":0,\"ticks\":\"\"},\"colorscale\":[[0.0,\"#0d0887\"],[0.1111111111111111,\"#46039f\"],[0.2222222222222222,\"#7201a8\"],[0.3333333333333333,\"#9c179e\"],[0.4444444444444444,\"#bd3786\"],[0.5555555555555556,\"#d8576b\"],[0.6666666666666666,\"#ed7953\"],[0.7777777777777778,\"#fb9f3a\"],[0.8888888888888888,\"#fdca26\"],[1.0,\"#f0f921\"]]}],\"heatmapgl\":[{\"type\":\"heatmapgl\",\"colorbar\":{\"outlinewidth\":0,\"ticks\":\"\"},\"colorscale\":[[0.0,\"#0d0887\"],[0.1111111111111111,\"#46039f\"],[0.2222222222222222,\"#7201a8\"],[0.3333333333333333,\"#9c179e\"],[0.4444444444444444,\"#bd3786\"],[0.5555555555555556,\"#d8576b\"],[0.6666666666666666,\"#ed7953\"],[0.7777777777777778,\"#fb9f3a\"],[0.8888888888888888,\"#fdca26\"],[1.0,\"#f0f921\"]]}],\"contourcarpet\":[{\"type\":\"contourcarpet\",\"colorbar\":{\"outlinewidth\":0,\"ticks\":\"\"}}],\"contour\":[{\"type\":\"contour\",\"colorbar\":{\"outlinewidth\":0,\"ticks\":\"\"},\"colorscale\":[[0.0,\"#0d0887\"],[0.1111111111111111,\"#46039f\"],[0.2222222222222222,\"#7201a8\"],[0.3333333333333333,\"#9c179e\"],[0.4444444444444444,\"#bd3786\"],[0.5555555555555556,\"#d8576b\"],[0.6666666666666666,\"#ed7953\"],[0.7777777777777778,\"#fb9f3a\"],[0.8888888888888888,\"#fdca26\"],[1.0,\"#f0f921\"]]}],\"surface\":[{\"type\":\"surface\",\"colorbar\":{\"outlinewidth\":0,\"ticks\":\"\"},\"colorscale\":[[0.0,\"#0d0887\"],[0.1111111111111111,\"#46039f\"],[0.2222222222222222,\"#7201a8\"],[0.3333333333333333,\"#9c179e\"],[0.4444444444444444,\"#bd3786\"],[0.5555555555555556,\"#d8576b\"],[0.6666666666666666,\"#ed7953\"],[0.7777777777777778,\"#fb9f3a\"],[0.8888888888888888,\"#fdca26\"],[1.0,\"#f0f921\"]]}],\"mesh3d\":[{\"type\":\"mesh3d\",\"colorbar\":{\"outlinewidth\":0,\"ticks\":\"\"}}],\"scatter\":[{\"fillpattern\":{\"fillmode\":\"overlay\",\"size\":10,\"solidity\":0.2},\"type\":\"scatter\"}],\"parcoords\":[{\"type\":\"parcoords\",\"line\":{\"colorbar\":{\"outlinewidth\":0,\"ticks\":\"\"}}}],\"scatterpolargl\":[{\"type\":\"scatterpolargl\",\"marker\":{\"colorbar\":{\"outlinewidth\":0,\"ticks\":\"\"}}}],\"bar\":[{\"error_x\":{\"color\":\"#2a3f5f\"},\"error_y\":{\"color\":\"#2a3f5f\"},\"marker\":{\"line\":{\"color\":\"#E5ECF6\",\"width\":0.5},\"pattern\":{\"fillmode\":\"overlay\",\"size\":10,\"solidity\":0.2}},\"type\":\"bar\"}],\"scattergeo\":[{\"type\":\"scattergeo\",\"marker\":{\"colorbar\":{\"outlinewidth\":0,\"ticks\":\"\"}}}],\"scatterpolar\":[{\"type\":\"scatterpolar\",\"marker\":{\"colorbar\":{\"outlinewidth\":0,\"ticks\":\"\"}}}],\"histogram\":[{\"marker\":{\"pattern\":{\"fillmode\":\"overlay\",\"size\":10,\"solidity\":0.2}},\"type\":\"histogram\"}],\"scattergl\":[{\"type\":\"scattergl\",\"marker\":{\"colorbar\":{\"outlinewidth\":0,\"ticks\":\"\"}}}],\"scatter3d\":[{\"type\":\"scatter3d\",\"line\":{\"colorbar\":{\"outlinewidth\":0,\"ticks\":\"\"}},\"marker\":{\"colorbar\":{\"outlinewidth\":0,\"ticks\":\"\"}}}],\"scattermapbox\":[{\"type\":\"scattermapbox\",\"marker\":{\"colorbar\":{\"outlinewidth\":0,\"ticks\":\"\"}}}],\"scatterternary\":[{\"type\":\"scatterternary\",\"marker\":{\"colorbar\":{\"outlinewidth\":0,\"ticks\":\"\"}}}],\"scattercarpet\":[{\"type\":\"scattercarpet\",\"marker\":{\"colorbar\":{\"outlinewidth\":0,\"ticks\":\"\"}}}],\"carpet\":[{\"aaxis\":{\"endlinecolor\":\"#2a3f5f\",\"gridcolor\":\"white\",\"linecolor\":\"white\",\"minorgridcolor\":\"white\",\"startlinecolor\":\"#2a3f5f\"},\"baxis\":{\"endlinecolor\":\"#2a3f5f\",\"gridcolor\":\"white\",\"linecolor\":\"white\",\"minorgridcolor\":\"white\",\"startlinecolor\":\"#2a3f5f\"},\"type\":\"carpet\"}],\"table\":[{\"cells\":{\"fill\":{\"color\":\"#EBF0F8\"},\"line\":{\"color\":\"white\"}},\"header\":{\"fill\":{\"color\":\"#C8D4E3\"},\"line\":{\"color\":\"white\"}},\"type\":\"table\"}],\"barpolar\":[{\"marker\":{\"line\":{\"color\":\"#E5ECF6\",\"width\":0.5},\"pattern\":{\"fillmode\":\"overlay\",\"size\":10,\"solidity\":0.2}},\"type\":\"barpolar\"}],\"pie\":[{\"automargin\":true,\"type\":\"pie\"}]},\"layout\":{\"autotypenumbers\":\"strict\",\"colorway\":[\"#636efa\",\"#EF553B\",\"#00cc96\",\"#ab63fa\",\"#FFA15A\",\"#19d3f3\",\"#FF6692\",\"#B6E880\",\"#FF97FF\",\"#FECB52\"],\"font\":{\"color\":\"#2a3f5f\"},\"hovermode\":\"closest\",\"hoverlabel\":{\"align\":\"left\"},\"paper_bgcolor\":\"white\",\"plot_bgcolor\":\"#E5ECF6\",\"polar\":{\"bgcolor\":\"#E5ECF6\",\"angularaxis\":{\"gridcolor\":\"white\",\"linecolor\":\"white\",\"ticks\":\"\"},\"radialaxis\":{\"gridcolor\":\"white\",\"linecolor\":\"white\",\"ticks\":\"\"}},\"ternary\":{\"bgcolor\":\"#E5ECF6\",\"aaxis\":{\"gridcolor\":\"white\",\"linecolor\":\"white\",\"ticks\":\"\"},\"baxis\":{\"gridcolor\":\"white\",\"linecolor\":\"white\",\"ticks\":\"\"},\"caxis\":{\"gridcolor\":\"white\",\"linecolor\":\"white\",\"ticks\":\"\"}},\"coloraxis\":{\"colorbar\":{\"outlinewidth\":0,\"ticks\":\"\"}},\"colorscale\":{\"sequential\":[[0.0,\"#0d0887\"],[0.1111111111111111,\"#46039f\"],[0.2222222222222222,\"#7201a8\"],[0.3333333333333333,\"#9c179e\"],[0.4444444444444444,\"#bd3786\"],[0.5555555555555556,\"#d8576b\"],[0.6666666666666666,\"#ed7953\"],[0.7777777777777778,\"#fb9f3a\"],[0.8888888888888888,\"#fdca26\"],[1.0,\"#f0f921\"]],\"sequentialminus\":[[0.0,\"#0d0887\"],[0.1111111111111111,\"#46039f\"],[0.2222222222222222,\"#7201a8\"],[0.3333333333333333,\"#9c179e\"],[0.4444444444444444,\"#bd3786\"],[0.5555555555555556,\"#d8576b\"],[0.6666666666666666,\"#ed7953\"],[0.7777777777777778,\"#fb9f3a\"],[0.8888888888888888,\"#fdca26\"],[1.0,\"#f0f921\"]],\"diverging\":[[0,\"#8e0152\"],[0.1,\"#c51b7d\"],[0.2,\"#de77ae\"],[0.3,\"#f1b6da\"],[0.4,\"#fde0ef\"],[0.5,\"#f7f7f7\"],[0.6,\"#e6f5d0\"],[0.7,\"#b8e186\"],[0.8,\"#7fbc41\"],[0.9,\"#4d9221\"],[1,\"#276419\"]]},\"xaxis\":{\"gridcolor\":\"white\",\"linecolor\":\"white\",\"ticks\":\"\",\"title\":{\"standoff\":15},\"zerolinecolor\":\"white\",\"automargin\":true,\"zerolinewidth\":2},\"yaxis\":{\"gridcolor\":\"white\",\"linecolor\":\"white\",\"ticks\":\"\",\"title\":{\"standoff\":15},\"zerolinecolor\":\"white\",\"automargin\":true,\"zerolinewidth\":2},\"scene\":{\"xaxis\":{\"backgroundcolor\":\"#E5ECF6\",\"gridcolor\":\"white\",\"linecolor\":\"white\",\"showbackground\":true,\"ticks\":\"\",\"zerolinecolor\":\"white\",\"gridwidth\":2},\"yaxis\":{\"backgroundcolor\":\"#E5ECF6\",\"gridcolor\":\"white\",\"linecolor\":\"white\",\"showbackground\":true,\"ticks\":\"\",\"zerolinecolor\":\"white\",\"gridwidth\":2},\"zaxis\":{\"backgroundcolor\":\"#E5ECF6\",\"gridcolor\":\"white\",\"linecolor\":\"white\",\"showbackground\":true,\"ticks\":\"\",\"zerolinecolor\":\"white\",\"gridwidth\":2}},\"shapedefaults\":{\"line\":{\"color\":\"#2a3f5f\"}},\"annotationdefaults\":{\"arrowcolor\":\"#2a3f5f\",\"arrowhead\":0,\"arrowwidth\":1},\"geo\":{\"bgcolor\":\"white\",\"landcolor\":\"#E5ECF6\",\"subunitcolor\":\"white\",\"showland\":true,\"showlakes\":true,\"lakecolor\":\"white\"},\"title\":{\"x\":0.05},\"mapbox\":{\"style\":\"light\"}}},\"xaxis\":{\"tickmode\":\"array\",\"tickvals\":[1,2,3,4,5,6,7,8,9],\"ticktext\":[\"AROU\",\"VAL\",\"DOM\",\"CNC\",\"IMAG\",\"FAM\",\"AOA\",\"SIZE\",\"GEND\"]}},                        {\"responsive\": true}                    ).then(function(){\n",
       "                            \n",
       "var gd = document.getElementById('daa43c70-5f18-4841-978a-030f6e0a013d');\n",
       "var x = new MutationObserver(function (mutations, observer) {{\n",
       "        var display = window.getComputedStyle(gd).display;\n",
       "        if (!display || display === 'none') {{\n",
       "            console.log([gd, 'removed!']);\n",
       "            Plotly.purge(gd);\n",
       "            observer.disconnect();\n",
       "        }}\n",
       "}});\n",
       "\n",
       "// Listen for the removal of the full notebook cells\n",
       "var notebookContainer = gd.closest('#notebook-container');\n",
       "if (notebookContainer) {{\n",
       "    x.observe(notebookContainer, {childList: true});\n",
       "}}\n",
       "\n",
       "// Listen for the clearing of the current output cell\n",
       "var outputEl = gd.closest('.output');\n",
       "if (outputEl) {{\n",
       "    x.observe(outputEl, {childList: true});\n",
       "}}\n",
       "\n",
       "                        })                };                });            </script>        </div>"
      ]
     },
     "metadata": {},
     "output_type": "display_data"
    }
   ],
   "source": [
    "viz_GlasgowR(['snake','dog','evil'], glasgow)"
   ]
  },
  {
   "cell_type": "code",
   "execution_count": null,
   "metadata": {},
   "outputs": [],
   "source": []
  },
  {
   "cell_type": "markdown",
   "metadata": {},
   "source": [
    "----\n",
    "# Factor Analysis\n",
    "Based on the https://towardsdatascience.com/factor-analysis-a-complete-tutorial-1b7621890e42.\n",
    "> It is not a well-explained tutorial. I should run on better references.  \n",
    "\n",
    "This tutorial is too much better: https://medium.com/@hongwy1128/intro-guide-to-factor-analysis-python-84dd0b0fd729"
   ]
  },
  {
   "cell_type": "code",
   "execution_count": 78,
   "metadata": {},
   "outputs": [],
   "source": [
    "from factor_analyzer import FactorAnalyzer"
   ]
  },
  {
   "cell_type": "code",
   "execution_count": 85,
   "metadata": {},
   "outputs": [],
   "source": [
    "## Selecting a subset of the original dataframe with only the columns of interest:\n",
    "x = glasgow[interest]"
   ]
  },
  {
   "cell_type": "code",
   "execution_count": 88,
   "metadata": {},
   "outputs": [
    {
     "data": {
      "text/html": [
       "<style>#sk-container-id-3 {color: black;}#sk-container-id-3 pre{padding: 0;}#sk-container-id-3 div.sk-toggleable {background-color: white;}#sk-container-id-3 label.sk-toggleable__label {cursor: pointer;display: block;width: 100%;margin-bottom: 0;padding: 0.3em;box-sizing: border-box;text-align: center;}#sk-container-id-3 label.sk-toggleable__label-arrow:before {content: \"▸\";float: left;margin-right: 0.25em;color: #696969;}#sk-container-id-3 label.sk-toggleable__label-arrow:hover:before {color: black;}#sk-container-id-3 div.sk-estimator:hover label.sk-toggleable__label-arrow:before {color: black;}#sk-container-id-3 div.sk-toggleable__content {max-height: 0;max-width: 0;overflow: hidden;text-align: left;background-color: #f0f8ff;}#sk-container-id-3 div.sk-toggleable__content pre {margin: 0.2em;color: black;border-radius: 0.25em;background-color: #f0f8ff;}#sk-container-id-3 input.sk-toggleable__control:checked~div.sk-toggleable__content {max-height: 200px;max-width: 100%;overflow: auto;}#sk-container-id-3 input.sk-toggleable__control:checked~label.sk-toggleable__label-arrow:before {content: \"▾\";}#sk-container-id-3 div.sk-estimator input.sk-toggleable__control:checked~label.sk-toggleable__label {background-color: #d4ebff;}#sk-container-id-3 div.sk-label input.sk-toggleable__control:checked~label.sk-toggleable__label {background-color: #d4ebff;}#sk-container-id-3 input.sk-hidden--visually {border: 0;clip: rect(1px 1px 1px 1px);clip: rect(1px, 1px, 1px, 1px);height: 1px;margin: -1px;overflow: hidden;padding: 0;position: absolute;width: 1px;}#sk-container-id-3 div.sk-estimator {font-family: monospace;background-color: #f0f8ff;border: 1px dotted black;border-radius: 0.25em;box-sizing: border-box;margin-bottom: 0.5em;}#sk-container-id-3 div.sk-estimator:hover {background-color: #d4ebff;}#sk-container-id-3 div.sk-parallel-item::after {content: \"\";width: 100%;border-bottom: 1px solid gray;flex-grow: 1;}#sk-container-id-3 div.sk-label:hover label.sk-toggleable__label {background-color: #d4ebff;}#sk-container-id-3 div.sk-serial::before {content: \"\";position: absolute;border-left: 1px solid gray;box-sizing: border-box;top: 0;bottom: 0;left: 50%;z-index: 0;}#sk-container-id-3 div.sk-serial {display: flex;flex-direction: column;align-items: center;background-color: white;padding-right: 0.2em;padding-left: 0.2em;position: relative;}#sk-container-id-3 div.sk-item {position: relative;z-index: 1;}#sk-container-id-3 div.sk-parallel {display: flex;align-items: stretch;justify-content: center;background-color: white;position: relative;}#sk-container-id-3 div.sk-item::before, #sk-container-id-3 div.sk-parallel-item::before {content: \"\";position: absolute;border-left: 1px solid gray;box-sizing: border-box;top: 0;bottom: 0;left: 50%;z-index: -1;}#sk-container-id-3 div.sk-parallel-item {display: flex;flex-direction: column;z-index: 1;position: relative;background-color: white;}#sk-container-id-3 div.sk-parallel-item:first-child::after {align-self: flex-end;width: 50%;}#sk-container-id-3 div.sk-parallel-item:last-child::after {align-self: flex-start;width: 50%;}#sk-container-id-3 div.sk-parallel-item:only-child::after {width: 0;}#sk-container-id-3 div.sk-dashed-wrapped {border: 1px dashed gray;margin: 0 0.4em 0.5em 0.4em;box-sizing: border-box;padding-bottom: 0.4em;background-color: white;}#sk-container-id-3 div.sk-label label {font-family: monospace;font-weight: bold;display: inline-block;line-height: 1.2em;}#sk-container-id-3 div.sk-label-container {text-align: center;}#sk-container-id-3 div.sk-container {/* jupyter's `normalize.less` sets `[hidden] { display: none; }` but bootstrap.min.css set `[hidden] { display: none !important; }` so we also need the `!important` here to be able to override the default hidden behavior on the sphinx rendered scikit-learn.org. See: https://github.com/scikit-learn/scikit-learn/issues/21755 */display: inline-block !important;position: relative;}#sk-container-id-3 div.sk-text-repr-fallback {display: none;}</style><div id=\"sk-container-id-3\" class=\"sk-top-container\"><div class=\"sk-text-repr-fallback\"><pre>FactorAnalyzer(rotation_kwargs={})</pre><b>In a Jupyter environment, please rerun this cell to show the HTML representation or trust the notebook. <br />On GitHub, the HTML representation is unable to render, please try loading this page with nbviewer.org.</b></div><div class=\"sk-container\" hidden><div class=\"sk-item\"><div class=\"sk-estimator sk-toggleable\"><input class=\"sk-toggleable__control sk-hidden--visually\" id=\"sk-estimator-id-3\" type=\"checkbox\" checked><label for=\"sk-estimator-id-3\" class=\"sk-toggleable__label sk-toggleable__label-arrow\">FactorAnalyzer</label><div class=\"sk-toggleable__content\"><pre>FactorAnalyzer(rotation_kwargs={})</pre></div></div></div></div></div>"
      ],
      "text/plain": [
       "FactorAnalyzer(rotation_kwargs={})"
      ]
     },
     "execution_count": 88,
     "metadata": {},
     "output_type": "execute_result"
    }
   ],
   "source": [
    "## Creating the estimator (Factor analyzer)\n",
    "fa = FactorAnalyzer()\n",
    "fa.fit(x)"
   ]
  },
  {
   "cell_type": "code",
   "execution_count": 90,
   "metadata": {},
   "outputs": [
    {
     "data": {
      "text/plain": [
       "array([4.02972451, 2.85173865, 2.12765386, 1.66930325, 1.03181101,\n",
       "       0.9287536 , 0.85908292, 0.77387255, 0.69975675, 0.65776309,\n",
       "       0.53647903, 0.45435691, 0.39393876, 0.32090067, 0.24880754,\n",
       "       0.18100583, 0.17206412, 0.06298696])"
      ]
     },
     "execution_count": 90,
     "metadata": {},
     "output_type": "execute_result"
    }
   ],
   "source": [
    "#Get Eigen values and plot them\n",
    "ev, v = fa.get_eigenvalues()\n",
    "ev"
   ]
  },
  {
   "cell_type": "code",
   "execution_count": 91,
   "metadata": {},
   "outputs": [
    {
     "data": {
      "text/plain": [
       "[<matplotlib.lines.Line2D at 0x7f577b9ed6a0>]"
      ]
     },
     "execution_count": 91,
     "metadata": {},
     "output_type": "execute_result"
    },
    {
     "data": {
      "image/png": "[encoded data removed]",
      "text/plain": [
       "<Figure size 640x480 with 1 Axes>"
      ]
     },
     "metadata": {},
     "output_type": "display_data"
    }
   ],
   "source": [
    "plt.plot(range(1,x.shape[1]+1),ev)"
   ]
  },
  {
   "cell_type": "code",
   "execution_count": null,
   "metadata": {},
   "outputs": [],
   "source": []
  },
  {
   "cell_type": "markdown",
   "metadata": {},
   "source": [
    "> Choosing 3 factors (> than 2).\n",
    ">> Although I would like to have just 2 -> objective and subjective."
   ]
  },
  {
   "cell_type": "code",
   "execution_count": 92,
   "metadata": {},
   "outputs": [
    {
     "name": "stdout",
     "output_type": "stream",
     "text": [
      "[[ 0.2196767  -0.42193621  0.49565417]\n",
      " [-0.08479963  0.21214852  0.4983762 ]\n",
      " [ 0.02950145 -0.58137607 -0.12411682]\n",
      " [ 0.04055816  0.02200477  0.50497482]\n",
      " [ 0.02983049 -0.48132043 -0.0347337 ]\n",
      " [ 0.14663998  0.03278142  0.72370193]\n",
      " [-0.90949908  0.05674633 -0.10940747]\n",
      " [ 0.63682151  0.0463172   0.17894118]\n",
      " [-0.90443033 -0.08364974  0.00856601]\n",
      " [ 0.76243091  0.18860328  0.09060709]\n",
      " [-0.21474498 -0.73953612  0.0794164 ]\n",
      " [ 0.06653418  0.74434252  0.00610577]\n",
      " [ 0.46954034  0.55661693  0.10343042]\n",
      " [ 0.08616676  0.27399423 -0.00344966]\n",
      " [ 0.38621167 -0.13420484  0.55261293]\n",
      " [-0.14866246  0.15725659  0.21835489]\n",
      " [-0.09463099  0.31618722  0.18593306]\n",
      " [ 0.09294658  0.03701935  0.32942048]]\n"
     ]
    }
   ],
   "source": [
    "fa = FactorAnalyzer(3, rotation='varimax')\n",
    "fa.fit(x)\n",
    "loads = fa.loadings_\n",
    "print(loads)"
   ]
  },
  {
   "cell_type": "code",
   "execution_count": null,
   "metadata": {},
   "outputs": [],
   "source": []
  },
  {
   "cell_type": "markdown",
   "metadata": {},
   "source": [
    "### Analyzing the factor structure:"
   ]
  },
  {
   "cell_type": "code",
   "execution_count": 98,
   "metadata": {},
   "outputs": [],
   "source": [
    "## Creating a dataframe with the loading values and column names:\n",
    "factors = pd.DataFrame(fa.loadings_, columns=['Factor 1','Factor 2','Factor 3'], index=[x.columns])"
   ]
  },
  {
   "cell_type": "code",
   "execution_count": 97,
   "metadata": {},
   "outputs": [],
   "source": [
    "def highlight_high_values(val):\n",
    "    color = 'background-color: yellow' if val > 0.5 else ''\n",
    "    return color"
   ]
  },
  {
   "cell_type": "code",
   "execution_count": 102,
   "metadata": {},
   "outputs": [
    {
     "data": {
      "text/html": [
       "<style type=\"text/css\">\n",
       "#T_7a390_row3_col2, #T_7a390_row5_col2, #T_7a390_row7_col0, #T_7a390_row9_col0, #T_7a390_row11_col1, #T_7a390_row12_col1, #T_7a390_row14_col2 {\n",
       "  background-color: yellow;\n",
       "}\n",
       "</style>\n",
       "<table id=\"T_7a390\">\n",
       "  <thead>\n",
       "    <tr>\n",
       "      <th class=\"blank level0\" >&nbsp;</th>\n",
       "      <th id=\"T_7a390_level0_col0\" class=\"col_heading level0 col0\" >Factor 1</th>\n",
       "      <th id=\"T_7a390_level0_col1\" class=\"col_heading level0 col1\" >Factor 2</th>\n",
       "      <th id=\"T_7a390_level0_col2\" class=\"col_heading level0 col2\" >Factor 3</th>\n",
       "    </tr>\n",
       "  </thead>\n",
       "  <tbody>\n",
       "    <tr>\n",
       "      <th id=\"T_7a390_level0_row0\" class=\"row_heading level0 row0\" >AROU_M</th>\n",
       "      <td id=\"T_7a390_row0_col0\" class=\"data row0 col0\" >0.219677</td>\n",
       "      <td id=\"T_7a390_row0_col1\" class=\"data row0 col1\" >-0.421936</td>\n",
       "      <td id=\"T_7a390_row0_col2\" class=\"data row0 col2\" >0.495654</td>\n",
       "    </tr>\n",
       "    <tr>\n",
       "      <th id=\"T_7a390_level0_row1\" class=\"row_heading level0 row1\" >AROU_SD</th>\n",
       "      <td id=\"T_7a390_row1_col0\" class=\"data row1 col0\" >-0.084800</td>\n",
       "      <td id=\"T_7a390_row1_col1\" class=\"data row1 col1\" >0.212149</td>\n",
       "      <td id=\"T_7a390_row1_col2\" class=\"data row1 col2\" >0.498376</td>\n",
       "    </tr>\n",
       "    <tr>\n",
       "      <th id=\"T_7a390_level0_row2\" class=\"row_heading level0 row2\" >VAL_M</th>\n",
       "      <td id=\"T_7a390_row2_col0\" class=\"data row2 col0\" >0.029501</td>\n",
       "      <td id=\"T_7a390_row2_col1\" class=\"data row2 col1\" >-0.581376</td>\n",
       "      <td id=\"T_7a390_row2_col2\" class=\"data row2 col2\" >-0.124117</td>\n",
       "    </tr>\n",
       "    <tr>\n",
       "      <th id=\"T_7a390_level0_row3\" class=\"row_heading level0 row3\" >VAL_SD</th>\n",
       "      <td id=\"T_7a390_row3_col0\" class=\"data row3 col0\" >0.040558</td>\n",
       "      <td id=\"T_7a390_row3_col1\" class=\"data row3 col1\" >0.022005</td>\n",
       "      <td id=\"T_7a390_row3_col2\" class=\"data row3 col2\" >0.504975</td>\n",
       "    </tr>\n",
       "    <tr>\n",
       "      <th id=\"T_7a390_level0_row4\" class=\"row_heading level0 row4\" >DOM_M</th>\n",
       "      <td id=\"T_7a390_row4_col0\" class=\"data row4 col0\" >0.029830</td>\n",
       "      <td id=\"T_7a390_row4_col1\" class=\"data row4 col1\" >-0.481320</td>\n",
       "      <td id=\"T_7a390_row4_col2\" class=\"data row4 col2\" >-0.034734</td>\n",
       "    </tr>\n",
       "    <tr>\n",
       "      <th id=\"T_7a390_level0_row5\" class=\"row_heading level0 row5\" >DOM_SD</th>\n",
       "      <td id=\"T_7a390_row5_col0\" class=\"data row5 col0\" >0.146640</td>\n",
       "      <td id=\"T_7a390_row5_col1\" class=\"data row5 col1\" >0.032781</td>\n",
       "      <td id=\"T_7a390_row5_col2\" class=\"data row5 col2\" >0.723702</td>\n",
       "    </tr>\n",
       "    <tr>\n",
       "      <th id=\"T_7a390_level0_row6\" class=\"row_heading level0 row6\" >CNC_M</th>\n",
       "      <td id=\"T_7a390_row6_col0\" class=\"data row6 col0\" >-0.909499</td>\n",
       "      <td id=\"T_7a390_row6_col1\" class=\"data row6 col1\" >0.056746</td>\n",
       "      <td id=\"T_7a390_row6_col2\" class=\"data row6 col2\" >-0.109407</td>\n",
       "    </tr>\n",
       "    <tr>\n",
       "      <th id=\"T_7a390_level0_row7\" class=\"row_heading level0 row7\" >CNC_SD</th>\n",
       "      <td id=\"T_7a390_row7_col0\" class=\"data row7 col0\" >0.636822</td>\n",
       "      <td id=\"T_7a390_row7_col1\" class=\"data row7 col1\" >0.046317</td>\n",
       "      <td id=\"T_7a390_row7_col2\" class=\"data row7 col2\" >0.178941</td>\n",
       "    </tr>\n",
       "    <tr>\n",
       "      <th id=\"T_7a390_level0_row8\" class=\"row_heading level0 row8\" >IMAG_M</th>\n",
       "      <td id=\"T_7a390_row8_col0\" class=\"data row8 col0\" >-0.904430</td>\n",
       "      <td id=\"T_7a390_row8_col1\" class=\"data row8 col1\" >-0.083650</td>\n",
       "      <td id=\"T_7a390_row8_col2\" class=\"data row8 col2\" >0.008566</td>\n",
       "    </tr>\n",
       "    <tr>\n",
       "      <th id=\"T_7a390_level0_row9\" class=\"row_heading level0 row9\" >IMAG_SD</th>\n",
       "      <td id=\"T_7a390_row9_col0\" class=\"data row9 col0\" >0.762431</td>\n",
       "      <td id=\"T_7a390_row9_col1\" class=\"data row9 col1\" >0.188603</td>\n",
       "      <td id=\"T_7a390_row9_col2\" class=\"data row9 col2\" >0.090607</td>\n",
       "    </tr>\n",
       "    <tr>\n",
       "      <th id=\"T_7a390_level0_row10\" class=\"row_heading level0 row10\" >FAM_M</th>\n",
       "      <td id=\"T_7a390_row10_col0\" class=\"data row10 col0\" >-0.214745</td>\n",
       "      <td id=\"T_7a390_row10_col1\" class=\"data row10 col1\" >-0.739536</td>\n",
       "      <td id=\"T_7a390_row10_col2\" class=\"data row10 col2\" >0.079416</td>\n",
       "    </tr>\n",
       "    <tr>\n",
       "      <th id=\"T_7a390_level0_row11\" class=\"row_heading level0 row11\" >FAM_SD</th>\n",
       "      <td id=\"T_7a390_row11_col0\" class=\"data row11 col0\" >0.066534</td>\n",
       "      <td id=\"T_7a390_row11_col1\" class=\"data row11 col1\" >0.744343</td>\n",
       "      <td id=\"T_7a390_row11_col2\" class=\"data row11 col2\" >0.006106</td>\n",
       "    </tr>\n",
       "    <tr>\n",
       "      <th id=\"T_7a390_level0_row12\" class=\"row_heading level0 row12\" >AOA_M</th>\n",
       "      <td id=\"T_7a390_row12_col0\" class=\"data row12 col0\" >0.469540</td>\n",
       "      <td id=\"T_7a390_row12_col1\" class=\"data row12 col1\" >0.556617</td>\n",
       "      <td id=\"T_7a390_row12_col2\" class=\"data row12 col2\" >0.103430</td>\n",
       "    </tr>\n",
       "    <tr>\n",
       "      <th id=\"T_7a390_level0_row13\" class=\"row_heading level0 row13\" >AOA_SD</th>\n",
       "      <td id=\"T_7a390_row13_col0\" class=\"data row13 col0\" >0.086167</td>\n",
       "      <td id=\"T_7a390_row13_col1\" class=\"data row13 col1\" >0.273994</td>\n",
       "      <td id=\"T_7a390_row13_col2\" class=\"data row13 col2\" >-0.003450</td>\n",
       "    </tr>\n",
       "    <tr>\n",
       "      <th id=\"T_7a390_level0_row14\" class=\"row_heading level0 row14\" >SIZE_M</th>\n",
       "      <td id=\"T_7a390_row14_col0\" class=\"data row14 col0\" >0.386212</td>\n",
       "      <td id=\"T_7a390_row14_col1\" class=\"data row14 col1\" >-0.134205</td>\n",
       "      <td id=\"T_7a390_row14_col2\" class=\"data row14 col2\" >0.552613</td>\n",
       "    </tr>\n",
       "    <tr>\n",
       "      <th id=\"T_7a390_level0_row15\" class=\"row_heading level0 row15\" >SIZE_SD</th>\n",
       "      <td id=\"T_7a390_row15_col0\" class=\"data row15 col0\" >-0.148662</td>\n",
       "      <td id=\"T_7a390_row15_col1\" class=\"data row15 col1\" >0.157257</td>\n",
       "      <td id=\"T_7a390_row15_col2\" class=\"data row15 col2\" >0.218355</td>\n",
       "    </tr>\n",
       "    <tr>\n",
       "      <th id=\"T_7a390_level0_row16\" class=\"row_heading level0 row16\" >GEND_M</th>\n",
       "      <td id=\"T_7a390_row16_col0\" class=\"data row16 col0\" >-0.094631</td>\n",
       "      <td id=\"T_7a390_row16_col1\" class=\"data row16 col1\" >0.316187</td>\n",
       "      <td id=\"T_7a390_row16_col2\" class=\"data row16 col2\" >0.185933</td>\n",
       "    </tr>\n",
       "    <tr>\n",
       "      <th id=\"T_7a390_level0_row17\" class=\"row_heading level0 row17\" >GEND_SD</th>\n",
       "      <td id=\"T_7a390_row17_col0\" class=\"data row17 col0\" >0.092947</td>\n",
       "      <td id=\"T_7a390_row17_col1\" class=\"data row17 col1\" >0.037019</td>\n",
       "      <td id=\"T_7a390_row17_col2\" class=\"data row17 col2\" >0.329420</td>\n",
       "    </tr>\n",
       "  </tbody>\n",
       "</table>\n"
      ],
      "text/plain": [
       "<pandas.io.formats.style.Styler at 0x7f577a000100>"
      ]
     },
     "execution_count": 102,
     "metadata": {},
     "output_type": "execute_result"
    }
   ],
   "source": [
    "factors.style.applymap(highlight_high_values)"
   ]
  },
  {
   "cell_type": "code",
   "execution_count": null,
   "metadata": {},
   "outputs": [],
   "source": []
  },
  {
   "cell_type": "markdown",
   "metadata": {},
   "source": [
    "## Evaluating the factors through Cronbach alpha measurement:"
   ]
  },
  {
   "cell_type": "code",
   "execution_count": 93,
   "metadata": {},
   "outputs": [],
   "source": [
    "import pingouin as pg"
   ]
  },
  {
   "cell_type": "code",
   "execution_count": 93,
   "metadata": {},
   "outputs": [
    {
     "ename": "NameError",
     "evalue": "name 'df' is not defined",
     "output_type": "error",
     "traceback": [
      "\u001b[0;31m---------------------------------------------------------------------------\u001b[0m",
      "\u001b[0;31mNameError\u001b[0m                                 Traceback (most recent call last)",
      "Cell \u001b[0;32mIn[93], line 3\u001b[0m\n\u001b[1;32m      1\u001b[0m \u001b[38;5;28;01mimport\u001b[39;00m \u001b[38;5;21;01mpingouin\u001b[39;00m \u001b[38;5;28;01mas\u001b[39;00m \u001b[38;5;21;01mpg\u001b[39;00m\n\u001b[1;32m      2\u001b[0m \u001b[38;5;66;03m#Create the factors\u001b[39;00m\n\u001b[0;32m----> 3\u001b[0m factor1 \u001b[38;5;241m=\u001b[39m \u001b[43mdf\u001b[49m[[\u001b[38;5;124m'\u001b[39m\u001b[38;5;124mFood and drink\u001b[39m\u001b[38;5;124m'\u001b[39m, \u001b[38;5;124m'\u001b[39m\u001b[38;5;124mSeat comfort\u001b[39m\u001b[38;5;124m'\u001b[39m, \u001b[38;5;124m'\u001b[39m\u001b[38;5;124mInflight entertainment\u001b[39m\u001b[38;5;124m'\u001b[39m, \u001b[38;5;124m'\u001b[39m\u001b[38;5;124mCleanliness\u001b[39m\u001b[38;5;124m'\u001b[39m]]\n\u001b[1;32m      4\u001b[0m factor2 \u001b[38;5;241m=\u001b[39m df[[\u001b[38;5;124m'\u001b[39m\u001b[38;5;124mOn-board service\u001b[39m\u001b[38;5;124m'\u001b[39m, \u001b[38;5;124m'\u001b[39m\u001b[38;5;124mBaggage handling\u001b[39m\u001b[38;5;124m'\u001b[39m, \u001b[38;5;124m'\u001b[39m\u001b[38;5;124mInflight service\u001b[39m\u001b[38;5;124m'\u001b[39m]]\n\u001b[1;32m      5\u001b[0m factor3 \u001b[38;5;241m=\u001b[39m df[[\u001b[38;5;124m'\u001b[39m\u001b[38;5;124mInflight wifi service\u001b[39m\u001b[38;5;124m'\u001b[39m, \u001b[38;5;124m'\u001b[39m\u001b[38;5;124mDeparture/Arrival time convenient\u001b[39m\u001b[38;5;124m'\u001b[39m, \u001b[38;5;124m'\u001b[39m\u001b[38;5;124mEase of Online booking\u001b[39m\u001b[38;5;124m'\u001b[39m, \u001b[38;5;124m'\u001b[39m\u001b[38;5;124mGate location\u001b[39m\u001b[38;5;124m'\u001b[39m]]\n",
      "\u001b[0;31mNameError\u001b[0m: name 'df' is not defined"
     ]
    }
   ],
   "source": [
    "#Create the factors\n",
    "factor1 = df[['Food and drink', 'Seat comfort', 'Inflight entertainment', 'Cleanliness']]\n",
    "factor2 = df[['On-board service', 'Baggage handling', 'Inflight service']]\n",
    "factor3 = df[['Inflight wifi service', 'Departure/Arrival time convenient', 'Ease of Online booking', 'Gate location']]\n",
    "#Get cronbach alpha\n",
    "factor1_alpha = pg.cronbach_alpha(factor1)\n",
    "factor2_alpha = pg.cronbach_alpha(factor2)\n",
    "factor3_alpha = pg.cronbach_alpha(factor3)\n",
    "print(factor1_alpha, factor2_alpha, factor3_alpha)"
   ]
  },
  {
   "cell_type": "code",
   "execution_count": null,
   "metadata": {},
   "outputs": [],
   "source": []
  },
  {
   "cell_type": "code",
   "execution_count": null,
   "metadata": {},
   "outputs": [],
   "source": []
  },
  {
   "cell_type": "code",
   "execution_count": 104,
   "metadata": {},
   "outputs": [
    {
     "name": "stdout",
     "output_type": "stream",
     "text": [
      "<class 'pandas.core.frame.DataFrame'>\n",
      "Index: 5553 entries, abattoir to zoology\n",
      "Data columns (total 28 columns):\n",
      " #   Column   Non-Null Count  Dtype  \n",
      "---  ------   --------------  -----  \n",
      " 0   length   5553 non-null   int64  \n",
      " 1   AROU_M   5553 non-null   float64\n",
      " 2   AROU_SD  5553 non-null   float64\n",
      " 3   AROU_N   5553 non-null   int64  \n",
      " 4   VAL_M    5553 non-null   float64\n",
      " 5   VAL_SD   5553 non-null   float64\n",
      " 6   VAL_N    5553 non-null   int64  \n",
      " 7   DOM_M    5553 non-null   float64\n",
      " 8   DOM_SD   5553 non-null   float64\n",
      " 9   DOM_N    5553 non-null   int64  \n",
      " 10  CNC_M    5553 non-null   float64\n",
      " 11  CNC_SD   5553 non-null   float64\n",
      " 12  CNC_N    5553 non-null   int64  \n",
      " 13  IMAG_M   5553 non-null   float64\n",
      " 14  IMAG_SD  5553 non-null   float64\n",
      " 15  IMAG_N   5553 non-null   int64  \n",
      " 16  FAM_M    5553 non-null   float64\n",
      " 17  FAM_SD   5553 non-null   float64\n",
      " 18  FAM_N    5553 non-null   int64  \n",
      " 19  AOA_M    5553 non-null   float64\n",
      " 20  AOA_SD   5553 non-null   float64\n",
      " 21  AOA_N    5553 non-null   int64  \n",
      " 22  SIZE_M   5553 non-null   float64\n",
      " 23  SIZE_SD  5553 non-null   float64\n",
      " 24  SIZE_N   5553 non-null   int64  \n",
      " 25  GEND_M   5553 non-null   float64\n",
      " 26  GEND_SD  5553 non-null   float64\n",
      " 27  GEND_N   5553 non-null   int64  \n",
      "dtypes: float64(18), int64(10)\n",
      "memory usage: 1.4+ MB\n"
     ]
    }
   ],
   "source": [
    "glasgow.info()"
   ]
  },
  {
   "cell_type": "code",
   "execution_count": null,
   "metadata": {},
   "outputs": [],
   "source": []
  },
  {
   "cell_type": "markdown",
   "metadata": {
    "jp-MarkdownHeadingCollapsed": true,
    "tags": []
   },
   "source": [
    "---------\n",
    "---------\n",
    "# BACKUP"
   ]
  },
  {
   "cell_type": "markdown",
   "metadata": {},
   "source": [
    "------\n",
    "### Experimento com Prof. Heitor"
   ]
  },
  {
   "cell_type": "code",
   "execution_count": null,
   "metadata": {
    "ExecuteTime": {
     "end_time": "2022-04-28T22:33:11.457023Z",
     "start_time": "2022-04-28T22:33:11.438722Z"
    }
   },
   "outputs": [],
   "source": [
    "label_M"
   ]
  },
  {
   "cell_type": "code",
   "execution_count": null,
   "metadata": {
    "ExecuteTime": {
     "end_time": "2022-04-28T22:33:12.033530Z",
     "start_time": "2022-04-28T22:33:12.028499Z"
    }
   },
   "outputs": [],
   "source": [
    "dataset = words[label_M]"
   ]
  },
  {
   "cell_type": "code",
   "execution_count": null,
   "metadata": {
    "ExecuteTime": {
     "end_time": "2022-04-28T22:33:13.004887Z",
     "start_time": "2022-04-28T22:33:12.932850Z"
    }
   },
   "outputs": [],
   "source": [
    "dataset"
   ]
  },
  {
   "cell_type": "markdown",
   "metadata": {},
   "source": [
    "#### Definição das frases"
   ]
  },
  {
   "cell_type": "code",
   "execution_count": null,
   "metadata": {
    "ExecuteTime": {
     "end_time": "2022-04-26T23:38:49.056306Z",
     "start_time": "2022-04-26T23:38:49.034489Z"
    }
   },
   "outputs": [],
   "source": [
    "data_sick.loc[1733]"
   ]
  },
  {
   "cell_type": "code",
   "execution_count": null,
   "metadata": {
    "ExecuteTime": {
     "end_time": "2022-04-26T23:52:09.654624Z",
     "start_time": "2022-04-26T23:52:09.644300Z"
    }
   },
   "outputs": [],
   "source": [
    "words.loc['dangerous']"
   ]
  },
  {
   "cell_type": "code",
   "execution_count": null,
   "metadata": {
    "ExecuteTime": {
     "end_time": "2022-04-26T23:53:50.148786Z",
     "start_time": "2022-04-26T23:53:50.139687Z"
    }
   },
   "outputs": [],
   "source": [
    "frase_A = pd.DataFrame([words.loc['dog'],words.loc['ugly']])"
   ]
  },
  {
   "cell_type": "code",
   "execution_count": null,
   "metadata": {
    "ExecuteTime": {
     "end_time": "2022-04-26T23:53:55.943910Z",
     "start_time": "2022-04-26T23:53:55.929990Z"
    }
   },
   "outputs": [],
   "source": [
    "frase_B = pd.DataFrame([words.loc['snake'],words.loc['dangerous']])"
   ]
  },
  {
   "cell_type": "code",
   "execution_count": null,
   "metadata": {
    "ExecuteTime": {
     "end_time": "2022-04-26T23:53:59.570958Z",
     "start_time": "2022-04-26T23:53:59.509179Z"
    }
   },
   "outputs": [],
   "source": [
    "frase_A"
   ]
  },
  {
   "cell_type": "code",
   "execution_count": null,
   "metadata": {
    "ExecuteTime": {
     "end_time": "2022-04-26T23:55:19.799280Z",
     "start_time": "2022-04-26T23:55:19.542649Z"
    }
   },
   "outputs": [],
   "source": [
    "frase_A.describe()"
   ]
  },
  {
   "cell_type": "code",
   "execution_count": null,
   "metadata": {
    "ExecuteTime": {
     "end_time": "2022-04-26T23:57:49.921157Z",
     "start_time": "2022-04-26T23:57:49.700301Z"
    }
   },
   "outputs": [],
   "source": [
    "frase_A.describe().loc['mean']"
   ]
  },
  {
   "cell_type": "code",
   "execution_count": null,
   "metadata": {
    "ExecuteTime": {
     "end_time": "2022-04-26T23:54:27.077014Z",
     "start_time": "2022-04-26T23:54:26.887932Z"
    }
   },
   "outputs": [],
   "source": [
    "frase_B.describe()"
   ]
  },
  {
   "cell_type": "code",
   "execution_count": null,
   "metadata": {},
   "outputs": [],
   "source": []
  },
  {
   "cell_type": "markdown",
   "metadata": {},
   "source": [
    "### Medida de proximidade semântica\n",
    "\n",
    "Frases similares:\n",
    "1. The **dog** is **ugly**.\n",
    "2. That **dog** is **awful** and **horrible**.\n",
    "\n",
    "Frases diferentes:  \n",
    "3. The **snake** is **dangerous**.\n",
    "4. **Love** is **beautiful**.  \n",
    "\n"
   ]
  },
  {
   "cell_type": "markdown",
   "metadata": {},
   "source": [
    "Tarefa:\n",
    "- Pegar as 8 dimensões médias para cada uma das palavras destacadas.\n",
    "- Fazer a média dessas medidas."
   ]
  },
  {
   "cell_type": "markdown",
   "metadata": {},
   "source": [
    "> Frase 1: \"the dog is ugly\""
   ]
  },
  {
   "cell_type": "code",
   "execution_count": null,
   "metadata": {
    "ExecuteTime": {
     "end_time": "2022-04-27T00:10:40.023197Z",
     "start_time": "2022-04-27T00:10:39.987280Z"
    }
   },
   "outputs": [],
   "source": [
    "## Recuperando as 8 dimensões das palavras da frase:\n",
    "df_frase1 = dataset.loc[['dog','ugly']]\n",
    "df_frase1"
   ]
  },
  {
   "cell_type": "code",
   "execution_count": null,
   "metadata": {
    "ExecuteTime": {
     "end_time": "2022-04-27T00:25:16.463174Z",
     "start_time": "2022-04-27T00:25:16.362975Z"
    }
   },
   "outputs": [],
   "source": [
    "## Calculando a média das palavras que compõem a frase:\n",
    "vetor_frase1 = df_frase1.describe().loc['mean']\n",
    "vetor_frase1 = np.array(vetor_frase1).T.tolist()\n",
    "vetor_frase1"
   ]
  },
  {
   "cell_type": "markdown",
   "metadata": {},
   "source": [
    "> A mesma operação para a frase \"that dog is awful and horrible\"."
   ]
  },
  {
   "cell_type": "code",
   "execution_count": null,
   "metadata": {
    "ExecuteTime": {
     "end_time": "2022-04-27T00:09:31.124191Z",
     "start_time": "2022-04-27T00:09:31.028284Z"
    }
   },
   "outputs": [],
   "source": [
    "## Recuperando as 8 dimensões das palavras da frase:\n",
    "df_frase2 = dataset.loc[['dog','awful','horrible']]\n",
    "df_frase2 "
   ]
  },
  {
   "cell_type": "code",
   "execution_count": null,
   "metadata": {
    "ExecuteTime": {
     "end_time": "2022-04-27T00:24:54.092602Z",
     "start_time": "2022-04-27T00:24:53.981870Z"
    }
   },
   "outputs": [],
   "source": [
    "## Calculando a média das palavras que compõem a frase:\n",
    "vetor_frase2 = df_frase2.describe().loc['mean']\n",
    "vetor_frase2 = np.array(vetor_frase2).T.tolist()\n",
    "vetor_frase2"
   ]
  },
  {
   "cell_type": "markdown",
   "metadata": {},
   "source": [
    "> Frase 3: \"the snake is dangerous.\""
   ]
  },
  {
   "cell_type": "code",
   "execution_count": null,
   "metadata": {
    "ExecuteTime": {
     "end_time": "2022-04-27T00:12:47.111220Z",
     "start_time": "2022-04-27T00:12:47.064136Z"
    }
   },
   "outputs": [],
   "source": [
    "## Recuperando as 8 dimensões das palavras da frase:\n",
    "df_frase3 = dataset.loc[['snake','dangerous']]\n",
    "df_frase3 "
   ]
  },
  {
   "cell_type": "code",
   "execution_count": null,
   "metadata": {
    "ExecuteTime": {
     "end_time": "2022-04-27T00:24:33.340833Z",
     "start_time": "2022-04-27T00:24:33.220391Z"
    },
    "scrolled": true
   },
   "outputs": [],
   "source": [
    "## Calculando a média das palavras que compõem a frase:\n",
    "vetor_frase3 = df_frase3.describe().loc['mean']\n",
    "vetor_frase3 = np.array(vetor_frase3).T.tolist()\n",
    "vetor_frase3"
   ]
  },
  {
   "cell_type": "markdown",
   "metadata": {},
   "source": [
    "> Frase 4: \"love is beautiful.\""
   ]
  },
  {
   "cell_type": "code",
   "execution_count": null,
   "metadata": {
    "ExecuteTime": {
     "end_time": "2022-04-27T00:34:55.099340Z",
     "start_time": "2022-04-27T00:34:55.043682Z"
    }
   },
   "outputs": [],
   "source": [
    "## Recuperando as 8 dimensões das palavras da frase:\n",
    "df_frase4 = dataset.loc[['love','beautiful']]\n",
    "df_frase4 "
   ]
  },
  {
   "cell_type": "code",
   "execution_count": null,
   "metadata": {
    "ExecuteTime": {
     "end_time": "2022-04-27T00:35:13.565565Z",
     "start_time": "2022-04-27T00:35:13.492819Z"
    },
    "scrolled": true
   },
   "outputs": [],
   "source": [
    "## Calculando a média das palavras que compõem a frase:\n",
    "vetor_frase4 = df_frase4.describe().loc['mean']\n",
    "vetor_frase4 = np.array(vetor_frase4).T.tolist()\n",
    "vetor_frase4"
   ]
  },
  {
   "cell_type": "markdown",
   "metadata": {},
   "source": [
    "#### Calculando a distância entre os vetores:"
   ]
  },
  {
   "cell_type": "code",
   "execution_count": null,
   "metadata": {
    "ExecuteTime": {
     "end_time": "2022-04-27T00:31:15.241392Z",
     "start_time": "2022-04-27T00:31:15.230581Z"
    }
   },
   "outputs": [],
   "source": [
    "from scipy.spatial import distance"
   ]
  },
  {
   "cell_type": "code",
   "execution_count": null,
   "metadata": {
    "ExecuteTime": {
     "end_time": "2022-04-27T00:31:55.225180Z",
     "start_time": "2022-04-27T00:31:55.221216Z"
    }
   },
   "outputs": [],
   "source": [
    "## Dist v1 e v2\n",
    "distance.euclidean(vetor_frase1, vetor_frase2)"
   ]
  },
  {
   "cell_type": "code",
   "execution_count": null,
   "metadata": {
    "ExecuteTime": {
     "end_time": "2022-04-27T00:32:40.057063Z",
     "start_time": "2022-04-27T00:32:40.046035Z"
    }
   },
   "outputs": [],
   "source": [
    "## Dist v1 e v3\n",
    "distance.euclidean(vetor_frase1, vetor_frase3)"
   ]
  },
  {
   "cell_type": "code",
   "execution_count": null,
   "metadata": {
    "ExecuteTime": {
     "end_time": "2022-04-27T00:32:50.610008Z",
     "start_time": "2022-04-27T00:32:50.594557Z"
    }
   },
   "outputs": [],
   "source": [
    "## Dist v2 e v3\n",
    "distance.euclidean(vetor_frase2, vetor_frase3)"
   ]
  },
  {
   "cell_type": "code",
   "execution_count": null,
   "metadata": {
    "ExecuteTime": {
     "end_time": "2022-04-27T00:35:26.654171Z",
     "start_time": "2022-04-27T00:35:26.645763Z"
    }
   },
   "outputs": [],
   "source": [
    "## Dist v4 e v3\n",
    "distance.euclidean(vetor_frase4, vetor_frase3)"
   ]
  },
  {
   "cell_type": "code",
   "execution_count": null,
   "metadata": {
    "ExecuteTime": {
     "end_time": "2022-04-27T00:36:09.006782Z",
     "start_time": "2022-04-27T00:36:09.000702Z"
    }
   },
   "outputs": [],
   "source": [
    "## Dist v4 e v2\n",
    "distance.euclidean(vetor_frase4, vetor_frase2)"
   ]
  },
  {
   "cell_type": "code",
   "execution_count": null,
   "metadata": {},
   "outputs": [],
   "source": []
  },
  {
   "cell_type": "code",
   "execution_count": null,
   "metadata": {},
   "outputs": [],
   "source": []
  },
  {
   "cell_type": "code",
   "execution_count": null,
   "metadata": {},
   "outputs": [],
   "source": []
  },
  {
   "cell_type": "code",
   "execution_count": null,
   "metadata": {},
   "outputs": [],
   "source": []
  },
  {
   "cell_type": "markdown",
   "metadata": {
    "tags": []
   },
   "source": [
    "-----\n",
    "## Análise sintática (POS - Part Of Speech)\n",
    "Com base no tutorial disposto em https://neptune.ai/blog/exploratory-data-analysis-natural-language-processing-tools.  \n",
    "\n",
    "Parts of speech (POS) tagging is a method that assigns part of speech labels to words in a sentence. There are eight main parts of speech:\n",
    "\n",
    "- Noun (NN)- Joseph, London, table, cat, teacher, pen, city\n",
    "- Verb (VB)- read, speak, run, eat, play, live, walk, have, like, are, is\n",
    "- Adjective(JJ)- beautiful, happy, sad, young, fun, three\n",
    "- Adverb(RB)- slowly, quietly, very, always, never, too, well, tomorrow\n",
    "- Preposition (IN)- at, on, in, from, with, near, between, about, under\n",
    "- Conjunction (CC)- and, or, but, because, so, yet, unless, since, if\n",
    "- Pronoun(PRP)- I, you, we, they, he, she, it, me, us, them, him, her, this\n",
    "- Interjection (INT)- Ouch! Wow! Great! Help! Oh! Hey! Hi!"
   ]
  },
  {
   "cell_type": "code",
   "execution_count": null,
   "metadata": {
    "ExecuteTime": {
     "end_time": "2022-04-28T22:38:12.015745Z",
     "start_time": "2022-04-28T22:38:12.007778Z"
    }
   },
   "outputs": [],
   "source": [
    "phrase = 'Love is something beautiful.'"
   ]
  },
  {
   "cell_type": "markdown",
   "metadata": {},
   "source": [
    "Also using Spacy library: https://spacy.io/"
   ]
  },
  {
   "cell_type": "code",
   "execution_count": null,
   "metadata": {
    "ExecuteTime": {
     "end_time": "2022-04-27T01:51:19.187559Z",
     "start_time": "2022-04-27T01:51:09.868168Z"
    }
   },
   "outputs": [],
   "source": [
    "#!pip install -U spacy"
   ]
  },
  {
   "cell_type": "code",
   "execution_count": null,
   "metadata": {
    "ExecuteTime": {
     "end_time": "2022-04-27T01:53:22.765738Z",
     "start_time": "2022-04-27T01:53:17.444994Z"
    }
   },
   "outputs": [],
   "source": [
    "!python -m spacy download en_core_web_sm"
   ]
  },
  {
   "cell_type": "code",
   "execution_count": null,
   "metadata": {
    "ExecuteTime": {
     "end_time": "2022-04-28T22:38:26.997959Z",
     "start_time": "2022-04-28T22:38:25.715707Z"
    }
   },
   "outputs": [],
   "source": [
    "import spacy"
   ]
  },
  {
   "cell_type": "code",
   "execution_count": null,
   "metadata": {
    "ExecuteTime": {
     "end_time": "2022-04-28T22:38:28.914319Z",
     "start_time": "2022-04-28T22:38:27.782103Z"
    }
   },
   "outputs": [],
   "source": [
    "# Load English tokenizer, tagger, parser and NER\n",
    "nlp = spacy.load(\"en_core_web_sm\")"
   ]
  },
  {
   "cell_type": "code",
   "execution_count": null,
   "metadata": {
    "ExecuteTime": {
     "end_time": "2022-04-28T22:38:30.069110Z",
     "start_time": "2022-04-28T22:38:30.065219Z"
    }
   },
   "outputs": [],
   "source": [
    "phrase = \"The cat is on the table\""
   ]
  },
  {
   "cell_type": "code",
   "execution_count": null,
   "metadata": {
    "ExecuteTime": {
     "end_time": "2022-04-28T22:38:31.511590Z",
     "start_time": "2022-04-28T22:38:31.453487Z"
    }
   },
   "outputs": [],
   "source": [
    "doc = nlp(phrase)"
   ]
  },
  {
   "cell_type": "code",
   "execution_count": null,
   "metadata": {
    "ExecuteTime": {
     "end_time": "2022-04-28T22:38:46.464790Z",
     "start_time": "2022-04-28T22:38:46.447408Z"
    }
   },
   "outputs": [],
   "source": [
    "spacy.displacy.render(doc, style='dep', jupyter=True, options={'distance':90})"
   ]
  },
  {
   "cell_type": "markdown",
   "metadata": {},
   "source": [
    "-----"
   ]
  },
  {
   "cell_type": "code",
   "execution_count": null,
   "metadata": {
    "ExecuteTime": {
     "end_time": "2022-04-27T01:47:00.867872Z",
     "start_time": "2022-04-27T01:47:00.859946Z"
    }
   },
   "outputs": [],
   "source": [
    "import nltk\n",
    "from nltk import word_tokenize"
   ]
  },
  {
   "cell_type": "code",
   "execution_count": null,
   "metadata": {
    "ExecuteTime": {
     "end_time": "2022-04-27T01:49:46.587536Z",
     "start_time": "2022-04-27T01:49:46.133777Z"
    }
   },
   "outputs": [],
   "source": [
    "nltk.download('punkt')\n",
    "nltk.download('averaged_perceptron_tagger')"
   ]
  },
  {
   "cell_type": "code",
   "execution_count": null,
   "metadata": {
    "ExecuteTime": {
     "end_time": "2022-04-27T01:49:51.197585Z",
     "start_time": "2022-04-27T01:49:51.064402Z"
    }
   },
   "outputs": [],
   "source": [
    "tokens=word_tokenize(phrase)\n",
    "nltk.pos_tag(tokens)"
   ]
  },
  {
   "cell_type": "code",
   "execution_count": null,
   "metadata": {},
   "outputs": [],
   "source": []
  },
  {
   "cell_type": "markdown",
   "metadata": {},
   "source": [
    "## 2022.04.28 - Discussão com Andrei\n",
    "\n",
    "### Qual é o problema? \n",
    "- Queremos medir a similaridade de duas coisas.\n",
    "- Se a métrica utilizada, o valor for o mesmo, podemos presumir que o significado pode ser semelhante.  \n",
    "\n",
    "#### Semantica:\n",
    "- Objetiva: sintática (Spacy)\n",
    "- Subjetiva: ... psicometria. (como foi determinado o ACF??)\n",
    "\n",
    "#### **Objetivo:** questionamentos do Andrei\n",
    "\n",
    "- Conseguimos avaliar os atributos (ACF) de uma sentença??\n",
    "    - Supondo que consigo avaliá-los, o que é possível extrair deles? \n",
    "    - É relevante?? Qual é a interpretabilidade da métrica? \n",
    "        - Por que essa sentença é mais próxima da outra?\n",
    "\n",
    "- Ou conseguimos extrair features das frases a partir dos atributos (ACF)?"
   ]
  },
  {
   "cell_type": "markdown",
   "metadata": {},
   "source": [
    "### Segundo experimento:\n",
    "Faltou no The Glasgow Norm alguma palavra ou verbo... Como a gente conseguiria contornar essa situação? \n",
    "\n",
    "1. Utilizar um word embedding para achar o termo mais próximo àquele que não foi encontrado e aí utilizar por referência...  \n",
    "\n",
    "2. (Com a premissa de que funcionaria o word embedding) Seria possível expandir o \"Glasgow Norm\" para um número maior de termos?  "
   ]
  },
  {
   "cell_type": "markdown",
   "metadata": {},
   "source": [
    "https://colab.research.google.com/github/bentrevett/pytorch-sentiment-analysis/blob/master/B%20-%20A%20Closer%20Look%20at%20Word%20Embeddings.ipynb  \n",
    "\n",
    "word_vector = get_vector(glove, 'india')\n",
    "\n",
    "closest_words(glove, word_vector)"
   ]
  },
  {
   "cell_type": "code",
   "execution_count": null,
   "metadata": {},
   "outputs": [],
   "source": []
  },
  {
   "cell_type": "markdown",
   "metadata": {},
   "source": [
    "### The cat:"
   ]
  },
  {
   "cell_type": "markdown",
   "metadata": {},
   "source": [
    "- A cat is chasing a dog\n",
    "- A cat chases a dog\n",
    "- A cat is chasing around a german shepherd dog more than twice its size\n",
    "- A cat is scaring away a dog\n",
    "- A cat chases a large dog around the yard\n",
    "- ERRADA: A dog is chasing a cat\n",
    "- CERTA: A cat is running after a dog\n"
   ]
  },
  {
   "cell_type": "code",
   "execution_count": null,
   "metadata": {
    "ExecuteTime": {
     "end_time": "2022-04-28T22:44:10.989249Z",
     "start_time": "2022-04-28T22:44:10.981655Z"
    }
   },
   "outputs": [],
   "source": [
    "p1 = 'a cat is chasing a dog'\n",
    "p2 = 'A dog is chasing a cat'\n",
    "p3 = 'A cat is running after a dog'"
   ]
  },
  {
   "cell_type": "code",
   "execution_count": null,
   "metadata": {
    "ExecuteTime": {
     "end_time": "2022-04-28T22:44:46.224477Z",
     "start_time": "2022-04-28T22:44:46.137284Z"
    }
   },
   "outputs": [],
   "source": [
    "doc = nlp(p1)\n",
    "spacy.displacy.render(doc, style='dep', jupyter=True, options={'distance':90})"
   ]
  },
  {
   "cell_type": "code",
   "execution_count": null,
   "metadata": {
    "ExecuteTime": {
     "end_time": "2022-04-28T22:45:21.085846Z",
     "start_time": "2022-04-28T22:45:21.053759Z"
    }
   },
   "outputs": [],
   "source": [
    "doc = nlp(p3)\n",
    "spacy.displacy.render(doc, style='dep', jupyter=True, options={'distance':90})"
   ]
  },
  {
   "cell_type": "markdown",
   "metadata": {},
   "source": [
    "-> Substituir \"cat\" por \"kant\"... "
   ]
  },
  {
   "cell_type": "code",
   "execution_count": null,
   "metadata": {},
   "outputs": [],
   "source": []
  },
  {
   "cell_type": "code",
   "execution_count": null,
   "metadata": {},
   "outputs": [],
   "source": []
  },
  {
   "cell_type": "markdown",
   "metadata": {},
   "source": [
    "### Man sweeping\n",
    "\n",
    "REFERENCIAS\n",
    "\n",
    "A man sweeps the floor of a gym\n",
    "A man sweeps the gymnasium floor with a dust broom\n",
    "A man in a blue shirt and black trousers sweeping a gym floor\n",
    "A man in a blue shirt is sweeping a classroom\n",
    "A man in black pants is mopping the floor of a gym room\n",
    "\n",
    "ERRADO: A man in a blue shirt and black pants is working out in a gym\n",
    "CERTO: A person is mopping the gym floor"
   ]
  },
  {
   "cell_type": "code",
   "execution_count": null,
   "metadata": {},
   "outputs": [],
   "source": []
  },
  {
   "cell_type": "markdown",
   "metadata": {},
   "source": [
    "### Man driving\n",
    "\n",
    "A man is driving a car\n",
    "\n",
    "A man driving a car"
   ]
  },
  {
   "cell_type": "markdown",
   "metadata": {},
   "source": [
    "A person walks with thick boots through the rough ways\n",
    "There is someone advertising some boots\n",
    "A man is walking in the forest area\n",
    "A person walks wearing a black trecking shore and climbed a snow mountain\n",
    "Person is showing his new boots and their advantages\n",
    "A pair of gray hiking boots are shown as the narrator states boots are the most important part of hiking\n",
    "A guy is using boots to hike in the snow\n",
    "\n",
    "ERRADA: A pair of gray hiking boots is showing the forest area\n",
    "CERTA: A pair of hiking boots are shown and then a man walks along the snowy forest"
   ]
  },
  {
   "cell_type": "code",
   "execution_count": null,
   "metadata": {},
   "outputs": [],
   "source": []
  },
  {
   "cell_type": "markdown",
   "metadata": {},
   "source": [
    "## Next steps"
   ]
  },
  {
   "cell_type": "markdown",
   "metadata": {},
   "source": [
    "(Ver notas no EverNote)"
   ]
  },
  {
   "cell_type": "code",
   "execution_count": null,
   "metadata": {
    "ExecuteTime": {
     "end_time": "2022-04-27T01:40:57.000443Z",
     "start_time": "2022-04-27T01:40:56.968808Z"
    }
   },
   "outputs": [],
   "source": [
    "## Considerando o desvio padrão na frase 4:\n",
    "words.loc[['love','beautiful']]"
   ]
  },
  {
   "cell_type": "code",
   "execution_count": null,
   "metadata": {},
   "outputs": [],
   "source": []
  },
  {
   "cell_type": "code",
   "execution_count": null,
   "metadata": {},
   "outputs": [],
   "source": []
  },
  {
   "cell_type": "markdown",
   "metadata": {},
   "source": [
    "## Visualizing App"
   ]
  },
  {
   "cell_type": "code",
   "execution_count": null,
   "metadata": {
    "ExecuteTime": {
     "end_time": "2022-04-28T22:27:23.224656Z",
     "start_time": "2022-04-28T22:27:23.220487Z"
    }
   },
   "outputs": [],
   "source": [
    "import plotly.graph_objects as go # or plotly.express as px\n",
    "# fig = go.Figure() # or any Plotly Express function e.g. px.bar(...)\n",
    "# fig.add_trace( ... )\n",
    "# fig.update_layout( ... )\n",
    "\n",
    "import dash\n",
    "import dash_core_components as dcc\n",
    "import dash_html_components as html"
   ]
  },
  {
   "cell_type": "code",
   "execution_count": null,
   "metadata": {
    "ExecuteTime": {
     "end_time": "2022-04-28T22:28:31.016303Z",
     "start_time": "2022-04-28T22:27:23.932001Z"
    }
   },
   "outputs": [],
   "source": [
    "### Activating a Plotly Dash server\n",
    "app = dash.Dash()\n",
    "app.layout = html.Div([\n",
    "    dcc.Graph(figure=fig)\n",
    "])\n",
    "\n",
    "## Uncomment the line below:\n",
    "# app.run_server(debug=True, use_reloader=False)  # Turn off reloader if inside Jupyter"
   ]
  }
 ],
 "metadata": {
  "hide_input": false,
  "kernelspec": {
   "display_name": "phd",
   "language": "python",
   "name": "phd"
  },
  "language_info": {
   "codemirror_mode": {
    "name": "ipython",
    "version": 3
   },
   "file_extension": ".py",
   "mimetype": "text/x-python",
   "name": "python",
   "nbconvert_exporter": "python",
   "pygments_lexer": "ipython3",
   "version": "3.9.16"
  },
  "toc": {
   "base_numbering": 1,
   "nav_menu": {},
   "number_sections": true,
   "sideBar": true,
   "skip_h1_title": true,
   "title_cell": "Summary",
   "title_sidebar": "Contents",
   "toc_cell": true,
   "toc_position": {
    "height": "calc(100% - 180px)",
    "left": "10px",
    "top": "150px",
    "width": "300.15px"
   },
   "toc_section_display": true,
   "toc_window_display": false
  },
  "toc-autonumbering": true,
  "toc-showcode": false,
  "toc-showmarkdowntxt": false,
  "varInspector": {
   "cols": {
    "lenName": 16,
    "lenType": 16,
    "lenVar": 40
   },
   "kernels_config": {
    "python": {
     "delete_cmd_postfix": "",
     "delete_cmd_prefix": "del ",
     "library": "var_list.py",
     "varRefreshCmd": "print(var_dic_list())"
    },
    "r": {
     "delete_cmd_postfix": ") ",
     "delete_cmd_prefix": "rm(",
     "library": "var_list.r",
     "varRefreshCmd": "cat(var_dic_list()) "
    }
   },
   "position": {
    "height": "498.85px",
    "left": "651.8px",
    "right": "20px",
    "top": "56px",
    "width": "715px"
   },
   "types_to_exclude": [
    "module",
    "function",
    "builtin_function_or_method",
    "instance",
    "_Feature"
   ],
   "window_display": false
  }
 },
 "nbformat": 4,
 "nbformat_minor": 4
}
