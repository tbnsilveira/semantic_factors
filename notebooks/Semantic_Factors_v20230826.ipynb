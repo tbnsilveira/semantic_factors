{
 "cells": [
  {
   "cell_type": "markdown",
   "metadata": {
    "tags": []
   },
   "source": [
    "# Semantic Factors\n",
    "This notebook aims for an exploratory factor analysis of \"The Glasgow Norm\" -- a database with 5.553 English words classified into nine psycholinguistics dimensions. The objetive in doing such an analysis is to find out empirical support for the theoretical segmentation of the semantic content, which are believed to have an objective portion and a subjective portion."
   ]
  },
  {
   "cell_type": "markdown",
   "metadata": {
    "tags": []
   },
   "source": [
    "## Introduction"
   ]
  },
  {
   "cell_type": "markdown",
   "metadata": {},
   "source": [
    "### Libraries"
   ]
  },
  {
   "cell_type": "code",
   "execution_count": 1,
   "metadata": {
    "ExecuteTime": {
     "end_time": "2022-11-12T22:37:14.251208Z",
     "start_time": "2022-11-12T22:37:14.073574Z"
    }
   },
   "outputs": [],
   "source": [
    "## Data analysis packages:\n",
    "import pandas as pd\n",
    "import numpy as np\n",
    "from math import isnan  #Verifies if a given valu e is numerical."
   ]
  },
  {
   "cell_type": "code",
   "execution_count": 2,
   "metadata": {
    "ExecuteTime": {
     "end_time": "2022-11-12T22:37:15.470110Z",
     "start_time": "2022-11-12T22:37:14.895488Z"
    }
   },
   "outputs": [],
   "source": [
    "## Visualization packages:\n",
    "import seaborn as sns\n",
    "import matplotlib.pyplot as plt\n",
    "%matplotlib inline"
   ]
  },
  {
   "cell_type": "code",
   "execution_count": 3,
   "metadata": {
    "ExecuteTime": {
     "end_time": "2022-11-12T22:37:16.581587Z",
     "start_time": "2022-11-12T22:37:16.459130Z"
    }
   },
   "outputs": [],
   "source": [
    "## Plotly Express\n",
    "import plotly.graph_objs as go\n",
    "import plotly"
   ]
  },
  {
   "cell_type": "markdown",
   "metadata": {},
   "source": [
    "### Definitions"
   ]
  },
  {
   "cell_type": "code",
   "execution_count": 4,
   "metadata": {
    "ExecuteTime": {
     "end_time": "2022-04-28T22:15:12.656866Z",
     "start_time": "2022-04-28T22:15:12.612272Z"
    }
   },
   "outputs": [],
   "source": [
    "## Forcing Pandas to display any number of elements\n",
    "pd.set_option('display.max_columns', None)\n",
    "pd.set_option('display.max_rows', 1000)\n",
    "pd.options.display.max_seq_items = 15000"
   ]
  },
  {
   "cell_type": "markdown",
   "metadata": {},
   "source": [
    "## DataPrep"
   ]
  },
  {
   "cell_type": "markdown",
   "metadata": {
    "tags": []
   },
   "source": [
    "### Importing \"The Glasgow Norms\" dataset\n",
    "Available at https://doi.org/10.3758/s13428-018-1099-3.  \n",
    "The Glasgow Norms are a set of normative ratings for 5,553 English words on nine psycholinguistic dimensions: arousal, valence, dominance, concreteness, imageability, familiarity, age of acquisition, semantic size, and gender association."
   ]
  },
  {
   "cell_type": "code",
   "execution_count": 6,
   "metadata": {
    "ExecuteTime": {
     "end_time": "2022-04-28T22:25:23.492830Z",
     "start_time": "2022-04-28T22:25:23.396543Z"
    }
   },
   "outputs": [],
   "source": [
    "## Reading the dataset file:\n",
    "## -> header=[0,1] parameters indicates that rows [0,1] must be considered as dataset header.\n",
    "glasgow = pd.read_csv('../data/(Glasgow Norms Ratings - Sup Material) 13428_2018_1099_MOESM2_ESM.csv',\n",
    "                     header=[0,1])"
   ]
  },
  {
   "cell_type": "code",
   "execution_count": 7,
   "metadata": {
    "ExecuteTime": {
     "end_time": "2022-04-28T22:25:24.138161Z",
     "start_time": "2022-04-28T22:25:23.991505Z"
    }
   },
   "outputs": [
    {
     "data": {
      "text/html": [
       "<div>\n",
       "<style scoped>\n",
       "    .dataframe tbody tr th:only-of-type {\n",
       "        vertical-align: middle;\n",
       "    }\n",
       "\n",
       "    .dataframe tbody tr th {\n",
       "        vertical-align: top;\n",
       "    }\n",
       "\n",
       "    .dataframe thead tr th {\n",
       "        text-align: left;\n",
       "    }\n",
       "</style>\n",
       "<table border=\"1\" class=\"dataframe\">\n",
       "  <thead>\n",
       "    <tr>\n",
       "      <th></th>\n",
       "      <th>Words</th>\n",
       "      <th>Length</th>\n",
       "      <th>AROU</th>\n",
       "      <th>Unnamed: 3_level_0</th>\n",
       "      <th>Unnamed: 4_level_0</th>\n",
       "      <th>VAL</th>\n",
       "      <th>Unnamed: 6_level_0</th>\n",
       "      <th>Unnamed: 7_level_0</th>\n",
       "      <th>DOM</th>\n",
       "      <th>Unnamed: 9_level_0</th>\n",
       "      <th>Unnamed: 10_level_0</th>\n",
       "      <th>CNC</th>\n",
       "      <th>Unnamed: 12_level_0</th>\n",
       "      <th>Unnamed: 13_level_0</th>\n",
       "      <th>IMAG</th>\n",
       "      <th>Unnamed: 15_level_0</th>\n",
       "      <th>Unnamed: 16_level_0</th>\n",
       "      <th>FAM</th>\n",
       "      <th>Unnamed: 18_level_0</th>\n",
       "      <th>Unnamed: 19_level_0</th>\n",
       "      <th>AOA</th>\n",
       "      <th>Unnamed: 21_level_0</th>\n",
       "      <th>Unnamed: 22_level_0</th>\n",
       "      <th>SIZE</th>\n",
       "      <th>Unnamed: 24_level_0</th>\n",
       "      <th>Unnamed: 25_level_0</th>\n",
       "      <th>GEND</th>\n",
       "      <th>Unnamed: 27_level_0</th>\n",
       "      <th>Unnamed: 28_level_0</th>\n",
       "    </tr>\n",
       "    <tr>\n",
       "      <th></th>\n",
       "      <th>Unnamed: 0_level_1</th>\n",
       "      <th>Unnamed: 1_level_1</th>\n",
       "      <th>M</th>\n",
       "      <th>SD</th>\n",
       "      <th>N</th>\n",
       "      <th>M</th>\n",
       "      <th>SD</th>\n",
       "      <th>N</th>\n",
       "      <th>M</th>\n",
       "      <th>SD</th>\n",
       "      <th>N</th>\n",
       "      <th>M</th>\n",
       "      <th>SD</th>\n",
       "      <th>N</th>\n",
       "      <th>M</th>\n",
       "      <th>SD</th>\n",
       "      <th>N</th>\n",
       "      <th>M</th>\n",
       "      <th>SD</th>\n",
       "      <th>N</th>\n",
       "      <th>M</th>\n",
       "      <th>SD</th>\n",
       "      <th>N</th>\n",
       "      <th>M</th>\n",
       "      <th>SD</th>\n",
       "      <th>N</th>\n",
       "      <th>M</th>\n",
       "      <th>SD</th>\n",
       "      <th>N</th>\n",
       "    </tr>\n",
       "  </thead>\n",
       "  <tbody>\n",
       "    <tr>\n",
       "      <th>0</th>\n",
       "      <td>abattoir</td>\n",
       "      <td>8</td>\n",
       "      <td>4.200</td>\n",
       "      <td>2.400</td>\n",
       "      <td>25</td>\n",
       "      <td>2.864</td>\n",
       "      <td>1.740</td>\n",
       "      <td>22</td>\n",
       "      <td>4.333</td>\n",
       "      <td>1.285</td>\n",
       "      <td>21</td>\n",
       "      <td>5.455</td>\n",
       "      <td>1.900</td>\n",
       "      <td>22</td>\n",
       "      <td>4.391</td>\n",
       "      <td>2.121</td>\n",
       "      <td>23</td>\n",
       "      <td>2.382</td>\n",
       "      <td>1.799</td>\n",
       "      <td>34</td>\n",
       "      <td>6.760</td>\n",
       "      <td>0.427</td>\n",
       "      <td>25</td>\n",
       "      <td>4.652</td>\n",
       "      <td>1.549</td>\n",
       "      <td>23</td>\n",
       "      <td>5.391</td>\n",
       "      <td>1.170</td>\n",
       "      <td>23</td>\n",
       "    </tr>\n",
       "    <tr>\n",
       "      <th>1</th>\n",
       "      <td>abbey</td>\n",
       "      <td>5</td>\n",
       "      <td>3.125</td>\n",
       "      <td>2.342</td>\n",
       "      <td>32</td>\n",
       "      <td>5.781</td>\n",
       "      <td>1.268</td>\n",
       "      <td>32</td>\n",
       "      <td>4.667</td>\n",
       "      <td>1.551</td>\n",
       "      <td>33</td>\n",
       "      <td>5.906</td>\n",
       "      <td>1.508</td>\n",
       "      <td>32</td>\n",
       "      <td>5.344</td>\n",
       "      <td>1.881</td>\n",
       "      <td>32</td>\n",
       "      <td>3.324</td>\n",
       "      <td>1.810</td>\n",
       "      <td>34</td>\n",
       "      <td>5.177</td>\n",
       "      <td>1.339</td>\n",
       "      <td>34</td>\n",
       "      <td>5.121</td>\n",
       "      <td>1.629</td>\n",
       "      <td>33</td>\n",
       "      <td>3.303</td>\n",
       "      <td>1.193</td>\n",
       "      <td>33</td>\n",
       "    </tr>\n",
       "  </tbody>\n",
       "</table>\n",
       "</div>"
      ],
      "text/plain": [
       "               Words             Length   AROU Unnamed: 3_level_0  \\\n",
       "  Unnamed: 0_level_1 Unnamed: 1_level_1      M                 SD   \n",
       "0           abattoir                  8  4.200              2.400   \n",
       "1              abbey                  5  3.125              2.342   \n",
       "\n",
       "  Unnamed: 4_level_0    VAL Unnamed: 6_level_0 Unnamed: 7_level_0    DOM  \\\n",
       "                   N      M                 SD                  N      M   \n",
       "0                 25  2.864              1.740                 22  4.333   \n",
       "1                 32  5.781              1.268                 32  4.667   \n",
       "\n",
       "  Unnamed: 9_level_0 Unnamed: 10_level_0    CNC Unnamed: 12_level_0  \\\n",
       "                  SD                   N      M                  SD   \n",
       "0              1.285                  21  5.455               1.900   \n",
       "1              1.551                  33  5.906               1.508   \n",
       "\n",
       "  Unnamed: 13_level_0   IMAG Unnamed: 15_level_0 Unnamed: 16_level_0    FAM  \\\n",
       "                    N      M                  SD                   N      M   \n",
       "0                  22  4.391               2.121                  23  2.382   \n",
       "1                  32  5.344               1.881                  32  3.324   \n",
       "\n",
       "  Unnamed: 18_level_0 Unnamed: 19_level_0    AOA Unnamed: 21_level_0  \\\n",
       "                   SD                   N      M                  SD   \n",
       "0               1.799                  34  6.760               0.427   \n",
       "1               1.810                  34  5.177               1.339   \n",
       "\n",
       "  Unnamed: 22_level_0   SIZE Unnamed: 24_level_0 Unnamed: 25_level_0   GEND  \\\n",
       "                    N      M                  SD                   N      M   \n",
       "0                  25  4.652               1.549                  23  5.391   \n",
       "1                  34  5.121               1.629                  33  3.303   \n",
       "\n",
       "  Unnamed: 27_level_0 Unnamed: 28_level_0  \n",
       "                   SD                   N  \n",
       "0               1.170                  23  \n",
       "1               1.193                  33  "
      ]
     },
     "execution_count": 7,
     "metadata": {},
     "output_type": "execute_result"
    }
   ],
   "source": [
    "glasgow.head(2)"
   ]
  },
  {
   "cell_type": "markdown",
   "metadata": {},
   "source": [
    "#### DataPrep: adjusting the column/feature label"
   ]
  },
  {
   "cell_type": "code",
   "execution_count": 9,
   "metadata": {
    "ExecuteTime": {
     "end_time": "2022-04-28T22:25:25.610577Z",
     "start_time": "2022-04-28T22:25:25.505273Z"
    }
   },
   "outputs": [],
   "source": [
    "## Reading the dataset file, but now discarding the first header row:\n",
    "glasgow = pd.read_csv('../data/(Glasgow Norms Ratings - Sup Material) 13428_2018_1099_MOESM2_ESM.csv',\n",
    "                     header=[1])"
   ]
  },
  {
   "cell_type": "code",
   "execution_count": 10,
   "metadata": {
    "ExecuteTime": {
     "end_time": "2022-04-28T22:25:25.943161Z",
     "start_time": "2022-04-28T22:25:25.934610Z"
    }
   },
   "outputs": [
    {
     "data": {
      "text/plain": [
       "Index(['Unnamed: 0', 'Unnamed: 1', 'M', 'SD', 'N', 'M.1', 'SD.1', 'N.1', 'M.2',\n",
       "       'SD.2', 'N.2', 'M.3', 'SD.3', 'N.3', 'M.4', 'SD.4', 'N.4', 'M.5',\n",
       "       'SD.5', 'N.5', 'M.6', 'SD.6', 'N.6', 'M.7', 'SD.7', 'N.7', 'M.8',\n",
       "       'SD.8', 'N.8'],\n",
       "      dtype='object')"
      ]
     },
     "execution_count": 10,
     "metadata": {},
     "output_type": "execute_result"
    }
   ],
   "source": [
    "glasgow.columns"
   ]
  },
  {
   "cell_type": "code",
   "execution_count": 11,
   "metadata": {
    "ExecuteTime": {
     "end_time": "2022-04-28T22:25:26.184671Z",
     "start_time": "2022-04-28T22:25:26.174894Z"
    },
    "scrolled": true
   },
   "outputs": [],
   "source": [
    "glasgow.columns = ['words', 'length', \n",
    "                   'AROU_M', 'AROU_SD', 'AROU_N',\n",
    "                   'VAL_M', 'VAL_SD', 'VAL_N',\n",
    "                   'DOM_M', 'DOM_SD', 'DOM_N',\n",
    "                   'CNC_M', 'CNC_SD', 'CNC_N',\n",
    "                   'IMAG_M', 'IMAG_SD', 'IMAG_N',\n",
    "                   'FAM_M', 'FAM_SD', 'FAM_N',\n",
    "                   'AOA_M', 'AOA_SD', 'AOA_N',\n",
    "                   'SIZE_M', 'SIZE_SD', 'SIZE_N',\n",
    "                   'GEND_M', 'GEND_SD', 'GEND_N']"
   ]
  },
  {
   "cell_type": "code",
   "execution_count": 12,
   "metadata": {
    "ExecuteTime": {
     "end_time": "2022-04-28T22:25:26.744807Z",
     "start_time": "2022-04-28T22:25:26.648652Z"
    }
   },
   "outputs": [
    {
     "data": {
      "text/html": [
       "<div>\n",
       "<style scoped>\n",
       "    .dataframe tbody tr th:only-of-type {\n",
       "        vertical-align: middle;\n",
       "    }\n",
       "\n",
       "    .dataframe tbody tr th {\n",
       "        vertical-align: top;\n",
       "    }\n",
       "\n",
       "    .dataframe thead th {\n",
       "        text-align: right;\n",
       "    }\n",
       "</style>\n",
       "<table border=\"1\" class=\"dataframe\">\n",
       "  <thead>\n",
       "    <tr style=\"text-align: right;\">\n",
       "      <th></th>\n",
       "      <th>words</th>\n",
       "      <th>length</th>\n",
       "      <th>AROU_M</th>\n",
       "      <th>AROU_SD</th>\n",
       "      <th>AROU_N</th>\n",
       "      <th>VAL_M</th>\n",
       "      <th>VAL_SD</th>\n",
       "      <th>VAL_N</th>\n",
       "      <th>DOM_M</th>\n",
       "      <th>DOM_SD</th>\n",
       "      <th>DOM_N</th>\n",
       "      <th>CNC_M</th>\n",
       "      <th>CNC_SD</th>\n",
       "      <th>CNC_N</th>\n",
       "      <th>IMAG_M</th>\n",
       "      <th>IMAG_SD</th>\n",
       "      <th>IMAG_N</th>\n",
       "      <th>FAM_M</th>\n",
       "      <th>FAM_SD</th>\n",
       "      <th>FAM_N</th>\n",
       "      <th>AOA_M</th>\n",
       "      <th>AOA_SD</th>\n",
       "      <th>AOA_N</th>\n",
       "      <th>SIZE_M</th>\n",
       "      <th>SIZE_SD</th>\n",
       "      <th>SIZE_N</th>\n",
       "      <th>GEND_M</th>\n",
       "      <th>GEND_SD</th>\n",
       "      <th>GEND_N</th>\n",
       "    </tr>\n",
       "  </thead>\n",
       "  <tbody>\n",
       "    <tr>\n",
       "      <th>0</th>\n",
       "      <td>abattoir</td>\n",
       "      <td>8</td>\n",
       "      <td>4.200</td>\n",
       "      <td>2.400</td>\n",
       "      <td>25</td>\n",
       "      <td>2.864</td>\n",
       "      <td>1.740</td>\n",
       "      <td>22</td>\n",
       "      <td>4.333</td>\n",
       "      <td>1.285</td>\n",
       "      <td>21</td>\n",
       "      <td>5.455</td>\n",
       "      <td>1.900</td>\n",
       "      <td>22</td>\n",
       "      <td>4.391</td>\n",
       "      <td>2.121</td>\n",
       "      <td>23</td>\n",
       "      <td>2.382</td>\n",
       "      <td>1.799</td>\n",
       "      <td>34</td>\n",
       "      <td>6.760</td>\n",
       "      <td>0.427</td>\n",
       "      <td>25</td>\n",
       "      <td>4.652</td>\n",
       "      <td>1.549</td>\n",
       "      <td>23</td>\n",
       "      <td>5.391</td>\n",
       "      <td>1.170</td>\n",
       "      <td>23</td>\n",
       "    </tr>\n",
       "    <tr>\n",
       "      <th>1</th>\n",
       "      <td>abbey</td>\n",
       "      <td>5</td>\n",
       "      <td>3.125</td>\n",
       "      <td>2.342</td>\n",
       "      <td>32</td>\n",
       "      <td>5.781</td>\n",
       "      <td>1.268</td>\n",
       "      <td>32</td>\n",
       "      <td>4.667</td>\n",
       "      <td>1.551</td>\n",
       "      <td>33</td>\n",
       "      <td>5.906</td>\n",
       "      <td>1.508</td>\n",
       "      <td>32</td>\n",
       "      <td>5.344</td>\n",
       "      <td>1.881</td>\n",
       "      <td>32</td>\n",
       "      <td>3.324</td>\n",
       "      <td>1.810</td>\n",
       "      <td>34</td>\n",
       "      <td>5.177</td>\n",
       "      <td>1.339</td>\n",
       "      <td>34</td>\n",
       "      <td>5.121</td>\n",
       "      <td>1.629</td>\n",
       "      <td>33</td>\n",
       "      <td>3.303</td>\n",
       "      <td>1.193</td>\n",
       "      <td>33</td>\n",
       "    </tr>\n",
       "    <tr>\n",
       "      <th>2</th>\n",
       "      <td>abbreviate</td>\n",
       "      <td>10</td>\n",
       "      <td>3.273</td>\n",
       "      <td>1.582</td>\n",
       "      <td>33</td>\n",
       "      <td>5.250</td>\n",
       "      <td>1.031</td>\n",
       "      <td>32</td>\n",
       "      <td>5.235</td>\n",
       "      <td>1.238</td>\n",
       "      <td>34</td>\n",
       "      <td>3.286</td>\n",
       "      <td>1.733</td>\n",
       "      <td>35</td>\n",
       "      <td>3.177</td>\n",
       "      <td>1.689</td>\n",
       "      <td>34</td>\n",
       "      <td>5.121</td>\n",
       "      <td>1.838</td>\n",
       "      <td>33</td>\n",
       "      <td>5.543</td>\n",
       "      <td>1.130</td>\n",
       "      <td>35</td>\n",
       "      <td>2.667</td>\n",
       "      <td>1.700</td>\n",
       "      <td>33</td>\n",
       "      <td>3.971</td>\n",
       "      <td>0.954</td>\n",
       "      <td>34</td>\n",
       "    </tr>\n",
       "    <tr>\n",
       "      <th>3</th>\n",
       "      <td>abdicate</td>\n",
       "      <td>8</td>\n",
       "      <td>4.194</td>\n",
       "      <td>1.941</td>\n",
       "      <td>31</td>\n",
       "      <td>3.767</td>\n",
       "      <td>1.383</td>\n",
       "      <td>30</td>\n",
       "      <td>4.419</td>\n",
       "      <td>2.182</td>\n",
       "      <td>31</td>\n",
       "      <td>3.367</td>\n",
       "      <td>1.853</td>\n",
       "      <td>30</td>\n",
       "      <td>2.516</td>\n",
       "      <td>1.521</td>\n",
       "      <td>31</td>\n",
       "      <td>3.971</td>\n",
       "      <td>2.077</td>\n",
       "      <td>35</td>\n",
       "      <td>6.233</td>\n",
       "      <td>0.844</td>\n",
       "      <td>30</td>\n",
       "      <td>4.679</td>\n",
       "      <td>1.441</td>\n",
       "      <td>28</td>\n",
       "      <td>5.167</td>\n",
       "      <td>1.186</td>\n",
       "      <td>30</td>\n",
       "    </tr>\n",
       "    <tr>\n",
       "      <th>4</th>\n",
       "      <td>abdication</td>\n",
       "      <td>10</td>\n",
       "      <td>3.846</td>\n",
       "      <td>2.282</td>\n",
       "      <td>26</td>\n",
       "      <td>3.880</td>\n",
       "      <td>1.608</td>\n",
       "      <td>25</td>\n",
       "      <td>4.800</td>\n",
       "      <td>1.960</td>\n",
       "      <td>25</td>\n",
       "      <td>3.292</td>\n",
       "      <td>1.620</td>\n",
       "      <td>24</td>\n",
       "      <td>2.571</td>\n",
       "      <td>1.294</td>\n",
       "      <td>28</td>\n",
       "      <td>3.097</td>\n",
       "      <td>2.022</td>\n",
       "      <td>31</td>\n",
       "      <td>6.407</td>\n",
       "      <td>0.913</td>\n",
       "      <td>27</td>\n",
       "      <td>5.083</td>\n",
       "      <td>1.351</td>\n",
       "      <td>24</td>\n",
       "      <td>4.571</td>\n",
       "      <td>1.015</td>\n",
       "      <td>28</td>\n",
       "    </tr>\n",
       "  </tbody>\n",
       "</table>\n",
       "</div>"
      ],
      "text/plain": [
       "        words  length  AROU_M  AROU_SD  AROU_N  VAL_M  VAL_SD  VAL_N  DOM_M  \\\n",
       "0    abattoir       8   4.200    2.400      25  2.864   1.740     22  4.333   \n",
       "1       abbey       5   3.125    2.342      32  5.781   1.268     32  4.667   \n",
       "2  abbreviate      10   3.273    1.582      33  5.250   1.031     32  5.235   \n",
       "3    abdicate       8   4.194    1.941      31  3.767   1.383     30  4.419   \n",
       "4  abdication      10   3.846    2.282      26  3.880   1.608     25  4.800   \n",
       "\n",
       "   DOM_SD  DOM_N  CNC_M  CNC_SD  CNC_N  IMAG_M  IMAG_SD  IMAG_N  FAM_M  \\\n",
       "0   1.285     21  5.455   1.900     22   4.391    2.121      23  2.382   \n",
       "1   1.551     33  5.906   1.508     32   5.344    1.881      32  3.324   \n",
       "2   1.238     34  3.286   1.733     35   3.177    1.689      34  5.121   \n",
       "3   2.182     31  3.367   1.853     30   2.516    1.521      31  3.971   \n",
       "4   1.960     25  3.292   1.620     24   2.571    1.294      28  3.097   \n",
       "\n",
       "   FAM_SD  FAM_N  AOA_M  AOA_SD  AOA_N  SIZE_M  SIZE_SD  SIZE_N  GEND_M  \\\n",
       "0   1.799     34  6.760   0.427     25   4.652    1.549      23   5.391   \n",
       "1   1.810     34  5.177   1.339     34   5.121    1.629      33   3.303   \n",
       "2   1.838     33  5.543   1.130     35   2.667    1.700      33   3.971   \n",
       "3   2.077     35  6.233   0.844     30   4.679    1.441      28   5.167   \n",
       "4   2.022     31  6.407   0.913     27   5.083    1.351      24   4.571   \n",
       "\n",
       "   GEND_SD  GEND_N  \n",
       "0    1.170      23  \n",
       "1    1.193      33  \n",
       "2    0.954      34  \n",
       "3    1.186      30  \n",
       "4    1.015      28  "
      ]
     },
     "execution_count": 12,
     "metadata": {},
     "output_type": "execute_result"
    }
   ],
   "source": [
    "glasgow.head()"
   ]
  },
  {
   "cell_type": "code",
   "execution_count": 13,
   "metadata": {
    "ExecuteTime": {
     "end_time": "2022-04-28T22:25:27.434435Z",
     "start_time": "2022-04-28T22:25:27.155945Z"
    }
   },
   "outputs": [],
   "source": [
    "## Exportando o dataframe ajustado para um arquivo CSV:\n",
    "#glasgow.to_csv('./dataset_GlasgowR/GlasgowR_pandas_ready.csv')"
   ]
  },
  {
   "cell_type": "code",
   "execution_count": 14,
   "metadata": {
    "ExecuteTime": {
     "end_time": "2022-04-28T22:25:28.028879Z",
     "start_time": "2022-04-28T22:25:27.900986Z"
    }
   },
   "outputs": [
    {
     "data": {
      "text/html": [
       "<div>\n",
       "<style scoped>\n",
       "    .dataframe tbody tr th:only-of-type {\n",
       "        vertical-align: middle;\n",
       "    }\n",
       "\n",
       "    .dataframe tbody tr th {\n",
       "        vertical-align: top;\n",
       "    }\n",
       "\n",
       "    .dataframe thead th {\n",
       "        text-align: right;\n",
       "    }\n",
       "</style>\n",
       "<table border=\"1\" class=\"dataframe\">\n",
       "  <thead>\n",
       "    <tr style=\"text-align: right;\">\n",
       "      <th></th>\n",
       "      <th>words</th>\n",
       "      <th>length</th>\n",
       "      <th>AROU_M</th>\n",
       "      <th>AROU_SD</th>\n",
       "      <th>AROU_N</th>\n",
       "      <th>VAL_M</th>\n",
       "      <th>VAL_SD</th>\n",
       "      <th>VAL_N</th>\n",
       "      <th>DOM_M</th>\n",
       "      <th>DOM_SD</th>\n",
       "      <th>DOM_N</th>\n",
       "      <th>CNC_M</th>\n",
       "      <th>CNC_SD</th>\n",
       "      <th>CNC_N</th>\n",
       "      <th>IMAG_M</th>\n",
       "      <th>IMAG_SD</th>\n",
       "      <th>IMAG_N</th>\n",
       "      <th>FAM_M</th>\n",
       "      <th>FAM_SD</th>\n",
       "      <th>FAM_N</th>\n",
       "      <th>AOA_M</th>\n",
       "      <th>AOA_SD</th>\n",
       "      <th>AOA_N</th>\n",
       "      <th>SIZE_M</th>\n",
       "      <th>SIZE_SD</th>\n",
       "      <th>SIZE_N</th>\n",
       "      <th>GEND_M</th>\n",
       "      <th>GEND_SD</th>\n",
       "      <th>GEND_N</th>\n",
       "    </tr>\n",
       "  </thead>\n",
       "  <tbody>\n",
       "    <tr>\n",
       "      <th>0</th>\n",
       "      <td>abattoir</td>\n",
       "      <td>8</td>\n",
       "      <td>4.200</td>\n",
       "      <td>2.400</td>\n",
       "      <td>25</td>\n",
       "      <td>2.864</td>\n",
       "      <td>1.740</td>\n",
       "      <td>22</td>\n",
       "      <td>4.333</td>\n",
       "      <td>1.285</td>\n",
       "      <td>21</td>\n",
       "      <td>5.455</td>\n",
       "      <td>1.900</td>\n",
       "      <td>22</td>\n",
       "      <td>4.391</td>\n",
       "      <td>2.121</td>\n",
       "      <td>23</td>\n",
       "      <td>2.382</td>\n",
       "      <td>1.799</td>\n",
       "      <td>34</td>\n",
       "      <td>6.760</td>\n",
       "      <td>0.427</td>\n",
       "      <td>25</td>\n",
       "      <td>4.652</td>\n",
       "      <td>1.549</td>\n",
       "      <td>23</td>\n",
       "      <td>5.391</td>\n",
       "      <td>1.170</td>\n",
       "      <td>23</td>\n",
       "    </tr>\n",
       "    <tr>\n",
       "      <th>1</th>\n",
       "      <td>abbey</td>\n",
       "      <td>5</td>\n",
       "      <td>3.125</td>\n",
       "      <td>2.342</td>\n",
       "      <td>32</td>\n",
       "      <td>5.781</td>\n",
       "      <td>1.268</td>\n",
       "      <td>32</td>\n",
       "      <td>4.667</td>\n",
       "      <td>1.551</td>\n",
       "      <td>33</td>\n",
       "      <td>5.906</td>\n",
       "      <td>1.508</td>\n",
       "      <td>32</td>\n",
       "      <td>5.344</td>\n",
       "      <td>1.881</td>\n",
       "      <td>32</td>\n",
       "      <td>3.324</td>\n",
       "      <td>1.810</td>\n",
       "      <td>34</td>\n",
       "      <td>5.177</td>\n",
       "      <td>1.339</td>\n",
       "      <td>34</td>\n",
       "      <td>5.121</td>\n",
       "      <td>1.629</td>\n",
       "      <td>33</td>\n",
       "      <td>3.303</td>\n",
       "      <td>1.193</td>\n",
       "      <td>33</td>\n",
       "    </tr>\n",
       "    <tr>\n",
       "      <th>2</th>\n",
       "      <td>abbreviate</td>\n",
       "      <td>10</td>\n",
       "      <td>3.273</td>\n",
       "      <td>1.582</td>\n",
       "      <td>33</td>\n",
       "      <td>5.250</td>\n",
       "      <td>1.031</td>\n",
       "      <td>32</td>\n",
       "      <td>5.235</td>\n",
       "      <td>1.238</td>\n",
       "      <td>34</td>\n",
       "      <td>3.286</td>\n",
       "      <td>1.733</td>\n",
       "      <td>35</td>\n",
       "      <td>3.177</td>\n",
       "      <td>1.689</td>\n",
       "      <td>34</td>\n",
       "      <td>5.121</td>\n",
       "      <td>1.838</td>\n",
       "      <td>33</td>\n",
       "      <td>5.543</td>\n",
       "      <td>1.130</td>\n",
       "      <td>35</td>\n",
       "      <td>2.667</td>\n",
       "      <td>1.700</td>\n",
       "      <td>33</td>\n",
       "      <td>3.971</td>\n",
       "      <td>0.954</td>\n",
       "      <td>34</td>\n",
       "    </tr>\n",
       "    <tr>\n",
       "      <th>3</th>\n",
       "      <td>abdicate</td>\n",
       "      <td>8</td>\n",
       "      <td>4.194</td>\n",
       "      <td>1.941</td>\n",
       "      <td>31</td>\n",
       "      <td>3.767</td>\n",
       "      <td>1.383</td>\n",
       "      <td>30</td>\n",
       "      <td>4.419</td>\n",
       "      <td>2.182</td>\n",
       "      <td>31</td>\n",
       "      <td>3.367</td>\n",
       "      <td>1.853</td>\n",
       "      <td>30</td>\n",
       "      <td>2.516</td>\n",
       "      <td>1.521</td>\n",
       "      <td>31</td>\n",
       "      <td>3.971</td>\n",
       "      <td>2.077</td>\n",
       "      <td>35</td>\n",
       "      <td>6.233</td>\n",
       "      <td>0.844</td>\n",
       "      <td>30</td>\n",
       "      <td>4.679</td>\n",
       "      <td>1.441</td>\n",
       "      <td>28</td>\n",
       "      <td>5.167</td>\n",
       "      <td>1.186</td>\n",
       "      <td>30</td>\n",
       "    </tr>\n",
       "    <tr>\n",
       "      <th>4</th>\n",
       "      <td>abdication</td>\n",
       "      <td>10</td>\n",
       "      <td>3.846</td>\n",
       "      <td>2.282</td>\n",
       "      <td>26</td>\n",
       "      <td>3.880</td>\n",
       "      <td>1.608</td>\n",
       "      <td>25</td>\n",
       "      <td>4.800</td>\n",
       "      <td>1.960</td>\n",
       "      <td>25</td>\n",
       "      <td>3.292</td>\n",
       "      <td>1.620</td>\n",
       "      <td>24</td>\n",
       "      <td>2.571</td>\n",
       "      <td>1.294</td>\n",
       "      <td>28</td>\n",
       "      <td>3.097</td>\n",
       "      <td>2.022</td>\n",
       "      <td>31</td>\n",
       "      <td>6.407</td>\n",
       "      <td>0.913</td>\n",
       "      <td>27</td>\n",
       "      <td>5.083</td>\n",
       "      <td>1.351</td>\n",
       "      <td>24</td>\n",
       "      <td>4.571</td>\n",
       "      <td>1.015</td>\n",
       "      <td>28</td>\n",
       "    </tr>\n",
       "    <tr>\n",
       "      <th>...</th>\n",
       "      <td>...</td>\n",
       "      <td>...</td>\n",
       "      <td>...</td>\n",
       "      <td>...</td>\n",
       "      <td>...</td>\n",
       "      <td>...</td>\n",
       "      <td>...</td>\n",
       "      <td>...</td>\n",
       "      <td>...</td>\n",
       "      <td>...</td>\n",
       "      <td>...</td>\n",
       "      <td>...</td>\n",
       "      <td>...</td>\n",
       "      <td>...</td>\n",
       "      <td>...</td>\n",
       "      <td>...</td>\n",
       "      <td>...</td>\n",
       "      <td>...</td>\n",
       "      <td>...</td>\n",
       "      <td>...</td>\n",
       "      <td>...</td>\n",
       "      <td>...</td>\n",
       "      <td>...</td>\n",
       "      <td>...</td>\n",
       "      <td>...</td>\n",
       "      <td>...</td>\n",
       "      <td>...</td>\n",
       "      <td>...</td>\n",
       "      <td>...</td>\n",
       "    </tr>\n",
       "    <tr>\n",
       "      <th>5548</th>\n",
       "      <td>zeppelin</td>\n",
       "      <td>8</td>\n",
       "      <td>6.185</td>\n",
       "      <td>2.037</td>\n",
       "      <td>27</td>\n",
       "      <td>5.000</td>\n",
       "      <td>1.414</td>\n",
       "      <td>27</td>\n",
       "      <td>5.333</td>\n",
       "      <td>1.743</td>\n",
       "      <td>27</td>\n",
       "      <td>6.286</td>\n",
       "      <td>0.920</td>\n",
       "      <td>28</td>\n",
       "      <td>6.185</td>\n",
       "      <td>1.123</td>\n",
       "      <td>27</td>\n",
       "      <td>3.167</td>\n",
       "      <td>2.115</td>\n",
       "      <td>30</td>\n",
       "      <td>6.036</td>\n",
       "      <td>0.944</td>\n",
       "      <td>28</td>\n",
       "      <td>5.464</td>\n",
       "      <td>1.721</td>\n",
       "      <td>28</td>\n",
       "      <td>5.269</td>\n",
       "      <td>1.021</td>\n",
       "      <td>26</td>\n",
       "    </tr>\n",
       "    <tr>\n",
       "      <th>5549</th>\n",
       "      <td>zero</td>\n",
       "      <td>4</td>\n",
       "      <td>4.031</td>\n",
       "      <td>2.023</td>\n",
       "      <td>32</td>\n",
       "      <td>4.182</td>\n",
       "      <td>1.585</td>\n",
       "      <td>33</td>\n",
       "      <td>4.567</td>\n",
       "      <td>2.124</td>\n",
       "      <td>30</td>\n",
       "      <td>2.688</td>\n",
       "      <td>1.895</td>\n",
       "      <td>32</td>\n",
       "      <td>3.903</td>\n",
       "      <td>2.347</td>\n",
       "      <td>31</td>\n",
       "      <td>6.269</td>\n",
       "      <td>1.195</td>\n",
       "      <td>26</td>\n",
       "      <td>2.636</td>\n",
       "      <td>1.123</td>\n",
       "      <td>33</td>\n",
       "      <td>1.758</td>\n",
       "      <td>1.393</td>\n",
       "      <td>33</td>\n",
       "      <td>4.172</td>\n",
       "      <td>0.647</td>\n",
       "      <td>29</td>\n",
       "    </tr>\n",
       "    <tr>\n",
       "      <th>5550</th>\n",
       "      <td>zest</td>\n",
       "      <td>4</td>\n",
       "      <td>5.969</td>\n",
       "      <td>2.158</td>\n",
       "      <td>32</td>\n",
       "      <td>6.818</td>\n",
       "      <td>1.313</td>\n",
       "      <td>33</td>\n",
       "      <td>6.121</td>\n",
       "      <td>1.320</td>\n",
       "      <td>33</td>\n",
       "      <td>4.438</td>\n",
       "      <td>1.694</td>\n",
       "      <td>32</td>\n",
       "      <td>4.033</td>\n",
       "      <td>1.622</td>\n",
       "      <td>30</td>\n",
       "      <td>4.000</td>\n",
       "      <td>1.626</td>\n",
       "      <td>31</td>\n",
       "      <td>5.364</td>\n",
       "      <td>1.123</td>\n",
       "      <td>33</td>\n",
       "      <td>2.636</td>\n",
       "      <td>1.738</td>\n",
       "      <td>33</td>\n",
       "      <td>3.452</td>\n",
       "      <td>1.011</td>\n",
       "      <td>31</td>\n",
       "    </tr>\n",
       "    <tr>\n",
       "      <th>5551</th>\n",
       "      <td>zoo</td>\n",
       "      <td>3</td>\n",
       "      <td>5.909</td>\n",
       "      <td>2.137</td>\n",
       "      <td>33</td>\n",
       "      <td>6.235</td>\n",
       "      <td>1.800</td>\n",
       "      <td>34</td>\n",
       "      <td>5.485</td>\n",
       "      <td>1.598</td>\n",
       "      <td>33</td>\n",
       "      <td>6.118</td>\n",
       "      <td>1.105</td>\n",
       "      <td>34</td>\n",
       "      <td>6.441</td>\n",
       "      <td>1.006</td>\n",
       "      <td>34</td>\n",
       "      <td>5.655</td>\n",
       "      <td>1.747</td>\n",
       "      <td>29</td>\n",
       "      <td>2.324</td>\n",
       "      <td>0.674</td>\n",
       "      <td>34</td>\n",
       "      <td>4.844</td>\n",
       "      <td>1.873</td>\n",
       "      <td>32</td>\n",
       "      <td>4.059</td>\n",
       "      <td>0.802</td>\n",
       "      <td>34</td>\n",
       "    </tr>\n",
       "    <tr>\n",
       "      <th>5552</th>\n",
       "      <td>zoology</td>\n",
       "      <td>7</td>\n",
       "      <td>4.571</td>\n",
       "      <td>2.060</td>\n",
       "      <td>35</td>\n",
       "      <td>5.765</td>\n",
       "      <td>0.972</td>\n",
       "      <td>34</td>\n",
       "      <td>5.114</td>\n",
       "      <td>1.545</td>\n",
       "      <td>35</td>\n",
       "      <td>4.429</td>\n",
       "      <td>1.841</td>\n",
       "      <td>35</td>\n",
       "      <td>3.914</td>\n",
       "      <td>1.481</td>\n",
       "      <td>35</td>\n",
       "      <td>4.382</td>\n",
       "      <td>1.956</td>\n",
       "      <td>34</td>\n",
       "      <td>5.824</td>\n",
       "      <td>1.150</td>\n",
       "      <td>34</td>\n",
       "      <td>4.571</td>\n",
       "      <td>1.609</td>\n",
       "      <td>35</td>\n",
       "      <td>3.657</td>\n",
       "      <td>1.068</td>\n",
       "      <td>35</td>\n",
       "    </tr>\n",
       "  </tbody>\n",
       "</table>\n",
       "<p>5553 rows × 29 columns</p>\n",
       "</div>"
      ],
      "text/plain": [
       "           words  length  AROU_M  AROU_SD  AROU_N  VAL_M  VAL_SD  VAL_N  \\\n",
       "0       abattoir       8   4.200    2.400      25  2.864   1.740     22   \n",
       "1          abbey       5   3.125    2.342      32  5.781   1.268     32   \n",
       "2     abbreviate      10   3.273    1.582      33  5.250   1.031     32   \n",
       "3       abdicate       8   4.194    1.941      31  3.767   1.383     30   \n",
       "4     abdication      10   3.846    2.282      26  3.880   1.608     25   \n",
       "...          ...     ...     ...      ...     ...    ...     ...    ...   \n",
       "5548    zeppelin       8   6.185    2.037      27  5.000   1.414     27   \n",
       "5549        zero       4   4.031    2.023      32  4.182   1.585     33   \n",
       "5550        zest       4   5.969    2.158      32  6.818   1.313     33   \n",
       "5551         zoo       3   5.909    2.137      33  6.235   1.800     34   \n",
       "5552     zoology       7   4.571    2.060      35  5.765   0.972     34   \n",
       "\n",
       "      DOM_M  DOM_SD  DOM_N  CNC_M  CNC_SD  CNC_N  IMAG_M  IMAG_SD  IMAG_N  \\\n",
       "0     4.333   1.285     21  5.455   1.900     22   4.391    2.121      23   \n",
       "1     4.667   1.551     33  5.906   1.508     32   5.344    1.881      32   \n",
       "2     5.235   1.238     34  3.286   1.733     35   3.177    1.689      34   \n",
       "3     4.419   2.182     31  3.367   1.853     30   2.516    1.521      31   \n",
       "4     4.800   1.960     25  3.292   1.620     24   2.571    1.294      28   \n",
       "...     ...     ...    ...    ...     ...    ...     ...      ...     ...   \n",
       "5548  5.333   1.743     27  6.286   0.920     28   6.185    1.123      27   \n",
       "5549  4.567   2.124     30  2.688   1.895     32   3.903    2.347      31   \n",
       "5550  6.121   1.320     33  4.438   1.694     32   4.033    1.622      30   \n",
       "5551  5.485   1.598     33  6.118   1.105     34   6.441    1.006      34   \n",
       "5552  5.114   1.545     35  4.429   1.841     35   3.914    1.481      35   \n",
       "\n",
       "      FAM_M  FAM_SD  FAM_N  AOA_M  AOA_SD  AOA_N  SIZE_M  SIZE_SD  SIZE_N  \\\n",
       "0     2.382   1.799     34  6.760   0.427     25   4.652    1.549      23   \n",
       "1     3.324   1.810     34  5.177   1.339     34   5.121    1.629      33   \n",
       "2     5.121   1.838     33  5.543   1.130     35   2.667    1.700      33   \n",
       "3     3.971   2.077     35  6.233   0.844     30   4.679    1.441      28   \n",
       "4     3.097   2.022     31  6.407   0.913     27   5.083    1.351      24   \n",
       "...     ...     ...    ...    ...     ...    ...     ...      ...     ...   \n",
       "5548  3.167   2.115     30  6.036   0.944     28   5.464    1.721      28   \n",
       "5549  6.269   1.195     26  2.636   1.123     33   1.758    1.393      33   \n",
       "5550  4.000   1.626     31  5.364   1.123     33   2.636    1.738      33   \n",
       "5551  5.655   1.747     29  2.324   0.674     34   4.844    1.873      32   \n",
       "5552  4.382   1.956     34  5.824   1.150     34   4.571    1.609      35   \n",
       "\n",
       "      GEND_M  GEND_SD  GEND_N  \n",
       "0      5.391    1.170      23  \n",
       "1      3.303    1.193      33  \n",
       "2      3.971    0.954      34  \n",
       "3      5.167    1.186      30  \n",
       "4      4.571    1.015      28  \n",
       "...      ...      ...     ...  \n",
       "5548   5.269    1.021      26  \n",
       "5549   4.172    0.647      29  \n",
       "5550   3.452    1.011      31  \n",
       "5551   4.059    0.802      34  \n",
       "5552   3.657    1.068      35  \n",
       "\n",
       "[5553 rows x 29 columns]"
      ]
     },
     "execution_count": 14,
     "metadata": {},
     "output_type": "execute_result"
    }
   ],
   "source": [
    "glasgow"
   ]
  },
  {
   "cell_type": "markdown",
   "metadata": {},
   "source": [
    "### Setting the columns \"words\" as dataframe index:"
   ]
  },
  {
   "cell_type": "code",
   "execution_count": 15,
   "metadata": {},
   "outputs": [],
   "source": [
    "glasgow.set_index('words', inplace=True)"
   ]
  },
  {
   "cell_type": "markdown",
   "metadata": {},
   "source": [
    "----\n",
    "### Segmenting the database into variables of interest"
   ]
  },
  {
   "cell_type": "code",
   "execution_count": 16,
   "metadata": {},
   "outputs": [],
   "source": [
    "import re"
   ]
  },
  {
   "cell_type": "code",
   "execution_count": 17,
   "metadata": {
    "ExecuteTime": {
     "end_time": "2022-04-28T22:26:18.492577Z",
     "start_time": "2022-04-28T22:26:18.488063Z"
    },
    "scrolled": true
   },
   "outputs": [],
   "source": [
    "## Listing only columns related to _M (mean) and _SD (standard deviation)\n",
    "interest = ['AROU_M', 'AROU_SD',\n",
    "                   'VAL_M', 'VAL_SD',\n",
    "                   'DOM_M', 'DOM_SD',\n",
    "                   'CNC_M', 'CNC_SD',\n",
    "                   'IMAG_M', 'IMAG_SD',\n",
    "                   'FAM_M', 'FAM_SD',\n",
    "                   'AOA_M', 'AOA_SD',\n",
    "                   'SIZE_M', 'SIZE_SD',\n",
    "                   'GEND_M', 'GEND_SD']"
   ]
  },
  {
   "cell_type": "markdown",
   "metadata": {},
   "source": [
    "### Selecting only columns related to _M (mean)"
   ]
  },
  {
   "cell_type": "code",
   "execution_count": 94,
   "metadata": {},
   "outputs": [
    {
     "name": "stdout",
     "output_type": "stream",
     "text": [
      "['AROU_M', 'VAL_M', 'DOM_M', 'CNC_M', 'IMAG_M', 'FAM_M', 'AOA_M', 'SIZE_M', 'GEND_M']\n"
     ]
    }
   ],
   "source": [
    "tmp_pattern_M = re.compile(r'.*_M$')\n",
    "tmp_M_parameters = list(filter(tmp_pattern_M.match, interest))\n",
    "\n",
    "print(tmp_M_parameters)"
   ]
  },
  {
   "cell_type": "code",
   "execution_count": 95,
   "metadata": {},
   "outputs": [
    {
     "data": {
      "text/html": [
       "<div>\n",
       "<style scoped>\n",
       "    .dataframe tbody tr th:only-of-type {\n",
       "        vertical-align: middle;\n",
       "    }\n",
       "\n",
       "    .dataframe tbody tr th {\n",
       "        vertical-align: top;\n",
       "    }\n",
       "\n",
       "    .dataframe thead th {\n",
       "        text-align: right;\n",
       "    }\n",
       "</style>\n",
       "<table border=\"1\" class=\"dataframe\">\n",
       "  <thead>\n",
       "    <tr style=\"text-align: right;\">\n",
       "      <th></th>\n",
       "      <th>AROU_M</th>\n",
       "      <th>VAL_M</th>\n",
       "      <th>DOM_M</th>\n",
       "      <th>CNC_M</th>\n",
       "      <th>IMAG_M</th>\n",
       "      <th>FAM_M</th>\n",
       "      <th>AOA_M</th>\n",
       "      <th>SIZE_M</th>\n",
       "      <th>GEND_M</th>\n",
       "    </tr>\n",
       "    <tr>\n",
       "      <th>words</th>\n",
       "      <th></th>\n",
       "      <th></th>\n",
       "      <th></th>\n",
       "      <th></th>\n",
       "      <th></th>\n",
       "      <th></th>\n",
       "      <th></th>\n",
       "      <th></th>\n",
       "      <th></th>\n",
       "    </tr>\n",
       "  </thead>\n",
       "  <tbody>\n",
       "    <tr>\n",
       "      <th>abattoir</th>\n",
       "      <td>4.200</td>\n",
       "      <td>2.864</td>\n",
       "      <td>4.333</td>\n",
       "      <td>5.455</td>\n",
       "      <td>4.391</td>\n",
       "      <td>2.382</td>\n",
       "      <td>6.760</td>\n",
       "      <td>4.652</td>\n",
       "      <td>5.391</td>\n",
       "    </tr>\n",
       "    <tr>\n",
       "      <th>abbey</th>\n",
       "      <td>3.125</td>\n",
       "      <td>5.781</td>\n",
       "      <td>4.667</td>\n",
       "      <td>5.906</td>\n",
       "      <td>5.344</td>\n",
       "      <td>3.324</td>\n",
       "      <td>5.177</td>\n",
       "      <td>5.121</td>\n",
       "      <td>3.303</td>\n",
       "    </tr>\n",
       "    <tr>\n",
       "      <th>abbreviate</th>\n",
       "      <td>3.273</td>\n",
       "      <td>5.250</td>\n",
       "      <td>5.235</td>\n",
       "      <td>3.286</td>\n",
       "      <td>3.177</td>\n",
       "      <td>5.121</td>\n",
       "      <td>5.543</td>\n",
       "      <td>2.667</td>\n",
       "      <td>3.971</td>\n",
       "    </tr>\n",
       "    <tr>\n",
       "      <th>abdicate</th>\n",
       "      <td>4.194</td>\n",
       "      <td>3.767</td>\n",
       "      <td>4.419</td>\n",
       "      <td>3.367</td>\n",
       "      <td>2.516</td>\n",
       "      <td>3.971</td>\n",
       "      <td>6.233</td>\n",
       "      <td>4.679</td>\n",
       "      <td>5.167</td>\n",
       "    </tr>\n",
       "    <tr>\n",
       "      <th>abdication</th>\n",
       "      <td>3.846</td>\n",
       "      <td>3.880</td>\n",
       "      <td>4.800</td>\n",
       "      <td>3.292</td>\n",
       "      <td>2.571</td>\n",
       "      <td>3.097</td>\n",
       "      <td>6.407</td>\n",
       "      <td>5.083</td>\n",
       "      <td>4.571</td>\n",
       "    </tr>\n",
       "    <tr>\n",
       "      <th>...</th>\n",
       "      <td>...</td>\n",
       "      <td>...</td>\n",
       "      <td>...</td>\n",
       "      <td>...</td>\n",
       "      <td>...</td>\n",
       "      <td>...</td>\n",
       "      <td>...</td>\n",
       "      <td>...</td>\n",
       "      <td>...</td>\n",
       "    </tr>\n",
       "    <tr>\n",
       "      <th>zeppelin</th>\n",
       "      <td>6.185</td>\n",
       "      <td>5.000</td>\n",
       "      <td>5.333</td>\n",
       "      <td>6.286</td>\n",
       "      <td>6.185</td>\n",
       "      <td>3.167</td>\n",
       "      <td>6.036</td>\n",
       "      <td>5.464</td>\n",
       "      <td>5.269</td>\n",
       "    </tr>\n",
       "    <tr>\n",
       "      <th>zero</th>\n",
       "      <td>4.031</td>\n",
       "      <td>4.182</td>\n",
       "      <td>4.567</td>\n",
       "      <td>2.688</td>\n",
       "      <td>3.903</td>\n",
       "      <td>6.269</td>\n",
       "      <td>2.636</td>\n",
       "      <td>1.758</td>\n",
       "      <td>4.172</td>\n",
       "    </tr>\n",
       "    <tr>\n",
       "      <th>zest</th>\n",
       "      <td>5.969</td>\n",
       "      <td>6.818</td>\n",
       "      <td>6.121</td>\n",
       "      <td>4.438</td>\n",
       "      <td>4.033</td>\n",
       "      <td>4.000</td>\n",
       "      <td>5.364</td>\n",
       "      <td>2.636</td>\n",
       "      <td>3.452</td>\n",
       "    </tr>\n",
       "    <tr>\n",
       "      <th>zoo</th>\n",
       "      <td>5.909</td>\n",
       "      <td>6.235</td>\n",
       "      <td>5.485</td>\n",
       "      <td>6.118</td>\n",
       "      <td>6.441</td>\n",
       "      <td>5.655</td>\n",
       "      <td>2.324</td>\n",
       "      <td>4.844</td>\n",
       "      <td>4.059</td>\n",
       "    </tr>\n",
       "    <tr>\n",
       "      <th>zoology</th>\n",
       "      <td>4.571</td>\n",
       "      <td>5.765</td>\n",
       "      <td>5.114</td>\n",
       "      <td>4.429</td>\n",
       "      <td>3.914</td>\n",
       "      <td>4.382</td>\n",
       "      <td>5.824</td>\n",
       "      <td>4.571</td>\n",
       "      <td>3.657</td>\n",
       "    </tr>\n",
       "  </tbody>\n",
       "</table>\n",
       "<p>5553 rows × 9 columns</p>\n",
       "</div>"
      ],
      "text/plain": [
       "            AROU_M  VAL_M  DOM_M  CNC_M  IMAG_M  FAM_M  AOA_M  SIZE_M  GEND_M\n",
       "words                                                                        \n",
       "abattoir     4.200  2.864  4.333  5.455   4.391  2.382  6.760   4.652   5.391\n",
       "abbey        3.125  5.781  4.667  5.906   5.344  3.324  5.177   5.121   3.303\n",
       "abbreviate   3.273  5.250  5.235  3.286   3.177  5.121  5.543   2.667   3.971\n",
       "abdicate     4.194  3.767  4.419  3.367   2.516  3.971  6.233   4.679   5.167\n",
       "abdication   3.846  3.880  4.800  3.292   2.571  3.097  6.407   5.083   4.571\n",
       "...            ...    ...    ...    ...     ...    ...    ...     ...     ...\n",
       "zeppelin     6.185  5.000  5.333  6.286   6.185  3.167  6.036   5.464   5.269\n",
       "zero         4.031  4.182  4.567  2.688   3.903  6.269  2.636   1.758   4.172\n",
       "zest         5.969  6.818  6.121  4.438   4.033  4.000  5.364   2.636   3.452\n",
       "zoo          5.909  6.235  5.485  6.118   6.441  5.655  2.324   4.844   4.059\n",
       "zoology      4.571  5.765  5.114  4.429   3.914  4.382  5.824   4.571   3.657\n",
       "\n",
       "[5553 rows x 9 columns]"
      ]
     },
     "execution_count": 95,
     "metadata": {},
     "output_type": "execute_result"
    }
   ],
   "source": [
    "df_M = glasgow[tmp_M_parameters]\n",
    "df_M"
   ]
  },
  {
   "cell_type": "code",
   "execution_count": null,
   "metadata": {},
   "outputs": [],
   "source": []
  },
  {
   "cell_type": "markdown",
   "metadata": {},
   "source": [
    "----\n",
    "### Selecting only columns related to _SD (standard deviation)"
   ]
  },
  {
   "cell_type": "code",
   "execution_count": 96,
   "metadata": {},
   "outputs": [
    {
     "name": "stdout",
     "output_type": "stream",
     "text": [
      "['AROU_SD', 'VAL_SD', 'DOM_SD', 'CNC_SD', 'IMAG_SD', 'FAM_SD', 'AOA_SD', 'SIZE_SD', 'GEND_SD']\n"
     ]
    }
   ],
   "source": [
    "tmp_pattern_SD = re.compile(r'.*_SD$')\n",
    "tmp_SD_parameters = list(filter(tmp_pattern_SD.match, interest))\n",
    "\n",
    "print(tmp_SD_parameters)"
   ]
  },
  {
   "cell_type": "code",
   "execution_count": 104,
   "metadata": {},
   "outputs": [
    {
     "data": {
      "text/html": [
       "<div>\n",
       "<style scoped>\n",
       "    .dataframe tbody tr th:only-of-type {\n",
       "        vertical-align: middle;\n",
       "    }\n",
       "\n",
       "    .dataframe tbody tr th {\n",
       "        vertical-align: top;\n",
       "    }\n",
       "\n",
       "    .dataframe thead th {\n",
       "        text-align: right;\n",
       "    }\n",
       "</style>\n",
       "<table border=\"1\" class=\"dataframe\">\n",
       "  <thead>\n",
       "    <tr style=\"text-align: right;\">\n",
       "      <th></th>\n",
       "      <th>AROU_SD</th>\n",
       "      <th>VAL_SD</th>\n",
       "      <th>DOM_SD</th>\n",
       "      <th>CNC_SD</th>\n",
       "      <th>IMAG_SD</th>\n",
       "      <th>FAM_SD</th>\n",
       "      <th>AOA_SD</th>\n",
       "      <th>SIZE_SD</th>\n",
       "      <th>GEND_SD</th>\n",
       "    </tr>\n",
       "    <tr>\n",
       "      <th>words</th>\n",
       "      <th></th>\n",
       "      <th></th>\n",
       "      <th></th>\n",
       "      <th></th>\n",
       "      <th></th>\n",
       "      <th></th>\n",
       "      <th></th>\n",
       "      <th></th>\n",
       "      <th></th>\n",
       "    </tr>\n",
       "  </thead>\n",
       "  <tbody>\n",
       "    <tr>\n",
       "      <th>abattoir</th>\n",
       "      <td>2.400</td>\n",
       "      <td>1.740</td>\n",
       "      <td>1.285</td>\n",
       "      <td>1.900</td>\n",
       "      <td>2.121</td>\n",
       "      <td>1.799</td>\n",
       "      <td>0.427</td>\n",
       "      <td>1.549</td>\n",
       "      <td>1.170</td>\n",
       "    </tr>\n",
       "    <tr>\n",
       "      <th>abbey</th>\n",
       "      <td>2.342</td>\n",
       "      <td>1.268</td>\n",
       "      <td>1.551</td>\n",
       "      <td>1.508</td>\n",
       "      <td>1.881</td>\n",
       "      <td>1.810</td>\n",
       "      <td>1.339</td>\n",
       "      <td>1.629</td>\n",
       "      <td>1.193</td>\n",
       "    </tr>\n",
       "    <tr>\n",
       "      <th>abbreviate</th>\n",
       "      <td>1.582</td>\n",
       "      <td>1.031</td>\n",
       "      <td>1.238</td>\n",
       "      <td>1.733</td>\n",
       "      <td>1.689</td>\n",
       "      <td>1.838</td>\n",
       "      <td>1.130</td>\n",
       "      <td>1.700</td>\n",
       "      <td>0.954</td>\n",
       "    </tr>\n",
       "    <tr>\n",
       "      <th>abdicate</th>\n",
       "      <td>1.941</td>\n",
       "      <td>1.383</td>\n",
       "      <td>2.182</td>\n",
       "      <td>1.853</td>\n",
       "      <td>1.521</td>\n",
       "      <td>2.077</td>\n",
       "      <td>0.844</td>\n",
       "      <td>1.441</td>\n",
       "      <td>1.186</td>\n",
       "    </tr>\n",
       "    <tr>\n",
       "      <th>abdication</th>\n",
       "      <td>2.282</td>\n",
       "      <td>1.608</td>\n",
       "      <td>1.960</td>\n",
       "      <td>1.620</td>\n",
       "      <td>1.294</td>\n",
       "      <td>2.022</td>\n",
       "      <td>0.913</td>\n",
       "      <td>1.351</td>\n",
       "      <td>1.015</td>\n",
       "    </tr>\n",
       "    <tr>\n",
       "      <th>...</th>\n",
       "      <td>...</td>\n",
       "      <td>...</td>\n",
       "      <td>...</td>\n",
       "      <td>...</td>\n",
       "      <td>...</td>\n",
       "      <td>...</td>\n",
       "      <td>...</td>\n",
       "      <td>...</td>\n",
       "      <td>...</td>\n",
       "    </tr>\n",
       "    <tr>\n",
       "      <th>zeppelin</th>\n",
       "      <td>2.037</td>\n",
       "      <td>1.414</td>\n",
       "      <td>1.743</td>\n",
       "      <td>0.920</td>\n",
       "      <td>1.123</td>\n",
       "      <td>2.115</td>\n",
       "      <td>0.944</td>\n",
       "      <td>1.721</td>\n",
       "      <td>1.021</td>\n",
       "    </tr>\n",
       "    <tr>\n",
       "      <th>zero</th>\n",
       "      <td>2.023</td>\n",
       "      <td>1.585</td>\n",
       "      <td>2.124</td>\n",
       "      <td>1.895</td>\n",
       "      <td>2.347</td>\n",
       "      <td>1.195</td>\n",
       "      <td>1.123</td>\n",
       "      <td>1.393</td>\n",
       "      <td>0.647</td>\n",
       "    </tr>\n",
       "    <tr>\n",
       "      <th>zest</th>\n",
       "      <td>2.158</td>\n",
       "      <td>1.313</td>\n",
       "      <td>1.320</td>\n",
       "      <td>1.694</td>\n",
       "      <td>1.622</td>\n",
       "      <td>1.626</td>\n",
       "      <td>1.123</td>\n",
       "      <td>1.738</td>\n",
       "      <td>1.011</td>\n",
       "    </tr>\n",
       "    <tr>\n",
       "      <th>zoo</th>\n",
       "      <td>2.137</td>\n",
       "      <td>1.800</td>\n",
       "      <td>1.598</td>\n",
       "      <td>1.105</td>\n",
       "      <td>1.006</td>\n",
       "      <td>1.747</td>\n",
       "      <td>0.674</td>\n",
       "      <td>1.873</td>\n",
       "      <td>0.802</td>\n",
       "    </tr>\n",
       "    <tr>\n",
       "      <th>zoology</th>\n",
       "      <td>2.060</td>\n",
       "      <td>0.972</td>\n",
       "      <td>1.545</td>\n",
       "      <td>1.841</td>\n",
       "      <td>1.481</td>\n",
       "      <td>1.956</td>\n",
       "      <td>1.150</td>\n",
       "      <td>1.609</td>\n",
       "      <td>1.068</td>\n",
       "    </tr>\n",
       "  </tbody>\n",
       "</table>\n",
       "<p>5553 rows × 9 columns</p>\n",
       "</div>"
      ],
      "text/plain": [
       "            AROU_SD  VAL_SD  DOM_SD  CNC_SD  IMAG_SD  FAM_SD  AOA_SD  SIZE_SD  \\\n",
       "words                                                                           \n",
       "abattoir      2.400   1.740   1.285   1.900    2.121   1.799   0.427    1.549   \n",
       "abbey         2.342   1.268   1.551   1.508    1.881   1.810   1.339    1.629   \n",
       "abbreviate    1.582   1.031   1.238   1.733    1.689   1.838   1.130    1.700   \n",
       "abdicate      1.941   1.383   2.182   1.853    1.521   2.077   0.844    1.441   \n",
       "abdication    2.282   1.608   1.960   1.620    1.294   2.022   0.913    1.351   \n",
       "...             ...     ...     ...     ...      ...     ...     ...      ...   \n",
       "zeppelin      2.037   1.414   1.743   0.920    1.123   2.115   0.944    1.721   \n",
       "zero          2.023   1.585   2.124   1.895    2.347   1.195   1.123    1.393   \n",
       "zest          2.158   1.313   1.320   1.694    1.622   1.626   1.123    1.738   \n",
       "zoo           2.137   1.800   1.598   1.105    1.006   1.747   0.674    1.873   \n",
       "zoology       2.060   0.972   1.545   1.841    1.481   1.956   1.150    1.609   \n",
       "\n",
       "            GEND_SD  \n",
       "words                \n",
       "abattoir      1.170  \n",
       "abbey         1.193  \n",
       "abbreviate    0.954  \n",
       "abdicate      1.186  \n",
       "abdication    1.015  \n",
       "...             ...  \n",
       "zeppelin      1.021  \n",
       "zero          0.647  \n",
       "zest          1.011  \n",
       "zoo           0.802  \n",
       "zoology       1.068  \n",
       "\n",
       "[5553 rows x 9 columns]"
      ]
     },
     "execution_count": 104,
     "metadata": {},
     "output_type": "execute_result"
    }
   ],
   "source": [
    "## Selecting a dataframe with SD values:\n",
    "df_SD = glasgow[tmp_SD_parameters]\n",
    "df_SD"
   ]
  },
  {
   "cell_type": "markdown",
   "metadata": {},
   "source": [
    "----\n",
    "### Creating a dataframe with calculated variance (VAR)"
   ]
  },
  {
   "cell_type": "code",
   "execution_count": 105,
   "metadata": {},
   "outputs": [],
   "source": [
    "## Creating a dataframe with variance values (variance = SD^2)\n",
    "df_VAR = df_SD**2"
   ]
  },
  {
   "cell_type": "code",
   "execution_count": 106,
   "metadata": {},
   "outputs": [
    {
     "data": {
      "text/html": [
       "<div>\n",
       "<style scoped>\n",
       "    .dataframe tbody tr th:only-of-type {\n",
       "        vertical-align: middle;\n",
       "    }\n",
       "\n",
       "    .dataframe tbody tr th {\n",
       "        vertical-align: top;\n",
       "    }\n",
       "\n",
       "    .dataframe thead th {\n",
       "        text-align: right;\n",
       "    }\n",
       "</style>\n",
       "<table border=\"1\" class=\"dataframe\">\n",
       "  <thead>\n",
       "    <tr style=\"text-align: right;\">\n",
       "      <th></th>\n",
       "      <th>AROU_VAR</th>\n",
       "      <th>VAL_VAR</th>\n",
       "      <th>DOM_VAR</th>\n",
       "      <th>CNC_VAR</th>\n",
       "      <th>IMAG_VAR</th>\n",
       "      <th>FAM_VAR</th>\n",
       "      <th>AOA_VAR</th>\n",
       "      <th>SIZE_VAR</th>\n",
       "      <th>GEND_VAR</th>\n",
       "    </tr>\n",
       "    <tr>\n",
       "      <th>words</th>\n",
       "      <th></th>\n",
       "      <th></th>\n",
       "      <th></th>\n",
       "      <th></th>\n",
       "      <th></th>\n",
       "      <th></th>\n",
       "      <th></th>\n",
       "      <th></th>\n",
       "      <th></th>\n",
       "    </tr>\n",
       "  </thead>\n",
       "  <tbody>\n",
       "    <tr>\n",
       "      <th>abattoir</th>\n",
       "      <td>5.760000</td>\n",
       "      <td>3.027600</td>\n",
       "      <td>1.651225</td>\n",
       "      <td>3.610000</td>\n",
       "      <td>4.498641</td>\n",
       "      <td>3.236401</td>\n",
       "      <td>0.182329</td>\n",
       "      <td>2.399401</td>\n",
       "      <td>1.368900</td>\n",
       "    </tr>\n",
       "    <tr>\n",
       "      <th>abbey</th>\n",
       "      <td>5.484964</td>\n",
       "      <td>1.607824</td>\n",
       "      <td>2.405601</td>\n",
       "      <td>2.274064</td>\n",
       "      <td>3.538161</td>\n",
       "      <td>3.276100</td>\n",
       "      <td>1.792921</td>\n",
       "      <td>2.653641</td>\n",
       "      <td>1.423249</td>\n",
       "    </tr>\n",
       "    <tr>\n",
       "      <th>abbreviate</th>\n",
       "      <td>2.502724</td>\n",
       "      <td>1.062961</td>\n",
       "      <td>1.532644</td>\n",
       "      <td>3.003289</td>\n",
       "      <td>2.852721</td>\n",
       "      <td>3.378244</td>\n",
       "      <td>1.276900</td>\n",
       "      <td>2.890000</td>\n",
       "      <td>0.910116</td>\n",
       "    </tr>\n",
       "    <tr>\n",
       "      <th>abdicate</th>\n",
       "      <td>3.767481</td>\n",
       "      <td>1.912689</td>\n",
       "      <td>4.761124</td>\n",
       "      <td>3.433609</td>\n",
       "      <td>2.313441</td>\n",
       "      <td>4.313929</td>\n",
       "      <td>0.712336</td>\n",
       "      <td>2.076481</td>\n",
       "      <td>1.406596</td>\n",
       "    </tr>\n",
       "    <tr>\n",
       "      <th>abdication</th>\n",
       "      <td>5.207524</td>\n",
       "      <td>2.585664</td>\n",
       "      <td>3.841600</td>\n",
       "      <td>2.624400</td>\n",
       "      <td>1.674436</td>\n",
       "      <td>4.088484</td>\n",
       "      <td>0.833569</td>\n",
       "      <td>1.825201</td>\n",
       "      <td>1.030225</td>\n",
       "    </tr>\n",
       "    <tr>\n",
       "      <th>...</th>\n",
       "      <td>...</td>\n",
       "      <td>...</td>\n",
       "      <td>...</td>\n",
       "      <td>...</td>\n",
       "      <td>...</td>\n",
       "      <td>...</td>\n",
       "      <td>...</td>\n",
       "      <td>...</td>\n",
       "      <td>...</td>\n",
       "    </tr>\n",
       "    <tr>\n",
       "      <th>zeppelin</th>\n",
       "      <td>4.149369</td>\n",
       "      <td>1.999396</td>\n",
       "      <td>3.038049</td>\n",
       "      <td>0.846400</td>\n",
       "      <td>1.261129</td>\n",
       "      <td>4.473225</td>\n",
       "      <td>0.891136</td>\n",
       "      <td>2.961841</td>\n",
       "      <td>1.042441</td>\n",
       "    </tr>\n",
       "    <tr>\n",
       "      <th>zero</th>\n",
       "      <td>4.092529</td>\n",
       "      <td>2.512225</td>\n",
       "      <td>4.511376</td>\n",
       "      <td>3.591025</td>\n",
       "      <td>5.508409</td>\n",
       "      <td>1.428025</td>\n",
       "      <td>1.261129</td>\n",
       "      <td>1.940449</td>\n",
       "      <td>0.418609</td>\n",
       "    </tr>\n",
       "    <tr>\n",
       "      <th>zest</th>\n",
       "      <td>4.656964</td>\n",
       "      <td>1.723969</td>\n",
       "      <td>1.742400</td>\n",
       "      <td>2.869636</td>\n",
       "      <td>2.630884</td>\n",
       "      <td>2.643876</td>\n",
       "      <td>1.261129</td>\n",
       "      <td>3.020644</td>\n",
       "      <td>1.022121</td>\n",
       "    </tr>\n",
       "    <tr>\n",
       "      <th>zoo</th>\n",
       "      <td>4.566769</td>\n",
       "      <td>3.240000</td>\n",
       "      <td>2.553604</td>\n",
       "      <td>1.221025</td>\n",
       "      <td>1.012036</td>\n",
       "      <td>3.052009</td>\n",
       "      <td>0.454276</td>\n",
       "      <td>3.508129</td>\n",
       "      <td>0.643204</td>\n",
       "    </tr>\n",
       "    <tr>\n",
       "      <th>zoology</th>\n",
       "      <td>4.243600</td>\n",
       "      <td>0.944784</td>\n",
       "      <td>2.387025</td>\n",
       "      <td>3.389281</td>\n",
       "      <td>2.193361</td>\n",
       "      <td>3.825936</td>\n",
       "      <td>1.322500</td>\n",
       "      <td>2.588881</td>\n",
       "      <td>1.140624</td>\n",
       "    </tr>\n",
       "  </tbody>\n",
       "</table>\n",
       "<p>5553 rows × 9 columns</p>\n",
       "</div>"
      ],
      "text/plain": [
       "            AROU_VAR   VAL_VAR   DOM_VAR   CNC_VAR  IMAG_VAR   FAM_VAR  \\\n",
       "words                                                                    \n",
       "abattoir    5.760000  3.027600  1.651225  3.610000  4.498641  3.236401   \n",
       "abbey       5.484964  1.607824  2.405601  2.274064  3.538161  3.276100   \n",
       "abbreviate  2.502724  1.062961  1.532644  3.003289  2.852721  3.378244   \n",
       "abdicate    3.767481  1.912689  4.761124  3.433609  2.313441  4.313929   \n",
       "abdication  5.207524  2.585664  3.841600  2.624400  1.674436  4.088484   \n",
       "...              ...       ...       ...       ...       ...       ...   \n",
       "zeppelin    4.149369  1.999396  3.038049  0.846400  1.261129  4.473225   \n",
       "zero        4.092529  2.512225  4.511376  3.591025  5.508409  1.428025   \n",
       "zest        4.656964  1.723969  1.742400  2.869636  2.630884  2.643876   \n",
       "zoo         4.566769  3.240000  2.553604  1.221025  1.012036  3.052009   \n",
       "zoology     4.243600  0.944784  2.387025  3.389281  2.193361  3.825936   \n",
       "\n",
       "             AOA_VAR  SIZE_VAR  GEND_VAR  \n",
       "words                                     \n",
       "abattoir    0.182329  2.399401  1.368900  \n",
       "abbey       1.792921  2.653641  1.423249  \n",
       "abbreviate  1.276900  2.890000  0.910116  \n",
       "abdicate    0.712336  2.076481  1.406596  \n",
       "abdication  0.833569  1.825201  1.030225  \n",
       "...              ...       ...       ...  \n",
       "zeppelin    0.891136  2.961841  1.042441  \n",
       "zero        1.261129  1.940449  0.418609  \n",
       "zest        1.261129  3.020644  1.022121  \n",
       "zoo         0.454276  3.508129  0.643204  \n",
       "zoology     1.322500  2.588881  1.140624  \n",
       "\n",
       "[5553 rows x 9 columns]"
      ]
     },
     "execution_count": 106,
     "metadata": {},
     "output_type": "execute_result"
    }
   ],
   "source": [
    "## Using regular expression to replace the suffix in column names:\n",
    "tmp_VAR_columns = [re.sub(r'_SD$', '_VAR', item) for item in list(df_VAR.columns)]\n",
    "df_VAR.columns = tmp_VAR_columns\n",
    "df_VAR"
   ]
  },
  {
   "cell_type": "code",
   "execution_count": null,
   "metadata": {},
   "outputs": [],
   "source": []
  },
  {
   "cell_type": "markdown",
   "metadata": {},
   "source": [
    "----\n",
    "### Preparing a dataframe with means and variance of the nine psycholinguistic variables"
   ]
  },
  {
   "cell_type": "code",
   "execution_count": 107,
   "metadata": {},
   "outputs": [
    {
     "data": {
      "text/html": [
       "<div>\n",
       "<style scoped>\n",
       "    .dataframe tbody tr th:only-of-type {\n",
       "        vertical-align: middle;\n",
       "    }\n",
       "\n",
       "    .dataframe tbody tr th {\n",
       "        vertical-align: top;\n",
       "    }\n",
       "\n",
       "    .dataframe thead th {\n",
       "        text-align: right;\n",
       "    }\n",
       "</style>\n",
       "<table border=\"1\" class=\"dataframe\">\n",
       "  <thead>\n",
       "    <tr style=\"text-align: right;\">\n",
       "      <th></th>\n",
       "      <th>AROU_M</th>\n",
       "      <th>VAL_M</th>\n",
       "      <th>DOM_M</th>\n",
       "      <th>CNC_M</th>\n",
       "      <th>IMAG_M</th>\n",
       "      <th>FAM_M</th>\n",
       "      <th>AOA_M</th>\n",
       "      <th>SIZE_M</th>\n",
       "      <th>GEND_M</th>\n",
       "      <th>AROU_VAR</th>\n",
       "      <th>VAL_VAR</th>\n",
       "      <th>DOM_VAR</th>\n",
       "      <th>CNC_VAR</th>\n",
       "      <th>IMAG_VAR</th>\n",
       "      <th>FAM_VAR</th>\n",
       "      <th>AOA_VAR</th>\n",
       "      <th>SIZE_VAR</th>\n",
       "      <th>GEND_VAR</th>\n",
       "    </tr>\n",
       "    <tr>\n",
       "      <th>words</th>\n",
       "      <th></th>\n",
       "      <th></th>\n",
       "      <th></th>\n",
       "      <th></th>\n",
       "      <th></th>\n",
       "      <th></th>\n",
       "      <th></th>\n",
       "      <th></th>\n",
       "      <th></th>\n",
       "      <th></th>\n",
       "      <th></th>\n",
       "      <th></th>\n",
       "      <th></th>\n",
       "      <th></th>\n",
       "      <th></th>\n",
       "      <th></th>\n",
       "      <th></th>\n",
       "      <th></th>\n",
       "    </tr>\n",
       "  </thead>\n",
       "  <tbody>\n",
       "    <tr>\n",
       "      <th>abattoir</th>\n",
       "      <td>4.200</td>\n",
       "      <td>2.864</td>\n",
       "      <td>4.333</td>\n",
       "      <td>5.455</td>\n",
       "      <td>4.391</td>\n",
       "      <td>2.382</td>\n",
       "      <td>6.760</td>\n",
       "      <td>4.652</td>\n",
       "      <td>5.391</td>\n",
       "      <td>5.760000</td>\n",
       "      <td>3.027600</td>\n",
       "      <td>1.651225</td>\n",
       "      <td>3.610000</td>\n",
       "      <td>4.498641</td>\n",
       "      <td>3.236401</td>\n",
       "      <td>0.182329</td>\n",
       "      <td>2.399401</td>\n",
       "      <td>1.368900</td>\n",
       "    </tr>\n",
       "    <tr>\n",
       "      <th>abbey</th>\n",
       "      <td>3.125</td>\n",
       "      <td>5.781</td>\n",
       "      <td>4.667</td>\n",
       "      <td>5.906</td>\n",
       "      <td>5.344</td>\n",
       "      <td>3.324</td>\n",
       "      <td>5.177</td>\n",
       "      <td>5.121</td>\n",
       "      <td>3.303</td>\n",
       "      <td>5.484964</td>\n",
       "      <td>1.607824</td>\n",
       "      <td>2.405601</td>\n",
       "      <td>2.274064</td>\n",
       "      <td>3.538161</td>\n",
       "      <td>3.276100</td>\n",
       "      <td>1.792921</td>\n",
       "      <td>2.653641</td>\n",
       "      <td>1.423249</td>\n",
       "    </tr>\n",
       "    <tr>\n",
       "      <th>abbreviate</th>\n",
       "      <td>3.273</td>\n",
       "      <td>5.250</td>\n",
       "      <td>5.235</td>\n",
       "      <td>3.286</td>\n",
       "      <td>3.177</td>\n",
       "      <td>5.121</td>\n",
       "      <td>5.543</td>\n",
       "      <td>2.667</td>\n",
       "      <td>3.971</td>\n",
       "      <td>2.502724</td>\n",
       "      <td>1.062961</td>\n",
       "      <td>1.532644</td>\n",
       "      <td>3.003289</td>\n",
       "      <td>2.852721</td>\n",
       "      <td>3.378244</td>\n",
       "      <td>1.276900</td>\n",
       "      <td>2.890000</td>\n",
       "      <td>0.910116</td>\n",
       "    </tr>\n",
       "    <tr>\n",
       "      <th>abdicate</th>\n",
       "      <td>4.194</td>\n",
       "      <td>3.767</td>\n",
       "      <td>4.419</td>\n",
       "      <td>3.367</td>\n",
       "      <td>2.516</td>\n",
       "      <td>3.971</td>\n",
       "      <td>6.233</td>\n",
       "      <td>4.679</td>\n",
       "      <td>5.167</td>\n",
       "      <td>3.767481</td>\n",
       "      <td>1.912689</td>\n",
       "      <td>4.761124</td>\n",
       "      <td>3.433609</td>\n",
       "      <td>2.313441</td>\n",
       "      <td>4.313929</td>\n",
       "      <td>0.712336</td>\n",
       "      <td>2.076481</td>\n",
       "      <td>1.406596</td>\n",
       "    </tr>\n",
       "    <tr>\n",
       "      <th>abdication</th>\n",
       "      <td>3.846</td>\n",
       "      <td>3.880</td>\n",
       "      <td>4.800</td>\n",
       "      <td>3.292</td>\n",
       "      <td>2.571</td>\n",
       "      <td>3.097</td>\n",
       "      <td>6.407</td>\n",
       "      <td>5.083</td>\n",
       "      <td>4.571</td>\n",
       "      <td>5.207524</td>\n",
       "      <td>2.585664</td>\n",
       "      <td>3.841600</td>\n",
       "      <td>2.624400</td>\n",
       "      <td>1.674436</td>\n",
       "      <td>4.088484</td>\n",
       "      <td>0.833569</td>\n",
       "      <td>1.825201</td>\n",
       "      <td>1.030225</td>\n",
       "    </tr>\n",
       "    <tr>\n",
       "      <th>...</th>\n",
       "      <td>...</td>\n",
       "      <td>...</td>\n",
       "      <td>...</td>\n",
       "      <td>...</td>\n",
       "      <td>...</td>\n",
       "      <td>...</td>\n",
       "      <td>...</td>\n",
       "      <td>...</td>\n",
       "      <td>...</td>\n",
       "      <td>...</td>\n",
       "      <td>...</td>\n",
       "      <td>...</td>\n",
       "      <td>...</td>\n",
       "      <td>...</td>\n",
       "      <td>...</td>\n",
       "      <td>...</td>\n",
       "      <td>...</td>\n",
       "      <td>...</td>\n",
       "    </tr>\n",
       "    <tr>\n",
       "      <th>zeppelin</th>\n",
       "      <td>6.185</td>\n",
       "      <td>5.000</td>\n",
       "      <td>5.333</td>\n",
       "      <td>6.286</td>\n",
       "      <td>6.185</td>\n",
       "      <td>3.167</td>\n",
       "      <td>6.036</td>\n",
       "      <td>5.464</td>\n",
       "      <td>5.269</td>\n",
       "      <td>4.149369</td>\n",
       "      <td>1.999396</td>\n",
       "      <td>3.038049</td>\n",
       "      <td>0.846400</td>\n",
       "      <td>1.261129</td>\n",
       "      <td>4.473225</td>\n",
       "      <td>0.891136</td>\n",
       "      <td>2.961841</td>\n",
       "      <td>1.042441</td>\n",
       "    </tr>\n",
       "    <tr>\n",
       "      <th>zero</th>\n",
       "      <td>4.031</td>\n",
       "      <td>4.182</td>\n",
       "      <td>4.567</td>\n",
       "      <td>2.688</td>\n",
       "      <td>3.903</td>\n",
       "      <td>6.269</td>\n",
       "      <td>2.636</td>\n",
       "      <td>1.758</td>\n",
       "      <td>4.172</td>\n",
       "      <td>4.092529</td>\n",
       "      <td>2.512225</td>\n",
       "      <td>4.511376</td>\n",
       "      <td>3.591025</td>\n",
       "      <td>5.508409</td>\n",
       "      <td>1.428025</td>\n",
       "      <td>1.261129</td>\n",
       "      <td>1.940449</td>\n",
       "      <td>0.418609</td>\n",
       "    </tr>\n",
       "    <tr>\n",
       "      <th>zest</th>\n",
       "      <td>5.969</td>\n",
       "      <td>6.818</td>\n",
       "      <td>6.121</td>\n",
       "      <td>4.438</td>\n",
       "      <td>4.033</td>\n",
       "      <td>4.000</td>\n",
       "      <td>5.364</td>\n",
       "      <td>2.636</td>\n",
       "      <td>3.452</td>\n",
       "      <td>4.656964</td>\n",
       "      <td>1.723969</td>\n",
       "      <td>1.742400</td>\n",
       "      <td>2.869636</td>\n",
       "      <td>2.630884</td>\n",
       "      <td>2.643876</td>\n",
       "      <td>1.261129</td>\n",
       "      <td>3.020644</td>\n",
       "      <td>1.022121</td>\n",
       "    </tr>\n",
       "    <tr>\n",
       "      <th>zoo</th>\n",
       "      <td>5.909</td>\n",
       "      <td>6.235</td>\n",
       "      <td>5.485</td>\n",
       "      <td>6.118</td>\n",
       "      <td>6.441</td>\n",
       "      <td>5.655</td>\n",
       "      <td>2.324</td>\n",
       "      <td>4.844</td>\n",
       "      <td>4.059</td>\n",
       "      <td>4.566769</td>\n",
       "      <td>3.240000</td>\n",
       "      <td>2.553604</td>\n",
       "      <td>1.221025</td>\n",
       "      <td>1.012036</td>\n",
       "      <td>3.052009</td>\n",
       "      <td>0.454276</td>\n",
       "      <td>3.508129</td>\n",
       "      <td>0.643204</td>\n",
       "    </tr>\n",
       "    <tr>\n",
       "      <th>zoology</th>\n",
       "      <td>4.571</td>\n",
       "      <td>5.765</td>\n",
       "      <td>5.114</td>\n",
       "      <td>4.429</td>\n",
       "      <td>3.914</td>\n",
       "      <td>4.382</td>\n",
       "      <td>5.824</td>\n",
       "      <td>4.571</td>\n",
       "      <td>3.657</td>\n",
       "      <td>4.243600</td>\n",
       "      <td>0.944784</td>\n",
       "      <td>2.387025</td>\n",
       "      <td>3.389281</td>\n",
       "      <td>2.193361</td>\n",
       "      <td>3.825936</td>\n",
       "      <td>1.322500</td>\n",
       "      <td>2.588881</td>\n",
       "      <td>1.140624</td>\n",
       "    </tr>\n",
       "  </tbody>\n",
       "</table>\n",
       "<p>5553 rows × 18 columns</p>\n",
       "</div>"
      ],
      "text/plain": [
       "            AROU_M  VAL_M  DOM_M  CNC_M  IMAG_M  FAM_M  AOA_M  SIZE_M  GEND_M  \\\n",
       "words                                                                           \n",
       "abattoir     4.200  2.864  4.333  5.455   4.391  2.382  6.760   4.652   5.391   \n",
       "abbey        3.125  5.781  4.667  5.906   5.344  3.324  5.177   5.121   3.303   \n",
       "abbreviate   3.273  5.250  5.235  3.286   3.177  5.121  5.543   2.667   3.971   \n",
       "abdicate     4.194  3.767  4.419  3.367   2.516  3.971  6.233   4.679   5.167   \n",
       "abdication   3.846  3.880  4.800  3.292   2.571  3.097  6.407   5.083   4.571   \n",
       "...            ...    ...    ...    ...     ...    ...    ...     ...     ...   \n",
       "zeppelin     6.185  5.000  5.333  6.286   6.185  3.167  6.036   5.464   5.269   \n",
       "zero         4.031  4.182  4.567  2.688   3.903  6.269  2.636   1.758   4.172   \n",
       "zest         5.969  6.818  6.121  4.438   4.033  4.000  5.364   2.636   3.452   \n",
       "zoo          5.909  6.235  5.485  6.118   6.441  5.655  2.324   4.844   4.059   \n",
       "zoology      4.571  5.765  5.114  4.429   3.914  4.382  5.824   4.571   3.657   \n",
       "\n",
       "            AROU_VAR   VAL_VAR   DOM_VAR   CNC_VAR  IMAG_VAR   FAM_VAR  \\\n",
       "words                                                                    \n",
       "abattoir    5.760000  3.027600  1.651225  3.610000  4.498641  3.236401   \n",
       "abbey       5.484964  1.607824  2.405601  2.274064  3.538161  3.276100   \n",
       "abbreviate  2.502724  1.062961  1.532644  3.003289  2.852721  3.378244   \n",
       "abdicate    3.767481  1.912689  4.761124  3.433609  2.313441  4.313929   \n",
       "abdication  5.207524  2.585664  3.841600  2.624400  1.674436  4.088484   \n",
       "...              ...       ...       ...       ...       ...       ...   \n",
       "zeppelin    4.149369  1.999396  3.038049  0.846400  1.261129  4.473225   \n",
       "zero        4.092529  2.512225  4.511376  3.591025  5.508409  1.428025   \n",
       "zest        4.656964  1.723969  1.742400  2.869636  2.630884  2.643876   \n",
       "zoo         4.566769  3.240000  2.553604  1.221025  1.012036  3.052009   \n",
       "zoology     4.243600  0.944784  2.387025  3.389281  2.193361  3.825936   \n",
       "\n",
       "             AOA_VAR  SIZE_VAR  GEND_VAR  \n",
       "words                                     \n",
       "abattoir    0.182329  2.399401  1.368900  \n",
       "abbey       1.792921  2.653641  1.423249  \n",
       "abbreviate  1.276900  2.890000  0.910116  \n",
       "abdicate    0.712336  2.076481  1.406596  \n",
       "abdication  0.833569  1.825201  1.030225  \n",
       "...              ...       ...       ...  \n",
       "zeppelin    0.891136  2.961841  1.042441  \n",
       "zero        1.261129  1.940449  0.418609  \n",
       "zest        1.261129  3.020644  1.022121  \n",
       "zoo         0.454276  3.508129  0.643204  \n",
       "zoology     1.322500  2.588881  1.140624  \n",
       "\n",
       "[5553 rows x 18 columns]"
      ]
     },
     "execution_count": 107,
     "metadata": {},
     "output_type": "execute_result"
    }
   ],
   "source": [
    "## Combining df_M and df_VAR dataframes, i.e., means and variance.\n",
    "df_M_VAR = pd.concat([df_M, df_VAR], axis=1)\n",
    "df_M_VAR"
   ]
  },
  {
   "cell_type": "code",
   "execution_count": null,
   "metadata": {},
   "outputs": [],
   "source": []
  },
  {
   "cell_type": "markdown",
   "metadata": {},
   "source": [
    "### Preparing a full dataframe with Mean, SD and VAR information"
   ]
  },
  {
   "cell_type": "code",
   "execution_count": 108,
   "metadata": {},
   "outputs": [
    {
     "data": {
      "text/html": [
       "<div>\n",
       "<style scoped>\n",
       "    .dataframe tbody tr th:only-of-type {\n",
       "        vertical-align: middle;\n",
       "    }\n",
       "\n",
       "    .dataframe tbody tr th {\n",
       "        vertical-align: top;\n",
       "    }\n",
       "\n",
       "    .dataframe thead th {\n",
       "        text-align: right;\n",
       "    }\n",
       "</style>\n",
       "<table border=\"1\" class=\"dataframe\">\n",
       "  <thead>\n",
       "    <tr style=\"text-align: right;\">\n",
       "      <th></th>\n",
       "      <th>AROU_M</th>\n",
       "      <th>VAL_M</th>\n",
       "      <th>DOM_M</th>\n",
       "      <th>CNC_M</th>\n",
       "      <th>IMAG_M</th>\n",
       "      <th>FAM_M</th>\n",
       "      <th>AOA_M</th>\n",
       "      <th>SIZE_M</th>\n",
       "      <th>GEND_M</th>\n",
       "      <th>AROU_SD</th>\n",
       "      <th>VAL_SD</th>\n",
       "      <th>DOM_SD</th>\n",
       "      <th>CNC_SD</th>\n",
       "      <th>IMAG_SD</th>\n",
       "      <th>FAM_SD</th>\n",
       "      <th>AOA_SD</th>\n",
       "      <th>SIZE_SD</th>\n",
       "      <th>GEND_SD</th>\n",
       "      <th>AROU_VAR</th>\n",
       "      <th>VAL_VAR</th>\n",
       "      <th>DOM_VAR</th>\n",
       "      <th>CNC_VAR</th>\n",
       "      <th>IMAG_VAR</th>\n",
       "      <th>FAM_VAR</th>\n",
       "      <th>AOA_VAR</th>\n",
       "      <th>SIZE_VAR</th>\n",
       "      <th>GEND_VAR</th>\n",
       "    </tr>\n",
       "    <tr>\n",
       "      <th>words</th>\n",
       "      <th></th>\n",
       "      <th></th>\n",
       "      <th></th>\n",
       "      <th></th>\n",
       "      <th></th>\n",
       "      <th></th>\n",
       "      <th></th>\n",
       "      <th></th>\n",
       "      <th></th>\n",
       "      <th></th>\n",
       "      <th></th>\n",
       "      <th></th>\n",
       "      <th></th>\n",
       "      <th></th>\n",
       "      <th></th>\n",
       "      <th></th>\n",
       "      <th></th>\n",
       "      <th></th>\n",
       "      <th></th>\n",
       "      <th></th>\n",
       "      <th></th>\n",
       "      <th></th>\n",
       "      <th></th>\n",
       "      <th></th>\n",
       "      <th></th>\n",
       "      <th></th>\n",
       "      <th></th>\n",
       "    </tr>\n",
       "  </thead>\n",
       "  <tbody>\n",
       "    <tr>\n",
       "      <th>abattoir</th>\n",
       "      <td>4.200</td>\n",
       "      <td>2.864</td>\n",
       "      <td>4.333</td>\n",
       "      <td>5.455</td>\n",
       "      <td>4.391</td>\n",
       "      <td>2.382</td>\n",
       "      <td>6.760</td>\n",
       "      <td>4.652</td>\n",
       "      <td>5.391</td>\n",
       "      <td>2.400</td>\n",
       "      <td>1.740</td>\n",
       "      <td>1.285</td>\n",
       "      <td>1.900</td>\n",
       "      <td>2.121</td>\n",
       "      <td>1.799</td>\n",
       "      <td>0.427</td>\n",
       "      <td>1.549</td>\n",
       "      <td>1.170</td>\n",
       "      <td>5.760000</td>\n",
       "      <td>3.027600</td>\n",
       "      <td>1.651225</td>\n",
       "      <td>3.610000</td>\n",
       "      <td>4.498641</td>\n",
       "      <td>3.236401</td>\n",
       "      <td>0.182329</td>\n",
       "      <td>2.399401</td>\n",
       "      <td>1.368900</td>\n",
       "    </tr>\n",
       "    <tr>\n",
       "      <th>abbey</th>\n",
       "      <td>3.125</td>\n",
       "      <td>5.781</td>\n",
       "      <td>4.667</td>\n",
       "      <td>5.906</td>\n",
       "      <td>5.344</td>\n",
       "      <td>3.324</td>\n",
       "      <td>5.177</td>\n",
       "      <td>5.121</td>\n",
       "      <td>3.303</td>\n",
       "      <td>2.342</td>\n",
       "      <td>1.268</td>\n",
       "      <td>1.551</td>\n",
       "      <td>1.508</td>\n",
       "      <td>1.881</td>\n",
       "      <td>1.810</td>\n",
       "      <td>1.339</td>\n",
       "      <td>1.629</td>\n",
       "      <td>1.193</td>\n",
       "      <td>5.484964</td>\n",
       "      <td>1.607824</td>\n",
       "      <td>2.405601</td>\n",
       "      <td>2.274064</td>\n",
       "      <td>3.538161</td>\n",
       "      <td>3.276100</td>\n",
       "      <td>1.792921</td>\n",
       "      <td>2.653641</td>\n",
       "      <td>1.423249</td>\n",
       "    </tr>\n",
       "    <tr>\n",
       "      <th>abbreviate</th>\n",
       "      <td>3.273</td>\n",
       "      <td>5.250</td>\n",
       "      <td>5.235</td>\n",
       "      <td>3.286</td>\n",
       "      <td>3.177</td>\n",
       "      <td>5.121</td>\n",
       "      <td>5.543</td>\n",
       "      <td>2.667</td>\n",
       "      <td>3.971</td>\n",
       "      <td>1.582</td>\n",
       "      <td>1.031</td>\n",
       "      <td>1.238</td>\n",
       "      <td>1.733</td>\n",
       "      <td>1.689</td>\n",
       "      <td>1.838</td>\n",
       "      <td>1.130</td>\n",
       "      <td>1.700</td>\n",
       "      <td>0.954</td>\n",
       "      <td>2.502724</td>\n",
       "      <td>1.062961</td>\n",
       "      <td>1.532644</td>\n",
       "      <td>3.003289</td>\n",
       "      <td>2.852721</td>\n",
       "      <td>3.378244</td>\n",
       "      <td>1.276900</td>\n",
       "      <td>2.890000</td>\n",
       "      <td>0.910116</td>\n",
       "    </tr>\n",
       "    <tr>\n",
       "      <th>abdicate</th>\n",
       "      <td>4.194</td>\n",
       "      <td>3.767</td>\n",
       "      <td>4.419</td>\n",
       "      <td>3.367</td>\n",
       "      <td>2.516</td>\n",
       "      <td>3.971</td>\n",
       "      <td>6.233</td>\n",
       "      <td>4.679</td>\n",
       "      <td>5.167</td>\n",
       "      <td>1.941</td>\n",
       "      <td>1.383</td>\n",
       "      <td>2.182</td>\n",
       "      <td>1.853</td>\n",
       "      <td>1.521</td>\n",
       "      <td>2.077</td>\n",
       "      <td>0.844</td>\n",
       "      <td>1.441</td>\n",
       "      <td>1.186</td>\n",
       "      <td>3.767481</td>\n",
       "      <td>1.912689</td>\n",
       "      <td>4.761124</td>\n",
       "      <td>3.433609</td>\n",
       "      <td>2.313441</td>\n",
       "      <td>4.313929</td>\n",
       "      <td>0.712336</td>\n",
       "      <td>2.076481</td>\n",
       "      <td>1.406596</td>\n",
       "    </tr>\n",
       "    <tr>\n",
       "      <th>abdication</th>\n",
       "      <td>3.846</td>\n",
       "      <td>3.880</td>\n",
       "      <td>4.800</td>\n",
       "      <td>3.292</td>\n",
       "      <td>2.571</td>\n",
       "      <td>3.097</td>\n",
       "      <td>6.407</td>\n",
       "      <td>5.083</td>\n",
       "      <td>4.571</td>\n",
       "      <td>2.282</td>\n",
       "      <td>1.608</td>\n",
       "      <td>1.960</td>\n",
       "      <td>1.620</td>\n",
       "      <td>1.294</td>\n",
       "      <td>2.022</td>\n",
       "      <td>0.913</td>\n",
       "      <td>1.351</td>\n",
       "      <td>1.015</td>\n",
       "      <td>5.207524</td>\n",
       "      <td>2.585664</td>\n",
       "      <td>3.841600</td>\n",
       "      <td>2.624400</td>\n",
       "      <td>1.674436</td>\n",
       "      <td>4.088484</td>\n",
       "      <td>0.833569</td>\n",
       "      <td>1.825201</td>\n",
       "      <td>1.030225</td>\n",
       "    </tr>\n",
       "    <tr>\n",
       "      <th>...</th>\n",
       "      <td>...</td>\n",
       "      <td>...</td>\n",
       "      <td>...</td>\n",
       "      <td>...</td>\n",
       "      <td>...</td>\n",
       "      <td>...</td>\n",
       "      <td>...</td>\n",
       "      <td>...</td>\n",
       "      <td>...</td>\n",
       "      <td>...</td>\n",
       "      <td>...</td>\n",
       "      <td>...</td>\n",
       "      <td>...</td>\n",
       "      <td>...</td>\n",
       "      <td>...</td>\n",
       "      <td>...</td>\n",
       "      <td>...</td>\n",
       "      <td>...</td>\n",
       "      <td>...</td>\n",
       "      <td>...</td>\n",
       "      <td>...</td>\n",
       "      <td>...</td>\n",
       "      <td>...</td>\n",
       "      <td>...</td>\n",
       "      <td>...</td>\n",
       "      <td>...</td>\n",
       "      <td>...</td>\n",
       "    </tr>\n",
       "    <tr>\n",
       "      <th>zeppelin</th>\n",
       "      <td>6.185</td>\n",
       "      <td>5.000</td>\n",
       "      <td>5.333</td>\n",
       "      <td>6.286</td>\n",
       "      <td>6.185</td>\n",
       "      <td>3.167</td>\n",
       "      <td>6.036</td>\n",
       "      <td>5.464</td>\n",
       "      <td>5.269</td>\n",
       "      <td>2.037</td>\n",
       "      <td>1.414</td>\n",
       "      <td>1.743</td>\n",
       "      <td>0.920</td>\n",
       "      <td>1.123</td>\n",
       "      <td>2.115</td>\n",
       "      <td>0.944</td>\n",
       "      <td>1.721</td>\n",
       "      <td>1.021</td>\n",
       "      <td>4.149369</td>\n",
       "      <td>1.999396</td>\n",
       "      <td>3.038049</td>\n",
       "      <td>0.846400</td>\n",
       "      <td>1.261129</td>\n",
       "      <td>4.473225</td>\n",
       "      <td>0.891136</td>\n",
       "      <td>2.961841</td>\n",
       "      <td>1.042441</td>\n",
       "    </tr>\n",
       "    <tr>\n",
       "      <th>zero</th>\n",
       "      <td>4.031</td>\n",
       "      <td>4.182</td>\n",
       "      <td>4.567</td>\n",
       "      <td>2.688</td>\n",
       "      <td>3.903</td>\n",
       "      <td>6.269</td>\n",
       "      <td>2.636</td>\n",
       "      <td>1.758</td>\n",
       "      <td>4.172</td>\n",
       "      <td>2.023</td>\n",
       "      <td>1.585</td>\n",
       "      <td>2.124</td>\n",
       "      <td>1.895</td>\n",
       "      <td>2.347</td>\n",
       "      <td>1.195</td>\n",
       "      <td>1.123</td>\n",
       "      <td>1.393</td>\n",
       "      <td>0.647</td>\n",
       "      <td>4.092529</td>\n",
       "      <td>2.512225</td>\n",
       "      <td>4.511376</td>\n",
       "      <td>3.591025</td>\n",
       "      <td>5.508409</td>\n",
       "      <td>1.428025</td>\n",
       "      <td>1.261129</td>\n",
       "      <td>1.940449</td>\n",
       "      <td>0.418609</td>\n",
       "    </tr>\n",
       "    <tr>\n",
       "      <th>zest</th>\n",
       "      <td>5.969</td>\n",
       "      <td>6.818</td>\n",
       "      <td>6.121</td>\n",
       "      <td>4.438</td>\n",
       "      <td>4.033</td>\n",
       "      <td>4.000</td>\n",
       "      <td>5.364</td>\n",
       "      <td>2.636</td>\n",
       "      <td>3.452</td>\n",
       "      <td>2.158</td>\n",
       "      <td>1.313</td>\n",
       "      <td>1.320</td>\n",
       "      <td>1.694</td>\n",
       "      <td>1.622</td>\n",
       "      <td>1.626</td>\n",
       "      <td>1.123</td>\n",
       "      <td>1.738</td>\n",
       "      <td>1.011</td>\n",
       "      <td>4.656964</td>\n",
       "      <td>1.723969</td>\n",
       "      <td>1.742400</td>\n",
       "      <td>2.869636</td>\n",
       "      <td>2.630884</td>\n",
       "      <td>2.643876</td>\n",
       "      <td>1.261129</td>\n",
       "      <td>3.020644</td>\n",
       "      <td>1.022121</td>\n",
       "    </tr>\n",
       "    <tr>\n",
       "      <th>zoo</th>\n",
       "      <td>5.909</td>\n",
       "      <td>6.235</td>\n",
       "      <td>5.485</td>\n",
       "      <td>6.118</td>\n",
       "      <td>6.441</td>\n",
       "      <td>5.655</td>\n",
       "      <td>2.324</td>\n",
       "      <td>4.844</td>\n",
       "      <td>4.059</td>\n",
       "      <td>2.137</td>\n",
       "      <td>1.800</td>\n",
       "      <td>1.598</td>\n",
       "      <td>1.105</td>\n",
       "      <td>1.006</td>\n",
       "      <td>1.747</td>\n",
       "      <td>0.674</td>\n",
       "      <td>1.873</td>\n",
       "      <td>0.802</td>\n",
       "      <td>4.566769</td>\n",
       "      <td>3.240000</td>\n",
       "      <td>2.553604</td>\n",
       "      <td>1.221025</td>\n",
       "      <td>1.012036</td>\n",
       "      <td>3.052009</td>\n",
       "      <td>0.454276</td>\n",
       "      <td>3.508129</td>\n",
       "      <td>0.643204</td>\n",
       "    </tr>\n",
       "    <tr>\n",
       "      <th>zoology</th>\n",
       "      <td>4.571</td>\n",
       "      <td>5.765</td>\n",
       "      <td>5.114</td>\n",
       "      <td>4.429</td>\n",
       "      <td>3.914</td>\n",
       "      <td>4.382</td>\n",
       "      <td>5.824</td>\n",
       "      <td>4.571</td>\n",
       "      <td>3.657</td>\n",
       "      <td>2.060</td>\n",
       "      <td>0.972</td>\n",
       "      <td>1.545</td>\n",
       "      <td>1.841</td>\n",
       "      <td>1.481</td>\n",
       "      <td>1.956</td>\n",
       "      <td>1.150</td>\n",
       "      <td>1.609</td>\n",
       "      <td>1.068</td>\n",
       "      <td>4.243600</td>\n",
       "      <td>0.944784</td>\n",
       "      <td>2.387025</td>\n",
       "      <td>3.389281</td>\n",
       "      <td>2.193361</td>\n",
       "      <td>3.825936</td>\n",
       "      <td>1.322500</td>\n",
       "      <td>2.588881</td>\n",
       "      <td>1.140624</td>\n",
       "    </tr>\n",
       "  </tbody>\n",
       "</table>\n",
       "<p>5553 rows × 27 columns</p>\n",
       "</div>"
      ],
      "text/plain": [
       "            AROU_M  VAL_M  DOM_M  CNC_M  IMAG_M  FAM_M  AOA_M  SIZE_M  GEND_M  \\\n",
       "words                                                                           \n",
       "abattoir     4.200  2.864  4.333  5.455   4.391  2.382  6.760   4.652   5.391   \n",
       "abbey        3.125  5.781  4.667  5.906   5.344  3.324  5.177   5.121   3.303   \n",
       "abbreviate   3.273  5.250  5.235  3.286   3.177  5.121  5.543   2.667   3.971   \n",
       "abdicate     4.194  3.767  4.419  3.367   2.516  3.971  6.233   4.679   5.167   \n",
       "abdication   3.846  3.880  4.800  3.292   2.571  3.097  6.407   5.083   4.571   \n",
       "...            ...    ...    ...    ...     ...    ...    ...     ...     ...   \n",
       "zeppelin     6.185  5.000  5.333  6.286   6.185  3.167  6.036   5.464   5.269   \n",
       "zero         4.031  4.182  4.567  2.688   3.903  6.269  2.636   1.758   4.172   \n",
       "zest         5.969  6.818  6.121  4.438   4.033  4.000  5.364   2.636   3.452   \n",
       "zoo          5.909  6.235  5.485  6.118   6.441  5.655  2.324   4.844   4.059   \n",
       "zoology      4.571  5.765  5.114  4.429   3.914  4.382  5.824   4.571   3.657   \n",
       "\n",
       "            AROU_SD  VAL_SD  DOM_SD  CNC_SD  IMAG_SD  FAM_SD  AOA_SD  SIZE_SD  \\\n",
       "words                                                                           \n",
       "abattoir      2.400   1.740   1.285   1.900    2.121   1.799   0.427    1.549   \n",
       "abbey         2.342   1.268   1.551   1.508    1.881   1.810   1.339    1.629   \n",
       "abbreviate    1.582   1.031   1.238   1.733    1.689   1.838   1.130    1.700   \n",
       "abdicate      1.941   1.383   2.182   1.853    1.521   2.077   0.844    1.441   \n",
       "abdication    2.282   1.608   1.960   1.620    1.294   2.022   0.913    1.351   \n",
       "...             ...     ...     ...     ...      ...     ...     ...      ...   \n",
       "zeppelin      2.037   1.414   1.743   0.920    1.123   2.115   0.944    1.721   \n",
       "zero          2.023   1.585   2.124   1.895    2.347   1.195   1.123    1.393   \n",
       "zest          2.158   1.313   1.320   1.694    1.622   1.626   1.123    1.738   \n",
       "zoo           2.137   1.800   1.598   1.105    1.006   1.747   0.674    1.873   \n",
       "zoology       2.060   0.972   1.545   1.841    1.481   1.956   1.150    1.609   \n",
       "\n",
       "            GEND_SD  AROU_VAR   VAL_VAR   DOM_VAR   CNC_VAR  IMAG_VAR  \\\n",
       "words                                                                   \n",
       "abattoir      1.170  5.760000  3.027600  1.651225  3.610000  4.498641   \n",
       "abbey         1.193  5.484964  1.607824  2.405601  2.274064  3.538161   \n",
       "abbreviate    0.954  2.502724  1.062961  1.532644  3.003289  2.852721   \n",
       "abdicate      1.186  3.767481  1.912689  4.761124  3.433609  2.313441   \n",
       "abdication    1.015  5.207524  2.585664  3.841600  2.624400  1.674436   \n",
       "...             ...       ...       ...       ...       ...       ...   \n",
       "zeppelin      1.021  4.149369  1.999396  3.038049  0.846400  1.261129   \n",
       "zero          0.647  4.092529  2.512225  4.511376  3.591025  5.508409   \n",
       "zest          1.011  4.656964  1.723969  1.742400  2.869636  2.630884   \n",
       "zoo           0.802  4.566769  3.240000  2.553604  1.221025  1.012036   \n",
       "zoology       1.068  4.243600  0.944784  2.387025  3.389281  2.193361   \n",
       "\n",
       "             FAM_VAR   AOA_VAR  SIZE_VAR  GEND_VAR  \n",
       "words                                               \n",
       "abattoir    3.236401  0.182329  2.399401  1.368900  \n",
       "abbey       3.276100  1.792921  2.653641  1.423249  \n",
       "abbreviate  3.378244  1.276900  2.890000  0.910116  \n",
       "abdicate    4.313929  0.712336  2.076481  1.406596  \n",
       "abdication  4.088484  0.833569  1.825201  1.030225  \n",
       "...              ...       ...       ...       ...  \n",
       "zeppelin    4.473225  0.891136  2.961841  1.042441  \n",
       "zero        1.428025  1.261129  1.940449  0.418609  \n",
       "zest        2.643876  1.261129  3.020644  1.022121  \n",
       "zoo         3.052009  0.454276  3.508129  0.643204  \n",
       "zoology     3.825936  1.322500  2.588881  1.140624  \n",
       "\n",
       "[5553 rows x 27 columns]"
      ]
     },
     "execution_count": 108,
     "metadata": {},
     "output_type": "execute_result"
    }
   ],
   "source": [
    "## Combining mean, standard deviation, and variance:\n",
    "df = pd.concat([df_M, df_SD, df_VAR], axis=1)\n",
    "df"
   ]
  },
  {
   "cell_type": "code",
   "execution_count": null,
   "metadata": {},
   "outputs": [],
   "source": []
  },
  {
   "cell_type": "markdown",
   "metadata": {
    "tags": []
   },
   "source": [
    "----\n",
    "## Correlation Analysis of the mean of psycholinguistics dimensions"
   ]
  },
  {
   "cell_type": "code",
   "execution_count": 112,
   "metadata": {},
   "outputs": [
    {
     "data": {
      "text/plain": [
       "<AxesSubplot: >"
      ]
     },
     "execution_count": 112,
     "metadata": {},
     "output_type": "execute_result"
    },
    {
     "data": {
      "image/png": "[encoded data removed]",
      "text/plain": [
       "<Figure size 1200x600 with 2 Axes>"
      ]
     },
     "metadata": {},
     "output_type": "display_data"
    }
   ],
   "source": [
    "## Plotting the correlation map only for Mean values\n",
    "plt.figure(figsize=(12,6))\n",
    "c= df_M.corr()\n",
    "sns.heatmap(c)"
   ]
  },
  {
   "cell_type": "code",
   "execution_count": null,
   "metadata": {},
   "outputs": [],
   "source": []
  },
  {
   "cell_type": "markdown",
   "metadata": {
    "tags": []
   },
   "source": [
    "-----\n",
    "### Visualizing features with confidence interval:"
   ]
  },
  {
   "cell_type": "code",
   "execution_count": 113,
   "metadata": {},
   "outputs": [],
   "source": [
    "import plotly.graph_objects as go\n",
    "import plotly.colors as pc\n",
    "\n",
    "import cufflinks as cf\n",
    "\n",
    "\n",
    "def viz_GlasgowR(words=['dog', 'cat'], dataframe=None):\n",
    "    '''Visualiza as features psicolínguisticas de uma lista de palavras a partir \n",
    "    dos parâmetros dispostos no The Glasgow Norm, já carregados no dataframe \"words\". \n",
    "    Sintaxe: viz_GlasgowR(words, dataframe), onde:\n",
    "        words = lista de strings contidas no dicionário/base Glasgow Rate.\n",
    "        dataframe = DataFrame contendo os dados.\n",
    "        \n",
    "    Updated: 2023.08.26 - Adding alpha channel to plot standard deviation.\n",
    "    '''\n",
    "    if dataframe is None:\n",
    "        raise ValueError(\"You need to provide a DataFrame containing the data.\")\n",
    "\n",
    "    ## Eixo-x, numérico:\n",
    "    x = [1, 2, 3, 4, 5, 6, 7, 8, 9]\n",
    "    ## Rótulo do eixo-x:\n",
    "    xticks = ['AROU', 'VAL', 'DOM', 'CNC', 'IMAG', 'FAM', 'AOA', 'SIZE', 'GEND']\n",
    "    ## Labels a serem buscados no dicionário Glasgow:\n",
    "    label_M = ['AROU_M', 'VAL_M', 'DOM_M', 'CNC_M', 'IMAG_M', 'FAM_M', 'AOA_M', 'SIZE_M', 'GEND_M']\n",
    "    label_SD = ['AROU_SD', 'VAL_SD', 'DOM_SD', 'CNC_SD', 'IMAG_SD', 'FAM_SD', 'AOA_SD', 'SIZE_SD', 'GEND_M']\n",
    "    \n",
    "    # Generate a list of unique colors using Plotly's color scales\n",
    "    num_colors = len(words)\n",
    "    colors = pc.qualitative.Plotly[:num_colors]\n",
    "    \n",
    "    fig = go.Figure()\n",
    "\n",
    "    for word, color in zip(words, colors):\n",
    "        if word in dataframe.index:\n",
    "            feat_M = list(dataframe.loc[word][label_M])\n",
    "            feat_SD = list(dataframe.loc[word][label_SD])\n",
    "            y_upper = [a + b for a, b in zip(feat_M, feat_SD)]\n",
    "            y_lower = [a - b for a, b in zip(feat_M, feat_SD)]\n",
    "\n",
    "            fig.add_trace(go.Scatter(\n",
    "                x=x,\n",
    "                y=feat_M,\n",
    "                line=dict(color=color),  # Assign a unique color to each word\n",
    "                mode='lines',\n",
    "                name=word,\n",
    "                showlegend=True\n",
    "            ))\n",
    "\n",
    "            fig.add_trace(go.Scatter(\n",
    "                x=x + x[::-1],  # x, then x reversed\n",
    "                y=y_upper + y_lower[::-1],  # upper, then lower reversed\n",
    "                fill='toself',\n",
    "                # fillcolor='rgba(0,100,80,0.2)',\n",
    "                # HEX to RGBA (transparency)\n",
    "                fillcolor=cf.colors.to_rgba(color,.2),\n",
    "                line=dict(color='rgba(255,255,255,0)'),\n",
    "                hoverinfo=\"skip\",\n",
    "                showlegend=False\n",
    "            ))\n",
    "        \n",
    "    ## Atualizando o xtick label a partir do nome das colunas:\n",
    "    fig.update_layout(\n",
    "        xaxis=dict(\n",
    "            tickmode='array',\n",
    "            tickvals=[1, 2, 3, 4, 5, 6, 7, 8, 9],\n",
    "            ticktext=xticks\n",
    "        )\n",
    "    )\n",
    "    \n",
    "    return fig"
   ]
  },
  {
   "cell_type": "code",
   "execution_count": null,
   "metadata": {},
   "outputs": [],
   "source": []
  },
  {
   "cell_type": "code",
   "execution_count": 115,
   "metadata": {},
   "outputs": [
    {
     "data": {
      "application/vnd.plotly.v1+json": {
       "config": {
        "plotlyServerURL": "https://plot.ly"
       },
       "data": [
        {
         "line": {
          "color": "#636EFA"
         },
         "mode": "lines",
         "name": "dog",
         "showlegend": true,
         "type": "scatter",
         "x": [
          1,
          2,
          3,
          4,
          5,
          6,
          7,
          8,
          9
         ],
         "y": [
          6.147,
          7.067,
          6.242,
          6.833,
          6.889,
          6.84,
          1.735,
          3.273,
          4.606
         ]
        },
        {
         "fill": "toself",
         "fillcolor": "rgba(99, 110, 250, 0.2)",
         "hoverinfo": "skip",
         "line": {
          "color": "rgba(255,255,255,0)"
         },
         "showlegend": false,
         "type": "scatter",
         "x": [
          1,
          2,
          3,
          4,
          5,
          6,
          7,
          8,
          9,
          9,
          8,
          7,
          6,
          5,
          4,
          3,
          2,
          1
         ],
         "y": [
          8.332,
          8.304,
          8.035,
          7.2860000000000005,
          7.203,
          7.303,
          2.391,
          4.511,
          9.212,
          0,
          2.035,
          1.0790000000000002,
          6.377,
          6.575,
          6.38,
          4.449,
          5.83,
          3.962
         ]
        },
        {
         "line": {
          "color": "#EF553B"
         },
         "mode": "lines",
         "name": "cat",
         "showlegend": true,
         "type": "scatter",
         "x": [
          1,
          2,
          3,
          4,
          5,
          6,
          7,
          8,
          9
         ],
         "y": [
          3.97,
          5.939,
          5.091,
          6.548,
          6.774,
          6.375,
          1.743,
          2.546,
          2.727
         ]
        },
        {
         "fill": "toself",
         "fillcolor": "rgba(239, 85, 59, 0.2)",
         "hoverinfo": "skip",
         "line": {
          "color": "rgba(255,255,255,0)"
         },
         "showlegend": false,
         "type": "scatter",
         "x": [
          1,
          2,
          3,
          4,
          5,
          6,
          7,
          8,
          9,
          9,
          8,
          7,
          6,
          5,
          4,
          3,
          2,
          1
         ],
         "y": [
          6.616,
          7.571,
          6.6930000000000005,
          7.422,
          7.479,
          7.716,
          2.821,
          4.025,
          5.454,
          0,
          1.0669999999999997,
          0.665,
          5.034,
          6.069,
          5.674,
          3.489,
          4.307,
          1.3240000000000003
         ]
        }
       ],
       "layout": {
        "autosize": true,
        "template": {
         "data": {
          "bar": [
           {
            "error_x": {
             "color": "#2a3f5f"
            },
            "error_y": {
             "color": "#2a3f5f"
            },
            "marker": {
             "line": {
              "color": "#E5ECF6",
              "width": 0.5
             },
             "pattern": {
              "fillmode": "overlay",
              "size": 10,
              "solidity": 0.2
             }
            },
            "type": "bar"
           }
          ],
          "barpolar": [
           {
            "marker": {
             "line": {
              "color": "#E5ECF6",
              "width": 0.5
             },
             "pattern": {
              "fillmode": "overlay",
              "size": 10,
              "solidity": 0.2
             }
            },
            "type": "barpolar"
           }
          ],
          "carpet": [
           {
            "aaxis": {
             "endlinecolor": "#2a3f5f",
             "gridcolor": "white",
             "linecolor": "white",
             "minorgridcolor": "white",
             "startlinecolor": "#2a3f5f"
            },
            "baxis": {
             "endlinecolor": "#2a3f5f",
             "gridcolor": "white",
             "linecolor": "white",
             "minorgridcolor": "white",
             "startlinecolor": "#2a3f5f"
            },
            "type": "carpet"
           }
          ],
          "choropleth": [
           {
            "colorbar": {
             "outlinewidth": 0,
             "ticks": ""
            },
            "type": "choropleth"
           }
          ],
          "contour": [
           {
            "colorbar": {
             "outlinewidth": 0,
             "ticks": ""
            },
            "colorscale": [
             [
              0,
              "#0d0887"
             ],
             [
              0.1111111111111111,
              "#46039f"
             ],
             [
              0.2222222222222222,
              "#7201a8"
             ],
             [
              0.3333333333333333,
              "#9c179e"
             ],
             [
              0.4444444444444444,
              "#bd3786"
             ],
             [
              0.5555555555555556,
              "#d8576b"
             ],
             [
              0.6666666666666666,
              "#ed7953"
             ],
             [
              0.7777777777777778,
              "#fb9f3a"
             ],
             [
              0.8888888888888888,
              "#fdca26"
             ],
             [
              1,
              "#f0f921"
             ]
            ],
            "type": "contour"
           }
          ],
          "contourcarpet": [
           {
            "colorbar": {
             "outlinewidth": 0,
             "ticks": ""
            },
            "type": "contourcarpet"
           }
          ],
          "heatmap": [
           {
            "colorbar": {
             "outlinewidth": 0,
             "ticks": ""
            },
            "colorscale": [
             [
              0,
              "#0d0887"
             ],
             [
              0.1111111111111111,
              "#46039f"
             ],
             [
              0.2222222222222222,
              "#7201a8"
             ],
             [
              0.3333333333333333,
              "#9c179e"
             ],
             [
              0.4444444444444444,
              "#bd3786"
             ],
             [
              0.5555555555555556,
              "#d8576b"
             ],
             [
              0.6666666666666666,
              "#ed7953"
             ],
             [
              0.7777777777777778,
              "#fb9f3a"
             ],
             [
              0.8888888888888888,
              "#fdca26"
             ],
             [
              1,
              "#f0f921"
             ]
            ],
            "type": "heatmap"
           }
          ],
          "heatmapgl": [
           {
            "colorbar": {
             "outlinewidth": 0,
             "ticks": ""
            },
            "colorscale": [
             [
              0,
              "#0d0887"
             ],
             [
              0.1111111111111111,
              "#46039f"
             ],
             [
              0.2222222222222222,
              "#7201a8"
             ],
             [
              0.3333333333333333,
              "#9c179e"
             ],
             [
              0.4444444444444444,
              "#bd3786"
             ],
             [
              0.5555555555555556,
              "#d8576b"
             ],
             [
              0.6666666666666666,
              "#ed7953"
             ],
             [
              0.7777777777777778,
              "#fb9f3a"
             ],
             [
              0.8888888888888888,
              "#fdca26"
             ],
             [
              1,
              "#f0f921"
             ]
            ],
            "type": "heatmapgl"
           }
          ],
          "histogram": [
           {
            "marker": {
             "pattern": {
              "fillmode": "overlay",
              "size": 10,
              "solidity": 0.2
             }
            },
            "type": "histogram"
           }
          ],
          "histogram2d": [
           {
            "colorbar": {
             "outlinewidth": 0,
             "ticks": ""
            },
            "colorscale": [
             [
              0,
              "#0d0887"
             ],
             [
              0.1111111111111111,
              "#46039f"
             ],
             [
              0.2222222222222222,
              "#7201a8"
             ],
             [
              0.3333333333333333,
              "#9c179e"
             ],
             [
              0.4444444444444444,
              "#bd3786"
             ],
             [
              0.5555555555555556,
              "#d8576b"
             ],
             [
              0.6666666666666666,
              "#ed7953"
             ],
             [
              0.7777777777777778,
              "#fb9f3a"
             ],
             [
              0.8888888888888888,
              "#fdca26"
             ],
             [
              1,
              "#f0f921"
             ]
            ],
            "type": "histogram2d"
           }
          ],
          "histogram2dcontour": [
           {
            "colorbar": {
             "outlinewidth": 0,
             "ticks": ""
            },
            "colorscale": [
             [
              0,
              "#0d0887"
             ],
             [
              0.1111111111111111,
              "#46039f"
             ],
             [
              0.2222222222222222,
              "#7201a8"
             ],
             [
              0.3333333333333333,
              "#9c179e"
             ],
             [
              0.4444444444444444,
              "#bd3786"
             ],
             [
              0.5555555555555556,
              "#d8576b"
             ],
             [
              0.6666666666666666,
              "#ed7953"
             ],
             [
              0.7777777777777778,
              "#fb9f3a"
             ],
             [
              0.8888888888888888,
              "#fdca26"
             ],
             [
              1,
              "#f0f921"
             ]
            ],
            "type": "histogram2dcontour"
           }
          ],
          "mesh3d": [
           {
            "colorbar": {
             "outlinewidth": 0,
             "ticks": ""
            },
            "type": "mesh3d"
           }
          ],
          "parcoords": [
           {
            "line": {
             "colorbar": {
              "outlinewidth": 0,
              "ticks": ""
             }
            },
            "type": "parcoords"
           }
          ],
          "pie": [
           {
            "automargin": true,
            "type": "pie"
           }
          ],
          "scatter": [
           {
            "fillpattern": {
             "fillmode": "overlay",
             "size": 10,
             "solidity": 0.2
            },
            "type": "scatter"
           }
          ],
          "scatter3d": [
           {
            "line": {
             "colorbar": {
              "outlinewidth": 0,
              "ticks": ""
             }
            },
            "marker": {
             "colorbar": {
              "outlinewidth": 0,
              "ticks": ""
             }
            },
            "type": "scatter3d"
           }
          ],
          "scattercarpet": [
           {
            "marker": {
             "colorbar": {
              "outlinewidth": 0,
              "ticks": ""
             }
            },
            "type": "scattercarpet"
           }
          ],
          "scattergeo": [
           {
            "marker": {
             "colorbar": {
              "outlinewidth": 0,
              "ticks": ""
             }
            },
            "type": "scattergeo"
           }
          ],
          "scattergl": [
           {
            "marker": {
             "colorbar": {
              "outlinewidth": 0,
              "ticks": ""
             }
            },
            "type": "scattergl"
           }
          ],
          "scattermapbox": [
           {
            "marker": {
             "colorbar": {
              "outlinewidth": 0,
              "ticks": ""
             }
            },
            "type": "scattermapbox"
           }
          ],
          "scatterpolar": [
           {
            "marker": {
             "colorbar": {
              "outlinewidth": 0,
              "ticks": ""
             }
            },
            "type": "scatterpolar"
           }
          ],
          "scatterpolargl": [
           {
            "marker": {
             "colorbar": {
              "outlinewidth": 0,
              "ticks": ""
             }
            },
            "type": "scatterpolargl"
           }
          ],
          "scatterternary": [
           {
            "marker": {
             "colorbar": {
              "outlinewidth": 0,
              "ticks": ""
             }
            },
            "type": "scatterternary"
           }
          ],
          "surface": [
           {
            "colorbar": {
             "outlinewidth": 0,
             "ticks": ""
            },
            "colorscale": [
             [
              0,
              "#0d0887"
             ],
             [
              0.1111111111111111,
              "#46039f"
             ],
             [
              0.2222222222222222,
              "#7201a8"
             ],
             [
              0.3333333333333333,
              "#9c179e"
             ],
             [
              0.4444444444444444,
              "#bd3786"
             ],
             [
              0.5555555555555556,
              "#d8576b"
             ],
             [
              0.6666666666666666,
              "#ed7953"
             ],
             [
              0.7777777777777778,
              "#fb9f3a"
             ],
             [
              0.8888888888888888,
              "#fdca26"
             ],
             [
              1,
              "#f0f921"
             ]
            ],
            "type": "surface"
           }
          ],
          "table": [
           {
            "cells": {
             "fill": {
              "color": "#EBF0F8"
             },
             "line": {
              "color": "white"
             }
            },
            "header": {
             "fill": {
              "color": "#C8D4E3"
             },
             "line": {
              "color": "white"
             }
            },
            "type": "table"
           }
          ]
         },
         "layout": {
          "annotationdefaults": {
           "arrowcolor": "#2a3f5f",
           "arrowhead": 0,
           "arrowwidth": 1
          },
          "autotypenumbers": "strict",
          "coloraxis": {
           "colorbar": {
            "outlinewidth": 0,
            "ticks": ""
           }
          },
          "colorscale": {
           "diverging": [
            [
             0,
             "#8e0152"
            ],
            [
             0.1,
             "#c51b7d"
            ],
            [
             0.2,
             "#de77ae"
            ],
            [
             0.3,
             "#f1b6da"
            ],
            [
             0.4,
             "#fde0ef"
            ],
            [
             0.5,
             "#f7f7f7"
            ],
            [
             0.6,
             "#e6f5d0"
            ],
            [
             0.7,
             "#b8e186"
            ],
            [
             0.8,
             "#7fbc41"
            ],
            [
             0.9,
             "#4d9221"
            ],
            [
             1,
             "#276419"
            ]
           ],
           "sequential": [
            [
             0,
             "#0d0887"
            ],
            [
             0.1111111111111111,
             "#46039f"
            ],
            [
             0.2222222222222222,
             "#7201a8"
            ],
            [
             0.3333333333333333,
             "#9c179e"
            ],
            [
             0.4444444444444444,
             "#bd3786"
            ],
            [
             0.5555555555555556,
             "#d8576b"
            ],
            [
             0.6666666666666666,
             "#ed7953"
            ],
            [
             0.7777777777777778,
             "#fb9f3a"
            ],
            [
             0.8888888888888888,
             "#fdca26"
            ],
            [
             1,
             "#f0f921"
            ]
           ],
           "sequentialminus": [
            [
             0,
             "#0d0887"
            ],
            [
             0.1111111111111111,
             "#46039f"
            ],
            [
             0.2222222222222222,
             "#7201a8"
            ],
            [
             0.3333333333333333,
             "#9c179e"
            ],
            [
             0.4444444444444444,
             "#bd3786"
            ],
            [
             0.5555555555555556,
             "#d8576b"
            ],
            [
             0.6666666666666666,
             "#ed7953"
            ],
            [
             0.7777777777777778,
             "#fb9f3a"
            ],
            [
             0.8888888888888888,
             "#fdca26"
            ],
            [
             1,
             "#f0f921"
            ]
           ]
          },
          "colorway": [
           "#636efa",
           "#EF553B",
           "#00cc96",
           "#ab63fa",
           "#FFA15A",
           "#19d3f3",
           "#FF6692",
           "#B6E880",
           "#FF97FF",
           "#FECB52"
          ],
          "font": {
           "color": "#2a3f5f"
          },
          "geo": {
           "bgcolor": "white",
           "lakecolor": "white",
           "landcolor": "#E5ECF6",
           "showlakes": true,
           "showland": true,
           "subunitcolor": "white"
          },
          "hoverlabel": {
           "align": "left"
          },
          "hovermode": "closest",
          "mapbox": {
           "style": "light"
          },
          "paper_bgcolor": "white",
          "plot_bgcolor": "#E5ECF6",
          "polar": {
           "angularaxis": {
            "gridcolor": "white",
            "linecolor": "white",
            "ticks": ""
           },
           "bgcolor": "#E5ECF6",
           "radialaxis": {
            "gridcolor": "white",
            "linecolor": "white",
            "ticks": ""
           }
          },
          "scene": {
           "xaxis": {
            "backgroundcolor": "#E5ECF6",
            "gridcolor": "white",
            "gridwidth": 2,
            "linecolor": "white",
            "showbackground": true,
            "ticks": "",
            "zerolinecolor": "white"
           },
           "yaxis": {
            "backgroundcolor": "#E5ECF6",
            "gridcolor": "white",
            "gridwidth": 2,
            "linecolor": "white",
            "showbackground": true,
            "ticks": "",
            "zerolinecolor": "white"
           },
           "zaxis": {
            "backgroundcolor": "#E5ECF6",
            "gridcolor": "white",
            "gridwidth": 2,
            "linecolor": "white",
            "showbackground": true,
            "ticks": "",
            "zerolinecolor": "white"
           }
          },
          "shapedefaults": {
           "line": {
            "color": "#2a3f5f"
           }
          },
          "ternary": {
           "aaxis": {
            "gridcolor": "white",
            "linecolor": "white",
            "ticks": ""
           },
           "baxis": {
            "gridcolor": "white",
            "linecolor": "white",
            "ticks": ""
           },
           "bgcolor": "#E5ECF6",
           "caxis": {
            "gridcolor": "white",
            "linecolor": "white",
            "ticks": ""
           }
          },
          "title": {
           "x": 0.05
          },
          "xaxis": {
           "automargin": true,
           "gridcolor": "white",
           "linecolor": "white",
           "ticks": "",
           "title": {
            "standoff": 15
           },
           "zerolinecolor": "white",
           "zerolinewidth": 2
          },
          "yaxis": {
           "automargin": true,
           "gridcolor": "white",
           "linecolor": "white",
           "ticks": "",
           "title": {
            "standoff": 15
           },
           "zerolinecolor": "white",
           "zerolinewidth": 2
          }
         }
        },
        "xaxis": {
         "autorange": true,
         "range": [
          0.5284155674971502,
          9.47158443250285
         ],
         "tickmode": "array",
         "ticktext": [
          "AROU",
          "VAL",
          "DOM",
          "CNC",
          "IMAG",
          "FAM",
          "AOA",
          "SIZE",
          "GEND"
         ],
         "tickvals": [
          1,
          2,
          3,
          4,
          5,
          6,
          7,
          8,
          9
         ],
         "type": "linear"
        },
        "yaxis": {
         "autorange": true,
         "range": [
          -0.7602135922330098,
          9.97221359223301
         ],
         "type": "linear"
        }
       }
      },
      "image/png": "[encoded data removed]",
      "text/html": [
       "<div>                            <div id=\"6eed66f3-aa88-41c4-b63e-32ce3e05e32c\" class=\"plotly-graph-div\" style=\"height:525px; width:100%;\"></div>            <script type=\"text/javascript\">                require([\"plotly\"], function(Plotly) {                    window.PLOTLYENV=window.PLOTLYENV || {};                                    if (document.getElementById(\"6eed66f3-aa88-41c4-b63e-32ce3e05e32c\")) {                    Plotly.newPlot(                        \"6eed66f3-aa88-41c4-b63e-32ce3e05e32c\",                        [{\"line\":{\"color\":\"#636EFA\"},\"mode\":\"lines\",\"name\":\"dog\",\"showlegend\":true,\"x\":[1,2,3,4,5,6,7,8,9],\"y\":[6.147,7.067,6.242,6.833,6.889,6.84,1.735,3.273,4.606],\"type\":\"scatter\"},{\"fill\":\"toself\",\"fillcolor\":\"rgba(99, 110, 250, 0.2)\",\"hoverinfo\":\"skip\",\"line\":{\"color\":\"rgba(255,255,255,0)\"},\"showlegend\":false,\"x\":[1,2,3,4,5,6,7,8,9,9,8,7,6,5,4,3,2,1],\"y\":[8.332,8.304,8.035,7.2860000000000005,7.203,7.303,2.391,4.511,9.212,0.0,2.035,1.0790000000000002,6.377,6.575,6.38,4.449,5.83,3.962],\"type\":\"scatter\"},{\"line\":{\"color\":\"#EF553B\"},\"mode\":\"lines\",\"name\":\"cat\",\"showlegend\":true,\"x\":[1,2,3,4,5,6,7,8,9],\"y\":[3.97,5.939,5.091,6.548,6.774,6.375,1.743,2.546,2.727],\"type\":\"scatter\"},{\"fill\":\"toself\",\"fillcolor\":\"rgba(239, 85, 59, 0.2)\",\"hoverinfo\":\"skip\",\"line\":{\"color\":\"rgba(255,255,255,0)\"},\"showlegend\":false,\"x\":[1,2,3,4,5,6,7,8,9,9,8,7,6,5,4,3,2,1],\"y\":[6.616,7.571,6.6930000000000005,7.422,7.479,7.716,2.821,4.025,5.454,0.0,1.0669999999999997,0.665,5.034,6.069,5.674,3.489,4.307,1.3240000000000003],\"type\":\"scatter\"}],                        {\"template\":{\"data\":{\"histogram2dcontour\":[{\"type\":\"histogram2dcontour\",\"colorbar\":{\"outlinewidth\":0,\"ticks\":\"\"},\"colorscale\":[[0.0,\"#0d0887\"],[0.1111111111111111,\"#46039f\"],[0.2222222222222222,\"#7201a8\"],[0.3333333333333333,\"#9c179e\"],[0.4444444444444444,\"#bd3786\"],[0.5555555555555556,\"#d8576b\"],[0.6666666666666666,\"#ed7953\"],[0.7777777777777778,\"#fb9f3a\"],[0.8888888888888888,\"#fdca26\"],[1.0,\"#f0f921\"]]}],\"choropleth\":[{\"type\":\"choropleth\",\"colorbar\":{\"outlinewidth\":0,\"ticks\":\"\"}}],\"histogram2d\":[{\"type\":\"histogram2d\",\"colorbar\":{\"outlinewidth\":0,\"ticks\":\"\"},\"colorscale\":[[0.0,\"#0d0887\"],[0.1111111111111111,\"#46039f\"],[0.2222222222222222,\"#7201a8\"],[0.3333333333333333,\"#9c179e\"],[0.4444444444444444,\"#bd3786\"],[0.5555555555555556,\"#d8576b\"],[0.6666666666666666,\"#ed7953\"],[0.7777777777777778,\"#fb9f3a\"],[0.8888888888888888,\"#fdca26\"],[1.0,\"#f0f921\"]]}],\"heatmap\":[{\"type\":\"heatmap\",\"colorbar\":{\"outlinewidth\":0,\"ticks\":\"\"},\"colorscale\":[[0.0,\"#0d0887\"],[0.1111111111111111,\"#46039f\"],[0.2222222222222222,\"#7201a8\"],[0.3333333333333333,\"#9c179e\"],[0.4444444444444444,\"#bd3786\"],[0.5555555555555556,\"#d8576b\"],[0.6666666666666666,\"#ed7953\"],[0.7777777777777778,\"#fb9f3a\"],[0.8888888888888888,\"#fdca26\"],[1.0,\"#f0f921\"]]}],\"heatmapgl\":[{\"type\":\"heatmapgl\",\"colorbar\":{\"outlinewidth\":0,\"ticks\":\"\"},\"colorscale\":[[0.0,\"#0d0887\"],[0.1111111111111111,\"#46039f\"],[0.2222222222222222,\"#7201a8\"],[0.3333333333333333,\"#9c179e\"],[0.4444444444444444,\"#bd3786\"],[0.5555555555555556,\"#d8576b\"],[0.6666666666666666,\"#ed7953\"],[0.7777777777777778,\"#fb9f3a\"],[0.8888888888888888,\"#fdca26\"],[1.0,\"#f0f921\"]]}],\"contourcarpet\":[{\"type\":\"contourcarpet\",\"colorbar\":{\"outlinewidth\":0,\"ticks\":\"\"}}],\"contour\":[{\"type\":\"contour\",\"colorbar\":{\"outlinewidth\":0,\"ticks\":\"\"},\"colorscale\":[[0.0,\"#0d0887\"],[0.1111111111111111,\"#46039f\"],[0.2222222222222222,\"#7201a8\"],[0.3333333333333333,\"#9c179e\"],[0.4444444444444444,\"#bd3786\"],[0.5555555555555556,\"#d8576b\"],[0.6666666666666666,\"#ed7953\"],[0.7777777777777778,\"#fb9f3a\"],[0.8888888888888888,\"#fdca26\"],[1.0,\"#f0f921\"]]}],\"surface\":[{\"type\":\"surface\",\"colorbar\":{\"outlinewidth\":0,\"ticks\":\"\"},\"colorscale\":[[0.0,\"#0d0887\"],[0.1111111111111111,\"#46039f\"],[0.2222222222222222,\"#7201a8\"],[0.3333333333333333,\"#9c179e\"],[0.4444444444444444,\"#bd3786\"],[0.5555555555555556,\"#d8576b\"],[0.6666666666666666,\"#ed7953\"],[0.7777777777777778,\"#fb9f3a\"],[0.8888888888888888,\"#fdca26\"],[1.0,\"#f0f921\"]]}],\"mesh3d\":[{\"type\":\"mesh3d\",\"colorbar\":{\"outlinewidth\":0,\"ticks\":\"\"}}],\"scatter\":[{\"fillpattern\":{\"fillmode\":\"overlay\",\"size\":10,\"solidity\":0.2},\"type\":\"scatter\"}],\"parcoords\":[{\"type\":\"parcoords\",\"line\":{\"colorbar\":{\"outlinewidth\":0,\"ticks\":\"\"}}}],\"scatterpolargl\":[{\"type\":\"scatterpolargl\",\"marker\":{\"colorbar\":{\"outlinewidth\":0,\"ticks\":\"\"}}}],\"bar\":[{\"error_x\":{\"color\":\"#2a3f5f\"},\"error_y\":{\"color\":\"#2a3f5f\"},\"marker\":{\"line\":{\"color\":\"#E5ECF6\",\"width\":0.5},\"pattern\":{\"fillmode\":\"overlay\",\"size\":10,\"solidity\":0.2}},\"type\":\"bar\"}],\"scattergeo\":[{\"type\":\"scattergeo\",\"marker\":{\"colorbar\":{\"outlinewidth\":0,\"ticks\":\"\"}}}],\"scatterpolar\":[{\"type\":\"scatterpolar\",\"marker\":{\"colorbar\":{\"outlinewidth\":0,\"ticks\":\"\"}}}],\"histogram\":[{\"marker\":{\"pattern\":{\"fillmode\":\"overlay\",\"size\":10,\"solidity\":0.2}},\"type\":\"histogram\"}],\"scattergl\":[{\"type\":\"scattergl\",\"marker\":{\"colorbar\":{\"outlinewidth\":0,\"ticks\":\"\"}}}],\"scatter3d\":[{\"type\":\"scatter3d\",\"line\":{\"colorbar\":{\"outlinewidth\":0,\"ticks\":\"\"}},\"marker\":{\"colorbar\":{\"outlinewidth\":0,\"ticks\":\"\"}}}],\"scattermapbox\":[{\"type\":\"scattermapbox\",\"marker\":{\"colorbar\":{\"outlinewidth\":0,\"ticks\":\"\"}}}],\"scatterternary\":[{\"type\":\"scatterternary\",\"marker\":{\"colorbar\":{\"outlinewidth\":0,\"ticks\":\"\"}}}],\"scattercarpet\":[{\"type\":\"scattercarpet\",\"marker\":{\"colorbar\":{\"outlinewidth\":0,\"ticks\":\"\"}}}],\"carpet\":[{\"aaxis\":{\"endlinecolor\":\"#2a3f5f\",\"gridcolor\":\"white\",\"linecolor\":\"white\",\"minorgridcolor\":\"white\",\"startlinecolor\":\"#2a3f5f\"},\"baxis\":{\"endlinecolor\":\"#2a3f5f\",\"gridcolor\":\"white\",\"linecolor\":\"white\",\"minorgridcolor\":\"white\",\"startlinecolor\":\"#2a3f5f\"},\"type\":\"carpet\"}],\"table\":[{\"cells\":{\"fill\":{\"color\":\"#EBF0F8\"},\"line\":{\"color\":\"white\"}},\"header\":{\"fill\":{\"color\":\"#C8D4E3\"},\"line\":{\"color\":\"white\"}},\"type\":\"table\"}],\"barpolar\":[{\"marker\":{\"line\":{\"color\":\"#E5ECF6\",\"width\":0.5},\"pattern\":{\"fillmode\":\"overlay\",\"size\":10,\"solidity\":0.2}},\"type\":\"barpolar\"}],\"pie\":[{\"automargin\":true,\"type\":\"pie\"}]},\"layout\":{\"autotypenumbers\":\"strict\",\"colorway\":[\"#636efa\",\"#EF553B\",\"#00cc96\",\"#ab63fa\",\"#FFA15A\",\"#19d3f3\",\"#FF6692\",\"#B6E880\",\"#FF97FF\",\"#FECB52\"],\"font\":{\"color\":\"#2a3f5f\"},\"hovermode\":\"closest\",\"hoverlabel\":{\"align\":\"left\"},\"paper_bgcolor\":\"white\",\"plot_bgcolor\":\"#E5ECF6\",\"polar\":{\"bgcolor\":\"#E5ECF6\",\"angularaxis\":{\"gridcolor\":\"white\",\"linecolor\":\"white\",\"ticks\":\"\"},\"radialaxis\":{\"gridcolor\":\"white\",\"linecolor\":\"white\",\"ticks\":\"\"}},\"ternary\":{\"bgcolor\":\"#E5ECF6\",\"aaxis\":{\"gridcolor\":\"white\",\"linecolor\":\"white\",\"ticks\":\"\"},\"baxis\":{\"gridcolor\":\"white\",\"linecolor\":\"white\",\"ticks\":\"\"},\"caxis\":{\"gridcolor\":\"white\",\"linecolor\":\"white\",\"ticks\":\"\"}},\"coloraxis\":{\"colorbar\":{\"outlinewidth\":0,\"ticks\":\"\"}},\"colorscale\":{\"sequential\":[[0.0,\"#0d0887\"],[0.1111111111111111,\"#46039f\"],[0.2222222222222222,\"#7201a8\"],[0.3333333333333333,\"#9c179e\"],[0.4444444444444444,\"#bd3786\"],[0.5555555555555556,\"#d8576b\"],[0.6666666666666666,\"#ed7953\"],[0.7777777777777778,\"#fb9f3a\"],[0.8888888888888888,\"#fdca26\"],[1.0,\"#f0f921\"]],\"sequentialminus\":[[0.0,\"#0d0887\"],[0.1111111111111111,\"#46039f\"],[0.2222222222222222,\"#7201a8\"],[0.3333333333333333,\"#9c179e\"],[0.4444444444444444,\"#bd3786\"],[0.5555555555555556,\"#d8576b\"],[0.6666666666666666,\"#ed7953\"],[0.7777777777777778,\"#fb9f3a\"],[0.8888888888888888,\"#fdca26\"],[1.0,\"#f0f921\"]],\"diverging\":[[0,\"#8e0152\"],[0.1,\"#c51b7d\"],[0.2,\"#de77ae\"],[0.3,\"#f1b6da\"],[0.4,\"#fde0ef\"],[0.5,\"#f7f7f7\"],[0.6,\"#e6f5d0\"],[0.7,\"#b8e186\"],[0.8,\"#7fbc41\"],[0.9,\"#4d9221\"],[1,\"#276419\"]]},\"xaxis\":{\"gridcolor\":\"white\",\"linecolor\":\"white\",\"ticks\":\"\",\"title\":{\"standoff\":15},\"zerolinecolor\":\"white\",\"automargin\":true,\"zerolinewidth\":2},\"yaxis\":{\"gridcolor\":\"white\",\"linecolor\":\"white\",\"ticks\":\"\",\"title\":{\"standoff\":15},\"zerolinecolor\":\"white\",\"automargin\":true,\"zerolinewidth\":2},\"scene\":{\"xaxis\":{\"backgroundcolor\":\"#E5ECF6\",\"gridcolor\":\"white\",\"linecolor\":\"white\",\"showbackground\":true,\"ticks\":\"\",\"zerolinecolor\":\"white\",\"gridwidth\":2},\"yaxis\":{\"backgroundcolor\":\"#E5ECF6\",\"gridcolor\":\"white\",\"linecolor\":\"white\",\"showbackground\":true,\"ticks\":\"\",\"zerolinecolor\":\"white\",\"gridwidth\":2},\"zaxis\":{\"backgroundcolor\":\"#E5ECF6\",\"gridcolor\":\"white\",\"linecolor\":\"white\",\"showbackground\":true,\"ticks\":\"\",\"zerolinecolor\":\"white\",\"gridwidth\":2}},\"shapedefaults\":{\"line\":{\"color\":\"#2a3f5f\"}},\"annotationdefaults\":{\"arrowcolor\":\"#2a3f5f\",\"arrowhead\":0,\"arrowwidth\":1},\"geo\":{\"bgcolor\":\"white\",\"landcolor\":\"#E5ECF6\",\"subunitcolor\":\"white\",\"showland\":true,\"showlakes\":true,\"lakecolor\":\"white\"},\"title\":{\"x\":0.05},\"mapbox\":{\"style\":\"light\"}}},\"xaxis\":{\"tickmode\":\"array\",\"tickvals\":[1,2,3,4,5,6,7,8,9],\"ticktext\":[\"AROU\",\"VAL\",\"DOM\",\"CNC\",\"IMAG\",\"FAM\",\"AOA\",\"SIZE\",\"GEND\"]}},                        {\"responsive\": true}                    ).then(function(){\n",
       "                            \n",
       "var gd = document.getElementById('6eed66f3-aa88-41c4-b63e-32ce3e05e32c');\n",
       "var x = new MutationObserver(function (mutations, observer) {{\n",
       "        var display = window.getComputedStyle(gd).display;\n",
       "        if (!display || display === 'none') {{\n",
       "            console.log([gd, 'removed!']);\n",
       "            Plotly.purge(gd);\n",
       "            observer.disconnect();\n",
       "        }}\n",
       "}});\n",
       "\n",
       "// Listen for the removal of the full notebook cells\n",
       "var notebookContainer = gd.closest('#notebook-container');\n",
       "if (notebookContainer) {{\n",
       "    x.observe(notebookContainer, {childList: true});\n",
       "}}\n",
       "\n",
       "// Listen for the clearing of the current output cell\n",
       "var outputEl = gd.closest('.output');\n",
       "if (outputEl) {{\n",
       "    x.observe(outputEl, {childList: true});\n",
       "}}\n",
       "\n",
       "                        })                };                });            </script>        </div>"
      ]
     },
     "metadata": {},
     "output_type": "display_data"
    }
   ],
   "source": [
    "viz_GlasgowR(words=['dog', 'cat'], dataframe=df)"
   ]
  },
  {
   "cell_type": "markdown",
   "metadata": {},
   "source": [
    "> Experimenting some words visualization:"
   ]
  },
  {
   "cell_type": "code",
   "execution_count": 118,
   "metadata": {
    "ExecuteTime": {
     "end_time": "2022-04-28T23:16:20.025112Z",
     "start_time": "2022-04-28T23:16:19.959022Z"
    }
   },
   "outputs": [
    {
     "data": {
      "application/vnd.plotly.v1+json": {
       "config": {
        "plotlyServerURL": "https://plot.ly"
       },
       "data": [
        {
         "line": {
          "color": "#636EFA"
         },
         "mode": "lines",
         "name": "dog",
         "showlegend": true,
         "type": "scatter",
         "x": [
          1,
          2,
          3,
          4,
          5,
          6,
          7,
          8,
          9
         ],
         "y": [
          6.147,
          7.067,
          6.242,
          6.833,
          6.889,
          6.84,
          1.735,
          3.273,
          4.606
         ]
        },
        {
         "fill": "toself",
         "fillcolor": "rgba(99, 110, 250, 0.2)",
         "hoverinfo": "skip",
         "line": {
          "color": "rgba(255,255,255,0)"
         },
         "showlegend": false,
         "type": "scatter",
         "x": [
          1,
          2,
          3,
          4,
          5,
          6,
          7,
          8,
          9,
          9,
          8,
          7,
          6,
          5,
          4,
          3,
          2,
          1
         ],
         "y": [
          8.332,
          8.304,
          8.035,
          7.2860000000000005,
          7.203,
          7.303,
          2.391,
          4.511,
          9.212,
          0,
          2.035,
          1.0790000000000002,
          6.377,
          6.575,
          6.38,
          4.449,
          5.83,
          3.962
         ]
        }
       ],
       "layout": {
        "autosize": true,
        "template": {
         "data": {
          "bar": [
           {
            "error_x": {
             "color": "#2a3f5f"
            },
            "error_y": {
             "color": "#2a3f5f"
            },
            "marker": {
             "line": {
              "color": "#E5ECF6",
              "width": 0.5
             },
             "pattern": {
              "fillmode": "overlay",
              "size": 10,
              "solidity": 0.2
             }
            },
            "type": "bar"
           }
          ],
          "barpolar": [
           {
            "marker": {
             "line": {
              "color": "#E5ECF6",
              "width": 0.5
             },
             "pattern": {
              "fillmode": "overlay",
              "size": 10,
              "solidity": 0.2
             }
            },
            "type": "barpolar"
           }
          ],
          "carpet": [
           {
            "aaxis": {
             "endlinecolor": "#2a3f5f",
             "gridcolor": "white",
             "linecolor": "white",
             "minorgridcolor": "white",
             "startlinecolor": "#2a3f5f"
            },
            "baxis": {
             "endlinecolor": "#2a3f5f",
             "gridcolor": "white",
             "linecolor": "white",
             "minorgridcolor": "white",
             "startlinecolor": "#2a3f5f"
            },
            "type": "carpet"
           }
          ],
          "choropleth": [
           {
            "colorbar": {
             "outlinewidth": 0,
             "ticks": ""
            },
            "type": "choropleth"
           }
          ],
          "contour": [
           {
            "colorbar": {
             "outlinewidth": 0,
             "ticks": ""
            },
            "colorscale": [
             [
              0,
              "#0d0887"
             ],
             [
              0.1111111111111111,
              "#46039f"
             ],
             [
              0.2222222222222222,
              "#7201a8"
             ],
             [
              0.3333333333333333,
              "#9c179e"
             ],
             [
              0.4444444444444444,
              "#bd3786"
             ],
             [
              0.5555555555555556,
              "#d8576b"
             ],
             [
              0.6666666666666666,
              "#ed7953"
             ],
             [
              0.7777777777777778,
              "#fb9f3a"
             ],
             [
              0.8888888888888888,
              "#fdca26"
             ],
             [
              1,
              "#f0f921"
             ]
            ],
            "type": "contour"
           }
          ],
          "contourcarpet": [
           {
            "colorbar": {
             "outlinewidth": 0,
             "ticks": ""
            },
            "type": "contourcarpet"
           }
          ],
          "heatmap": [
           {
            "colorbar": {
             "outlinewidth": 0,
             "ticks": ""
            },
            "colorscale": [
             [
              0,
              "#0d0887"
             ],
             [
              0.1111111111111111,
              "#46039f"
             ],
             [
              0.2222222222222222,
              "#7201a8"
             ],
             [
              0.3333333333333333,
              "#9c179e"
             ],
             [
              0.4444444444444444,
              "#bd3786"
             ],
             [
              0.5555555555555556,
              "#d8576b"
             ],
             [
              0.6666666666666666,
              "#ed7953"
             ],
             [
              0.7777777777777778,
              "#fb9f3a"
             ],
             [
              0.8888888888888888,
              "#fdca26"
             ],
             [
              1,
              "#f0f921"
             ]
            ],
            "type": "heatmap"
           }
          ],
          "heatmapgl": [
           {
            "colorbar": {
             "outlinewidth": 0,
             "ticks": ""
            },
            "colorscale": [
             [
              0,
              "#0d0887"
             ],
             [
              0.1111111111111111,
              "#46039f"
             ],
             [
              0.2222222222222222,
              "#7201a8"
             ],
             [
              0.3333333333333333,
              "#9c179e"
             ],
             [
              0.4444444444444444,
              "#bd3786"
             ],
             [
              0.5555555555555556,
              "#d8576b"
             ],
             [
              0.6666666666666666,
              "#ed7953"
             ],
             [
              0.7777777777777778,
              "#fb9f3a"
             ],
             [
              0.8888888888888888,
              "#fdca26"
             ],
             [
              1,
              "#f0f921"
             ]
            ],
            "type": "heatmapgl"
           }
          ],
          "histogram": [
           {
            "marker": {
             "pattern": {
              "fillmode": "overlay",
              "size": 10,
              "solidity": 0.2
             }
            },
            "type": "histogram"
           }
          ],
          "histogram2d": [
           {
            "colorbar": {
             "outlinewidth": 0,
             "ticks": ""
            },
            "colorscale": [
             [
              0,
              "#0d0887"
             ],
             [
              0.1111111111111111,
              "#46039f"
             ],
             [
              0.2222222222222222,
              "#7201a8"
             ],
             [
              0.3333333333333333,
              "#9c179e"
             ],
             [
              0.4444444444444444,
              "#bd3786"
             ],
             [
              0.5555555555555556,
              "#d8576b"
             ],
             [
              0.6666666666666666,
              "#ed7953"
             ],
             [
              0.7777777777777778,
              "#fb9f3a"
             ],
             [
              0.8888888888888888,
              "#fdca26"
             ],
             [
              1,
              "#f0f921"
             ]
            ],
            "type": "histogram2d"
           }
          ],
          "histogram2dcontour": [
           {
            "colorbar": {
             "outlinewidth": 0,
             "ticks": ""
            },
            "colorscale": [
             [
              0,
              "#0d0887"
             ],
             [
              0.1111111111111111,
              "#46039f"
             ],
             [
              0.2222222222222222,
              "#7201a8"
             ],
             [
              0.3333333333333333,
              "#9c179e"
             ],
             [
              0.4444444444444444,
              "#bd3786"
             ],
             [
              0.5555555555555556,
              "#d8576b"
             ],
             [
              0.6666666666666666,
              "#ed7953"
             ],
             [
              0.7777777777777778,
              "#fb9f3a"
             ],
             [
              0.8888888888888888,
              "#fdca26"
             ],
             [
              1,
              "#f0f921"
             ]
            ],
            "type": "histogram2dcontour"
           }
          ],
          "mesh3d": [
           {
            "colorbar": {
             "outlinewidth": 0,
             "ticks": ""
            },
            "type": "mesh3d"
           }
          ],
          "parcoords": [
           {
            "line": {
             "colorbar": {
              "outlinewidth": 0,
              "ticks": ""
             }
            },
            "type": "parcoords"
           }
          ],
          "pie": [
           {
            "automargin": true,
            "type": "pie"
           }
          ],
          "scatter": [
           {
            "fillpattern": {
             "fillmode": "overlay",
             "size": 10,
             "solidity": 0.2
            },
            "type": "scatter"
           }
          ],
          "scatter3d": [
           {
            "line": {
             "colorbar": {
              "outlinewidth": 0,
              "ticks": ""
             }
            },
            "marker": {
             "colorbar": {
              "outlinewidth": 0,
              "ticks": ""
             }
            },
            "type": "scatter3d"
           }
          ],
          "scattercarpet": [
           {
            "marker": {
             "colorbar": {
              "outlinewidth": 0,
              "ticks": ""
             }
            },
            "type": "scattercarpet"
           }
          ],
          "scattergeo": [
           {
            "marker": {
             "colorbar": {
              "outlinewidth": 0,
              "ticks": ""
             }
            },
            "type": "scattergeo"
           }
          ],
          "scattergl": [
           {
            "marker": {
             "colorbar": {
              "outlinewidth": 0,
              "ticks": ""
             }
            },
            "type": "scattergl"
           }
          ],
          "scattermapbox": [
           {
            "marker": {
             "colorbar": {
              "outlinewidth": 0,
              "ticks": ""
             }
            },
            "type": "scattermapbox"
           }
          ],
          "scatterpolar": [
           {
            "marker": {
             "colorbar": {
              "outlinewidth": 0,
              "ticks": ""
             }
            },
            "type": "scatterpolar"
           }
          ],
          "scatterpolargl": [
           {
            "marker": {
             "colorbar": {
              "outlinewidth": 0,
              "ticks": ""
             }
            },
            "type": "scatterpolargl"
           }
          ],
          "scatterternary": [
           {
            "marker": {
             "colorbar": {
              "outlinewidth": 0,
              "ticks": ""
             }
            },
            "type": "scatterternary"
           }
          ],
          "surface": [
           {
            "colorbar": {
             "outlinewidth": 0,
             "ticks": ""
            },
            "colorscale": [
             [
              0,
              "#0d0887"
             ],
             [
              0.1111111111111111,
              "#46039f"
             ],
             [
              0.2222222222222222,
              "#7201a8"
             ],
             [
              0.3333333333333333,
              "#9c179e"
             ],
             [
              0.4444444444444444,
              "#bd3786"
             ],
             [
              0.5555555555555556,
              "#d8576b"
             ],
             [
              0.6666666666666666,
              "#ed7953"
             ],
             [
              0.7777777777777778,
              "#fb9f3a"
             ],
             [
              0.8888888888888888,
              "#fdca26"
             ],
             [
              1,
              "#f0f921"
             ]
            ],
            "type": "surface"
           }
          ],
          "table": [
           {
            "cells": {
             "fill": {
              "color": "#EBF0F8"
             },
             "line": {
              "color": "white"
             }
            },
            "header": {
             "fill": {
              "color": "#C8D4E3"
             },
             "line": {
              "color": "white"
             }
            },
            "type": "table"
           }
          ]
         },
         "layout": {
          "annotationdefaults": {
           "arrowcolor": "#2a3f5f",
           "arrowhead": 0,
           "arrowwidth": 1
          },
          "autotypenumbers": "strict",
          "coloraxis": {
           "colorbar": {
            "outlinewidth": 0,
            "ticks": ""
           }
          },
          "colorscale": {
           "diverging": [
            [
             0,
             "#8e0152"
            ],
            [
             0.1,
             "#c51b7d"
            ],
            [
             0.2,
             "#de77ae"
            ],
            [
             0.3,
             "#f1b6da"
            ],
            [
             0.4,
             "#fde0ef"
            ],
            [
             0.5,
             "#f7f7f7"
            ],
            [
             0.6,
             "#e6f5d0"
            ],
            [
             0.7,
             "#b8e186"
            ],
            [
             0.8,
             "#7fbc41"
            ],
            [
             0.9,
             "#4d9221"
            ],
            [
             1,
             "#276419"
            ]
           ],
           "sequential": [
            [
             0,
             "#0d0887"
            ],
            [
             0.1111111111111111,
             "#46039f"
            ],
            [
             0.2222222222222222,
             "#7201a8"
            ],
            [
             0.3333333333333333,
             "#9c179e"
            ],
            [
             0.4444444444444444,
             "#bd3786"
            ],
            [
             0.5555555555555556,
             "#d8576b"
            ],
            [
             0.6666666666666666,
             "#ed7953"
            ],
            [
             0.7777777777777778,
             "#fb9f3a"
            ],
            [
             0.8888888888888888,
             "#fdca26"
            ],
            [
             1,
             "#f0f921"
            ]
           ],
           "sequentialminus": [
            [
             0,
             "#0d0887"
            ],
            [
             0.1111111111111111,
             "#46039f"
            ],
            [
             0.2222222222222222,
             "#7201a8"
            ],
            [
             0.3333333333333333,
             "#9c179e"
            ],
            [
             0.4444444444444444,
             "#bd3786"
            ],
            [
             0.5555555555555556,
             "#d8576b"
            ],
            [
             0.6666666666666666,
             "#ed7953"
            ],
            [
             0.7777777777777778,
             "#fb9f3a"
            ],
            [
             0.8888888888888888,
             "#fdca26"
            ],
            [
             1,
             "#f0f921"
            ]
           ]
          },
          "colorway": [
           "#636efa",
           "#EF553B",
           "#00cc96",
           "#ab63fa",
           "#FFA15A",
           "#19d3f3",
           "#FF6692",
           "#B6E880",
           "#FF97FF",
           "#FECB52"
          ],
          "font": {
           "color": "#2a3f5f"
          },
          "geo": {
           "bgcolor": "white",
           "lakecolor": "white",
           "landcolor": "#E5ECF6",
           "showlakes": true,
           "showland": true,
           "subunitcolor": "white"
          },
          "hoverlabel": {
           "align": "left"
          },
          "hovermode": "closest",
          "mapbox": {
           "style": "light"
          },
          "paper_bgcolor": "white",
          "plot_bgcolor": "#E5ECF6",
          "polar": {
           "angularaxis": {
            "gridcolor": "white",
            "linecolor": "white",
            "ticks": ""
           },
           "bgcolor": "#E5ECF6",
           "radialaxis": {
            "gridcolor": "white",
            "linecolor": "white",
            "ticks": ""
           }
          },
          "scene": {
           "xaxis": {
            "backgroundcolor": "#E5ECF6",
            "gridcolor": "white",
            "gridwidth": 2,
            "linecolor": "white",
            "showbackground": true,
            "ticks": "",
            "zerolinecolor": "white"
           },
           "yaxis": {
            "backgroundcolor": "#E5ECF6",
            "gridcolor": "white",
            "gridwidth": 2,
            "linecolor": "white",
            "showbackground": true,
            "ticks": "",
            "zerolinecolor": "white"
           },
           "zaxis": {
            "backgroundcolor": "#E5ECF6",
            "gridcolor": "white",
            "gridwidth": 2,
            "linecolor": "white",
            "showbackground": true,
            "ticks": "",
            "zerolinecolor": "white"
           }
          },
          "shapedefaults": {
           "line": {
            "color": "#2a3f5f"
           }
          },
          "ternary": {
           "aaxis": {
            "gridcolor": "white",
            "linecolor": "white",
            "ticks": ""
           },
           "baxis": {
            "gridcolor": "white",
            "linecolor": "white",
            "ticks": ""
           },
           "bgcolor": "#E5ECF6",
           "caxis": {
            "gridcolor": "white",
            "linecolor": "white",
            "ticks": ""
           }
          },
          "title": {
           "x": 0.05
          },
          "xaxis": {
           "automargin": true,
           "gridcolor": "white",
           "linecolor": "white",
           "ticks": "",
           "title": {
            "standoff": 15
           },
           "zerolinecolor": "white",
           "zerolinewidth": 2
          },
          "yaxis": {
           "automargin": true,
           "gridcolor": "white",
           "linecolor": "white",
           "ticks": "",
           "title": {
            "standoff": 15
           },
           "zerolinecolor": "white",
           "zerolinewidth": 2
          }
         }
        },
        "xaxis": {
         "autorange": true,
         "range": [
          0.5284155674971502,
          9.47158443250285
         ],
         "tickmode": "array",
         "ticktext": [
          "AROU",
          "VAL",
          "DOM",
          "CNC",
          "IMAG",
          "FAM",
          "AOA",
          "SIZE",
          "GEND"
         ],
         "tickvals": [
          1,
          2,
          3,
          4,
          5,
          6,
          7,
          8,
          9
         ],
         "type": "linear"
        },
        "yaxis": {
         "autorange": true,
         "range": [
          -0.7602135922330098,
          9.97221359223301
         ],
         "type": "linear"
        }
       }
      },
      "image/png": "[encoded data removed]",
      "text/html": [
       "<div>                            <div id=\"d6941b3f-35b7-4c81-ac48-751f7901a3c6\" class=\"plotly-graph-div\" style=\"height:525px; width:100%;\"></div>            <script type=\"text/javascript\">                require([\"plotly\"], function(Plotly) {                    window.PLOTLYENV=window.PLOTLYENV || {};                                    if (document.getElementById(\"d6941b3f-35b7-4c81-ac48-751f7901a3c6\")) {                    Plotly.newPlot(                        \"d6941b3f-35b7-4c81-ac48-751f7901a3c6\",                        [{\"line\":{\"color\":\"#636EFA\"},\"mode\":\"lines\",\"name\":\"dog\",\"showlegend\":true,\"x\":[1,2,3,4,5,6,7,8,9],\"y\":[6.147,7.067,6.242,6.833,6.889,6.84,1.735,3.273,4.606],\"type\":\"scatter\"},{\"fill\":\"toself\",\"fillcolor\":\"rgba(99, 110, 250, 0.2)\",\"hoverinfo\":\"skip\",\"line\":{\"color\":\"rgba(255,255,255,0)\"},\"showlegend\":false,\"x\":[1,2,3,4,5,6,7,8,9,9,8,7,6,5,4,3,2,1],\"y\":[8.332,8.304,8.035,7.2860000000000005,7.203,7.303,2.391,4.511,9.212,0.0,2.035,1.0790000000000002,6.377,6.575,6.38,4.449,5.83,3.962],\"type\":\"scatter\"}],                        {\"template\":{\"data\":{\"histogram2dcontour\":[{\"type\":\"histogram2dcontour\",\"colorbar\":{\"outlinewidth\":0,\"ticks\":\"\"},\"colorscale\":[[0.0,\"#0d0887\"],[0.1111111111111111,\"#46039f\"],[0.2222222222222222,\"#7201a8\"],[0.3333333333333333,\"#9c179e\"],[0.4444444444444444,\"#bd3786\"],[0.5555555555555556,\"#d8576b\"],[0.6666666666666666,\"#ed7953\"],[0.7777777777777778,\"#fb9f3a\"],[0.8888888888888888,\"#fdca26\"],[1.0,\"#f0f921\"]]}],\"choropleth\":[{\"type\":\"choropleth\",\"colorbar\":{\"outlinewidth\":0,\"ticks\":\"\"}}],\"histogram2d\":[{\"type\":\"histogram2d\",\"colorbar\":{\"outlinewidth\":0,\"ticks\":\"\"},\"colorscale\":[[0.0,\"#0d0887\"],[0.1111111111111111,\"#46039f\"],[0.2222222222222222,\"#7201a8\"],[0.3333333333333333,\"#9c179e\"],[0.4444444444444444,\"#bd3786\"],[0.5555555555555556,\"#d8576b\"],[0.6666666666666666,\"#ed7953\"],[0.7777777777777778,\"#fb9f3a\"],[0.8888888888888888,\"#fdca26\"],[1.0,\"#f0f921\"]]}],\"heatmap\":[{\"type\":\"heatmap\",\"colorbar\":{\"outlinewidth\":0,\"ticks\":\"\"},\"colorscale\":[[0.0,\"#0d0887\"],[0.1111111111111111,\"#46039f\"],[0.2222222222222222,\"#7201a8\"],[0.3333333333333333,\"#9c179e\"],[0.4444444444444444,\"#bd3786\"],[0.5555555555555556,\"#d8576b\"],[0.6666666666666666,\"#ed7953\"],[0.7777777777777778,\"#fb9f3a\"],[0.8888888888888888,\"#fdca26\"],[1.0,\"#f0f921\"]]}],\"heatmapgl\":[{\"type\":\"heatmapgl\",\"colorbar\":{\"outlinewidth\":0,\"ticks\":\"\"},\"colorscale\":[[0.0,\"#0d0887\"],[0.1111111111111111,\"#46039f\"],[0.2222222222222222,\"#7201a8\"],[0.3333333333333333,\"#9c179e\"],[0.4444444444444444,\"#bd3786\"],[0.5555555555555556,\"#d8576b\"],[0.6666666666666666,\"#ed7953\"],[0.7777777777777778,\"#fb9f3a\"],[0.8888888888888888,\"#fdca26\"],[1.0,\"#f0f921\"]]}],\"contourcarpet\":[{\"type\":\"contourcarpet\",\"colorbar\":{\"outlinewidth\":0,\"ticks\":\"\"}}],\"contour\":[{\"type\":\"contour\",\"colorbar\":{\"outlinewidth\":0,\"ticks\":\"\"},\"colorscale\":[[0.0,\"#0d0887\"],[0.1111111111111111,\"#46039f\"],[0.2222222222222222,\"#7201a8\"],[0.3333333333333333,\"#9c179e\"],[0.4444444444444444,\"#bd3786\"],[0.5555555555555556,\"#d8576b\"],[0.6666666666666666,\"#ed7953\"],[0.7777777777777778,\"#fb9f3a\"],[0.8888888888888888,\"#fdca26\"],[1.0,\"#f0f921\"]]}],\"surface\":[{\"type\":\"surface\",\"colorbar\":{\"outlinewidth\":0,\"ticks\":\"\"},\"colorscale\":[[0.0,\"#0d0887\"],[0.1111111111111111,\"#46039f\"],[0.2222222222222222,\"#7201a8\"],[0.3333333333333333,\"#9c179e\"],[0.4444444444444444,\"#bd3786\"],[0.5555555555555556,\"#d8576b\"],[0.6666666666666666,\"#ed7953\"],[0.7777777777777778,\"#fb9f3a\"],[0.8888888888888888,\"#fdca26\"],[1.0,\"#f0f921\"]]}],\"mesh3d\":[{\"type\":\"mesh3d\",\"colorbar\":{\"outlinewidth\":0,\"ticks\":\"\"}}],\"scatter\":[{\"fillpattern\":{\"fillmode\":\"overlay\",\"size\":10,\"solidity\":0.2},\"type\":\"scatter\"}],\"parcoords\":[{\"type\":\"parcoords\",\"line\":{\"colorbar\":{\"outlinewidth\":0,\"ticks\":\"\"}}}],\"scatterpolargl\":[{\"type\":\"scatterpolargl\",\"marker\":{\"colorbar\":{\"outlinewidth\":0,\"ticks\":\"\"}}}],\"bar\":[{\"error_x\":{\"color\":\"#2a3f5f\"},\"error_y\":{\"color\":\"#2a3f5f\"},\"marker\":{\"line\":{\"color\":\"#E5ECF6\",\"width\":0.5},\"pattern\":{\"fillmode\":\"overlay\",\"size\":10,\"solidity\":0.2}},\"type\":\"bar\"}],\"scattergeo\":[{\"type\":\"scattergeo\",\"marker\":{\"colorbar\":{\"outlinewidth\":0,\"ticks\":\"\"}}}],\"scatterpolar\":[{\"type\":\"scatterpolar\",\"marker\":{\"colorbar\":{\"outlinewidth\":0,\"ticks\":\"\"}}}],\"histogram\":[{\"marker\":{\"pattern\":{\"fillmode\":\"overlay\",\"size\":10,\"solidity\":0.2}},\"type\":\"histogram\"}],\"scattergl\":[{\"type\":\"scattergl\",\"marker\":{\"colorbar\":{\"outlinewidth\":0,\"ticks\":\"\"}}}],\"scatter3d\":[{\"type\":\"scatter3d\",\"line\":{\"colorbar\":{\"outlinewidth\":0,\"ticks\":\"\"}},\"marker\":{\"colorbar\":{\"outlinewidth\":0,\"ticks\":\"\"}}}],\"scattermapbox\":[{\"type\":\"scattermapbox\",\"marker\":{\"colorbar\":{\"outlinewidth\":0,\"ticks\":\"\"}}}],\"scatterternary\":[{\"type\":\"scatterternary\",\"marker\":{\"colorbar\":{\"outlinewidth\":0,\"ticks\":\"\"}}}],\"scattercarpet\":[{\"type\":\"scattercarpet\",\"marker\":{\"colorbar\":{\"outlinewidth\":0,\"ticks\":\"\"}}}],\"carpet\":[{\"aaxis\":{\"endlinecolor\":\"#2a3f5f\",\"gridcolor\":\"white\",\"linecolor\":\"white\",\"minorgridcolor\":\"white\",\"startlinecolor\":\"#2a3f5f\"},\"baxis\":{\"endlinecolor\":\"#2a3f5f\",\"gridcolor\":\"white\",\"linecolor\":\"white\",\"minorgridcolor\":\"white\",\"startlinecolor\":\"#2a3f5f\"},\"type\":\"carpet\"}],\"table\":[{\"cells\":{\"fill\":{\"color\":\"#EBF0F8\"},\"line\":{\"color\":\"white\"}},\"header\":{\"fill\":{\"color\":\"#C8D4E3\"},\"line\":{\"color\":\"white\"}},\"type\":\"table\"}],\"barpolar\":[{\"marker\":{\"line\":{\"color\":\"#E5ECF6\",\"width\":0.5},\"pattern\":{\"fillmode\":\"overlay\",\"size\":10,\"solidity\":0.2}},\"type\":\"barpolar\"}],\"pie\":[{\"automargin\":true,\"type\":\"pie\"}]},\"layout\":{\"autotypenumbers\":\"strict\",\"colorway\":[\"#636efa\",\"#EF553B\",\"#00cc96\",\"#ab63fa\",\"#FFA15A\",\"#19d3f3\",\"#FF6692\",\"#B6E880\",\"#FF97FF\",\"#FECB52\"],\"font\":{\"color\":\"#2a3f5f\"},\"hovermode\":\"closest\",\"hoverlabel\":{\"align\":\"left\"},\"paper_bgcolor\":\"white\",\"plot_bgcolor\":\"#E5ECF6\",\"polar\":{\"bgcolor\":\"#E5ECF6\",\"angularaxis\":{\"gridcolor\":\"white\",\"linecolor\":\"white\",\"ticks\":\"\"},\"radialaxis\":{\"gridcolor\":\"white\",\"linecolor\":\"white\",\"ticks\":\"\"}},\"ternary\":{\"bgcolor\":\"#E5ECF6\",\"aaxis\":{\"gridcolor\":\"white\",\"linecolor\":\"white\",\"ticks\":\"\"},\"baxis\":{\"gridcolor\":\"white\",\"linecolor\":\"white\",\"ticks\":\"\"},\"caxis\":{\"gridcolor\":\"white\",\"linecolor\":\"white\",\"ticks\":\"\"}},\"coloraxis\":{\"colorbar\":{\"outlinewidth\":0,\"ticks\":\"\"}},\"colorscale\":{\"sequential\":[[0.0,\"#0d0887\"],[0.1111111111111111,\"#46039f\"],[0.2222222222222222,\"#7201a8\"],[0.3333333333333333,\"#9c179e\"],[0.4444444444444444,\"#bd3786\"],[0.5555555555555556,\"#d8576b\"],[0.6666666666666666,\"#ed7953\"],[0.7777777777777778,\"#fb9f3a\"],[0.8888888888888888,\"#fdca26\"],[1.0,\"#f0f921\"]],\"sequentialminus\":[[0.0,\"#0d0887\"],[0.1111111111111111,\"#46039f\"],[0.2222222222222222,\"#7201a8\"],[0.3333333333333333,\"#9c179e\"],[0.4444444444444444,\"#bd3786\"],[0.5555555555555556,\"#d8576b\"],[0.6666666666666666,\"#ed7953\"],[0.7777777777777778,\"#fb9f3a\"],[0.8888888888888888,\"#fdca26\"],[1.0,\"#f0f921\"]],\"diverging\":[[0,\"#8e0152\"],[0.1,\"#c51b7d\"],[0.2,\"#de77ae\"],[0.3,\"#f1b6da\"],[0.4,\"#fde0ef\"],[0.5,\"#f7f7f7\"],[0.6,\"#e6f5d0\"],[0.7,\"#b8e186\"],[0.8,\"#7fbc41\"],[0.9,\"#4d9221\"],[1,\"#276419\"]]},\"xaxis\":{\"gridcolor\":\"white\",\"linecolor\":\"white\",\"ticks\":\"\",\"title\":{\"standoff\":15},\"zerolinecolor\":\"white\",\"automargin\":true,\"zerolinewidth\":2},\"yaxis\":{\"gridcolor\":\"white\",\"linecolor\":\"white\",\"ticks\":\"\",\"title\":{\"standoff\":15},\"zerolinecolor\":\"white\",\"automargin\":true,\"zerolinewidth\":2},\"scene\":{\"xaxis\":{\"backgroundcolor\":\"#E5ECF6\",\"gridcolor\":\"white\",\"linecolor\":\"white\",\"showbackground\":true,\"ticks\":\"\",\"zerolinecolor\":\"white\",\"gridwidth\":2},\"yaxis\":{\"backgroundcolor\":\"#E5ECF6\",\"gridcolor\":\"white\",\"linecolor\":\"white\",\"showbackground\":true,\"ticks\":\"\",\"zerolinecolor\":\"white\",\"gridwidth\":2},\"zaxis\":{\"backgroundcolor\":\"#E5ECF6\",\"gridcolor\":\"white\",\"linecolor\":\"white\",\"showbackground\":true,\"ticks\":\"\",\"zerolinecolor\":\"white\",\"gridwidth\":2}},\"shapedefaults\":{\"line\":{\"color\":\"#2a3f5f\"}},\"annotationdefaults\":{\"arrowcolor\":\"#2a3f5f\",\"arrowhead\":0,\"arrowwidth\":1},\"geo\":{\"bgcolor\":\"white\",\"landcolor\":\"#E5ECF6\",\"subunitcolor\":\"white\",\"showland\":true,\"showlakes\":true,\"lakecolor\":\"white\"},\"title\":{\"x\":0.05},\"mapbox\":{\"style\":\"light\"}}},\"xaxis\":{\"tickmode\":\"array\",\"tickvals\":[1,2,3,4,5,6,7,8,9],\"ticktext\":[\"AROU\",\"VAL\",\"DOM\",\"CNC\",\"IMAG\",\"FAM\",\"AOA\",\"SIZE\",\"GEND\"]}},                        {\"responsive\": true}                    ).then(function(){\n",
       "                            \n",
       "var gd = document.getElementById('d6941b3f-35b7-4c81-ac48-751f7901a3c6');\n",
       "var x = new MutationObserver(function (mutations, observer) {{\n",
       "        var display = window.getComputedStyle(gd).display;\n",
       "        if (!display || display === 'none') {{\n",
       "            console.log([gd, 'removed!']);\n",
       "            Plotly.purge(gd);\n",
       "            observer.disconnect();\n",
       "        }}\n",
       "}});\n",
       "\n",
       "// Listen for the removal of the full notebook cells\n",
       "var notebookContainer = gd.closest('#notebook-container');\n",
       "if (notebookContainer) {{\n",
       "    x.observe(notebookContainer, {childList: true});\n",
       "}}\n",
       "\n",
       "// Listen for the clearing of the current output cell\n",
       "var outputEl = gd.closest('.output');\n",
       "if (outputEl) {{\n",
       "    x.observe(outputEl, {childList: true});\n",
       "}}\n",
       "\n",
       "                        })                };                });            </script>        </div>"
      ]
     },
     "metadata": {},
     "output_type": "display_data"
    }
   ],
   "source": [
    "fig_dog = viz_GlasgowR(['dog'], df)\n",
    "fig_dog"
   ]
  },
  {
   "cell_type": "markdown",
   "metadata": {},
   "source": [
    "> EBNS suggested the words \"snake\" e \"dog\".  \n",
    "> How does it compare to known symbols, i.e., words whose relationships are already known?"
   ]
  },
  {
   "cell_type": "code",
   "execution_count": 121,
   "metadata": {},
   "outputs": [
    {
     "data": {
      "text/html": [
       "<div>\n",
       "<style scoped>\n",
       "    .dataframe tbody tr th:only-of-type {\n",
       "        vertical-align: middle;\n",
       "    }\n",
       "\n",
       "    .dataframe tbody tr th {\n",
       "        vertical-align: top;\n",
       "    }\n",
       "\n",
       "    .dataframe thead th {\n",
       "        text-align: right;\n",
       "    }\n",
       "</style>\n",
       "<table border=\"1\" class=\"dataframe\">\n",
       "  <thead>\n",
       "    <tr style=\"text-align: right;\">\n",
       "      <th></th>\n",
       "      <th>AROU_M</th>\n",
       "      <th>AROU_SD</th>\n",
       "      <th>VAL_M</th>\n",
       "      <th>VAL_SD</th>\n",
       "      <th>DOM_M</th>\n",
       "      <th>DOM_SD</th>\n",
       "      <th>CNC_M</th>\n",
       "      <th>CNC_SD</th>\n",
       "      <th>IMAG_M</th>\n",
       "      <th>IMAG_SD</th>\n",
       "      <th>FAM_M</th>\n",
       "      <th>FAM_SD</th>\n",
       "      <th>AOA_M</th>\n",
       "      <th>AOA_SD</th>\n",
       "      <th>SIZE_M</th>\n",
       "      <th>SIZE_SD</th>\n",
       "      <th>GEND_M</th>\n",
       "      <th>GEND_SD</th>\n",
       "    </tr>\n",
       "    <tr>\n",
       "      <th>words</th>\n",
       "      <th></th>\n",
       "      <th></th>\n",
       "      <th></th>\n",
       "      <th></th>\n",
       "      <th></th>\n",
       "      <th></th>\n",
       "      <th></th>\n",
       "      <th></th>\n",
       "      <th></th>\n",
       "      <th></th>\n",
       "      <th></th>\n",
       "      <th></th>\n",
       "      <th></th>\n",
       "      <th></th>\n",
       "      <th></th>\n",
       "      <th></th>\n",
       "      <th></th>\n",
       "      <th></th>\n",
       "    </tr>\n",
       "  </thead>\n",
       "  <tbody>\n",
       "    <tr>\n",
       "      <th>snake</th>\n",
       "      <td>4.909</td>\n",
       "      <td>2.366</td>\n",
       "      <td>3.657</td>\n",
       "      <td>1.620</td>\n",
       "      <td>5.257</td>\n",
       "      <td>2.047</td>\n",
       "      <td>6.714</td>\n",
       "      <td>0.700</td>\n",
       "      <td>6.657</td>\n",
       "      <td>0.630</td>\n",
       "      <td>5.647</td>\n",
       "      <td>1.473</td>\n",
       "      <td>2.529</td>\n",
       "      <td>0.947</td>\n",
       "      <td>3.091</td>\n",
       "      <td>1.621</td>\n",
       "      <td>5.200</td>\n",
       "      <td>1.064</td>\n",
       "    </tr>\n",
       "    <tr>\n",
       "      <th>dog</th>\n",
       "      <td>6.147</td>\n",
       "      <td>2.185</td>\n",
       "      <td>7.067</td>\n",
       "      <td>1.237</td>\n",
       "      <td>6.242</td>\n",
       "      <td>1.793</td>\n",
       "      <td>6.833</td>\n",
       "      <td>0.453</td>\n",
       "      <td>6.889</td>\n",
       "      <td>0.314</td>\n",
       "      <td>6.840</td>\n",
       "      <td>0.463</td>\n",
       "      <td>1.735</td>\n",
       "      <td>0.656</td>\n",
       "      <td>3.273</td>\n",
       "      <td>1.238</td>\n",
       "      <td>4.606</td>\n",
       "      <td>0.983</td>\n",
       "    </tr>\n",
       "  </tbody>\n",
       "</table>\n",
       "</div>"
      ],
      "text/plain": [
       "       AROU_M  AROU_SD  VAL_M  VAL_SD  DOM_M  DOM_SD  CNC_M  CNC_SD  IMAG_M  \\\n",
       "words                                                                         \n",
       "snake   4.909    2.366  3.657   1.620  5.257   2.047  6.714   0.700   6.657   \n",
       "dog     6.147    2.185  7.067   1.237  6.242   1.793  6.833   0.453   6.889   \n",
       "\n",
       "       IMAG_SD  FAM_M  FAM_SD  AOA_M  AOA_SD  SIZE_M  SIZE_SD  GEND_M  GEND_SD  \n",
       "words                                                                           \n",
       "snake    0.630  5.647   1.473  2.529   0.947   3.091    1.621   5.200    1.064  \n",
       "dog      0.314  6.840   0.463  1.735   0.656   3.273    1.238   4.606    0.983  "
      ]
     },
     "execution_count": 121,
     "metadata": {},
     "output_type": "execute_result"
    }
   ],
   "source": [
    "## Showing the interest attributes for the words SNAKE and DOG:\n",
    "df.loc[['snake', 'dog'],interest]"
   ]
  },
  {
   "cell_type": "code",
   "execution_count": 122,
   "metadata": {},
   "outputs": [
    {
     "data": {
      "application/vnd.plotly.v1+json": {
       "config": {
        "plotlyServerURL": "https://plot.ly"
       },
       "data": [
        {
         "line": {
          "color": "#636EFA"
         },
         "mode": "lines",
         "name": "snake",
         "showlegend": true,
         "type": "scatter",
         "x": [
          1,
          2,
          3,
          4,
          5,
          6,
          7,
          8,
          9
         ],
         "y": [
          4.909,
          3.657,
          5.257,
          6.714,
          6.657,
          5.647,
          2.529,
          3.091,
          5.2
         ]
        },
        {
         "fill": "toself",
         "fillcolor": "rgba(99, 110, 250, 0.2)",
         "hoverinfo": "skip",
         "line": {
          "color": "rgba(255,255,255,0)"
         },
         "showlegend": false,
         "type": "scatter",
         "x": [
          1,
          2,
          3,
          4,
          5,
          6,
          7,
          8,
          9,
          9,
          8,
          7,
          6,
          5,
          4,
          3,
          2,
          1
         ],
         "y": [
          7.275,
          5.277,
          7.304,
          7.414000000000001,
          7.287,
          7.12,
          3.476,
          4.712,
          10.4,
          0,
          1.4700000000000002,
          1.5819999999999999,
          4.174,
          6.027,
          6.014,
          3.2099999999999995,
          2.037,
          2.5429999999999997
         ]
        },
        {
         "line": {
          "color": "#EF553B"
         },
         "mode": "lines",
         "name": "dog",
         "showlegend": true,
         "type": "scatter",
         "x": [
          1,
          2,
          3,
          4,
          5,
          6,
          7,
          8,
          9
         ],
         "y": [
          6.147,
          7.067,
          6.242,
          6.833,
          6.889,
          6.84,
          1.735,
          3.273,
          4.606
         ]
        },
        {
         "fill": "toself",
         "fillcolor": "rgba(239, 85, 59, 0.2)",
         "hoverinfo": "skip",
         "line": {
          "color": "rgba(255,255,255,0)"
         },
         "showlegend": false,
         "type": "scatter",
         "x": [
          1,
          2,
          3,
          4,
          5,
          6,
          7,
          8,
          9,
          9,
          8,
          7,
          6,
          5,
          4,
          3,
          2,
          1
         ],
         "y": [
          8.332,
          8.304,
          8.035,
          7.2860000000000005,
          7.203,
          7.303,
          2.391,
          4.511,
          9.212,
          0,
          2.035,
          1.0790000000000002,
          6.377,
          6.575,
          6.38,
          4.449,
          5.83,
          3.962
         ]
        }
       ],
       "layout": {
        "autosize": true,
        "template": {
         "data": {
          "bar": [
           {
            "error_x": {
             "color": "#2a3f5f"
            },
            "error_y": {
             "color": "#2a3f5f"
            },
            "marker": {
             "line": {
              "color": "#E5ECF6",
              "width": 0.5
             },
             "pattern": {
              "fillmode": "overlay",
              "size": 10,
              "solidity": 0.2
             }
            },
            "type": "bar"
           }
          ],
          "barpolar": [
           {
            "marker": {
             "line": {
              "color": "#E5ECF6",
              "width": 0.5
             },
             "pattern": {
              "fillmode": "overlay",
              "size": 10,
              "solidity": 0.2
             }
            },
            "type": "barpolar"
           }
          ],
          "carpet": [
           {
            "aaxis": {
             "endlinecolor": "#2a3f5f",
             "gridcolor": "white",
             "linecolor": "white",
             "minorgridcolor": "white",
             "startlinecolor": "#2a3f5f"
            },
            "baxis": {
             "endlinecolor": "#2a3f5f",
             "gridcolor": "white",
             "linecolor": "white",
             "minorgridcolor": "white",
             "startlinecolor": "#2a3f5f"
            },
            "type": "carpet"
           }
          ],
          "choropleth": [
           {
            "colorbar": {
             "outlinewidth": 0,
             "ticks": ""
            },
            "type": "choropleth"
           }
          ],
          "contour": [
           {
            "colorbar": {
             "outlinewidth": 0,
             "ticks": ""
            },
            "colorscale": [
             [
              0,
              "#0d0887"
             ],
             [
              0.1111111111111111,
              "#46039f"
             ],
             [
              0.2222222222222222,
              "#7201a8"
             ],
             [
              0.3333333333333333,
              "#9c179e"
             ],
             [
              0.4444444444444444,
              "#bd3786"
             ],
             [
              0.5555555555555556,
              "#d8576b"
             ],
             [
              0.6666666666666666,
              "#ed7953"
             ],
             [
              0.7777777777777778,
              "#fb9f3a"
             ],
             [
              0.8888888888888888,
              "#fdca26"
             ],
             [
              1,
              "#f0f921"
             ]
            ],
            "type": "contour"
           }
          ],
          "contourcarpet": [
           {
            "colorbar": {
             "outlinewidth": 0,
             "ticks": ""
            },
            "type": "contourcarpet"
           }
          ],
          "heatmap": [
           {
            "colorbar": {
             "outlinewidth": 0,
             "ticks": ""
            },
            "colorscale": [
             [
              0,
              "#0d0887"
             ],
             [
              0.1111111111111111,
              "#46039f"
             ],
             [
              0.2222222222222222,
              "#7201a8"
             ],
             [
              0.3333333333333333,
              "#9c179e"
             ],
             [
              0.4444444444444444,
              "#bd3786"
             ],
             [
              0.5555555555555556,
              "#d8576b"
             ],
             [
              0.6666666666666666,
              "#ed7953"
             ],
             [
              0.7777777777777778,
              "#fb9f3a"
             ],
             [
              0.8888888888888888,
              "#fdca26"
             ],
             [
              1,
              "#f0f921"
             ]
            ],
            "type": "heatmap"
           }
          ],
          "heatmapgl": [
           {
            "colorbar": {
             "outlinewidth": 0,
             "ticks": ""
            },
            "colorscale": [
             [
              0,
              "#0d0887"
             ],
             [
              0.1111111111111111,
              "#46039f"
             ],
             [
              0.2222222222222222,
              "#7201a8"
             ],
             [
              0.3333333333333333,
              "#9c179e"
             ],
             [
              0.4444444444444444,
              "#bd3786"
             ],
             [
              0.5555555555555556,
              "#d8576b"
             ],
             [
              0.6666666666666666,
              "#ed7953"
             ],
             [
              0.7777777777777778,
              "#fb9f3a"
             ],
             [
              0.8888888888888888,
              "#fdca26"
             ],
             [
              1,
              "#f0f921"
             ]
            ],
            "type": "heatmapgl"
           }
          ],
          "histogram": [
           {
            "marker": {
             "pattern": {
              "fillmode": "overlay",
              "size": 10,
              "solidity": 0.2
             }
            },
            "type": "histogram"
           }
          ],
          "histogram2d": [
           {
            "colorbar": {
             "outlinewidth": 0,
             "ticks": ""
            },
            "colorscale": [
             [
              0,
              "#0d0887"
             ],
             [
              0.1111111111111111,
              "#46039f"
             ],
             [
              0.2222222222222222,
              "#7201a8"
             ],
             [
              0.3333333333333333,
              "#9c179e"
             ],
             [
              0.4444444444444444,
              "#bd3786"
             ],
             [
              0.5555555555555556,
              "#d8576b"
             ],
             [
              0.6666666666666666,
              "#ed7953"
             ],
             [
              0.7777777777777778,
              "#fb9f3a"
             ],
             [
              0.8888888888888888,
              "#fdca26"
             ],
             [
              1,
              "#f0f921"
             ]
            ],
            "type": "histogram2d"
           }
          ],
          "histogram2dcontour": [
           {
            "colorbar": {
             "outlinewidth": 0,
             "ticks": ""
            },
            "colorscale": [
             [
              0,
              "#0d0887"
             ],
             [
              0.1111111111111111,
              "#46039f"
             ],
             [
              0.2222222222222222,
              "#7201a8"
             ],
             [
              0.3333333333333333,
              "#9c179e"
             ],
             [
              0.4444444444444444,
              "#bd3786"
             ],
             [
              0.5555555555555556,
              "#d8576b"
             ],
             [
              0.6666666666666666,
              "#ed7953"
             ],
             [
              0.7777777777777778,
              "#fb9f3a"
             ],
             [
              0.8888888888888888,
              "#fdca26"
             ],
             [
              1,
              "#f0f921"
             ]
            ],
            "type": "histogram2dcontour"
           }
          ],
          "mesh3d": [
           {
            "colorbar": {
             "outlinewidth": 0,
             "ticks": ""
            },
            "type": "mesh3d"
           }
          ],
          "parcoords": [
           {
            "line": {
             "colorbar": {
              "outlinewidth": 0,
              "ticks": ""
             }
            },
            "type": "parcoords"
           }
          ],
          "pie": [
           {
            "automargin": true,
            "type": "pie"
           }
          ],
          "scatter": [
           {
            "fillpattern": {
             "fillmode": "overlay",
             "size": 10,
             "solidity": 0.2
            },
            "type": "scatter"
           }
          ],
          "scatter3d": [
           {
            "line": {
             "colorbar": {
              "outlinewidth": 0,
              "ticks": ""
             }
            },
            "marker": {
             "colorbar": {
              "outlinewidth": 0,
              "ticks": ""
             }
            },
            "type": "scatter3d"
           }
          ],
          "scattercarpet": [
           {
            "marker": {
             "colorbar": {
              "outlinewidth": 0,
              "ticks": ""
             }
            },
            "type": "scattercarpet"
           }
          ],
          "scattergeo": [
           {
            "marker": {
             "colorbar": {
              "outlinewidth": 0,
              "ticks": ""
             }
            },
            "type": "scattergeo"
           }
          ],
          "scattergl": [
           {
            "marker": {
             "colorbar": {
              "outlinewidth": 0,
              "ticks": ""
             }
            },
            "type": "scattergl"
           }
          ],
          "scattermapbox": [
           {
            "marker": {
             "colorbar": {
              "outlinewidth": 0,
              "ticks": ""
             }
            },
            "type": "scattermapbox"
           }
          ],
          "scatterpolar": [
           {
            "marker": {
             "colorbar": {
              "outlinewidth": 0,
              "ticks": ""
             }
            },
            "type": "scatterpolar"
           }
          ],
          "scatterpolargl": [
           {
            "marker": {
             "colorbar": {
              "outlinewidth": 0,
              "ticks": ""
             }
            },
            "type": "scatterpolargl"
           }
          ],
          "scatterternary": [
           {
            "marker": {
             "colorbar": {
              "outlinewidth": 0,
              "ticks": ""
             }
            },
            "type": "scatterternary"
           }
          ],
          "surface": [
           {
            "colorbar": {
             "outlinewidth": 0,
             "ticks": ""
            },
            "colorscale": [
             [
              0,
              "#0d0887"
             ],
             [
              0.1111111111111111,
              "#46039f"
             ],
             [
              0.2222222222222222,
              "#7201a8"
             ],
             [
              0.3333333333333333,
              "#9c179e"
             ],
             [
              0.4444444444444444,
              "#bd3786"
             ],
             [
              0.5555555555555556,
              "#d8576b"
             ],
             [
              0.6666666666666666,
              "#ed7953"
             ],
             [
              0.7777777777777778,
              "#fb9f3a"
             ],
             [
              0.8888888888888888,
              "#fdca26"
             ],
             [
              1,
              "#f0f921"
             ]
            ],
            "type": "surface"
           }
          ],
          "table": [
           {
            "cells": {
             "fill": {
              "color": "#EBF0F8"
             },
             "line": {
              "color": "white"
             }
            },
            "header": {
             "fill": {
              "color": "#C8D4E3"
             },
             "line": {
              "color": "white"
             }
            },
            "type": "table"
           }
          ]
         },
         "layout": {
          "annotationdefaults": {
           "arrowcolor": "#2a3f5f",
           "arrowhead": 0,
           "arrowwidth": 1
          },
          "autotypenumbers": "strict",
          "coloraxis": {
           "colorbar": {
            "outlinewidth": 0,
            "ticks": ""
           }
          },
          "colorscale": {
           "diverging": [
            [
             0,
             "#8e0152"
            ],
            [
             0.1,
             "#c51b7d"
            ],
            [
             0.2,
             "#de77ae"
            ],
            [
             0.3,
             "#f1b6da"
            ],
            [
             0.4,
             "#fde0ef"
            ],
            [
             0.5,
             "#f7f7f7"
            ],
            [
             0.6,
             "#e6f5d0"
            ],
            [
             0.7,
             "#b8e186"
            ],
            [
             0.8,
             "#7fbc41"
            ],
            [
             0.9,
             "#4d9221"
            ],
            [
             1,
             "#276419"
            ]
           ],
           "sequential": [
            [
             0,
             "#0d0887"
            ],
            [
             0.1111111111111111,
             "#46039f"
            ],
            [
             0.2222222222222222,
             "#7201a8"
            ],
            [
             0.3333333333333333,
             "#9c179e"
            ],
            [
             0.4444444444444444,
             "#bd3786"
            ],
            [
             0.5555555555555556,
             "#d8576b"
            ],
            [
             0.6666666666666666,
             "#ed7953"
            ],
            [
             0.7777777777777778,
             "#fb9f3a"
            ],
            [
             0.8888888888888888,
             "#fdca26"
            ],
            [
             1,
             "#f0f921"
            ]
           ],
           "sequentialminus": [
            [
             0,
             "#0d0887"
            ],
            [
             0.1111111111111111,
             "#46039f"
            ],
            [
             0.2222222222222222,
             "#7201a8"
            ],
            [
             0.3333333333333333,
             "#9c179e"
            ],
            [
             0.4444444444444444,
             "#bd3786"
            ],
            [
             0.5555555555555556,
             "#d8576b"
            ],
            [
             0.6666666666666666,
             "#ed7953"
            ],
            [
             0.7777777777777778,
             "#fb9f3a"
            ],
            [
             0.8888888888888888,
             "#fdca26"
            ],
            [
             1,
             "#f0f921"
            ]
           ]
          },
          "colorway": [
           "#636efa",
           "#EF553B",
           "#00cc96",
           "#ab63fa",
           "#FFA15A",
           "#19d3f3",
           "#FF6692",
           "#B6E880",
           "#FF97FF",
           "#FECB52"
          ],
          "font": {
           "color": "#2a3f5f"
          },
          "geo": {
           "bgcolor": "white",
           "lakecolor": "white",
           "landcolor": "#E5ECF6",
           "showlakes": true,
           "showland": true,
           "subunitcolor": "white"
          },
          "hoverlabel": {
           "align": "left"
          },
          "hovermode": "closest",
          "mapbox": {
           "style": "light"
          },
          "paper_bgcolor": "white",
          "plot_bgcolor": "#E5ECF6",
          "polar": {
           "angularaxis": {
            "gridcolor": "white",
            "linecolor": "white",
            "ticks": ""
           },
           "bgcolor": "#E5ECF6",
           "radialaxis": {
            "gridcolor": "white",
            "linecolor": "white",
            "ticks": ""
           }
          },
          "scene": {
           "xaxis": {
            "backgroundcolor": "#E5ECF6",
            "gridcolor": "white",
            "gridwidth": 2,
            "linecolor": "white",
            "showbackground": true,
            "ticks": "",
            "zerolinecolor": "white"
           },
           "yaxis": {
            "backgroundcolor": "#E5ECF6",
            "gridcolor": "white",
            "gridwidth": 2,
            "linecolor": "white",
            "showbackground": true,
            "ticks": "",
            "zerolinecolor": "white"
           },
           "zaxis": {
            "backgroundcolor": "#E5ECF6",
            "gridcolor": "white",
            "gridwidth": 2,
            "linecolor": "white",
            "showbackground": true,
            "ticks": "",
            "zerolinecolor": "white"
           }
          },
          "shapedefaults": {
           "line": {
            "color": "#2a3f5f"
           }
          },
          "ternary": {
           "aaxis": {
            "gridcolor": "white",
            "linecolor": "white",
            "ticks": ""
           },
           "baxis": {
            "gridcolor": "white",
            "linecolor": "white",
            "ticks": ""
           },
           "bgcolor": "#E5ECF6",
           "caxis": {
            "gridcolor": "white",
            "linecolor": "white",
            "ticks": ""
           }
          },
          "title": {
           "x": 0.05
          },
          "xaxis": {
           "automargin": true,
           "gridcolor": "white",
           "linecolor": "white",
           "ticks": "",
           "title": {
            "standoff": 15
           },
           "zerolinecolor": "white",
           "zerolinewidth": 2
          },
          "yaxis": {
           "automargin": true,
           "gridcolor": "white",
           "linecolor": "white",
           "ticks": "",
           "title": {
            "standoff": 15
           },
           "zerolinecolor": "white",
           "zerolinewidth": 2
          }
         }
        },
        "xaxis": {
         "autorange": true,
         "range": [
          0.5281950258557006,
          9.4718049741443
         ],
         "tickmode": "array",
         "ticktext": [
          "AROU",
          "VAL",
          "DOM",
          "CNC",
          "IMAG",
          "FAM",
          "AOA",
          "SIZE",
          "GEND"
         ],
         "tickvals": [
          1,
          2,
          3,
          4,
          5,
          6,
          7,
          8,
          9
         ],
         "type": "linear"
        },
        "yaxis": {
         "autorange": true,
         "range": [
          -0.858252427184466,
          11.258252427184466
         ],
         "type": "linear"
        }
       }
      },
      "image/png": "[encoded data removed]",
      "text/html": [
       "<div>                            <div id=\"4fbe2700-00b7-40ec-b699-12815f3e0c1b\" class=\"plotly-graph-div\" style=\"height:525px; width:100%;\"></div>            <script type=\"text/javascript\">                require([\"plotly\"], function(Plotly) {                    window.PLOTLYENV=window.PLOTLYENV || {};                                    if (document.getElementById(\"4fbe2700-00b7-40ec-b699-12815f3e0c1b\")) {                    Plotly.newPlot(                        \"4fbe2700-00b7-40ec-b699-12815f3e0c1b\",                        [{\"line\":{\"color\":\"#636EFA\"},\"mode\":\"lines\",\"name\":\"snake\",\"showlegend\":true,\"x\":[1,2,3,4,5,6,7,8,9],\"y\":[4.909,3.657,5.257,6.714,6.657,5.647,2.529,3.091,5.2],\"type\":\"scatter\"},{\"fill\":\"toself\",\"fillcolor\":\"rgba(99, 110, 250, 0.2)\",\"hoverinfo\":\"skip\",\"line\":{\"color\":\"rgba(255,255,255,0)\"},\"showlegend\":false,\"x\":[1,2,3,4,5,6,7,8,9,9,8,7,6,5,4,3,2,1],\"y\":[7.275,5.277,7.304,7.414000000000001,7.287,7.12,3.476,4.712,10.4,0.0,1.4700000000000002,1.5819999999999999,4.174,6.027,6.014,3.2099999999999995,2.037,2.5429999999999997],\"type\":\"scatter\"},{\"line\":{\"color\":\"#EF553B\"},\"mode\":\"lines\",\"name\":\"dog\",\"showlegend\":true,\"x\":[1,2,3,4,5,6,7,8,9],\"y\":[6.147,7.067,6.242,6.833,6.889,6.84,1.735,3.273,4.606],\"type\":\"scatter\"},{\"fill\":\"toself\",\"fillcolor\":\"rgba(239, 85, 59, 0.2)\",\"hoverinfo\":\"skip\",\"line\":{\"color\":\"rgba(255,255,255,0)\"},\"showlegend\":false,\"x\":[1,2,3,4,5,6,7,8,9,9,8,7,6,5,4,3,2,1],\"y\":[8.332,8.304,8.035,7.2860000000000005,7.203,7.303,2.391,4.511,9.212,0.0,2.035,1.0790000000000002,6.377,6.575,6.38,4.449,5.83,3.962],\"type\":\"scatter\"}],                        {\"template\":{\"data\":{\"histogram2dcontour\":[{\"type\":\"histogram2dcontour\",\"colorbar\":{\"outlinewidth\":0,\"ticks\":\"\"},\"colorscale\":[[0.0,\"#0d0887\"],[0.1111111111111111,\"#46039f\"],[0.2222222222222222,\"#7201a8\"],[0.3333333333333333,\"#9c179e\"],[0.4444444444444444,\"#bd3786\"],[0.5555555555555556,\"#d8576b\"],[0.6666666666666666,\"#ed7953\"],[0.7777777777777778,\"#fb9f3a\"],[0.8888888888888888,\"#fdca26\"],[1.0,\"#f0f921\"]]}],\"choropleth\":[{\"type\":\"choropleth\",\"colorbar\":{\"outlinewidth\":0,\"ticks\":\"\"}}],\"histogram2d\":[{\"type\":\"histogram2d\",\"colorbar\":{\"outlinewidth\":0,\"ticks\":\"\"},\"colorscale\":[[0.0,\"#0d0887\"],[0.1111111111111111,\"#46039f\"],[0.2222222222222222,\"#7201a8\"],[0.3333333333333333,\"#9c179e\"],[0.4444444444444444,\"#bd3786\"],[0.5555555555555556,\"#d8576b\"],[0.6666666666666666,\"#ed7953\"],[0.7777777777777778,\"#fb9f3a\"],[0.8888888888888888,\"#fdca26\"],[1.0,\"#f0f921\"]]}],\"heatmap\":[{\"type\":\"heatmap\",\"colorbar\":{\"outlinewidth\":0,\"ticks\":\"\"},\"colorscale\":[[0.0,\"#0d0887\"],[0.1111111111111111,\"#46039f\"],[0.2222222222222222,\"#7201a8\"],[0.3333333333333333,\"#9c179e\"],[0.4444444444444444,\"#bd3786\"],[0.5555555555555556,\"#d8576b\"],[0.6666666666666666,\"#ed7953\"],[0.7777777777777778,\"#fb9f3a\"],[0.8888888888888888,\"#fdca26\"],[1.0,\"#f0f921\"]]}],\"heatmapgl\":[{\"type\":\"heatmapgl\",\"colorbar\":{\"outlinewidth\":0,\"ticks\":\"\"},\"colorscale\":[[0.0,\"#0d0887\"],[0.1111111111111111,\"#46039f\"],[0.2222222222222222,\"#7201a8\"],[0.3333333333333333,\"#9c179e\"],[0.4444444444444444,\"#bd3786\"],[0.5555555555555556,\"#d8576b\"],[0.6666666666666666,\"#ed7953\"],[0.7777777777777778,\"#fb9f3a\"],[0.8888888888888888,\"#fdca26\"],[1.0,\"#f0f921\"]]}],\"contourcarpet\":[{\"type\":\"contourcarpet\",\"colorbar\":{\"outlinewidth\":0,\"ticks\":\"\"}}],\"contour\":[{\"type\":\"contour\",\"colorbar\":{\"outlinewidth\":0,\"ticks\":\"\"},\"colorscale\":[[0.0,\"#0d0887\"],[0.1111111111111111,\"#46039f\"],[0.2222222222222222,\"#7201a8\"],[0.3333333333333333,\"#9c179e\"],[0.4444444444444444,\"#bd3786\"],[0.5555555555555556,\"#d8576b\"],[0.6666666666666666,\"#ed7953\"],[0.7777777777777778,\"#fb9f3a\"],[0.8888888888888888,\"#fdca26\"],[1.0,\"#f0f921\"]]}],\"surface\":[{\"type\":\"surface\",\"colorbar\":{\"outlinewidth\":0,\"ticks\":\"\"},\"colorscale\":[[0.0,\"#0d0887\"],[0.1111111111111111,\"#46039f\"],[0.2222222222222222,\"#7201a8\"],[0.3333333333333333,\"#9c179e\"],[0.4444444444444444,\"#bd3786\"],[0.5555555555555556,\"#d8576b\"],[0.6666666666666666,\"#ed7953\"],[0.7777777777777778,\"#fb9f3a\"],[0.8888888888888888,\"#fdca26\"],[1.0,\"#f0f921\"]]}],\"mesh3d\":[{\"type\":\"mesh3d\",\"colorbar\":{\"outlinewidth\":0,\"ticks\":\"\"}}],\"scatter\":[{\"fillpattern\":{\"fillmode\":\"overlay\",\"size\":10,\"solidity\":0.2},\"type\":\"scatter\"}],\"parcoords\":[{\"type\":\"parcoords\",\"line\":{\"colorbar\":{\"outlinewidth\":0,\"ticks\":\"\"}}}],\"scatterpolargl\":[{\"type\":\"scatterpolargl\",\"marker\":{\"colorbar\":{\"outlinewidth\":0,\"ticks\":\"\"}}}],\"bar\":[{\"error_x\":{\"color\":\"#2a3f5f\"},\"error_y\":{\"color\":\"#2a3f5f\"},\"marker\":{\"line\":{\"color\":\"#E5ECF6\",\"width\":0.5},\"pattern\":{\"fillmode\":\"overlay\",\"size\":10,\"solidity\":0.2}},\"type\":\"bar\"}],\"scattergeo\":[{\"type\":\"scattergeo\",\"marker\":{\"colorbar\":{\"outlinewidth\":0,\"ticks\":\"\"}}}],\"scatterpolar\":[{\"type\":\"scatterpolar\",\"marker\":{\"colorbar\":{\"outlinewidth\":0,\"ticks\":\"\"}}}],\"histogram\":[{\"marker\":{\"pattern\":{\"fillmode\":\"overlay\",\"size\":10,\"solidity\":0.2}},\"type\":\"histogram\"}],\"scattergl\":[{\"type\":\"scattergl\",\"marker\":{\"colorbar\":{\"outlinewidth\":0,\"ticks\":\"\"}}}],\"scatter3d\":[{\"type\":\"scatter3d\",\"line\":{\"colorbar\":{\"outlinewidth\":0,\"ticks\":\"\"}},\"marker\":{\"colorbar\":{\"outlinewidth\":0,\"ticks\":\"\"}}}],\"scattermapbox\":[{\"type\":\"scattermapbox\",\"marker\":{\"colorbar\":{\"outlinewidth\":0,\"ticks\":\"\"}}}],\"scatterternary\":[{\"type\":\"scatterternary\",\"marker\":{\"colorbar\":{\"outlinewidth\":0,\"ticks\":\"\"}}}],\"scattercarpet\":[{\"type\":\"scattercarpet\",\"marker\":{\"colorbar\":{\"outlinewidth\":0,\"ticks\":\"\"}}}],\"carpet\":[{\"aaxis\":{\"endlinecolor\":\"#2a3f5f\",\"gridcolor\":\"white\",\"linecolor\":\"white\",\"minorgridcolor\":\"white\",\"startlinecolor\":\"#2a3f5f\"},\"baxis\":{\"endlinecolor\":\"#2a3f5f\",\"gridcolor\":\"white\",\"linecolor\":\"white\",\"minorgridcolor\":\"white\",\"startlinecolor\":\"#2a3f5f\"},\"type\":\"carpet\"}],\"table\":[{\"cells\":{\"fill\":{\"color\":\"#EBF0F8\"},\"line\":{\"color\":\"white\"}},\"header\":{\"fill\":{\"color\":\"#C8D4E3\"},\"line\":{\"color\":\"white\"}},\"type\":\"table\"}],\"barpolar\":[{\"marker\":{\"line\":{\"color\":\"#E5ECF6\",\"width\":0.5},\"pattern\":{\"fillmode\":\"overlay\",\"size\":10,\"solidity\":0.2}},\"type\":\"barpolar\"}],\"pie\":[{\"automargin\":true,\"type\":\"pie\"}]},\"layout\":{\"autotypenumbers\":\"strict\",\"colorway\":[\"#636efa\",\"#EF553B\",\"#00cc96\",\"#ab63fa\",\"#FFA15A\",\"#19d3f3\",\"#FF6692\",\"#B6E880\",\"#FF97FF\",\"#FECB52\"],\"font\":{\"color\":\"#2a3f5f\"},\"hovermode\":\"closest\",\"hoverlabel\":{\"align\":\"left\"},\"paper_bgcolor\":\"white\",\"plot_bgcolor\":\"#E5ECF6\",\"polar\":{\"bgcolor\":\"#E5ECF6\",\"angularaxis\":{\"gridcolor\":\"white\",\"linecolor\":\"white\",\"ticks\":\"\"},\"radialaxis\":{\"gridcolor\":\"white\",\"linecolor\":\"white\",\"ticks\":\"\"}},\"ternary\":{\"bgcolor\":\"#E5ECF6\",\"aaxis\":{\"gridcolor\":\"white\",\"linecolor\":\"white\",\"ticks\":\"\"},\"baxis\":{\"gridcolor\":\"white\",\"linecolor\":\"white\",\"ticks\":\"\"},\"caxis\":{\"gridcolor\":\"white\",\"linecolor\":\"white\",\"ticks\":\"\"}},\"coloraxis\":{\"colorbar\":{\"outlinewidth\":0,\"ticks\":\"\"}},\"colorscale\":{\"sequential\":[[0.0,\"#0d0887\"],[0.1111111111111111,\"#46039f\"],[0.2222222222222222,\"#7201a8\"],[0.3333333333333333,\"#9c179e\"],[0.4444444444444444,\"#bd3786\"],[0.5555555555555556,\"#d8576b\"],[0.6666666666666666,\"#ed7953\"],[0.7777777777777778,\"#fb9f3a\"],[0.8888888888888888,\"#fdca26\"],[1.0,\"#f0f921\"]],\"sequentialminus\":[[0.0,\"#0d0887\"],[0.1111111111111111,\"#46039f\"],[0.2222222222222222,\"#7201a8\"],[0.3333333333333333,\"#9c179e\"],[0.4444444444444444,\"#bd3786\"],[0.5555555555555556,\"#d8576b\"],[0.6666666666666666,\"#ed7953\"],[0.7777777777777778,\"#fb9f3a\"],[0.8888888888888888,\"#fdca26\"],[1.0,\"#f0f921\"]],\"diverging\":[[0,\"#8e0152\"],[0.1,\"#c51b7d\"],[0.2,\"#de77ae\"],[0.3,\"#f1b6da\"],[0.4,\"#fde0ef\"],[0.5,\"#f7f7f7\"],[0.6,\"#e6f5d0\"],[0.7,\"#b8e186\"],[0.8,\"#7fbc41\"],[0.9,\"#4d9221\"],[1,\"#276419\"]]},\"xaxis\":{\"gridcolor\":\"white\",\"linecolor\":\"white\",\"ticks\":\"\",\"title\":{\"standoff\":15},\"zerolinecolor\":\"white\",\"automargin\":true,\"zerolinewidth\":2},\"yaxis\":{\"gridcolor\":\"white\",\"linecolor\":\"white\",\"ticks\":\"\",\"title\":{\"standoff\":15},\"zerolinecolor\":\"white\",\"automargin\":true,\"zerolinewidth\":2},\"scene\":{\"xaxis\":{\"backgroundcolor\":\"#E5ECF6\",\"gridcolor\":\"white\",\"linecolor\":\"white\",\"showbackground\":true,\"ticks\":\"\",\"zerolinecolor\":\"white\",\"gridwidth\":2},\"yaxis\":{\"backgroundcolor\":\"#E5ECF6\",\"gridcolor\":\"white\",\"linecolor\":\"white\",\"showbackground\":true,\"ticks\":\"\",\"zerolinecolor\":\"white\",\"gridwidth\":2},\"zaxis\":{\"backgroundcolor\":\"#E5ECF6\",\"gridcolor\":\"white\",\"linecolor\":\"white\",\"showbackground\":true,\"ticks\":\"\",\"zerolinecolor\":\"white\",\"gridwidth\":2}},\"shapedefaults\":{\"line\":{\"color\":\"#2a3f5f\"}},\"annotationdefaults\":{\"arrowcolor\":\"#2a3f5f\",\"arrowhead\":0,\"arrowwidth\":1},\"geo\":{\"bgcolor\":\"white\",\"landcolor\":\"#E5ECF6\",\"subunitcolor\":\"white\",\"showland\":true,\"showlakes\":true,\"lakecolor\":\"white\"},\"title\":{\"x\":0.05},\"mapbox\":{\"style\":\"light\"}}},\"xaxis\":{\"tickmode\":\"array\",\"tickvals\":[1,2,3,4,5,6,7,8,9],\"ticktext\":[\"AROU\",\"VAL\",\"DOM\",\"CNC\",\"IMAG\",\"FAM\",\"AOA\",\"SIZE\",\"GEND\"]}},                        {\"responsive\": true}                    ).then(function(){\n",
       "                            \n",
       "var gd = document.getElementById('4fbe2700-00b7-40ec-b699-12815f3e0c1b');\n",
       "var x = new MutationObserver(function (mutations, observer) {{\n",
       "        var display = window.getComputedStyle(gd).display;\n",
       "        if (!display || display === 'none') {{\n",
       "            console.log([gd, 'removed!']);\n",
       "            Plotly.purge(gd);\n",
       "            observer.disconnect();\n",
       "        }}\n",
       "}});\n",
       "\n",
       "// Listen for the removal of the full notebook cells\n",
       "var notebookContainer = gd.closest('#notebook-container');\n",
       "if (notebookContainer) {{\n",
       "    x.observe(notebookContainer, {childList: true});\n",
       "}}\n",
       "\n",
       "// Listen for the clearing of the current output cell\n",
       "var outputEl = gd.closest('.output');\n",
       "if (outputEl) {{\n",
       "    x.observe(outputEl, {childList: true});\n",
       "}}\n",
       "\n",
       "                        })                };                });            </script>        </div>"
      ]
     },
     "metadata": {},
     "output_type": "display_data"
    }
   ],
   "source": [
    "viz_GlasgowR(['snake','dog'], df)"
   ]
  },
  {
   "cell_type": "code",
   "execution_count": 124,
   "metadata": {},
   "outputs": [
    {
     "data": {
      "application/vnd.plotly.v1+json": {
       "config": {
        "plotlyServerURL": "https://plot.ly"
       },
       "data": [
        {
         "line": {
          "color": "#636EFA"
         },
         "mode": "lines",
         "name": "snake",
         "showlegend": true,
         "type": "scatter",
         "x": [
          1,
          2,
          3,
          4,
          5,
          6,
          7,
          8,
          9
         ],
         "y": [
          4.909,
          3.657,
          5.257,
          6.714,
          6.657,
          5.647,
          2.529,
          3.091,
          5.2
         ]
        },
        {
         "fill": "toself",
         "fillcolor": "rgba(99, 110, 250, 0.2)",
         "hoverinfo": "skip",
         "line": {
          "color": "rgba(255,255,255,0)"
         },
         "showlegend": false,
         "type": "scatter",
         "x": [
          1,
          2,
          3,
          4,
          5,
          6,
          7,
          8,
          9,
          9,
          8,
          7,
          6,
          5,
          4,
          3,
          2,
          1
         ],
         "y": [
          7.275,
          5.277,
          7.304,
          7.414000000000001,
          7.287,
          7.12,
          3.476,
          4.712,
          10.4,
          0,
          1.4700000000000002,
          1.5819999999999999,
          4.174,
          6.027,
          6.014,
          3.2099999999999995,
          2.037,
          2.5429999999999997
         ]
        },
        {
         "line": {
          "color": "#EF553B"
         },
         "mode": "lines",
         "name": "dog",
         "showlegend": true,
         "type": "scatter",
         "x": [
          1,
          2,
          3,
          4,
          5,
          6,
          7,
          8,
          9
         ],
         "y": [
          6.147,
          7.067,
          6.242,
          6.833,
          6.889,
          6.84,
          1.735,
          3.273,
          4.606
         ]
        },
        {
         "fill": "toself",
         "fillcolor": "rgba(239, 85, 59, 0.2)",
         "hoverinfo": "skip",
         "line": {
          "color": "rgba(255,255,255,0)"
         },
         "showlegend": false,
         "type": "scatter",
         "x": [
          1,
          2,
          3,
          4,
          5,
          6,
          7,
          8,
          9,
          9,
          8,
          7,
          6,
          5,
          4,
          3,
          2,
          1
         ],
         "y": [
          8.332,
          8.304,
          8.035,
          7.2860000000000005,
          7.203,
          7.303,
          2.391,
          4.511,
          9.212,
          0,
          2.035,
          1.0790000000000002,
          6.377,
          6.575,
          6.38,
          4.449,
          5.83,
          3.962
         ]
        },
        {
         "line": {
          "color": "#00CC96"
         },
         "mode": "lines",
         "name": "evil",
         "showlegend": true,
         "type": "scatter",
         "x": [
          1,
          2,
          3,
          4,
          5,
          6,
          7,
          8,
          9
         ],
         "y": [
          5.559,
          1.514,
          3.8,
          2.294,
          4.118,
          5.469,
          3.057,
          5.853,
          5.029
         ]
        },
        {
         "fill": "toself",
         "fillcolor": "rgba(0, 204, 150, 0.2)",
         "hoverinfo": "skip",
         "line": {
          "color": "rgba(255,255,255,0)"
         },
         "showlegend": false,
         "type": "scatter",
         "x": [
          1,
          2,
          3,
          4,
          5,
          6,
          7,
          8,
          9,
          9,
          8,
          7,
          6,
          5,
          4,
          3,
          2,
          1
         ],
         "y": [
          8.128,
          2.593,
          6.471,
          3.912,
          6.325,
          7.089,
          4.202,
          7.138999999999999,
          10.058,
          0,
          4.567,
          1.912,
          3.849,
          1.9110000000000005,
          0.6759999999999999,
          1.129,
          0.43500000000000005,
          2.99
         ]
        }
       ],
       "layout": {
        "autosize": true,
        "template": {
         "data": {
          "bar": [
           {
            "error_x": {
             "color": "#2a3f5f"
            },
            "error_y": {
             "color": "#2a3f5f"
            },
            "marker": {
             "line": {
              "color": "#E5ECF6",
              "width": 0.5
             },
             "pattern": {
              "fillmode": "overlay",
              "size": 10,
              "solidity": 0.2
             }
            },
            "type": "bar"
           }
          ],
          "barpolar": [
           {
            "marker": {
             "line": {
              "color": "#E5ECF6",
              "width": 0.5
             },
             "pattern": {
              "fillmode": "overlay",
              "size": 10,
              "solidity": 0.2
             }
            },
            "type": "barpolar"
           }
          ],
          "carpet": [
           {
            "aaxis": {
             "endlinecolor": "#2a3f5f",
             "gridcolor": "white",
             "linecolor": "white",
             "minorgridcolor": "white",
             "startlinecolor": "#2a3f5f"
            },
            "baxis": {
             "endlinecolor": "#2a3f5f",
             "gridcolor": "white",
             "linecolor": "white",
             "minorgridcolor": "white",
             "startlinecolor": "#2a3f5f"
            },
            "type": "carpet"
           }
          ],
          "choropleth": [
           {
            "colorbar": {
             "outlinewidth": 0,
             "ticks": ""
            },
            "type": "choropleth"
           }
          ],
          "contour": [
           {
            "colorbar": {
             "outlinewidth": 0,
             "ticks": ""
            },
            "colorscale": [
             [
              0,
              "#0d0887"
             ],
             [
              0.1111111111111111,
              "#46039f"
             ],
             [
              0.2222222222222222,
              "#7201a8"
             ],
             [
              0.3333333333333333,
              "#9c179e"
             ],
             [
              0.4444444444444444,
              "#bd3786"
             ],
             [
              0.5555555555555556,
              "#d8576b"
             ],
             [
              0.6666666666666666,
              "#ed7953"
             ],
             [
              0.7777777777777778,
              "#fb9f3a"
             ],
             [
              0.8888888888888888,
              "#fdca26"
             ],
             [
              1,
              "#f0f921"
             ]
            ],
            "type": "contour"
           }
          ],
          "contourcarpet": [
           {
            "colorbar": {
             "outlinewidth": 0,
             "ticks": ""
            },
            "type": "contourcarpet"
           }
          ],
          "heatmap": [
           {
            "colorbar": {
             "outlinewidth": 0,
             "ticks": ""
            },
            "colorscale": [
             [
              0,
              "#0d0887"
             ],
             [
              0.1111111111111111,
              "#46039f"
             ],
             [
              0.2222222222222222,
              "#7201a8"
             ],
             [
              0.3333333333333333,
              "#9c179e"
             ],
             [
              0.4444444444444444,
              "#bd3786"
             ],
             [
              0.5555555555555556,
              "#d8576b"
             ],
             [
              0.6666666666666666,
              "#ed7953"
             ],
             [
              0.7777777777777778,
              "#fb9f3a"
             ],
             [
              0.8888888888888888,
              "#fdca26"
             ],
             [
              1,
              "#f0f921"
             ]
            ],
            "type": "heatmap"
           }
          ],
          "heatmapgl": [
           {
            "colorbar": {
             "outlinewidth": 0,
             "ticks": ""
            },
            "colorscale": [
             [
              0,
              "#0d0887"
             ],
             [
              0.1111111111111111,
              "#46039f"
             ],
             [
              0.2222222222222222,
              "#7201a8"
             ],
             [
              0.3333333333333333,
              "#9c179e"
             ],
             [
              0.4444444444444444,
              "#bd3786"
             ],
             [
              0.5555555555555556,
              "#d8576b"
             ],
             [
              0.6666666666666666,
              "#ed7953"
             ],
             [
              0.7777777777777778,
              "#fb9f3a"
             ],
             [
              0.8888888888888888,
              "#fdca26"
             ],
             [
              1,
              "#f0f921"
             ]
            ],
            "type": "heatmapgl"
           }
          ],
          "histogram": [
           {
            "marker": {
             "pattern": {
              "fillmode": "overlay",
              "size": 10,
              "solidity": 0.2
             }
            },
            "type": "histogram"
           }
          ],
          "histogram2d": [
           {
            "colorbar": {
             "outlinewidth": 0,
             "ticks": ""
            },
            "colorscale": [
             [
              0,
              "#0d0887"
             ],
             [
              0.1111111111111111,
              "#46039f"
             ],
             [
              0.2222222222222222,
              "#7201a8"
             ],
             [
              0.3333333333333333,
              "#9c179e"
             ],
             [
              0.4444444444444444,
              "#bd3786"
             ],
             [
              0.5555555555555556,
              "#d8576b"
             ],
             [
              0.6666666666666666,
              "#ed7953"
             ],
             [
              0.7777777777777778,
              "#fb9f3a"
             ],
             [
              0.8888888888888888,
              "#fdca26"
             ],
             [
              1,
              "#f0f921"
             ]
            ],
            "type": "histogram2d"
           }
          ],
          "histogram2dcontour": [
           {
            "colorbar": {
             "outlinewidth": 0,
             "ticks": ""
            },
            "colorscale": [
             [
              0,
              "#0d0887"
             ],
             [
              0.1111111111111111,
              "#46039f"
             ],
             [
              0.2222222222222222,
              "#7201a8"
             ],
             [
              0.3333333333333333,
              "#9c179e"
             ],
             [
              0.4444444444444444,
              "#bd3786"
             ],
             [
              0.5555555555555556,
              "#d8576b"
             ],
             [
              0.6666666666666666,
              "#ed7953"
             ],
             [
              0.7777777777777778,
              "#fb9f3a"
             ],
             [
              0.8888888888888888,
              "#fdca26"
             ],
             [
              1,
              "#f0f921"
             ]
            ],
            "type": "histogram2dcontour"
           }
          ],
          "mesh3d": [
           {
            "colorbar": {
             "outlinewidth": 0,
             "ticks": ""
            },
            "type": "mesh3d"
           }
          ],
          "parcoords": [
           {
            "line": {
             "colorbar": {
              "outlinewidth": 0,
              "ticks": ""
             }
            },
            "type": "parcoords"
           }
          ],
          "pie": [
           {
            "automargin": true,
            "type": "pie"
           }
          ],
          "scatter": [
           {
            "fillpattern": {
             "fillmode": "overlay",
             "size": 10,
             "solidity": 0.2
            },
            "type": "scatter"
           }
          ],
          "scatter3d": [
           {
            "line": {
             "colorbar": {
              "outlinewidth": 0,
              "ticks": ""
             }
            },
            "marker": {
             "colorbar": {
              "outlinewidth": 0,
              "ticks": ""
             }
            },
            "type": "scatter3d"
           }
          ],
          "scattercarpet": [
           {
            "marker": {
             "colorbar": {
              "outlinewidth": 0,
              "ticks": ""
             }
            },
            "type": "scattercarpet"
           }
          ],
          "scattergeo": [
           {
            "marker": {
             "colorbar": {
              "outlinewidth": 0,
              "ticks": ""
             }
            },
            "type": "scattergeo"
           }
          ],
          "scattergl": [
           {
            "marker": {
             "colorbar": {
              "outlinewidth": 0,
              "ticks": ""
             }
            },
            "type": "scattergl"
           }
          ],
          "scattermapbox": [
           {
            "marker": {
             "colorbar": {
              "outlinewidth": 0,
              "ticks": ""
             }
            },
            "type": "scattermapbox"
           }
          ],
          "scatterpolar": [
           {
            "marker": {
             "colorbar": {
              "outlinewidth": 0,
              "ticks": ""
             }
            },
            "type": "scatterpolar"
           }
          ],
          "scatterpolargl": [
           {
            "marker": {
             "colorbar": {
              "outlinewidth": 0,
              "ticks": ""
             }
            },
            "type": "scatterpolargl"
           }
          ],
          "scatterternary": [
           {
            "marker": {
             "colorbar": {
              "outlinewidth": 0,
              "ticks": ""
             }
            },
            "type": "scatterternary"
           }
          ],
          "surface": [
           {
            "colorbar": {
             "outlinewidth": 0,
             "ticks": ""
            },
            "colorscale": [
             [
              0,
              "#0d0887"
             ],
             [
              0.1111111111111111,
              "#46039f"
             ],
             [
              0.2222222222222222,
              "#7201a8"
             ],
             [
              0.3333333333333333,
              "#9c179e"
             ],
             [
              0.4444444444444444,
              "#bd3786"
             ],
             [
              0.5555555555555556,
              "#d8576b"
             ],
             [
              0.6666666666666666,
              "#ed7953"
             ],
             [
              0.7777777777777778,
              "#fb9f3a"
             ],
             [
              0.8888888888888888,
              "#fdca26"
             ],
             [
              1,
              "#f0f921"
             ]
            ],
            "type": "surface"
           }
          ],
          "table": [
           {
            "cells": {
             "fill": {
              "color": "#EBF0F8"
             },
             "line": {
              "color": "white"
             }
            },
            "header": {
             "fill": {
              "color": "#C8D4E3"
             },
             "line": {
              "color": "white"
             }
            },
            "type": "table"
           }
          ]
         },
         "layout": {
          "annotationdefaults": {
           "arrowcolor": "#2a3f5f",
           "arrowhead": 0,
           "arrowwidth": 1
          },
          "autotypenumbers": "strict",
          "coloraxis": {
           "colorbar": {
            "outlinewidth": 0,
            "ticks": ""
           }
          },
          "colorscale": {
           "diverging": [
            [
             0,
             "#8e0152"
            ],
            [
             0.1,
             "#c51b7d"
            ],
            [
             0.2,
             "#de77ae"
            ],
            [
             0.3,
             "#f1b6da"
            ],
            [
             0.4,
             "#fde0ef"
            ],
            [
             0.5,
             "#f7f7f7"
            ],
            [
             0.6,
             "#e6f5d0"
            ],
            [
             0.7,
             "#b8e186"
            ],
            [
             0.8,
             "#7fbc41"
            ],
            [
             0.9,
             "#4d9221"
            ],
            [
             1,
             "#276419"
            ]
           ],
           "sequential": [
            [
             0,
             "#0d0887"
            ],
            [
             0.1111111111111111,
             "#46039f"
            ],
            [
             0.2222222222222222,
             "#7201a8"
            ],
            [
             0.3333333333333333,
             "#9c179e"
            ],
            [
             0.4444444444444444,
             "#bd3786"
            ],
            [
             0.5555555555555556,
             "#d8576b"
            ],
            [
             0.6666666666666666,
             "#ed7953"
            ],
            [
             0.7777777777777778,
             "#fb9f3a"
            ],
            [
             0.8888888888888888,
             "#fdca26"
            ],
            [
             1,
             "#f0f921"
            ]
           ],
           "sequentialminus": [
            [
             0,
             "#0d0887"
            ],
            [
             0.1111111111111111,
             "#46039f"
            ],
            [
             0.2222222222222222,
             "#7201a8"
            ],
            [
             0.3333333333333333,
             "#9c179e"
            ],
            [
             0.4444444444444444,
             "#bd3786"
            ],
            [
             0.5555555555555556,
             "#d8576b"
            ],
            [
             0.6666666666666666,
             "#ed7953"
            ],
            [
             0.7777777777777778,
             "#fb9f3a"
            ],
            [
             0.8888888888888888,
             "#fdca26"
            ],
            [
             1,
             "#f0f921"
            ]
           ]
          },
          "colorway": [
           "#636efa",
           "#EF553B",
           "#00cc96",
           "#ab63fa",
           "#FFA15A",
           "#19d3f3",
           "#FF6692",
           "#B6E880",
           "#FF97FF",
           "#FECB52"
          ],
          "font": {
           "color": "#2a3f5f"
          },
          "geo": {
           "bgcolor": "white",
           "lakecolor": "white",
           "landcolor": "#E5ECF6",
           "showlakes": true,
           "showland": true,
           "subunitcolor": "white"
          },
          "hoverlabel": {
           "align": "left"
          },
          "hovermode": "closest",
          "mapbox": {
           "style": "light"
          },
          "paper_bgcolor": "white",
          "plot_bgcolor": "#E5ECF6",
          "polar": {
           "angularaxis": {
            "gridcolor": "white",
            "linecolor": "white",
            "ticks": ""
           },
           "bgcolor": "#E5ECF6",
           "radialaxis": {
            "gridcolor": "white",
            "linecolor": "white",
            "ticks": ""
           }
          },
          "scene": {
           "xaxis": {
            "backgroundcolor": "#E5ECF6",
            "gridcolor": "white",
            "gridwidth": 2,
            "linecolor": "white",
            "showbackground": true,
            "ticks": "",
            "zerolinecolor": "white"
           },
           "yaxis": {
            "backgroundcolor": "#E5ECF6",
            "gridcolor": "white",
            "gridwidth": 2,
            "linecolor": "white",
            "showbackground": true,
            "ticks": "",
            "zerolinecolor": "white"
           },
           "zaxis": {
            "backgroundcolor": "#E5ECF6",
            "gridcolor": "white",
            "gridwidth": 2,
            "linecolor": "white",
            "showbackground": true,
            "ticks": "",
            "zerolinecolor": "white"
           }
          },
          "shapedefaults": {
           "line": {
            "color": "#2a3f5f"
           }
          },
          "ternary": {
           "aaxis": {
            "gridcolor": "white",
            "linecolor": "white",
            "ticks": ""
           },
           "baxis": {
            "gridcolor": "white",
            "linecolor": "white",
            "ticks": ""
           },
           "bgcolor": "#E5ECF6",
           "caxis": {
            "gridcolor": "white",
            "linecolor": "white",
            "ticks": ""
           }
          },
          "title": {
           "x": 0.05
          },
          "xaxis": {
           "automargin": true,
           "gridcolor": "white",
           "linecolor": "white",
           "ticks": "",
           "title": {
            "standoff": 15
           },
           "zerolinecolor": "white",
           "zerolinewidth": 2
          },
          "yaxis": {
           "automargin": true,
           "gridcolor": "white",
           "linecolor": "white",
           "ticks": "",
           "title": {
            "standoff": 15
           },
           "zerolinecolor": "white",
           "zerolinewidth": 2
          }
         }
        },
        "xaxis": {
         "autorange": true,
         "range": [
          0.5281950258557006,
          9.4718049741443
         ],
         "tickmode": "array",
         "ticktext": [
          "AROU",
          "VAL",
          "DOM",
          "CNC",
          "IMAG",
          "FAM",
          "AOA",
          "SIZE",
          "GEND"
         ],
         "tickvals": [
          1,
          2,
          3,
          4,
          5,
          6,
          7,
          8,
          9
         ],
         "type": "linear"
        },
        "yaxis": {
         "autorange": true,
         "range": [
          -0.858252427184466,
          11.258252427184466
         ],
         "type": "linear"
        }
       }
      },
      "image/png": "[encoded data removed]",
      "text/html": [
       "<div>                            <div id=\"bd246d79-078f-456a-8561-effaf04cb03b\" class=\"plotly-graph-div\" style=\"height:525px; width:100%;\"></div>            <script type=\"text/javascript\">                require([\"plotly\"], function(Plotly) {                    window.PLOTLYENV=window.PLOTLYENV || {};                                    if (document.getElementById(\"bd246d79-078f-456a-8561-effaf04cb03b\")) {                    Plotly.newPlot(                        \"bd246d79-078f-456a-8561-effaf04cb03b\",                        [{\"line\":{\"color\":\"#636EFA\"},\"mode\":\"lines\",\"name\":\"snake\",\"showlegend\":true,\"x\":[1,2,3,4,5,6,7,8,9],\"y\":[4.909,3.657,5.257,6.714,6.657,5.647,2.529,3.091,5.2],\"type\":\"scatter\"},{\"fill\":\"toself\",\"fillcolor\":\"rgba(99, 110, 250, 0.2)\",\"hoverinfo\":\"skip\",\"line\":{\"color\":\"rgba(255,255,255,0)\"},\"showlegend\":false,\"x\":[1,2,3,4,5,6,7,8,9,9,8,7,6,5,4,3,2,1],\"y\":[7.275,5.277,7.304,7.414000000000001,7.287,7.12,3.476,4.712,10.4,0.0,1.4700000000000002,1.5819999999999999,4.174,6.027,6.014,3.2099999999999995,2.037,2.5429999999999997],\"type\":\"scatter\"},{\"line\":{\"color\":\"#EF553B\"},\"mode\":\"lines\",\"name\":\"dog\",\"showlegend\":true,\"x\":[1,2,3,4,5,6,7,8,9],\"y\":[6.147,7.067,6.242,6.833,6.889,6.84,1.735,3.273,4.606],\"type\":\"scatter\"},{\"fill\":\"toself\",\"fillcolor\":\"rgba(239, 85, 59, 0.2)\",\"hoverinfo\":\"skip\",\"line\":{\"color\":\"rgba(255,255,255,0)\"},\"showlegend\":false,\"x\":[1,2,3,4,5,6,7,8,9,9,8,7,6,5,4,3,2,1],\"y\":[8.332,8.304,8.035,7.2860000000000005,7.203,7.303,2.391,4.511,9.212,0.0,2.035,1.0790000000000002,6.377,6.575,6.38,4.449,5.83,3.962],\"type\":\"scatter\"},{\"line\":{\"color\":\"#00CC96\"},\"mode\":\"lines\",\"name\":\"evil\",\"showlegend\":true,\"x\":[1,2,3,4,5,6,7,8,9],\"y\":[5.559,1.514,3.8,2.294,4.118,5.469,3.057,5.853,5.029],\"type\":\"scatter\"},{\"fill\":\"toself\",\"fillcolor\":\"rgba(0, 204, 150, 0.2)\",\"hoverinfo\":\"skip\",\"line\":{\"color\":\"rgba(255,255,255,0)\"},\"showlegend\":false,\"x\":[1,2,3,4,5,6,7,8,9,9,8,7,6,5,4,3,2,1],\"y\":[8.128,2.593,6.471,3.912,6.325,7.089,4.202,7.138999999999999,10.058,0.0,4.567,1.912,3.849,1.9110000000000005,0.6759999999999999,1.129,0.43500000000000005,2.99],\"type\":\"scatter\"}],                        {\"template\":{\"data\":{\"histogram2dcontour\":[{\"type\":\"histogram2dcontour\",\"colorbar\":{\"outlinewidth\":0,\"ticks\":\"\"},\"colorscale\":[[0.0,\"#0d0887\"],[0.1111111111111111,\"#46039f\"],[0.2222222222222222,\"#7201a8\"],[0.3333333333333333,\"#9c179e\"],[0.4444444444444444,\"#bd3786\"],[0.5555555555555556,\"#d8576b\"],[0.6666666666666666,\"#ed7953\"],[0.7777777777777778,\"#fb9f3a\"],[0.8888888888888888,\"#fdca26\"],[1.0,\"#f0f921\"]]}],\"choropleth\":[{\"type\":\"choropleth\",\"colorbar\":{\"outlinewidth\":0,\"ticks\":\"\"}}],\"histogram2d\":[{\"type\":\"histogram2d\",\"colorbar\":{\"outlinewidth\":0,\"ticks\":\"\"},\"colorscale\":[[0.0,\"#0d0887\"],[0.1111111111111111,\"#46039f\"],[0.2222222222222222,\"#7201a8\"],[0.3333333333333333,\"#9c179e\"],[0.4444444444444444,\"#bd3786\"],[0.5555555555555556,\"#d8576b\"],[0.6666666666666666,\"#ed7953\"],[0.7777777777777778,\"#fb9f3a\"],[0.8888888888888888,\"#fdca26\"],[1.0,\"#f0f921\"]]}],\"heatmap\":[{\"type\":\"heatmap\",\"colorbar\":{\"outlinewidth\":0,\"ticks\":\"\"},\"colorscale\":[[0.0,\"#0d0887\"],[0.1111111111111111,\"#46039f\"],[0.2222222222222222,\"#7201a8\"],[0.3333333333333333,\"#9c179e\"],[0.4444444444444444,\"#bd3786\"],[0.5555555555555556,\"#d8576b\"],[0.6666666666666666,\"#ed7953\"],[0.7777777777777778,\"#fb9f3a\"],[0.8888888888888888,\"#fdca26\"],[1.0,\"#f0f921\"]]}],\"heatmapgl\":[{\"type\":\"heatmapgl\",\"colorbar\":{\"outlinewidth\":0,\"ticks\":\"\"},\"colorscale\":[[0.0,\"#0d0887\"],[0.1111111111111111,\"#46039f\"],[0.2222222222222222,\"#7201a8\"],[0.3333333333333333,\"#9c179e\"],[0.4444444444444444,\"#bd3786\"],[0.5555555555555556,\"#d8576b\"],[0.6666666666666666,\"#ed7953\"],[0.7777777777777778,\"#fb9f3a\"],[0.8888888888888888,\"#fdca26\"],[1.0,\"#f0f921\"]]}],\"contourcarpet\":[{\"type\":\"contourcarpet\",\"colorbar\":{\"outlinewidth\":0,\"ticks\":\"\"}}],\"contour\":[{\"type\":\"contour\",\"colorbar\":{\"outlinewidth\":0,\"ticks\":\"\"},\"colorscale\":[[0.0,\"#0d0887\"],[0.1111111111111111,\"#46039f\"],[0.2222222222222222,\"#7201a8\"],[0.3333333333333333,\"#9c179e\"],[0.4444444444444444,\"#bd3786\"],[0.5555555555555556,\"#d8576b\"],[0.6666666666666666,\"#ed7953\"],[0.7777777777777778,\"#fb9f3a\"],[0.8888888888888888,\"#fdca26\"],[1.0,\"#f0f921\"]]}],\"surface\":[{\"type\":\"surface\",\"colorbar\":{\"outlinewidth\":0,\"ticks\":\"\"},\"colorscale\":[[0.0,\"#0d0887\"],[0.1111111111111111,\"#46039f\"],[0.2222222222222222,\"#7201a8\"],[0.3333333333333333,\"#9c179e\"],[0.4444444444444444,\"#bd3786\"],[0.5555555555555556,\"#d8576b\"],[0.6666666666666666,\"#ed7953\"],[0.7777777777777778,\"#fb9f3a\"],[0.8888888888888888,\"#fdca26\"],[1.0,\"#f0f921\"]]}],\"mesh3d\":[{\"type\":\"mesh3d\",\"colorbar\":{\"outlinewidth\":0,\"ticks\":\"\"}}],\"scatter\":[{\"fillpattern\":{\"fillmode\":\"overlay\",\"size\":10,\"solidity\":0.2},\"type\":\"scatter\"}],\"parcoords\":[{\"type\":\"parcoords\",\"line\":{\"colorbar\":{\"outlinewidth\":0,\"ticks\":\"\"}}}],\"scatterpolargl\":[{\"type\":\"scatterpolargl\",\"marker\":{\"colorbar\":{\"outlinewidth\":0,\"ticks\":\"\"}}}],\"bar\":[{\"error_x\":{\"color\":\"#2a3f5f\"},\"error_y\":{\"color\":\"#2a3f5f\"},\"marker\":{\"line\":{\"color\":\"#E5ECF6\",\"width\":0.5},\"pattern\":{\"fillmode\":\"overlay\",\"size\":10,\"solidity\":0.2}},\"type\":\"bar\"}],\"scattergeo\":[{\"type\":\"scattergeo\",\"marker\":{\"colorbar\":{\"outlinewidth\":0,\"ticks\":\"\"}}}],\"scatterpolar\":[{\"type\":\"scatterpolar\",\"marker\":{\"colorbar\":{\"outlinewidth\":0,\"ticks\":\"\"}}}],\"histogram\":[{\"marker\":{\"pattern\":{\"fillmode\":\"overlay\",\"size\":10,\"solidity\":0.2}},\"type\":\"histogram\"}],\"scattergl\":[{\"type\":\"scattergl\",\"marker\":{\"colorbar\":{\"outlinewidth\":0,\"ticks\":\"\"}}}],\"scatter3d\":[{\"type\":\"scatter3d\",\"line\":{\"colorbar\":{\"outlinewidth\":0,\"ticks\":\"\"}},\"marker\":{\"colorbar\":{\"outlinewidth\":0,\"ticks\":\"\"}}}],\"scattermapbox\":[{\"type\":\"scattermapbox\",\"marker\":{\"colorbar\":{\"outlinewidth\":0,\"ticks\":\"\"}}}],\"scatterternary\":[{\"type\":\"scatterternary\",\"marker\":{\"colorbar\":{\"outlinewidth\":0,\"ticks\":\"\"}}}],\"scattercarpet\":[{\"type\":\"scattercarpet\",\"marker\":{\"colorbar\":{\"outlinewidth\":0,\"ticks\":\"\"}}}],\"carpet\":[{\"aaxis\":{\"endlinecolor\":\"#2a3f5f\",\"gridcolor\":\"white\",\"linecolor\":\"white\",\"minorgridcolor\":\"white\",\"startlinecolor\":\"#2a3f5f\"},\"baxis\":{\"endlinecolor\":\"#2a3f5f\",\"gridcolor\":\"white\",\"linecolor\":\"white\",\"minorgridcolor\":\"white\",\"startlinecolor\":\"#2a3f5f\"},\"type\":\"carpet\"}],\"table\":[{\"cells\":{\"fill\":{\"color\":\"#EBF0F8\"},\"line\":{\"color\":\"white\"}},\"header\":{\"fill\":{\"color\":\"#C8D4E3\"},\"line\":{\"color\":\"white\"}},\"type\":\"table\"}],\"barpolar\":[{\"marker\":{\"line\":{\"color\":\"#E5ECF6\",\"width\":0.5},\"pattern\":{\"fillmode\":\"overlay\",\"size\":10,\"solidity\":0.2}},\"type\":\"barpolar\"}],\"pie\":[{\"automargin\":true,\"type\":\"pie\"}]},\"layout\":{\"autotypenumbers\":\"strict\",\"colorway\":[\"#636efa\",\"#EF553B\",\"#00cc96\",\"#ab63fa\",\"#FFA15A\",\"#19d3f3\",\"#FF6692\",\"#B6E880\",\"#FF97FF\",\"#FECB52\"],\"font\":{\"color\":\"#2a3f5f\"},\"hovermode\":\"closest\",\"hoverlabel\":{\"align\":\"left\"},\"paper_bgcolor\":\"white\",\"plot_bgcolor\":\"#E5ECF6\",\"polar\":{\"bgcolor\":\"#E5ECF6\",\"angularaxis\":{\"gridcolor\":\"white\",\"linecolor\":\"white\",\"ticks\":\"\"},\"radialaxis\":{\"gridcolor\":\"white\",\"linecolor\":\"white\",\"ticks\":\"\"}},\"ternary\":{\"bgcolor\":\"#E5ECF6\",\"aaxis\":{\"gridcolor\":\"white\",\"linecolor\":\"white\",\"ticks\":\"\"},\"baxis\":{\"gridcolor\":\"white\",\"linecolor\":\"white\",\"ticks\":\"\"},\"caxis\":{\"gridcolor\":\"white\",\"linecolor\":\"white\",\"ticks\":\"\"}},\"coloraxis\":{\"colorbar\":{\"outlinewidth\":0,\"ticks\":\"\"}},\"colorscale\":{\"sequential\":[[0.0,\"#0d0887\"],[0.1111111111111111,\"#46039f\"],[0.2222222222222222,\"#7201a8\"],[0.3333333333333333,\"#9c179e\"],[0.4444444444444444,\"#bd3786\"],[0.5555555555555556,\"#d8576b\"],[0.6666666666666666,\"#ed7953\"],[0.7777777777777778,\"#fb9f3a\"],[0.8888888888888888,\"#fdca26\"],[1.0,\"#f0f921\"]],\"sequentialminus\":[[0.0,\"#0d0887\"],[0.1111111111111111,\"#46039f\"],[0.2222222222222222,\"#7201a8\"],[0.3333333333333333,\"#9c179e\"],[0.4444444444444444,\"#bd3786\"],[0.5555555555555556,\"#d8576b\"],[0.6666666666666666,\"#ed7953\"],[0.7777777777777778,\"#fb9f3a\"],[0.8888888888888888,\"#fdca26\"],[1.0,\"#f0f921\"]],\"diverging\":[[0,\"#8e0152\"],[0.1,\"#c51b7d\"],[0.2,\"#de77ae\"],[0.3,\"#f1b6da\"],[0.4,\"#fde0ef\"],[0.5,\"#f7f7f7\"],[0.6,\"#e6f5d0\"],[0.7,\"#b8e186\"],[0.8,\"#7fbc41\"],[0.9,\"#4d9221\"],[1,\"#276419\"]]},\"xaxis\":{\"gridcolor\":\"white\",\"linecolor\":\"white\",\"ticks\":\"\",\"title\":{\"standoff\":15},\"zerolinecolor\":\"white\",\"automargin\":true,\"zerolinewidth\":2},\"yaxis\":{\"gridcolor\":\"white\",\"linecolor\":\"white\",\"ticks\":\"\",\"title\":{\"standoff\":15},\"zerolinecolor\":\"white\",\"automargin\":true,\"zerolinewidth\":2},\"scene\":{\"xaxis\":{\"backgroundcolor\":\"#E5ECF6\",\"gridcolor\":\"white\",\"linecolor\":\"white\",\"showbackground\":true,\"ticks\":\"\",\"zerolinecolor\":\"white\",\"gridwidth\":2},\"yaxis\":{\"backgroundcolor\":\"#E5ECF6\",\"gridcolor\":\"white\",\"linecolor\":\"white\",\"showbackground\":true,\"ticks\":\"\",\"zerolinecolor\":\"white\",\"gridwidth\":2},\"zaxis\":{\"backgroundcolor\":\"#E5ECF6\",\"gridcolor\":\"white\",\"linecolor\":\"white\",\"showbackground\":true,\"ticks\":\"\",\"zerolinecolor\":\"white\",\"gridwidth\":2}},\"shapedefaults\":{\"line\":{\"color\":\"#2a3f5f\"}},\"annotationdefaults\":{\"arrowcolor\":\"#2a3f5f\",\"arrowhead\":0,\"arrowwidth\":1},\"geo\":{\"bgcolor\":\"white\",\"landcolor\":\"#E5ECF6\",\"subunitcolor\":\"white\",\"showland\":true,\"showlakes\":true,\"lakecolor\":\"white\"},\"title\":{\"x\":0.05},\"mapbox\":{\"style\":\"light\"}}},\"xaxis\":{\"tickmode\":\"array\",\"tickvals\":[1,2,3,4,5,6,7,8,9],\"ticktext\":[\"AROU\",\"VAL\",\"DOM\",\"CNC\",\"IMAG\",\"FAM\",\"AOA\",\"SIZE\",\"GEND\"]}},                        {\"responsive\": true}                    ).then(function(){\n",
       "                            \n",
       "var gd = document.getElementById('bd246d79-078f-456a-8561-effaf04cb03b');\n",
       "var x = new MutationObserver(function (mutations, observer) {{\n",
       "        var display = window.getComputedStyle(gd).display;\n",
       "        if (!display || display === 'none') {{\n",
       "            console.log([gd, 'removed!']);\n",
       "            Plotly.purge(gd);\n",
       "            observer.disconnect();\n",
       "        }}\n",
       "}});\n",
       "\n",
       "// Listen for the removal of the full notebook cells\n",
       "var notebookContainer = gd.closest('#notebook-container');\n",
       "if (notebookContainer) {{\n",
       "    x.observe(notebookContainer, {childList: true});\n",
       "}}\n",
       "\n",
       "// Listen for the clearing of the current output cell\n",
       "var outputEl = gd.closest('.output');\n",
       "if (outputEl) {{\n",
       "    x.observe(outputEl, {childList: true});\n",
       "}}\n",
       "\n",
       "                        })                };                });            </script>        </div>"
      ]
     },
     "metadata": {},
     "output_type": "display_data"
    }
   ],
   "source": [
    "viz_GlasgowR(['snake','dog','evil'], df)"
   ]
  },
  {
   "cell_type": "code",
   "execution_count": null,
   "metadata": {},
   "outputs": [],
   "source": []
  },
  {
   "cell_type": "markdown",
   "metadata": {},
   "source": [
    "----\n",
    "# Factor Analysis\n",
    "Based on the https://towardsdatascience.com/factor-analysis-a-complete-tutorial-1b7621890e42.\n",
    "> It is not a detailed tutorial.    \n",
    "\n",
    "This tutorial brings more reference on factor analysis calculation: https://medium.com/@hongwy1128/intro-guide-to-factor-analysis-python-84dd0b0fd729"
   ]
  },
  {
   "cell_type": "code",
   "execution_count": 125,
   "metadata": {},
   "outputs": [],
   "source": [
    "from factor_analyzer import FactorAnalyzer"
   ]
  },
  {
   "cell_type": "code",
   "execution_count": 128,
   "metadata": {},
   "outputs": [],
   "source": [
    "## Selecting a subset of the original dataframe with only the columns of interest:\n",
    "# x = glasgow[interest]"
   ]
  },
  {
   "cell_type": "code",
   "execution_count": 129,
   "metadata": {},
   "outputs": [
    {
     "data": {
      "text/html": [
       "<style>#sk-container-id-2 {color: black;}#sk-container-id-2 pre{padding: 0;}#sk-container-id-2 div.sk-toggleable {background-color: white;}#sk-container-id-2 label.sk-toggleable__label {cursor: pointer;display: block;width: 100%;margin-bottom: 0;padding: 0.3em;box-sizing: border-box;text-align: center;}#sk-container-id-2 label.sk-toggleable__label-arrow:before {content: \"▸\";float: left;margin-right: 0.25em;color: #696969;}#sk-container-id-2 label.sk-toggleable__label-arrow:hover:before {color: black;}#sk-container-id-2 div.sk-estimator:hover label.sk-toggleable__label-arrow:before {color: black;}#sk-container-id-2 div.sk-toggleable__content {max-height: 0;max-width: 0;overflow: hidden;text-align: left;background-color: #f0f8ff;}#sk-container-id-2 div.sk-toggleable__content pre {margin: 0.2em;color: black;border-radius: 0.25em;background-color: #f0f8ff;}#sk-container-id-2 input.sk-toggleable__control:checked~div.sk-toggleable__content {max-height: 200px;max-width: 100%;overflow: auto;}#sk-container-id-2 input.sk-toggleable__control:checked~label.sk-toggleable__label-arrow:before {content: \"▾\";}#sk-container-id-2 div.sk-estimator input.sk-toggleable__control:checked~label.sk-toggleable__label {background-color: #d4ebff;}#sk-container-id-2 div.sk-label input.sk-toggleable__control:checked~label.sk-toggleable__label {background-color: #d4ebff;}#sk-container-id-2 input.sk-hidden--visually {border: 0;clip: rect(1px 1px 1px 1px);clip: rect(1px, 1px, 1px, 1px);height: 1px;margin: -1px;overflow: hidden;padding: 0;position: absolute;width: 1px;}#sk-container-id-2 div.sk-estimator {font-family: monospace;background-color: #f0f8ff;border: 1px dotted black;border-radius: 0.25em;box-sizing: border-box;margin-bottom: 0.5em;}#sk-container-id-2 div.sk-estimator:hover {background-color: #d4ebff;}#sk-container-id-2 div.sk-parallel-item::after {content: \"\";width: 100%;border-bottom: 1px solid gray;flex-grow: 1;}#sk-container-id-2 div.sk-label:hover label.sk-toggleable__label {background-color: #d4ebff;}#sk-container-id-2 div.sk-serial::before {content: \"\";position: absolute;border-left: 1px solid gray;box-sizing: border-box;top: 0;bottom: 0;left: 50%;z-index: 0;}#sk-container-id-2 div.sk-serial {display: flex;flex-direction: column;align-items: center;background-color: white;padding-right: 0.2em;padding-left: 0.2em;position: relative;}#sk-container-id-2 div.sk-item {position: relative;z-index: 1;}#sk-container-id-2 div.sk-parallel {display: flex;align-items: stretch;justify-content: center;background-color: white;position: relative;}#sk-container-id-2 div.sk-item::before, #sk-container-id-2 div.sk-parallel-item::before {content: \"\";position: absolute;border-left: 1px solid gray;box-sizing: border-box;top: 0;bottom: 0;left: 50%;z-index: -1;}#sk-container-id-2 div.sk-parallel-item {display: flex;flex-direction: column;z-index: 1;position: relative;background-color: white;}#sk-container-id-2 div.sk-parallel-item:first-child::after {align-self: flex-end;width: 50%;}#sk-container-id-2 div.sk-parallel-item:last-child::after {align-self: flex-start;width: 50%;}#sk-container-id-2 div.sk-parallel-item:only-child::after {width: 0;}#sk-container-id-2 div.sk-dashed-wrapped {border: 1px dashed gray;margin: 0 0.4em 0.5em 0.4em;box-sizing: border-box;padding-bottom: 0.4em;background-color: white;}#sk-container-id-2 div.sk-label label {font-family: monospace;font-weight: bold;display: inline-block;line-height: 1.2em;}#sk-container-id-2 div.sk-label-container {text-align: center;}#sk-container-id-2 div.sk-container {/* jupyter's `normalize.less` sets `[hidden] { display: none; }` but bootstrap.min.css set `[hidden] { display: none !important; }` so we also need the `!important` here to be able to override the default hidden behavior on the sphinx rendered scikit-learn.org. See: https://github.com/scikit-learn/scikit-learn/issues/21755 */display: inline-block !important;position: relative;}#sk-container-id-2 div.sk-text-repr-fallback {display: none;}</style><div id=\"sk-container-id-2\" class=\"sk-top-container\"><div class=\"sk-text-repr-fallback\"><pre>FactorAnalyzer(rotation_kwargs={})</pre><b>In a Jupyter environment, please rerun this cell to show the HTML representation or trust the notebook. <br />On GitHub, the HTML representation is unable to render, please try loading this page with nbviewer.org.</b></div><div class=\"sk-container\" hidden><div class=\"sk-item\"><div class=\"sk-estimator sk-toggleable\"><input class=\"sk-toggleable__control sk-hidden--visually\" id=\"sk-estimator-id-2\" type=\"checkbox\" checked><label for=\"sk-estimator-id-2\" class=\"sk-toggleable__label sk-toggleable__label-arrow\">FactorAnalyzer</label><div class=\"sk-toggleable__content\"><pre>FactorAnalyzer(rotation_kwargs={})</pre></div></div></div></div></div>"
      ],
      "text/plain": [
       "FactorAnalyzer(rotation_kwargs={})"
      ]
     },
     "execution_count": 129,
     "metadata": {},
     "output_type": "execute_result"
    }
   ],
   "source": [
    "## Creating the estimator (Factor analyzer)\n",
    "fa = FactorAnalyzer()\n",
    "fa.fit(df_M_VAR)"
   ]
  },
  {
   "cell_type": "code",
   "execution_count": 130,
   "metadata": {},
   "outputs": [
    {
     "data": {
      "text/plain": [
       "array([3.92784384, 2.84816134, 2.10964093, 1.68467435, 1.03936101,\n",
       "       0.93764992, 0.86865391, 0.77786002, 0.72176299, 0.67457213,\n",
       "       0.54129513, 0.45781267, 0.39350535, 0.32176135, 0.28372546,\n",
       "       0.18054323, 0.16747098, 0.06370539])"
      ]
     },
     "execution_count": 130,
     "metadata": {},
     "output_type": "execute_result"
    }
   ],
   "source": [
    "#Get Eigen values and plot them\n",
    "ev, v = fa.get_eigenvalues()\n",
    "ev"
   ]
  },
  {
   "cell_type": "code",
   "execution_count": 131,
   "metadata": {},
   "outputs": [
    {
     "data": {
      "text/plain": [
       "[<matplotlib.lines.Line2D at 0x7ff9b919d460>]"
      ]
     },
     "execution_count": 131,
     "metadata": {},
     "output_type": "execute_result"
    },
    {
     "data": {
      "image/png": "[encoded data removed]",
      "text/plain": [
       "<Figure size 640x480 with 1 Axes>"
      ]
     },
     "metadata": {},
     "output_type": "display_data"
    }
   ],
   "source": [
    "plt.plot(range(1,x.shape[1]+1),ev)"
   ]
  },
  {
   "cell_type": "code",
   "execution_count": null,
   "metadata": {},
   "outputs": [],
   "source": []
  },
  {
   "cell_type": "markdown",
   "metadata": {},
   "source": [
    "### Choosing two factors and analyzing their structure:"
   ]
  },
  {
   "cell_type": "markdown",
   "metadata": {},
   "source": [
    "> Choosing 2 factors (> than 2).\n",
    ">> Although I would like to have just 2 -> objective and subjective."
   ]
  },
  {
   "cell_type": "code",
   "execution_count": 143,
   "metadata": {},
   "outputs": [
    {
     "name": "stdout",
     "output_type": "stream",
     "text": [
      "[[ 3.99905088e-01  4.18332233e-01]\n",
      " [-2.12325844e-02  5.43898573e-01]\n",
      " [ 1.73425159e-02  4.61733650e-01]\n",
      " [-8.55699122e-01 -1.94911623e-02]\n",
      " [-7.81979943e-01  1.23029294e-01]\n",
      " [-1.49188514e-01  7.74084648e-01]\n",
      " [ 4.65936886e-01 -5.78907766e-01]\n",
      " [ 5.72774683e-01  1.48977395e-01]\n",
      " [-1.05214166e-02 -2.83685524e-01]\n",
      " [ 1.42075527e-01 -1.50266501e-01]\n",
      " [ 2.29292758e-01 -1.60488990e-03]\n",
      " [ 3.80346533e-01  3.48026725e-04]\n",
      " [ 6.32691284e-01 -3.27708515e-02]\n",
      " [ 7.12392256e-01 -1.92644455e-01]\n",
      " [ 3.36432553e-02 -7.53611650e-01]\n",
      " [ 4.94553251e-02 -2.75675024e-01]\n",
      " [-4.11833656e-02 -1.22377342e-01]\n",
      " [ 2.20154181e-01 -1.28581200e-02]]\n"
     ]
    }
   ],
   "source": [
    "fa = FactorAnalyzer(2, rotation='varimax')\n",
    "fa.fit(df_M_VAR)\n",
    "loads = fa.loadings_\n",
    "print(loads)"
   ]
  },
  {
   "cell_type": "code",
   "execution_count": null,
   "metadata": {},
   "outputs": [],
   "source": []
  },
  {
   "cell_type": "markdown",
   "metadata": {},
   "source": [
    "### Analyzing the factor structure:"
   ]
  },
  {
   "cell_type": "code",
   "execution_count": 144,
   "metadata": {},
   "outputs": [],
   "source": [
    "def highlight_high_values(val):\n",
    "    ''' Highlights values higher or lower than 0.5. Must be applied as a map in a Pandas.DataFrame style.\n",
    "    '''\n",
    "    color = 'background-color: yellow' if ((val > 0.5) or (val < -0.5)) else ''\n",
    "    return color"
   ]
  },
  {
   "cell_type": "code",
   "execution_count": 145,
   "metadata": {},
   "outputs": [],
   "source": [
    "## Creating a dataframe with the loading values and column names:\n",
    "factors = pd.DataFrame(fa.loadings_, columns=['Factor 1','Factor 2'], index=[df_M_VAR.columns])"
   ]
  },
  {
   "cell_type": "code",
   "execution_count": 146,
   "metadata": {},
   "outputs": [
    {
     "data": {
      "text/html": [
       "<style type=\"text/css\">\n",
       "#T_1ab71_row1_col1, #T_1ab71_row3_col0, #T_1ab71_row4_col0, #T_1ab71_row5_col1, #T_1ab71_row6_col1, #T_1ab71_row7_col0, #T_1ab71_row12_col0, #T_1ab71_row13_col0, #T_1ab71_row14_col1 {\n",
       "  background-color: yellow;\n",
       "}\n",
       "</style>\n",
       "<table id=\"T_1ab71\">\n",
       "  <thead>\n",
       "    <tr>\n",
       "      <th class=\"blank level0\" >&nbsp;</th>\n",
       "      <th id=\"T_1ab71_level0_col0\" class=\"col_heading level0 col0\" >Factor 1</th>\n",
       "      <th id=\"T_1ab71_level0_col1\" class=\"col_heading level0 col1\" >Factor 2</th>\n",
       "    </tr>\n",
       "  </thead>\n",
       "  <tbody>\n",
       "    <tr>\n",
       "      <th id=\"T_1ab71_level0_row0\" class=\"row_heading level0 row0\" >AROU_M</th>\n",
       "      <td id=\"T_1ab71_row0_col0\" class=\"data row0 col0\" >0.399905</td>\n",
       "      <td id=\"T_1ab71_row0_col1\" class=\"data row0 col1\" >0.418332</td>\n",
       "    </tr>\n",
       "    <tr>\n",
       "      <th id=\"T_1ab71_level0_row1\" class=\"row_heading level0 row1\" >VAL_M</th>\n",
       "      <td id=\"T_1ab71_row1_col0\" class=\"data row1 col0\" >-0.021233</td>\n",
       "      <td id=\"T_1ab71_row1_col1\" class=\"data row1 col1\" >0.543899</td>\n",
       "    </tr>\n",
       "    <tr>\n",
       "      <th id=\"T_1ab71_level0_row2\" class=\"row_heading level0 row2\" >DOM_M</th>\n",
       "      <td id=\"T_1ab71_row2_col0\" class=\"data row2 col0\" >0.017343</td>\n",
       "      <td id=\"T_1ab71_row2_col1\" class=\"data row2 col1\" >0.461734</td>\n",
       "    </tr>\n",
       "    <tr>\n",
       "      <th id=\"T_1ab71_level0_row3\" class=\"row_heading level0 row3\" >CNC_M</th>\n",
       "      <td id=\"T_1ab71_row3_col0\" class=\"data row3 col0\" >-0.855699</td>\n",
       "      <td id=\"T_1ab71_row3_col1\" class=\"data row3 col1\" >-0.019491</td>\n",
       "    </tr>\n",
       "    <tr>\n",
       "      <th id=\"T_1ab71_level0_row4\" class=\"row_heading level0 row4\" >IMAG_M</th>\n",
       "      <td id=\"T_1ab71_row4_col0\" class=\"data row4 col0\" >-0.781980</td>\n",
       "      <td id=\"T_1ab71_row4_col1\" class=\"data row4 col1\" >0.123029</td>\n",
       "    </tr>\n",
       "    <tr>\n",
       "      <th id=\"T_1ab71_level0_row5\" class=\"row_heading level0 row5\" >FAM_M</th>\n",
       "      <td id=\"T_1ab71_row5_col0\" class=\"data row5 col0\" >-0.149189</td>\n",
       "      <td id=\"T_1ab71_row5_col1\" class=\"data row5 col1\" >0.774085</td>\n",
       "    </tr>\n",
       "    <tr>\n",
       "      <th id=\"T_1ab71_level0_row6\" class=\"row_heading level0 row6\" >AOA_M</th>\n",
       "      <td id=\"T_1ab71_row6_col0\" class=\"data row6 col0\" >0.465937</td>\n",
       "      <td id=\"T_1ab71_row6_col1\" class=\"data row6 col1\" >-0.578908</td>\n",
       "    </tr>\n",
       "    <tr>\n",
       "      <th id=\"T_1ab71_level0_row7\" class=\"row_heading level0 row7\" >SIZE_M</th>\n",
       "      <td id=\"T_1ab71_row7_col0\" class=\"data row7 col0\" >0.572775</td>\n",
       "      <td id=\"T_1ab71_row7_col1\" class=\"data row7 col1\" >0.148977</td>\n",
       "    </tr>\n",
       "    <tr>\n",
       "      <th id=\"T_1ab71_level0_row8\" class=\"row_heading level0 row8\" >GEND_M</th>\n",
       "      <td id=\"T_1ab71_row8_col0\" class=\"data row8 col0\" >-0.010521</td>\n",
       "      <td id=\"T_1ab71_row8_col1\" class=\"data row8 col1\" >-0.283686</td>\n",
       "    </tr>\n",
       "    <tr>\n",
       "      <th id=\"T_1ab71_level0_row9\" class=\"row_heading level0 row9\" >AROU_VAR</th>\n",
       "      <td id=\"T_1ab71_row9_col0\" class=\"data row9 col0\" >0.142076</td>\n",
       "      <td id=\"T_1ab71_row9_col1\" class=\"data row9 col1\" >-0.150267</td>\n",
       "    </tr>\n",
       "    <tr>\n",
       "      <th id=\"T_1ab71_level0_row10\" class=\"row_heading level0 row10\" >VAL_VAR</th>\n",
       "      <td id=\"T_1ab71_row10_col0\" class=\"data row10 col0\" >0.229293</td>\n",
       "      <td id=\"T_1ab71_row10_col1\" class=\"data row10 col1\" >-0.001605</td>\n",
       "    </tr>\n",
       "    <tr>\n",
       "      <th id=\"T_1ab71_level0_row11\" class=\"row_heading level0 row11\" >DOM_VAR</th>\n",
       "      <td id=\"T_1ab71_row11_col0\" class=\"data row11 col0\" >0.380347</td>\n",
       "      <td id=\"T_1ab71_row11_col1\" class=\"data row11 col1\" >0.000348</td>\n",
       "    </tr>\n",
       "    <tr>\n",
       "      <th id=\"T_1ab71_level0_row12\" class=\"row_heading level0 row12\" >CNC_VAR</th>\n",
       "      <td id=\"T_1ab71_row12_col0\" class=\"data row12 col0\" >0.632691</td>\n",
       "      <td id=\"T_1ab71_row12_col1\" class=\"data row12 col1\" >-0.032771</td>\n",
       "    </tr>\n",
       "    <tr>\n",
       "      <th id=\"T_1ab71_level0_row13\" class=\"row_heading level0 row13\" >IMAG_VAR</th>\n",
       "      <td id=\"T_1ab71_row13_col0\" class=\"data row13 col0\" >0.712392</td>\n",
       "      <td id=\"T_1ab71_row13_col1\" class=\"data row13 col1\" >-0.192644</td>\n",
       "    </tr>\n",
       "    <tr>\n",
       "      <th id=\"T_1ab71_level0_row14\" class=\"row_heading level0 row14\" >FAM_VAR</th>\n",
       "      <td id=\"T_1ab71_row14_col0\" class=\"data row14 col0\" >0.033643</td>\n",
       "      <td id=\"T_1ab71_row14_col1\" class=\"data row14 col1\" >-0.753612</td>\n",
       "    </tr>\n",
       "    <tr>\n",
       "      <th id=\"T_1ab71_level0_row15\" class=\"row_heading level0 row15\" >AOA_VAR</th>\n",
       "      <td id=\"T_1ab71_row15_col0\" class=\"data row15 col0\" >0.049455</td>\n",
       "      <td id=\"T_1ab71_row15_col1\" class=\"data row15 col1\" >-0.275675</td>\n",
       "    </tr>\n",
       "    <tr>\n",
       "      <th id=\"T_1ab71_level0_row16\" class=\"row_heading level0 row16\" >SIZE_VAR</th>\n",
       "      <td id=\"T_1ab71_row16_col0\" class=\"data row16 col0\" >-0.041183</td>\n",
       "      <td id=\"T_1ab71_row16_col1\" class=\"data row16 col1\" >-0.122377</td>\n",
       "    </tr>\n",
       "    <tr>\n",
       "      <th id=\"T_1ab71_level0_row17\" class=\"row_heading level0 row17\" >GEND_VAR</th>\n",
       "      <td id=\"T_1ab71_row17_col0\" class=\"data row17 col0\" >0.220154</td>\n",
       "      <td id=\"T_1ab71_row17_col1\" class=\"data row17 col1\" >-0.012858</td>\n",
       "    </tr>\n",
       "  </tbody>\n",
       "</table>\n"
      ],
      "text/plain": [
       "<pandas.io.formats.style.Styler at 0x7ff9b1792220>"
      ]
     },
     "execution_count": 146,
     "metadata": {},
     "output_type": "execute_result"
    }
   ],
   "source": [
    "factors.style.applymap(highlight_high_values)"
   ]
  },
  {
   "cell_type": "code",
   "execution_count": null,
   "metadata": {},
   "outputs": [],
   "source": []
  },
  {
   "cell_type": "markdown",
   "metadata": {},
   "source": [
    "----\n",
    "### Discussion regarding Factor Analysis:\n",
    "- As expected to, it seems **Factor 1** may relate to subjectivity:  \n",
    "> It is negative related to concreteness, i.e., it relates to abstracteness.  \n",
    "> The same happens to imageability, i.e., how ones can easily imagine or picture the concept.  \n",
    ">> Variance of both attributes relates to this factor. It may indicate there's no consense on the concreteness and imageability of such terms. Theoretically, it sustains the subjectivity aspect."
   ]
  },
  {
   "cell_type": "code",
   "execution_count": null,
   "metadata": {},
   "outputs": [],
   "source": []
  },
  {
   "cell_type": "markdown",
   "metadata": {},
   "source": [
    "## Evaluating the factors through Cronbach alpha measurement:"
   ]
  },
  {
   "cell_type": "code",
   "execution_count": 147,
   "metadata": {},
   "outputs": [],
   "source": [
    "import pingouin as pg"
   ]
  },
  {
   "cell_type": "code",
   "execution_count": 148,
   "metadata": {},
   "outputs": [],
   "source": [
    "#Create the factors\n",
    "factor1 = df[['CNC_M', 'IMAG_M', 'SIZE_M', 'CNC_VAR', 'IMAG_VAR']]\n",
    "factor2 = df[['VAL_M', 'FAM_M', 'AOA_M', 'FAM_VAR']]"
   ]
  },
  {
   "cell_type": "code",
   "execution_count": 150,
   "metadata": {},
   "outputs": [
    {
     "name": "stdout",
     "output_type": "stream",
     "text": [
      "(-0.7055670184905233, array([-0.778, -0.636])) (-1.0011718762809991, array([-1.089, -0.917]))\n"
     ]
    }
   ],
   "source": [
    "#Get cronbach alpha\n",
    "factor1_alpha = pg.cronbach_alpha(factor1)\n",
    "factor2_alpha = pg.cronbach_alpha(factor2)\n",
    "print(factor1_alpha, factor2_alpha)"
   ]
  },
  {
   "cell_type": "code",
   "execution_count": null,
   "metadata": {},
   "outputs": [],
   "source": []
  },
  {
   "cell_type": "markdown",
   "metadata": {},
   "source": [
    "Cronbach alpha was negative, which means this factor shouldn't be used.  \n",
    "However, it would be a naive interpretation, since in fact such variables are theoretically sustained. If this factor were part of a test, it would be recommendable to change their structure. In this case, it seems affordable to keep them.  \n",
    "\n",
    "More on this can be found at: https://stats.stackexchange.com/questions/220384/cfa-negative-factor-loadings"
   ]
  },
  {
   "cell_type": "code",
   "execution_count": null,
   "metadata": {},
   "outputs": [],
   "source": []
  }
 ],
 "metadata": {
  "hide_input": false,
  "kernelspec": {
   "display_name": "phd",
   "language": "python",
   "name": "phd"
  },
  "language_info": {
   "codemirror_mode": {
    "name": "ipython",
    "version": 3
   },
   "file_extension": ".py",
   "mimetype": "text/x-python",
   "name": "python",
   "nbconvert_exporter": "python",
   "pygments_lexer": "ipython3",
   "version": "3.9.16"
  },
  "toc": {
   "base_numbering": 1,
   "nav_menu": {},
   "number_sections": true,
   "sideBar": true,
   "skip_h1_title": true,
   "title_cell": "Summary",
   "title_sidebar": "Contents",
   "toc_cell": true,
   "toc_position": {
    "height": "calc(100% - 180px)",
    "left": "10px",
    "top": "150px",
    "width": "300.15px"
   },
   "toc_section_display": true,
   "toc_window_display": false
  },
  "toc-autonumbering": false,
  "toc-showcode": false,
  "toc-showmarkdowntxt": false,
  "varInspector": {
   "cols": {
    "lenName": 16,
    "lenType": 16,
    "lenVar": 40
   },
   "kernels_config": {
    "python": {
     "delete_cmd_postfix": "",
     "delete_cmd_prefix": "del ",
     "library": "var_list.py",
     "varRefreshCmd": "print(var_dic_list())"
    },
    "r": {
     "delete_cmd_postfix": ") ",
     "delete_cmd_prefix": "rm(",
     "library": "var_list.r",
     "varRefreshCmd": "cat(var_dic_list()) "
    }
   },
   "position": {
    "height": "498.85px",
    "left": "651.8px",
    "right": "20px",
    "top": "56px",
    "width": "715px"
   },
   "types_to_exclude": [
    "module",
    "function",
    "builtin_function_or_method",
    "instance",
    "_Feature"
   ],
   "window_display": false
  }
 },
 "nbformat": 4,
 "nbformat_minor": 4
}
